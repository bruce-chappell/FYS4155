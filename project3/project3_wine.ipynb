{
 "cells": [
  {
   "cell_type": "code",
   "execution_count": 4,
   "metadata": {},
   "outputs": [],
   "source": [
    "import pandas as pd\n",
    "import numpy as np\n",
    "import seaborn as sns\n",
    "import matplotlib.pyplot as plt\n",
    "import os\n",
    "from sklearn.model_selection import train_test_split\n",
    "from sklearn.preprocessing import StandardScaler\n",
    "from sklearn.preprocessing import OneHotEncoder"
   ]
  },
  {
   "cell_type": "code",
   "execution_count": 5,
   "metadata": {},
   "outputs": [],
   "source": [
    "sns.set_style('dark', {'axes.grid':True, 'axes.edgecolor':'black', 'font.family':['serif'],'font.serif':['Roman'],\n",
    "                       'xticks.bottom':True, 'ytick.left':True})"
   ]
  },
  {
   "cell_type": "code",
   "execution_count": 6,
   "metadata": {},
   "outputs": [],
   "source": [
    "cwd = os.getcwd()\n",
    "filename = cwd + '/winequality-red.csv'\n",
    "data = pd.read_csv(filename)"
   ]
  },
  {
   "cell_type": "code",
   "execution_count": 7,
   "metadata": {},
   "outputs": [
    {
     "name": "stdout",
     "output_type": "stream",
     "text": [
      "Index(['fixed acidity', 'volatile acidity', 'citric acid', 'residual sugar',\n",
      "       'chlorides', 'free sulfur dioxide', 'total sulfur dioxide', 'density',\n",
      "       'pH', 'sulphates', 'alcohol', 'quality'],\n",
      "      dtype='object')\n"
     ]
    }
   ],
   "source": [
    "print(data.keys())"
   ]
  },
  {
   "cell_type": "code",
   "execution_count": 8,
   "metadata": {},
   "outputs": [
    {
     "name": "stdout",
     "output_type": "stream",
     "text": [
      "Null values: \n"
     ]
    },
    {
     "data": {
      "text/plain": [
       "False"
      ]
     },
     "execution_count": 8,
     "metadata": {},
     "output_type": "execute_result"
    }
   ],
   "source": [
    "# check if we have null values\n",
    "print('Null values: ')\n",
    "data.isnull().values.any()"
   ]
  },
  {
   "cell_type": "code",
   "execution_count": 9,
   "metadata": {},
   "outputs": [
    {
     "name": "stdout",
     "output_type": "stream",
     "text": [
      "These are the observed values for quality:\n",
      "5    681\n",
      "6    638\n",
      "7    199\n",
      "4     53\n",
      "8     18\n",
      "3     10\n",
      "Name: quality, dtype: int64\n"
     ]
    }
   ],
   "source": [
    "values_counts=data['quality'].value_counts()\n",
    "print(\"These are the observed values for \" + 'quality' + \":\")\n",
    "print(values_counts)"
   ]
  },
  {
   "cell_type": "code",
   "execution_count": 10,
   "metadata": {},
   "outputs": [
    {
     "data": {
      "text/html": [
       "<div>\n",
       "<style scoped>\n",
       "    .dataframe tbody tr th:only-of-type {\n",
       "        vertical-align: middle;\n",
       "    }\n",
       "\n",
       "    .dataframe tbody tr th {\n",
       "        vertical-align: top;\n",
       "    }\n",
       "\n",
       "    .dataframe thead th {\n",
       "        text-align: right;\n",
       "    }\n",
       "</style>\n",
       "<table border=\"1\" class=\"dataframe\">\n",
       "  <thead>\n",
       "    <tr style=\"text-align: right;\">\n",
       "      <th></th>\n",
       "      <th>fixed acidity</th>\n",
       "      <th>volatile acidity</th>\n",
       "      <th>citric acid</th>\n",
       "      <th>residual sugar</th>\n",
       "      <th>chlorides</th>\n",
       "      <th>free sulfur dioxide</th>\n",
       "      <th>total sulfur dioxide</th>\n",
       "      <th>density</th>\n",
       "      <th>pH</th>\n",
       "      <th>sulphates</th>\n",
       "      <th>alcohol</th>\n",
       "    </tr>\n",
       "  </thead>\n",
       "  <tbody>\n",
       "    <tr>\n",
       "      <td>count</td>\n",
       "      <td>1599.000000</td>\n",
       "      <td>1599.000000</td>\n",
       "      <td>1599.000000</td>\n",
       "      <td>1599.000000</td>\n",
       "      <td>1599.000000</td>\n",
       "      <td>1599.000000</td>\n",
       "      <td>1599.000000</td>\n",
       "      <td>1599.000000</td>\n",
       "      <td>1599.000000</td>\n",
       "      <td>1599.000000</td>\n",
       "      <td>1599.000000</td>\n",
       "    </tr>\n",
       "    <tr>\n",
       "      <td>mean</td>\n",
       "      <td>8.319637</td>\n",
       "      <td>0.527821</td>\n",
       "      <td>0.270976</td>\n",
       "      <td>2.538806</td>\n",
       "      <td>0.087467</td>\n",
       "      <td>15.874922</td>\n",
       "      <td>46.467792</td>\n",
       "      <td>0.996747</td>\n",
       "      <td>3.311113</td>\n",
       "      <td>0.658149</td>\n",
       "      <td>10.422983</td>\n",
       "    </tr>\n",
       "    <tr>\n",
       "      <td>std</td>\n",
       "      <td>1.741096</td>\n",
       "      <td>0.179060</td>\n",
       "      <td>0.194801</td>\n",
       "      <td>1.409928</td>\n",
       "      <td>0.047065</td>\n",
       "      <td>10.460157</td>\n",
       "      <td>32.895324</td>\n",
       "      <td>0.001887</td>\n",
       "      <td>0.154386</td>\n",
       "      <td>0.169507</td>\n",
       "      <td>1.065668</td>\n",
       "    </tr>\n",
       "    <tr>\n",
       "      <td>min</td>\n",
       "      <td>4.600000</td>\n",
       "      <td>0.120000</td>\n",
       "      <td>0.000000</td>\n",
       "      <td>0.900000</td>\n",
       "      <td>0.012000</td>\n",
       "      <td>1.000000</td>\n",
       "      <td>6.000000</td>\n",
       "      <td>0.990070</td>\n",
       "      <td>2.740000</td>\n",
       "      <td>0.330000</td>\n",
       "      <td>8.400000</td>\n",
       "    </tr>\n",
       "    <tr>\n",
       "      <td>25%</td>\n",
       "      <td>7.100000</td>\n",
       "      <td>0.390000</td>\n",
       "      <td>0.090000</td>\n",
       "      <td>1.900000</td>\n",
       "      <td>0.070000</td>\n",
       "      <td>7.000000</td>\n",
       "      <td>22.000000</td>\n",
       "      <td>0.995600</td>\n",
       "      <td>3.210000</td>\n",
       "      <td>0.550000</td>\n",
       "      <td>9.500000</td>\n",
       "    </tr>\n",
       "    <tr>\n",
       "      <td>50%</td>\n",
       "      <td>7.900000</td>\n",
       "      <td>0.520000</td>\n",
       "      <td>0.260000</td>\n",
       "      <td>2.200000</td>\n",
       "      <td>0.079000</td>\n",
       "      <td>14.000000</td>\n",
       "      <td>38.000000</td>\n",
       "      <td>0.996750</td>\n",
       "      <td>3.310000</td>\n",
       "      <td>0.620000</td>\n",
       "      <td>10.200000</td>\n",
       "    </tr>\n",
       "    <tr>\n",
       "      <td>75%</td>\n",
       "      <td>9.200000</td>\n",
       "      <td>0.640000</td>\n",
       "      <td>0.420000</td>\n",
       "      <td>2.600000</td>\n",
       "      <td>0.090000</td>\n",
       "      <td>21.000000</td>\n",
       "      <td>62.000000</td>\n",
       "      <td>0.997835</td>\n",
       "      <td>3.400000</td>\n",
       "      <td>0.730000</td>\n",
       "      <td>11.100000</td>\n",
       "    </tr>\n",
       "    <tr>\n",
       "      <td>max</td>\n",
       "      <td>15.900000</td>\n",
       "      <td>1.580000</td>\n",
       "      <td>1.000000</td>\n",
       "      <td>15.500000</td>\n",
       "      <td>0.611000</td>\n",
       "      <td>72.000000</td>\n",
       "      <td>289.000000</td>\n",
       "      <td>1.003690</td>\n",
       "      <td>4.010000</td>\n",
       "      <td>2.000000</td>\n",
       "      <td>14.900000</td>\n",
       "    </tr>\n",
       "  </tbody>\n",
       "</table>\n",
       "</div>"
      ],
      "text/plain": [
       "       fixed acidity  volatile acidity  citric acid  residual sugar  \\\n",
       "count    1599.000000       1599.000000  1599.000000     1599.000000   \n",
       "mean        8.319637          0.527821     0.270976        2.538806   \n",
       "std         1.741096          0.179060     0.194801        1.409928   \n",
       "min         4.600000          0.120000     0.000000        0.900000   \n",
       "25%         7.100000          0.390000     0.090000        1.900000   \n",
       "50%         7.900000          0.520000     0.260000        2.200000   \n",
       "75%         9.200000          0.640000     0.420000        2.600000   \n",
       "max        15.900000          1.580000     1.000000       15.500000   \n",
       "\n",
       "         chlorides  free sulfur dioxide  total sulfur dioxide      density  \\\n",
       "count  1599.000000          1599.000000           1599.000000  1599.000000   \n",
       "mean      0.087467            15.874922             46.467792     0.996747   \n",
       "std       0.047065            10.460157             32.895324     0.001887   \n",
       "min       0.012000             1.000000              6.000000     0.990070   \n",
       "25%       0.070000             7.000000             22.000000     0.995600   \n",
       "50%       0.079000            14.000000             38.000000     0.996750   \n",
       "75%       0.090000            21.000000             62.000000     0.997835   \n",
       "max       0.611000            72.000000            289.000000     1.003690   \n",
       "\n",
       "                pH    sulphates      alcohol  \n",
       "count  1599.000000  1599.000000  1599.000000  \n",
       "mean      3.311113     0.658149    10.422983  \n",
       "std       0.154386     0.169507     1.065668  \n",
       "min       2.740000     0.330000     8.400000  \n",
       "25%       3.210000     0.550000     9.500000  \n",
       "50%       3.310000     0.620000    10.200000  \n",
       "75%       3.400000     0.730000    11.100000  \n",
       "max       4.010000     2.000000    14.900000  "
      ]
     },
     "execution_count": 10,
     "metadata": {},
     "output_type": "execute_result"
    }
   ],
   "source": [
    "# describe variables\n",
    "data.loc[:, data.columns != 'quality'].describe()"
   ]
  },
  {
   "cell_type": "code",
   "execution_count": 11,
   "metadata": {},
   "outputs": [
    {
     "data": {
      "image/png": "[encoded data removed]",
      "text/plain": [
       "<Figure size 720x504 with 1 Axes>"
      ]
     },
     "metadata": {},
     "output_type": "display_data"
    }
   ],
   "source": [
    "fig = plt.figure(figsize = (10,7))\n",
    "sns.countplot(x = 'quality', data = data)\n",
    "plt.xlabel('Wine Quality')\n",
    "plt.ylabel('Amount')\n",
    "plt.show()"
   ]
  },
  {
   "cell_type": "code",
   "execution_count": 22,
   "metadata": {},
   "outputs": [],
   "source": [
    "review = []\n",
    "for val in data['quality']:\n",
    "    if (val <5 and val>2):\n",
    "        review.append(0)\n",
    "    if (val>4 and val<7):\n",
    "        review.append(1)\n",
    "    if (val>6):\n",
    "        review.append(2)\n",
    "data['review'] = review\n",
    "data = data.drop(columns = ['quality'])"
   ]
  },
  {
   "cell_type": "code",
   "execution_count": 48,
   "metadata": {},
   "outputs": [
    {
     "data": {
      "image/png": "[encoded data removed]",
      "text/plain": [
       "<Figure size 720x504 with 1 Axes>"
      ]
     },
     "metadata": {},
     "output_type": "display_data"
    }
   ],
   "source": [
    "fig = plt.figure(figsize = (10,7))\n",
    "sns.countplot(x = 'review', data = data)\n",
    "plt.xlabel('Wine Quality')\n",
    "plt.xticks((0,1,2),['Bad', 'Moderate', 'Good'])\n",
    "plt.ylabel('Amount')\n",
    "plt.show()"
   ]
  },
  {
   "cell_type": "code",
   "execution_count": 24,
   "metadata": {},
   "outputs": [
    {
     "data": {
      "text/plain": [
       "(12, 0)"
      ]
     },
     "execution_count": 24,
     "metadata": {},
     "output_type": "execute_result"
    },
    {
     "data": {
      "image/png": "[encoded data removed]",
      "text/plain": [
       "<Figure size 1440x1008 with 2 Axes>"
      ]
     },
     "metadata": {},
     "output_type": "display_data"
    }
   ],
   "source": [
    "#corelation matrix.\n",
    "cor_mat= data.corr()\n",
    "mask = np.array(cor_mat)\n",
    "mask[np.tril_indices_from(mask)] = False\n",
    "fig, ax =plt.subplots(figsize = (20,14))\n",
    "sns.heatmap(data=cor_mat,mask=mask,square=True,annot=True,cbar=True, cmap = 'plasma')\n",
    "ax.set_ylim(12,0)\n"
   ]
  },
  {
   "cell_type": "code",
   "execution_count": 10,
   "metadata": {},
   "outputs": [],
   "source": [
    "predictors = ['fixed acidity', 'volatile acidity', 'citric acid', 'residual sugar', 'chlorides', 'free sulfur dioxide',\n",
    "             'total sulfur dioxide', 'density', 'pH', 'sulphates', 'alcohol']"
   ]
  },
  {
   "cell_type": "code",
   "execution_count": 25,
   "metadata": {},
   "outputs": [],
   "source": [
    "# test and training data\n",
    "X_data = data.drop(columns = ['review'])\n",
    "y_data = data.loc[:,'review']\n",
    "X_train, X_test, y_train, y_test = train_test_split(X_data, y_data, test_size = 0.2, random_state = 1)\n",
    "\n"
   ]
  },
  {
   "cell_type": "code",
   "execution_count": 26,
   "metadata": {},
   "outputs": [
    {
     "name": "stdout",
     "output_type": "stream",
     "text": [
      "Percent of each score in the training data\n",
      "1    0.817045\n",
      "2    0.144644\n",
      "0    0.038311\n",
      "Name: review, dtype: float64\n"
     ]
    }
   ],
   "source": [
    "print('Percent of each score in the training data')\n",
    "print(y_train.value_counts()/y_train.shape[0])"
   ]
  },
  {
   "cell_type": "code",
   "execution_count": null,
   "metadata": {},
   "outputs": [],
   "source": []
  },
  {
   "cell_type": "code",
   "execution_count": null,
   "metadata": {},
   "outputs": [],
   "source": []
  },
  {
   "cell_type": "code",
   "execution_count": null,
   "metadata": {},
   "outputs": [],
   "source": []
  },
  {
   "cell_type": "code",
   "execution_count": null,
   "metadata": {},
   "outputs": [],
   "source": []
  },
  {
   "cell_type": "code",
   "execution_count": 27,
   "metadata": {},
   "outputs": [
    {
     "name": "stdout",
     "output_type": "stream",
     "text": [
      "PC       % Variance\n",
      "1        94.5396 \n",
      "2        4.9213  \n",
      "3        0.2805  \n",
      "4        0.1574  \n",
      "5        0.0935  \n",
      "6        0.0036  \n",
      "7        0.002   \n",
      "8        0.001   \n",
      "9        0.0009  \n",
      "10       0.0001  \n",
      "11       0.0     \n"
     ]
    },
    {
     "data": {
      "image/png": "[encoded data removed]",
      "text/plain": [
       "<Figure size 720x504 with 1 Axes>"
      ]
     },
     "metadata": {},
     "output_type": "display_data"
    }
   ],
   "source": [
    "# PCA ANALYSIS\n",
    "from sklearn.decomposition import PCA\n",
    "\n",
    "pca100 = PCA()\n",
    "pca100_X_train = pca100.fit_transform(X_train)\n",
    "per_var = pca100.explained_variance_ratio_*100\n",
    "\n",
    "fmt = '{:<8} {:<8}'\n",
    "print(fmt.format('PC', '% Variance'))\n",
    "for i in range(len(per_var)):\n",
    "    print(fmt.format(i+1, np.round(per_var[i], decimals = 4)))\n",
    "\n",
    "fig, ax = plt.subplots(figsize=(10,7))\n",
    "sns.set(font_scale=1.5)\n",
    "sns.set_style('dark',{'axes.edgecolor': '.1','xtick.bottom': True,'ytick.left': True,'axes.grid':True,\n",
    "                      'grid.color':'white','font.family':['serif'],'font.serif':['serif']})\n",
    "ax.bar(x=range(1,len(per_var)+1),height=per_var)\n",
    "ax.set_ylabel(\"Percentage of Explained Variance\")\n",
    "ax.set_xlabel(\"Principal Component\")\n",
    "ax.minorticks_on()"
   ]
  },
  {
   "cell_type": "code",
   "execution_count": 28,
   "metadata": {},
   "outputs": [],
   "source": [
    "# change to numpy\n",
    "X_train = X_train.to_numpy()\n",
    "X_test = X_test.to_numpy()\n",
    "y_train = y_train.to_numpy()\n",
    "y_test = y_test.to_numpy()"
   ]
  },
  {
   "cell_type": "code",
   "execution_count": 29,
   "metadata": {},
   "outputs": [],
   "source": [
    "y_train = y_train.reshape(-1,1)\n",
    "y_test = y_test.reshape(-1,1)"
   ]
  },
  {
   "cell_type": "code",
   "execution_count": 30,
   "metadata": {},
   "outputs": [
    {
     "name": "stdout",
     "output_type": "stream",
     "text": [
      "[[0. 1. 0.]\n",
      " [0. 1. 0.]\n",
      " [0. 1. 0.]\n",
      " [0. 1. 0.]\n",
      " [0. 1. 0.]\n",
      " [0. 1. 0.]\n",
      " [0. 1. 0.]\n",
      " [0. 0. 1.]\n",
      " [0. 1. 0.]\n",
      " [0. 1. 0.]]\n",
      "(320, 3)\n",
      "(1279, 11)\n"
     ]
    }
   ],
   "source": [
    "# one hot encoding\n",
    "enc = OneHotEncoder(categories = 'auto')\n",
    "y_train_hot = enc.fit_transform(y_train).toarray()\n",
    "y_test_hot = enc.fit_transform(y_test).toarray()\n",
    "print(y_train_hot[:10])\n",
    "print(y_test_hot.shape)\n",
    "print(X_train.shape)"
   ]
  },
  {
   "cell_type": "code",
   "execution_count": 31,
   "metadata": {},
   "outputs": [],
   "source": [
    "# Scale Data\n",
    "trainScaler = StandardScaler()\n",
    "trainScaler.fit(X_train)\n",
    "X_train = trainScaler.transform(X_train)\n",
    "X_test = trainScaler.transform(X_test)"
   ]
  },
  {
   "cell_type": "code",
   "execution_count": 32,
   "metadata": {},
   "outputs": [
    {
     "name": "stdout",
     "output_type": "stream",
     "text": [
      "(1279, 3)\n"
     ]
    }
   ],
   "source": [
    "print(y_train_hot.shape)"
   ]
  },
  {
   "cell_type": "code",
   "execution_count": 33,
   "metadata": {},
   "outputs": [],
   "source": [
    "for i in range(y_train_hot.shape[0]):\n",
    "    if np.sum(y_train_hot[i]) != 1:\n",
    "        print(i)"
   ]
  },
  {
   "cell_type": "markdown",
   "metadata": {},
   "source": [
    "Data now ready for analysis"
   ]
  },
  {
   "cell_type": "markdown",
   "metadata": {},
   "source": [
    "# ANALYSIS"
   ]
  },
  {
   "cell_type": "code",
   "execution_count": 34,
   "metadata": {},
   "outputs": [],
   "source": [
    "from sklearn.neural_network import MLPClassifier\n",
    "from sklearn.ensemble import RandomForestClassifier\n",
    "from sklearn.tree import DecisionTreeClassifier\n",
    "from sklearn.neighbors import KNeighborsClassifier\n",
    "from sklearn.model_selection import KFold\n",
    "from sklearn.metrics import accuracy_score\n",
    "from sklearn.model_selection import GridSearchCV\n",
    "from sklearn.model_selection import RandomizedSearchCV\n",
    "import numpy as np"
   ]
  },
  {
   "cell_type": "code",
   "execution_count": null,
   "metadata": {},
   "outputs": [],
   "source": []
  },
  {
   "cell_type": "code",
   "execution_count": 35,
   "metadata": {},
   "outputs": [],
   "source": [
    "models = [RandomForestClassifier(random_state = 1), DecisionTreeClassifier(random_state = 1), \n",
    "          MLPClassifier(max_iter = 1000, random_state = 1), KNeighborsClassifier()]\n",
    "model_names = ['Random Forest', 'Decision Tree', 'Neural Network', 'K-Neighbors']"
   ]
  },
  {
   "cell_type": "code",
   "execution_count": 36,
   "metadata": {},
   "outputs": [
    {
     "name": "stderr",
     "output_type": "stream",
     "text": [
      "/Library/Frameworks/Python.framework/Versions/3.7/lib/python3.7/site-packages/sklearn/ensemble/forest.py:245: FutureWarning: The default value of n_estimators will change from 10 in version 0.20 to 100 in 0.22.\n",
      "  \"10 in version 0.20 to 100 in 0.22.\", FutureWarning)\n"
     ]
    },
    {
     "name": "stdout",
     "output_type": "stream",
     "text": [
      "Random Forest 0.85625 \n",
      "Decision Tree 0.815625\n",
      "Neural Network 0.828125\n",
      "K-Neighbors 0.846875\n"
     ]
    },
    {
     "name": "stderr",
     "output_type": "stream",
     "text": [
      "/Library/Frameworks/Python.framework/Versions/3.7/lib/python3.7/site-packages/sklearn/neural_network/multilayer_perceptron.py:566: ConvergenceWarning: Stochastic Optimizer: Maximum iterations (1000) reached and the optimization hasn't converged yet.\n",
      "  % self.max_iter, ConvergenceWarning)\n"
     ]
    }
   ],
   "source": [
    "acc = np.zeros_like(models)\n",
    "for i in range(len(models)):\n",
    "    solver = models[i]\n",
    "    solver.fit(X_train, y_train_hot)\n",
    "    predict = solver.predict(X_test)\n",
    "    acc[i] = accuracy_score(predict, y_test_hot)\n",
    "    print('{:<8} {:<8}'.format(model_names[i],acc[i]))"
   ]
  },
  {
   "cell_type": "markdown",
   "metadata": {},
   "source": [
    "# RANDOM FOREST"
   ]
  },
  {
   "cell_type": "code",
   "execution_count": 92,
   "metadata": {},
   "outputs": [],
   "source": [
    "n_estimators = [int(x) for x in np.linspace(100, 2000, 20)]\n",
    "max_features = ['auto', 'sqrt']\n",
    "max_depth = [int(x) for x in np.linspace(10, 110, 11)]\n",
    "min_samples_split = [2, 5, 10]\n",
    "min_samples_leaf = [1, 2, 4]\n",
    "bootstrap = [True, False]\n",
    "\n",
    "random_grid = {'n_estimators': n_estimators, 'max_features': max_features, 'max_depth': max_depth,\n",
    "               'min_samples_split': min_samples_split, 'min_samples_leaf': min_samples_leaf, 'bootstrap': bootstrap}"
   ]
  },
  {
   "cell_type": "code",
   "execution_count": 93,
   "metadata": {},
   "outputs": [
    {
     "name": "stdout",
     "output_type": "stream",
     "text": [
      "Fitting 3 folds for each of 40 candidates, totalling 120 fits\n",
      "[CV] n_estimators=1800, min_samples_split=10, min_samples_leaf=2, max_features=auto, max_depth=40, bootstrap=False \n"
     ]
    },
    {
     "name": "stderr",
     "output_type": "stream",
     "text": [
      "[Parallel(n_jobs=1)]: Using backend SequentialBackend with 1 concurrent workers.\n"
     ]
    },
    {
     "name": "stdout",
     "output_type": "stream",
     "text": [
      "[CV]  n_estimators=1800, min_samples_split=10, min_samples_leaf=2, max_features=auto, max_depth=40, bootstrap=False, total=   3.5s\n",
      "[CV] n_estimators=1800, min_samples_split=10, min_samples_leaf=2, max_features=auto, max_depth=40, bootstrap=False \n"
     ]
    },
    {
     "name": "stderr",
     "output_type": "stream",
     "text": [
      "[Parallel(n_jobs=1)]: Done   1 out of   1 | elapsed:    3.5s remaining:    0.0s\n"
     ]
    },
    {
     "name": "stdout",
     "output_type": "stream",
     "text": [
      "[CV]  n_estimators=1800, min_samples_split=10, min_samples_leaf=2, max_features=auto, max_depth=40, bootstrap=False, total=   3.4s\n",
      "[CV] n_estimators=1800, min_samples_split=10, min_samples_leaf=2, max_features=auto, max_depth=40, bootstrap=False \n",
      "[CV]  n_estimators=1800, min_samples_split=10, min_samples_leaf=2, max_features=auto, max_depth=40, bootstrap=False, total=   3.4s\n",
      "[CV] n_estimators=1600, min_samples_split=10, min_samples_leaf=1, max_features=sqrt, max_depth=10, bootstrap=True \n",
      "[CV]  n_estimators=1600, min_samples_split=10, min_samples_leaf=1, max_features=sqrt, max_depth=10, bootstrap=True, total=   2.8s\n",
      "[CV] n_estimators=1600, min_samples_split=10, min_samples_leaf=1, max_features=sqrt, max_depth=10, bootstrap=True \n",
      "[CV]  n_estimators=1600, min_samples_split=10, min_samples_leaf=1, max_features=sqrt, max_depth=10, bootstrap=True, total=   2.8s\n",
      "[CV] n_estimators=1600, min_samples_split=10, min_samples_leaf=1, max_features=sqrt, max_depth=10, bootstrap=True \n",
      "[CV]  n_estimators=1600, min_samples_split=10, min_samples_leaf=1, max_features=sqrt, max_depth=10, bootstrap=True, total=   2.8s\n",
      "[CV] n_estimators=100, min_samples_split=5, min_samples_leaf=1, max_features=auto, max_depth=10, bootstrap=False \n",
      "[CV]  n_estimators=100, min_samples_split=5, min_samples_leaf=1, max_features=auto, max_depth=10, bootstrap=False, total=   0.2s\n",
      "[CV] n_estimators=100, min_samples_split=5, min_samples_leaf=1, max_features=auto, max_depth=10, bootstrap=False \n",
      "[CV]  n_estimators=100, min_samples_split=5, min_samples_leaf=1, max_features=auto, max_depth=10, bootstrap=False, total=   0.2s\n",
      "[CV] n_estimators=100, min_samples_split=5, min_samples_leaf=1, max_features=auto, max_depth=10, bootstrap=False \n",
      "[CV]  n_estimators=100, min_samples_split=5, min_samples_leaf=1, max_features=auto, max_depth=10, bootstrap=False, total=   0.2s\n",
      "[CV] n_estimators=1300, min_samples_split=5, min_samples_leaf=4, max_features=auto, max_depth=40, bootstrap=False \n",
      "[CV]  n_estimators=1300, min_samples_split=5, min_samples_leaf=4, max_features=auto, max_depth=40, bootstrap=False, total=   2.4s\n",
      "[CV] n_estimators=1300, min_samples_split=5, min_samples_leaf=4, max_features=auto, max_depth=40, bootstrap=False \n",
      "[CV]  n_estimators=1300, min_samples_split=5, min_samples_leaf=4, max_features=auto, max_depth=40, bootstrap=False, total=   2.4s\n",
      "[CV] n_estimators=1300, min_samples_split=5, min_samples_leaf=4, max_features=auto, max_depth=40, bootstrap=False \n",
      "[CV]  n_estimators=1300, min_samples_split=5, min_samples_leaf=4, max_features=auto, max_depth=40, bootstrap=False, total=   2.5s\n",
      "[CV] n_estimators=600, min_samples_split=2, min_samples_leaf=1, max_features=sqrt, max_depth=30, bootstrap=True \n",
      "[CV]  n_estimators=600, min_samples_split=2, min_samples_leaf=1, max_features=sqrt, max_depth=30, bootstrap=True, total=   1.1s\n",
      "[CV] n_estimators=600, min_samples_split=2, min_samples_leaf=1, max_features=sqrt, max_depth=30, bootstrap=True \n",
      "[CV]  n_estimators=600, min_samples_split=2, min_samples_leaf=1, max_features=sqrt, max_depth=30, bootstrap=True, total=   1.1s\n",
      "[CV] n_estimators=600, min_samples_split=2, min_samples_leaf=1, max_features=sqrt, max_depth=30, bootstrap=True \n",
      "[CV]  n_estimators=600, min_samples_split=2, min_samples_leaf=1, max_features=sqrt, max_depth=30, bootstrap=True, total=   1.1s\n",
      "[CV] n_estimators=400, min_samples_split=2, min_samples_leaf=2, max_features=sqrt, max_depth=80, bootstrap=True \n",
      "[CV]  n_estimators=400, min_samples_split=2, min_samples_leaf=2, max_features=sqrt, max_depth=80, bootstrap=True, total=   0.7s\n",
      "[CV] n_estimators=400, min_samples_split=2, min_samples_leaf=2, max_features=sqrt, max_depth=80, bootstrap=True \n",
      "[CV]  n_estimators=400, min_samples_split=2, min_samples_leaf=2, max_features=sqrt, max_depth=80, bootstrap=True, total=   0.7s\n",
      "[CV] n_estimators=400, min_samples_split=2, min_samples_leaf=2, max_features=sqrt, max_depth=80, bootstrap=True \n",
      "[CV]  n_estimators=400, min_samples_split=2, min_samples_leaf=2, max_features=sqrt, max_depth=80, bootstrap=True, total=   0.7s\n",
      "[CV] n_estimators=1400, min_samples_split=2, min_samples_leaf=2, max_features=sqrt, max_depth=110, bootstrap=False \n",
      "[CV]  n_estimators=1400, min_samples_split=2, min_samples_leaf=2, max_features=sqrt, max_depth=110, bootstrap=False, total=   2.8s\n",
      "[CV] n_estimators=1400, min_samples_split=2, min_samples_leaf=2, max_features=sqrt, max_depth=110, bootstrap=False \n",
      "[CV]  n_estimators=1400, min_samples_split=2, min_samples_leaf=2, max_features=sqrt, max_depth=110, bootstrap=False, total=   2.7s\n",
      "[CV] n_estimators=1400, min_samples_split=2, min_samples_leaf=2, max_features=sqrt, max_depth=110, bootstrap=False \n",
      "[CV]  n_estimators=1400, min_samples_split=2, min_samples_leaf=2, max_features=sqrt, max_depth=110, bootstrap=False, total=   2.7s\n",
      "[CV] n_estimators=1600, min_samples_split=2, min_samples_leaf=1, max_features=auto, max_depth=90, bootstrap=True \n",
      "[CV]  n_estimators=1600, min_samples_split=2, min_samples_leaf=1, max_features=auto, max_depth=90, bootstrap=True, total=   2.9s\n",
      "[CV] n_estimators=1600, min_samples_split=2, min_samples_leaf=1, max_features=auto, max_depth=90, bootstrap=True \n",
      "[CV]  n_estimators=1600, min_samples_split=2, min_samples_leaf=1, max_features=auto, max_depth=90, bootstrap=True, total=   2.9s\n",
      "[CV] n_estimators=1600, min_samples_split=2, min_samples_leaf=1, max_features=auto, max_depth=90, bootstrap=True \n",
      "[CV]  n_estimators=1600, min_samples_split=2, min_samples_leaf=1, max_features=auto, max_depth=90, bootstrap=True, total=   2.9s\n",
      "[CV] n_estimators=1700, min_samples_split=2, min_samples_leaf=1, max_features=auto, max_depth=40, bootstrap=False \n",
      "[CV]  n_estimators=1700, min_samples_split=2, min_samples_leaf=1, max_features=auto, max_depth=40, bootstrap=False, total=   3.6s\n",
      "[CV] n_estimators=1700, min_samples_split=2, min_samples_leaf=1, max_features=auto, max_depth=40, bootstrap=False \n",
      "[CV]  n_estimators=1700, min_samples_split=2, min_samples_leaf=1, max_features=auto, max_depth=40, bootstrap=False, total=   3.3s\n",
      "[CV] n_estimators=1700, min_samples_split=2, min_samples_leaf=1, max_features=auto, max_depth=40, bootstrap=False \n",
      "[CV]  n_estimators=1700, min_samples_split=2, min_samples_leaf=1, max_features=auto, max_depth=40, bootstrap=False, total=   3.5s\n",
      "[CV] n_estimators=500, min_samples_split=5, min_samples_leaf=4, max_features=auto, max_depth=10, bootstrap=True \n",
      "[CV]  n_estimators=500, min_samples_split=5, min_samples_leaf=4, max_features=auto, max_depth=10, bootstrap=True, total=   0.8s\n",
      "[CV] n_estimators=500, min_samples_split=5, min_samples_leaf=4, max_features=auto, max_depth=10, bootstrap=True \n",
      "[CV]  n_estimators=500, min_samples_split=5, min_samples_leaf=4, max_features=auto, max_depth=10, bootstrap=True, total=   0.8s\n",
      "[CV] n_estimators=500, min_samples_split=5, min_samples_leaf=4, max_features=auto, max_depth=10, bootstrap=True \n",
      "[CV]  n_estimators=500, min_samples_split=5, min_samples_leaf=4, max_features=auto, max_depth=10, bootstrap=True, total=   0.8s\n",
      "[CV] n_estimators=600, min_samples_split=5, min_samples_leaf=2, max_features=sqrt, max_depth=10, bootstrap=False \n",
      "[CV]  n_estimators=600, min_samples_split=5, min_samples_leaf=2, max_features=sqrt, max_depth=10, bootstrap=False, total=   1.2s\n",
      "[CV] n_estimators=600, min_samples_split=5, min_samples_leaf=2, max_features=sqrt, max_depth=10, bootstrap=False \n",
      "[CV]  n_estimators=600, min_samples_split=5, min_samples_leaf=2, max_features=sqrt, max_depth=10, bootstrap=False, total=   1.1s\n",
      "[CV] n_estimators=600, min_samples_split=5, min_samples_leaf=2, max_features=sqrt, max_depth=10, bootstrap=False \n",
      "[CV]  n_estimators=600, min_samples_split=5, min_samples_leaf=2, max_features=sqrt, max_depth=10, bootstrap=False, total=   1.1s\n",
      "[CV] n_estimators=1200, min_samples_split=2, min_samples_leaf=1, max_features=sqrt, max_depth=110, bootstrap=False \n",
      "[CV]  n_estimators=1200, min_samples_split=2, min_samples_leaf=1, max_features=sqrt, max_depth=110, bootstrap=False, total=   2.5s\n",
      "[CV] n_estimators=1200, min_samples_split=2, min_samples_leaf=1, max_features=sqrt, max_depth=110, bootstrap=False \n",
      "[CV]  n_estimators=1200, min_samples_split=2, min_samples_leaf=1, max_features=sqrt, max_depth=110, bootstrap=False, total=   2.3s\n",
      "[CV] n_estimators=1200, min_samples_split=2, min_samples_leaf=1, max_features=sqrt, max_depth=110, bootstrap=False \n",
      "[CV]  n_estimators=1200, min_samples_split=2, min_samples_leaf=1, max_features=sqrt, max_depth=110, bootstrap=False, total=   2.5s\n",
      "[CV] n_estimators=1800, min_samples_split=5, min_samples_leaf=2, max_features=sqrt, max_depth=80, bootstrap=True \n",
      "[CV]  n_estimators=1800, min_samples_split=5, min_samples_leaf=2, max_features=sqrt, max_depth=80, bootstrap=True, total=   3.3s\n",
      "[CV] n_estimators=1800, min_samples_split=5, min_samples_leaf=2, max_features=sqrt, max_depth=80, bootstrap=True \n",
      "[CV]  n_estimators=1800, min_samples_split=5, min_samples_leaf=2, max_features=sqrt, max_depth=80, bootstrap=True, total=   3.1s\n",
      "[CV] n_estimators=1800, min_samples_split=5, min_samples_leaf=2, max_features=sqrt, max_depth=80, bootstrap=True \n",
      "[CV]  n_estimators=1800, min_samples_split=5, min_samples_leaf=2, max_features=sqrt, max_depth=80, bootstrap=True, total=   3.3s\n",
      "[CV] n_estimators=1300, min_samples_split=10, min_samples_leaf=4, max_features=auto, max_depth=80, bootstrap=False \n",
      "[CV]  n_estimators=1300, min_samples_split=10, min_samples_leaf=4, max_features=auto, max_depth=80, bootstrap=False, total=   2.4s\n",
      "[CV] n_estimators=1300, min_samples_split=10, min_samples_leaf=4, max_features=auto, max_depth=80, bootstrap=False \n",
      "[CV]  n_estimators=1300, min_samples_split=10, min_samples_leaf=4, max_features=auto, max_depth=80, bootstrap=False, total=   2.3s\n",
      "[CV] n_estimators=1300, min_samples_split=10, min_samples_leaf=4, max_features=auto, max_depth=80, bootstrap=False \n",
      "[CV]  n_estimators=1300, min_samples_split=10, min_samples_leaf=4, max_features=auto, max_depth=80, bootstrap=False, total=   2.4s\n",
      "[CV] n_estimators=300, min_samples_split=10, min_samples_leaf=1, max_features=sqrt, max_depth=100, bootstrap=True \n",
      "[CV]  n_estimators=300, min_samples_split=10, min_samples_leaf=1, max_features=sqrt, max_depth=100, bootstrap=True, total=   0.5s\n",
      "[CV] n_estimators=300, min_samples_split=10, min_samples_leaf=1, max_features=sqrt, max_depth=100, bootstrap=True \n",
      "[CV]  n_estimators=300, min_samples_split=10, min_samples_leaf=1, max_features=sqrt, max_depth=100, bootstrap=True, total=   0.5s\n",
      "[CV] n_estimators=300, min_samples_split=10, min_samples_leaf=1, max_features=sqrt, max_depth=100, bootstrap=True \n",
      "[CV]  n_estimators=300, min_samples_split=10, min_samples_leaf=1, max_features=sqrt, max_depth=100, bootstrap=True, total=   0.5s\n",
      "[CV] n_estimators=1000, min_samples_split=2, min_samples_leaf=2, max_features=sqrt, max_depth=100, bootstrap=False \n",
      "[CV]  n_estimators=1000, min_samples_split=2, min_samples_leaf=2, max_features=sqrt, max_depth=100, bootstrap=False, total=   2.0s\n",
      "[CV] n_estimators=1000, min_samples_split=2, min_samples_leaf=2, max_features=sqrt, max_depth=100, bootstrap=False \n",
      "[CV]  n_estimators=1000, min_samples_split=2, min_samples_leaf=2, max_features=sqrt, max_depth=100, bootstrap=False, total=   1.9s\n",
      "[CV] n_estimators=1000, min_samples_split=2, min_samples_leaf=2, max_features=sqrt, max_depth=100, bootstrap=False \n",
      "[CV]  n_estimators=1000, min_samples_split=2, min_samples_leaf=2, max_features=sqrt, max_depth=100, bootstrap=False, total=   2.0s\n",
      "[CV] n_estimators=300, min_samples_split=2, min_samples_leaf=4, max_features=auto, max_depth=40, bootstrap=True \n",
      "[CV]  n_estimators=300, min_samples_split=2, min_samples_leaf=4, max_features=auto, max_depth=40, bootstrap=True, total=   0.5s\n",
      "[CV] n_estimators=300, min_samples_split=2, min_samples_leaf=4, max_features=auto, max_depth=40, bootstrap=True \n",
      "[CV]  n_estimators=300, min_samples_split=2, min_samples_leaf=4, max_features=auto, max_depth=40, bootstrap=True, total=   0.5s\n",
      "[CV] n_estimators=300, min_samples_split=2, min_samples_leaf=4, max_features=auto, max_depth=40, bootstrap=True \n",
      "[CV]  n_estimators=300, min_samples_split=2, min_samples_leaf=4, max_features=auto, max_depth=40, bootstrap=True, total=   0.5s\n",
      "[CV] n_estimators=1700, min_samples_split=10, min_samples_leaf=4, max_features=sqrt, max_depth=40, bootstrap=False \n",
      "[CV]  n_estimators=1700, min_samples_split=10, min_samples_leaf=4, max_features=sqrt, max_depth=40, bootstrap=False, total=   3.2s\n",
      "[CV] n_estimators=1700, min_samples_split=10, min_samples_leaf=4, max_features=sqrt, max_depth=40, bootstrap=False \n",
      "[CV]  n_estimators=1700, min_samples_split=10, min_samples_leaf=4, max_features=sqrt, max_depth=40, bootstrap=False, total=   3.0s\n",
      "[CV] n_estimators=1700, min_samples_split=10, min_samples_leaf=4, max_features=sqrt, max_depth=40, bootstrap=False \n",
      "[CV]  n_estimators=1700, min_samples_split=10, min_samples_leaf=4, max_features=sqrt, max_depth=40, bootstrap=False, total=   3.1s\n",
      "[CV] n_estimators=1500, min_samples_split=5, min_samples_leaf=4, max_features=sqrt, max_depth=40, bootstrap=False \n",
      "[CV]  n_estimators=1500, min_samples_split=5, min_samples_leaf=4, max_features=sqrt, max_depth=40, bootstrap=False, total=   2.8s\n",
      "[CV] n_estimators=1500, min_samples_split=5, min_samples_leaf=4, max_features=sqrt, max_depth=40, bootstrap=False \n",
      "[CV]  n_estimators=1500, min_samples_split=5, min_samples_leaf=4, max_features=sqrt, max_depth=40, bootstrap=False, total=   2.7s\n",
      "[CV] n_estimators=1500, min_samples_split=5, min_samples_leaf=4, max_features=sqrt, max_depth=40, bootstrap=False \n",
      "[CV]  n_estimators=1500, min_samples_split=5, min_samples_leaf=4, max_features=sqrt, max_depth=40, bootstrap=False, total=   2.8s\n",
      "[CV] n_estimators=1400, min_samples_split=2, min_samples_leaf=4, max_features=auto, max_depth=20, bootstrap=False \n",
      "[CV]  n_estimators=1400, min_samples_split=2, min_samples_leaf=4, max_features=auto, max_depth=20, bootstrap=False, total=   2.7s\n",
      "[CV] n_estimators=1400, min_samples_split=2, min_samples_leaf=4, max_features=auto, max_depth=20, bootstrap=False \n",
      "[CV]  n_estimators=1400, min_samples_split=2, min_samples_leaf=4, max_features=auto, max_depth=20, bootstrap=False, total=   2.5s\n",
      "[CV] n_estimators=1400, min_samples_split=2, min_samples_leaf=4, max_features=auto, max_depth=20, bootstrap=False \n",
      "[CV]  n_estimators=1400, min_samples_split=2, min_samples_leaf=4, max_features=auto, max_depth=20, bootstrap=False, total=   2.6s\n",
      "[CV] n_estimators=300, min_samples_split=5, min_samples_leaf=2, max_features=auto, max_depth=90, bootstrap=True \n",
      "[CV]  n_estimators=300, min_samples_split=5, min_samples_leaf=2, max_features=auto, max_depth=90, bootstrap=True, total=   0.6s\n",
      "[CV] n_estimators=300, min_samples_split=5, min_samples_leaf=2, max_features=auto, max_depth=90, bootstrap=True \n",
      "[CV]  n_estimators=300, min_samples_split=5, min_samples_leaf=2, max_features=auto, max_depth=90, bootstrap=True, total=   0.5s\n",
      "[CV] n_estimators=300, min_samples_split=5, min_samples_leaf=2, max_features=auto, max_depth=90, bootstrap=True \n",
      "[CV]  n_estimators=300, min_samples_split=5, min_samples_leaf=2, max_features=auto, max_depth=90, bootstrap=True, total=   0.5s\n",
      "[CV] n_estimators=1700, min_samples_split=10, min_samples_leaf=4, max_features=sqrt, max_depth=70, bootstrap=True \n",
      "[CV]  n_estimators=1700, min_samples_split=10, min_samples_leaf=4, max_features=sqrt, max_depth=70, bootstrap=True, total=   2.9s\n",
      "[CV] n_estimators=1700, min_samples_split=10, min_samples_leaf=4, max_features=sqrt, max_depth=70, bootstrap=True \n",
      "[CV]  n_estimators=1700, min_samples_split=10, min_samples_leaf=4, max_features=sqrt, max_depth=70, bootstrap=True, total=   2.8s\n",
      "[CV] n_estimators=1700, min_samples_split=10, min_samples_leaf=4, max_features=sqrt, max_depth=70, bootstrap=True \n",
      "[CV]  n_estimators=1700, min_samples_split=10, min_samples_leaf=4, max_features=sqrt, max_depth=70, bootstrap=True, total=   3.1s\n",
      "[CV] n_estimators=1200, min_samples_split=5, min_samples_leaf=1, max_features=sqrt, max_depth=90, bootstrap=False \n",
      "[CV]  n_estimators=1200, min_samples_split=5, min_samples_leaf=1, max_features=sqrt, max_depth=90, bootstrap=False, total=   2.8s\n",
      "[CV] n_estimators=1200, min_samples_split=5, min_samples_leaf=1, max_features=sqrt, max_depth=90, bootstrap=False \n",
      "[CV]  n_estimators=1200, min_samples_split=5, min_samples_leaf=1, max_features=sqrt, max_depth=90, bootstrap=False, total=   2.3s\n",
      "[CV] n_estimators=1200, min_samples_split=5, min_samples_leaf=1, max_features=sqrt, max_depth=90, bootstrap=False \n",
      "[CV]  n_estimators=1200, min_samples_split=5, min_samples_leaf=1, max_features=sqrt, max_depth=90, bootstrap=False, total=   2.4s\n",
      "[CV] n_estimators=1300, min_samples_split=2, min_samples_leaf=2, max_features=sqrt, max_depth=10, bootstrap=True \n",
      "[CV]  n_estimators=1300, min_samples_split=2, min_samples_leaf=2, max_features=sqrt, max_depth=10, bootstrap=True, total=   2.3s\n",
      "[CV] n_estimators=1300, min_samples_split=2, min_samples_leaf=2, max_features=sqrt, max_depth=10, bootstrap=True \n",
      "[CV]  n_estimators=1300, min_samples_split=2, min_samples_leaf=2, max_features=sqrt, max_depth=10, bootstrap=True, total=   2.3s\n",
      "[CV] n_estimators=1300, min_samples_split=2, min_samples_leaf=2, max_features=sqrt, max_depth=10, bootstrap=True \n",
      "[CV]  n_estimators=1300, min_samples_split=2, min_samples_leaf=2, max_features=sqrt, max_depth=10, bootstrap=True, total=   2.3s\n",
      "[CV] n_estimators=300, min_samples_split=5, min_samples_leaf=4, max_features=sqrt, max_depth=100, bootstrap=True \n",
      "[CV]  n_estimators=300, min_samples_split=5, min_samples_leaf=4, max_features=sqrt, max_depth=100, bootstrap=True, total=   0.5s\n",
      "[CV] n_estimators=300, min_samples_split=5, min_samples_leaf=4, max_features=sqrt, max_depth=100, bootstrap=True \n",
      "[CV]  n_estimators=300, min_samples_split=5, min_samples_leaf=4, max_features=sqrt, max_depth=100, bootstrap=True, total=   0.5s\n",
      "[CV] n_estimators=300, min_samples_split=5, min_samples_leaf=4, max_features=sqrt, max_depth=100, bootstrap=True \n",
      "[CV]  n_estimators=300, min_samples_split=5, min_samples_leaf=4, max_features=sqrt, max_depth=100, bootstrap=True, total=   0.5s\n",
      "[CV] n_estimators=500, min_samples_split=5, min_samples_leaf=2, max_features=auto, max_depth=30, bootstrap=False \n",
      "[CV]  n_estimators=500, min_samples_split=5, min_samples_leaf=2, max_features=auto, max_depth=30, bootstrap=False, total=   1.0s\n",
      "[CV] n_estimators=500, min_samples_split=5, min_samples_leaf=2, max_features=auto, max_depth=30, bootstrap=False \n",
      "[CV]  n_estimators=500, min_samples_split=5, min_samples_leaf=2, max_features=auto, max_depth=30, bootstrap=False, total=   1.0s\n",
      "[CV] n_estimators=500, min_samples_split=5, min_samples_leaf=2, max_features=auto, max_depth=30, bootstrap=False \n",
      "[CV]  n_estimators=500, min_samples_split=5, min_samples_leaf=2, max_features=auto, max_depth=30, bootstrap=False, total=   1.0s\n",
      "[CV] n_estimators=300, min_samples_split=2, min_samples_leaf=2, max_features=auto, max_depth=80, bootstrap=False \n",
      "[CV]  n_estimators=300, min_samples_split=2, min_samples_leaf=2, max_features=auto, max_depth=80, bootstrap=False, total=   0.6s\n",
      "[CV] n_estimators=300, min_samples_split=2, min_samples_leaf=2, max_features=auto, max_depth=80, bootstrap=False \n",
      "[CV]  n_estimators=300, min_samples_split=2, min_samples_leaf=2, max_features=auto, max_depth=80, bootstrap=False, total=   0.6s\n",
      "[CV] n_estimators=300, min_samples_split=2, min_samples_leaf=2, max_features=auto, max_depth=80, bootstrap=False \n",
      "[CV]  n_estimators=300, min_samples_split=2, min_samples_leaf=2, max_features=auto, max_depth=80, bootstrap=False, total=   0.6s\n",
      "[CV] n_estimators=300, min_samples_split=5, min_samples_leaf=1, max_features=sqrt, max_depth=20, bootstrap=True \n",
      "[CV]  n_estimators=300, min_samples_split=5, min_samples_leaf=1, max_features=sqrt, max_depth=20, bootstrap=True, total=   0.6s\n",
      "[CV] n_estimators=300, min_samples_split=5, min_samples_leaf=1, max_features=sqrt, max_depth=20, bootstrap=True \n",
      "[CV]  n_estimators=300, min_samples_split=5, min_samples_leaf=1, max_features=sqrt, max_depth=20, bootstrap=True, total=   0.5s\n",
      "[CV] n_estimators=300, min_samples_split=5, min_samples_leaf=1, max_features=sqrt, max_depth=20, bootstrap=True \n",
      "[CV]  n_estimators=300, min_samples_split=5, min_samples_leaf=1, max_features=sqrt, max_depth=20, bootstrap=True, total=   0.6s\n",
      "[CV] n_estimators=900, min_samples_split=10, min_samples_leaf=2, max_features=auto, max_depth=80, bootstrap=True \n",
      "[CV]  n_estimators=900, min_samples_split=10, min_samples_leaf=2, max_features=auto, max_depth=80, bootstrap=True, total=   1.6s\n",
      "[CV] n_estimators=900, min_samples_split=10, min_samples_leaf=2, max_features=auto, max_depth=80, bootstrap=True \n",
      "[CV]  n_estimators=900, min_samples_split=10, min_samples_leaf=2, max_features=auto, max_depth=80, bootstrap=True, total=   1.5s\n",
      "[CV] n_estimators=900, min_samples_split=10, min_samples_leaf=2, max_features=auto, max_depth=80, bootstrap=True \n",
      "[CV]  n_estimators=900, min_samples_split=10, min_samples_leaf=2, max_features=auto, max_depth=80, bootstrap=True, total=   1.6s\n",
      "[CV] n_estimators=400, min_samples_split=2, min_samples_leaf=1, max_features=sqrt, max_depth=100, bootstrap=False \n",
      "[CV]  n_estimators=400, min_samples_split=2, min_samples_leaf=1, max_features=sqrt, max_depth=100, bootstrap=False, total=   0.8s\n",
      "[CV] n_estimators=400, min_samples_split=2, min_samples_leaf=1, max_features=sqrt, max_depth=100, bootstrap=False \n",
      "[CV]  n_estimators=400, min_samples_split=2, min_samples_leaf=1, max_features=sqrt, max_depth=100, bootstrap=False, total=   0.8s\n",
      "[CV] n_estimators=400, min_samples_split=2, min_samples_leaf=1, max_features=sqrt, max_depth=100, bootstrap=False \n",
      "[CV]  n_estimators=400, min_samples_split=2, min_samples_leaf=1, max_features=sqrt, max_depth=100, bootstrap=False, total=   0.8s\n",
      "[CV] n_estimators=1000, min_samples_split=10, min_samples_leaf=4, max_features=auto, max_depth=90, bootstrap=True \n",
      "[CV]  n_estimators=1000, min_samples_split=10, min_samples_leaf=4, max_features=auto, max_depth=90, bootstrap=True, total=   1.7s\n",
      "[CV] n_estimators=1000, min_samples_split=10, min_samples_leaf=4, max_features=auto, max_depth=90, bootstrap=True \n",
      "[CV]  n_estimators=1000, min_samples_split=10, min_samples_leaf=4, max_features=auto, max_depth=90, bootstrap=True, total=   1.7s\n",
      "[CV] n_estimators=1000, min_samples_split=10, min_samples_leaf=4, max_features=auto, max_depth=90, bootstrap=True \n",
      "[CV]  n_estimators=1000, min_samples_split=10, min_samples_leaf=4, max_features=auto, max_depth=90, bootstrap=True, total=   1.7s\n",
      "[CV] n_estimators=1400, min_samples_split=5, min_samples_leaf=1, max_features=auto, max_depth=30, bootstrap=True \n",
      "[CV]  n_estimators=1400, min_samples_split=5, min_samples_leaf=1, max_features=auto, max_depth=30, bootstrap=True, total=   2.5s\n",
      "[CV] n_estimators=1400, min_samples_split=5, min_samples_leaf=1, max_features=auto, max_depth=30, bootstrap=True \n",
      "[CV]  n_estimators=1400, min_samples_split=5, min_samples_leaf=1, max_features=auto, max_depth=30, bootstrap=True, total=   2.5s\n",
      "[CV] n_estimators=1400, min_samples_split=5, min_samples_leaf=1, max_features=auto, max_depth=30, bootstrap=True \n",
      "[CV]  n_estimators=1400, min_samples_split=5, min_samples_leaf=1, max_features=auto, max_depth=30, bootstrap=True, total=   2.6s\n",
      "[CV] n_estimators=800, min_samples_split=5, min_samples_leaf=2, max_features=auto, max_depth=50, bootstrap=True \n",
      "[CV]  n_estimators=800, min_samples_split=5, min_samples_leaf=2, max_features=auto, max_depth=50, bootstrap=True, total=   1.6s\n",
      "[CV] n_estimators=800, min_samples_split=5, min_samples_leaf=2, max_features=auto, max_depth=50, bootstrap=True \n",
      "[CV]  n_estimators=800, min_samples_split=5, min_samples_leaf=2, max_features=auto, max_depth=50, bootstrap=True, total=   1.5s\n",
      "[CV] n_estimators=800, min_samples_split=5, min_samples_leaf=2, max_features=auto, max_depth=50, bootstrap=True \n",
      "[CV]  n_estimators=800, min_samples_split=5, min_samples_leaf=2, max_features=auto, max_depth=50, bootstrap=True, total=   1.6s\n",
      "[CV] n_estimators=1100, min_samples_split=2, min_samples_leaf=4, max_features=sqrt, max_depth=100, bootstrap=True \n",
      "[CV]  n_estimators=1100, min_samples_split=2, min_samples_leaf=4, max_features=sqrt, max_depth=100, bootstrap=True, total=   2.1s\n",
      "[CV] n_estimators=1100, min_samples_split=2, min_samples_leaf=4, max_features=sqrt, max_depth=100, bootstrap=True \n",
      "[CV]  n_estimators=1100, min_samples_split=2, min_samples_leaf=4, max_features=sqrt, max_depth=100, bootstrap=True, total=   2.0s\n",
      "[CV] n_estimators=1100, min_samples_split=2, min_samples_leaf=4, max_features=sqrt, max_depth=100, bootstrap=True \n",
      "[CV]  n_estimators=1100, min_samples_split=2, min_samples_leaf=4, max_features=sqrt, max_depth=100, bootstrap=True, total=   1.9s\n",
      "[CV] n_estimators=900, min_samples_split=5, min_samples_leaf=2, max_features=auto, max_depth=60, bootstrap=True \n",
      "[CV]  n_estimators=900, min_samples_split=5, min_samples_leaf=2, max_features=auto, max_depth=60, bootstrap=True, total=   1.6s\n",
      "[CV] n_estimators=900, min_samples_split=5, min_samples_leaf=2, max_features=auto, max_depth=60, bootstrap=True \n",
      "[CV]  n_estimators=900, min_samples_split=5, min_samples_leaf=2, max_features=auto, max_depth=60, bootstrap=True, total=   1.6s\n",
      "[CV] n_estimators=900, min_samples_split=5, min_samples_leaf=2, max_features=auto, max_depth=60, bootstrap=True \n",
      "[CV]  n_estimators=900, min_samples_split=5, min_samples_leaf=2, max_features=auto, max_depth=60, bootstrap=True, total=   1.6s\n",
      "[CV] n_estimators=1100, min_samples_split=5, min_samples_leaf=1, max_features=auto, max_depth=40, bootstrap=True \n",
      "[CV]  n_estimators=1100, min_samples_split=5, min_samples_leaf=1, max_features=auto, max_depth=40, bootstrap=True, total=   2.0s\n",
      "[CV] n_estimators=1100, min_samples_split=5, min_samples_leaf=1, max_features=auto, max_depth=40, bootstrap=True \n",
      "[CV]  n_estimators=1100, min_samples_split=5, min_samples_leaf=1, max_features=auto, max_depth=40, bootstrap=True, total=   2.0s\n",
      "[CV] n_estimators=1100, min_samples_split=5, min_samples_leaf=1, max_features=auto, max_depth=40, bootstrap=True \n",
      "[CV]  n_estimators=1100, min_samples_split=5, min_samples_leaf=1, max_features=auto, max_depth=40, bootstrap=True, total=   2.0s\n",
      "[CV] n_estimators=600, min_samples_split=10, min_samples_leaf=4, max_features=auto, max_depth=70, bootstrap=False \n",
      "[CV]  n_estimators=600, min_samples_split=10, min_samples_leaf=4, max_features=auto, max_depth=70, bootstrap=False, total=   1.1s\n",
      "[CV] n_estimators=600, min_samples_split=10, min_samples_leaf=4, max_features=auto, max_depth=70, bootstrap=False \n",
      "[CV]  n_estimators=600, min_samples_split=10, min_samples_leaf=4, max_features=auto, max_depth=70, bootstrap=False, total=   1.1s\n",
      "[CV] n_estimators=600, min_samples_split=10, min_samples_leaf=4, max_features=auto, max_depth=70, bootstrap=False \n",
      "[CV]  n_estimators=600, min_samples_split=10, min_samples_leaf=4, max_features=auto, max_depth=70, bootstrap=False, total=   1.1s\n",
      "[CV] n_estimators=200, min_samples_split=2, min_samples_leaf=1, max_features=auto, max_depth=70, bootstrap=False \n",
      "[CV]  n_estimators=200, min_samples_split=2, min_samples_leaf=1, max_features=auto, max_depth=70, bootstrap=False, total=   0.4s\n",
      "[CV] n_estimators=200, min_samples_split=2, min_samples_leaf=1, max_features=auto, max_depth=70, bootstrap=False \n",
      "[CV]  n_estimators=200, min_samples_split=2, min_samples_leaf=1, max_features=auto, max_depth=70, bootstrap=False, total=   0.4s\n",
      "[CV] n_estimators=200, min_samples_split=2, min_samples_leaf=1, max_features=auto, max_depth=70, bootstrap=False \n",
      "[CV]  n_estimators=200, min_samples_split=2, min_samples_leaf=1, max_features=auto, max_depth=70, bootstrap=False, total=   0.4s\n",
      "[CV] n_estimators=200, min_samples_split=2, min_samples_leaf=1, max_features=auto, max_depth=110, bootstrap=False \n",
      "[CV]  n_estimators=200, min_samples_split=2, min_samples_leaf=1, max_features=auto, max_depth=110, bootstrap=False, total=   0.4s\n",
      "[CV] n_estimators=200, min_samples_split=2, min_samples_leaf=1, max_features=auto, max_depth=110, bootstrap=False \n",
      "[CV]  n_estimators=200, min_samples_split=2, min_samples_leaf=1, max_features=auto, max_depth=110, bootstrap=False, total=   0.4s\n",
      "[CV] n_estimators=200, min_samples_split=2, min_samples_leaf=1, max_features=auto, max_depth=110, bootstrap=False \n",
      "[CV]  n_estimators=200, min_samples_split=2, min_samples_leaf=1, max_features=auto, max_depth=110, bootstrap=False, total=   0.4s\n",
      "[CV] n_estimators=1200, min_samples_split=2, min_samples_leaf=4, max_features=sqrt, max_depth=30, bootstrap=True \n",
      "[CV]  n_estimators=1200, min_samples_split=2, min_samples_leaf=4, max_features=sqrt, max_depth=30, bootstrap=True, total=   2.1s\n",
      "[CV] n_estimators=1200, min_samples_split=2, min_samples_leaf=4, max_features=sqrt, max_depth=30, bootstrap=True \n",
      "[CV]  n_estimators=1200, min_samples_split=2, min_samples_leaf=4, max_features=sqrt, max_depth=30, bootstrap=True, total=   2.0s\n",
      "[CV] n_estimators=1200, min_samples_split=2, min_samples_leaf=4, max_features=sqrt, max_depth=30, bootstrap=True \n",
      "[CV]  n_estimators=1200, min_samples_split=2, min_samples_leaf=4, max_features=sqrt, max_depth=30, bootstrap=True, total=   2.1s\n"
     ]
    },
    {
     "name": "stderr",
     "output_type": "stream",
     "text": [
      "[Parallel(n_jobs=1)]: Done 120 out of 120 | elapsed:  3.5min finished\n"
     ]
    },
    {
     "data": {
      "text/plain": [
       "RandomizedSearchCV(cv=3, error_score='raise-deprecating',\n",
       "                   estimator=RandomForestClassifier(bootstrap=True,\n",
       "                                                    class_weight=None,\n",
       "                                                    criterion='gini',\n",
       "                                                    max_depth=None,\n",
       "                                                    max_features='auto',\n",
       "                                                    max_leaf_nodes=None,\n",
       "                                                    min_impurity_decrease=0.0,\n",
       "                                                    min_impurity_split=None,\n",
       "                                                    min_samples_leaf=1,\n",
       "                                                    min_samples_split=2,\n",
       "                                                    min_weight_fraction_leaf=0.0,\n",
       "                                                    n_estimators='warn',\n",
       "                                                    n_jobs=None,\n",
       "                                                    oob_sc...\n",
       "                   param_distributions={'bootstrap': [True, False],\n",
       "                                        'max_depth': [10, 20, 30, 40, 50, 60,\n",
       "                                                      70, 80, 90, 100, 110],\n",
       "                                        'max_features': ['auto', 'sqrt'],\n",
       "                                        'min_samples_leaf': [1, 2, 4],\n",
       "                                        'min_samples_split': [2, 5, 10],\n",
       "                                        'n_estimators': [100, 200, 300, 400,\n",
       "                                                         500, 600, 700, 800,\n",
       "                                                         900, 1000, 1100, 1200,\n",
       "                                                         1300, 1400, 1500, 1600,\n",
       "                                                         1700, 1800, 1900,\n",
       "                                                         2000]},\n",
       "                   pre_dispatch='2*n_jobs', random_state=1, refit=True,\n",
       "                   return_train_score=False, scoring=None, verbose=2)"
      ]
     },
     "execution_count": 93,
     "metadata": {},
     "output_type": "execute_result"
    }
   ],
   "source": [
    "rf = RandomForestClassifier(random_state = 1)\n",
    "rf_random = RandomizedSearchCV(estimator = rf, param_distributions = random_grid, n_iter = 40, cv = 3, verbose=2, \n",
    "                               random_state=1, n_jobs = 1)\n",
    "rf_random.fit(X_train, y_train_hot)"
   ]
  },
  {
   "cell_type": "code",
   "execution_count": 96,
   "metadata": {},
   "outputs": [
    {
     "data": {
      "text/plain": [
       "0.8608287724784989"
      ]
     },
     "execution_count": 96,
     "metadata": {},
     "output_type": "execute_result"
    }
   ],
   "source": [
    "rf_random.best_score_\n"
   ]
  },
  {
   "cell_type": "code",
   "execution_count": 97,
   "metadata": {},
   "outputs": [
    {
     "data": {
      "text/plain": [
       "{'n_estimators': 1600,\n",
       " 'min_samples_split': 2,\n",
       " 'min_samples_leaf': 1,\n",
       " 'max_features': 'auto',\n",
       " 'max_depth': 90,\n",
       " 'bootstrap': True}"
      ]
     },
     "execution_count": 97,
     "metadata": {},
     "output_type": "execute_result"
    }
   ],
   "source": [
    "rf_random.best_params_"
   ]
  },
  {
   "cell_type": "code",
   "execution_count": 102,
   "metadata": {},
   "outputs": [],
   "source": [
    "updated_params = {'n_estimators': [1400,1500,1600,1700], 'max_features':['auto'], 'max_depth': [80,85,90,95,100],\n",
    "                  'min_samples_split': [2], 'min_samples_leaf': [1], 'bootstrap':[True]}"
   ]
  },
  {
   "cell_type": "code",
   "execution_count": 103,
   "metadata": {},
   "outputs": [
    {
     "name": "stdout",
     "output_type": "stream",
     "text": [
      "Fitting 3 folds for each of 20 candidates, totalling 60 fits\n",
      "[CV] bootstrap=True, max_depth=80, max_features=auto, min_samples_leaf=1, min_samples_split=2, n_estimators=1400 \n"
     ]
    },
    {
     "name": "stderr",
     "output_type": "stream",
     "text": [
      "[Parallel(n_jobs=1)]: Using backend SequentialBackend with 1 concurrent workers.\n"
     ]
    },
    {
     "name": "stdout",
     "output_type": "stream",
     "text": [
      "[CV]  bootstrap=True, max_depth=80, max_features=auto, min_samples_leaf=1, min_samples_split=2, n_estimators=1400, total=   2.6s\n",
      "[CV] bootstrap=True, max_depth=80, max_features=auto, min_samples_leaf=1, min_samples_split=2, n_estimators=1400 \n"
     ]
    },
    {
     "name": "stderr",
     "output_type": "stream",
     "text": [
      "[Parallel(n_jobs=1)]: Done   1 out of   1 | elapsed:    2.6s remaining:    0.0s\n"
     ]
    },
    {
     "name": "stdout",
     "output_type": "stream",
     "text": [
      "[CV]  bootstrap=True, max_depth=80, max_features=auto, min_samples_leaf=1, min_samples_split=2, n_estimators=1400, total=   2.5s\n",
      "[CV] bootstrap=True, max_depth=80, max_features=auto, min_samples_leaf=1, min_samples_split=2, n_estimators=1400 \n",
      "[CV]  bootstrap=True, max_depth=80, max_features=auto, min_samples_leaf=1, min_samples_split=2, n_estimators=1400, total=   2.6s\n",
      "[CV] bootstrap=True, max_depth=80, max_features=auto, min_samples_leaf=1, min_samples_split=2, n_estimators=1500 \n",
      "[CV]  bootstrap=True, max_depth=80, max_features=auto, min_samples_leaf=1, min_samples_split=2, n_estimators=1500, total=   2.8s\n",
      "[CV] bootstrap=True, max_depth=80, max_features=auto, min_samples_leaf=1, min_samples_split=2, n_estimators=1500 \n",
      "[CV]  bootstrap=True, max_depth=80, max_features=auto, min_samples_leaf=1, min_samples_split=2, n_estimators=1500, total=   2.7s\n",
      "[CV] bootstrap=True, max_depth=80, max_features=auto, min_samples_leaf=1, min_samples_split=2, n_estimators=1500 \n",
      "[CV]  bootstrap=True, max_depth=80, max_features=auto, min_samples_leaf=1, min_samples_split=2, n_estimators=1500, total=   2.8s\n",
      "[CV] bootstrap=True, max_depth=80, max_features=auto, min_samples_leaf=1, min_samples_split=2, n_estimators=1600 \n",
      "[CV]  bootstrap=True, max_depth=80, max_features=auto, min_samples_leaf=1, min_samples_split=2, n_estimators=1600, total=   3.0s\n",
      "[CV] bootstrap=True, max_depth=80, max_features=auto, min_samples_leaf=1, min_samples_split=2, n_estimators=1600 \n",
      "[CV]  bootstrap=True, max_depth=80, max_features=auto, min_samples_leaf=1, min_samples_split=2, n_estimators=1600, total=   2.9s\n",
      "[CV] bootstrap=True, max_depth=80, max_features=auto, min_samples_leaf=1, min_samples_split=2, n_estimators=1600 \n",
      "[CV]  bootstrap=True, max_depth=80, max_features=auto, min_samples_leaf=1, min_samples_split=2, n_estimators=1600, total=   3.1s\n",
      "[CV] bootstrap=True, max_depth=80, max_features=auto, min_samples_leaf=1, min_samples_split=2, n_estimators=1700 \n",
      "[CV]  bootstrap=True, max_depth=80, max_features=auto, min_samples_leaf=1, min_samples_split=2, n_estimators=1700, total=   3.2s\n",
      "[CV] bootstrap=True, max_depth=80, max_features=auto, min_samples_leaf=1, min_samples_split=2, n_estimators=1700 \n",
      "[CV]  bootstrap=True, max_depth=80, max_features=auto, min_samples_leaf=1, min_samples_split=2, n_estimators=1700, total=   3.1s\n",
      "[CV] bootstrap=True, max_depth=80, max_features=auto, min_samples_leaf=1, min_samples_split=2, n_estimators=1700 \n",
      "[CV]  bootstrap=True, max_depth=80, max_features=auto, min_samples_leaf=1, min_samples_split=2, n_estimators=1700, total=   3.2s\n",
      "[CV] bootstrap=True, max_depth=85, max_features=auto, min_samples_leaf=1, min_samples_split=2, n_estimators=1400 \n",
      "[CV]  bootstrap=True, max_depth=85, max_features=auto, min_samples_leaf=1, min_samples_split=2, n_estimators=1400, total=   2.7s\n",
      "[CV] bootstrap=True, max_depth=85, max_features=auto, min_samples_leaf=1, min_samples_split=2, n_estimators=1400 \n",
      "[CV]  bootstrap=True, max_depth=85, max_features=auto, min_samples_leaf=1, min_samples_split=2, n_estimators=1400, total=   2.5s\n",
      "[CV] bootstrap=True, max_depth=85, max_features=auto, min_samples_leaf=1, min_samples_split=2, n_estimators=1400 \n",
      "[CV]  bootstrap=True, max_depth=85, max_features=auto, min_samples_leaf=1, min_samples_split=2, n_estimators=1400, total=   2.6s\n",
      "[CV] bootstrap=True, max_depth=85, max_features=auto, min_samples_leaf=1, min_samples_split=2, n_estimators=1500 \n",
      "[CV]  bootstrap=True, max_depth=85, max_features=auto, min_samples_leaf=1, min_samples_split=2, n_estimators=1500, total=   2.8s\n",
      "[CV] bootstrap=True, max_depth=85, max_features=auto, min_samples_leaf=1, min_samples_split=2, n_estimators=1500 \n",
      "[CV]  bootstrap=True, max_depth=85, max_features=auto, min_samples_leaf=1, min_samples_split=2, n_estimators=1500, total=   2.7s\n",
      "[CV] bootstrap=True, max_depth=85, max_features=auto, min_samples_leaf=1, min_samples_split=2, n_estimators=1500 \n",
      "[CV]  bootstrap=True, max_depth=85, max_features=auto, min_samples_leaf=1, min_samples_split=2, n_estimators=1500, total=   2.8s\n",
      "[CV] bootstrap=True, max_depth=85, max_features=auto, min_samples_leaf=1, min_samples_split=2, n_estimators=1600 \n",
      "[CV]  bootstrap=True, max_depth=85, max_features=auto, min_samples_leaf=1, min_samples_split=2, n_estimators=1600, total=   3.0s\n",
      "[CV] bootstrap=True, max_depth=85, max_features=auto, min_samples_leaf=1, min_samples_split=2, n_estimators=1600 \n",
      "[CV]  bootstrap=True, max_depth=85, max_features=auto, min_samples_leaf=1, min_samples_split=2, n_estimators=1600, total=   2.9s\n",
      "[CV] bootstrap=True, max_depth=85, max_features=auto, min_samples_leaf=1, min_samples_split=2, n_estimators=1600 \n",
      "[CV]  bootstrap=True, max_depth=85, max_features=auto, min_samples_leaf=1, min_samples_split=2, n_estimators=1600, total=   3.0s\n",
      "[CV] bootstrap=True, max_depth=85, max_features=auto, min_samples_leaf=1, min_samples_split=2, n_estimators=1700 \n",
      "[CV]  bootstrap=True, max_depth=85, max_features=auto, min_samples_leaf=1, min_samples_split=2, n_estimators=1700, total=   3.1s\n",
      "[CV] bootstrap=True, max_depth=85, max_features=auto, min_samples_leaf=1, min_samples_split=2, n_estimators=1700 \n",
      "[CV]  bootstrap=True, max_depth=85, max_features=auto, min_samples_leaf=1, min_samples_split=2, n_estimators=1700, total=   3.1s\n",
      "[CV] bootstrap=True, max_depth=85, max_features=auto, min_samples_leaf=1, min_samples_split=2, n_estimators=1700 \n",
      "[CV]  bootstrap=True, max_depth=85, max_features=auto, min_samples_leaf=1, min_samples_split=2, n_estimators=1700, total=   3.4s\n",
      "[CV] bootstrap=True, max_depth=90, max_features=auto, min_samples_leaf=1, min_samples_split=2, n_estimators=1400 \n",
      "[CV]  bootstrap=True, max_depth=90, max_features=auto, min_samples_leaf=1, min_samples_split=2, n_estimators=1400, total=   2.6s\n",
      "[CV] bootstrap=True, max_depth=90, max_features=auto, min_samples_leaf=1, min_samples_split=2, n_estimators=1400 \n",
      "[CV]  bootstrap=True, max_depth=90, max_features=auto, min_samples_leaf=1, min_samples_split=2, n_estimators=1400, total=   2.6s\n",
      "[CV] bootstrap=True, max_depth=90, max_features=auto, min_samples_leaf=1, min_samples_split=2, n_estimators=1400 \n",
      "[CV]  bootstrap=True, max_depth=90, max_features=auto, min_samples_leaf=1, min_samples_split=2, n_estimators=1400, total=   3.0s\n",
      "[CV] bootstrap=True, max_depth=90, max_features=auto, min_samples_leaf=1, min_samples_split=2, n_estimators=1500 \n",
      "[CV]  bootstrap=True, max_depth=90, max_features=auto, min_samples_leaf=1, min_samples_split=2, n_estimators=1500, total=   3.2s\n",
      "[CV] bootstrap=True, max_depth=90, max_features=auto, min_samples_leaf=1, min_samples_split=2, n_estimators=1500 \n",
      "[CV]  bootstrap=True, max_depth=90, max_features=auto, min_samples_leaf=1, min_samples_split=2, n_estimators=1500, total=   2.9s\n",
      "[CV] bootstrap=True, max_depth=90, max_features=auto, min_samples_leaf=1, min_samples_split=2, n_estimators=1500 \n",
      "[CV]  bootstrap=True, max_depth=90, max_features=auto, min_samples_leaf=1, min_samples_split=2, n_estimators=1500, total=   2.8s\n",
      "[CV] bootstrap=True, max_depth=90, max_features=auto, min_samples_leaf=1, min_samples_split=2, n_estimators=1600 \n",
      "[CV]  bootstrap=True, max_depth=90, max_features=auto, min_samples_leaf=1, min_samples_split=2, n_estimators=1600, total=   3.0s\n",
      "[CV] bootstrap=True, max_depth=90, max_features=auto, min_samples_leaf=1, min_samples_split=2, n_estimators=1600 \n",
      "[CV]  bootstrap=True, max_depth=90, max_features=auto, min_samples_leaf=1, min_samples_split=2, n_estimators=1600, total=   3.2s\n",
      "[CV] bootstrap=True, max_depth=90, max_features=auto, min_samples_leaf=1, min_samples_split=2, n_estimators=1600 \n",
      "[CV]  bootstrap=True, max_depth=90, max_features=auto, min_samples_leaf=1, min_samples_split=2, n_estimators=1600, total=   3.3s\n",
      "[CV] bootstrap=True, max_depth=90, max_features=auto, min_samples_leaf=1, min_samples_split=2, n_estimators=1700 \n",
      "[CV]  bootstrap=True, max_depth=90, max_features=auto, min_samples_leaf=1, min_samples_split=2, n_estimators=1700, total=   3.6s\n",
      "[CV] bootstrap=True, max_depth=90, max_features=auto, min_samples_leaf=1, min_samples_split=2, n_estimators=1700 \n",
      "[CV]  bootstrap=True, max_depth=90, max_features=auto, min_samples_leaf=1, min_samples_split=2, n_estimators=1700, total=   3.4s\n",
      "[CV] bootstrap=True, max_depth=90, max_features=auto, min_samples_leaf=1, min_samples_split=2, n_estimators=1700 \n",
      "[CV]  bootstrap=True, max_depth=90, max_features=auto, min_samples_leaf=1, min_samples_split=2, n_estimators=1700, total=   3.5s\n",
      "[CV] bootstrap=True, max_depth=95, max_features=auto, min_samples_leaf=1, min_samples_split=2, n_estimators=1400 \n",
      "[CV]  bootstrap=True, max_depth=95, max_features=auto, min_samples_leaf=1, min_samples_split=2, n_estimators=1400, total=   3.0s\n",
      "[CV] bootstrap=True, max_depth=95, max_features=auto, min_samples_leaf=1, min_samples_split=2, n_estimators=1400 \n",
      "[CV]  bootstrap=True, max_depth=95, max_features=auto, min_samples_leaf=1, min_samples_split=2, n_estimators=1400, total=   2.5s\n",
      "[CV] bootstrap=True, max_depth=95, max_features=auto, min_samples_leaf=1, min_samples_split=2, n_estimators=1400 \n",
      "[CV]  bootstrap=True, max_depth=95, max_features=auto, min_samples_leaf=1, min_samples_split=2, n_estimators=1400, total=   2.6s\n",
      "[CV] bootstrap=True, max_depth=95, max_features=auto, min_samples_leaf=1, min_samples_split=2, n_estimators=1500 \n",
      "[CV]  bootstrap=True, max_depth=95, max_features=auto, min_samples_leaf=1, min_samples_split=2, n_estimators=1500, total=   2.8s\n",
      "[CV] bootstrap=True, max_depth=95, max_features=auto, min_samples_leaf=1, min_samples_split=2, n_estimators=1500 \n",
      "[CV]  bootstrap=True, max_depth=95, max_features=auto, min_samples_leaf=1, min_samples_split=2, n_estimators=1500, total=   2.7s\n",
      "[CV] bootstrap=True, max_depth=95, max_features=auto, min_samples_leaf=1, min_samples_split=2, n_estimators=1500 \n",
      "[CV]  bootstrap=True, max_depth=95, max_features=auto, min_samples_leaf=1, min_samples_split=2, n_estimators=1500, total=   2.8s\n",
      "[CV] bootstrap=True, max_depth=95, max_features=auto, min_samples_leaf=1, min_samples_split=2, n_estimators=1600 \n",
      "[CV]  bootstrap=True, max_depth=95, max_features=auto, min_samples_leaf=1, min_samples_split=2, n_estimators=1600, total=   3.0s\n",
      "[CV] bootstrap=True, max_depth=95, max_features=auto, min_samples_leaf=1, min_samples_split=2, n_estimators=1600 \n",
      "[CV]  bootstrap=True, max_depth=95, max_features=auto, min_samples_leaf=1, min_samples_split=2, n_estimators=1600, total=   2.9s\n",
      "[CV] bootstrap=True, max_depth=95, max_features=auto, min_samples_leaf=1, min_samples_split=2, n_estimators=1600 \n",
      "[CV]  bootstrap=True, max_depth=95, max_features=auto, min_samples_leaf=1, min_samples_split=2, n_estimators=1600, total=   2.9s\n",
      "[CV] bootstrap=True, max_depth=95, max_features=auto, min_samples_leaf=1, min_samples_split=2, n_estimators=1700 \n",
      "[CV]  bootstrap=True, max_depth=95, max_features=auto, min_samples_leaf=1, min_samples_split=2, n_estimators=1700, total=   3.4s\n",
      "[CV] bootstrap=True, max_depth=95, max_features=auto, min_samples_leaf=1, min_samples_split=2, n_estimators=1700 \n",
      "[CV]  bootstrap=True, max_depth=95, max_features=auto, min_samples_leaf=1, min_samples_split=2, n_estimators=1700, total=   3.4s\n",
      "[CV] bootstrap=True, max_depth=95, max_features=auto, min_samples_leaf=1, min_samples_split=2, n_estimators=1700 \n",
      "[CV]  bootstrap=True, max_depth=95, max_features=auto, min_samples_leaf=1, min_samples_split=2, n_estimators=1700, total=   3.2s\n",
      "[CV] bootstrap=True, max_depth=100, max_features=auto, min_samples_leaf=1, min_samples_split=2, n_estimators=1400 \n",
      "[CV]  bootstrap=True, max_depth=100, max_features=auto, min_samples_leaf=1, min_samples_split=2, n_estimators=1400, total=   2.6s\n",
      "[CV] bootstrap=True, max_depth=100, max_features=auto, min_samples_leaf=1, min_samples_split=2, n_estimators=1400 \n",
      "[CV]  bootstrap=True, max_depth=100, max_features=auto, min_samples_leaf=1, min_samples_split=2, n_estimators=1400, total=   2.6s\n",
      "[CV] bootstrap=True, max_depth=100, max_features=auto, min_samples_leaf=1, min_samples_split=2, n_estimators=1400 \n",
      "[CV]  bootstrap=True, max_depth=100, max_features=auto, min_samples_leaf=1, min_samples_split=2, n_estimators=1400, total=   2.6s\n",
      "[CV] bootstrap=True, max_depth=100, max_features=auto, min_samples_leaf=1, min_samples_split=2, n_estimators=1500 \n",
      "[CV]  bootstrap=True, max_depth=100, max_features=auto, min_samples_leaf=1, min_samples_split=2, n_estimators=1500, total=   2.8s\n",
      "[CV] bootstrap=True, max_depth=100, max_features=auto, min_samples_leaf=1, min_samples_split=2, n_estimators=1500 \n",
      "[CV]  bootstrap=True, max_depth=100, max_features=auto, min_samples_leaf=1, min_samples_split=2, n_estimators=1500, total=   2.7s\n",
      "[CV] bootstrap=True, max_depth=100, max_features=auto, min_samples_leaf=1, min_samples_split=2, n_estimators=1500 \n",
      "[CV]  bootstrap=True, max_depth=100, max_features=auto, min_samples_leaf=1, min_samples_split=2, n_estimators=1500, total=   2.8s\n",
      "[CV] bootstrap=True, max_depth=100, max_features=auto, min_samples_leaf=1, min_samples_split=2, n_estimators=1600 \n",
      "[CV]  bootstrap=True, max_depth=100, max_features=auto, min_samples_leaf=1, min_samples_split=2, n_estimators=1600, total=   3.0s\n",
      "[CV] bootstrap=True, max_depth=100, max_features=auto, min_samples_leaf=1, min_samples_split=2, n_estimators=1600 \n",
      "[CV]  bootstrap=True, max_depth=100, max_features=auto, min_samples_leaf=1, min_samples_split=2, n_estimators=1600, total=   3.2s\n",
      "[CV] bootstrap=True, max_depth=100, max_features=auto, min_samples_leaf=1, min_samples_split=2, n_estimators=1600 \n",
      "[CV]  bootstrap=True, max_depth=100, max_features=auto, min_samples_leaf=1, min_samples_split=2, n_estimators=1600, total=   3.3s\n",
      "[CV] bootstrap=True, max_depth=100, max_features=auto, min_samples_leaf=1, min_samples_split=2, n_estimators=1700 \n",
      "[CV]  bootstrap=True, max_depth=100, max_features=auto, min_samples_leaf=1, min_samples_split=2, n_estimators=1700, total=   3.5s\n",
      "[CV] bootstrap=True, max_depth=100, max_features=auto, min_samples_leaf=1, min_samples_split=2, n_estimators=1700 \n",
      "[CV]  bootstrap=True, max_depth=100, max_features=auto, min_samples_leaf=1, min_samples_split=2, n_estimators=1700, total=   3.3s\n",
      "[CV] bootstrap=True, max_depth=100, max_features=auto, min_samples_leaf=1, min_samples_split=2, n_estimators=1700 \n",
      "[CV]  bootstrap=True, max_depth=100, max_features=auto, min_samples_leaf=1, min_samples_split=2, n_estimators=1700, total=   3.3s\n"
     ]
    },
    {
     "name": "stderr",
     "output_type": "stream",
     "text": [
      "[Parallel(n_jobs=1)]: Done  60 out of  60 | elapsed:  3.0min finished\n"
     ]
    },
    {
     "data": {
      "text/plain": [
       "GridSearchCV(cv=3, error_score='raise-deprecating',\n",
       "             estimator=RandomForestClassifier(bootstrap=True, class_weight=None,\n",
       "                                              criterion='gini', max_depth=None,\n",
       "                                              max_features='auto',\n",
       "                                              max_leaf_nodes=None,\n",
       "                                              min_impurity_decrease=0.0,\n",
       "                                              min_impurity_split=None,\n",
       "                                              min_samples_leaf=1,\n",
       "                                              min_samples_split=2,\n",
       "                                              min_weight_fraction_leaf=0.0,\n",
       "                                              n_estimators='warn', n_jobs=None,\n",
       "                                              oob_score=False, random_state=1,\n",
       "                                              verbose=0, warm_start=False),\n",
       "             iid='warn', n_jobs=1,\n",
       "             param_grid={'bootstrap': [True],\n",
       "                         'max_depth': [80, 85, 90, 95, 100],\n",
       "                         'max_features': ['auto'], 'min_samples_leaf': [1],\n",
       "                         'min_samples_split': [2],\n",
       "                         'n_estimators': [1400, 1500, 1600, 1700]},\n",
       "             pre_dispatch='2*n_jobs', refit=True, return_train_score=False,\n",
       "             scoring='accuracy', verbose=2)"
      ]
     },
     "execution_count": 103,
     "metadata": {},
     "output_type": "execute_result"
    }
   ],
   "source": [
    "rf = RandomForestClassifier(random_state = 1)\n",
    "rf_random = GridSearchCV(estimator = rf, param_grid = updated_params, cv = 3, verbose=2, scoring = 'accuracy',\n",
    "                               n_jobs = 1)\n",
    "rf_random.fit(X_train, y_train_hot)"
   ]
  },
  {
   "cell_type": "code",
   "execution_count": 104,
   "metadata": {},
   "outputs": [
    {
     "data": {
      "text/plain": [
       "{'bootstrap': True,\n",
       " 'max_depth': 80,\n",
       " 'max_features': 'auto',\n",
       " 'min_samples_leaf': 1,\n",
       " 'min_samples_split': 2,\n",
       " 'n_estimators': 1400}"
      ]
     },
     "execution_count": 104,
     "metadata": {},
     "output_type": "execute_result"
    }
   ],
   "source": [
    "rf_random.best_params_"
   ]
  },
  {
   "cell_type": "code",
   "execution_count": 105,
   "metadata": {},
   "outputs": [
    {
     "data": {
      "text/plain": [
       "0.8623924941360438"
      ]
     },
     "execution_count": 105,
     "metadata": {},
     "output_type": "execute_result"
    }
   ],
   "source": [
    "rf_random.best_score_"
   ]
  },
  {
   "cell_type": "code",
   "execution_count": 106,
   "metadata": {},
   "outputs": [],
   "source": [
    "updated_params = {'n_estimators': [1200,1300,1400], 'max_features':['auto'], 'max_depth': [70,75,80],\n",
    "                  'min_samples_split': [2], 'min_samples_leaf': [1], 'bootstrap':[True]}"
   ]
  },
  {
   "cell_type": "code",
   "execution_count": 107,
   "metadata": {},
   "outputs": [
    {
     "name": "stdout",
     "output_type": "stream",
     "text": [
      "Fitting 3 folds for each of 9 candidates, totalling 27 fits\n",
      "[CV] bootstrap=True, max_depth=70, max_features=auto, min_samples_leaf=1, min_samples_split=2, n_estimators=1200 \n"
     ]
    },
    {
     "name": "stderr",
     "output_type": "stream",
     "text": [
      "[Parallel(n_jobs=1)]: Using backend SequentialBackend with 1 concurrent workers.\n"
     ]
    },
    {
     "name": "stdout",
     "output_type": "stream",
     "text": [
      "[CV]  bootstrap=True, max_depth=70, max_features=auto, min_samples_leaf=1, min_samples_split=2, n_estimators=1200, total=   2.3s\n",
      "[CV] bootstrap=True, max_depth=70, max_features=auto, min_samples_leaf=1, min_samples_split=2, n_estimators=1200 \n"
     ]
    },
    {
     "name": "stderr",
     "output_type": "stream",
     "text": [
      "[Parallel(n_jobs=1)]: Done   1 out of   1 | elapsed:    2.3s remaining:    0.0s\n"
     ]
    },
    {
     "name": "stdout",
     "output_type": "stream",
     "text": [
      "[CV]  bootstrap=True, max_depth=70, max_features=auto, min_samples_leaf=1, min_samples_split=2, n_estimators=1200, total=   2.3s\n",
      "[CV] bootstrap=True, max_depth=70, max_features=auto, min_samples_leaf=1, min_samples_split=2, n_estimators=1200 \n",
      "[CV]  bootstrap=True, max_depth=70, max_features=auto, min_samples_leaf=1, min_samples_split=2, n_estimators=1200, total=   2.3s\n",
      "[CV] bootstrap=True, max_depth=70, max_features=auto, min_samples_leaf=1, min_samples_split=2, n_estimators=1300 \n",
      "[CV]  bootstrap=True, max_depth=70, max_features=auto, min_samples_leaf=1, min_samples_split=2, n_estimators=1300, total=   2.5s\n",
      "[CV] bootstrap=True, max_depth=70, max_features=auto, min_samples_leaf=1, min_samples_split=2, n_estimators=1300 \n",
      "[CV]  bootstrap=True, max_depth=70, max_features=auto, min_samples_leaf=1, min_samples_split=2, n_estimators=1300, total=   2.4s\n",
      "[CV] bootstrap=True, max_depth=70, max_features=auto, min_samples_leaf=1, min_samples_split=2, n_estimators=1300 \n",
      "[CV]  bootstrap=True, max_depth=70, max_features=auto, min_samples_leaf=1, min_samples_split=2, n_estimators=1300, total=   2.4s\n",
      "[CV] bootstrap=True, max_depth=70, max_features=auto, min_samples_leaf=1, min_samples_split=2, n_estimators=1400 \n",
      "[CV]  bootstrap=True, max_depth=70, max_features=auto, min_samples_leaf=1, min_samples_split=2, n_estimators=1400, total=   2.6s\n",
      "[CV] bootstrap=True, max_depth=70, max_features=auto, min_samples_leaf=1, min_samples_split=2, n_estimators=1400 \n",
      "[CV]  bootstrap=True, max_depth=70, max_features=auto, min_samples_leaf=1, min_samples_split=2, n_estimators=1400, total=   2.5s\n",
      "[CV] bootstrap=True, max_depth=70, max_features=auto, min_samples_leaf=1, min_samples_split=2, n_estimators=1400 \n",
      "[CV]  bootstrap=True, max_depth=70, max_features=auto, min_samples_leaf=1, min_samples_split=2, n_estimators=1400, total=   2.6s\n",
      "[CV] bootstrap=True, max_depth=75, max_features=auto, min_samples_leaf=1, min_samples_split=2, n_estimators=1200 \n",
      "[CV]  bootstrap=True, max_depth=75, max_features=auto, min_samples_leaf=1, min_samples_split=2, n_estimators=1200, total=   2.2s\n",
      "[CV] bootstrap=True, max_depth=75, max_features=auto, min_samples_leaf=1, min_samples_split=2, n_estimators=1200 \n",
      "[CV]  bootstrap=True, max_depth=75, max_features=auto, min_samples_leaf=1, min_samples_split=2, n_estimators=1200, total=   2.2s\n",
      "[CV] bootstrap=True, max_depth=75, max_features=auto, min_samples_leaf=1, min_samples_split=2, n_estimators=1200 \n",
      "[CV]  bootstrap=True, max_depth=75, max_features=auto, min_samples_leaf=1, min_samples_split=2, n_estimators=1200, total=   2.2s\n",
      "[CV] bootstrap=True, max_depth=75, max_features=auto, min_samples_leaf=1, min_samples_split=2, n_estimators=1300 \n",
      "[CV]  bootstrap=True, max_depth=75, max_features=auto, min_samples_leaf=1, min_samples_split=2, n_estimators=1300, total=   2.5s\n",
      "[CV] bootstrap=True, max_depth=75, max_features=auto, min_samples_leaf=1, min_samples_split=2, n_estimators=1300 \n",
      "[CV]  bootstrap=True, max_depth=75, max_features=auto, min_samples_leaf=1, min_samples_split=2, n_estimators=1300, total=   2.3s\n",
      "[CV] bootstrap=True, max_depth=75, max_features=auto, min_samples_leaf=1, min_samples_split=2, n_estimators=1300 \n",
      "[CV]  bootstrap=True, max_depth=75, max_features=auto, min_samples_leaf=1, min_samples_split=2, n_estimators=1300, total=   2.4s\n",
      "[CV] bootstrap=True, max_depth=75, max_features=auto, min_samples_leaf=1, min_samples_split=2, n_estimators=1400 \n",
      "[CV]  bootstrap=True, max_depth=75, max_features=auto, min_samples_leaf=1, min_samples_split=2, n_estimators=1400, total=   2.6s\n",
      "[CV] bootstrap=True, max_depth=75, max_features=auto, min_samples_leaf=1, min_samples_split=2, n_estimators=1400 \n",
      "[CV]  bootstrap=True, max_depth=75, max_features=auto, min_samples_leaf=1, min_samples_split=2, n_estimators=1400, total=   2.7s\n",
      "[CV] bootstrap=True, max_depth=75, max_features=auto, min_samples_leaf=1, min_samples_split=2, n_estimators=1400 \n",
      "[CV]  bootstrap=True, max_depth=75, max_features=auto, min_samples_leaf=1, min_samples_split=2, n_estimators=1400, total=   2.6s\n",
      "[CV] bootstrap=True, max_depth=80, max_features=auto, min_samples_leaf=1, min_samples_split=2, n_estimators=1200 \n",
      "[CV]  bootstrap=True, max_depth=80, max_features=auto, min_samples_leaf=1, min_samples_split=2, n_estimators=1200, total=   2.2s\n",
      "[CV] bootstrap=True, max_depth=80, max_features=auto, min_samples_leaf=1, min_samples_split=2, n_estimators=1200 \n",
      "[CV]  bootstrap=True, max_depth=80, max_features=auto, min_samples_leaf=1, min_samples_split=2, n_estimators=1200, total=   2.2s\n",
      "[CV] bootstrap=True, max_depth=80, max_features=auto, min_samples_leaf=1, min_samples_split=2, n_estimators=1200 \n",
      "[CV]  bootstrap=True, max_depth=80, max_features=auto, min_samples_leaf=1, min_samples_split=2, n_estimators=1200, total=   2.3s\n",
      "[CV] bootstrap=True, max_depth=80, max_features=auto, min_samples_leaf=1, min_samples_split=2, n_estimators=1300 \n",
      "[CV]  bootstrap=True, max_depth=80, max_features=auto, min_samples_leaf=1, min_samples_split=2, n_estimators=1300, total=   2.4s\n",
      "[CV] bootstrap=True, max_depth=80, max_features=auto, min_samples_leaf=1, min_samples_split=2, n_estimators=1300 \n",
      "[CV]  bootstrap=True, max_depth=80, max_features=auto, min_samples_leaf=1, min_samples_split=2, n_estimators=1300, total=   2.6s\n",
      "[CV] bootstrap=True, max_depth=80, max_features=auto, min_samples_leaf=1, min_samples_split=2, n_estimators=1300 \n",
      "[CV]  bootstrap=True, max_depth=80, max_features=auto, min_samples_leaf=1, min_samples_split=2, n_estimators=1300, total=   2.6s\n",
      "[CV] bootstrap=True, max_depth=80, max_features=auto, min_samples_leaf=1, min_samples_split=2, n_estimators=1400 \n",
      "[CV]  bootstrap=True, max_depth=80, max_features=auto, min_samples_leaf=1, min_samples_split=2, n_estimators=1400, total=   2.6s\n",
      "[CV] bootstrap=True, max_depth=80, max_features=auto, min_samples_leaf=1, min_samples_split=2, n_estimators=1400 \n",
      "[CV]  bootstrap=True, max_depth=80, max_features=auto, min_samples_leaf=1, min_samples_split=2, n_estimators=1400, total=   2.5s\n",
      "[CV] bootstrap=True, max_depth=80, max_features=auto, min_samples_leaf=1, min_samples_split=2, n_estimators=1400 \n",
      "[CV]  bootstrap=True, max_depth=80, max_features=auto, min_samples_leaf=1, min_samples_split=2, n_estimators=1400, total=   2.6s\n"
     ]
    },
    {
     "name": "stderr",
     "output_type": "stream",
     "text": [
      "[Parallel(n_jobs=1)]: Done  27 out of  27 | elapsed:  1.1min finished\n"
     ]
    },
    {
     "data": {
      "text/plain": [
       "GridSearchCV(cv=3, error_score='raise-deprecating',\n",
       "             estimator=RandomForestClassifier(bootstrap=True, class_weight=None,\n",
       "                                              criterion='gini', max_depth=None,\n",
       "                                              max_features='auto',\n",
       "                                              max_leaf_nodes=None,\n",
       "                                              min_impurity_decrease=0.0,\n",
       "                                              min_impurity_split=None,\n",
       "                                              min_samples_leaf=1,\n",
       "                                              min_samples_split=2,\n",
       "                                              min_weight_fraction_leaf=0.0,\n",
       "                                              n_estimators='warn', n_jobs=None,\n",
       "                                              oob_score=False, random_state=1,\n",
       "                                              verbose=0, warm_start=False),\n",
       "             iid='warn', n_jobs=1,\n",
       "             param_grid={'bootstrap': [True], 'max_depth': [70, 75, 80],\n",
       "                         'max_features': ['auto'], 'min_samples_leaf': [1],\n",
       "                         'min_samples_split': [2],\n",
       "                         'n_estimators': [1200, 1300, 1400]},\n",
       "             pre_dispatch='2*n_jobs', refit=True, return_train_score=False,\n",
       "             scoring='accuracy', verbose=2)"
      ]
     },
     "execution_count": 107,
     "metadata": {},
     "output_type": "execute_result"
    }
   ],
   "source": [
    "rf = RandomForestClassifier(random_state = 1)\n",
    "rf_grid = GridSearchCV(estimator = rf, param_grid = updated_params, cv = 3, verbose=2, scoring = 'accuracy',\n",
    "                               n_jobs = 1)\n",
    "rf_grid.fit(X_train, y_train_hot)"
   ]
  },
  {
   "cell_type": "code",
   "execution_count": 108,
   "metadata": {},
   "outputs": [
    {
     "data": {
      "text/plain": [
       "0.8623924941360438"
      ]
     },
     "execution_count": 108,
     "metadata": {},
     "output_type": "execute_result"
    }
   ],
   "source": [
    "rf_grid.best_score_"
   ]
  },
  {
   "cell_type": "code",
   "execution_count": null,
   "metadata": {},
   "outputs": [],
   "source": [
    "0.8623924941360438"
   ]
  },
  {
   "cell_type": "code",
   "execution_count": 109,
   "metadata": {},
   "outputs": [
    {
     "data": {
      "text/plain": [
       "{'bootstrap': True,\n",
       " 'max_depth': 70,\n",
       " 'max_features': 'auto',\n",
       " 'min_samples_leaf': 1,\n",
       " 'min_samples_split': 2,\n",
       " 'n_estimators': 1400}"
      ]
     },
     "execution_count": 109,
     "metadata": {},
     "output_type": "execute_result"
    }
   ],
   "source": [
    "rf_grid.best_params_"
   ]
  },
  {
   "cell_type": "code",
   "execution_count": 110,
   "metadata": {},
   "outputs": [],
   "source": [
    "updated_params = {'n_estimators': [1400], 'max_features':['auto'], 'max_depth': [50,60,70],\n",
    "                  'min_samples_split': [2], 'min_samples_leaf': [1], 'bootstrap':[True]}"
   ]
  },
  {
   "cell_type": "code",
   "execution_count": 111,
   "metadata": {},
   "outputs": [
    {
     "name": "stdout",
     "output_type": "stream",
     "text": [
      "Fitting 3 folds for each of 3 candidates, totalling 9 fits\n",
      "[CV] bootstrap=True, max_depth=50, max_features=auto, min_samples_leaf=1, min_samples_split=2, n_estimators=1400 \n"
     ]
    },
    {
     "name": "stderr",
     "output_type": "stream",
     "text": [
      "[Parallel(n_jobs=1)]: Using backend SequentialBackend with 1 concurrent workers.\n"
     ]
    },
    {
     "name": "stdout",
     "output_type": "stream",
     "text": [
      "[CV]  bootstrap=True, max_depth=50, max_features=auto, min_samples_leaf=1, min_samples_split=2, n_estimators=1400, total=   2.6s\n",
      "[CV] bootstrap=True, max_depth=50, max_features=auto, min_samples_leaf=1, min_samples_split=2, n_estimators=1400 \n"
     ]
    },
    {
     "name": "stderr",
     "output_type": "stream",
     "text": [
      "[Parallel(n_jobs=1)]: Done   1 out of   1 | elapsed:    2.6s remaining:    0.0s\n"
     ]
    },
    {
     "name": "stdout",
     "output_type": "stream",
     "text": [
      "[CV]  bootstrap=True, max_depth=50, max_features=auto, min_samples_leaf=1, min_samples_split=2, n_estimators=1400, total=   2.5s\n",
      "[CV] bootstrap=True, max_depth=50, max_features=auto, min_samples_leaf=1, min_samples_split=2, n_estimators=1400 \n",
      "[CV]  bootstrap=True, max_depth=50, max_features=auto, min_samples_leaf=1, min_samples_split=2, n_estimators=1400, total=   2.6s\n",
      "[CV] bootstrap=True, max_depth=60, max_features=auto, min_samples_leaf=1, min_samples_split=2, n_estimators=1400 \n",
      "[CV]  bootstrap=True, max_depth=60, max_features=auto, min_samples_leaf=1, min_samples_split=2, n_estimators=1400, total=   2.6s\n",
      "[CV] bootstrap=True, max_depth=60, max_features=auto, min_samples_leaf=1, min_samples_split=2, n_estimators=1400 \n",
      "[CV]  bootstrap=True, max_depth=60, max_features=auto, min_samples_leaf=1, min_samples_split=2, n_estimators=1400, total=   2.5s\n",
      "[CV] bootstrap=True, max_depth=60, max_features=auto, min_samples_leaf=1, min_samples_split=2, n_estimators=1400 \n",
      "[CV]  bootstrap=True, max_depth=60, max_features=auto, min_samples_leaf=1, min_samples_split=2, n_estimators=1400, total=   2.6s\n",
      "[CV] bootstrap=True, max_depth=70, max_features=auto, min_samples_leaf=1, min_samples_split=2, n_estimators=1400 \n",
      "[CV]  bootstrap=True, max_depth=70, max_features=auto, min_samples_leaf=1, min_samples_split=2, n_estimators=1400, total=   2.6s\n",
      "[CV] bootstrap=True, max_depth=70, max_features=auto, min_samples_leaf=1, min_samples_split=2, n_estimators=1400 \n",
      "[CV]  bootstrap=True, max_depth=70, max_features=auto, min_samples_leaf=1, min_samples_split=2, n_estimators=1400, total=   2.7s\n",
      "[CV] bootstrap=True, max_depth=70, max_features=auto, min_samples_leaf=1, min_samples_split=2, n_estimators=1400 \n",
      "[CV]  bootstrap=True, max_depth=70, max_features=auto, min_samples_leaf=1, min_samples_split=2, n_estimators=1400, total=   2.7s\n"
     ]
    },
    {
     "name": "stderr",
     "output_type": "stream",
     "text": [
      "[Parallel(n_jobs=1)]: Done   9 out of   9 | elapsed:   23.6s finished\n"
     ]
    },
    {
     "data": {
      "text/plain": [
       "GridSearchCV(cv=3, error_score='raise-deprecating',\n",
       "             estimator=RandomForestClassifier(bootstrap=True, class_weight=None,\n",
       "                                              criterion='gini', max_depth=None,\n",
       "                                              max_features='auto',\n",
       "                                              max_leaf_nodes=None,\n",
       "                                              min_impurity_decrease=0.0,\n",
       "                                              min_impurity_split=None,\n",
       "                                              min_samples_leaf=1,\n",
       "                                              min_samples_split=2,\n",
       "                                              min_weight_fraction_leaf=0.0,\n",
       "                                              n_estimators='warn', n_jobs=None,\n",
       "                                              oob_score=False, random_state=1,\n",
       "                                              verbose=0, warm_start=False),\n",
       "             iid='warn', n_jobs=1,\n",
       "             param_grid={'bootstrap': [True], 'max_depth': [50, 60, 70],\n",
       "                         'max_features': ['auto'], 'min_samples_leaf': [1],\n",
       "                         'min_samples_split': [2], 'n_estimators': [1400]},\n",
       "             pre_dispatch='2*n_jobs', refit=True, return_train_score=False,\n",
       "             scoring='accuracy', verbose=2)"
      ]
     },
     "execution_count": 111,
     "metadata": {},
     "output_type": "execute_result"
    }
   ],
   "source": [
    "rf = RandomForestClassifier(random_state = 1)\n",
    "rf_grid = GridSearchCV(estimator = rf, param_grid = updated_params, cv = 3, verbose=2, scoring = 'accuracy',\n",
    "                               n_jobs = 1)\n",
    "rf_grid.fit(X_train, y_train_hot)"
   ]
  },
  {
   "cell_type": "code",
   "execution_count": 112,
   "metadata": {},
   "outputs": [
    {
     "data": {
      "text/plain": [
       "{'bootstrap': True,\n",
       " 'max_depth': 50,\n",
       " 'max_features': 'auto',\n",
       " 'min_samples_leaf': 1,\n",
       " 'min_samples_split': 2,\n",
       " 'n_estimators': 1400}"
      ]
     },
     "execution_count": 112,
     "metadata": {},
     "output_type": "execute_result"
    }
   ],
   "source": [
    "rf_grid.best_params_"
   ]
  },
  {
   "cell_type": "code",
   "execution_count": 113,
   "metadata": {},
   "outputs": [
    {
     "data": {
      "text/plain": [
       "0.8623924941360438"
      ]
     },
     "execution_count": 113,
     "metadata": {},
     "output_type": "execute_result"
    }
   ],
   "source": [
    "rf_grid.best_score_"
   ]
  },
  {
   "cell_type": "code",
   "execution_count": null,
   "metadata": {},
   "outputs": [],
   "source": [
    "WOW great still stucks"
   ]
  },
  {
   "cell_type": "code",
   "execution_count": 151,
   "metadata": {},
   "outputs": [
    {
     "name": "stdout",
     "output_type": "stream",
     "text": [
      "0.875\n"
     ]
    }
   ],
   "source": [
    "best_rf = rf_grid.best_estimator_\n",
    "best_rf.fit(X_train, y_train_hot)\n",
    "score = best_rf.score(X_test, y_test_hot)\n",
    "print(score)"
   ]
  },
  {
   "cell_type": "code",
   "execution_count": null,
   "metadata": {},
   "outputs": [],
   "source": []
  },
  {
   "cell_type": "code",
   "execution_count": null,
   "metadata": {},
   "outputs": [],
   "source": []
  },
  {
   "cell_type": "code",
   "execution_count": null,
   "metadata": {},
   "outputs": [],
   "source": []
  },
  {
   "cell_type": "code",
   "execution_count": null,
   "metadata": {},
   "outputs": [],
   "source": []
  },
  {
   "cell_type": "code",
   "execution_count": null,
   "metadata": {},
   "outputs": [],
   "source": []
  },
  {
   "cell_type": "markdown",
   "metadata": {},
   "source": [
    "# *NEural NET"
   ]
  },
  {
   "cell_type": "code",
   "execution_count": 61,
   "metadata": {},
   "outputs": [],
   "source": [
    "random_grid = {'learning_rate_init':[1e-5,1e-3,1e-1],'alpha':[1e-3], \n",
    "               'hidden_layer_sizes':[(10,),(100,),(100,100),(100,100,100)], 'solver':['adam','sgd','lbfgs']}"
   ]
  },
  {
   "cell_type": "code",
   "execution_count": 62,
   "metadata": {},
   "outputs": [
    {
     "name": "stderr",
     "output_type": "stream",
     "text": [
      "/Library/Frameworks/Python.framework/Versions/3.7/lib/python3.7/site-packages/sklearn/model_selection/_search.py:266: UserWarning: The total space of parameters 36 is smaller than n_iter=40. Running 36 iterations. For exhaustive searches, use GridSearchCV.\n",
      "  % (grid_size, self.n_iter, grid_size), UserWarning)\n",
      "[Parallel(n_jobs=1)]: Using backend SequentialBackend with 1 concurrent workers.\n"
     ]
    },
    {
     "name": "stdout",
     "output_type": "stream",
     "text": [
      "Fitting 3 folds for each of 36 candidates, totalling 108 fits\n",
      "[CV] solver=adam, learning_rate_init=1e-05, hidden_layer_sizes=(10,), alpha=0.001 \n"
     ]
    },
    {
     "name": "stderr",
     "output_type": "stream",
     "text": [
      "/Library/Frameworks/Python.framework/Versions/3.7/lib/python3.7/site-packages/sklearn/neural_network/multilayer_perceptron.py:566: ConvergenceWarning: Stochastic Optimizer: Maximum iterations (400) reached and the optimization hasn't converged yet.\n",
      "  % self.max_iter, ConvergenceWarning)\n",
      "[Parallel(n_jobs=1)]: Done   1 out of   1 | elapsed:    0.6s remaining:    0.0s\n"
     ]
    },
    {
     "name": "stdout",
     "output_type": "stream",
     "text": [
      "[CV]  solver=adam, learning_rate_init=1e-05, hidden_layer_sizes=(10,), alpha=0.001, total=   0.6s\n",
      "[CV] solver=adam, learning_rate_init=1e-05, hidden_layer_sizes=(10,), alpha=0.001 \n"
     ]
    },
    {
     "name": "stderr",
     "output_type": "stream",
     "text": [
      "/Library/Frameworks/Python.framework/Versions/3.7/lib/python3.7/site-packages/sklearn/neural_network/multilayer_perceptron.py:566: ConvergenceWarning: Stochastic Optimizer: Maximum iterations (400) reached and the optimization hasn't converged yet.\n",
      "  % self.max_iter, ConvergenceWarning)\n"
     ]
    },
    {
     "name": "stdout",
     "output_type": "stream",
     "text": [
      "[CV]  solver=adam, learning_rate_init=1e-05, hidden_layer_sizes=(10,), alpha=0.001, total=   0.6s\n",
      "[CV] solver=adam, learning_rate_init=1e-05, hidden_layer_sizes=(10,), alpha=0.001 \n"
     ]
    },
    {
     "name": "stderr",
     "output_type": "stream",
     "text": [
      "/Library/Frameworks/Python.framework/Versions/3.7/lib/python3.7/site-packages/sklearn/neural_network/multilayer_perceptron.py:566: ConvergenceWarning: Stochastic Optimizer: Maximum iterations (400) reached and the optimization hasn't converged yet.\n",
      "  % self.max_iter, ConvergenceWarning)\n"
     ]
    },
    {
     "name": "stdout",
     "output_type": "stream",
     "text": [
      "[CV]  solver=adam, learning_rate_init=1e-05, hidden_layer_sizes=(10,), alpha=0.001, total=   0.5s\n",
      "[CV] solver=sgd, learning_rate_init=1e-05, hidden_layer_sizes=(10,), alpha=0.001 \n"
     ]
    },
    {
     "name": "stderr",
     "output_type": "stream",
     "text": [
      "/Library/Frameworks/Python.framework/Versions/3.7/lib/python3.7/site-packages/sklearn/neural_network/multilayer_perceptron.py:566: ConvergenceWarning: Stochastic Optimizer: Maximum iterations (400) reached and the optimization hasn't converged yet.\n",
      "  % self.max_iter, ConvergenceWarning)\n"
     ]
    },
    {
     "name": "stdout",
     "output_type": "stream",
     "text": [
      "[CV]  solver=sgd, learning_rate_init=1e-05, hidden_layer_sizes=(10,), alpha=0.001, total=   0.5s\n",
      "[CV] solver=sgd, learning_rate_init=1e-05, hidden_layer_sizes=(10,), alpha=0.001 \n"
     ]
    },
    {
     "name": "stderr",
     "output_type": "stream",
     "text": [
      "/Library/Frameworks/Python.framework/Versions/3.7/lib/python3.7/site-packages/sklearn/neural_network/multilayer_perceptron.py:566: ConvergenceWarning: Stochastic Optimizer: Maximum iterations (400) reached and the optimization hasn't converged yet.\n",
      "  % self.max_iter, ConvergenceWarning)\n"
     ]
    },
    {
     "name": "stdout",
     "output_type": "stream",
     "text": [
      "[CV]  solver=sgd, learning_rate_init=1e-05, hidden_layer_sizes=(10,), alpha=0.001, total=   0.5s\n",
      "[CV] solver=sgd, learning_rate_init=1e-05, hidden_layer_sizes=(10,), alpha=0.001 \n"
     ]
    },
    {
     "name": "stderr",
     "output_type": "stream",
     "text": [
      "/Library/Frameworks/Python.framework/Versions/3.7/lib/python3.7/site-packages/sklearn/neural_network/multilayer_perceptron.py:566: ConvergenceWarning: Stochastic Optimizer: Maximum iterations (400) reached and the optimization hasn't converged yet.\n",
      "  % self.max_iter, ConvergenceWarning)\n"
     ]
    },
    {
     "name": "stdout",
     "output_type": "stream",
     "text": [
      "[CV]  solver=sgd, learning_rate_init=1e-05, hidden_layer_sizes=(10,), alpha=0.001, total=   0.5s\n",
      "[CV] solver=lbfgs, learning_rate_init=1e-05, hidden_layer_sizes=(10,), alpha=0.001 \n",
      "[CV]  solver=lbfgs, learning_rate_init=1e-05, hidden_layer_sizes=(10,), alpha=0.001, total=   0.2s\n",
      "[CV] solver=lbfgs, learning_rate_init=1e-05, hidden_layer_sizes=(10,), alpha=0.001 \n",
      "[CV]  solver=lbfgs, learning_rate_init=1e-05, hidden_layer_sizes=(10,), alpha=0.001, total=   0.2s\n",
      "[CV] solver=lbfgs, learning_rate_init=1e-05, hidden_layer_sizes=(10,), alpha=0.001 \n",
      "[CV]  solver=lbfgs, learning_rate_init=1e-05, hidden_layer_sizes=(10,), alpha=0.001, total=   0.2s\n",
      "[CV] solver=adam, learning_rate_init=0.001, hidden_layer_sizes=(10,), alpha=0.001 \n"
     ]
    },
    {
     "name": "stderr",
     "output_type": "stream",
     "text": [
      "/Library/Frameworks/Python.framework/Versions/3.7/lib/python3.7/site-packages/sklearn/neural_network/multilayer_perceptron.py:566: ConvergenceWarning: Stochastic Optimizer: Maximum iterations (400) reached and the optimization hasn't converged yet.\n",
      "  % self.max_iter, ConvergenceWarning)\n"
     ]
    },
    {
     "name": "stdout",
     "output_type": "stream",
     "text": [
      "[CV]  solver=adam, learning_rate_init=0.001, hidden_layer_sizes=(10,), alpha=0.001, total=   0.5s\n",
      "[CV] solver=adam, learning_rate_init=0.001, hidden_layer_sizes=(10,), alpha=0.001 \n"
     ]
    },
    {
     "name": "stderr",
     "output_type": "stream",
     "text": [
      "/Library/Frameworks/Python.framework/Versions/3.7/lib/python3.7/site-packages/sklearn/neural_network/multilayer_perceptron.py:566: ConvergenceWarning: Stochastic Optimizer: Maximum iterations (400) reached and the optimization hasn't converged yet.\n",
      "  % self.max_iter, ConvergenceWarning)\n"
     ]
    },
    {
     "name": "stdout",
     "output_type": "stream",
     "text": [
      "[CV]  solver=adam, learning_rate_init=0.001, hidden_layer_sizes=(10,), alpha=0.001, total=   0.5s\n",
      "[CV] solver=adam, learning_rate_init=0.001, hidden_layer_sizes=(10,), alpha=0.001 \n"
     ]
    },
    {
     "name": "stderr",
     "output_type": "stream",
     "text": [
      "/Library/Frameworks/Python.framework/Versions/3.7/lib/python3.7/site-packages/sklearn/neural_network/multilayer_perceptron.py:566: ConvergenceWarning: Stochastic Optimizer: Maximum iterations (400) reached and the optimization hasn't converged yet.\n",
      "  % self.max_iter, ConvergenceWarning)\n"
     ]
    },
    {
     "name": "stdout",
     "output_type": "stream",
     "text": [
      "[CV]  solver=adam, learning_rate_init=0.001, hidden_layer_sizes=(10,), alpha=0.001, total=   0.6s\n",
      "[CV] solver=sgd, learning_rate_init=0.001, hidden_layer_sizes=(10,), alpha=0.001 \n"
     ]
    },
    {
     "name": "stderr",
     "output_type": "stream",
     "text": [
      "/Library/Frameworks/Python.framework/Versions/3.7/lib/python3.7/site-packages/sklearn/neural_network/multilayer_perceptron.py:566: ConvergenceWarning: Stochastic Optimizer: Maximum iterations (400) reached and the optimization hasn't converged yet.\n",
      "  % self.max_iter, ConvergenceWarning)\n"
     ]
    },
    {
     "name": "stdout",
     "output_type": "stream",
     "text": [
      "[CV]  solver=sgd, learning_rate_init=0.001, hidden_layer_sizes=(10,), alpha=0.001, total=   0.5s\n",
      "[CV] solver=sgd, learning_rate_init=0.001, hidden_layer_sizes=(10,), alpha=0.001 \n"
     ]
    },
    {
     "name": "stderr",
     "output_type": "stream",
     "text": [
      "/Library/Frameworks/Python.framework/Versions/3.7/lib/python3.7/site-packages/sklearn/neural_network/multilayer_perceptron.py:566: ConvergenceWarning: Stochastic Optimizer: Maximum iterations (400) reached and the optimization hasn't converged yet.\n",
      "  % self.max_iter, ConvergenceWarning)\n"
     ]
    },
    {
     "name": "stdout",
     "output_type": "stream",
     "text": [
      "[CV]  solver=sgd, learning_rate_init=0.001, hidden_layer_sizes=(10,), alpha=0.001, total=   0.5s\n",
      "[CV] solver=sgd, learning_rate_init=0.001, hidden_layer_sizes=(10,), alpha=0.001 \n"
     ]
    },
    {
     "name": "stderr",
     "output_type": "stream",
     "text": [
      "/Library/Frameworks/Python.framework/Versions/3.7/lib/python3.7/site-packages/sklearn/neural_network/multilayer_perceptron.py:566: ConvergenceWarning: Stochastic Optimizer: Maximum iterations (400) reached and the optimization hasn't converged yet.\n",
      "  % self.max_iter, ConvergenceWarning)\n"
     ]
    },
    {
     "name": "stdout",
     "output_type": "stream",
     "text": [
      "[CV]  solver=sgd, learning_rate_init=0.001, hidden_layer_sizes=(10,), alpha=0.001, total=   0.5s\n",
      "[CV] solver=lbfgs, learning_rate_init=0.001, hidden_layer_sizes=(10,), alpha=0.001 \n",
      "[CV]  solver=lbfgs, learning_rate_init=0.001, hidden_layer_sizes=(10,), alpha=0.001, total=   0.2s\n",
      "[CV] solver=lbfgs, learning_rate_init=0.001, hidden_layer_sizes=(10,), alpha=0.001 \n",
      "[CV]  solver=lbfgs, learning_rate_init=0.001, hidden_layer_sizes=(10,), alpha=0.001, total=   0.2s\n",
      "[CV] solver=lbfgs, learning_rate_init=0.001, hidden_layer_sizes=(10,), alpha=0.001 \n",
      "[CV]  solver=lbfgs, learning_rate_init=0.001, hidden_layer_sizes=(10,), alpha=0.001, total=   0.2s\n",
      "[CV] solver=adam, learning_rate_init=0.1, hidden_layer_sizes=(10,), alpha=0.001 \n",
      "[CV]  solver=adam, learning_rate_init=0.1, hidden_layer_sizes=(10,), alpha=0.001, total=   0.1s\n",
      "[CV] solver=adam, learning_rate_init=0.1, hidden_layer_sizes=(10,), alpha=0.001 \n",
      "[CV]  solver=adam, learning_rate_init=0.1, hidden_layer_sizes=(10,), alpha=0.001, total=   0.1s\n",
      "[CV] solver=adam, learning_rate_init=0.1, hidden_layer_sizes=(10,), alpha=0.001 \n",
      "[CV]  solver=adam, learning_rate_init=0.1, hidden_layer_sizes=(10,), alpha=0.001, total=   0.1s\n",
      "[CV] solver=sgd, learning_rate_init=0.1, hidden_layer_sizes=(10,), alpha=0.001 \n",
      "[CV]  solver=sgd, learning_rate_init=0.1, hidden_layer_sizes=(10,), alpha=0.001, total=   0.3s\n",
      "[CV] solver=sgd, learning_rate_init=0.1, hidden_layer_sizes=(10,), alpha=0.001 \n",
      "[CV]  solver=sgd, learning_rate_init=0.1, hidden_layer_sizes=(10,), alpha=0.001, total=   0.2s\n",
      "[CV] solver=sgd, learning_rate_init=0.1, hidden_layer_sizes=(10,), alpha=0.001 \n",
      "[CV]  solver=sgd, learning_rate_init=0.1, hidden_layer_sizes=(10,), alpha=0.001, total=   0.2s\n",
      "[CV] solver=lbfgs, learning_rate_init=0.1, hidden_layer_sizes=(10,), alpha=0.001 \n",
      "[CV]  solver=lbfgs, learning_rate_init=0.1, hidden_layer_sizes=(10,), alpha=0.001, total=   0.2s\n",
      "[CV] solver=lbfgs, learning_rate_init=0.1, hidden_layer_sizes=(10,), alpha=0.001 \n",
      "[CV]  solver=lbfgs, learning_rate_init=0.1, hidden_layer_sizes=(10,), alpha=0.001, total=   0.2s\n",
      "[CV] solver=lbfgs, learning_rate_init=0.1, hidden_layer_sizes=(10,), alpha=0.001 \n",
      "[CV]  solver=lbfgs, learning_rate_init=0.1, hidden_layer_sizes=(10,), alpha=0.001, total=   0.2s\n",
      "[CV] solver=adam, learning_rate_init=1e-05, hidden_layer_sizes=(100,), alpha=0.001 \n"
     ]
    },
    {
     "name": "stderr",
     "output_type": "stream",
     "text": [
      "/Library/Frameworks/Python.framework/Versions/3.7/lib/python3.7/site-packages/sklearn/neural_network/multilayer_perceptron.py:566: ConvergenceWarning: Stochastic Optimizer: Maximum iterations (400) reached and the optimization hasn't converged yet.\n",
      "  % self.max_iter, ConvergenceWarning)\n"
     ]
    },
    {
     "name": "stdout",
     "output_type": "stream",
     "text": [
      "[CV]  solver=adam, learning_rate_init=1e-05, hidden_layer_sizes=(100,), alpha=0.001, total=   1.1s\n",
      "[CV] solver=adam, learning_rate_init=1e-05, hidden_layer_sizes=(100,), alpha=0.001 \n"
     ]
    },
    {
     "name": "stderr",
     "output_type": "stream",
     "text": [
      "/Library/Frameworks/Python.framework/Versions/3.7/lib/python3.7/site-packages/sklearn/neural_network/multilayer_perceptron.py:566: ConvergenceWarning: Stochastic Optimizer: Maximum iterations (400) reached and the optimization hasn't converged yet.\n",
      "  % self.max_iter, ConvergenceWarning)\n"
     ]
    },
    {
     "name": "stdout",
     "output_type": "stream",
     "text": [
      "[CV]  solver=adam, learning_rate_init=1e-05, hidden_layer_sizes=(100,), alpha=0.001, total=   1.0s\n",
      "[CV] solver=adam, learning_rate_init=1e-05, hidden_layer_sizes=(100,), alpha=0.001 \n"
     ]
    },
    {
     "name": "stderr",
     "output_type": "stream",
     "text": [
      "/Library/Frameworks/Python.framework/Versions/3.7/lib/python3.7/site-packages/sklearn/neural_network/multilayer_perceptron.py:566: ConvergenceWarning: Stochastic Optimizer: Maximum iterations (400) reached and the optimization hasn't converged yet.\n",
      "  % self.max_iter, ConvergenceWarning)\n"
     ]
    },
    {
     "name": "stdout",
     "output_type": "stream",
     "text": [
      "[CV]  solver=adam, learning_rate_init=1e-05, hidden_layer_sizes=(100,), alpha=0.001, total=   1.0s\n",
      "[CV] solver=sgd, learning_rate_init=1e-05, hidden_layer_sizes=(100,), alpha=0.001 \n"
     ]
    },
    {
     "name": "stderr",
     "output_type": "stream",
     "text": [
      "/Library/Frameworks/Python.framework/Versions/3.7/lib/python3.7/site-packages/sklearn/neural_network/multilayer_perceptron.py:566: ConvergenceWarning: Stochastic Optimizer: Maximum iterations (400) reached and the optimization hasn't converged yet.\n",
      "  % self.max_iter, ConvergenceWarning)\n"
     ]
    },
    {
     "name": "stdout",
     "output_type": "stream",
     "text": [
      "[CV]  solver=sgd, learning_rate_init=1e-05, hidden_layer_sizes=(100,), alpha=0.001, total=   1.0s\n",
      "[CV] solver=sgd, learning_rate_init=1e-05, hidden_layer_sizes=(100,), alpha=0.001 \n"
     ]
    },
    {
     "name": "stderr",
     "output_type": "stream",
     "text": [
      "/Library/Frameworks/Python.framework/Versions/3.7/lib/python3.7/site-packages/sklearn/neural_network/multilayer_perceptron.py:566: ConvergenceWarning: Stochastic Optimizer: Maximum iterations (400) reached and the optimization hasn't converged yet.\n",
      "  % self.max_iter, ConvergenceWarning)\n"
     ]
    },
    {
     "name": "stdout",
     "output_type": "stream",
     "text": [
      "[CV]  solver=sgd, learning_rate_init=1e-05, hidden_layer_sizes=(100,), alpha=0.001, total=   0.9s\n",
      "[CV] solver=sgd, learning_rate_init=1e-05, hidden_layer_sizes=(100,), alpha=0.001 \n"
     ]
    },
    {
     "name": "stderr",
     "output_type": "stream",
     "text": [
      "/Library/Frameworks/Python.framework/Versions/3.7/lib/python3.7/site-packages/sklearn/neural_network/multilayer_perceptron.py:566: ConvergenceWarning: Stochastic Optimizer: Maximum iterations (400) reached and the optimization hasn't converged yet.\n",
      "  % self.max_iter, ConvergenceWarning)\n"
     ]
    },
    {
     "name": "stdout",
     "output_type": "stream",
     "text": [
      "[CV]  solver=sgd, learning_rate_init=1e-05, hidden_layer_sizes=(100,), alpha=0.001, total=   0.9s\n",
      "[CV] solver=lbfgs, learning_rate_init=1e-05, hidden_layer_sizes=(100,), alpha=0.001 \n",
      "[CV]  solver=lbfgs, learning_rate_init=1e-05, hidden_layer_sizes=(100,), alpha=0.001, total=   0.3s\n",
      "[CV] solver=lbfgs, learning_rate_init=1e-05, hidden_layer_sizes=(100,), alpha=0.001 \n",
      "[CV]  solver=lbfgs, learning_rate_init=1e-05, hidden_layer_sizes=(100,), alpha=0.001, total=   0.3s\n",
      "[CV] solver=lbfgs, learning_rate_init=1e-05, hidden_layer_sizes=(100,), alpha=0.001 \n",
      "[CV]  solver=lbfgs, learning_rate_init=1e-05, hidden_layer_sizes=(100,), alpha=0.001, total=   0.2s\n",
      "[CV] solver=adam, learning_rate_init=0.001, hidden_layer_sizes=(100,), alpha=0.001 \n"
     ]
    },
    {
     "name": "stderr",
     "output_type": "stream",
     "text": [
      "/Library/Frameworks/Python.framework/Versions/3.7/lib/python3.7/site-packages/sklearn/neural_network/multilayer_perceptron.py:566: ConvergenceWarning: Stochastic Optimizer: Maximum iterations (400) reached and the optimization hasn't converged yet.\n",
      "  % self.max_iter, ConvergenceWarning)\n"
     ]
    },
    {
     "name": "stdout",
     "output_type": "stream",
     "text": [
      "[CV]  solver=adam, learning_rate_init=0.001, hidden_layer_sizes=(100,), alpha=0.001, total=   1.0s\n",
      "[CV] solver=adam, learning_rate_init=0.001, hidden_layer_sizes=(100,), alpha=0.001 \n"
     ]
    },
    {
     "name": "stderr",
     "output_type": "stream",
     "text": [
      "/Library/Frameworks/Python.framework/Versions/3.7/lib/python3.7/site-packages/sklearn/neural_network/multilayer_perceptron.py:566: ConvergenceWarning: Stochastic Optimizer: Maximum iterations (400) reached and the optimization hasn't converged yet.\n",
      "  % self.max_iter, ConvergenceWarning)\n"
     ]
    },
    {
     "name": "stdout",
     "output_type": "stream",
     "text": [
      "[CV]  solver=adam, learning_rate_init=0.001, hidden_layer_sizes=(100,), alpha=0.001, total=   1.0s\n",
      "[CV] solver=adam, learning_rate_init=0.001, hidden_layer_sizes=(100,), alpha=0.001 \n"
     ]
    },
    {
     "name": "stderr",
     "output_type": "stream",
     "text": [
      "/Library/Frameworks/Python.framework/Versions/3.7/lib/python3.7/site-packages/sklearn/neural_network/multilayer_perceptron.py:566: ConvergenceWarning: Stochastic Optimizer: Maximum iterations (400) reached and the optimization hasn't converged yet.\n",
      "  % self.max_iter, ConvergenceWarning)\n"
     ]
    },
    {
     "name": "stdout",
     "output_type": "stream",
     "text": [
      "[CV]  solver=adam, learning_rate_init=0.001, hidden_layer_sizes=(100,), alpha=0.001, total=   1.0s\n",
      "[CV] solver=sgd, learning_rate_init=0.001, hidden_layer_sizes=(100,), alpha=0.001 \n"
     ]
    },
    {
     "name": "stderr",
     "output_type": "stream",
     "text": [
      "/Library/Frameworks/Python.framework/Versions/3.7/lib/python3.7/site-packages/sklearn/neural_network/multilayer_perceptron.py:566: ConvergenceWarning: Stochastic Optimizer: Maximum iterations (400) reached and the optimization hasn't converged yet.\n",
      "  % self.max_iter, ConvergenceWarning)\n"
     ]
    },
    {
     "name": "stdout",
     "output_type": "stream",
     "text": [
      "[CV]  solver=sgd, learning_rate_init=0.001, hidden_layer_sizes=(100,), alpha=0.001, total=   0.9s\n",
      "[CV] solver=sgd, learning_rate_init=0.001, hidden_layer_sizes=(100,), alpha=0.001 \n"
     ]
    },
    {
     "name": "stderr",
     "output_type": "stream",
     "text": [
      "/Library/Frameworks/Python.framework/Versions/3.7/lib/python3.7/site-packages/sklearn/neural_network/multilayer_perceptron.py:566: ConvergenceWarning: Stochastic Optimizer: Maximum iterations (400) reached and the optimization hasn't converged yet.\n",
      "  % self.max_iter, ConvergenceWarning)\n"
     ]
    },
    {
     "name": "stdout",
     "output_type": "stream",
     "text": [
      "[CV]  solver=sgd, learning_rate_init=0.001, hidden_layer_sizes=(100,), alpha=0.001, total=   0.9s\n",
      "[CV] solver=sgd, learning_rate_init=0.001, hidden_layer_sizes=(100,), alpha=0.001 \n"
     ]
    },
    {
     "name": "stderr",
     "output_type": "stream",
     "text": [
      "/Library/Frameworks/Python.framework/Versions/3.7/lib/python3.7/site-packages/sklearn/neural_network/multilayer_perceptron.py:566: ConvergenceWarning: Stochastic Optimizer: Maximum iterations (400) reached and the optimization hasn't converged yet.\n",
      "  % self.max_iter, ConvergenceWarning)\n"
     ]
    },
    {
     "name": "stdout",
     "output_type": "stream",
     "text": [
      "[CV]  solver=sgd, learning_rate_init=0.001, hidden_layer_sizes=(100,), alpha=0.001, total=   0.9s\n",
      "[CV] solver=lbfgs, learning_rate_init=0.001, hidden_layer_sizes=(100,), alpha=0.001 \n",
      "[CV]  solver=lbfgs, learning_rate_init=0.001, hidden_layer_sizes=(100,), alpha=0.001, total=   0.3s\n",
      "[CV] solver=lbfgs, learning_rate_init=0.001, hidden_layer_sizes=(100,), alpha=0.001 \n",
      "[CV]  solver=lbfgs, learning_rate_init=0.001, hidden_layer_sizes=(100,), alpha=0.001, total=   0.3s\n",
      "[CV] solver=lbfgs, learning_rate_init=0.001, hidden_layer_sizes=(100,), alpha=0.001 \n",
      "[CV]  solver=lbfgs, learning_rate_init=0.001, hidden_layer_sizes=(100,), alpha=0.001, total=   0.2s\n",
      "[CV] solver=adam, learning_rate_init=0.1, hidden_layer_sizes=(100,), alpha=0.001 \n",
      "[CV]  solver=adam, learning_rate_init=0.1, hidden_layer_sizes=(100,), alpha=0.001, total=   0.1s\n",
      "[CV] solver=adam, learning_rate_init=0.1, hidden_layer_sizes=(100,), alpha=0.001 \n",
      "[CV]  solver=adam, learning_rate_init=0.1, hidden_layer_sizes=(100,), alpha=0.001, total=   0.1s\n",
      "[CV] solver=adam, learning_rate_init=0.1, hidden_layer_sizes=(100,), alpha=0.001 \n",
      "[CV]  solver=adam, learning_rate_init=0.1, hidden_layer_sizes=(100,), alpha=0.001, total=   0.1s\n",
      "[CV] solver=sgd, learning_rate_init=0.1, hidden_layer_sizes=(100,), alpha=0.001 \n",
      "[CV]  solver=sgd, learning_rate_init=0.1, hidden_layer_sizes=(100,), alpha=0.001, total=   0.5s\n",
      "[CV] solver=sgd, learning_rate_init=0.1, hidden_layer_sizes=(100,), alpha=0.001 \n",
      "[CV]  solver=sgd, learning_rate_init=0.1, hidden_layer_sizes=(100,), alpha=0.001, total=   0.7s\n",
      "[CV] solver=sgd, learning_rate_init=0.1, hidden_layer_sizes=(100,), alpha=0.001 \n",
      "[CV]  solver=sgd, learning_rate_init=0.1, hidden_layer_sizes=(100,), alpha=0.001, total=   0.9s\n",
      "[CV] solver=lbfgs, learning_rate_init=0.1, hidden_layer_sizes=(100,), alpha=0.001 \n",
      "[CV]  solver=lbfgs, learning_rate_init=0.1, hidden_layer_sizes=(100,), alpha=0.001, total=   0.3s\n",
      "[CV] solver=lbfgs, learning_rate_init=0.1, hidden_layer_sizes=(100,), alpha=0.001 \n",
      "[CV]  solver=lbfgs, learning_rate_init=0.1, hidden_layer_sizes=(100,), alpha=0.001, total=   0.3s\n",
      "[CV] solver=lbfgs, learning_rate_init=0.1, hidden_layer_sizes=(100,), alpha=0.001 \n",
      "[CV]  solver=lbfgs, learning_rate_init=0.1, hidden_layer_sizes=(100,), alpha=0.001, total=   0.3s\n",
      "[CV] solver=adam, learning_rate_init=1e-05, hidden_layer_sizes=(100, 100), alpha=0.001 \n"
     ]
    },
    {
     "name": "stderr",
     "output_type": "stream",
     "text": [
      "/Library/Frameworks/Python.framework/Versions/3.7/lib/python3.7/site-packages/sklearn/neural_network/multilayer_perceptron.py:566: ConvergenceWarning: Stochastic Optimizer: Maximum iterations (400) reached and the optimization hasn't converged yet.\n",
      "  % self.max_iter, ConvergenceWarning)\n"
     ]
    },
    {
     "name": "stdout",
     "output_type": "stream",
     "text": [
      "[CV]  solver=adam, learning_rate_init=1e-05, hidden_layer_sizes=(100, 100), alpha=0.001, total=   2.1s\n",
      "[CV] solver=adam, learning_rate_init=1e-05, hidden_layer_sizes=(100, 100), alpha=0.001 \n"
     ]
    },
    {
     "name": "stderr",
     "output_type": "stream",
     "text": [
      "/Library/Frameworks/Python.framework/Versions/3.7/lib/python3.7/site-packages/sklearn/neural_network/multilayer_perceptron.py:566: ConvergenceWarning: Stochastic Optimizer: Maximum iterations (400) reached and the optimization hasn't converged yet.\n",
      "  % self.max_iter, ConvergenceWarning)\n"
     ]
    },
    {
     "name": "stdout",
     "output_type": "stream",
     "text": [
      "[CV]  solver=adam, learning_rate_init=1e-05, hidden_layer_sizes=(100, 100), alpha=0.001, total=   2.0s\n",
      "[CV] solver=adam, learning_rate_init=1e-05, hidden_layer_sizes=(100, 100), alpha=0.001 \n"
     ]
    },
    {
     "name": "stderr",
     "output_type": "stream",
     "text": [
      "/Library/Frameworks/Python.framework/Versions/3.7/lib/python3.7/site-packages/sklearn/neural_network/multilayer_perceptron.py:566: ConvergenceWarning: Stochastic Optimizer: Maximum iterations (400) reached and the optimization hasn't converged yet.\n",
      "  % self.max_iter, ConvergenceWarning)\n"
     ]
    },
    {
     "name": "stdout",
     "output_type": "stream",
     "text": [
      "[CV]  solver=adam, learning_rate_init=1e-05, hidden_layer_sizes=(100, 100), alpha=0.001, total=   2.1s\n",
      "[CV] solver=sgd, learning_rate_init=1e-05, hidden_layer_sizes=(100, 100), alpha=0.001 \n"
     ]
    },
    {
     "name": "stderr",
     "output_type": "stream",
     "text": [
      "/Library/Frameworks/Python.framework/Versions/3.7/lib/python3.7/site-packages/sklearn/neural_network/multilayer_perceptron.py:566: ConvergenceWarning: Stochastic Optimizer: Maximum iterations (400) reached and the optimization hasn't converged yet.\n",
      "  % self.max_iter, ConvergenceWarning)\n"
     ]
    },
    {
     "name": "stdout",
     "output_type": "stream",
     "text": [
      "[CV]  solver=sgd, learning_rate_init=1e-05, hidden_layer_sizes=(100, 100), alpha=0.001, total=   1.9s\n",
      "[CV] solver=sgd, learning_rate_init=1e-05, hidden_layer_sizes=(100, 100), alpha=0.001 \n"
     ]
    },
    {
     "name": "stderr",
     "output_type": "stream",
     "text": [
      "/Library/Frameworks/Python.framework/Versions/3.7/lib/python3.7/site-packages/sklearn/neural_network/multilayer_perceptron.py:566: ConvergenceWarning: Stochastic Optimizer: Maximum iterations (400) reached and the optimization hasn't converged yet.\n",
      "  % self.max_iter, ConvergenceWarning)\n"
     ]
    },
    {
     "name": "stdout",
     "output_type": "stream",
     "text": [
      "[CV]  solver=sgd, learning_rate_init=1e-05, hidden_layer_sizes=(100, 100), alpha=0.001, total=   1.9s\n",
      "[CV] solver=sgd, learning_rate_init=1e-05, hidden_layer_sizes=(100, 100), alpha=0.001 \n"
     ]
    },
    {
     "name": "stderr",
     "output_type": "stream",
     "text": [
      "/Library/Frameworks/Python.framework/Versions/3.7/lib/python3.7/site-packages/sklearn/neural_network/multilayer_perceptron.py:566: ConvergenceWarning: Stochastic Optimizer: Maximum iterations (400) reached and the optimization hasn't converged yet.\n",
      "  % self.max_iter, ConvergenceWarning)\n"
     ]
    },
    {
     "name": "stdout",
     "output_type": "stream",
     "text": [
      "[CV]  solver=sgd, learning_rate_init=1e-05, hidden_layer_sizes=(100, 100), alpha=0.001, total=   1.9s\n",
      "[CV] solver=lbfgs, learning_rate_init=1e-05, hidden_layer_sizes=(100, 100), alpha=0.001 \n",
      "[CV]  solver=lbfgs, learning_rate_init=1e-05, hidden_layer_sizes=(100, 100), alpha=0.001, total=   0.5s\n",
      "[CV] solver=lbfgs, learning_rate_init=1e-05, hidden_layer_sizes=(100, 100), alpha=0.001 \n",
      "[CV]  solver=lbfgs, learning_rate_init=1e-05, hidden_layer_sizes=(100, 100), alpha=0.001, total=   0.5s\n",
      "[CV] solver=lbfgs, learning_rate_init=1e-05, hidden_layer_sizes=(100, 100), alpha=0.001 \n",
      "[CV]  solver=lbfgs, learning_rate_init=1e-05, hidden_layer_sizes=(100, 100), alpha=0.001, total=   0.5s\n",
      "[CV] solver=adam, learning_rate_init=0.001, hidden_layer_sizes=(100, 100), alpha=0.001 \n"
     ]
    },
    {
     "name": "stderr",
     "output_type": "stream",
     "text": [
      "/Library/Frameworks/Python.framework/Versions/3.7/lib/python3.7/site-packages/sklearn/neural_network/multilayer_perceptron.py:566: ConvergenceWarning: Stochastic Optimizer: Maximum iterations (400) reached and the optimization hasn't converged yet.\n",
      "  % self.max_iter, ConvergenceWarning)\n"
     ]
    },
    {
     "name": "stdout",
     "output_type": "stream",
     "text": [
      "[CV]  solver=adam, learning_rate_init=0.001, hidden_layer_sizes=(100, 100), alpha=0.001, total=   2.1s\n",
      "[CV] solver=adam, learning_rate_init=0.001, hidden_layer_sizes=(100, 100), alpha=0.001 \n"
     ]
    },
    {
     "name": "stderr",
     "output_type": "stream",
     "text": [
      "/Library/Frameworks/Python.framework/Versions/3.7/lib/python3.7/site-packages/sklearn/neural_network/multilayer_perceptron.py:566: ConvergenceWarning: Stochastic Optimizer: Maximum iterations (400) reached and the optimization hasn't converged yet.\n",
      "  % self.max_iter, ConvergenceWarning)\n"
     ]
    },
    {
     "name": "stdout",
     "output_type": "stream",
     "text": [
      "[CV]  solver=adam, learning_rate_init=0.001, hidden_layer_sizes=(100, 100), alpha=0.001, total=   2.2s\n",
      "[CV] solver=adam, learning_rate_init=0.001, hidden_layer_sizes=(100, 100), alpha=0.001 \n"
     ]
    },
    {
     "name": "stderr",
     "output_type": "stream",
     "text": [
      "/Library/Frameworks/Python.framework/Versions/3.7/lib/python3.7/site-packages/sklearn/neural_network/multilayer_perceptron.py:566: ConvergenceWarning: Stochastic Optimizer: Maximum iterations (400) reached and the optimization hasn't converged yet.\n",
      "  % self.max_iter, ConvergenceWarning)\n"
     ]
    },
    {
     "name": "stdout",
     "output_type": "stream",
     "text": [
      "[CV]  solver=adam, learning_rate_init=0.001, hidden_layer_sizes=(100, 100), alpha=0.001, total=   2.1s\n",
      "[CV] solver=sgd, learning_rate_init=0.001, hidden_layer_sizes=(100, 100), alpha=0.001 \n"
     ]
    },
    {
     "name": "stderr",
     "output_type": "stream",
     "text": [
      "/Library/Frameworks/Python.framework/Versions/3.7/lib/python3.7/site-packages/sklearn/neural_network/multilayer_perceptron.py:566: ConvergenceWarning: Stochastic Optimizer: Maximum iterations (400) reached and the optimization hasn't converged yet.\n",
      "  % self.max_iter, ConvergenceWarning)\n"
     ]
    },
    {
     "name": "stdout",
     "output_type": "stream",
     "text": [
      "[CV]  solver=sgd, learning_rate_init=0.001, hidden_layer_sizes=(100, 100), alpha=0.001, total=   1.9s\n",
      "[CV] solver=sgd, learning_rate_init=0.001, hidden_layer_sizes=(100, 100), alpha=0.001 \n"
     ]
    },
    {
     "name": "stderr",
     "output_type": "stream",
     "text": [
      "/Library/Frameworks/Python.framework/Versions/3.7/lib/python3.7/site-packages/sklearn/neural_network/multilayer_perceptron.py:566: ConvergenceWarning: Stochastic Optimizer: Maximum iterations (400) reached and the optimization hasn't converged yet.\n",
      "  % self.max_iter, ConvergenceWarning)\n"
     ]
    },
    {
     "name": "stdout",
     "output_type": "stream",
     "text": [
      "[CV]  solver=sgd, learning_rate_init=0.001, hidden_layer_sizes=(100, 100), alpha=0.001, total=   1.9s\n",
      "[CV] solver=sgd, learning_rate_init=0.001, hidden_layer_sizes=(100, 100), alpha=0.001 \n"
     ]
    },
    {
     "name": "stderr",
     "output_type": "stream",
     "text": [
      "/Library/Frameworks/Python.framework/Versions/3.7/lib/python3.7/site-packages/sklearn/neural_network/multilayer_perceptron.py:566: ConvergenceWarning: Stochastic Optimizer: Maximum iterations (400) reached and the optimization hasn't converged yet.\n",
      "  % self.max_iter, ConvergenceWarning)\n"
     ]
    },
    {
     "name": "stdout",
     "output_type": "stream",
     "text": [
      "[CV]  solver=sgd, learning_rate_init=0.001, hidden_layer_sizes=(100, 100), alpha=0.001, total=   2.0s\n",
      "[CV] solver=lbfgs, learning_rate_init=0.001, hidden_layer_sizes=(100, 100), alpha=0.001 \n",
      "[CV]  solver=lbfgs, learning_rate_init=0.001, hidden_layer_sizes=(100, 100), alpha=0.001, total=   0.5s\n",
      "[CV] solver=lbfgs, learning_rate_init=0.001, hidden_layer_sizes=(100, 100), alpha=0.001 \n",
      "[CV]  solver=lbfgs, learning_rate_init=0.001, hidden_layer_sizes=(100, 100), alpha=0.001, total=   0.6s\n",
      "[CV] solver=lbfgs, learning_rate_init=0.001, hidden_layer_sizes=(100, 100), alpha=0.001 \n",
      "[CV]  solver=lbfgs, learning_rate_init=0.001, hidden_layer_sizes=(100, 100), alpha=0.001, total=   0.6s\n",
      "[CV] solver=adam, learning_rate_init=0.1, hidden_layer_sizes=(100, 100), alpha=0.001 \n",
      "[CV]  solver=adam, learning_rate_init=0.1, hidden_layer_sizes=(100, 100), alpha=0.001, total=   0.2s\n",
      "[CV] solver=adam, learning_rate_init=0.1, hidden_layer_sizes=(100, 100), alpha=0.001 \n",
      "[CV]  solver=adam, learning_rate_init=0.1, hidden_layer_sizes=(100, 100), alpha=0.001, total=   0.3s\n",
      "[CV] solver=adam, learning_rate_init=0.1, hidden_layer_sizes=(100, 100), alpha=0.001 \n",
      "[CV]  solver=adam, learning_rate_init=0.1, hidden_layer_sizes=(100, 100), alpha=0.001, total=   0.3s\n",
      "[CV] solver=sgd, learning_rate_init=0.1, hidden_layer_sizes=(100, 100), alpha=0.001 \n",
      "[CV]  solver=sgd, learning_rate_init=0.1, hidden_layer_sizes=(100, 100), alpha=0.001, total=   1.0s\n",
      "[CV] solver=sgd, learning_rate_init=0.1, hidden_layer_sizes=(100, 100), alpha=0.001 \n",
      "[CV]  solver=sgd, learning_rate_init=0.1, hidden_layer_sizes=(100, 100), alpha=0.001, total=   0.4s\n",
      "[CV] solver=sgd, learning_rate_init=0.1, hidden_layer_sizes=(100, 100), alpha=0.001 \n",
      "[CV]  solver=sgd, learning_rate_init=0.1, hidden_layer_sizes=(100, 100), alpha=0.001, total=   1.4s\n",
      "[CV] solver=lbfgs, learning_rate_init=0.1, hidden_layer_sizes=(100, 100), alpha=0.001 \n",
      "[CV]  solver=lbfgs, learning_rate_init=0.1, hidden_layer_sizes=(100, 100), alpha=0.001, total=   0.5s\n",
      "[CV] solver=lbfgs, learning_rate_init=0.1, hidden_layer_sizes=(100, 100), alpha=0.001 \n",
      "[CV]  solver=lbfgs, learning_rate_init=0.1, hidden_layer_sizes=(100, 100), alpha=0.001, total=   0.5s\n",
      "[CV] solver=lbfgs, learning_rate_init=0.1, hidden_layer_sizes=(100, 100), alpha=0.001 \n",
      "[CV]  solver=lbfgs, learning_rate_init=0.1, hidden_layer_sizes=(100, 100), alpha=0.001, total=   0.6s\n",
      "[CV] solver=adam, learning_rate_init=1e-05, hidden_layer_sizes=(100, 100, 100), alpha=0.001 \n"
     ]
    },
    {
     "name": "stderr",
     "output_type": "stream",
     "text": [
      "/Library/Frameworks/Python.framework/Versions/3.7/lib/python3.7/site-packages/sklearn/neural_network/multilayer_perceptron.py:566: ConvergenceWarning: Stochastic Optimizer: Maximum iterations (400) reached and the optimization hasn't converged yet.\n",
      "  % self.max_iter, ConvergenceWarning)\n"
     ]
    },
    {
     "name": "stdout",
     "output_type": "stream",
     "text": [
      "[CV]  solver=adam, learning_rate_init=1e-05, hidden_layer_sizes=(100, 100, 100), alpha=0.001, total=   3.2s\n",
      "[CV] solver=adam, learning_rate_init=1e-05, hidden_layer_sizes=(100, 100, 100), alpha=0.001 \n"
     ]
    },
    {
     "name": "stderr",
     "output_type": "stream",
     "text": [
      "/Library/Frameworks/Python.framework/Versions/3.7/lib/python3.7/site-packages/sklearn/neural_network/multilayer_perceptron.py:566: ConvergenceWarning: Stochastic Optimizer: Maximum iterations (400) reached and the optimization hasn't converged yet.\n",
      "  % self.max_iter, ConvergenceWarning)\n"
     ]
    },
    {
     "name": "stdout",
     "output_type": "stream",
     "text": [
      "[CV]  solver=adam, learning_rate_init=1e-05, hidden_layer_sizes=(100, 100, 100), alpha=0.001, total=   3.6s\n",
      "[CV] solver=adam, learning_rate_init=1e-05, hidden_layer_sizes=(100, 100, 100), alpha=0.001 \n"
     ]
    },
    {
     "name": "stderr",
     "output_type": "stream",
     "text": [
      "/Library/Frameworks/Python.framework/Versions/3.7/lib/python3.7/site-packages/sklearn/neural_network/multilayer_perceptron.py:566: ConvergenceWarning: Stochastic Optimizer: Maximum iterations (400) reached and the optimization hasn't converged yet.\n",
      "  % self.max_iter, ConvergenceWarning)\n"
     ]
    },
    {
     "name": "stdout",
     "output_type": "stream",
     "text": [
      "[CV]  solver=adam, learning_rate_init=1e-05, hidden_layer_sizes=(100, 100, 100), alpha=0.001, total=   3.3s\n",
      "[CV] solver=sgd, learning_rate_init=1e-05, hidden_layer_sizes=(100, 100, 100), alpha=0.001 \n"
     ]
    },
    {
     "name": "stderr",
     "output_type": "stream",
     "text": [
      "/Library/Frameworks/Python.framework/Versions/3.7/lib/python3.7/site-packages/sklearn/neural_network/multilayer_perceptron.py:566: ConvergenceWarning: Stochastic Optimizer: Maximum iterations (400) reached and the optimization hasn't converged yet.\n",
      "  % self.max_iter, ConvergenceWarning)\n"
     ]
    },
    {
     "name": "stdout",
     "output_type": "stream",
     "text": [
      "[CV]  solver=sgd, learning_rate_init=1e-05, hidden_layer_sizes=(100, 100, 100), alpha=0.001, total=   2.9s\n",
      "[CV] solver=sgd, learning_rate_init=1e-05, hidden_layer_sizes=(100, 100, 100), alpha=0.001 \n"
     ]
    },
    {
     "name": "stderr",
     "output_type": "stream",
     "text": [
      "/Library/Frameworks/Python.framework/Versions/3.7/lib/python3.7/site-packages/sklearn/neural_network/multilayer_perceptron.py:566: ConvergenceWarning: Stochastic Optimizer: Maximum iterations (400) reached and the optimization hasn't converged yet.\n",
      "  % self.max_iter, ConvergenceWarning)\n"
     ]
    },
    {
     "name": "stdout",
     "output_type": "stream",
     "text": [
      "[CV]  solver=sgd, learning_rate_init=1e-05, hidden_layer_sizes=(100, 100, 100), alpha=0.001, total=   3.0s\n",
      "[CV] solver=sgd, learning_rate_init=1e-05, hidden_layer_sizes=(100, 100, 100), alpha=0.001 \n"
     ]
    },
    {
     "name": "stderr",
     "output_type": "stream",
     "text": [
      "/Library/Frameworks/Python.framework/Versions/3.7/lib/python3.7/site-packages/sklearn/neural_network/multilayer_perceptron.py:566: ConvergenceWarning: Stochastic Optimizer: Maximum iterations (400) reached and the optimization hasn't converged yet.\n",
      "  % self.max_iter, ConvergenceWarning)\n"
     ]
    },
    {
     "name": "stdout",
     "output_type": "stream",
     "text": [
      "[CV]  solver=sgd, learning_rate_init=1e-05, hidden_layer_sizes=(100, 100, 100), alpha=0.001, total=   3.0s\n",
      "[CV] solver=lbfgs, learning_rate_init=1e-05, hidden_layer_sizes=(100, 100, 100), alpha=0.001 \n",
      "[CV]  solver=lbfgs, learning_rate_init=1e-05, hidden_layer_sizes=(100, 100, 100), alpha=0.001, total=   0.7s\n",
      "[CV] solver=lbfgs, learning_rate_init=1e-05, hidden_layer_sizes=(100, 100, 100), alpha=0.001 \n",
      "[CV]  solver=lbfgs, learning_rate_init=1e-05, hidden_layer_sizes=(100, 100, 100), alpha=0.001, total=   0.8s\n",
      "[CV] solver=lbfgs, learning_rate_init=1e-05, hidden_layer_sizes=(100, 100, 100), alpha=0.001 \n",
      "[CV]  solver=lbfgs, learning_rate_init=1e-05, hidden_layer_sizes=(100, 100, 100), alpha=0.001, total=   0.7s\n",
      "[CV] solver=adam, learning_rate_init=0.001, hidden_layer_sizes=(100, 100, 100), alpha=0.001 \n",
      "[CV]  solver=adam, learning_rate_init=0.001, hidden_layer_sizes=(100, 100, 100), alpha=0.001, total=   1.8s\n",
      "[CV] solver=adam, learning_rate_init=0.001, hidden_layer_sizes=(100, 100, 100), alpha=0.001 \n",
      "[CV]  solver=adam, learning_rate_init=0.001, hidden_layer_sizes=(100, 100, 100), alpha=0.001, total=   1.4s\n",
      "[CV] solver=adam, learning_rate_init=0.001, hidden_layer_sizes=(100, 100, 100), alpha=0.001 \n",
      "[CV]  solver=adam, learning_rate_init=0.001, hidden_layer_sizes=(100, 100, 100), alpha=0.001, total=   2.2s\n",
      "[CV] solver=sgd, learning_rate_init=0.001, hidden_layer_sizes=(100, 100, 100), alpha=0.001 \n"
     ]
    },
    {
     "name": "stderr",
     "output_type": "stream",
     "text": [
      "/Library/Frameworks/Python.framework/Versions/3.7/lib/python3.7/site-packages/sklearn/neural_network/multilayer_perceptron.py:566: ConvergenceWarning: Stochastic Optimizer: Maximum iterations (400) reached and the optimization hasn't converged yet.\n",
      "  % self.max_iter, ConvergenceWarning)\n"
     ]
    },
    {
     "name": "stdout",
     "output_type": "stream",
     "text": [
      "[CV]  solver=sgd, learning_rate_init=0.001, hidden_layer_sizes=(100, 100, 100), alpha=0.001, total=   2.9s\n",
      "[CV] solver=sgd, learning_rate_init=0.001, hidden_layer_sizes=(100, 100, 100), alpha=0.001 \n"
     ]
    },
    {
     "name": "stderr",
     "output_type": "stream",
     "text": [
      "/Library/Frameworks/Python.framework/Versions/3.7/lib/python3.7/site-packages/sklearn/neural_network/multilayer_perceptron.py:566: ConvergenceWarning: Stochastic Optimizer: Maximum iterations (400) reached and the optimization hasn't converged yet.\n",
      "  % self.max_iter, ConvergenceWarning)\n"
     ]
    },
    {
     "name": "stdout",
     "output_type": "stream",
     "text": [
      "[CV]  solver=sgd, learning_rate_init=0.001, hidden_layer_sizes=(100, 100, 100), alpha=0.001, total=   2.8s\n",
      "[CV] solver=sgd, learning_rate_init=0.001, hidden_layer_sizes=(100, 100, 100), alpha=0.001 \n"
     ]
    },
    {
     "name": "stderr",
     "output_type": "stream",
     "text": [
      "/Library/Frameworks/Python.framework/Versions/3.7/lib/python3.7/site-packages/sklearn/neural_network/multilayer_perceptron.py:566: ConvergenceWarning: Stochastic Optimizer: Maximum iterations (400) reached and the optimization hasn't converged yet.\n",
      "  % self.max_iter, ConvergenceWarning)\n"
     ]
    },
    {
     "name": "stdout",
     "output_type": "stream",
     "text": [
      "[CV]  solver=sgd, learning_rate_init=0.001, hidden_layer_sizes=(100, 100, 100), alpha=0.001, total=   2.8s\n",
      "[CV] solver=lbfgs, learning_rate_init=0.001, hidden_layer_sizes=(100, 100, 100), alpha=0.001 \n",
      "[CV]  solver=lbfgs, learning_rate_init=0.001, hidden_layer_sizes=(100, 100, 100), alpha=0.001, total=   0.7s\n",
      "[CV] solver=lbfgs, learning_rate_init=0.001, hidden_layer_sizes=(100, 100, 100), alpha=0.001 \n",
      "[CV]  solver=lbfgs, learning_rate_init=0.001, hidden_layer_sizes=(100, 100, 100), alpha=0.001, total=   0.8s\n",
      "[CV] solver=lbfgs, learning_rate_init=0.001, hidden_layer_sizes=(100, 100, 100), alpha=0.001 \n",
      "[CV]  solver=lbfgs, learning_rate_init=0.001, hidden_layer_sizes=(100, 100, 100), alpha=0.001, total=   0.7s\n",
      "[CV] solver=adam, learning_rate_init=0.1, hidden_layer_sizes=(100, 100, 100), alpha=0.001 \n",
      "[CV]  solver=adam, learning_rate_init=0.1, hidden_layer_sizes=(100, 100, 100), alpha=0.001, total=   0.4s\n",
      "[CV] solver=adam, learning_rate_init=0.1, hidden_layer_sizes=(100, 100, 100), alpha=0.001 \n",
      "[CV]  solver=adam, learning_rate_init=0.1, hidden_layer_sizes=(100, 100, 100), alpha=0.001, total=   0.4s\n",
      "[CV] solver=adam, learning_rate_init=0.1, hidden_layer_sizes=(100, 100, 100), alpha=0.001 \n",
      "[CV]  solver=adam, learning_rate_init=0.1, hidden_layer_sizes=(100, 100, 100), alpha=0.001, total=   0.4s\n",
      "[CV] solver=sgd, learning_rate_init=0.1, hidden_layer_sizes=(100, 100, 100), alpha=0.001 \n",
      "[CV]  solver=sgd, learning_rate_init=0.1, hidden_layer_sizes=(100, 100, 100), alpha=0.001, total=   0.5s\n",
      "[CV] solver=sgd, learning_rate_init=0.1, hidden_layer_sizes=(100, 100, 100), alpha=0.001 \n",
      "[CV]  solver=sgd, learning_rate_init=0.1, hidden_layer_sizes=(100, 100, 100), alpha=0.001, total=   0.6s\n",
      "[CV] solver=sgd, learning_rate_init=0.1, hidden_layer_sizes=(100, 100, 100), alpha=0.001 \n",
      "[CV]  solver=sgd, learning_rate_init=0.1, hidden_layer_sizes=(100, 100, 100), alpha=0.001, total=   0.4s\n",
      "[CV] solver=lbfgs, learning_rate_init=0.1, hidden_layer_sizes=(100, 100, 100), alpha=0.001 \n",
      "[CV]  solver=lbfgs, learning_rate_init=0.1, hidden_layer_sizes=(100, 100, 100), alpha=0.001, total=   0.7s\n",
      "[CV] solver=lbfgs, learning_rate_init=0.1, hidden_layer_sizes=(100, 100, 100), alpha=0.001 \n",
      "[CV]  solver=lbfgs, learning_rate_init=0.1, hidden_layer_sizes=(100, 100, 100), alpha=0.001, total=   0.8s\n",
      "[CV] solver=lbfgs, learning_rate_init=0.1, hidden_layer_sizes=(100, 100, 100), alpha=0.001 \n",
      "[CV]  solver=lbfgs, learning_rate_init=0.1, hidden_layer_sizes=(100, 100, 100), alpha=0.001, total=   0.7s\n"
     ]
    },
    {
     "name": "stderr",
     "output_type": "stream",
     "text": [
      "[Parallel(n_jobs=1)]: Done 108 out of 108 | elapsed:  1.7min finished\n"
     ]
    },
    {
     "data": {
      "text/plain": [
       "RandomizedSearchCV(cv=3, error_score='raise-deprecating',\n",
       "                   estimator=MLPClassifier(activation='relu', alpha=0.0001,\n",
       "                                           batch_size='auto', beta_1=0.9,\n",
       "                                           beta_2=0.999, early_stopping=False,\n",
       "                                           epsilon=1e-08,\n",
       "                                           hidden_layer_sizes=(100,),\n",
       "                                           learning_rate='constant',\n",
       "                                           learning_rate_init=0.001,\n",
       "                                           max_iter=400, momentum=0.9,\n",
       "                                           n_iter_no_change=10,\n",
       "                                           nesterovs_momentum=True, power_t=0.5,\n",
       "                                           rand...\n",
       "                                           validation_fraction=0.1,\n",
       "                                           verbose=False, warm_start=False),\n",
       "                   iid='warn', n_iter=40, n_jobs=1,\n",
       "                   param_distributions={'alpha': [0.001],\n",
       "                                        'hidden_layer_sizes': [(10,), (100,),\n",
       "                                                               (100, 100),\n",
       "                                                               (100, 100, 100)],\n",
       "                                        'learning_rate_init': [1e-05, 0.001,\n",
       "                                                               0.1],\n",
       "                                        'solver': ['adam', 'sgd', 'lbfgs']},\n",
       "                   pre_dispatch='2*n_jobs', random_state=1, refit=True,\n",
       "                   return_train_score=False, scoring=None, verbose=2)"
      ]
     },
     "execution_count": 62,
     "metadata": {},
     "output_type": "execute_result"
    }
   ],
   "source": [
    "NN = MLPClassifier(max_iter = 400, random_state = 1)\n",
    "NN_random = RandomizedSearchCV(estimator = NN, param_distributions = random_grid, n_iter = 40, cv = 3, verbose=2, \n",
    "                               random_state=1, n_jobs = 1)\n",
    "NN_random.fit(X_train, y_train_hot)"
   ]
  },
  {
   "cell_type": "code",
   "execution_count": 63,
   "metadata": {},
   "outputs": [
    {
     "data": {
      "text/plain": [
       "0.8295543393275997"
      ]
     },
     "execution_count": 63,
     "metadata": {},
     "output_type": "execute_result"
    }
   ],
   "source": [
    "NN_random.best_score_"
   ]
  },
  {
   "cell_type": "code",
   "execution_count": 64,
   "metadata": {},
   "outputs": [
    {
     "data": {
      "text/plain": [
       "{'solver': 'adam',\n",
       " 'learning_rate_init': 0.001,\n",
       " 'hidden_layer_sizes': (100, 100, 100),\n",
       " 'alpha': 0.001}"
      ]
     },
     "execution_count": 64,
     "metadata": {},
     "output_type": "execute_result"
    }
   ],
   "source": [
    "NN_random.best_params_\n"
   ]
  },
  {
   "cell_type": "code",
   "execution_count": 65,
   "metadata": {},
   "outputs": [],
   "source": [
    "params1 = {'hidden_layer_sizes':[(100,100,100),(200,200,200),(200,100,50),(300,100,30)], 'solver':['adam'],\n",
    "           'learning_rate_init':[0.001], 'alpha':[0.001]}"
   ]
  },
  {
   "cell_type": "code",
   "execution_count": 72,
   "metadata": {},
   "outputs": [
    {
     "name": "stdout",
     "output_type": "stream",
     "text": [
      "Fitting 3 folds for each of 4 candidates, totalling 12 fits\n",
      "[CV] alpha=0.001, hidden_layer_sizes=(100, 100, 100), learning_rate_init=0.001, solver=adam \n"
     ]
    },
    {
     "name": "stderr",
     "output_type": "stream",
     "text": [
      "[Parallel(n_jobs=1)]: Using backend SequentialBackend with 1 concurrent workers.\n"
     ]
    },
    {
     "name": "stdout",
     "output_type": "stream",
     "text": [
      "[CV]  alpha=0.001, hidden_layer_sizes=(100, 100, 100), learning_rate_init=0.001, solver=adam, total=   1.8s\n",
      "[CV] alpha=0.001, hidden_layer_sizes=(100, 100, 100), learning_rate_init=0.001, solver=adam \n"
     ]
    },
    {
     "name": "stderr",
     "output_type": "stream",
     "text": [
      "[Parallel(n_jobs=1)]: Done   1 out of   1 | elapsed:    1.8s remaining:    0.0s\n"
     ]
    },
    {
     "name": "stdout",
     "output_type": "stream",
     "text": [
      "[CV]  alpha=0.001, hidden_layer_sizes=(100, 100, 100), learning_rate_init=0.001, solver=adam, total=   1.4s\n",
      "[CV] alpha=0.001, hidden_layer_sizes=(100, 100, 100), learning_rate_init=0.001, solver=adam \n",
      "[CV]  alpha=0.001, hidden_layer_sizes=(100, 100, 100), learning_rate_init=0.001, solver=adam, total=   2.1s\n",
      "[CV] alpha=0.001, hidden_layer_sizes=(200, 200, 200), learning_rate_init=0.001, solver=adam \n",
      "[CV]  alpha=0.001, hidden_layer_sizes=(200, 200, 200), learning_rate_init=0.001, solver=adam, total=   2.9s\n",
      "[CV] alpha=0.001, hidden_layer_sizes=(200, 200, 200), learning_rate_init=0.001, solver=adam \n",
      "[CV]  alpha=0.001, hidden_layer_sizes=(200, 200, 200), learning_rate_init=0.001, solver=adam, total=   1.5s\n",
      "[CV] alpha=0.001, hidden_layer_sizes=(200, 200, 200), learning_rate_init=0.001, solver=adam \n",
      "[CV]  alpha=0.001, hidden_layer_sizes=(200, 200, 200), learning_rate_init=0.001, solver=adam, total=   3.1s\n",
      "[CV] alpha=0.001, hidden_layer_sizes=(200, 100, 50), learning_rate_init=0.001, solver=adam \n",
      "[CV]  alpha=0.001, hidden_layer_sizes=(200, 100, 50), learning_rate_init=0.001, solver=adam, total=   2.5s\n",
      "[CV] alpha=0.001, hidden_layer_sizes=(200, 100, 50), learning_rate_init=0.001, solver=adam \n",
      "[CV]  alpha=0.001, hidden_layer_sizes=(200, 100, 50), learning_rate_init=0.001, solver=adam, total=   1.9s\n",
      "[CV] alpha=0.001, hidden_layer_sizes=(200, 100, 50), learning_rate_init=0.001, solver=adam \n",
      "[CV]  alpha=0.001, hidden_layer_sizes=(200, 100, 50), learning_rate_init=0.001, solver=adam, total=   2.6s\n",
      "[CV] alpha=0.001, hidden_layer_sizes=(300, 100, 30), learning_rate_init=0.001, solver=adam \n",
      "[CV]  alpha=0.001, hidden_layer_sizes=(300, 100, 30), learning_rate_init=0.001, solver=adam, total=   3.2s\n",
      "[CV] alpha=0.001, hidden_layer_sizes=(300, 100, 30), learning_rate_init=0.001, solver=adam \n",
      "[CV]  alpha=0.001, hidden_layer_sizes=(300, 100, 30), learning_rate_init=0.001, solver=adam, total=   1.7s\n",
      "[CV] alpha=0.001, hidden_layer_sizes=(300, 100, 30), learning_rate_init=0.001, solver=adam \n",
      "[CV]  alpha=0.001, hidden_layer_sizes=(300, 100, 30), learning_rate_init=0.001, solver=adam, total=   2.3s\n"
     ]
    },
    {
     "name": "stderr",
     "output_type": "stream",
     "text": [
      "[Parallel(n_jobs=1)]: Done  12 out of  12 | elapsed:   27.1s finished\n"
     ]
    },
    {
     "data": {
      "text/plain": [
       "GridSearchCV(cv=3, error_score='raise-deprecating',\n",
       "             estimator=MLPClassifier(activation='relu', alpha=0.0001,\n",
       "                                     batch_size='auto', beta_1=0.9,\n",
       "                                     beta_2=0.999, early_stopping=False,\n",
       "                                     epsilon=1e-08, hidden_layer_sizes=(100,),\n",
       "                                     learning_rate='constant',\n",
       "                                     learning_rate_init=0.001, max_iter=10000,\n",
       "                                     momentum=0.9, n_iter_no_change=10,\n",
       "                                     nesterovs_momentum=True, power_t=0.5,\n",
       "                                     random_s...e=True,\n",
       "                                     solver='adam', tol=0.0001,\n",
       "                                     validation_fraction=0.1, verbose=False,\n",
       "                                     warm_start=False),\n",
       "             iid='warn', n_jobs=1,\n",
       "             param_grid={'alpha': [0.001],\n",
       "                         'hidden_layer_sizes': [(100, 100, 100),\n",
       "                                                (200, 200, 200), (200, 100, 50),\n",
       "                                                (300, 100, 30)],\n",
       "                         'learning_rate_init': [0.001], 'solver': ['adam']},\n",
       "             pre_dispatch='2*n_jobs', refit=True, return_train_score=False,\n",
       "             scoring='accuracy', verbose=2)"
      ]
     },
     "execution_count": 72,
     "metadata": {},
     "output_type": "execute_result"
    }
   ],
   "source": [
    "NN = MLPClassifier(max_iter = 10000, random_state = 1)\n",
    "NN_grid = GridSearchCV(estimator = NN, param_grid = params1, cv = 3, verbose=2, scoring = 'accuracy',\n",
    "                       n_jobs = 1)\n",
    "NN_grid.fit(X_train, y_train_hot)"
   ]
  },
  {
   "cell_type": "code",
   "execution_count": 73,
   "metadata": {},
   "outputs": [
    {
     "data": {
      "text/plain": [
       "0.8295543393275997"
      ]
     },
     "execution_count": 73,
     "metadata": {},
     "output_type": "execute_result"
    }
   ],
   "source": [
    "NN_grid.best_score_"
   ]
  },
  {
   "cell_type": "code",
   "execution_count": 74,
   "metadata": {},
   "outputs": [
    {
     "data": {
      "text/plain": [
       "{'alpha': 0.001,\n",
       " 'hidden_layer_sizes': (100, 100, 100),\n",
       " 'learning_rate_init': 0.001,\n",
       " 'solver': 'adam'}"
      ]
     },
     "execution_count": 74,
     "metadata": {},
     "output_type": "execute_result"
    }
   ],
   "source": [
    "NN_grid.best_params_"
   ]
  },
  {
   "cell_type": "code",
   "execution_count": 75,
   "metadata": {},
   "outputs": [],
   "source": [
    "params1 = {'hidden_layer_sizes':[(100,100,100)], 'solver':['adam'],\n",
    "           'learning_rate_init':[1e-5,1e-4,1e-3,1e-2,1e-1], 'alpha':[0.001]}"
   ]
  },
  {
   "cell_type": "code",
   "execution_count": 76,
   "metadata": {},
   "outputs": [
    {
     "name": "stdout",
     "output_type": "stream",
     "text": [
      "Fitting 3 folds for each of 5 candidates, totalling 15 fits\n",
      "[CV] alpha=0.001, hidden_layer_sizes=(100, 100, 100), learning_rate_init=1e-05, solver=adam \n"
     ]
    },
    {
     "name": "stderr",
     "output_type": "stream",
     "text": [
      "[Parallel(n_jobs=1)]: Using backend SequentialBackend with 1 concurrent workers.\n"
     ]
    },
    {
     "name": "stdout",
     "output_type": "stream",
     "text": [
      "[CV]  alpha=0.001, hidden_layer_sizes=(100, 100, 100), learning_rate_init=1e-05, solver=adam, total=  13.6s\n",
      "[CV] alpha=0.001, hidden_layer_sizes=(100, 100, 100), learning_rate_init=1e-05, solver=adam \n"
     ]
    },
    {
     "name": "stderr",
     "output_type": "stream",
     "text": [
      "[Parallel(n_jobs=1)]: Done   1 out of   1 | elapsed:   13.6s remaining:    0.0s\n"
     ]
    },
    {
     "name": "stdout",
     "output_type": "stream",
     "text": [
      "[CV]  alpha=0.001, hidden_layer_sizes=(100, 100, 100), learning_rate_init=1e-05, solver=adam, total=  15.4s\n",
      "[CV] alpha=0.001, hidden_layer_sizes=(100, 100, 100), learning_rate_init=1e-05, solver=adam \n",
      "[CV]  alpha=0.001, hidden_layer_sizes=(100, 100, 100), learning_rate_init=1e-05, solver=adam, total=  16.6s\n",
      "[CV] alpha=0.001, hidden_layer_sizes=(100, 100, 100), learning_rate_init=0.0001, solver=adam \n",
      "[CV]  alpha=0.001, hidden_layer_sizes=(100, 100, 100), learning_rate_init=0.0001, solver=adam, total=  12.7s\n",
      "[CV] alpha=0.001, hidden_layer_sizes=(100, 100, 100), learning_rate_init=0.0001, solver=adam \n",
      "[CV]  alpha=0.001, hidden_layer_sizes=(100, 100, 100), learning_rate_init=0.0001, solver=adam, total=  11.9s\n",
      "[CV] alpha=0.001, hidden_layer_sizes=(100, 100, 100), learning_rate_init=0.0001, solver=adam \n",
      "[CV]  alpha=0.001, hidden_layer_sizes=(100, 100, 100), learning_rate_init=0.0001, solver=adam, total=  12.5s\n",
      "[CV] alpha=0.001, hidden_layer_sizes=(100, 100, 100), learning_rate_init=0.001, solver=adam \n",
      "[CV]  alpha=0.001, hidden_layer_sizes=(100, 100, 100), learning_rate_init=0.001, solver=adam, total=   1.8s\n",
      "[CV] alpha=0.001, hidden_layer_sizes=(100, 100, 100), learning_rate_init=0.001, solver=adam \n",
      "[CV]  alpha=0.001, hidden_layer_sizes=(100, 100, 100), learning_rate_init=0.001, solver=adam, total=   1.4s\n",
      "[CV] alpha=0.001, hidden_layer_sizes=(100, 100, 100), learning_rate_init=0.001, solver=adam \n",
      "[CV]  alpha=0.001, hidden_layer_sizes=(100, 100, 100), learning_rate_init=0.001, solver=adam, total=   2.2s\n",
      "[CV] alpha=0.001, hidden_layer_sizes=(100, 100, 100), learning_rate_init=0.01, solver=adam \n",
      "[CV]  alpha=0.001, hidden_layer_sizes=(100, 100, 100), learning_rate_init=0.01, solver=adam, total=   0.8s\n",
      "[CV] alpha=0.001, hidden_layer_sizes=(100, 100, 100), learning_rate_init=0.01, solver=adam \n",
      "[CV]  alpha=0.001, hidden_layer_sizes=(100, 100, 100), learning_rate_init=0.01, solver=adam, total=   0.4s\n",
      "[CV] alpha=0.001, hidden_layer_sizes=(100, 100, 100), learning_rate_init=0.01, solver=adam \n",
      "[CV]  alpha=0.001, hidden_layer_sizes=(100, 100, 100), learning_rate_init=0.01, solver=adam, total=   0.9s\n",
      "[CV] alpha=0.001, hidden_layer_sizes=(100, 100, 100), learning_rate_init=0.1, solver=adam \n",
      "[CV]  alpha=0.001, hidden_layer_sizes=(100, 100, 100), learning_rate_init=0.1, solver=adam, total=   0.4s\n",
      "[CV] alpha=0.001, hidden_layer_sizes=(100, 100, 100), learning_rate_init=0.1, solver=adam \n",
      "[CV]  alpha=0.001, hidden_layer_sizes=(100, 100, 100), learning_rate_init=0.1, solver=adam, total=   0.4s\n",
      "[CV] alpha=0.001, hidden_layer_sizes=(100, 100, 100), learning_rate_init=0.1, solver=adam \n",
      "[CV]  alpha=0.001, hidden_layer_sizes=(100, 100, 100), learning_rate_init=0.1, solver=adam, total=   0.4s\n"
     ]
    },
    {
     "name": "stderr",
     "output_type": "stream",
     "text": [
      "[Parallel(n_jobs=1)]: Done  15 out of  15 | elapsed:  1.5min finished\n"
     ]
    },
    {
     "data": {
      "text/plain": [
       "GridSearchCV(cv=3, error_score='raise-deprecating',\n",
       "             estimator=MLPClassifier(activation='relu', alpha=0.0001,\n",
       "                                     batch_size='auto', beta_1=0.9,\n",
       "                                     beta_2=0.999, early_stopping=False,\n",
       "                                     epsilon=1e-08, hidden_layer_sizes=(100,),\n",
       "                                     learning_rate='constant',\n",
       "                                     learning_rate_init=0.001, max_iter=10000,\n",
       "                                     momentum=0.9, n_iter_no_change=10,\n",
       "                                     nesterovs_momentum=True, power_t=0.5,\n",
       "                                     random_state=1, shuffle=True,\n",
       "                                     solver='adam', tol=0.0001,\n",
       "                                     validation_fraction=0.1, verbose=False,\n",
       "                                     warm_start=False),\n",
       "             iid='warn', n_jobs=1,\n",
       "             param_grid={'alpha': [0.001],\n",
       "                         'hidden_layer_sizes': [(100, 100, 100)],\n",
       "                         'learning_rate_init': [1e-05, 0.0001, 0.001, 0.01,\n",
       "                                                0.1],\n",
       "                         'solver': ['adam']},\n",
       "             pre_dispatch='2*n_jobs', refit=True, return_train_score=False,\n",
       "             scoring='accuracy', verbose=2)"
      ]
     },
     "execution_count": 76,
     "metadata": {},
     "output_type": "execute_result"
    }
   ],
   "source": [
    "NN = MLPClassifier(max_iter = 10000, random_state = 1)\n",
    "NN_grid = GridSearchCV(estimator = NN, param_grid = params1, cv = 3, verbose=2, scoring = 'accuracy',\n",
    "                       n_jobs = 1)\n",
    "NN_grid.fit(X_train, y_train_hot)"
   ]
  },
  {
   "cell_type": "code",
   "execution_count": 77,
   "metadata": {},
   "outputs": [
    {
     "data": {
      "text/plain": [
       "0.8295543393275997"
      ]
     },
     "execution_count": 77,
     "metadata": {},
     "output_type": "execute_result"
    }
   ],
   "source": [
    "NN_grid.best_score_"
   ]
  },
  {
   "cell_type": "code",
   "execution_count": 78,
   "metadata": {},
   "outputs": [
    {
     "data": {
      "text/plain": [
       "{'alpha': 0.001,\n",
       " 'hidden_layer_sizes': (100, 100, 100),\n",
       " 'learning_rate_init': 0.001,\n",
       " 'solver': 'adam'}"
      ]
     },
     "execution_count": 78,
     "metadata": {},
     "output_type": "execute_result"
    }
   ],
   "source": [
    "NN_grid.best_params_"
   ]
  },
  {
   "cell_type": "code",
   "execution_count": 81,
   "metadata": {},
   "outputs": [],
   "source": [
    "params1 = {'hidden_layer_sizes':[(100,100,100)], 'solver':['adam'],\n",
    "           'activation':['relu', 'logistic', 'tanh'], 'alpha':[0.001], 'learning_rate_init':[0.001]}"
   ]
  },
  {
   "cell_type": "code",
   "execution_count": 82,
   "metadata": {},
   "outputs": [
    {
     "name": "stdout",
     "output_type": "stream",
     "text": [
      "Fitting 3 folds for each of 3 candidates, totalling 9 fits\n",
      "[CV] activation=relu, alpha=0.001, hidden_layer_sizes=(100, 100, 100), learning_rate_init=0.001, solver=adam \n"
     ]
    },
    {
     "name": "stderr",
     "output_type": "stream",
     "text": [
      "[Parallel(n_jobs=1)]: Using backend SequentialBackend with 1 concurrent workers.\n"
     ]
    },
    {
     "name": "stdout",
     "output_type": "stream",
     "text": [
      "[CV]  activation=relu, alpha=0.001, hidden_layer_sizes=(100, 100, 100), learning_rate_init=0.001, solver=adam, total=   1.8s\n",
      "[CV] activation=relu, alpha=0.001, hidden_layer_sizes=(100, 100, 100), learning_rate_init=0.001, solver=adam \n"
     ]
    },
    {
     "name": "stderr",
     "output_type": "stream",
     "text": [
      "[Parallel(n_jobs=1)]: Done   1 out of   1 | elapsed:    1.8s remaining:    0.0s\n"
     ]
    },
    {
     "name": "stdout",
     "output_type": "stream",
     "text": [
      "[CV]  activation=relu, alpha=0.001, hidden_layer_sizes=(100, 100, 100), learning_rate_init=0.001, solver=adam, total=   1.5s\n",
      "[CV] activation=relu, alpha=0.001, hidden_layer_sizes=(100, 100, 100), learning_rate_init=0.001, solver=adam \n",
      "[CV]  activation=relu, alpha=0.001, hidden_layer_sizes=(100, 100, 100), learning_rate_init=0.001, solver=adam, total=   2.2s\n",
      "[CV] activation=logistic, alpha=0.001, hidden_layer_sizes=(100, 100, 100), learning_rate_init=0.001, solver=adam \n",
      "[CV]  activation=logistic, alpha=0.001, hidden_layer_sizes=(100, 100, 100), learning_rate_init=0.001, solver=adam, total=   2.8s\n",
      "[CV] activation=logistic, alpha=0.001, hidden_layer_sizes=(100, 100, 100), learning_rate_init=0.001, solver=adam \n",
      "[CV]  activation=logistic, alpha=0.001, hidden_layer_sizes=(100, 100, 100), learning_rate_init=0.001, solver=adam, total=   3.4s\n",
      "[CV] activation=logistic, alpha=0.001, hidden_layer_sizes=(100, 100, 100), learning_rate_init=0.001, solver=adam \n",
      "[CV]  activation=logistic, alpha=0.001, hidden_layer_sizes=(100, 100, 100), learning_rate_init=0.001, solver=adam, total=   3.0s\n",
      "[CV] activation=tanh, alpha=0.001, hidden_layer_sizes=(100, 100, 100), learning_rate_init=0.001, solver=adam \n",
      "[CV]  activation=tanh, alpha=0.001, hidden_layer_sizes=(100, 100, 100), learning_rate_init=0.001, solver=adam, total=   4.2s\n",
      "[CV] activation=tanh, alpha=0.001, hidden_layer_sizes=(100, 100, 100), learning_rate_init=0.001, solver=adam \n",
      "[CV]  activation=tanh, alpha=0.001, hidden_layer_sizes=(100, 100, 100), learning_rate_init=0.001, solver=adam, total=   4.2s\n",
      "[CV] activation=tanh, alpha=0.001, hidden_layer_sizes=(100, 100, 100), learning_rate_init=0.001, solver=adam \n",
      "[CV]  activation=tanh, alpha=0.001, hidden_layer_sizes=(100, 100, 100), learning_rate_init=0.001, solver=adam, total=   4.1s\n"
     ]
    },
    {
     "name": "stderr",
     "output_type": "stream",
     "text": [
      "[Parallel(n_jobs=1)]: Done   9 out of   9 | elapsed:   27.0s finished\n"
     ]
    },
    {
     "data": {
      "text/plain": [
       "GridSearchCV(cv=3, error_score='raise-deprecating',\n",
       "             estimator=MLPClassifier(activation='relu', alpha=0.0001,\n",
       "                                     batch_size='auto', beta_1=0.9,\n",
       "                                     beta_2=0.999, early_stopping=False,\n",
       "                                     epsilon=1e-08, hidden_layer_sizes=(100,),\n",
       "                                     learning_rate='constant',\n",
       "                                     learning_rate_init=0.001, max_iter=10000,\n",
       "                                     momentum=0.9, n_iter_no_change=10,\n",
       "                                     nesterovs_momentum=True, power_t=0.5,\n",
       "                                     random_s...e=True,\n",
       "                                     solver='adam', tol=0.0001,\n",
       "                                     validation_fraction=0.1, verbose=False,\n",
       "                                     warm_start=False),\n",
       "             iid='warn', n_jobs=1,\n",
       "             param_grid={'activation': ['relu', 'logistic', 'tanh'],\n",
       "                         'alpha': [0.001],\n",
       "                         'hidden_layer_sizes': [(100, 100, 100)],\n",
       "                         'learning_rate_init': [0.001], 'solver': ['adam']},\n",
       "             pre_dispatch='2*n_jobs', refit=True, return_train_score=False,\n",
       "             scoring='accuracy', verbose=2)"
      ]
     },
     "execution_count": 82,
     "metadata": {},
     "output_type": "execute_result"
    }
   ],
   "source": [
    "NN = MLPClassifier(max_iter = 10000, random_state = 1)\n",
    "NN_grid = GridSearchCV(estimator = NN, param_grid = params1, cv = 3, verbose=2, scoring = 'accuracy',\n",
    "                       n_jobs = 1)\n",
    "NN_grid.fit(X_train, y_train_hot)"
   ]
  },
  {
   "cell_type": "code",
   "execution_count": 83,
   "metadata": {},
   "outputs": [
    {
     "data": {
      "text/plain": [
       "0.8389366692728695"
      ]
     },
     "execution_count": 83,
     "metadata": {},
     "output_type": "execute_result"
    }
   ],
   "source": [
    "NN_grid.best_score_"
   ]
  },
  {
   "cell_type": "code",
   "execution_count": 84,
   "metadata": {},
   "outputs": [
    {
     "data": {
      "text/plain": [
       "{'activation': 'logistic',\n",
       " 'alpha': 0.001,\n",
       " 'hidden_layer_sizes': (100, 100, 100),\n",
       " 'learning_rate_init': 0.001,\n",
       " 'solver': 'adam'}"
      ]
     },
     "execution_count": 84,
     "metadata": {},
     "output_type": "execute_result"
    }
   ],
   "source": [
    "NN_grid.best_params_"
   ]
  },
  {
   "cell_type": "code",
   "execution_count": 85,
   "metadata": {},
   "outputs": [],
   "source": [
    "params1 = {'hidden_layer_sizes':[(100,100,100),(200,200,200),(300,300,300)], 'solver':['adam'],\n",
    "           'activation':['logistic'], 'alpha':[0.001], 'learning_rate_init':[0.001]}"
   ]
  },
  {
   "cell_type": "code",
   "execution_count": 86,
   "metadata": {},
   "outputs": [
    {
     "name": "stdout",
     "output_type": "stream",
     "text": [
      "Fitting 3 folds for each of 3 candidates, totalling 9 fits\n",
      "[CV] activation=logistic, alpha=0.001, hidden_layer_sizes=(100, 100, 100), learning_rate_init=0.001, solver=adam \n"
     ]
    },
    {
     "name": "stderr",
     "output_type": "stream",
     "text": [
      "[Parallel(n_jobs=1)]: Using backend SequentialBackend with 1 concurrent workers.\n"
     ]
    },
    {
     "name": "stdout",
     "output_type": "stream",
     "text": [
      "[CV]  activation=logistic, alpha=0.001, hidden_layer_sizes=(100, 100, 100), learning_rate_init=0.001, solver=adam, total=   2.7s\n",
      "[CV] activation=logistic, alpha=0.001, hidden_layer_sizes=(100, 100, 100), learning_rate_init=0.001, solver=adam \n"
     ]
    },
    {
     "name": "stderr",
     "output_type": "stream",
     "text": [
      "[Parallel(n_jobs=1)]: Done   1 out of   1 | elapsed:    2.7s remaining:    0.0s\n"
     ]
    },
    {
     "name": "stdout",
     "output_type": "stream",
     "text": [
      "[CV]  activation=logistic, alpha=0.001, hidden_layer_sizes=(100, 100, 100), learning_rate_init=0.001, solver=adam, total=   3.1s\n",
      "[CV] activation=logistic, alpha=0.001, hidden_layer_sizes=(100, 100, 100), learning_rate_init=0.001, solver=adam \n",
      "[CV]  activation=logistic, alpha=0.001, hidden_layer_sizes=(100, 100, 100), learning_rate_init=0.001, solver=adam, total=   3.2s\n",
      "[CV] activation=logistic, alpha=0.001, hidden_layer_sizes=(200, 200, 200), learning_rate_init=0.001, solver=adam \n",
      "[CV]  activation=logistic, alpha=0.001, hidden_layer_sizes=(200, 200, 200), learning_rate_init=0.001, solver=adam, total=   2.8s\n",
      "[CV] activation=logistic, alpha=0.001, hidden_layer_sizes=(200, 200, 200), learning_rate_init=0.001, solver=adam \n",
      "[CV]  activation=logistic, alpha=0.001, hidden_layer_sizes=(200, 200, 200), learning_rate_init=0.001, solver=adam, total=   3.0s\n",
      "[CV] activation=logistic, alpha=0.001, hidden_layer_sizes=(200, 200, 200), learning_rate_init=0.001, solver=adam \n",
      "[CV]  activation=logistic, alpha=0.001, hidden_layer_sizes=(200, 200, 200), learning_rate_init=0.001, solver=adam, total=   3.1s\n",
      "[CV] activation=logistic, alpha=0.001, hidden_layer_sizes=(300, 300, 300), learning_rate_init=0.001, solver=adam \n",
      "[CV]  activation=logistic, alpha=0.001, hidden_layer_sizes=(300, 300, 300), learning_rate_init=0.001, solver=adam, total=   5.7s\n",
      "[CV] activation=logistic, alpha=0.001, hidden_layer_sizes=(300, 300, 300), learning_rate_init=0.001, solver=adam \n",
      "[CV]  activation=logistic, alpha=0.001, hidden_layer_sizes=(300, 300, 300), learning_rate_init=0.001, solver=adam, total=   5.5s\n",
      "[CV] activation=logistic, alpha=0.001, hidden_layer_sizes=(300, 300, 300), learning_rate_init=0.001, solver=adam \n",
      "[CV]  activation=logistic, alpha=0.001, hidden_layer_sizes=(300, 300, 300), learning_rate_init=0.001, solver=adam, total=   5.2s\n"
     ]
    },
    {
     "name": "stderr",
     "output_type": "stream",
     "text": [
      "[Parallel(n_jobs=1)]: Done   9 out of   9 | elapsed:   34.2s finished\n"
     ]
    },
    {
     "data": {
      "text/plain": [
       "GridSearchCV(cv=3, error_score='raise-deprecating',\n",
       "             estimator=MLPClassifier(activation='relu', alpha=0.0001,\n",
       "                                     batch_size='auto', beta_1=0.9,\n",
       "                                     beta_2=0.999, early_stopping=False,\n",
       "                                     epsilon=1e-08, hidden_layer_sizes=(100,),\n",
       "                                     learning_rate='constant',\n",
       "                                     learning_rate_init=0.001, max_iter=10000,\n",
       "                                     momentum=0.9, n_iter_no_change=10,\n",
       "                                     nesterovs_momentum=True, power_t=0.5,\n",
       "                                     random_s...\n",
       "                                     solver='adam', tol=0.0001,\n",
       "                                     validation_fraction=0.1, verbose=False,\n",
       "                                     warm_start=False),\n",
       "             iid='warn', n_jobs=1,\n",
       "             param_grid={'activation': ['logistic'], 'alpha': [0.001],\n",
       "                         'hidden_layer_sizes': [(100, 100, 100),\n",
       "                                                (200, 200, 200),\n",
       "                                                (300, 300, 300)],\n",
       "                         'learning_rate_init': [0.001], 'solver': ['adam']},\n",
       "             pre_dispatch='2*n_jobs', refit=True, return_train_score=False,\n",
       "             scoring='accuracy', verbose=2)"
      ]
     },
     "execution_count": 86,
     "metadata": {},
     "output_type": "execute_result"
    }
   ],
   "source": [
    "NN = MLPClassifier(max_iter = 10000, random_state = 1)\n",
    "NN_grid = GridSearchCV(estimator = NN, param_grid = params1, cv = 3, verbose=2, scoring = 'accuracy',\n",
    "                       n_jobs = 1)\n",
    "NN_grid.fit(X_train, y_train_hot)"
   ]
  },
  {
   "cell_type": "code",
   "execution_count": 87,
   "metadata": {},
   "outputs": [
    {
     "data": {
      "text/plain": [
       "0.8389366692728695"
      ]
     },
     "execution_count": 87,
     "metadata": {},
     "output_type": "execute_result"
    }
   ],
   "source": [
    "NN_grid.best_score_"
   ]
  },
  {
   "cell_type": "code",
   "execution_count": 88,
   "metadata": {},
   "outputs": [
    {
     "data": {
      "text/plain": [
       "{'activation': 'logistic',\n",
       " 'alpha': 0.001,\n",
       " 'hidden_layer_sizes': (100, 100, 100),\n",
       " 'learning_rate_init': 0.001,\n",
       " 'solver': 'adam'}"
      ]
     },
     "execution_count": 88,
     "metadata": {},
     "output_type": "execute_result"
    }
   ],
   "source": [
    "NN_grid.best_params_"
   ]
  },
  {
   "cell_type": "code",
   "execution_count": 91,
   "metadata": {},
   "outputs": [
    {
     "name": "stdout",
     "output_type": "stream",
     "text": [
      "{'mean_fit_time': array([2.95404069, 2.97600881, 5.46327345]), 'std_fit_time': array([0.21644589, 0.11671821, 0.24179969]), 'mean_score_time': array([0.00290656, 0.00487296, 0.00715558]), 'std_score_time': array([0.00012973, 0.00011286, 0.00014951]), 'param_activation': masked_array(data=['logistic', 'logistic', 'logistic'],\n",
      "             mask=[False, False, False],\n",
      "       fill_value='?',\n",
      "            dtype=object), 'param_alpha': masked_array(data=[0.001, 0.001, 0.001],\n",
      "             mask=[False, False, False],\n",
      "       fill_value='?',\n",
      "            dtype=object), 'param_hidden_layer_sizes': masked_array(data=[(100, 100, 100), (200, 200, 200), (300, 300, 300)],\n",
      "             mask=[False, False, False],\n",
      "       fill_value='?',\n",
      "            dtype=object), 'param_learning_rate_init': masked_array(data=[0.001, 0.001, 0.001],\n",
      "             mask=[False, False, False],\n",
      "       fill_value='?',\n",
      "            dtype=object), 'param_solver': masked_array(data=['adam', 'adam', 'adam'],\n",
      "             mask=[False, False, False],\n",
      "       fill_value='?',\n",
      "            dtype=object), 'params': [{'activation': 'logistic', 'alpha': 0.001, 'hidden_layer_sizes': (100, 100, 100), 'learning_rate_init': 0.001, 'solver': 'adam'}, {'activation': 'logistic', 'alpha': 0.001, 'hidden_layer_sizes': (200, 200, 200), 'learning_rate_init': 0.001, 'solver': 'adam'}, {'activation': 'logistic', 'alpha': 0.001, 'hidden_layer_sizes': (300, 300, 300), 'learning_rate_init': 0.001, 'solver': 'adam'}], 'split0_test_score': array([0.83138173, 0.82903981, 0.83138173]), 'split1_test_score': array([0.82629108, 0.8286385 , 0.83098592]), 'split2_test_score': array([0.85915493, 0.83802817, 0.83568075]), 'mean_test_score': array([0.83893667, 0.83189992, 0.83268178]), 'std_test_score': array([0.0144385 , 0.00433388, 0.0021255 ]), 'rank_test_score': array([1, 3, 2], dtype=int32)}\n"
     ]
    }
   ],
   "source": [
    "print(NN_grid.cv_results_)"
   ]
  },
  {
   "cell_type": "code",
   "execution_count": 150,
   "metadata": {},
   "outputs": [
    {
     "name": "stdout",
     "output_type": "stream",
     "text": [
      "0.85\n"
     ]
    }
   ],
   "source": [
    "best_NN = NN_grid.best_estimator_\n",
    "best_NN.fit(X_train, y_train_hot)\n",
    "score = best_NN.score(X_test, y_test_hot)\n",
    "print(score)"
   ]
  },
  {
   "cell_type": "code",
   "execution_count": null,
   "metadata": {},
   "outputs": [],
   "source": []
  },
  {
   "cell_type": "markdown",
   "metadata": {},
   "source": [
    "# Decisoins Tree"
   ]
  },
  {
   "cell_type": "code",
   "execution_count": 123,
   "metadata": {},
   "outputs": [],
   "source": [
    "grid = {'criterion':['gini','entropy'], 'max_depth':np.linspace(10,100,10)}"
   ]
  },
  {
   "cell_type": "code",
   "execution_count": 125,
   "metadata": {},
   "outputs": [
    {
     "name": "stdout",
     "output_type": "stream",
     "text": [
      "Fitting 3 folds for each of 20 candidates, totalling 60 fits\n",
      "[CV] criterion=gini, max_depth=10.0 ..................................\n",
      "[CV] ................... criterion=gini, max_depth=10.0, total=   0.0s\n",
      "[CV] criterion=gini, max_depth=10.0 ..................................\n",
      "[CV] ................... criterion=gini, max_depth=10.0, total=   0.0s\n",
      "[CV] criterion=gini, max_depth=10.0 ..................................\n",
      "[CV] ................... criterion=gini, max_depth=10.0, total=   0.0s\n",
      "[CV] criterion=gini, max_depth=20.0 ..................................\n",
      "[CV] ................... criterion=gini, max_depth=20.0, total=   0.0s\n",
      "[CV] criterion=gini, max_depth=20.0 ..................................\n",
      "[CV] ................... criterion=gini, max_depth=20.0, total=   0.0s\n",
      "[CV] criterion=gini, max_depth=20.0 ..................................\n",
      "[CV] ................... criterion=gini, max_depth=20.0, total=   0.0s\n",
      "[CV] criterion=gini, max_depth=30.0 ..................................\n",
      "[CV] ................... criterion=gini, max_depth=30.0, total=   0.0s\n",
      "[CV] criterion=gini, max_depth=30.0 ..................................\n",
      "[CV] ................... criterion=gini, max_depth=30.0, total=   0.0s\n",
      "[CV] criterion=gini, max_depth=30.0 ..................................\n",
      "[CV] ................... criterion=gini, max_depth=30.0, total=   0.0s\n",
      "[CV] criterion=gini, max_depth=40.0 ..................................\n",
      "[CV] ................... criterion=gini, max_depth=40.0, total=   0.0s\n",
      "[CV] criterion=gini, max_depth=40.0 ..................................\n",
      "[CV] ................... criterion=gini, max_depth=40.0, total=   0.0s\n",
      "[CV] criterion=gini, max_depth=40.0 ..................................\n",
      "[CV] ................... criterion=gini, max_depth=40.0, total=   0.0s\n",
      "[CV] criterion=gini, max_depth=50.0 ..................................\n",
      "[CV] ................... criterion=gini, max_depth=50.0, total=   0.0s\n",
      "[CV] criterion=gini, max_depth=50.0 ..................................\n",
      "[CV] ................... criterion=gini, max_depth=50.0, total=   0.0s\n",
      "[CV] criterion=gini, max_depth=50.0 ..................................\n",
      "[CV] ................... criterion=gini, max_depth=50.0, total=   0.0s\n",
      "[CV] criterion=gini, max_depth=60.0 ..................................\n",
      "[CV] ................... criterion=gini, max_depth=60.0, total=   0.0s\n",
      "[CV] criterion=gini, max_depth=60.0 ..................................\n",
      "[CV] ................... criterion=gini, max_depth=60.0, total=   0.0s\n",
      "[CV] criterion=gini, max_depth=60.0 ..................................\n",
      "[CV] ................... criterion=gini, max_depth=60.0, total=   0.0s\n",
      "[CV] criterion=gini, max_depth=70.0 ..................................\n",
      "[CV] ................... criterion=gini, max_depth=70.0, total=   0.0s\n",
      "[CV] criterion=gini, max_depth=70.0 ..................................\n",
      "[CV] ................... criterion=gini, max_depth=70.0, total=   0.0s\n",
      "[CV] criterion=gini, max_depth=70.0 ..................................\n",
      "[CV] ................... criterion=gini, max_depth=70.0, total=   0.0s\n",
      "[CV] criterion=gini, max_depth=80.0 ..................................\n",
      "[CV] ................... criterion=gini, max_depth=80.0, total=   0.0s\n",
      "[CV] criterion=gini, max_depth=80.0 ..................................\n",
      "[CV] ................... criterion=gini, max_depth=80.0, total=   0.0s\n",
      "[CV] criterion=gini, max_depth=80.0 ..................................\n",
      "[CV] ................... criterion=gini, max_depth=80.0, total=   0.0s\n",
      "[CV] criterion=gini, max_depth=90.0 ..................................\n",
      "[CV] ................... criterion=gini, max_depth=90.0, total=   0.0s\n",
      "[CV] criterion=gini, max_depth=90.0 ..................................\n",
      "[CV] ................... criterion=gini, max_depth=90.0, total=   0.0s\n",
      "[CV] criterion=gini, max_depth=90.0 ..................................\n"
     ]
    },
    {
     "name": "stderr",
     "output_type": "stream",
     "text": [
      "[Parallel(n_jobs=1)]: Using backend SequentialBackend with 1 concurrent workers.\n",
      "[Parallel(n_jobs=1)]: Done   1 out of   1 | elapsed:    0.0s remaining:    0.0s\n"
     ]
    },
    {
     "name": "stdout",
     "output_type": "stream",
     "text": [
      "[CV] ................... criterion=gini, max_depth=90.0, total=   0.0s\n",
      "[CV] criterion=gini, max_depth=100.0 .................................\n",
      "[CV] .................. criterion=gini, max_depth=100.0, total=   0.0s\n",
      "[CV] criterion=gini, max_depth=100.0 .................................\n",
      "[CV] .................. criterion=gini, max_depth=100.0, total=   0.0s\n",
      "[CV] criterion=gini, max_depth=100.0 .................................\n",
      "[CV] .................. criterion=gini, max_depth=100.0, total=   0.0s\n",
      "[CV] criterion=entropy, max_depth=10.0 ...............................\n",
      "[CV] ................ criterion=entropy, max_depth=10.0, total=   0.0s\n",
      "[CV] criterion=entropy, max_depth=10.0 ...............................\n",
      "[CV] ................ criterion=entropy, max_depth=10.0, total=   0.0s\n",
      "[CV] criterion=entropy, max_depth=10.0 ...............................\n",
      "[CV] ................ criterion=entropy, max_depth=10.0, total=   0.0s\n",
      "[CV] criterion=entropy, max_depth=20.0 ...............................\n",
      "[CV] ................ criterion=entropy, max_depth=20.0, total=   0.0s\n",
      "[CV] criterion=entropy, max_depth=20.0 ...............................\n",
      "[CV] ................ criterion=entropy, max_depth=20.0, total=   0.0s\n",
      "[CV] criterion=entropy, max_depth=20.0 ...............................\n",
      "[CV] ................ criterion=entropy, max_depth=20.0, total=   0.0s\n",
      "[CV] criterion=entropy, max_depth=30.0 ...............................\n",
      "[CV] ................ criterion=entropy, max_depth=30.0, total=   0.0s\n",
      "[CV] criterion=entropy, max_depth=30.0 ...............................\n",
      "[CV] ................ criterion=entropy, max_depth=30.0, total=   0.0s\n",
      "[CV] criterion=entropy, max_depth=30.0 ...............................\n",
      "[CV] ................ criterion=entropy, max_depth=30.0, total=   0.0s\n",
      "[CV] criterion=entropy, max_depth=40.0 ...............................\n",
      "[CV] ................ criterion=entropy, max_depth=40.0, total=   0.0s\n",
      "[CV] criterion=entropy, max_depth=40.0 ...............................\n",
      "[CV] ................ criterion=entropy, max_depth=40.0, total=   0.0s\n",
      "[CV] criterion=entropy, max_depth=40.0 ...............................\n",
      "[CV] ................ criterion=entropy, max_depth=40.0, total=   0.0s\n",
      "[CV] criterion=entropy, max_depth=50.0 ...............................\n",
      "[CV] ................ criterion=entropy, max_depth=50.0, total=   0.0s\n",
      "[CV] criterion=entropy, max_depth=50.0 ...............................\n",
      "[CV] ................ criterion=entropy, max_depth=50.0, total=   0.0s\n",
      "[CV] criterion=entropy, max_depth=50.0 ...............................\n",
      "[CV] ................ criterion=entropy, max_depth=50.0, total=   0.0s\n",
      "[CV] criterion=entropy, max_depth=60.0 ...............................\n",
      "[CV] ................ criterion=entropy, max_depth=60.0, total=   0.0s\n",
      "[CV] criterion=entropy, max_depth=60.0 ...............................\n",
      "[CV] ................ criterion=entropy, max_depth=60.0, total=   0.0s\n",
      "[CV] criterion=entropy, max_depth=60.0 ...............................\n",
      "[CV] ................ criterion=entropy, max_depth=60.0, total=   0.0s\n",
      "[CV] criterion=entropy, max_depth=70.0 ...............................\n",
      "[CV] ................ criterion=entropy, max_depth=70.0, total=   0.0s\n",
      "[CV] criterion=entropy, max_depth=70.0 ...............................\n",
      "[CV] ................ criterion=entropy, max_depth=70.0, total=   0.0s\n",
      "[CV] criterion=entropy, max_depth=70.0 ...............................\n",
      "[CV] ................ criterion=entropy, max_depth=70.0, total=   0.0s\n",
      "[CV] criterion=entropy, max_depth=80.0 ...............................\n",
      "[CV] ................ criterion=entropy, max_depth=80.0, total=   0.0s\n",
      "[CV] criterion=entropy, max_depth=80.0 ...............................\n",
      "[CV] ................ criterion=entropy, max_depth=80.0, total=   0.0s\n",
      "[CV] criterion=entropy, max_depth=80.0 ...............................\n",
      "[CV] ................ criterion=entropy, max_depth=80.0, total=   0.0s\n",
      "[CV] criterion=entropy, max_depth=90.0 ...............................\n",
      "[CV] ................ criterion=entropy, max_depth=90.0, total=   0.0s\n",
      "[CV] criterion=entropy, max_depth=90.0 ...............................\n",
      "[CV] ................ criterion=entropy, max_depth=90.0, total=   0.0s\n",
      "[CV] criterion=entropy, max_depth=90.0 ...............................\n",
      "[CV] ................ criterion=entropy, max_depth=90.0, total=   0.0s\n",
      "[CV] criterion=entropy, max_depth=100.0 ..............................\n",
      "[CV] ............... criterion=entropy, max_depth=100.0, total=   0.0s\n",
      "[CV] criterion=entropy, max_depth=100.0 ..............................\n",
      "[CV] ............... criterion=entropy, max_depth=100.0, total=   0.0s\n",
      "[CV] criterion=entropy, max_depth=100.0 ..............................\n",
      "[CV] ............... criterion=entropy, max_depth=100.0, total=   0.0s\n"
     ]
    },
    {
     "name": "stderr",
     "output_type": "stream",
     "text": [
      "[Parallel(n_jobs=1)]: Done  60 out of  60 | elapsed:    0.5s finished\n"
     ]
    },
    {
     "data": {
      "text/plain": [
       "GridSearchCV(cv=3, error_score='raise-deprecating',\n",
       "             estimator=DecisionTreeClassifier(class_weight=None,\n",
       "                                              criterion='gini', max_depth=None,\n",
       "                                              max_features=None,\n",
       "                                              max_leaf_nodes=None,\n",
       "                                              min_impurity_decrease=0.0,\n",
       "                                              min_impurity_split=None,\n",
       "                                              min_samples_leaf=1,\n",
       "                                              min_samples_split=2,\n",
       "                                              min_weight_fraction_leaf=0.0,\n",
       "                                              presort=False, random_state=1,\n",
       "                                              splitter='best'),\n",
       "             iid='warn', n_jobs=1,\n",
       "             param_grid={'criterion': ['gini', 'entropy'],\n",
       "                         'max_depth': array([ 10.,  20.,  30.,  40.,  50.,  60.,  70.,  80.,  90., 100.])},\n",
       "             pre_dispatch='2*n_jobs', refit=True, return_train_score=False,\n",
       "             scoring='accuracy', verbose=2)"
      ]
     },
     "execution_count": 125,
     "metadata": {},
     "output_type": "execute_result"
    }
   ],
   "source": [
    "tree = DecisionTreeClassifier(random_state=1)\n",
    "tree_grid = GridSearchCV(estimator = tree, param_grid = grid, scoring = 'accuracy', cv = 3, verbose=2, \n",
    "                               n_jobs = 1)\n",
    "tree_grid.fit(X_train, y_train_hot)\n"
   ]
  },
  {
   "cell_type": "code",
   "execution_count": 126,
   "metadata": {},
   "outputs": [
    {
     "data": {
      "text/plain": [
       "0.8201720093823299"
      ]
     },
     "execution_count": 126,
     "metadata": {},
     "output_type": "execute_result"
    }
   ],
   "source": [
    "tree_random.best_score_"
   ]
  },
  {
   "cell_type": "code",
   "execution_count": 127,
   "metadata": {},
   "outputs": [
    {
     "data": {
      "text/plain": [
       "{'max_depth': 10.0, 'criterion': 'gini'}"
      ]
     },
     "execution_count": 127,
     "metadata": {},
     "output_type": "execute_result"
    }
   ],
   "source": [
    "tree_random.best_params_"
   ]
  },
  {
   "cell_type": "code",
   "execution_count": 138,
   "metadata": {},
   "outputs": [
    {
     "name": "stdout",
     "output_type": "stream",
     "text": [
      "Fitting 3 folds for each of 400 candidates, totalling 1200 fits\n",
      "[CV] criterion=gini, max_depth=1.0, max_features=2, max_leaf_nodes=2 .\n",
      "[CV]  criterion=gini, max_depth=1.0, max_features=2, max_leaf_nodes=2, total=   0.0s\n",
      "[CV] criterion=gini, max_depth=1.0, max_features=2, max_leaf_nodes=2 .\n",
      "[CV]  criterion=gini, max_depth=1.0, max_features=2, max_leaf_nodes=2, total=   0.0s\n",
      "[CV] criterion=gini, max_depth=1.0, max_features=2, max_leaf_nodes=2 .\n",
      "[CV]  criterion=gini, max_depth=1.0, max_features=2, max_leaf_nodes=2, total=   0.0s\n",
      "[CV] criterion=gini, max_depth=1.0, max_features=2, max_leaf_nodes=5 .\n",
      "[CV]  criterion=gini, max_depth=1.0, max_features=2, max_leaf_nodes=5, total=   0.0s\n",
      "[CV] criterion=gini, max_depth=1.0, max_features=2, max_leaf_nodes=5 .\n",
      "[CV]  criterion=gini, max_depth=1.0, max_features=2, max_leaf_nodes=5, total=   0.0s\n",
      "[CV] criterion=gini, max_depth=1.0, max_features=2, max_leaf_nodes=5 .\n",
      "[CV]  criterion=gini, max_depth=1.0, max_features=2, max_leaf_nodes=5, total=   0.0s\n",
      "[CV] criterion=gini, max_depth=1.0, max_features=2, max_leaf_nodes=10 \n",
      "[CV]  criterion=gini, max_depth=1.0, max_features=2, max_leaf_nodes=10, total=   0.0s\n",
      "[CV] criterion=gini, max_depth=1.0, max_features=2, max_leaf_nodes=10 \n",
      "[CV]  criterion=gini, max_depth=1.0, max_features=2, max_leaf_nodes=10, total=   0.0s\n",
      "[CV] criterion=gini, max_depth=1.0, max_features=2, max_leaf_nodes=10 \n",
      "[CV]  criterion=gini, max_depth=1.0, max_features=2, max_leaf_nodes=10, total=   0.0s\n",
      "[CV] criterion=gini, max_depth=1.0, max_features=2, max_leaf_nodes=15 \n",
      "[CV]  criterion=gini, max_depth=1.0, max_features=2, max_leaf_nodes=15, total=   0.0s\n",
      "[CV] criterion=gini, max_depth=1.0, max_features=2, max_leaf_nodes=15 \n",
      "[CV]  criterion=gini, max_depth=1.0, max_features=2, max_leaf_nodes=15, total=   0.0s\n",
      "[CV] criterion=gini, max_depth=1.0, max_features=2, max_leaf_nodes=15 \n",
      "[CV]  criterion=gini, max_depth=1.0, max_features=2, max_leaf_nodes=15, total=   0.0s\n",
      "[CV] criterion=gini, max_depth=1.0, max_features=4, max_leaf_nodes=2 .\n",
      "[CV]  criterion=gini, max_depth=1.0, max_features=4, max_leaf_nodes=2, total=   0.0s\n",
      "[CV] criterion=gini, max_depth=1.0, max_features=4, max_leaf_nodes=2 .\n",
      "[CV]  criterion=gini, max_depth=1.0, max_features=4, max_leaf_nodes=2, total=   0.0s\n",
      "[CV] criterion=gini, max_depth=1.0, max_features=4, max_leaf_nodes=2 .\n",
      "[CV]  criterion=gini, max_depth=1.0, max_features=4, max_leaf_nodes=2, total=   0.0s\n",
      "[CV] criterion=gini, max_depth=1.0, max_features=4, max_leaf_nodes=5 .\n",
      "[CV]  criterion=gini, max_depth=1.0, max_features=4, max_leaf_nodes=5, total=   0.0s\n",
      "[CV] criterion=gini, max_depth=1.0, max_features=4, max_leaf_nodes=5 .\n",
      "[CV]  criterion=gini, max_depth=1.0, max_features=4, max_leaf_nodes=5, total=   0.0s\n",
      "[CV] criterion=gini, max_depth=1.0, max_features=4, max_leaf_nodes=5 .\n",
      "[CV]  criterion=gini, max_depth=1.0, max_features=4, max_leaf_nodes=5, total=   0.0s\n",
      "[CV] criterion=gini, max_depth=1.0, max_features=4, max_leaf_nodes=10 \n",
      "[CV]  criterion=gini, max_depth=1.0, max_features=4, max_leaf_nodes=10, total=   0.0s\n",
      "[CV] criterion=gini, max_depth=1.0, max_features=4, max_leaf_nodes=10 \n",
      "[CV]  criterion=gini, max_depth=1.0, max_features=4, max_leaf_nodes=10, total=   0.0s\n",
      "[CV] criterion=gini, max_depth=1.0, max_features=4, max_leaf_nodes=10 \n",
      "[CV]  criterion=gini, max_depth=1.0, max_features=4, max_leaf_nodes=10, total=   0.0s\n",
      "[CV] criterion=gini, max_depth=1.0, max_features=4, max_leaf_nodes=15 \n",
      "[CV]  criterion=gini, max_depth=1.0, max_features=4, max_leaf_nodes=15, total=   0.0s\n",
      "[CV] criterion=gini, max_depth=1.0, max_features=4, max_leaf_nodes=15 \n",
      "[CV]  criterion=gini, max_depth=1.0, max_features=4, max_leaf_nodes=15, total=   0.0s\n",
      "[CV] criterion=gini, max_depth=1.0, max_features=4, max_leaf_nodes=15 \n",
      "[CV]  criterion=gini, max_depth=1.0, max_features=4, max_leaf_nodes=15, total=   0.0s\n",
      "[CV] criterion=gini, max_depth=1.0, max_features=6, max_leaf_nodes=2 .\n",
      "[CV]  criterion=gini, max_depth=1.0, max_features=6, max_leaf_nodes=2, total=   0.0s\n",
      "[CV] criterion=gini, max_depth=1.0, max_features=6, max_leaf_nodes=2 .\n",
      "[CV]  criterion=gini, max_depth=1.0, max_features=6, max_leaf_nodes=2, total=   0.0s\n",
      "[CV] criterion=gini, max_depth=1.0, max_features=6, max_leaf_nodes=2 .\n",
      "[CV]  criterion=gini, max_depth=1.0, max_features=6, max_leaf_nodes=2, total=   0.0s\n",
      "[CV] criterion=gini, max_depth=1.0, max_features=6, max_leaf_nodes=5 .\n",
      "[CV]  criterion=gini, max_depth=1.0, max_features=6, max_leaf_nodes=5, total=   0.0s\n",
      "[CV] criterion=gini, max_depth=1.0, max_features=6, max_leaf_nodes=5 .\n",
      "[CV]  criterion=gini, max_depth=1.0, max_features=6, max_leaf_nodes=5, total=   0.0s\n",
      "[CV] criterion=gini, max_depth=1.0, max_features=6, max_leaf_nodes=5 .\n",
      "[CV]  criterion=gini, max_depth=1.0, max_features=6, max_leaf_nodes=5, total=   0.0s\n",
      "[CV] criterion=gini, max_depth=1.0, max_features=6, max_leaf_nodes=10 \n",
      "[CV]  criterion=gini, max_depth=1.0, max_features=6, max_leaf_nodes=10, total=   0.0s\n",
      "[CV] criterion=gini, max_depth=1.0, max_features=6, max_leaf_nodes=10 \n",
      "[CV]  criterion=gini, max_depth=1.0, max_features=6, max_leaf_nodes=10, total=   0.0s\n",
      "[CV] criterion=gini, max_depth=1.0, max_features=6, max_leaf_nodes=10 \n",
      "[CV]  criterion=gini, max_depth=1.0, max_features=6, max_leaf_nodes=10, total=   0.0s\n",
      "[CV] criterion=gini, max_depth=1.0, max_features=6, max_leaf_nodes=15 \n",
      "[CV]  criterion=gini, max_depth=1.0, max_features=6, max_leaf_nodes=15, total=   0.0s\n",
      "[CV] criterion=gini, max_depth=1.0, max_features=6, max_leaf_nodes=15 \n",
      "[CV]  criterion=gini, max_depth=1.0, max_features=6, max_leaf_nodes=15, total=   0.0s\n",
      "[CV] criterion=gini, max_depth=1.0, max_features=6, max_leaf_nodes=15 \n",
      "[CV]  criterion=gini, max_depth=1.0, max_features=6, max_leaf_nodes=15, total=   0.0s\n",
      "[CV] criterion=gini, max_depth=1.0, max_features=8, max_leaf_nodes=2 .\n",
      "[CV]  criterion=gini, max_depth=1.0, max_features=8, max_leaf_nodes=2, total=   0.0s\n",
      "[CV] criterion=gini, max_depth=1.0, max_features=8, max_leaf_nodes=2 .\n",
      "[CV]  criterion=gini, max_depth=1.0, max_features=8, max_leaf_nodes=2, total=   0.0s\n",
      "[CV] criterion=gini, max_depth=1.0, max_features=8, max_leaf_nodes=2 .\n",
      "[CV]  criterion=gini, max_depth=1.0, max_features=8, max_leaf_nodes=2, total=   0.0s\n",
      "[CV] criterion=gini, max_depth=1.0, max_features=8, max_leaf_nodes=5 .\n",
      "[CV]  criterion=gini, max_depth=1.0, max_features=8, max_leaf_nodes=5, total=   0.0s\n",
      "[CV] criterion=gini, max_depth=1.0, max_features=8, max_leaf_nodes=5 .\n",
      "[CV]  criterion=gini, max_depth=1.0, max_features=8, max_leaf_nodes=5, total=   0.0s\n",
      "[CV] criterion=gini, max_depth=1.0, max_features=8, max_leaf_nodes=5 .\n",
      "[CV]  criterion=gini, max_depth=1.0, max_features=8, max_leaf_nodes=5, total=   0.0s\n",
      "[CV] criterion=gini, max_depth=1.0, max_features=8, max_leaf_nodes=10 \n",
      "[CV]  criterion=gini, max_depth=1.0, max_features=8, max_leaf_nodes=10, total=   0.0s\n",
      "[CV] criterion=gini, max_depth=1.0, max_features=8, max_leaf_nodes=10 \n",
      "[CV]  criterion=gini, max_depth=1.0, max_features=8, max_leaf_nodes=10, total=   0.0s\n",
      "[CV] criterion=gini, max_depth=1.0, max_features=8, max_leaf_nodes=10 \n",
      "[CV]  criterion=gini, max_depth=1.0, max_features=8, max_leaf_nodes=10, total=   0.0s\n",
      "[CV] criterion=gini, max_depth=1.0, max_features=8, max_leaf_nodes=15 \n",
      "[CV]  criterion=gini, max_depth=1.0, max_features=8, max_leaf_nodes=15, total=   0.0s\n",
      "[CV] criterion=gini, max_depth=1.0, max_features=8, max_leaf_nodes=15 \n",
      "[CV]  criterion=gini, max_depth=1.0, max_features=8, max_leaf_nodes=15, total=   0.0s\n",
      "[CV] criterion=gini, max_depth=1.0, max_features=8, max_leaf_nodes=15 \n",
      "[CV]  criterion=gini, max_depth=1.0, max_features=8, max_leaf_nodes=15, total=   0.0s\n",
      "[CV] criterion=gini, max_depth=1.0, max_features=11, max_leaf_nodes=2 \n",
      "[CV]  criterion=gini, max_depth=1.0, max_features=11, max_leaf_nodes=2, total=   0.0s\n",
      "[CV] criterion=gini, max_depth=1.0, max_features=11, max_leaf_nodes=2 \n",
      "[CV]  criterion=gini, max_depth=1.0, max_features=11, max_leaf_nodes=2, total=   0.0s\n",
      "[CV] criterion=gini, max_depth=1.0, max_features=11, max_leaf_nodes=2 \n",
      "[CV]  criterion=gini, max_depth=1.0, max_features=11, max_leaf_nodes=2, total=   0.0s\n",
      "[CV] criterion=gini, max_depth=1.0, max_features=11, max_leaf_nodes=5 \n",
      "[CV]  criterion=gini, max_depth=1.0, max_features=11, max_leaf_nodes=5, total=   0.0s\n",
      "[CV] criterion=gini, max_depth=1.0, max_features=11, max_leaf_nodes=5 \n",
      "[CV]  criterion=gini, max_depth=1.0, max_features=11, max_leaf_nodes=5, total=   0.0s\n",
      "[CV] criterion=gini, max_depth=1.0, max_features=11, max_leaf_nodes=5 \n",
      "[CV]  criterion=gini, max_depth=1.0, max_features=11, max_leaf_nodes=5, total=   0.0s\n",
      "[CV] criterion=gini, max_depth=1.0, max_features=11, max_leaf_nodes=10 \n",
      "[CV]  criterion=gini, max_depth=1.0, max_features=11, max_leaf_nodes=10, total=   0.0s\n",
      "[CV] criterion=gini, max_depth=1.0, max_features=11, max_leaf_nodes=10 \n"
     ]
    },
    {
     "name": "stderr",
     "output_type": "stream",
     "text": [
      "[Parallel(n_jobs=1)]: Using backend SequentialBackend with 1 concurrent workers.\n",
      "[Parallel(n_jobs=1)]: Done   1 out of   1 | elapsed:    0.0s remaining:    0.0s\n"
     ]
    },
    {
     "name": "stdout",
     "output_type": "stream",
     "text": [
      "[CV]  criterion=gini, max_depth=1.0, max_features=11, max_leaf_nodes=10, total=   0.0s\n",
      "[CV] criterion=gini, max_depth=1.0, max_features=11, max_leaf_nodes=10 \n",
      "[CV]  criterion=gini, max_depth=1.0, max_features=11, max_leaf_nodes=10, total=   0.0s\n",
      "[CV] criterion=gini, max_depth=1.0, max_features=11, max_leaf_nodes=15 \n",
      "[CV]  criterion=gini, max_depth=1.0, max_features=11, max_leaf_nodes=15, total=   0.0s\n",
      "[CV] criterion=gini, max_depth=1.0, max_features=11, max_leaf_nodes=15 \n",
      "[CV]  criterion=gini, max_depth=1.0, max_features=11, max_leaf_nodes=15, total=   0.0s\n",
      "[CV] criterion=gini, max_depth=1.0, max_features=11, max_leaf_nodes=15 \n",
      "[CV]  criterion=gini, max_depth=1.0, max_features=11, max_leaf_nodes=15, total=   0.0s\n",
      "[CV] criterion=gini, max_depth=2.0, max_features=2, max_leaf_nodes=2 .\n",
      "[CV]  criterion=gini, max_depth=2.0, max_features=2, max_leaf_nodes=2, total=   0.0s\n",
      "[CV] criterion=gini, max_depth=2.0, max_features=2, max_leaf_nodes=2 .\n",
      "[CV]  criterion=gini, max_depth=2.0, max_features=2, max_leaf_nodes=2, total=   0.0s\n",
      "[CV] criterion=gini, max_depth=2.0, max_features=2, max_leaf_nodes=2 .\n",
      "[CV]  criterion=gini, max_depth=2.0, max_features=2, max_leaf_nodes=2, total=   0.0s\n",
      "[CV] criterion=gini, max_depth=2.0, max_features=2, max_leaf_nodes=5 .\n",
      "[CV]  criterion=gini, max_depth=2.0, max_features=2, max_leaf_nodes=5, total=   0.0s\n",
      "[CV] criterion=gini, max_depth=2.0, max_features=2, max_leaf_nodes=5 .\n",
      "[CV]  criterion=gini, max_depth=2.0, max_features=2, max_leaf_nodes=5, total=   0.0s\n",
      "[CV] criterion=gini, max_depth=2.0, max_features=2, max_leaf_nodes=5 .\n",
      "[CV]  criterion=gini, max_depth=2.0, max_features=2, max_leaf_nodes=5, total=   0.0s\n",
      "[CV] criterion=gini, max_depth=2.0, max_features=2, max_leaf_nodes=10 \n",
      "[CV]  criterion=gini, max_depth=2.0, max_features=2, max_leaf_nodes=10, total=   0.0s\n",
      "[CV] criterion=gini, max_depth=2.0, max_features=2, max_leaf_nodes=10 \n",
      "[CV]  criterion=gini, max_depth=2.0, max_features=2, max_leaf_nodes=10, total=   0.0s\n",
      "[CV] criterion=gini, max_depth=2.0, max_features=2, max_leaf_nodes=10 \n",
      "[CV]  criterion=gini, max_depth=2.0, max_features=2, max_leaf_nodes=10, total=   0.0s\n",
      "[CV] criterion=gini, max_depth=2.0, max_features=2, max_leaf_nodes=15 \n",
      "[CV]  criterion=gini, max_depth=2.0, max_features=2, max_leaf_nodes=15, total=   0.0s\n",
      "[CV] criterion=gini, max_depth=2.0, max_features=2, max_leaf_nodes=15 \n",
      "[CV]  criterion=gini, max_depth=2.0, max_features=2, max_leaf_nodes=15, total=   0.0s\n",
      "[CV] criterion=gini, max_depth=2.0, max_features=2, max_leaf_nodes=15 \n",
      "[CV]  criterion=gini, max_depth=2.0, max_features=2, max_leaf_nodes=15, total=   0.0s\n",
      "[CV] criterion=gini, max_depth=2.0, max_features=4, max_leaf_nodes=2 .\n",
      "[CV]  criterion=gini, max_depth=2.0, max_features=4, max_leaf_nodes=2, total=   0.0s\n",
      "[CV] criterion=gini, max_depth=2.0, max_features=4, max_leaf_nodes=2 .\n",
      "[CV]  criterion=gini, max_depth=2.0, max_features=4, max_leaf_nodes=2, total=   0.0s\n",
      "[CV] criterion=gini, max_depth=2.0, max_features=4, max_leaf_nodes=2 .\n",
      "[CV]  criterion=gini, max_depth=2.0, max_features=4, max_leaf_nodes=2, total=   0.0s\n",
      "[CV] criterion=gini, max_depth=2.0, max_features=4, max_leaf_nodes=5 .\n",
      "[CV]  criterion=gini, max_depth=2.0, max_features=4, max_leaf_nodes=5, total=   0.0s\n",
      "[CV] criterion=gini, max_depth=2.0, max_features=4, max_leaf_nodes=5 .\n",
      "[CV]  criterion=gini, max_depth=2.0, max_features=4, max_leaf_nodes=5, total=   0.0s\n",
      "[CV] criterion=gini, max_depth=2.0, max_features=4, max_leaf_nodes=5 .\n",
      "[CV]  criterion=gini, max_depth=2.0, max_features=4, max_leaf_nodes=5, total=   0.0s\n",
      "[CV] criterion=gini, max_depth=2.0, max_features=4, max_leaf_nodes=10 \n",
      "[CV]  criterion=gini, max_depth=2.0, max_features=4, max_leaf_nodes=10, total=   0.0s\n",
      "[CV] criterion=gini, max_depth=2.0, max_features=4, max_leaf_nodes=10 \n",
      "[CV]  criterion=gini, max_depth=2.0, max_features=4, max_leaf_nodes=10, total=   0.0s\n",
      "[CV] criterion=gini, max_depth=2.0, max_features=4, max_leaf_nodes=10 \n",
      "[CV]  criterion=gini, max_depth=2.0, max_features=4, max_leaf_nodes=10, total=   0.0s\n",
      "[CV] criterion=gini, max_depth=2.0, max_features=4, max_leaf_nodes=15 \n",
      "[CV]  criterion=gini, max_depth=2.0, max_features=4, max_leaf_nodes=15, total=   0.0s\n",
      "[CV] criterion=gini, max_depth=2.0, max_features=4, max_leaf_nodes=15 \n",
      "[CV]  criterion=gini, max_depth=2.0, max_features=4, max_leaf_nodes=15, total=   0.0s\n",
      "[CV] criterion=gini, max_depth=2.0, max_features=4, max_leaf_nodes=15 \n",
      "[CV]  criterion=gini, max_depth=2.0, max_features=4, max_leaf_nodes=15, total=   0.0s\n",
      "[CV] criterion=gini, max_depth=2.0, max_features=6, max_leaf_nodes=2 .\n",
      "[CV]  criterion=gini, max_depth=2.0, max_features=6, max_leaf_nodes=2, total=   0.0s\n",
      "[CV] criterion=gini, max_depth=2.0, max_features=6, max_leaf_nodes=2 .\n",
      "[CV]  criterion=gini, max_depth=2.0, max_features=6, max_leaf_nodes=2, total=   0.0s\n",
      "[CV] criterion=gini, max_depth=2.0, max_features=6, max_leaf_nodes=2 .\n",
      "[CV]  criterion=gini, max_depth=2.0, max_features=6, max_leaf_nodes=2, total=   0.0s\n",
      "[CV] criterion=gini, max_depth=2.0, max_features=6, max_leaf_nodes=5 .\n",
      "[CV]  criterion=gini, max_depth=2.0, max_features=6, max_leaf_nodes=5, total=   0.0s\n",
      "[CV] criterion=gini, max_depth=2.0, max_features=6, max_leaf_nodes=5 .\n",
      "[CV]  criterion=gini, max_depth=2.0, max_features=6, max_leaf_nodes=5, total=   0.0s\n",
      "[CV] criterion=gini, max_depth=2.0, max_features=6, max_leaf_nodes=5 .\n",
      "[CV]  criterion=gini, max_depth=2.0, max_features=6, max_leaf_nodes=5, total=   0.0s\n",
      "[CV] criterion=gini, max_depth=2.0, max_features=6, max_leaf_nodes=10 \n",
      "[CV]  criterion=gini, max_depth=2.0, max_features=6, max_leaf_nodes=10, total=   0.0s\n",
      "[CV] criterion=gini, max_depth=2.0, max_features=6, max_leaf_nodes=10 \n",
      "[CV]  criterion=gini, max_depth=2.0, max_features=6, max_leaf_nodes=10, total=   0.0s\n",
      "[CV] criterion=gini, max_depth=2.0, max_features=6, max_leaf_nodes=10 \n",
      "[CV]  criterion=gini, max_depth=2.0, max_features=6, max_leaf_nodes=10, total=   0.0s\n",
      "[CV] criterion=gini, max_depth=2.0, max_features=6, max_leaf_nodes=15 \n",
      "[CV]  criterion=gini, max_depth=2.0, max_features=6, max_leaf_nodes=15, total=   0.0s\n",
      "[CV] criterion=gini, max_depth=2.0, max_features=6, max_leaf_nodes=15 \n",
      "[CV]  criterion=gini, max_depth=2.0, max_features=6, max_leaf_nodes=15, total=   0.0s\n",
      "[CV] criterion=gini, max_depth=2.0, max_features=6, max_leaf_nodes=15 \n",
      "[CV]  criterion=gini, max_depth=2.0, max_features=6, max_leaf_nodes=15, total=   0.0s\n",
      "[CV] criterion=gini, max_depth=2.0, max_features=8, max_leaf_nodes=2 .\n",
      "[CV]  criterion=gini, max_depth=2.0, max_features=8, max_leaf_nodes=2, total=   0.0s\n",
      "[CV] criterion=gini, max_depth=2.0, max_features=8, max_leaf_nodes=2 .\n",
      "[CV]  criterion=gini, max_depth=2.0, max_features=8, max_leaf_nodes=2, total=   0.0s\n",
      "[CV] criterion=gini, max_depth=2.0, max_features=8, max_leaf_nodes=2 .\n",
      "[CV]  criterion=gini, max_depth=2.0, max_features=8, max_leaf_nodes=2, total=   0.0s\n",
      "[CV] criterion=gini, max_depth=2.0, max_features=8, max_leaf_nodes=5 .\n",
      "[CV]  criterion=gini, max_depth=2.0, max_features=8, max_leaf_nodes=5, total=   0.0s\n",
      "[CV] criterion=gini, max_depth=2.0, max_features=8, max_leaf_nodes=5 .\n",
      "[CV]  criterion=gini, max_depth=2.0, max_features=8, max_leaf_nodes=5, total=   0.0s\n",
      "[CV] criterion=gini, max_depth=2.0, max_features=8, max_leaf_nodes=5 .\n",
      "[CV]  criterion=gini, max_depth=2.0, max_features=8, max_leaf_nodes=5, total=   0.0s\n",
      "[CV] criterion=gini, max_depth=2.0, max_features=8, max_leaf_nodes=10 \n",
      "[CV]  criterion=gini, max_depth=2.0, max_features=8, max_leaf_nodes=10, total=   0.0s\n",
      "[CV] criterion=gini, max_depth=2.0, max_features=8, max_leaf_nodes=10 \n",
      "[CV]  criterion=gini, max_depth=2.0, max_features=8, max_leaf_nodes=10, total=   0.0s\n",
      "[CV] criterion=gini, max_depth=2.0, max_features=8, max_leaf_nodes=10 \n",
      "[CV]  criterion=gini, max_depth=2.0, max_features=8, max_leaf_nodes=10, total=   0.0s\n",
      "[CV] criterion=gini, max_depth=2.0, max_features=8, max_leaf_nodes=15 \n",
      "[CV]  criterion=gini, max_depth=2.0, max_features=8, max_leaf_nodes=15, total=   0.0s\n",
      "[CV] criterion=gini, max_depth=2.0, max_features=8, max_leaf_nodes=15 \n",
      "[CV]  criterion=gini, max_depth=2.0, max_features=8, max_leaf_nodes=15, total=   0.0s\n",
      "[CV] criterion=gini, max_depth=2.0, max_features=8, max_leaf_nodes=15 \n",
      "[CV]  criterion=gini, max_depth=2.0, max_features=8, max_leaf_nodes=15, total=   0.0s\n",
      "[CV] criterion=gini, max_depth=2.0, max_features=11, max_leaf_nodes=2 \n",
      "[CV]  criterion=gini, max_depth=2.0, max_features=11, max_leaf_nodes=2, total=   0.0s\n",
      "[CV] criterion=gini, max_depth=2.0, max_features=11, max_leaf_nodes=2 \n",
      "[CV]  criterion=gini, max_depth=2.0, max_features=11, max_leaf_nodes=2, total=   0.0s\n",
      "[CV] criterion=gini, max_depth=2.0, max_features=11, max_leaf_nodes=2 \n",
      "[CV]  criterion=gini, max_depth=2.0, max_features=11, max_leaf_nodes=2, total=   0.0s\n",
      "[CV] criterion=gini, max_depth=2.0, max_features=11, max_leaf_nodes=5 \n",
      "[CV]  criterion=gini, max_depth=2.0, max_features=11, max_leaf_nodes=5, total=   0.0s\n",
      "[CV] criterion=gini, max_depth=2.0, max_features=11, max_leaf_nodes=5 \n",
      "[CV]  criterion=gini, max_depth=2.0, max_features=11, max_leaf_nodes=5, total=   0.0s\n",
      "[CV] criterion=gini, max_depth=2.0, max_features=11, max_leaf_nodes=5 \n",
      "[CV]  criterion=gini, max_depth=2.0, max_features=11, max_leaf_nodes=5, total=   0.0s\n",
      "[CV] criterion=gini, max_depth=2.0, max_features=11, max_leaf_nodes=10 \n",
      "[CV]  criterion=gini, max_depth=2.0, max_features=11, max_leaf_nodes=10, total=   0.0s\n",
      "[CV] criterion=gini, max_depth=2.0, max_features=11, max_leaf_nodes=10 \n",
      "[CV]  criterion=gini, max_depth=2.0, max_features=11, max_leaf_nodes=10, total=   0.0s\n",
      "[CV] criterion=gini, max_depth=2.0, max_features=11, max_leaf_nodes=10 \n",
      "[CV]  criterion=gini, max_depth=2.0, max_features=11, max_leaf_nodes=10, total=   0.0s\n",
      "[CV] criterion=gini, max_depth=2.0, max_features=11, max_leaf_nodes=15 \n",
      "[CV]  criterion=gini, max_depth=2.0, max_features=11, max_leaf_nodes=15, total=   0.0s\n",
      "[CV] criterion=gini, max_depth=2.0, max_features=11, max_leaf_nodes=15 \n",
      "[CV]  criterion=gini, max_depth=2.0, max_features=11, max_leaf_nodes=15, total=   0.0s\n",
      "[CV] criterion=gini, max_depth=2.0, max_features=11, max_leaf_nodes=15 \n",
      "[CV]  criterion=gini, max_depth=2.0, max_features=11, max_leaf_nodes=15, total=   0.0s\n",
      "[CV] criterion=gini, max_depth=3.0, max_features=2, max_leaf_nodes=2 .\n",
      "[CV]  criterion=gini, max_depth=3.0, max_features=2, max_leaf_nodes=2, total=   0.0s\n",
      "[CV] criterion=gini, max_depth=3.0, max_features=2, max_leaf_nodes=2 .\n",
      "[CV]  criterion=gini, max_depth=3.0, max_features=2, max_leaf_nodes=2, total=   0.0s\n",
      "[CV] criterion=gini, max_depth=3.0, max_features=2, max_leaf_nodes=2 .\n",
      "[CV]  criterion=gini, max_depth=3.0, max_features=2, max_leaf_nodes=2, total=   0.0s\n",
      "[CV] criterion=gini, max_depth=3.0, max_features=2, max_leaf_nodes=5 .\n",
      "[CV]  criterion=gini, max_depth=3.0, max_features=2, max_leaf_nodes=5, total=   0.0s\n",
      "[CV] criterion=gini, max_depth=3.0, max_features=2, max_leaf_nodes=5 .\n",
      "[CV]  criterion=gini, max_depth=3.0, max_features=2, max_leaf_nodes=5, total=   0.0s\n",
      "[CV] criterion=gini, max_depth=3.0, max_features=2, max_leaf_nodes=5 .\n",
      "[CV]  criterion=gini, max_depth=3.0, max_features=2, max_leaf_nodes=5, total=   0.0s\n",
      "[CV] criterion=gini, max_depth=3.0, max_features=2, max_leaf_nodes=10 \n",
      "[CV]  criterion=gini, max_depth=3.0, max_features=2, max_leaf_nodes=10, total=   0.0s\n",
      "[CV] criterion=gini, max_depth=3.0, max_features=2, max_leaf_nodes=10 \n",
      "[CV]  criterion=gini, max_depth=3.0, max_features=2, max_leaf_nodes=10, total=   0.0s\n",
      "[CV] criterion=gini, max_depth=3.0, max_features=2, max_leaf_nodes=10 \n",
      "[CV]  criterion=gini, max_depth=3.0, max_features=2, max_leaf_nodes=10, total=   0.0s\n",
      "[CV] criterion=gini, max_depth=3.0, max_features=2, max_leaf_nodes=15 \n",
      "[CV]  criterion=gini, max_depth=3.0, max_features=2, max_leaf_nodes=15, total=   0.0s\n",
      "[CV] criterion=gini, max_depth=3.0, max_features=2, max_leaf_nodes=15 \n",
      "[CV]  criterion=gini, max_depth=3.0, max_features=2, max_leaf_nodes=15, total=   0.0s\n",
      "[CV] criterion=gini, max_depth=3.0, max_features=2, max_leaf_nodes=15 \n",
      "[CV]  criterion=gini, max_depth=3.0, max_features=2, max_leaf_nodes=15, total=   0.0s\n",
      "[CV] criterion=gini, max_depth=3.0, max_features=4, max_leaf_nodes=2 .\n",
      "[CV]  criterion=gini, max_depth=3.0, max_features=4, max_leaf_nodes=2, total=   0.0s\n",
      "[CV] criterion=gini, max_depth=3.0, max_features=4, max_leaf_nodes=2 .\n",
      "[CV]  criterion=gini, max_depth=3.0, max_features=4, max_leaf_nodes=2, total=   0.0s\n",
      "[CV] criterion=gini, max_depth=3.0, max_features=4, max_leaf_nodes=2 .\n",
      "[CV]  criterion=gini, max_depth=3.0, max_features=4, max_leaf_nodes=2, total=   0.0s\n",
      "[CV] criterion=gini, max_depth=3.0, max_features=4, max_leaf_nodes=5 .\n",
      "[CV]  criterion=gini, max_depth=3.0, max_features=4, max_leaf_nodes=5, total=   0.0s\n",
      "[CV] criterion=gini, max_depth=3.0, max_features=4, max_leaf_nodes=5 .\n",
      "[CV]  criterion=gini, max_depth=3.0, max_features=4, max_leaf_nodes=5, total=   0.0s\n",
      "[CV] criterion=gini, max_depth=3.0, max_features=4, max_leaf_nodes=5 .\n",
      "[CV]  criterion=gini, max_depth=3.0, max_features=4, max_leaf_nodes=5, total=   0.0s\n",
      "[CV] criterion=gini, max_depth=3.0, max_features=4, max_leaf_nodes=10 \n",
      "[CV]  criterion=gini, max_depth=3.0, max_features=4, max_leaf_nodes=10, total=   0.0s\n",
      "[CV] criterion=gini, max_depth=3.0, max_features=4, max_leaf_nodes=10 \n",
      "[CV]  criterion=gini, max_depth=3.0, max_features=4, max_leaf_nodes=10, total=   0.0s\n",
      "[CV] criterion=gini, max_depth=3.0, max_features=4, max_leaf_nodes=10 \n",
      "[CV]  criterion=gini, max_depth=3.0, max_features=4, max_leaf_nodes=10, total=   0.0s\n",
      "[CV] criterion=gini, max_depth=3.0, max_features=4, max_leaf_nodes=15 \n",
      "[CV]  criterion=gini, max_depth=3.0, max_features=4, max_leaf_nodes=15, total=   0.0s\n",
      "[CV] criterion=gini, max_depth=3.0, max_features=4, max_leaf_nodes=15 \n",
      "[CV]  criterion=gini, max_depth=3.0, max_features=4, max_leaf_nodes=15, total=   0.0s\n",
      "[CV] criterion=gini, max_depth=3.0, max_features=4, max_leaf_nodes=15 \n",
      "[CV]  criterion=gini, max_depth=3.0, max_features=4, max_leaf_nodes=15, total=   0.0s\n",
      "[CV] criterion=gini, max_depth=3.0, max_features=6, max_leaf_nodes=2 .\n",
      "[CV]  criterion=gini, max_depth=3.0, max_features=6, max_leaf_nodes=2, total=   0.0s\n",
      "[CV] criterion=gini, max_depth=3.0, max_features=6, max_leaf_nodes=2 .\n",
      "[CV]  criterion=gini, max_depth=3.0, max_features=6, max_leaf_nodes=2, total=   0.0s\n",
      "[CV] criterion=gini, max_depth=3.0, max_features=6, max_leaf_nodes=2 .\n",
      "[CV]  criterion=gini, max_depth=3.0, max_features=6, max_leaf_nodes=2, total=   0.0s\n",
      "[CV] criterion=gini, max_depth=3.0, max_features=6, max_leaf_nodes=5 .\n",
      "[CV]  criterion=gini, max_depth=3.0, max_features=6, max_leaf_nodes=5, total=   0.0s\n",
      "[CV] criterion=gini, max_depth=3.0, max_features=6, max_leaf_nodes=5 .\n",
      "[CV]  criterion=gini, max_depth=3.0, max_features=6, max_leaf_nodes=5, total=   0.0s\n",
      "[CV] criterion=gini, max_depth=3.0, max_features=6, max_leaf_nodes=5 .\n",
      "[CV]  criterion=gini, max_depth=3.0, max_features=6, max_leaf_nodes=5, total=   0.0s\n",
      "[CV] criterion=gini, max_depth=3.0, max_features=6, max_leaf_nodes=10 \n",
      "[CV]  criterion=gini, max_depth=3.0, max_features=6, max_leaf_nodes=10, total=   0.0s\n",
      "[CV] criterion=gini, max_depth=3.0, max_features=6, max_leaf_nodes=10 \n",
      "[CV]  criterion=gini, max_depth=3.0, max_features=6, max_leaf_nodes=10, total=   0.0s\n",
      "[CV] criterion=gini, max_depth=3.0, max_features=6, max_leaf_nodes=10 \n",
      "[CV]  criterion=gini, max_depth=3.0, max_features=6, max_leaf_nodes=10, total=   0.0s\n",
      "[CV] criterion=gini, max_depth=3.0, max_features=6, max_leaf_nodes=15 \n",
      "[CV]  criterion=gini, max_depth=3.0, max_features=6, max_leaf_nodes=15, total=   0.0s\n",
      "[CV] criterion=gini, max_depth=3.0, max_features=6, max_leaf_nodes=15 \n",
      "[CV]  criterion=gini, max_depth=3.0, max_features=6, max_leaf_nodes=15, total=   0.0s\n",
      "[CV] criterion=gini, max_depth=3.0, max_features=6, max_leaf_nodes=15 \n",
      "[CV]  criterion=gini, max_depth=3.0, max_features=6, max_leaf_nodes=15, total=   0.0s\n",
      "[CV] criterion=gini, max_depth=3.0, max_features=8, max_leaf_nodes=2 .\n",
      "[CV]  criterion=gini, max_depth=3.0, max_features=8, max_leaf_nodes=2, total=   0.0s\n",
      "[CV] criterion=gini, max_depth=3.0, max_features=8, max_leaf_nodes=2 .\n",
      "[CV]  criterion=gini, max_depth=3.0, max_features=8, max_leaf_nodes=2, total=   0.0s\n",
      "[CV] criterion=gini, max_depth=3.0, max_features=8, max_leaf_nodes=2 .\n",
      "[CV]  criterion=gini, max_depth=3.0, max_features=8, max_leaf_nodes=2, total=   0.0s\n",
      "[CV] criterion=gini, max_depth=3.0, max_features=8, max_leaf_nodes=5 .\n",
      "[CV]  criterion=gini, max_depth=3.0, max_features=8, max_leaf_nodes=5, total=   0.0s\n",
      "[CV] criterion=gini, max_depth=3.0, max_features=8, max_leaf_nodes=5 .\n",
      "[CV]  criterion=gini, max_depth=3.0, max_features=8, max_leaf_nodes=5, total=   0.0s\n",
      "[CV] criterion=gini, max_depth=3.0, max_features=8, max_leaf_nodes=5 .\n",
      "[CV]  criterion=gini, max_depth=3.0, max_features=8, max_leaf_nodes=5, total=   0.0s\n",
      "[CV] criterion=gini, max_depth=3.0, max_features=8, max_leaf_nodes=10 \n",
      "[CV]  criterion=gini, max_depth=3.0, max_features=8, max_leaf_nodes=10, total=   0.0s\n",
      "[CV] criterion=gini, max_depth=3.0, max_features=8, max_leaf_nodes=10 \n",
      "[CV]  criterion=gini, max_depth=3.0, max_features=8, max_leaf_nodes=10, total=   0.0s\n",
      "[CV] criterion=gini, max_depth=3.0, max_features=8, max_leaf_nodes=10 \n",
      "[CV]  criterion=gini, max_depth=3.0, max_features=8, max_leaf_nodes=10, total=   0.0s\n",
      "[CV] criterion=gini, max_depth=3.0, max_features=8, max_leaf_nodes=15 \n",
      "[CV]  criterion=gini, max_depth=3.0, max_features=8, max_leaf_nodes=15, total=   0.0s\n",
      "[CV] criterion=gini, max_depth=3.0, max_features=8, max_leaf_nodes=15 \n",
      "[CV]  criterion=gini, max_depth=3.0, max_features=8, max_leaf_nodes=15, total=   0.0s\n",
      "[CV] criterion=gini, max_depth=3.0, max_features=8, max_leaf_nodes=15 \n",
      "[CV]  criterion=gini, max_depth=3.0, max_features=8, max_leaf_nodes=15, total=   0.0s\n",
      "[CV] criterion=gini, max_depth=3.0, max_features=11, max_leaf_nodes=2 \n",
      "[CV]  criterion=gini, max_depth=3.0, max_features=11, max_leaf_nodes=2, total=   0.0s\n",
      "[CV] criterion=gini, max_depth=3.0, max_features=11, max_leaf_nodes=2 \n",
      "[CV]  criterion=gini, max_depth=3.0, max_features=11, max_leaf_nodes=2, total=   0.0s\n",
      "[CV] criterion=gini, max_depth=3.0, max_features=11, max_leaf_nodes=2 \n",
      "[CV]  criterion=gini, max_depth=3.0, max_features=11, max_leaf_nodes=2, total=   0.0s\n",
      "[CV] criterion=gini, max_depth=3.0, max_features=11, max_leaf_nodes=5 \n",
      "[CV]  criterion=gini, max_depth=3.0, max_features=11, max_leaf_nodes=5, total=   0.0s\n",
      "[CV] criterion=gini, max_depth=3.0, max_features=11, max_leaf_nodes=5 \n",
      "[CV]  criterion=gini, max_depth=3.0, max_features=11, max_leaf_nodes=5, total=   0.0s\n",
      "[CV] criterion=gini, max_depth=3.0, max_features=11, max_leaf_nodes=5 \n",
      "[CV]  criterion=gini, max_depth=3.0, max_features=11, max_leaf_nodes=5, total=   0.0s\n",
      "[CV] criterion=gini, max_depth=3.0, max_features=11, max_leaf_nodes=10 \n",
      "[CV]  criterion=gini, max_depth=3.0, max_features=11, max_leaf_nodes=10, total=   0.0s\n",
      "[CV] criterion=gini, max_depth=3.0, max_features=11, max_leaf_nodes=10 \n",
      "[CV]  criterion=gini, max_depth=3.0, max_features=11, max_leaf_nodes=10, total=   0.0s\n",
      "[CV] criterion=gini, max_depth=3.0, max_features=11, max_leaf_nodes=10 \n",
      "[CV]  criterion=gini, max_depth=3.0, max_features=11, max_leaf_nodes=10, total=   0.0s\n",
      "[CV] criterion=gini, max_depth=3.0, max_features=11, max_leaf_nodes=15 \n",
      "[CV]  criterion=gini, max_depth=3.0, max_features=11, max_leaf_nodes=15, total=   0.0s\n",
      "[CV] criterion=gini, max_depth=3.0, max_features=11, max_leaf_nodes=15 \n",
      "[CV]  criterion=gini, max_depth=3.0, max_features=11, max_leaf_nodes=15, total=   0.0s\n",
      "[CV] criterion=gini, max_depth=3.0, max_features=11, max_leaf_nodes=15 \n",
      "[CV]  criterion=gini, max_depth=3.0, max_features=11, max_leaf_nodes=15, total=   0.0s\n",
      "[CV] criterion=gini, max_depth=4.0, max_features=2, max_leaf_nodes=2 .\n",
      "[CV]  criterion=gini, max_depth=4.0, max_features=2, max_leaf_nodes=2, total=   0.0s\n",
      "[CV] criterion=gini, max_depth=4.0, max_features=2, max_leaf_nodes=2 .\n",
      "[CV]  criterion=gini, max_depth=4.0, max_features=2, max_leaf_nodes=2, total=   0.0s\n",
      "[CV] criterion=gini, max_depth=4.0, max_features=2, max_leaf_nodes=2 .\n",
      "[CV]  criterion=gini, max_depth=4.0, max_features=2, max_leaf_nodes=2, total=   0.0s\n",
      "[CV] criterion=gini, max_depth=4.0, max_features=2, max_leaf_nodes=5 .\n",
      "[CV]  criterion=gini, max_depth=4.0, max_features=2, max_leaf_nodes=5, total=   0.0s\n",
      "[CV] criterion=gini, max_depth=4.0, max_features=2, max_leaf_nodes=5 .\n",
      "[CV]  criterion=gini, max_depth=4.0, max_features=2, max_leaf_nodes=5, total=   0.0s\n",
      "[CV] criterion=gini, max_depth=4.0, max_features=2, max_leaf_nodes=5 .\n",
      "[CV]  criterion=gini, max_depth=4.0, max_features=2, max_leaf_nodes=5, total=   0.0s\n",
      "[CV] criterion=gini, max_depth=4.0, max_features=2, max_leaf_nodes=10 \n",
      "[CV]  criterion=gini, max_depth=4.0, max_features=2, max_leaf_nodes=10, total=   0.0s\n",
      "[CV] criterion=gini, max_depth=4.0, max_features=2, max_leaf_nodes=10 \n",
      "[CV]  criterion=gini, max_depth=4.0, max_features=2, max_leaf_nodes=10, total=   0.0s\n",
      "[CV] criterion=gini, max_depth=4.0, max_features=2, max_leaf_nodes=10 \n",
      "[CV]  criterion=gini, max_depth=4.0, max_features=2, max_leaf_nodes=10, total=   0.0s\n",
      "[CV] criterion=gini, max_depth=4.0, max_features=2, max_leaf_nodes=15 \n",
      "[CV]  criterion=gini, max_depth=4.0, max_features=2, max_leaf_nodes=15, total=   0.0s\n",
      "[CV] criterion=gini, max_depth=4.0, max_features=2, max_leaf_nodes=15 \n",
      "[CV]  criterion=gini, max_depth=4.0, max_features=2, max_leaf_nodes=15, total=   0.0s\n",
      "[CV] criterion=gini, max_depth=4.0, max_features=2, max_leaf_nodes=15 \n",
      "[CV]  criterion=gini, max_depth=4.0, max_features=2, max_leaf_nodes=15, total=   0.0s\n",
      "[CV] criterion=gini, max_depth=4.0, max_features=4, max_leaf_nodes=2 .\n",
      "[CV]  criterion=gini, max_depth=4.0, max_features=4, max_leaf_nodes=2, total=   0.0s\n",
      "[CV] criterion=gini, max_depth=4.0, max_features=4, max_leaf_nodes=2 .\n",
      "[CV]  criterion=gini, max_depth=4.0, max_features=4, max_leaf_nodes=2, total=   0.0s\n",
      "[CV] criterion=gini, max_depth=4.0, max_features=4, max_leaf_nodes=2 .\n",
      "[CV]  criterion=gini, max_depth=4.0, max_features=4, max_leaf_nodes=2, total=   0.0s\n",
      "[CV] criterion=gini, max_depth=4.0, max_features=4, max_leaf_nodes=5 .\n",
      "[CV]  criterion=gini, max_depth=4.0, max_features=4, max_leaf_nodes=5, total=   0.0s\n",
      "[CV] criterion=gini, max_depth=4.0, max_features=4, max_leaf_nodes=5 .\n",
      "[CV]  criterion=gini, max_depth=4.0, max_features=4, max_leaf_nodes=5, total=   0.0s\n",
      "[CV] criterion=gini, max_depth=4.0, max_features=4, max_leaf_nodes=5 .\n",
      "[CV]  criterion=gini, max_depth=4.0, max_features=4, max_leaf_nodes=5, total=   0.0s\n",
      "[CV] criterion=gini, max_depth=4.0, max_features=4, max_leaf_nodes=10 \n",
      "[CV]  criterion=gini, max_depth=4.0, max_features=4, max_leaf_nodes=10, total=   0.0s\n",
      "[CV] criterion=gini, max_depth=4.0, max_features=4, max_leaf_nodes=10 \n",
      "[CV]  criterion=gini, max_depth=4.0, max_features=4, max_leaf_nodes=10, total=   0.0s\n",
      "[CV] criterion=gini, max_depth=4.0, max_features=4, max_leaf_nodes=10 \n",
      "[CV]  criterion=gini, max_depth=4.0, max_features=4, max_leaf_nodes=10, total=   0.0s\n",
      "[CV] criterion=gini, max_depth=4.0, max_features=4, max_leaf_nodes=15 \n",
      "[CV]  criterion=gini, max_depth=4.0, max_features=4, max_leaf_nodes=15, total=   0.0s\n",
      "[CV] criterion=gini, max_depth=4.0, max_features=4, max_leaf_nodes=15 \n",
      "[CV]  criterion=gini, max_depth=4.0, max_features=4, max_leaf_nodes=15, total=   0.0s\n",
      "[CV] criterion=gini, max_depth=4.0, max_features=4, max_leaf_nodes=15 \n",
      "[CV]  criterion=gini, max_depth=4.0, max_features=4, max_leaf_nodes=15, total=   0.0s\n",
      "[CV] criterion=gini, max_depth=4.0, max_features=6, max_leaf_nodes=2 .\n",
      "[CV]  criterion=gini, max_depth=4.0, max_features=6, max_leaf_nodes=2, total=   0.0s\n",
      "[CV] criterion=gini, max_depth=4.0, max_features=6, max_leaf_nodes=2 .\n",
      "[CV]  criterion=gini, max_depth=4.0, max_features=6, max_leaf_nodes=2, total=   0.0s\n",
      "[CV] criterion=gini, max_depth=4.0, max_features=6, max_leaf_nodes=2 .\n",
      "[CV]  criterion=gini, max_depth=4.0, max_features=6, max_leaf_nodes=2, total=   0.0s\n",
      "[CV] criterion=gini, max_depth=4.0, max_features=6, max_leaf_nodes=5 .\n",
      "[CV]  criterion=gini, max_depth=4.0, max_features=6, max_leaf_nodes=5, total=   0.0s\n",
      "[CV] criterion=gini, max_depth=4.0, max_features=6, max_leaf_nodes=5 .\n",
      "[CV]  criterion=gini, max_depth=4.0, max_features=6, max_leaf_nodes=5, total=   0.0s\n",
      "[CV] criterion=gini, max_depth=4.0, max_features=6, max_leaf_nodes=5 .\n",
      "[CV]  criterion=gini, max_depth=4.0, max_features=6, max_leaf_nodes=5, total=   0.0s\n",
      "[CV] criterion=gini, max_depth=4.0, max_features=6, max_leaf_nodes=10 \n",
      "[CV]  criterion=gini, max_depth=4.0, max_features=6, max_leaf_nodes=10, total=   0.0s\n",
      "[CV] criterion=gini, max_depth=4.0, max_features=6, max_leaf_nodes=10 \n",
      "[CV]  criterion=gini, max_depth=4.0, max_features=6, max_leaf_nodes=10, total=   0.0s\n",
      "[CV] criterion=gini, max_depth=4.0, max_features=6, max_leaf_nodes=10 \n",
      "[CV]  criterion=gini, max_depth=4.0, max_features=6, max_leaf_nodes=10, total=   0.0s\n",
      "[CV] criterion=gini, max_depth=4.0, max_features=6, max_leaf_nodes=15 \n",
      "[CV]  criterion=gini, max_depth=4.0, max_features=6, max_leaf_nodes=15, total=   0.0s\n",
      "[CV] criterion=gini, max_depth=4.0, max_features=6, max_leaf_nodes=15 \n",
      "[CV]  criterion=gini, max_depth=4.0, max_features=6, max_leaf_nodes=15, total=   0.0s\n",
      "[CV] criterion=gini, max_depth=4.0, max_features=6, max_leaf_nodes=15 \n",
      "[CV]  criterion=gini, max_depth=4.0, max_features=6, max_leaf_nodes=15, total=   0.0s\n",
      "[CV] criterion=gini, max_depth=4.0, max_features=8, max_leaf_nodes=2 .\n",
      "[CV]  criterion=gini, max_depth=4.0, max_features=8, max_leaf_nodes=2, total=   0.0s\n",
      "[CV] criterion=gini, max_depth=4.0, max_features=8, max_leaf_nodes=2 .\n",
      "[CV]  criterion=gini, max_depth=4.0, max_features=8, max_leaf_nodes=2, total=   0.0s\n",
      "[CV] criterion=gini, max_depth=4.0, max_features=8, max_leaf_nodes=2 .\n",
      "[CV]  criterion=gini, max_depth=4.0, max_features=8, max_leaf_nodes=2, total=   0.0s\n",
      "[CV] criterion=gini, max_depth=4.0, max_features=8, max_leaf_nodes=5 .\n",
      "[CV]  criterion=gini, max_depth=4.0, max_features=8, max_leaf_nodes=5, total=   0.0s\n",
      "[CV] criterion=gini, max_depth=4.0, max_features=8, max_leaf_nodes=5 .\n",
      "[CV]  criterion=gini, max_depth=4.0, max_features=8, max_leaf_nodes=5, total=   0.0s\n",
      "[CV] criterion=gini, max_depth=4.0, max_features=8, max_leaf_nodes=5 .\n",
      "[CV]  criterion=gini, max_depth=4.0, max_features=8, max_leaf_nodes=5, total=   0.0s\n",
      "[CV] criterion=gini, max_depth=4.0, max_features=8, max_leaf_nodes=10 \n",
      "[CV]  criterion=gini, max_depth=4.0, max_features=8, max_leaf_nodes=10, total=   0.0s\n",
      "[CV] criterion=gini, max_depth=4.0, max_features=8, max_leaf_nodes=10 \n",
      "[CV]  criterion=gini, max_depth=4.0, max_features=8, max_leaf_nodes=10, total=   0.0s\n",
      "[CV] criterion=gini, max_depth=4.0, max_features=8, max_leaf_nodes=10 \n",
      "[CV]  criterion=gini, max_depth=4.0, max_features=8, max_leaf_nodes=10, total=   0.0s\n",
      "[CV] criterion=gini, max_depth=4.0, max_features=8, max_leaf_nodes=15 \n",
      "[CV]  criterion=gini, max_depth=4.0, max_features=8, max_leaf_nodes=15, total=   0.0s\n",
      "[CV] criterion=gini, max_depth=4.0, max_features=8, max_leaf_nodes=15 \n",
      "[CV]  criterion=gini, max_depth=4.0, max_features=8, max_leaf_nodes=15, total=   0.0s\n",
      "[CV] criterion=gini, max_depth=4.0, max_features=8, max_leaf_nodes=15 \n",
      "[CV]  criterion=gini, max_depth=4.0, max_features=8, max_leaf_nodes=15, total=   0.0s\n",
      "[CV] criterion=gini, max_depth=4.0, max_features=11, max_leaf_nodes=2 \n",
      "[CV]  criterion=gini, max_depth=4.0, max_features=11, max_leaf_nodes=2, total=   0.0s\n",
      "[CV] criterion=gini, max_depth=4.0, max_features=11, max_leaf_nodes=2 \n",
      "[CV]  criterion=gini, max_depth=4.0, max_features=11, max_leaf_nodes=2, total=   0.0s\n",
      "[CV] criterion=gini, max_depth=4.0, max_features=11, max_leaf_nodes=2 \n",
      "[CV]  criterion=gini, max_depth=4.0, max_features=11, max_leaf_nodes=2, total=   0.0s\n",
      "[CV] criterion=gini, max_depth=4.0, max_features=11, max_leaf_nodes=5 \n",
      "[CV]  criterion=gini, max_depth=4.0, max_features=11, max_leaf_nodes=5, total=   0.0s\n",
      "[CV] criterion=gini, max_depth=4.0, max_features=11, max_leaf_nodes=5 \n",
      "[CV]  criterion=gini, max_depth=4.0, max_features=11, max_leaf_nodes=5, total=   0.0s\n",
      "[CV] criterion=gini, max_depth=4.0, max_features=11, max_leaf_nodes=5 \n",
      "[CV]  criterion=gini, max_depth=4.0, max_features=11, max_leaf_nodes=5, total=   0.0s\n",
      "[CV] criterion=gini, max_depth=4.0, max_features=11, max_leaf_nodes=10 \n",
      "[CV]  criterion=gini, max_depth=4.0, max_features=11, max_leaf_nodes=10, total=   0.0s\n",
      "[CV] criterion=gini, max_depth=4.0, max_features=11, max_leaf_nodes=10 \n",
      "[CV]  criterion=gini, max_depth=4.0, max_features=11, max_leaf_nodes=10, total=   0.0s\n",
      "[CV] criterion=gini, max_depth=4.0, max_features=11, max_leaf_nodes=10 \n",
      "[CV]  criterion=gini, max_depth=4.0, max_features=11, max_leaf_nodes=10, total=   0.0s\n",
      "[CV] criterion=gini, max_depth=4.0, max_features=11, max_leaf_nodes=15 \n",
      "[CV]  criterion=gini, max_depth=4.0, max_features=11, max_leaf_nodes=15, total=   0.0s\n",
      "[CV] criterion=gini, max_depth=4.0, max_features=11, max_leaf_nodes=15 \n",
      "[CV]  criterion=gini, max_depth=4.0, max_features=11, max_leaf_nodes=15, total=   0.0s\n",
      "[CV] criterion=gini, max_depth=4.0, max_features=11, max_leaf_nodes=15 \n",
      "[CV]  criterion=gini, max_depth=4.0, max_features=11, max_leaf_nodes=15, total=   0.0s\n",
      "[CV] criterion=gini, max_depth=5.0, max_features=2, max_leaf_nodes=2 .\n",
      "[CV]  criterion=gini, max_depth=5.0, max_features=2, max_leaf_nodes=2, total=   0.0s\n",
      "[CV] criterion=gini, max_depth=5.0, max_features=2, max_leaf_nodes=2 .\n",
      "[CV]  criterion=gini, max_depth=5.0, max_features=2, max_leaf_nodes=2, total=   0.0s\n",
      "[CV] criterion=gini, max_depth=5.0, max_features=2, max_leaf_nodes=2 .\n",
      "[CV]  criterion=gini, max_depth=5.0, max_features=2, max_leaf_nodes=2, total=   0.0s\n",
      "[CV] criterion=gini, max_depth=5.0, max_features=2, max_leaf_nodes=5 .\n",
      "[CV]  criterion=gini, max_depth=5.0, max_features=2, max_leaf_nodes=5, total=   0.0s\n",
      "[CV] criterion=gini, max_depth=5.0, max_features=2, max_leaf_nodes=5 .\n",
      "[CV]  criterion=gini, max_depth=5.0, max_features=2, max_leaf_nodes=5, total=   0.0s\n",
      "[CV] criterion=gini, max_depth=5.0, max_features=2, max_leaf_nodes=5 .\n",
      "[CV]  criterion=gini, max_depth=5.0, max_features=2, max_leaf_nodes=5, total=   0.0s\n",
      "[CV] criterion=gini, max_depth=5.0, max_features=2, max_leaf_nodes=10 \n",
      "[CV]  criterion=gini, max_depth=5.0, max_features=2, max_leaf_nodes=10, total=   0.0s\n",
      "[CV] criterion=gini, max_depth=5.0, max_features=2, max_leaf_nodes=10 \n",
      "[CV]  criterion=gini, max_depth=5.0, max_features=2, max_leaf_nodes=10, total=   0.0s\n",
      "[CV] criterion=gini, max_depth=5.0, max_features=2, max_leaf_nodes=10 \n",
      "[CV]  criterion=gini, max_depth=5.0, max_features=2, max_leaf_nodes=10, total=   0.0s\n",
      "[CV] criterion=gini, max_depth=5.0, max_features=2, max_leaf_nodes=15 \n",
      "[CV]  criterion=gini, max_depth=5.0, max_features=2, max_leaf_nodes=15, total=   0.0s\n",
      "[CV] criterion=gini, max_depth=5.0, max_features=2, max_leaf_nodes=15 \n",
      "[CV]  criterion=gini, max_depth=5.0, max_features=2, max_leaf_nodes=15, total=   0.0s\n",
      "[CV] criterion=gini, max_depth=5.0, max_features=2, max_leaf_nodes=15 \n",
      "[CV]  criterion=gini, max_depth=5.0, max_features=2, max_leaf_nodes=15, total=   0.0s\n",
      "[CV] criterion=gini, max_depth=5.0, max_features=4, max_leaf_nodes=2 .\n",
      "[CV]  criterion=gini, max_depth=5.0, max_features=4, max_leaf_nodes=2, total=   0.0s\n",
      "[CV] criterion=gini, max_depth=5.0, max_features=4, max_leaf_nodes=2 .\n",
      "[CV]  criterion=gini, max_depth=5.0, max_features=4, max_leaf_nodes=2, total=   0.0s\n",
      "[CV] criterion=gini, max_depth=5.0, max_features=4, max_leaf_nodes=2 .\n",
      "[CV]  criterion=gini, max_depth=5.0, max_features=4, max_leaf_nodes=2, total=   0.0s\n",
      "[CV] criterion=gini, max_depth=5.0, max_features=4, max_leaf_nodes=5 .\n",
      "[CV]  criterion=gini, max_depth=5.0, max_features=4, max_leaf_nodes=5, total=   0.0s\n",
      "[CV] criterion=gini, max_depth=5.0, max_features=4, max_leaf_nodes=5 .\n",
      "[CV]  criterion=gini, max_depth=5.0, max_features=4, max_leaf_nodes=5, total=   0.0s\n",
      "[CV] criterion=gini, max_depth=5.0, max_features=4, max_leaf_nodes=5 .\n",
      "[CV]  criterion=gini, max_depth=5.0, max_features=4, max_leaf_nodes=5, total=   0.0s\n",
      "[CV] criterion=gini, max_depth=5.0, max_features=4, max_leaf_nodes=10 \n",
      "[CV]  criterion=gini, max_depth=5.0, max_features=4, max_leaf_nodes=10, total=   0.0s\n",
      "[CV] criterion=gini, max_depth=5.0, max_features=4, max_leaf_nodes=10 \n",
      "[CV]  criterion=gini, max_depth=5.0, max_features=4, max_leaf_nodes=10, total=   0.0s\n",
      "[CV] criterion=gini, max_depth=5.0, max_features=4, max_leaf_nodes=10 \n",
      "[CV]  criterion=gini, max_depth=5.0, max_features=4, max_leaf_nodes=10, total=   0.0s\n",
      "[CV] criterion=gini, max_depth=5.0, max_features=4, max_leaf_nodes=15 \n",
      "[CV]  criterion=gini, max_depth=5.0, max_features=4, max_leaf_nodes=15, total=   0.0s\n",
      "[CV] criterion=gini, max_depth=5.0, max_features=4, max_leaf_nodes=15 \n",
      "[CV]  criterion=gini, max_depth=5.0, max_features=4, max_leaf_nodes=15, total=   0.0s\n",
      "[CV] criterion=gini, max_depth=5.0, max_features=4, max_leaf_nodes=15 \n",
      "[CV]  criterion=gini, max_depth=5.0, max_features=4, max_leaf_nodes=15, total=   0.0s\n",
      "[CV] criterion=gini, max_depth=5.0, max_features=6, max_leaf_nodes=2 .\n",
      "[CV]  criterion=gini, max_depth=5.0, max_features=6, max_leaf_nodes=2, total=   0.0s\n",
      "[CV] criterion=gini, max_depth=5.0, max_features=6, max_leaf_nodes=2 .\n",
      "[CV]  criterion=gini, max_depth=5.0, max_features=6, max_leaf_nodes=2, total=   0.0s\n",
      "[CV] criterion=gini, max_depth=5.0, max_features=6, max_leaf_nodes=2 .\n",
      "[CV]  criterion=gini, max_depth=5.0, max_features=6, max_leaf_nodes=2, total=   0.0s\n",
      "[CV] criterion=gini, max_depth=5.0, max_features=6, max_leaf_nodes=5 .\n",
      "[CV]  criterion=gini, max_depth=5.0, max_features=6, max_leaf_nodes=5, total=   0.0s\n",
      "[CV] criterion=gini, max_depth=5.0, max_features=6, max_leaf_nodes=5 .\n",
      "[CV]  criterion=gini, max_depth=5.0, max_features=6, max_leaf_nodes=5, total=   0.0s\n",
      "[CV] criterion=gini, max_depth=5.0, max_features=6, max_leaf_nodes=5 .\n",
      "[CV]  criterion=gini, max_depth=5.0, max_features=6, max_leaf_nodes=5, total=   0.0s\n",
      "[CV] criterion=gini, max_depth=5.0, max_features=6, max_leaf_nodes=10 \n",
      "[CV]  criterion=gini, max_depth=5.0, max_features=6, max_leaf_nodes=10, total=   0.0s\n",
      "[CV] criterion=gini, max_depth=5.0, max_features=6, max_leaf_nodes=10 \n",
      "[CV]  criterion=gini, max_depth=5.0, max_features=6, max_leaf_nodes=10, total=   0.0s\n",
      "[CV] criterion=gini, max_depth=5.0, max_features=6, max_leaf_nodes=10 \n",
      "[CV]  criterion=gini, max_depth=5.0, max_features=6, max_leaf_nodes=10, total=   0.0s\n",
      "[CV] criterion=gini, max_depth=5.0, max_features=6, max_leaf_nodes=15 \n",
      "[CV]  criterion=gini, max_depth=5.0, max_features=6, max_leaf_nodes=15, total=   0.0s\n",
      "[CV] criterion=gini, max_depth=5.0, max_features=6, max_leaf_nodes=15 \n",
      "[CV]  criterion=gini, max_depth=5.0, max_features=6, max_leaf_nodes=15, total=   0.0s\n",
      "[CV] criterion=gini, max_depth=5.0, max_features=6, max_leaf_nodes=15 \n",
      "[CV]  criterion=gini, max_depth=5.0, max_features=6, max_leaf_nodes=15, total=   0.0s\n",
      "[CV] criterion=gini, max_depth=5.0, max_features=8, max_leaf_nodes=2 .\n",
      "[CV]  criterion=gini, max_depth=5.0, max_features=8, max_leaf_nodes=2, total=   0.0s\n",
      "[CV] criterion=gini, max_depth=5.0, max_features=8, max_leaf_nodes=2 .\n",
      "[CV]  criterion=gini, max_depth=5.0, max_features=8, max_leaf_nodes=2, total=   0.0s\n",
      "[CV] criterion=gini, max_depth=5.0, max_features=8, max_leaf_nodes=2 .\n",
      "[CV]  criterion=gini, max_depth=5.0, max_features=8, max_leaf_nodes=2, total=   0.0s\n",
      "[CV] criterion=gini, max_depth=5.0, max_features=8, max_leaf_nodes=5 .\n",
      "[CV]  criterion=gini, max_depth=5.0, max_features=8, max_leaf_nodes=5, total=   0.0s\n",
      "[CV] criterion=gini, max_depth=5.0, max_features=8, max_leaf_nodes=5 .\n",
      "[CV]  criterion=gini, max_depth=5.0, max_features=8, max_leaf_nodes=5, total=   0.0s\n",
      "[CV] criterion=gini, max_depth=5.0, max_features=8, max_leaf_nodes=5 .\n",
      "[CV]  criterion=gini, max_depth=5.0, max_features=8, max_leaf_nodes=5, total=   0.0s\n",
      "[CV] criterion=gini, max_depth=5.0, max_features=8, max_leaf_nodes=10 \n",
      "[CV]  criterion=gini, max_depth=5.0, max_features=8, max_leaf_nodes=10, total=   0.0s\n",
      "[CV] criterion=gini, max_depth=5.0, max_features=8, max_leaf_nodes=10 \n",
      "[CV]  criterion=gini, max_depth=5.0, max_features=8, max_leaf_nodes=10, total=   0.0s\n",
      "[CV] criterion=gini, max_depth=5.0, max_features=8, max_leaf_nodes=10 \n",
      "[CV]  criterion=gini, max_depth=5.0, max_features=8, max_leaf_nodes=10, total=   0.0s\n",
      "[CV] criterion=gini, max_depth=5.0, max_features=8, max_leaf_nodes=15 \n",
      "[CV]  criterion=gini, max_depth=5.0, max_features=8, max_leaf_nodes=15, total=   0.0s\n",
      "[CV] criterion=gini, max_depth=5.0, max_features=8, max_leaf_nodes=15 \n",
      "[CV]  criterion=gini, max_depth=5.0, max_features=8, max_leaf_nodes=15, total=   0.0s\n",
      "[CV] criterion=gini, max_depth=5.0, max_features=8, max_leaf_nodes=15 \n",
      "[CV]  criterion=gini, max_depth=5.0, max_features=8, max_leaf_nodes=15, total=   0.0s\n",
      "[CV] criterion=gini, max_depth=5.0, max_features=11, max_leaf_nodes=2 \n",
      "[CV]  criterion=gini, max_depth=5.0, max_features=11, max_leaf_nodes=2, total=   0.0s\n",
      "[CV] criterion=gini, max_depth=5.0, max_features=11, max_leaf_nodes=2 \n",
      "[CV]  criterion=gini, max_depth=5.0, max_features=11, max_leaf_nodes=2, total=   0.0s\n",
      "[CV] criterion=gini, max_depth=5.0, max_features=11, max_leaf_nodes=2 \n",
      "[CV]  criterion=gini, max_depth=5.0, max_features=11, max_leaf_nodes=2, total=   0.0s\n",
      "[CV] criterion=gini, max_depth=5.0, max_features=11, max_leaf_nodes=5 \n",
      "[CV]  criterion=gini, max_depth=5.0, max_features=11, max_leaf_nodes=5, total=   0.0s\n",
      "[CV] criterion=gini, max_depth=5.0, max_features=11, max_leaf_nodes=5 \n",
      "[CV]  criterion=gini, max_depth=5.0, max_features=11, max_leaf_nodes=5, total=   0.0s\n",
      "[CV] criterion=gini, max_depth=5.0, max_features=11, max_leaf_nodes=5 \n",
      "[CV]  criterion=gini, max_depth=5.0, max_features=11, max_leaf_nodes=5, total=   0.0s\n",
      "[CV] criterion=gini, max_depth=5.0, max_features=11, max_leaf_nodes=10 \n",
      "[CV]  criterion=gini, max_depth=5.0, max_features=11, max_leaf_nodes=10, total=   0.0s\n",
      "[CV] criterion=gini, max_depth=5.0, max_features=11, max_leaf_nodes=10 \n",
      "[CV]  criterion=gini, max_depth=5.0, max_features=11, max_leaf_nodes=10, total=   0.0s\n",
      "[CV] criterion=gini, max_depth=5.0, max_features=11, max_leaf_nodes=10 \n",
      "[CV]  criterion=gini, max_depth=5.0, max_features=11, max_leaf_nodes=10, total=   0.0s\n",
      "[CV] criterion=gini, max_depth=5.0, max_features=11, max_leaf_nodes=15 \n",
      "[CV]  criterion=gini, max_depth=5.0, max_features=11, max_leaf_nodes=15, total=   0.0s\n",
      "[CV] criterion=gini, max_depth=5.0, max_features=11, max_leaf_nodes=15 \n",
      "[CV]  criterion=gini, max_depth=5.0, max_features=11, max_leaf_nodes=15, total=   0.0s\n",
      "[CV] criterion=gini, max_depth=5.0, max_features=11, max_leaf_nodes=15 \n",
      "[CV]  criterion=gini, max_depth=5.0, max_features=11, max_leaf_nodes=15, total=   0.0s\n",
      "[CV] criterion=gini, max_depth=6.0, max_features=2, max_leaf_nodes=2 .\n",
      "[CV]  criterion=gini, max_depth=6.0, max_features=2, max_leaf_nodes=2, total=   0.0s\n",
      "[CV] criterion=gini, max_depth=6.0, max_features=2, max_leaf_nodes=2 .\n",
      "[CV]  criterion=gini, max_depth=6.0, max_features=2, max_leaf_nodes=2, total=   0.0s\n",
      "[CV] criterion=gini, max_depth=6.0, max_features=2, max_leaf_nodes=2 .\n",
      "[CV]  criterion=gini, max_depth=6.0, max_features=2, max_leaf_nodes=2, total=   0.0s\n",
      "[CV] criterion=gini, max_depth=6.0, max_features=2, max_leaf_nodes=5 .\n",
      "[CV]  criterion=gini, max_depth=6.0, max_features=2, max_leaf_nodes=5, total=   0.0s\n",
      "[CV] criterion=gini, max_depth=6.0, max_features=2, max_leaf_nodes=5 .\n",
      "[CV]  criterion=gini, max_depth=6.0, max_features=2, max_leaf_nodes=5, total=   0.0s\n",
      "[CV] criterion=gini, max_depth=6.0, max_features=2, max_leaf_nodes=5 .\n",
      "[CV]  criterion=gini, max_depth=6.0, max_features=2, max_leaf_nodes=5, total=   0.0s\n",
      "[CV] criterion=gini, max_depth=6.0, max_features=2, max_leaf_nodes=10 \n",
      "[CV]  criterion=gini, max_depth=6.0, max_features=2, max_leaf_nodes=10, total=   0.0s\n",
      "[CV] criterion=gini, max_depth=6.0, max_features=2, max_leaf_nodes=10 \n",
      "[CV]  criterion=gini, max_depth=6.0, max_features=2, max_leaf_nodes=10, total=   0.0s\n",
      "[CV] criterion=gini, max_depth=6.0, max_features=2, max_leaf_nodes=10 \n",
      "[CV]  criterion=gini, max_depth=6.0, max_features=2, max_leaf_nodes=10, total=   0.0s\n",
      "[CV] criterion=gini, max_depth=6.0, max_features=2, max_leaf_nodes=15 \n",
      "[CV]  criterion=gini, max_depth=6.0, max_features=2, max_leaf_nodes=15, total=   0.0s\n",
      "[CV] criterion=gini, max_depth=6.0, max_features=2, max_leaf_nodes=15 \n",
      "[CV]  criterion=gini, max_depth=6.0, max_features=2, max_leaf_nodes=15, total=   0.0s\n",
      "[CV] criterion=gini, max_depth=6.0, max_features=2, max_leaf_nodes=15 \n",
      "[CV]  criterion=gini, max_depth=6.0, max_features=2, max_leaf_nodes=15, total=   0.0s\n",
      "[CV] criterion=gini, max_depth=6.0, max_features=4, max_leaf_nodes=2 .\n",
      "[CV]  criterion=gini, max_depth=6.0, max_features=4, max_leaf_nodes=2, total=   0.0s\n",
      "[CV] criterion=gini, max_depth=6.0, max_features=4, max_leaf_nodes=2 .\n",
      "[CV]  criterion=gini, max_depth=6.0, max_features=4, max_leaf_nodes=2, total=   0.0s\n",
      "[CV] criterion=gini, max_depth=6.0, max_features=4, max_leaf_nodes=2 .\n",
      "[CV]  criterion=gini, max_depth=6.0, max_features=4, max_leaf_nodes=2, total=   0.0s\n",
      "[CV] criterion=gini, max_depth=6.0, max_features=4, max_leaf_nodes=5 .\n",
      "[CV]  criterion=gini, max_depth=6.0, max_features=4, max_leaf_nodes=5, total=   0.0s\n",
      "[CV] criterion=gini, max_depth=6.0, max_features=4, max_leaf_nodes=5 .\n",
      "[CV]  criterion=gini, max_depth=6.0, max_features=4, max_leaf_nodes=5, total=   0.0s\n",
      "[CV] criterion=gini, max_depth=6.0, max_features=4, max_leaf_nodes=5 .\n",
      "[CV]  criterion=gini, max_depth=6.0, max_features=4, max_leaf_nodes=5, total=   0.0s\n",
      "[CV] criterion=gini, max_depth=6.0, max_features=4, max_leaf_nodes=10 \n",
      "[CV]  criterion=gini, max_depth=6.0, max_features=4, max_leaf_nodes=10, total=   0.0s\n",
      "[CV] criterion=gini, max_depth=6.0, max_features=4, max_leaf_nodes=10 \n",
      "[CV]  criterion=gini, max_depth=6.0, max_features=4, max_leaf_nodes=10, total=   0.0s\n",
      "[CV] criterion=gini, max_depth=6.0, max_features=4, max_leaf_nodes=10 \n",
      "[CV]  criterion=gini, max_depth=6.0, max_features=4, max_leaf_nodes=10, total=   0.0s\n",
      "[CV] criterion=gini, max_depth=6.0, max_features=4, max_leaf_nodes=15 \n",
      "[CV]  criterion=gini, max_depth=6.0, max_features=4, max_leaf_nodes=15, total=   0.0s\n",
      "[CV] criterion=gini, max_depth=6.0, max_features=4, max_leaf_nodes=15 \n",
      "[CV]  criterion=gini, max_depth=6.0, max_features=4, max_leaf_nodes=15, total=   0.0s\n",
      "[CV] criterion=gini, max_depth=6.0, max_features=4, max_leaf_nodes=15 \n",
      "[CV]  criterion=gini, max_depth=6.0, max_features=4, max_leaf_nodes=15, total=   0.0s\n",
      "[CV] criterion=gini, max_depth=6.0, max_features=6, max_leaf_nodes=2 .\n",
      "[CV]  criterion=gini, max_depth=6.0, max_features=6, max_leaf_nodes=2, total=   0.0s\n",
      "[CV] criterion=gini, max_depth=6.0, max_features=6, max_leaf_nodes=2 .\n",
      "[CV]  criterion=gini, max_depth=6.0, max_features=6, max_leaf_nodes=2, total=   0.0s\n",
      "[CV] criterion=gini, max_depth=6.0, max_features=6, max_leaf_nodes=2 .\n",
      "[CV]  criterion=gini, max_depth=6.0, max_features=6, max_leaf_nodes=2, total=   0.0s\n",
      "[CV] criterion=gini, max_depth=6.0, max_features=6, max_leaf_nodes=5 .\n",
      "[CV]  criterion=gini, max_depth=6.0, max_features=6, max_leaf_nodes=5, total=   0.0s\n",
      "[CV] criterion=gini, max_depth=6.0, max_features=6, max_leaf_nodes=5 .\n",
      "[CV]  criterion=gini, max_depth=6.0, max_features=6, max_leaf_nodes=5, total=   0.0s\n",
      "[CV] criterion=gini, max_depth=6.0, max_features=6, max_leaf_nodes=5 .\n",
      "[CV]  criterion=gini, max_depth=6.0, max_features=6, max_leaf_nodes=5, total=   0.0s\n",
      "[CV] criterion=gini, max_depth=6.0, max_features=6, max_leaf_nodes=10 \n",
      "[CV]  criterion=gini, max_depth=6.0, max_features=6, max_leaf_nodes=10, total=   0.0s\n",
      "[CV] criterion=gini, max_depth=6.0, max_features=6, max_leaf_nodes=10 \n",
      "[CV]  criterion=gini, max_depth=6.0, max_features=6, max_leaf_nodes=10, total=   0.0s\n",
      "[CV] criterion=gini, max_depth=6.0, max_features=6, max_leaf_nodes=10 \n",
      "[CV]  criterion=gini, max_depth=6.0, max_features=6, max_leaf_nodes=10, total=   0.0s\n",
      "[CV] criterion=gini, max_depth=6.0, max_features=6, max_leaf_nodes=15 \n",
      "[CV]  criterion=gini, max_depth=6.0, max_features=6, max_leaf_nodes=15, total=   0.0s\n",
      "[CV] criterion=gini, max_depth=6.0, max_features=6, max_leaf_nodes=15 \n",
      "[CV]  criterion=gini, max_depth=6.0, max_features=6, max_leaf_nodes=15, total=   0.0s\n",
      "[CV] criterion=gini, max_depth=6.0, max_features=6, max_leaf_nodes=15 \n",
      "[CV]  criterion=gini, max_depth=6.0, max_features=6, max_leaf_nodes=15, total=   0.0s\n",
      "[CV] criterion=gini, max_depth=6.0, max_features=8, max_leaf_nodes=2 .\n",
      "[CV]  criterion=gini, max_depth=6.0, max_features=8, max_leaf_nodes=2, total=   0.0s\n",
      "[CV] criterion=gini, max_depth=6.0, max_features=8, max_leaf_nodes=2 .\n",
      "[CV]  criterion=gini, max_depth=6.0, max_features=8, max_leaf_nodes=2, total=   0.0s\n",
      "[CV] criterion=gini, max_depth=6.0, max_features=8, max_leaf_nodes=2 .\n",
      "[CV]  criterion=gini, max_depth=6.0, max_features=8, max_leaf_nodes=2, total=   0.0s\n",
      "[CV] criterion=gini, max_depth=6.0, max_features=8, max_leaf_nodes=5 .\n",
      "[CV]  criterion=gini, max_depth=6.0, max_features=8, max_leaf_nodes=5, total=   0.0s\n",
      "[CV] criterion=gini, max_depth=6.0, max_features=8, max_leaf_nodes=5 .\n",
      "[CV]  criterion=gini, max_depth=6.0, max_features=8, max_leaf_nodes=5, total=   0.0s\n",
      "[CV] criterion=gini, max_depth=6.0, max_features=8, max_leaf_nodes=5 .\n",
      "[CV]  criterion=gini, max_depth=6.0, max_features=8, max_leaf_nodes=5, total=   0.0s\n",
      "[CV] criterion=gini, max_depth=6.0, max_features=8, max_leaf_nodes=10 \n",
      "[CV]  criterion=gini, max_depth=6.0, max_features=8, max_leaf_nodes=10, total=   0.0s\n",
      "[CV] criterion=gini, max_depth=6.0, max_features=8, max_leaf_nodes=10 \n",
      "[CV]  criterion=gini, max_depth=6.0, max_features=8, max_leaf_nodes=10, total=   0.0s\n",
      "[CV] criterion=gini, max_depth=6.0, max_features=8, max_leaf_nodes=10 \n",
      "[CV]  criterion=gini, max_depth=6.0, max_features=8, max_leaf_nodes=10, total=   0.0s\n",
      "[CV] criterion=gini, max_depth=6.0, max_features=8, max_leaf_nodes=15 \n",
      "[CV]  criterion=gini, max_depth=6.0, max_features=8, max_leaf_nodes=15, total=   0.0s\n",
      "[CV] criterion=gini, max_depth=6.0, max_features=8, max_leaf_nodes=15 \n",
      "[CV]  criterion=gini, max_depth=6.0, max_features=8, max_leaf_nodes=15, total=   0.0s\n",
      "[CV] criterion=gini, max_depth=6.0, max_features=8, max_leaf_nodes=15 \n",
      "[CV]  criterion=gini, max_depth=6.0, max_features=8, max_leaf_nodes=15, total=   0.0s\n",
      "[CV] criterion=gini, max_depth=6.0, max_features=11, max_leaf_nodes=2 \n",
      "[CV]  criterion=gini, max_depth=6.0, max_features=11, max_leaf_nodes=2, total=   0.0s\n",
      "[CV] criterion=gini, max_depth=6.0, max_features=11, max_leaf_nodes=2 \n",
      "[CV]  criterion=gini, max_depth=6.0, max_features=11, max_leaf_nodes=2, total=   0.0s\n",
      "[CV] criterion=gini, max_depth=6.0, max_features=11, max_leaf_nodes=2 \n",
      "[CV]  criterion=gini, max_depth=6.0, max_features=11, max_leaf_nodes=2, total=   0.0s\n",
      "[CV] criterion=gini, max_depth=6.0, max_features=11, max_leaf_nodes=5 \n",
      "[CV]  criterion=gini, max_depth=6.0, max_features=11, max_leaf_nodes=5, total=   0.0s\n",
      "[CV] criterion=gini, max_depth=6.0, max_features=11, max_leaf_nodes=5 \n",
      "[CV]  criterion=gini, max_depth=6.0, max_features=11, max_leaf_nodes=5, total=   0.0s\n",
      "[CV] criterion=gini, max_depth=6.0, max_features=11, max_leaf_nodes=5 \n",
      "[CV]  criterion=gini, max_depth=6.0, max_features=11, max_leaf_nodes=5, total=   0.0s\n",
      "[CV] criterion=gini, max_depth=6.0, max_features=11, max_leaf_nodes=10 \n",
      "[CV]  criterion=gini, max_depth=6.0, max_features=11, max_leaf_nodes=10, total=   0.0s\n",
      "[CV] criterion=gini, max_depth=6.0, max_features=11, max_leaf_nodes=10 \n",
      "[CV]  criterion=gini, max_depth=6.0, max_features=11, max_leaf_nodes=10, total=   0.0s\n",
      "[CV] criterion=gini, max_depth=6.0, max_features=11, max_leaf_nodes=10 \n",
      "[CV]  criterion=gini, max_depth=6.0, max_features=11, max_leaf_nodes=10, total=   0.0s\n",
      "[CV] criterion=gini, max_depth=6.0, max_features=11, max_leaf_nodes=15 \n",
      "[CV]  criterion=gini, max_depth=6.0, max_features=11, max_leaf_nodes=15, total=   0.0s\n",
      "[CV] criterion=gini, max_depth=6.0, max_features=11, max_leaf_nodes=15 \n",
      "[CV]  criterion=gini, max_depth=6.0, max_features=11, max_leaf_nodes=15, total=   0.0s\n",
      "[CV] criterion=gini, max_depth=6.0, max_features=11, max_leaf_nodes=15 \n",
      "[CV]  criterion=gini, max_depth=6.0, max_features=11, max_leaf_nodes=15, total=   0.0s\n",
      "[CV] criterion=gini, max_depth=7.0, max_features=2, max_leaf_nodes=2 .\n",
      "[CV]  criterion=gini, max_depth=7.0, max_features=2, max_leaf_nodes=2, total=   0.0s\n",
      "[CV] criterion=gini, max_depth=7.0, max_features=2, max_leaf_nodes=2 .\n",
      "[CV]  criterion=gini, max_depth=7.0, max_features=2, max_leaf_nodes=2, total=   0.0s\n",
      "[CV] criterion=gini, max_depth=7.0, max_features=2, max_leaf_nodes=2 .\n",
      "[CV]  criterion=gini, max_depth=7.0, max_features=2, max_leaf_nodes=2, total=   0.0s\n",
      "[CV] criterion=gini, max_depth=7.0, max_features=2, max_leaf_nodes=5 .\n",
      "[CV]  criterion=gini, max_depth=7.0, max_features=2, max_leaf_nodes=5, total=   0.0s\n",
      "[CV] criterion=gini, max_depth=7.0, max_features=2, max_leaf_nodes=5 .\n",
      "[CV]  criterion=gini, max_depth=7.0, max_features=2, max_leaf_nodes=5, total=   0.0s\n",
      "[CV] criterion=gini, max_depth=7.0, max_features=2, max_leaf_nodes=5 .\n",
      "[CV]  criterion=gini, max_depth=7.0, max_features=2, max_leaf_nodes=5, total=   0.0s\n",
      "[CV] criterion=gini, max_depth=7.0, max_features=2, max_leaf_nodes=10 \n",
      "[CV]  criterion=gini, max_depth=7.0, max_features=2, max_leaf_nodes=10, total=   0.0s\n",
      "[CV] criterion=gini, max_depth=7.0, max_features=2, max_leaf_nodes=10 \n",
      "[CV]  criterion=gini, max_depth=7.0, max_features=2, max_leaf_nodes=10, total=   0.0s\n",
      "[CV] criterion=gini, max_depth=7.0, max_features=2, max_leaf_nodes=10 \n",
      "[CV]  criterion=gini, max_depth=7.0, max_features=2, max_leaf_nodes=10, total=   0.0s\n",
      "[CV] criterion=gini, max_depth=7.0, max_features=2, max_leaf_nodes=15 \n",
      "[CV]  criterion=gini, max_depth=7.0, max_features=2, max_leaf_nodes=15, total=   0.0s\n",
      "[CV] criterion=gini, max_depth=7.0, max_features=2, max_leaf_nodes=15 \n",
      "[CV]  criterion=gini, max_depth=7.0, max_features=2, max_leaf_nodes=15, total=   0.0s\n",
      "[CV] criterion=gini, max_depth=7.0, max_features=2, max_leaf_nodes=15 \n",
      "[CV]  criterion=gini, max_depth=7.0, max_features=2, max_leaf_nodes=15, total=   0.0s\n",
      "[CV] criterion=gini, max_depth=7.0, max_features=4, max_leaf_nodes=2 .\n",
      "[CV]  criterion=gini, max_depth=7.0, max_features=4, max_leaf_nodes=2, total=   0.0s\n",
      "[CV] criterion=gini, max_depth=7.0, max_features=4, max_leaf_nodes=2 .\n",
      "[CV]  criterion=gini, max_depth=7.0, max_features=4, max_leaf_nodes=2, total=   0.0s\n",
      "[CV] criterion=gini, max_depth=7.0, max_features=4, max_leaf_nodes=2 .\n",
      "[CV]  criterion=gini, max_depth=7.0, max_features=4, max_leaf_nodes=2, total=   0.0s\n",
      "[CV] criterion=gini, max_depth=7.0, max_features=4, max_leaf_nodes=5 .\n",
      "[CV]  criterion=gini, max_depth=7.0, max_features=4, max_leaf_nodes=5, total=   0.0s\n",
      "[CV] criterion=gini, max_depth=7.0, max_features=4, max_leaf_nodes=5 .\n",
      "[CV]  criterion=gini, max_depth=7.0, max_features=4, max_leaf_nodes=5, total=   0.0s\n",
      "[CV] criterion=gini, max_depth=7.0, max_features=4, max_leaf_nodes=5 .\n",
      "[CV]  criterion=gini, max_depth=7.0, max_features=4, max_leaf_nodes=5, total=   0.0s\n",
      "[CV] criterion=gini, max_depth=7.0, max_features=4, max_leaf_nodes=10 \n",
      "[CV]  criterion=gini, max_depth=7.0, max_features=4, max_leaf_nodes=10, total=   0.0s\n",
      "[CV] criterion=gini, max_depth=7.0, max_features=4, max_leaf_nodes=10 \n",
      "[CV]  criterion=gini, max_depth=7.0, max_features=4, max_leaf_nodes=10, total=   0.0s\n",
      "[CV] criterion=gini, max_depth=7.0, max_features=4, max_leaf_nodes=10 \n",
      "[CV]  criterion=gini, max_depth=7.0, max_features=4, max_leaf_nodes=10, total=   0.0s\n",
      "[CV] criterion=gini, max_depth=7.0, max_features=4, max_leaf_nodes=15 \n",
      "[CV]  criterion=gini, max_depth=7.0, max_features=4, max_leaf_nodes=15, total=   0.0s\n",
      "[CV] criterion=gini, max_depth=7.0, max_features=4, max_leaf_nodes=15 \n",
      "[CV]  criterion=gini, max_depth=7.0, max_features=4, max_leaf_nodes=15, total=   0.0s\n",
      "[CV] criterion=gini, max_depth=7.0, max_features=4, max_leaf_nodes=15 \n",
      "[CV]  criterion=gini, max_depth=7.0, max_features=4, max_leaf_nodes=15, total=   0.0s\n",
      "[CV] criterion=gini, max_depth=7.0, max_features=6, max_leaf_nodes=2 .\n",
      "[CV]  criterion=gini, max_depth=7.0, max_features=6, max_leaf_nodes=2, total=   0.0s\n",
      "[CV] criterion=gini, max_depth=7.0, max_features=6, max_leaf_nodes=2 .\n",
      "[CV]  criterion=gini, max_depth=7.0, max_features=6, max_leaf_nodes=2, total=   0.0s\n",
      "[CV] criterion=gini, max_depth=7.0, max_features=6, max_leaf_nodes=2 .\n",
      "[CV]  criterion=gini, max_depth=7.0, max_features=6, max_leaf_nodes=2, total=   0.0s\n",
      "[CV] criterion=gini, max_depth=7.0, max_features=6, max_leaf_nodes=5 .\n",
      "[CV]  criterion=gini, max_depth=7.0, max_features=6, max_leaf_nodes=5, total=   0.0s\n",
      "[CV] criterion=gini, max_depth=7.0, max_features=6, max_leaf_nodes=5 .\n",
      "[CV]  criterion=gini, max_depth=7.0, max_features=6, max_leaf_nodes=5, total=   0.0s\n",
      "[CV] criterion=gini, max_depth=7.0, max_features=6, max_leaf_nodes=5 .\n",
      "[CV]  criterion=gini, max_depth=7.0, max_features=6, max_leaf_nodes=5, total=   0.0s\n",
      "[CV] criterion=gini, max_depth=7.0, max_features=6, max_leaf_nodes=10 \n",
      "[CV]  criterion=gini, max_depth=7.0, max_features=6, max_leaf_nodes=10, total=   0.0s\n",
      "[CV] criterion=gini, max_depth=7.0, max_features=6, max_leaf_nodes=10 \n",
      "[CV]  criterion=gini, max_depth=7.0, max_features=6, max_leaf_nodes=10, total=   0.0s\n",
      "[CV] criterion=gini, max_depth=7.0, max_features=6, max_leaf_nodes=10 \n",
      "[CV]  criterion=gini, max_depth=7.0, max_features=6, max_leaf_nodes=10, total=   0.0s\n",
      "[CV] criterion=gini, max_depth=7.0, max_features=6, max_leaf_nodes=15 \n",
      "[CV]  criterion=gini, max_depth=7.0, max_features=6, max_leaf_nodes=15, total=   0.0s\n",
      "[CV] criterion=gini, max_depth=7.0, max_features=6, max_leaf_nodes=15 \n",
      "[CV]  criterion=gini, max_depth=7.0, max_features=6, max_leaf_nodes=15, total=   0.0s\n",
      "[CV] criterion=gini, max_depth=7.0, max_features=6, max_leaf_nodes=15 \n",
      "[CV]  criterion=gini, max_depth=7.0, max_features=6, max_leaf_nodes=15, total=   0.0s\n",
      "[CV] criterion=gini, max_depth=7.0, max_features=8, max_leaf_nodes=2 .\n",
      "[CV]  criterion=gini, max_depth=7.0, max_features=8, max_leaf_nodes=2, total=   0.0s\n",
      "[CV] criterion=gini, max_depth=7.0, max_features=8, max_leaf_nodes=2 .\n",
      "[CV]  criterion=gini, max_depth=7.0, max_features=8, max_leaf_nodes=2, total=   0.0s\n",
      "[CV] criterion=gini, max_depth=7.0, max_features=8, max_leaf_nodes=2 .\n",
      "[CV]  criterion=gini, max_depth=7.0, max_features=8, max_leaf_nodes=2, total=   0.0s\n",
      "[CV] criterion=gini, max_depth=7.0, max_features=8, max_leaf_nodes=5 .\n",
      "[CV]  criterion=gini, max_depth=7.0, max_features=8, max_leaf_nodes=5, total=   0.0s\n",
      "[CV] criterion=gini, max_depth=7.0, max_features=8, max_leaf_nodes=5 .\n",
      "[CV]  criterion=gini, max_depth=7.0, max_features=8, max_leaf_nodes=5, total=   0.0s\n",
      "[CV] criterion=gini, max_depth=7.0, max_features=8, max_leaf_nodes=5 .\n",
      "[CV]  criterion=gini, max_depth=7.0, max_features=8, max_leaf_nodes=5, total=   0.0s\n",
      "[CV] criterion=gini, max_depth=7.0, max_features=8, max_leaf_nodes=10 \n",
      "[CV]  criterion=gini, max_depth=7.0, max_features=8, max_leaf_nodes=10, total=   0.0s\n",
      "[CV] criterion=gini, max_depth=7.0, max_features=8, max_leaf_nodes=10 \n",
      "[CV]  criterion=gini, max_depth=7.0, max_features=8, max_leaf_nodes=10, total=   0.0s\n",
      "[CV] criterion=gini, max_depth=7.0, max_features=8, max_leaf_nodes=10 \n",
      "[CV]  criterion=gini, max_depth=7.0, max_features=8, max_leaf_nodes=10, total=   0.0s\n",
      "[CV] criterion=gini, max_depth=7.0, max_features=8, max_leaf_nodes=15 \n",
      "[CV]  criterion=gini, max_depth=7.0, max_features=8, max_leaf_nodes=15, total=   0.0s\n",
      "[CV] criterion=gini, max_depth=7.0, max_features=8, max_leaf_nodes=15 \n",
      "[CV]  criterion=gini, max_depth=7.0, max_features=8, max_leaf_nodes=15, total=   0.0s\n",
      "[CV] criterion=gini, max_depth=7.0, max_features=8, max_leaf_nodes=15 \n",
      "[CV]  criterion=gini, max_depth=7.0, max_features=8, max_leaf_nodes=15, total=   0.0s\n",
      "[CV] criterion=gini, max_depth=7.0, max_features=11, max_leaf_nodes=2 \n",
      "[CV]  criterion=gini, max_depth=7.0, max_features=11, max_leaf_nodes=2, total=   0.0s\n",
      "[CV] criterion=gini, max_depth=7.0, max_features=11, max_leaf_nodes=2 \n",
      "[CV]  criterion=gini, max_depth=7.0, max_features=11, max_leaf_nodes=2, total=   0.0s\n",
      "[CV] criterion=gini, max_depth=7.0, max_features=11, max_leaf_nodes=2 \n",
      "[CV]  criterion=gini, max_depth=7.0, max_features=11, max_leaf_nodes=2, total=   0.0s\n",
      "[CV] criterion=gini, max_depth=7.0, max_features=11, max_leaf_nodes=5 \n",
      "[CV]  criterion=gini, max_depth=7.0, max_features=11, max_leaf_nodes=5, total=   0.0s\n",
      "[CV] criterion=gini, max_depth=7.0, max_features=11, max_leaf_nodes=5 \n",
      "[CV]  criterion=gini, max_depth=7.0, max_features=11, max_leaf_nodes=5, total=   0.0s\n",
      "[CV] criterion=gini, max_depth=7.0, max_features=11, max_leaf_nodes=5 \n",
      "[CV]  criterion=gini, max_depth=7.0, max_features=11, max_leaf_nodes=5, total=   0.0s\n",
      "[CV] criterion=gini, max_depth=7.0, max_features=11, max_leaf_nodes=10 \n",
      "[CV]  criterion=gini, max_depth=7.0, max_features=11, max_leaf_nodes=10, total=   0.0s\n",
      "[CV] criterion=gini, max_depth=7.0, max_features=11, max_leaf_nodes=10 \n",
      "[CV]  criterion=gini, max_depth=7.0, max_features=11, max_leaf_nodes=10, total=   0.0s\n",
      "[CV] criterion=gini, max_depth=7.0, max_features=11, max_leaf_nodes=10 \n",
      "[CV]  criterion=gini, max_depth=7.0, max_features=11, max_leaf_nodes=10, total=   0.0s\n",
      "[CV] criterion=gini, max_depth=7.0, max_features=11, max_leaf_nodes=15 \n",
      "[CV]  criterion=gini, max_depth=7.0, max_features=11, max_leaf_nodes=15, total=   0.0s\n",
      "[CV] criterion=gini, max_depth=7.0, max_features=11, max_leaf_nodes=15 \n",
      "[CV]  criterion=gini, max_depth=7.0, max_features=11, max_leaf_nodes=15, total=   0.0s\n",
      "[CV] criterion=gini, max_depth=7.0, max_features=11, max_leaf_nodes=15 \n",
      "[CV]  criterion=gini, max_depth=7.0, max_features=11, max_leaf_nodes=15, total=   0.0s\n",
      "[CV] criterion=gini, max_depth=8.0, max_features=2, max_leaf_nodes=2 .\n",
      "[CV]  criterion=gini, max_depth=8.0, max_features=2, max_leaf_nodes=2, total=   0.0s\n",
      "[CV] criterion=gini, max_depth=8.0, max_features=2, max_leaf_nodes=2 .\n",
      "[CV]  criterion=gini, max_depth=8.0, max_features=2, max_leaf_nodes=2, total=   0.0s\n",
      "[CV] criterion=gini, max_depth=8.0, max_features=2, max_leaf_nodes=2 .\n",
      "[CV]  criterion=gini, max_depth=8.0, max_features=2, max_leaf_nodes=2, total=   0.0s\n",
      "[CV] criterion=gini, max_depth=8.0, max_features=2, max_leaf_nodes=5 .\n",
      "[CV]  criterion=gini, max_depth=8.0, max_features=2, max_leaf_nodes=5, total=   0.0s\n",
      "[CV] criterion=gini, max_depth=8.0, max_features=2, max_leaf_nodes=5 .\n",
      "[CV]  criterion=gini, max_depth=8.0, max_features=2, max_leaf_nodes=5, total=   0.0s\n",
      "[CV] criterion=gini, max_depth=8.0, max_features=2, max_leaf_nodes=5 .\n",
      "[CV]  criterion=gini, max_depth=8.0, max_features=2, max_leaf_nodes=5, total=   0.0s\n",
      "[CV] criterion=gini, max_depth=8.0, max_features=2, max_leaf_nodes=10 \n",
      "[CV]  criterion=gini, max_depth=8.0, max_features=2, max_leaf_nodes=10, total=   0.0s\n",
      "[CV] criterion=gini, max_depth=8.0, max_features=2, max_leaf_nodes=10 \n",
      "[CV]  criterion=gini, max_depth=8.0, max_features=2, max_leaf_nodes=10, total=   0.0s\n",
      "[CV] criterion=gini, max_depth=8.0, max_features=2, max_leaf_nodes=10 \n",
      "[CV]  criterion=gini, max_depth=8.0, max_features=2, max_leaf_nodes=10, total=   0.0s\n",
      "[CV] criterion=gini, max_depth=8.0, max_features=2, max_leaf_nodes=15 \n",
      "[CV]  criterion=gini, max_depth=8.0, max_features=2, max_leaf_nodes=15, total=   0.0s\n",
      "[CV] criterion=gini, max_depth=8.0, max_features=2, max_leaf_nodes=15 \n",
      "[CV]  criterion=gini, max_depth=8.0, max_features=2, max_leaf_nodes=15, total=   0.0s\n",
      "[CV] criterion=gini, max_depth=8.0, max_features=2, max_leaf_nodes=15 \n",
      "[CV]  criterion=gini, max_depth=8.0, max_features=2, max_leaf_nodes=15, total=   0.0s\n",
      "[CV] criterion=gini, max_depth=8.0, max_features=4, max_leaf_nodes=2 .\n",
      "[CV]  criterion=gini, max_depth=8.0, max_features=4, max_leaf_nodes=2, total=   0.0s\n",
      "[CV] criterion=gini, max_depth=8.0, max_features=4, max_leaf_nodes=2 .\n",
      "[CV]  criterion=gini, max_depth=8.0, max_features=4, max_leaf_nodes=2, total=   0.0s\n",
      "[CV] criterion=gini, max_depth=8.0, max_features=4, max_leaf_nodes=2 .\n",
      "[CV]  criterion=gini, max_depth=8.0, max_features=4, max_leaf_nodes=2, total=   0.0s\n",
      "[CV] criterion=gini, max_depth=8.0, max_features=4, max_leaf_nodes=5 .\n",
      "[CV]  criterion=gini, max_depth=8.0, max_features=4, max_leaf_nodes=5, total=   0.0s\n",
      "[CV] criterion=gini, max_depth=8.0, max_features=4, max_leaf_nodes=5 .\n",
      "[CV]  criterion=gini, max_depth=8.0, max_features=4, max_leaf_nodes=5, total=   0.0s\n",
      "[CV] criterion=gini, max_depth=8.0, max_features=4, max_leaf_nodes=5 .\n",
      "[CV]  criterion=gini, max_depth=8.0, max_features=4, max_leaf_nodes=5, total=   0.0s\n",
      "[CV] criterion=gini, max_depth=8.0, max_features=4, max_leaf_nodes=10 \n",
      "[CV]  criterion=gini, max_depth=8.0, max_features=4, max_leaf_nodes=10, total=   0.0s\n",
      "[CV] criterion=gini, max_depth=8.0, max_features=4, max_leaf_nodes=10 \n",
      "[CV]  criterion=gini, max_depth=8.0, max_features=4, max_leaf_nodes=10, total=   0.0s\n",
      "[CV] criterion=gini, max_depth=8.0, max_features=4, max_leaf_nodes=10 \n",
      "[CV]  criterion=gini, max_depth=8.0, max_features=4, max_leaf_nodes=10, total=   0.0s\n",
      "[CV] criterion=gini, max_depth=8.0, max_features=4, max_leaf_nodes=15 \n",
      "[CV]  criterion=gini, max_depth=8.0, max_features=4, max_leaf_nodes=15, total=   0.0s\n",
      "[CV] criterion=gini, max_depth=8.0, max_features=4, max_leaf_nodes=15 \n",
      "[CV]  criterion=gini, max_depth=8.0, max_features=4, max_leaf_nodes=15, total=   0.0s\n",
      "[CV] criterion=gini, max_depth=8.0, max_features=4, max_leaf_nodes=15 \n",
      "[CV]  criterion=gini, max_depth=8.0, max_features=4, max_leaf_nodes=15, total=   0.0s\n",
      "[CV] criterion=gini, max_depth=8.0, max_features=6, max_leaf_nodes=2 .\n",
      "[CV]  criterion=gini, max_depth=8.0, max_features=6, max_leaf_nodes=2, total=   0.0s\n",
      "[CV] criterion=gini, max_depth=8.0, max_features=6, max_leaf_nodes=2 .\n",
      "[CV]  criterion=gini, max_depth=8.0, max_features=6, max_leaf_nodes=2, total=   0.0s\n",
      "[CV] criterion=gini, max_depth=8.0, max_features=6, max_leaf_nodes=2 .\n",
      "[CV]  criterion=gini, max_depth=8.0, max_features=6, max_leaf_nodes=2, total=   0.0s\n",
      "[CV] criterion=gini, max_depth=8.0, max_features=6, max_leaf_nodes=5 .\n",
      "[CV]  criterion=gini, max_depth=8.0, max_features=6, max_leaf_nodes=5, total=   0.0s\n",
      "[CV] criterion=gini, max_depth=8.0, max_features=6, max_leaf_nodes=5 .\n",
      "[CV]  criterion=gini, max_depth=8.0, max_features=6, max_leaf_nodes=5, total=   0.0s\n",
      "[CV] criterion=gini, max_depth=8.0, max_features=6, max_leaf_nodes=5 .\n",
      "[CV]  criterion=gini, max_depth=8.0, max_features=6, max_leaf_nodes=5, total=   0.0s\n",
      "[CV] criterion=gini, max_depth=8.0, max_features=6, max_leaf_nodes=10 \n",
      "[CV]  criterion=gini, max_depth=8.0, max_features=6, max_leaf_nodes=10, total=   0.0s\n",
      "[CV] criterion=gini, max_depth=8.0, max_features=6, max_leaf_nodes=10 \n",
      "[CV]  criterion=gini, max_depth=8.0, max_features=6, max_leaf_nodes=10, total=   0.0s\n",
      "[CV] criterion=gini, max_depth=8.0, max_features=6, max_leaf_nodes=10 \n",
      "[CV]  criterion=gini, max_depth=8.0, max_features=6, max_leaf_nodes=10, total=   0.0s\n",
      "[CV] criterion=gini, max_depth=8.0, max_features=6, max_leaf_nodes=15 \n",
      "[CV]  criterion=gini, max_depth=8.0, max_features=6, max_leaf_nodes=15, total=   0.0s\n",
      "[CV] criterion=gini, max_depth=8.0, max_features=6, max_leaf_nodes=15 \n",
      "[CV]  criterion=gini, max_depth=8.0, max_features=6, max_leaf_nodes=15, total=   0.0s\n",
      "[CV] criterion=gini, max_depth=8.0, max_features=6, max_leaf_nodes=15 \n",
      "[CV]  criterion=gini, max_depth=8.0, max_features=6, max_leaf_nodes=15, total=   0.0s\n",
      "[CV] criterion=gini, max_depth=8.0, max_features=8, max_leaf_nodes=2 .\n",
      "[CV]  criterion=gini, max_depth=8.0, max_features=8, max_leaf_nodes=2, total=   0.0s\n",
      "[CV] criterion=gini, max_depth=8.0, max_features=8, max_leaf_nodes=2 .\n",
      "[CV]  criterion=gini, max_depth=8.0, max_features=8, max_leaf_nodes=2, total=   0.0s\n",
      "[CV] criterion=gini, max_depth=8.0, max_features=8, max_leaf_nodes=2 .\n",
      "[CV]  criterion=gini, max_depth=8.0, max_features=8, max_leaf_nodes=2, total=   0.0s\n",
      "[CV] criterion=gini, max_depth=8.0, max_features=8, max_leaf_nodes=5 .\n",
      "[CV]  criterion=gini, max_depth=8.0, max_features=8, max_leaf_nodes=5, total=   0.0s\n",
      "[CV] criterion=gini, max_depth=8.0, max_features=8, max_leaf_nodes=5 .\n",
      "[CV]  criterion=gini, max_depth=8.0, max_features=8, max_leaf_nodes=5, total=   0.0s\n",
      "[CV] criterion=gini, max_depth=8.0, max_features=8, max_leaf_nodes=5 .\n",
      "[CV]  criterion=gini, max_depth=8.0, max_features=8, max_leaf_nodes=5, total=   0.0s\n",
      "[CV] criterion=gini, max_depth=8.0, max_features=8, max_leaf_nodes=10 \n",
      "[CV]  criterion=gini, max_depth=8.0, max_features=8, max_leaf_nodes=10, total=   0.0s\n",
      "[CV] criterion=gini, max_depth=8.0, max_features=8, max_leaf_nodes=10 \n",
      "[CV]  criterion=gini, max_depth=8.0, max_features=8, max_leaf_nodes=10, total=   0.0s\n",
      "[CV] criterion=gini, max_depth=8.0, max_features=8, max_leaf_nodes=10 \n",
      "[CV]  criterion=gini, max_depth=8.0, max_features=8, max_leaf_nodes=10, total=   0.0s\n",
      "[CV] criterion=gini, max_depth=8.0, max_features=8, max_leaf_nodes=15 \n",
      "[CV]  criterion=gini, max_depth=8.0, max_features=8, max_leaf_nodes=15, total=   0.0s\n",
      "[CV] criterion=gini, max_depth=8.0, max_features=8, max_leaf_nodes=15 \n",
      "[CV]  criterion=gini, max_depth=8.0, max_features=8, max_leaf_nodes=15, total=   0.0s\n",
      "[CV] criterion=gini, max_depth=8.0, max_features=8, max_leaf_nodes=15 \n",
      "[CV]  criterion=gini, max_depth=8.0, max_features=8, max_leaf_nodes=15, total=   0.0s\n",
      "[CV] criterion=gini, max_depth=8.0, max_features=11, max_leaf_nodes=2 \n",
      "[CV]  criterion=gini, max_depth=8.0, max_features=11, max_leaf_nodes=2, total=   0.0s\n",
      "[CV] criterion=gini, max_depth=8.0, max_features=11, max_leaf_nodes=2 \n",
      "[CV]  criterion=gini, max_depth=8.0, max_features=11, max_leaf_nodes=2, total=   0.0s\n",
      "[CV] criterion=gini, max_depth=8.0, max_features=11, max_leaf_nodes=2 \n",
      "[CV]  criterion=gini, max_depth=8.0, max_features=11, max_leaf_nodes=2, total=   0.0s\n",
      "[CV] criterion=gini, max_depth=8.0, max_features=11, max_leaf_nodes=5 \n",
      "[CV]  criterion=gini, max_depth=8.0, max_features=11, max_leaf_nodes=5, total=   0.0s\n",
      "[CV] criterion=gini, max_depth=8.0, max_features=11, max_leaf_nodes=5 \n",
      "[CV]  criterion=gini, max_depth=8.0, max_features=11, max_leaf_nodes=5, total=   0.0s\n",
      "[CV] criterion=gini, max_depth=8.0, max_features=11, max_leaf_nodes=5 \n",
      "[CV]  criterion=gini, max_depth=8.0, max_features=11, max_leaf_nodes=5, total=   0.0s\n",
      "[CV] criterion=gini, max_depth=8.0, max_features=11, max_leaf_nodes=10 \n",
      "[CV]  criterion=gini, max_depth=8.0, max_features=11, max_leaf_nodes=10, total=   0.0s\n",
      "[CV] criterion=gini, max_depth=8.0, max_features=11, max_leaf_nodes=10 \n",
      "[CV]  criterion=gini, max_depth=8.0, max_features=11, max_leaf_nodes=10, total=   0.0s\n",
      "[CV] criterion=gini, max_depth=8.0, max_features=11, max_leaf_nodes=10 \n",
      "[CV]  criterion=gini, max_depth=8.0, max_features=11, max_leaf_nodes=10, total=   0.0s\n",
      "[CV] criterion=gini, max_depth=8.0, max_features=11, max_leaf_nodes=15 \n",
      "[CV]  criterion=gini, max_depth=8.0, max_features=11, max_leaf_nodes=15, total=   0.0s\n",
      "[CV] criterion=gini, max_depth=8.0, max_features=11, max_leaf_nodes=15 \n",
      "[CV]  criterion=gini, max_depth=8.0, max_features=11, max_leaf_nodes=15, total=   0.0s\n",
      "[CV] criterion=gini, max_depth=8.0, max_features=11, max_leaf_nodes=15 \n",
      "[CV]  criterion=gini, max_depth=8.0, max_features=11, max_leaf_nodes=15, total=   0.0s\n",
      "[CV] criterion=gini, max_depth=9.0, max_features=2, max_leaf_nodes=2 .\n",
      "[CV]  criterion=gini, max_depth=9.0, max_features=2, max_leaf_nodes=2, total=   0.0s\n",
      "[CV] criterion=gini, max_depth=9.0, max_features=2, max_leaf_nodes=2 .\n",
      "[CV]  criterion=gini, max_depth=9.0, max_features=2, max_leaf_nodes=2, total=   0.0s\n",
      "[CV] criterion=gini, max_depth=9.0, max_features=2, max_leaf_nodes=2 .\n",
      "[CV]  criterion=gini, max_depth=9.0, max_features=2, max_leaf_nodes=2, total=   0.0s\n",
      "[CV] criterion=gini, max_depth=9.0, max_features=2, max_leaf_nodes=5 .\n",
      "[CV]  criterion=gini, max_depth=9.0, max_features=2, max_leaf_nodes=5, total=   0.0s\n",
      "[CV] criterion=gini, max_depth=9.0, max_features=2, max_leaf_nodes=5 .\n",
      "[CV]  criterion=gini, max_depth=9.0, max_features=2, max_leaf_nodes=5, total=   0.0s\n",
      "[CV] criterion=gini, max_depth=9.0, max_features=2, max_leaf_nodes=5 .\n",
      "[CV]  criterion=gini, max_depth=9.0, max_features=2, max_leaf_nodes=5, total=   0.0s\n",
      "[CV] criterion=gini, max_depth=9.0, max_features=2, max_leaf_nodes=10 \n",
      "[CV]  criterion=gini, max_depth=9.0, max_features=2, max_leaf_nodes=10, total=   0.0s\n",
      "[CV] criterion=gini, max_depth=9.0, max_features=2, max_leaf_nodes=10 \n",
      "[CV]  criterion=gini, max_depth=9.0, max_features=2, max_leaf_nodes=10, total=   0.0s\n",
      "[CV] criterion=gini, max_depth=9.0, max_features=2, max_leaf_nodes=10 \n",
      "[CV]  criterion=gini, max_depth=9.0, max_features=2, max_leaf_nodes=10, total=   0.0s\n",
      "[CV] criterion=gini, max_depth=9.0, max_features=2, max_leaf_nodes=15 \n",
      "[CV]  criterion=gini, max_depth=9.0, max_features=2, max_leaf_nodes=15, total=   0.0s\n",
      "[CV] criterion=gini, max_depth=9.0, max_features=2, max_leaf_nodes=15 \n",
      "[CV]  criterion=gini, max_depth=9.0, max_features=2, max_leaf_nodes=15, total=   0.0s\n",
      "[CV] criterion=gini, max_depth=9.0, max_features=2, max_leaf_nodes=15 \n",
      "[CV]  criterion=gini, max_depth=9.0, max_features=2, max_leaf_nodes=15, total=   0.0s\n",
      "[CV] criterion=gini, max_depth=9.0, max_features=4, max_leaf_nodes=2 .\n",
      "[CV]  criterion=gini, max_depth=9.0, max_features=4, max_leaf_nodes=2, total=   0.0s\n",
      "[CV] criterion=gini, max_depth=9.0, max_features=4, max_leaf_nodes=2 .\n",
      "[CV]  criterion=gini, max_depth=9.0, max_features=4, max_leaf_nodes=2, total=   0.0s\n",
      "[CV] criterion=gini, max_depth=9.0, max_features=4, max_leaf_nodes=2 .\n",
      "[CV]  criterion=gini, max_depth=9.0, max_features=4, max_leaf_nodes=2, total=   0.0s\n",
      "[CV] criterion=gini, max_depth=9.0, max_features=4, max_leaf_nodes=5 .\n",
      "[CV]  criterion=gini, max_depth=9.0, max_features=4, max_leaf_nodes=5, total=   0.0s\n",
      "[CV] criterion=gini, max_depth=9.0, max_features=4, max_leaf_nodes=5 .\n",
      "[CV]  criterion=gini, max_depth=9.0, max_features=4, max_leaf_nodes=5, total=   0.0s\n",
      "[CV] criterion=gini, max_depth=9.0, max_features=4, max_leaf_nodes=5 .\n",
      "[CV]  criterion=gini, max_depth=9.0, max_features=4, max_leaf_nodes=5, total=   0.0s\n",
      "[CV] criterion=gini, max_depth=9.0, max_features=4, max_leaf_nodes=10 \n",
      "[CV]  criterion=gini, max_depth=9.0, max_features=4, max_leaf_nodes=10, total=   0.0s\n",
      "[CV] criterion=gini, max_depth=9.0, max_features=4, max_leaf_nodes=10 \n",
      "[CV]  criterion=gini, max_depth=9.0, max_features=4, max_leaf_nodes=10, total=   0.0s\n",
      "[CV] criterion=gini, max_depth=9.0, max_features=4, max_leaf_nodes=10 \n",
      "[CV]  criterion=gini, max_depth=9.0, max_features=4, max_leaf_nodes=10, total=   0.0s\n",
      "[CV] criterion=gini, max_depth=9.0, max_features=4, max_leaf_nodes=15 \n",
      "[CV]  criterion=gini, max_depth=9.0, max_features=4, max_leaf_nodes=15, total=   0.0s\n",
      "[CV] criterion=gini, max_depth=9.0, max_features=4, max_leaf_nodes=15 \n",
      "[CV]  criterion=gini, max_depth=9.0, max_features=4, max_leaf_nodes=15, total=   0.0s\n",
      "[CV] criterion=gini, max_depth=9.0, max_features=4, max_leaf_nodes=15 \n",
      "[CV]  criterion=gini, max_depth=9.0, max_features=4, max_leaf_nodes=15, total=   0.0s\n",
      "[CV] criterion=gini, max_depth=9.0, max_features=6, max_leaf_nodes=2 .\n",
      "[CV]  criterion=gini, max_depth=9.0, max_features=6, max_leaf_nodes=2, total=   0.0s\n",
      "[CV] criterion=gini, max_depth=9.0, max_features=6, max_leaf_nodes=2 .\n",
      "[CV]  criterion=gini, max_depth=9.0, max_features=6, max_leaf_nodes=2, total=   0.0s\n",
      "[CV] criterion=gini, max_depth=9.0, max_features=6, max_leaf_nodes=2 .\n",
      "[CV]  criterion=gini, max_depth=9.0, max_features=6, max_leaf_nodes=2, total=   0.0s\n",
      "[CV] criterion=gini, max_depth=9.0, max_features=6, max_leaf_nodes=5 .\n",
      "[CV]  criterion=gini, max_depth=9.0, max_features=6, max_leaf_nodes=5, total=   0.0s\n",
      "[CV] criterion=gini, max_depth=9.0, max_features=6, max_leaf_nodes=5 .\n",
      "[CV]  criterion=gini, max_depth=9.0, max_features=6, max_leaf_nodes=5, total=   0.0s\n",
      "[CV] criterion=gini, max_depth=9.0, max_features=6, max_leaf_nodes=5 .\n",
      "[CV]  criterion=gini, max_depth=9.0, max_features=6, max_leaf_nodes=5, total=   0.0s\n",
      "[CV] criterion=gini, max_depth=9.0, max_features=6, max_leaf_nodes=10 \n",
      "[CV]  criterion=gini, max_depth=9.0, max_features=6, max_leaf_nodes=10, total=   0.0s\n",
      "[CV] criterion=gini, max_depth=9.0, max_features=6, max_leaf_nodes=10 \n",
      "[CV]  criterion=gini, max_depth=9.0, max_features=6, max_leaf_nodes=10, total=   0.0s\n",
      "[CV] criterion=gini, max_depth=9.0, max_features=6, max_leaf_nodes=10 \n",
      "[CV]  criterion=gini, max_depth=9.0, max_features=6, max_leaf_nodes=10, total=   0.0s\n",
      "[CV] criterion=gini, max_depth=9.0, max_features=6, max_leaf_nodes=15 \n",
      "[CV]  criterion=gini, max_depth=9.0, max_features=6, max_leaf_nodes=15, total=   0.0s\n",
      "[CV] criterion=gini, max_depth=9.0, max_features=6, max_leaf_nodes=15 \n",
      "[CV]  criterion=gini, max_depth=9.0, max_features=6, max_leaf_nodes=15, total=   0.0s\n",
      "[CV] criterion=gini, max_depth=9.0, max_features=6, max_leaf_nodes=15 \n",
      "[CV]  criterion=gini, max_depth=9.0, max_features=6, max_leaf_nodes=15, total=   0.0s\n",
      "[CV] criterion=gini, max_depth=9.0, max_features=8, max_leaf_nodes=2 .\n",
      "[CV]  criterion=gini, max_depth=9.0, max_features=8, max_leaf_nodes=2, total=   0.0s\n",
      "[CV] criterion=gini, max_depth=9.0, max_features=8, max_leaf_nodes=2 .\n",
      "[CV]  criterion=gini, max_depth=9.0, max_features=8, max_leaf_nodes=2, total=   0.0s\n",
      "[CV] criterion=gini, max_depth=9.0, max_features=8, max_leaf_nodes=2 .\n",
      "[CV]  criterion=gini, max_depth=9.0, max_features=8, max_leaf_nodes=2, total=   0.0s\n",
      "[CV] criterion=gini, max_depth=9.0, max_features=8, max_leaf_nodes=5 .\n",
      "[CV]  criterion=gini, max_depth=9.0, max_features=8, max_leaf_nodes=5, total=   0.0s\n",
      "[CV] criterion=gini, max_depth=9.0, max_features=8, max_leaf_nodes=5 .\n",
      "[CV]  criterion=gini, max_depth=9.0, max_features=8, max_leaf_nodes=5, total=   0.0s\n",
      "[CV] criterion=gini, max_depth=9.0, max_features=8, max_leaf_nodes=5 .\n",
      "[CV]  criterion=gini, max_depth=9.0, max_features=8, max_leaf_nodes=5, total=   0.0s\n",
      "[CV] criterion=gini, max_depth=9.0, max_features=8, max_leaf_nodes=10 \n",
      "[CV]  criterion=gini, max_depth=9.0, max_features=8, max_leaf_nodes=10, total=   0.0s\n",
      "[CV] criterion=gini, max_depth=9.0, max_features=8, max_leaf_nodes=10 \n",
      "[CV]  criterion=gini, max_depth=9.0, max_features=8, max_leaf_nodes=10, total=   0.0s\n",
      "[CV] criterion=gini, max_depth=9.0, max_features=8, max_leaf_nodes=10 \n",
      "[CV]  criterion=gini, max_depth=9.0, max_features=8, max_leaf_nodes=10, total=   0.0s\n",
      "[CV] criterion=gini, max_depth=9.0, max_features=8, max_leaf_nodes=15 \n",
      "[CV]  criterion=gini, max_depth=9.0, max_features=8, max_leaf_nodes=15, total=   0.0s\n",
      "[CV] criterion=gini, max_depth=9.0, max_features=8, max_leaf_nodes=15 \n",
      "[CV]  criterion=gini, max_depth=9.0, max_features=8, max_leaf_nodes=15, total=   0.0s\n",
      "[CV] criterion=gini, max_depth=9.0, max_features=8, max_leaf_nodes=15 \n",
      "[CV]  criterion=gini, max_depth=9.0, max_features=8, max_leaf_nodes=15, total=   0.0s\n",
      "[CV] criterion=gini, max_depth=9.0, max_features=11, max_leaf_nodes=2 \n",
      "[CV]  criterion=gini, max_depth=9.0, max_features=11, max_leaf_nodes=2, total=   0.0s\n",
      "[CV] criterion=gini, max_depth=9.0, max_features=11, max_leaf_nodes=2 \n",
      "[CV]  criterion=gini, max_depth=9.0, max_features=11, max_leaf_nodes=2, total=   0.0s\n",
      "[CV] criterion=gini, max_depth=9.0, max_features=11, max_leaf_nodes=2 \n",
      "[CV]  criterion=gini, max_depth=9.0, max_features=11, max_leaf_nodes=2, total=   0.0s\n",
      "[CV] criterion=gini, max_depth=9.0, max_features=11, max_leaf_nodes=5 \n",
      "[CV]  criterion=gini, max_depth=9.0, max_features=11, max_leaf_nodes=5, total=   0.0s\n",
      "[CV] criterion=gini, max_depth=9.0, max_features=11, max_leaf_nodes=5 \n",
      "[CV]  criterion=gini, max_depth=9.0, max_features=11, max_leaf_nodes=5, total=   0.0s\n",
      "[CV] criterion=gini, max_depth=9.0, max_features=11, max_leaf_nodes=5 \n",
      "[CV]  criterion=gini, max_depth=9.0, max_features=11, max_leaf_nodes=5, total=   0.0s\n",
      "[CV] criterion=gini, max_depth=9.0, max_features=11, max_leaf_nodes=10 \n",
      "[CV]  criterion=gini, max_depth=9.0, max_features=11, max_leaf_nodes=10, total=   0.0s\n",
      "[CV] criterion=gini, max_depth=9.0, max_features=11, max_leaf_nodes=10 \n",
      "[CV]  criterion=gini, max_depth=9.0, max_features=11, max_leaf_nodes=10, total=   0.0s\n",
      "[CV] criterion=gini, max_depth=9.0, max_features=11, max_leaf_nodes=10 \n",
      "[CV]  criterion=gini, max_depth=9.0, max_features=11, max_leaf_nodes=10, total=   0.0s\n",
      "[CV] criterion=gini, max_depth=9.0, max_features=11, max_leaf_nodes=15 \n",
      "[CV]  criterion=gini, max_depth=9.0, max_features=11, max_leaf_nodes=15, total=   0.0s\n",
      "[CV] criterion=gini, max_depth=9.0, max_features=11, max_leaf_nodes=15 \n",
      "[CV]  criterion=gini, max_depth=9.0, max_features=11, max_leaf_nodes=15, total=   0.0s\n",
      "[CV] criterion=gini, max_depth=9.0, max_features=11, max_leaf_nodes=15 \n",
      "[CV]  criterion=gini, max_depth=9.0, max_features=11, max_leaf_nodes=15, total=   0.0s\n",
      "[CV] criterion=gini, max_depth=10.0, max_features=2, max_leaf_nodes=2 \n",
      "[CV]  criterion=gini, max_depth=10.0, max_features=2, max_leaf_nodes=2, total=   0.0s\n",
      "[CV] criterion=gini, max_depth=10.0, max_features=2, max_leaf_nodes=2 \n",
      "[CV]  criterion=gini, max_depth=10.0, max_features=2, max_leaf_nodes=2, total=   0.0s\n",
      "[CV] criterion=gini, max_depth=10.0, max_features=2, max_leaf_nodes=2 \n",
      "[CV]  criterion=gini, max_depth=10.0, max_features=2, max_leaf_nodes=2, total=   0.0s\n",
      "[CV] criterion=gini, max_depth=10.0, max_features=2, max_leaf_nodes=5 \n",
      "[CV]  criterion=gini, max_depth=10.0, max_features=2, max_leaf_nodes=5, total=   0.0s\n",
      "[CV] criterion=gini, max_depth=10.0, max_features=2, max_leaf_nodes=5 \n",
      "[CV]  criterion=gini, max_depth=10.0, max_features=2, max_leaf_nodes=5, total=   0.0s\n",
      "[CV] criterion=gini, max_depth=10.0, max_features=2, max_leaf_nodes=5 \n",
      "[CV]  criterion=gini, max_depth=10.0, max_features=2, max_leaf_nodes=5, total=   0.0s\n",
      "[CV] criterion=gini, max_depth=10.0, max_features=2, max_leaf_nodes=10 \n",
      "[CV]  criterion=gini, max_depth=10.0, max_features=2, max_leaf_nodes=10, total=   0.0s\n",
      "[CV] criterion=gini, max_depth=10.0, max_features=2, max_leaf_nodes=10 \n",
      "[CV]  criterion=gini, max_depth=10.0, max_features=2, max_leaf_nodes=10, total=   0.0s\n",
      "[CV] criterion=gini, max_depth=10.0, max_features=2, max_leaf_nodes=10 \n",
      "[CV]  criterion=gini, max_depth=10.0, max_features=2, max_leaf_nodes=10, total=   0.0s\n",
      "[CV] criterion=gini, max_depth=10.0, max_features=2, max_leaf_nodes=15 \n",
      "[CV]  criterion=gini, max_depth=10.0, max_features=2, max_leaf_nodes=15, total=   0.0s\n",
      "[CV] criterion=gini, max_depth=10.0, max_features=2, max_leaf_nodes=15 \n",
      "[CV]  criterion=gini, max_depth=10.0, max_features=2, max_leaf_nodes=15, total=   0.0s\n",
      "[CV] criterion=gini, max_depth=10.0, max_features=2, max_leaf_nodes=15 \n",
      "[CV]  criterion=gini, max_depth=10.0, max_features=2, max_leaf_nodes=15, total=   0.0s\n",
      "[CV] criterion=gini, max_depth=10.0, max_features=4, max_leaf_nodes=2 \n",
      "[CV]  criterion=gini, max_depth=10.0, max_features=4, max_leaf_nodes=2, total=   0.0s\n",
      "[CV] criterion=gini, max_depth=10.0, max_features=4, max_leaf_nodes=2 \n",
      "[CV]  criterion=gini, max_depth=10.0, max_features=4, max_leaf_nodes=2, total=   0.0s\n",
      "[CV] criterion=gini, max_depth=10.0, max_features=4, max_leaf_nodes=2 \n",
      "[CV]  criterion=gini, max_depth=10.0, max_features=4, max_leaf_nodes=2, total=   0.0s\n",
      "[CV] criterion=gini, max_depth=10.0, max_features=4, max_leaf_nodes=5 \n",
      "[CV]  criterion=gini, max_depth=10.0, max_features=4, max_leaf_nodes=5, total=   0.0s\n",
      "[CV] criterion=gini, max_depth=10.0, max_features=4, max_leaf_nodes=5 \n",
      "[CV]  criterion=gini, max_depth=10.0, max_features=4, max_leaf_nodes=5, total=   0.0s\n",
      "[CV] criterion=gini, max_depth=10.0, max_features=4, max_leaf_nodes=5 \n",
      "[CV]  criterion=gini, max_depth=10.0, max_features=4, max_leaf_nodes=5, total=   0.0s\n",
      "[CV] criterion=gini, max_depth=10.0, max_features=4, max_leaf_nodes=10 \n",
      "[CV]  criterion=gini, max_depth=10.0, max_features=4, max_leaf_nodes=10, total=   0.0s\n",
      "[CV] criterion=gini, max_depth=10.0, max_features=4, max_leaf_nodes=10 \n",
      "[CV]  criterion=gini, max_depth=10.0, max_features=4, max_leaf_nodes=10, total=   0.0s\n",
      "[CV] criterion=gini, max_depth=10.0, max_features=4, max_leaf_nodes=10 \n",
      "[CV]  criterion=gini, max_depth=10.0, max_features=4, max_leaf_nodes=10, total=   0.0s\n",
      "[CV] criterion=gini, max_depth=10.0, max_features=4, max_leaf_nodes=15 \n",
      "[CV]  criterion=gini, max_depth=10.0, max_features=4, max_leaf_nodes=15, total=   0.0s\n",
      "[CV] criterion=gini, max_depth=10.0, max_features=4, max_leaf_nodes=15 \n",
      "[CV]  criterion=gini, max_depth=10.0, max_features=4, max_leaf_nodes=15, total=   0.0s\n",
      "[CV] criterion=gini, max_depth=10.0, max_features=4, max_leaf_nodes=15 \n",
      "[CV]  criterion=gini, max_depth=10.0, max_features=4, max_leaf_nodes=15, total=   0.0s\n",
      "[CV] criterion=gini, max_depth=10.0, max_features=6, max_leaf_nodes=2 \n",
      "[CV]  criterion=gini, max_depth=10.0, max_features=6, max_leaf_nodes=2, total=   0.0s\n",
      "[CV] criterion=gini, max_depth=10.0, max_features=6, max_leaf_nodes=2 \n",
      "[CV]  criterion=gini, max_depth=10.0, max_features=6, max_leaf_nodes=2, total=   0.0s\n",
      "[CV] criterion=gini, max_depth=10.0, max_features=6, max_leaf_nodes=2 \n",
      "[CV]  criterion=gini, max_depth=10.0, max_features=6, max_leaf_nodes=2, total=   0.0s\n",
      "[CV] criterion=gini, max_depth=10.0, max_features=6, max_leaf_nodes=5 \n",
      "[CV]  criterion=gini, max_depth=10.0, max_features=6, max_leaf_nodes=5, total=   0.0s\n",
      "[CV] criterion=gini, max_depth=10.0, max_features=6, max_leaf_nodes=5 \n",
      "[CV]  criterion=gini, max_depth=10.0, max_features=6, max_leaf_nodes=5, total=   0.0s\n",
      "[CV] criterion=gini, max_depth=10.0, max_features=6, max_leaf_nodes=5 \n",
      "[CV]  criterion=gini, max_depth=10.0, max_features=6, max_leaf_nodes=5, total=   0.0s\n",
      "[CV] criterion=gini, max_depth=10.0, max_features=6, max_leaf_nodes=10 \n",
      "[CV]  criterion=gini, max_depth=10.0, max_features=6, max_leaf_nodes=10, total=   0.0s\n",
      "[CV] criterion=gini, max_depth=10.0, max_features=6, max_leaf_nodes=10 \n",
      "[CV]  criterion=gini, max_depth=10.0, max_features=6, max_leaf_nodes=10, total=   0.0s\n",
      "[CV] criterion=gini, max_depth=10.0, max_features=6, max_leaf_nodes=10 \n",
      "[CV]  criterion=gini, max_depth=10.0, max_features=6, max_leaf_nodes=10, total=   0.0s\n",
      "[CV] criterion=gini, max_depth=10.0, max_features=6, max_leaf_nodes=15 \n",
      "[CV]  criterion=gini, max_depth=10.0, max_features=6, max_leaf_nodes=15, total=   0.0s\n",
      "[CV] criterion=gini, max_depth=10.0, max_features=6, max_leaf_nodes=15 \n",
      "[CV]  criterion=gini, max_depth=10.0, max_features=6, max_leaf_nodes=15, total=   0.0s\n",
      "[CV] criterion=gini, max_depth=10.0, max_features=6, max_leaf_nodes=15 \n",
      "[CV]  criterion=gini, max_depth=10.0, max_features=6, max_leaf_nodes=15, total=   0.0s\n",
      "[CV] criterion=gini, max_depth=10.0, max_features=8, max_leaf_nodes=2 \n",
      "[CV]  criterion=gini, max_depth=10.0, max_features=8, max_leaf_nodes=2, total=   0.0s\n",
      "[CV] criterion=gini, max_depth=10.0, max_features=8, max_leaf_nodes=2 \n",
      "[CV]  criterion=gini, max_depth=10.0, max_features=8, max_leaf_nodes=2, total=   0.0s\n",
      "[CV] criterion=gini, max_depth=10.0, max_features=8, max_leaf_nodes=2 \n",
      "[CV]  criterion=gini, max_depth=10.0, max_features=8, max_leaf_nodes=2, total=   0.0s\n",
      "[CV] criterion=gini, max_depth=10.0, max_features=8, max_leaf_nodes=5 \n",
      "[CV]  criterion=gini, max_depth=10.0, max_features=8, max_leaf_nodes=5, total=   0.0s\n",
      "[CV] criterion=gini, max_depth=10.0, max_features=8, max_leaf_nodes=5 \n",
      "[CV]  criterion=gini, max_depth=10.0, max_features=8, max_leaf_nodes=5, total=   0.0s\n",
      "[CV] criterion=gini, max_depth=10.0, max_features=8, max_leaf_nodes=5 \n",
      "[CV]  criterion=gini, max_depth=10.0, max_features=8, max_leaf_nodes=5, total=   0.0s\n",
      "[CV] criterion=gini, max_depth=10.0, max_features=8, max_leaf_nodes=10 \n",
      "[CV]  criterion=gini, max_depth=10.0, max_features=8, max_leaf_nodes=10, total=   0.0s\n",
      "[CV] criterion=gini, max_depth=10.0, max_features=8, max_leaf_nodes=10 \n",
      "[CV]  criterion=gini, max_depth=10.0, max_features=8, max_leaf_nodes=10, total=   0.0s\n",
      "[CV] criterion=gini, max_depth=10.0, max_features=8, max_leaf_nodes=10 \n",
      "[CV]  criterion=gini, max_depth=10.0, max_features=8, max_leaf_nodes=10, total=   0.0s\n",
      "[CV] criterion=gini, max_depth=10.0, max_features=8, max_leaf_nodes=15 \n",
      "[CV]  criterion=gini, max_depth=10.0, max_features=8, max_leaf_nodes=15, total=   0.0s\n",
      "[CV] criterion=gini, max_depth=10.0, max_features=8, max_leaf_nodes=15 \n",
      "[CV]  criterion=gini, max_depth=10.0, max_features=8, max_leaf_nodes=15, total=   0.0s\n",
      "[CV] criterion=gini, max_depth=10.0, max_features=8, max_leaf_nodes=15 \n",
      "[CV]  criterion=gini, max_depth=10.0, max_features=8, max_leaf_nodes=15, total=   0.0s\n",
      "[CV] criterion=gini, max_depth=10.0, max_features=11, max_leaf_nodes=2 \n",
      "[CV]  criterion=gini, max_depth=10.0, max_features=11, max_leaf_nodes=2, total=   0.0s\n",
      "[CV] criterion=gini, max_depth=10.0, max_features=11, max_leaf_nodes=2 \n",
      "[CV]  criterion=gini, max_depth=10.0, max_features=11, max_leaf_nodes=2, total=   0.0s\n",
      "[CV] criterion=gini, max_depth=10.0, max_features=11, max_leaf_nodes=2 \n",
      "[CV]  criterion=gini, max_depth=10.0, max_features=11, max_leaf_nodes=2, total=   0.0s\n",
      "[CV] criterion=gini, max_depth=10.0, max_features=11, max_leaf_nodes=5 \n",
      "[CV]  criterion=gini, max_depth=10.0, max_features=11, max_leaf_nodes=5, total=   0.0s\n",
      "[CV] criterion=gini, max_depth=10.0, max_features=11, max_leaf_nodes=5 \n",
      "[CV]  criterion=gini, max_depth=10.0, max_features=11, max_leaf_nodes=5, total=   0.0s\n",
      "[CV] criterion=gini, max_depth=10.0, max_features=11, max_leaf_nodes=5 \n",
      "[CV]  criterion=gini, max_depth=10.0, max_features=11, max_leaf_nodes=5, total=   0.0s\n",
      "[CV] criterion=gini, max_depth=10.0, max_features=11, max_leaf_nodes=10 \n",
      "[CV]  criterion=gini, max_depth=10.0, max_features=11, max_leaf_nodes=10, total=   0.0s\n",
      "[CV] criterion=gini, max_depth=10.0, max_features=11, max_leaf_nodes=10 \n",
      "[CV]  criterion=gini, max_depth=10.0, max_features=11, max_leaf_nodes=10, total=   0.0s\n",
      "[CV] criterion=gini, max_depth=10.0, max_features=11, max_leaf_nodes=10 \n",
      "[CV]  criterion=gini, max_depth=10.0, max_features=11, max_leaf_nodes=10, total=   0.0s\n",
      "[CV] criterion=gini, max_depth=10.0, max_features=11, max_leaf_nodes=15 \n",
      "[CV]  criterion=gini, max_depth=10.0, max_features=11, max_leaf_nodes=15, total=   0.0s\n",
      "[CV] criterion=gini, max_depth=10.0, max_features=11, max_leaf_nodes=15 \n",
      "[CV]  criterion=gini, max_depth=10.0, max_features=11, max_leaf_nodes=15, total=   0.0s\n",
      "[CV] criterion=gini, max_depth=10.0, max_features=11, max_leaf_nodes=15 \n",
      "[CV]  criterion=gini, max_depth=10.0, max_features=11, max_leaf_nodes=15, total=   0.0s\n",
      "[CV] criterion=entropy, max_depth=1.0, max_features=2, max_leaf_nodes=2 \n",
      "[CV]  criterion=entropy, max_depth=1.0, max_features=2, max_leaf_nodes=2, total=   0.0s\n",
      "[CV] criterion=entropy, max_depth=1.0, max_features=2, max_leaf_nodes=2 \n",
      "[CV]  criterion=entropy, max_depth=1.0, max_features=2, max_leaf_nodes=2, total=   0.0s\n",
      "[CV] criterion=entropy, max_depth=1.0, max_features=2, max_leaf_nodes=2 \n",
      "[CV]  criterion=entropy, max_depth=1.0, max_features=2, max_leaf_nodes=2, total=   0.0s\n",
      "[CV] criterion=entropy, max_depth=1.0, max_features=2, max_leaf_nodes=5 \n",
      "[CV]  criterion=entropy, max_depth=1.0, max_features=2, max_leaf_nodes=5, total=   0.0s\n",
      "[CV] criterion=entropy, max_depth=1.0, max_features=2, max_leaf_nodes=5 \n",
      "[CV]  criterion=entropy, max_depth=1.0, max_features=2, max_leaf_nodes=5, total=   0.0s\n",
      "[CV] criterion=entropy, max_depth=1.0, max_features=2, max_leaf_nodes=5 \n",
      "[CV]  criterion=entropy, max_depth=1.0, max_features=2, max_leaf_nodes=5, total=   0.0s\n",
      "[CV] criterion=entropy, max_depth=1.0, max_features=2, max_leaf_nodes=10 \n",
      "[CV]  criterion=entropy, max_depth=1.0, max_features=2, max_leaf_nodes=10, total=   0.0s\n",
      "[CV] criterion=entropy, max_depth=1.0, max_features=2, max_leaf_nodes=10 \n",
      "[CV]  criterion=entropy, max_depth=1.0, max_features=2, max_leaf_nodes=10, total=   0.0s\n",
      "[CV] criterion=entropy, max_depth=1.0, max_features=2, max_leaf_nodes=10 \n",
      "[CV]  criterion=entropy, max_depth=1.0, max_features=2, max_leaf_nodes=10, total=   0.0s\n",
      "[CV] criterion=entropy, max_depth=1.0, max_features=2, max_leaf_nodes=15 \n",
      "[CV]  criterion=entropy, max_depth=1.0, max_features=2, max_leaf_nodes=15, total=   0.0s\n",
      "[CV] criterion=entropy, max_depth=1.0, max_features=2, max_leaf_nodes=15 \n",
      "[CV]  criterion=entropy, max_depth=1.0, max_features=2, max_leaf_nodes=15, total=   0.0s\n",
      "[CV] criterion=entropy, max_depth=1.0, max_features=2, max_leaf_nodes=15 \n",
      "[CV]  criterion=entropy, max_depth=1.0, max_features=2, max_leaf_nodes=15, total=   0.0s\n",
      "[CV] criterion=entropy, max_depth=1.0, max_features=4, max_leaf_nodes=2 \n",
      "[CV]  criterion=entropy, max_depth=1.0, max_features=4, max_leaf_nodes=2, total=   0.0s\n",
      "[CV] criterion=entropy, max_depth=1.0, max_features=4, max_leaf_nodes=2 \n",
      "[CV]  criterion=entropy, max_depth=1.0, max_features=4, max_leaf_nodes=2, total=   0.0s\n",
      "[CV] criterion=entropy, max_depth=1.0, max_features=4, max_leaf_nodes=2 \n",
      "[CV]  criterion=entropy, max_depth=1.0, max_features=4, max_leaf_nodes=2, total=   0.0s\n",
      "[CV] criterion=entropy, max_depth=1.0, max_features=4, max_leaf_nodes=5 \n",
      "[CV]  criterion=entropy, max_depth=1.0, max_features=4, max_leaf_nodes=5, total=   0.0s\n",
      "[CV] criterion=entropy, max_depth=1.0, max_features=4, max_leaf_nodes=5 \n",
      "[CV]  criterion=entropy, max_depth=1.0, max_features=4, max_leaf_nodes=5, total=   0.0s\n",
      "[CV] criterion=entropy, max_depth=1.0, max_features=4, max_leaf_nodes=5 \n",
      "[CV]  criterion=entropy, max_depth=1.0, max_features=4, max_leaf_nodes=5, total=   0.0s\n",
      "[CV] criterion=entropy, max_depth=1.0, max_features=4, max_leaf_nodes=10 \n",
      "[CV]  criterion=entropy, max_depth=1.0, max_features=4, max_leaf_nodes=10, total=   0.0s\n",
      "[CV] criterion=entropy, max_depth=1.0, max_features=4, max_leaf_nodes=10 \n",
      "[CV]  criterion=entropy, max_depth=1.0, max_features=4, max_leaf_nodes=10, total=   0.0s\n",
      "[CV] criterion=entropy, max_depth=1.0, max_features=4, max_leaf_nodes=10 \n",
      "[CV]  criterion=entropy, max_depth=1.0, max_features=4, max_leaf_nodes=10, total=   0.0s\n",
      "[CV] criterion=entropy, max_depth=1.0, max_features=4, max_leaf_nodes=15 \n",
      "[CV]  criterion=entropy, max_depth=1.0, max_features=4, max_leaf_nodes=15, total=   0.0s\n",
      "[CV] criterion=entropy, max_depth=1.0, max_features=4, max_leaf_nodes=15 \n",
      "[CV]  criterion=entropy, max_depth=1.0, max_features=4, max_leaf_nodes=15, total=   0.0s\n",
      "[CV] criterion=entropy, max_depth=1.0, max_features=4, max_leaf_nodes=15 \n",
      "[CV]  criterion=entropy, max_depth=1.0, max_features=4, max_leaf_nodes=15, total=   0.0s\n",
      "[CV] criterion=entropy, max_depth=1.0, max_features=6, max_leaf_nodes=2 \n",
      "[CV]  criterion=entropy, max_depth=1.0, max_features=6, max_leaf_nodes=2, total=   0.0s\n",
      "[CV] criterion=entropy, max_depth=1.0, max_features=6, max_leaf_nodes=2 \n",
      "[CV]  criterion=entropy, max_depth=1.0, max_features=6, max_leaf_nodes=2, total=   0.0s\n",
      "[CV] criterion=entropy, max_depth=1.0, max_features=6, max_leaf_nodes=2 \n",
      "[CV]  criterion=entropy, max_depth=1.0, max_features=6, max_leaf_nodes=2, total=   0.0s\n",
      "[CV] criterion=entropy, max_depth=1.0, max_features=6, max_leaf_nodes=5 \n",
      "[CV]  criterion=entropy, max_depth=1.0, max_features=6, max_leaf_nodes=5, total=   0.0s\n",
      "[CV] criterion=entropy, max_depth=1.0, max_features=6, max_leaf_nodes=5 \n",
      "[CV]  criterion=entropy, max_depth=1.0, max_features=6, max_leaf_nodes=5, total=   0.0s\n",
      "[CV] criterion=entropy, max_depth=1.0, max_features=6, max_leaf_nodes=5 \n",
      "[CV]  criterion=entropy, max_depth=1.0, max_features=6, max_leaf_nodes=5, total=   0.0s\n",
      "[CV] criterion=entropy, max_depth=1.0, max_features=6, max_leaf_nodes=10 \n",
      "[CV]  criterion=entropy, max_depth=1.0, max_features=6, max_leaf_nodes=10, total=   0.0s\n",
      "[CV] criterion=entropy, max_depth=1.0, max_features=6, max_leaf_nodes=10 \n",
      "[CV]  criterion=entropy, max_depth=1.0, max_features=6, max_leaf_nodes=10, total=   0.0s\n",
      "[CV] criterion=entropy, max_depth=1.0, max_features=6, max_leaf_nodes=10 \n",
      "[CV]  criterion=entropy, max_depth=1.0, max_features=6, max_leaf_nodes=10, total=   0.0s\n",
      "[CV] criterion=entropy, max_depth=1.0, max_features=6, max_leaf_nodes=15 \n",
      "[CV]  criterion=entropy, max_depth=1.0, max_features=6, max_leaf_nodes=15, total=   0.0s\n",
      "[CV] criterion=entropy, max_depth=1.0, max_features=6, max_leaf_nodes=15 \n",
      "[CV]  criterion=entropy, max_depth=1.0, max_features=6, max_leaf_nodes=15, total=   0.0s\n",
      "[CV] criterion=entropy, max_depth=1.0, max_features=6, max_leaf_nodes=15 \n",
      "[CV]  criterion=entropy, max_depth=1.0, max_features=6, max_leaf_nodes=15, total=   0.0s\n",
      "[CV] criterion=entropy, max_depth=1.0, max_features=8, max_leaf_nodes=2 \n",
      "[CV]  criterion=entropy, max_depth=1.0, max_features=8, max_leaf_nodes=2, total=   0.0s\n",
      "[CV] criterion=entropy, max_depth=1.0, max_features=8, max_leaf_nodes=2 \n",
      "[CV]  criterion=entropy, max_depth=1.0, max_features=8, max_leaf_nodes=2, total=   0.0s\n",
      "[CV] criterion=entropy, max_depth=1.0, max_features=8, max_leaf_nodes=2 \n",
      "[CV]  criterion=entropy, max_depth=1.0, max_features=8, max_leaf_nodes=2, total=   0.0s\n",
      "[CV] criterion=entropy, max_depth=1.0, max_features=8, max_leaf_nodes=5 \n",
      "[CV]  criterion=entropy, max_depth=1.0, max_features=8, max_leaf_nodes=5, total=   0.0s\n",
      "[CV] criterion=entropy, max_depth=1.0, max_features=8, max_leaf_nodes=5 \n",
      "[CV]  criterion=entropy, max_depth=1.0, max_features=8, max_leaf_nodes=5, total=   0.0s\n",
      "[CV] criterion=entropy, max_depth=1.0, max_features=8, max_leaf_nodes=5 \n",
      "[CV]  criterion=entropy, max_depth=1.0, max_features=8, max_leaf_nodes=5, total=   0.0s\n",
      "[CV] criterion=entropy, max_depth=1.0, max_features=8, max_leaf_nodes=10 \n",
      "[CV]  criterion=entropy, max_depth=1.0, max_features=8, max_leaf_nodes=10, total=   0.0s\n",
      "[CV] criterion=entropy, max_depth=1.0, max_features=8, max_leaf_nodes=10 \n",
      "[CV]  criterion=entropy, max_depth=1.0, max_features=8, max_leaf_nodes=10, total=   0.0s\n",
      "[CV] criterion=entropy, max_depth=1.0, max_features=8, max_leaf_nodes=10 \n",
      "[CV]  criterion=entropy, max_depth=1.0, max_features=8, max_leaf_nodes=10, total=   0.0s\n",
      "[CV] criterion=entropy, max_depth=1.0, max_features=8, max_leaf_nodes=15 \n",
      "[CV]  criterion=entropy, max_depth=1.0, max_features=8, max_leaf_nodes=15, total=   0.0s\n",
      "[CV] criterion=entropy, max_depth=1.0, max_features=8, max_leaf_nodes=15 \n",
      "[CV]  criterion=entropy, max_depth=1.0, max_features=8, max_leaf_nodes=15, total=   0.0s\n",
      "[CV] criterion=entropy, max_depth=1.0, max_features=8, max_leaf_nodes=15 \n",
      "[CV]  criterion=entropy, max_depth=1.0, max_features=8, max_leaf_nodes=15, total=   0.0s\n",
      "[CV] criterion=entropy, max_depth=1.0, max_features=11, max_leaf_nodes=2 \n",
      "[CV]  criterion=entropy, max_depth=1.0, max_features=11, max_leaf_nodes=2, total=   0.0s\n",
      "[CV] criterion=entropy, max_depth=1.0, max_features=11, max_leaf_nodes=2 \n",
      "[CV]  criterion=entropy, max_depth=1.0, max_features=11, max_leaf_nodes=2, total=   0.0s\n",
      "[CV] criterion=entropy, max_depth=1.0, max_features=11, max_leaf_nodes=2 \n",
      "[CV]  criterion=entropy, max_depth=1.0, max_features=11, max_leaf_nodes=2, total=   0.0s\n",
      "[CV] criterion=entropy, max_depth=1.0, max_features=11, max_leaf_nodes=5 \n",
      "[CV]  criterion=entropy, max_depth=1.0, max_features=11, max_leaf_nodes=5, total=   0.0s\n",
      "[CV] criterion=entropy, max_depth=1.0, max_features=11, max_leaf_nodes=5 \n",
      "[CV]  criterion=entropy, max_depth=1.0, max_features=11, max_leaf_nodes=5, total=   0.0s\n",
      "[CV] criterion=entropy, max_depth=1.0, max_features=11, max_leaf_nodes=5 \n",
      "[CV]  criterion=entropy, max_depth=1.0, max_features=11, max_leaf_nodes=5, total=   0.0s\n",
      "[CV] criterion=entropy, max_depth=1.0, max_features=11, max_leaf_nodes=10 \n",
      "[CV]  criterion=entropy, max_depth=1.0, max_features=11, max_leaf_nodes=10, total=   0.0s\n",
      "[CV] criterion=entropy, max_depth=1.0, max_features=11, max_leaf_nodes=10 \n",
      "[CV]  criterion=entropy, max_depth=1.0, max_features=11, max_leaf_nodes=10, total=   0.0s\n",
      "[CV] criterion=entropy, max_depth=1.0, max_features=11, max_leaf_nodes=10 \n",
      "[CV]  criterion=entropy, max_depth=1.0, max_features=11, max_leaf_nodes=10, total=   0.0s\n",
      "[CV] criterion=entropy, max_depth=1.0, max_features=11, max_leaf_nodes=15 \n",
      "[CV]  criterion=entropy, max_depth=1.0, max_features=11, max_leaf_nodes=15, total=   0.0s\n",
      "[CV] criterion=entropy, max_depth=1.0, max_features=11, max_leaf_nodes=15 \n",
      "[CV]  criterion=entropy, max_depth=1.0, max_features=11, max_leaf_nodes=15, total=   0.0s\n",
      "[CV] criterion=entropy, max_depth=1.0, max_features=11, max_leaf_nodes=15 \n",
      "[CV]  criterion=entropy, max_depth=1.0, max_features=11, max_leaf_nodes=15, total=   0.0s\n",
      "[CV] criterion=entropy, max_depth=2.0, max_features=2, max_leaf_nodes=2 \n",
      "[CV]  criterion=entropy, max_depth=2.0, max_features=2, max_leaf_nodes=2, total=   0.0s\n",
      "[CV] criterion=entropy, max_depth=2.0, max_features=2, max_leaf_nodes=2 \n",
      "[CV]  criterion=entropy, max_depth=2.0, max_features=2, max_leaf_nodes=2, total=   0.0s\n",
      "[CV] criterion=entropy, max_depth=2.0, max_features=2, max_leaf_nodes=2 \n",
      "[CV]  criterion=entropy, max_depth=2.0, max_features=2, max_leaf_nodes=2, total=   0.0s\n",
      "[CV] criterion=entropy, max_depth=2.0, max_features=2, max_leaf_nodes=5 \n",
      "[CV]  criterion=entropy, max_depth=2.0, max_features=2, max_leaf_nodes=5, total=   0.0s\n",
      "[CV] criterion=entropy, max_depth=2.0, max_features=2, max_leaf_nodes=5 \n",
      "[CV]  criterion=entropy, max_depth=2.0, max_features=2, max_leaf_nodes=5, total=   0.0s\n",
      "[CV] criterion=entropy, max_depth=2.0, max_features=2, max_leaf_nodes=5 \n",
      "[CV]  criterion=entropy, max_depth=2.0, max_features=2, max_leaf_nodes=5, total=   0.0s\n",
      "[CV] criterion=entropy, max_depth=2.0, max_features=2, max_leaf_nodes=10 \n",
      "[CV]  criterion=entropy, max_depth=2.0, max_features=2, max_leaf_nodes=10, total=   0.0s\n",
      "[CV] criterion=entropy, max_depth=2.0, max_features=2, max_leaf_nodes=10 \n",
      "[CV]  criterion=entropy, max_depth=2.0, max_features=2, max_leaf_nodes=10, total=   0.0s\n",
      "[CV] criterion=entropy, max_depth=2.0, max_features=2, max_leaf_nodes=10 \n",
      "[CV]  criterion=entropy, max_depth=2.0, max_features=2, max_leaf_nodes=10, total=   0.0s\n",
      "[CV] criterion=entropy, max_depth=2.0, max_features=2, max_leaf_nodes=15 \n",
      "[CV]  criterion=entropy, max_depth=2.0, max_features=2, max_leaf_nodes=15, total=   0.0s\n",
      "[CV] criterion=entropy, max_depth=2.0, max_features=2, max_leaf_nodes=15 \n",
      "[CV]  criterion=entropy, max_depth=2.0, max_features=2, max_leaf_nodes=15, total=   0.0s\n",
      "[CV] criterion=entropy, max_depth=2.0, max_features=2, max_leaf_nodes=15 \n",
      "[CV]  criterion=entropy, max_depth=2.0, max_features=2, max_leaf_nodes=15, total=   0.0s\n",
      "[CV] criterion=entropy, max_depth=2.0, max_features=4, max_leaf_nodes=2 \n",
      "[CV]  criterion=entropy, max_depth=2.0, max_features=4, max_leaf_nodes=2, total=   0.0s\n",
      "[CV] criterion=entropy, max_depth=2.0, max_features=4, max_leaf_nodes=2 \n",
      "[CV]  criterion=entropy, max_depth=2.0, max_features=4, max_leaf_nodes=2, total=   0.0s\n",
      "[CV] criterion=entropy, max_depth=2.0, max_features=4, max_leaf_nodes=2 \n",
      "[CV]  criterion=entropy, max_depth=2.0, max_features=4, max_leaf_nodes=2, total=   0.0s\n",
      "[CV] criterion=entropy, max_depth=2.0, max_features=4, max_leaf_nodes=5 \n",
      "[CV]  criterion=entropy, max_depth=2.0, max_features=4, max_leaf_nodes=5, total=   0.0s\n",
      "[CV] criterion=entropy, max_depth=2.0, max_features=4, max_leaf_nodes=5 \n",
      "[CV]  criterion=entropy, max_depth=2.0, max_features=4, max_leaf_nodes=5, total=   0.0s\n",
      "[CV] criterion=entropy, max_depth=2.0, max_features=4, max_leaf_nodes=5 \n",
      "[CV]  criterion=entropy, max_depth=2.0, max_features=4, max_leaf_nodes=5, total=   0.0s\n",
      "[CV] criterion=entropy, max_depth=2.0, max_features=4, max_leaf_nodes=10 \n",
      "[CV]  criterion=entropy, max_depth=2.0, max_features=4, max_leaf_nodes=10, total=   0.0s\n",
      "[CV] criterion=entropy, max_depth=2.0, max_features=4, max_leaf_nodes=10 \n",
      "[CV]  criterion=entropy, max_depth=2.0, max_features=4, max_leaf_nodes=10, total=   0.0s\n",
      "[CV] criterion=entropy, max_depth=2.0, max_features=4, max_leaf_nodes=10 \n",
      "[CV]  criterion=entropy, max_depth=2.0, max_features=4, max_leaf_nodes=10, total=   0.0s\n",
      "[CV] criterion=entropy, max_depth=2.0, max_features=4, max_leaf_nodes=15 \n",
      "[CV]  criterion=entropy, max_depth=2.0, max_features=4, max_leaf_nodes=15, total=   0.0s\n",
      "[CV] criterion=entropy, max_depth=2.0, max_features=4, max_leaf_nodes=15 \n",
      "[CV]  criterion=entropy, max_depth=2.0, max_features=4, max_leaf_nodes=15, total=   0.0s\n",
      "[CV] criterion=entropy, max_depth=2.0, max_features=4, max_leaf_nodes=15 \n",
      "[CV]  criterion=entropy, max_depth=2.0, max_features=4, max_leaf_nodes=15, total=   0.0s\n",
      "[CV] criterion=entropy, max_depth=2.0, max_features=6, max_leaf_nodes=2 \n",
      "[CV]  criterion=entropy, max_depth=2.0, max_features=6, max_leaf_nodes=2, total=   0.0s\n",
      "[CV] criterion=entropy, max_depth=2.0, max_features=6, max_leaf_nodes=2 \n",
      "[CV]  criterion=entropy, max_depth=2.0, max_features=6, max_leaf_nodes=2, total=   0.0s\n",
      "[CV] criterion=entropy, max_depth=2.0, max_features=6, max_leaf_nodes=2 \n",
      "[CV]  criterion=entropy, max_depth=2.0, max_features=6, max_leaf_nodes=2, total=   0.0s\n",
      "[CV] criterion=entropy, max_depth=2.0, max_features=6, max_leaf_nodes=5 \n",
      "[CV]  criterion=entropy, max_depth=2.0, max_features=6, max_leaf_nodes=5, total=   0.0s\n",
      "[CV] criterion=entropy, max_depth=2.0, max_features=6, max_leaf_nodes=5 \n",
      "[CV]  criterion=entropy, max_depth=2.0, max_features=6, max_leaf_nodes=5, total=   0.0s\n",
      "[CV] criterion=entropy, max_depth=2.0, max_features=6, max_leaf_nodes=5 \n",
      "[CV]  criterion=entropy, max_depth=2.0, max_features=6, max_leaf_nodes=5, total=   0.0s\n",
      "[CV] criterion=entropy, max_depth=2.0, max_features=6, max_leaf_nodes=10 \n",
      "[CV]  criterion=entropy, max_depth=2.0, max_features=6, max_leaf_nodes=10, total=   0.0s\n",
      "[CV] criterion=entropy, max_depth=2.0, max_features=6, max_leaf_nodes=10 \n",
      "[CV]  criterion=entropy, max_depth=2.0, max_features=6, max_leaf_nodes=10, total=   0.0s\n",
      "[CV] criterion=entropy, max_depth=2.0, max_features=6, max_leaf_nodes=10 \n",
      "[CV]  criterion=entropy, max_depth=2.0, max_features=6, max_leaf_nodes=10, total=   0.0s\n",
      "[CV] criterion=entropy, max_depth=2.0, max_features=6, max_leaf_nodes=15 \n",
      "[CV]  criterion=entropy, max_depth=2.0, max_features=6, max_leaf_nodes=15, total=   0.0s\n",
      "[CV] criterion=entropy, max_depth=2.0, max_features=6, max_leaf_nodes=15 \n",
      "[CV]  criterion=entropy, max_depth=2.0, max_features=6, max_leaf_nodes=15, total=   0.0s\n",
      "[CV] criterion=entropy, max_depth=2.0, max_features=6, max_leaf_nodes=15 \n",
      "[CV]  criterion=entropy, max_depth=2.0, max_features=6, max_leaf_nodes=15, total=   0.0s\n",
      "[CV] criterion=entropy, max_depth=2.0, max_features=8, max_leaf_nodes=2 \n",
      "[CV]  criterion=entropy, max_depth=2.0, max_features=8, max_leaf_nodes=2, total=   0.0s\n",
      "[CV] criterion=entropy, max_depth=2.0, max_features=8, max_leaf_nodes=2 \n",
      "[CV]  criterion=entropy, max_depth=2.0, max_features=8, max_leaf_nodes=2, total=   0.0s\n",
      "[CV] criterion=entropy, max_depth=2.0, max_features=8, max_leaf_nodes=2 \n",
      "[CV]  criterion=entropy, max_depth=2.0, max_features=8, max_leaf_nodes=2, total=   0.0s\n",
      "[CV] criterion=entropy, max_depth=2.0, max_features=8, max_leaf_nodes=5 \n",
      "[CV]  criterion=entropy, max_depth=2.0, max_features=8, max_leaf_nodes=5, total=   0.0s\n",
      "[CV] criterion=entropy, max_depth=2.0, max_features=8, max_leaf_nodes=5 \n",
      "[CV]  criterion=entropy, max_depth=2.0, max_features=8, max_leaf_nodes=5, total=   0.0s\n",
      "[CV] criterion=entropy, max_depth=2.0, max_features=8, max_leaf_nodes=5 \n",
      "[CV]  criterion=entropy, max_depth=2.0, max_features=8, max_leaf_nodes=5, total=   0.0s\n",
      "[CV] criterion=entropy, max_depth=2.0, max_features=8, max_leaf_nodes=10 \n",
      "[CV]  criterion=entropy, max_depth=2.0, max_features=8, max_leaf_nodes=10, total=   0.0s\n",
      "[CV] criterion=entropy, max_depth=2.0, max_features=8, max_leaf_nodes=10 \n",
      "[CV]  criterion=entropy, max_depth=2.0, max_features=8, max_leaf_nodes=10, total=   0.0s\n",
      "[CV] criterion=entropy, max_depth=2.0, max_features=8, max_leaf_nodes=10 \n",
      "[CV]  criterion=entropy, max_depth=2.0, max_features=8, max_leaf_nodes=10, total=   0.0s\n",
      "[CV] criterion=entropy, max_depth=2.0, max_features=8, max_leaf_nodes=15 \n",
      "[CV]  criterion=entropy, max_depth=2.0, max_features=8, max_leaf_nodes=15, total=   0.0s\n",
      "[CV] criterion=entropy, max_depth=2.0, max_features=8, max_leaf_nodes=15 \n",
      "[CV]  criterion=entropy, max_depth=2.0, max_features=8, max_leaf_nodes=15, total=   0.0s\n",
      "[CV] criterion=entropy, max_depth=2.0, max_features=8, max_leaf_nodes=15 \n",
      "[CV]  criterion=entropy, max_depth=2.0, max_features=8, max_leaf_nodes=15, total=   0.0s\n",
      "[CV] criterion=entropy, max_depth=2.0, max_features=11, max_leaf_nodes=2 \n",
      "[CV]  criterion=entropy, max_depth=2.0, max_features=11, max_leaf_nodes=2, total=   0.0s\n",
      "[CV] criterion=entropy, max_depth=2.0, max_features=11, max_leaf_nodes=2 \n",
      "[CV]  criterion=entropy, max_depth=2.0, max_features=11, max_leaf_nodes=2, total=   0.0s\n",
      "[CV] criterion=entropy, max_depth=2.0, max_features=11, max_leaf_nodes=2 \n",
      "[CV]  criterion=entropy, max_depth=2.0, max_features=11, max_leaf_nodes=2, total=   0.0s\n",
      "[CV] criterion=entropy, max_depth=2.0, max_features=11, max_leaf_nodes=5 \n",
      "[CV]  criterion=entropy, max_depth=2.0, max_features=11, max_leaf_nodes=5, total=   0.0s\n",
      "[CV] criterion=entropy, max_depth=2.0, max_features=11, max_leaf_nodes=5 \n",
      "[CV]  criterion=entropy, max_depth=2.0, max_features=11, max_leaf_nodes=5, total=   0.0s\n",
      "[CV] criterion=entropy, max_depth=2.0, max_features=11, max_leaf_nodes=5 \n",
      "[CV]  criterion=entropy, max_depth=2.0, max_features=11, max_leaf_nodes=5, total=   0.0s\n",
      "[CV] criterion=entropy, max_depth=2.0, max_features=11, max_leaf_nodes=10 \n",
      "[CV]  criterion=entropy, max_depth=2.0, max_features=11, max_leaf_nodes=10, total=   0.0s\n",
      "[CV] criterion=entropy, max_depth=2.0, max_features=11, max_leaf_nodes=10 \n",
      "[CV]  criterion=entropy, max_depth=2.0, max_features=11, max_leaf_nodes=10, total=   0.0s\n",
      "[CV] criterion=entropy, max_depth=2.0, max_features=11, max_leaf_nodes=10 \n",
      "[CV]  criterion=entropy, max_depth=2.0, max_features=11, max_leaf_nodes=10, total=   0.0s\n",
      "[CV] criterion=entropy, max_depth=2.0, max_features=11, max_leaf_nodes=15 \n",
      "[CV]  criterion=entropy, max_depth=2.0, max_features=11, max_leaf_nodes=15, total=   0.0s\n",
      "[CV] criterion=entropy, max_depth=2.0, max_features=11, max_leaf_nodes=15 \n",
      "[CV]  criterion=entropy, max_depth=2.0, max_features=11, max_leaf_nodes=15, total=   0.0s\n",
      "[CV] criterion=entropy, max_depth=2.0, max_features=11, max_leaf_nodes=15 \n",
      "[CV]  criterion=entropy, max_depth=2.0, max_features=11, max_leaf_nodes=15, total=   0.0s\n",
      "[CV] criterion=entropy, max_depth=3.0, max_features=2, max_leaf_nodes=2 \n",
      "[CV]  criterion=entropy, max_depth=3.0, max_features=2, max_leaf_nodes=2, total=   0.0s\n",
      "[CV] criterion=entropy, max_depth=3.0, max_features=2, max_leaf_nodes=2 \n",
      "[CV]  criterion=entropy, max_depth=3.0, max_features=2, max_leaf_nodes=2, total=   0.0s\n",
      "[CV] criterion=entropy, max_depth=3.0, max_features=2, max_leaf_nodes=2 \n",
      "[CV]  criterion=entropy, max_depth=3.0, max_features=2, max_leaf_nodes=2, total=   0.0s\n",
      "[CV] criterion=entropy, max_depth=3.0, max_features=2, max_leaf_nodes=5 \n",
      "[CV]  criterion=entropy, max_depth=3.0, max_features=2, max_leaf_nodes=5, total=   0.0s\n",
      "[CV] criterion=entropy, max_depth=3.0, max_features=2, max_leaf_nodes=5 \n",
      "[CV]  criterion=entropy, max_depth=3.0, max_features=2, max_leaf_nodes=5, total=   0.0s\n",
      "[CV] criterion=entropy, max_depth=3.0, max_features=2, max_leaf_nodes=5 \n",
      "[CV]  criterion=entropy, max_depth=3.0, max_features=2, max_leaf_nodes=5, total=   0.0s\n",
      "[CV] criterion=entropy, max_depth=3.0, max_features=2, max_leaf_nodes=10 \n",
      "[CV]  criterion=entropy, max_depth=3.0, max_features=2, max_leaf_nodes=10, total=   0.0s\n",
      "[CV] criterion=entropy, max_depth=3.0, max_features=2, max_leaf_nodes=10 \n",
      "[CV]  criterion=entropy, max_depth=3.0, max_features=2, max_leaf_nodes=10, total=   0.0s\n",
      "[CV] criterion=entropy, max_depth=3.0, max_features=2, max_leaf_nodes=10 \n",
      "[CV]  criterion=entropy, max_depth=3.0, max_features=2, max_leaf_nodes=10, total=   0.0s\n",
      "[CV] criterion=entropy, max_depth=3.0, max_features=2, max_leaf_nodes=15 \n",
      "[CV]  criterion=entropy, max_depth=3.0, max_features=2, max_leaf_nodes=15, total=   0.0s\n",
      "[CV] criterion=entropy, max_depth=3.0, max_features=2, max_leaf_nodes=15 \n",
      "[CV]  criterion=entropy, max_depth=3.0, max_features=2, max_leaf_nodes=15, total=   0.0s\n",
      "[CV] criterion=entropy, max_depth=3.0, max_features=2, max_leaf_nodes=15 \n",
      "[CV]  criterion=entropy, max_depth=3.0, max_features=2, max_leaf_nodes=15, total=   0.0s\n",
      "[CV] criterion=entropy, max_depth=3.0, max_features=4, max_leaf_nodes=2 \n",
      "[CV]  criterion=entropy, max_depth=3.0, max_features=4, max_leaf_nodes=2, total=   0.0s\n",
      "[CV] criterion=entropy, max_depth=3.0, max_features=4, max_leaf_nodes=2 \n",
      "[CV]  criterion=entropy, max_depth=3.0, max_features=4, max_leaf_nodes=2, total=   0.0s\n",
      "[CV] criterion=entropy, max_depth=3.0, max_features=4, max_leaf_nodes=2 \n",
      "[CV]  criterion=entropy, max_depth=3.0, max_features=4, max_leaf_nodes=2, total=   0.0s\n",
      "[CV] criterion=entropy, max_depth=3.0, max_features=4, max_leaf_nodes=5 \n",
      "[CV]  criterion=entropy, max_depth=3.0, max_features=4, max_leaf_nodes=5, total=   0.0s\n",
      "[CV] criterion=entropy, max_depth=3.0, max_features=4, max_leaf_nodes=5 \n",
      "[CV]  criterion=entropy, max_depth=3.0, max_features=4, max_leaf_nodes=5, total=   0.0s\n",
      "[CV] criterion=entropy, max_depth=3.0, max_features=4, max_leaf_nodes=5 \n",
      "[CV]  criterion=entropy, max_depth=3.0, max_features=4, max_leaf_nodes=5, total=   0.0s\n",
      "[CV] criterion=entropy, max_depth=3.0, max_features=4, max_leaf_nodes=10 \n",
      "[CV]  criterion=entropy, max_depth=3.0, max_features=4, max_leaf_nodes=10, total=   0.0s\n",
      "[CV] criterion=entropy, max_depth=3.0, max_features=4, max_leaf_nodes=10 \n",
      "[CV]  criterion=entropy, max_depth=3.0, max_features=4, max_leaf_nodes=10, total=   0.0s\n",
      "[CV] criterion=entropy, max_depth=3.0, max_features=4, max_leaf_nodes=10 \n",
      "[CV]  criterion=entropy, max_depth=3.0, max_features=4, max_leaf_nodes=10, total=   0.0s\n",
      "[CV] criterion=entropy, max_depth=3.0, max_features=4, max_leaf_nodes=15 \n",
      "[CV]  criterion=entropy, max_depth=3.0, max_features=4, max_leaf_nodes=15, total=   0.0s\n",
      "[CV] criterion=entropy, max_depth=3.0, max_features=4, max_leaf_nodes=15 \n",
      "[CV]  criterion=entropy, max_depth=3.0, max_features=4, max_leaf_nodes=15, total=   0.0s\n",
      "[CV] criterion=entropy, max_depth=3.0, max_features=4, max_leaf_nodes=15 \n",
      "[CV]  criterion=entropy, max_depth=3.0, max_features=4, max_leaf_nodes=15, total=   0.0s\n",
      "[CV] criterion=entropy, max_depth=3.0, max_features=6, max_leaf_nodes=2 \n",
      "[CV]  criterion=entropy, max_depth=3.0, max_features=6, max_leaf_nodes=2, total=   0.0s\n",
      "[CV] criterion=entropy, max_depth=3.0, max_features=6, max_leaf_nodes=2 \n",
      "[CV]  criterion=entropy, max_depth=3.0, max_features=6, max_leaf_nodes=2, total=   0.0s\n",
      "[CV] criterion=entropy, max_depth=3.0, max_features=6, max_leaf_nodes=2 \n",
      "[CV]  criterion=entropy, max_depth=3.0, max_features=6, max_leaf_nodes=2, total=   0.0s\n",
      "[CV] criterion=entropy, max_depth=3.0, max_features=6, max_leaf_nodes=5 \n",
      "[CV]  criterion=entropy, max_depth=3.0, max_features=6, max_leaf_nodes=5, total=   0.0s\n",
      "[CV] criterion=entropy, max_depth=3.0, max_features=6, max_leaf_nodes=5 \n",
      "[CV]  criterion=entropy, max_depth=3.0, max_features=6, max_leaf_nodes=5, total=   0.0s\n",
      "[CV] criterion=entropy, max_depth=3.0, max_features=6, max_leaf_nodes=5 \n",
      "[CV]  criterion=entropy, max_depth=3.0, max_features=6, max_leaf_nodes=5, total=   0.0s\n",
      "[CV] criterion=entropy, max_depth=3.0, max_features=6, max_leaf_nodes=10 \n",
      "[CV]  criterion=entropy, max_depth=3.0, max_features=6, max_leaf_nodes=10, total=   0.0s\n",
      "[CV] criterion=entropy, max_depth=3.0, max_features=6, max_leaf_nodes=10 \n",
      "[CV]  criterion=entropy, max_depth=3.0, max_features=6, max_leaf_nodes=10, total=   0.0s\n",
      "[CV] criterion=entropy, max_depth=3.0, max_features=6, max_leaf_nodes=10 \n",
      "[CV]  criterion=entropy, max_depth=3.0, max_features=6, max_leaf_nodes=10, total=   0.0s\n",
      "[CV] criterion=entropy, max_depth=3.0, max_features=6, max_leaf_nodes=15 \n",
      "[CV]  criterion=entropy, max_depth=3.0, max_features=6, max_leaf_nodes=15, total=   0.0s\n",
      "[CV] criterion=entropy, max_depth=3.0, max_features=6, max_leaf_nodes=15 \n",
      "[CV]  criterion=entropy, max_depth=3.0, max_features=6, max_leaf_nodes=15, total=   0.0s\n",
      "[CV] criterion=entropy, max_depth=3.0, max_features=6, max_leaf_nodes=15 \n",
      "[CV]  criterion=entropy, max_depth=3.0, max_features=6, max_leaf_nodes=15, total=   0.0s\n",
      "[CV] criterion=entropy, max_depth=3.0, max_features=8, max_leaf_nodes=2 \n",
      "[CV]  criterion=entropy, max_depth=3.0, max_features=8, max_leaf_nodes=2, total=   0.0s\n",
      "[CV] criterion=entropy, max_depth=3.0, max_features=8, max_leaf_nodes=2 \n",
      "[CV]  criterion=entropy, max_depth=3.0, max_features=8, max_leaf_nodes=2, total=   0.0s\n",
      "[CV] criterion=entropy, max_depth=3.0, max_features=8, max_leaf_nodes=2 \n",
      "[CV]  criterion=entropy, max_depth=3.0, max_features=8, max_leaf_nodes=2, total=   0.0s\n",
      "[CV] criterion=entropy, max_depth=3.0, max_features=8, max_leaf_nodes=5 \n",
      "[CV]  criterion=entropy, max_depth=3.0, max_features=8, max_leaf_nodes=5, total=   0.0s\n",
      "[CV] criterion=entropy, max_depth=3.0, max_features=8, max_leaf_nodes=5 \n",
      "[CV]  criterion=entropy, max_depth=3.0, max_features=8, max_leaf_nodes=5, total=   0.0s\n",
      "[CV] criterion=entropy, max_depth=3.0, max_features=8, max_leaf_nodes=5 \n",
      "[CV]  criterion=entropy, max_depth=3.0, max_features=8, max_leaf_nodes=5, total=   0.0s\n",
      "[CV] criterion=entropy, max_depth=3.0, max_features=8, max_leaf_nodes=10 \n",
      "[CV]  criterion=entropy, max_depth=3.0, max_features=8, max_leaf_nodes=10, total=   0.0s\n",
      "[CV] criterion=entropy, max_depth=3.0, max_features=8, max_leaf_nodes=10 \n",
      "[CV]  criterion=entropy, max_depth=3.0, max_features=8, max_leaf_nodes=10, total=   0.0s\n",
      "[CV] criterion=entropy, max_depth=3.0, max_features=8, max_leaf_nodes=10 \n",
      "[CV]  criterion=entropy, max_depth=3.0, max_features=8, max_leaf_nodes=10, total=   0.0s\n",
      "[CV] criterion=entropy, max_depth=3.0, max_features=8, max_leaf_nodes=15 \n",
      "[CV]  criterion=entropy, max_depth=3.0, max_features=8, max_leaf_nodes=15, total=   0.0s\n",
      "[CV] criterion=entropy, max_depth=3.0, max_features=8, max_leaf_nodes=15 \n",
      "[CV]  criterion=entropy, max_depth=3.0, max_features=8, max_leaf_nodes=15, total=   0.0s\n",
      "[CV] criterion=entropy, max_depth=3.0, max_features=8, max_leaf_nodes=15 \n",
      "[CV]  criterion=entropy, max_depth=3.0, max_features=8, max_leaf_nodes=15, total=   0.0s\n",
      "[CV] criterion=entropy, max_depth=3.0, max_features=11, max_leaf_nodes=2 \n",
      "[CV]  criterion=entropy, max_depth=3.0, max_features=11, max_leaf_nodes=2, total=   0.0s\n",
      "[CV] criterion=entropy, max_depth=3.0, max_features=11, max_leaf_nodes=2 \n",
      "[CV]  criterion=entropy, max_depth=3.0, max_features=11, max_leaf_nodes=2, total=   0.0s\n",
      "[CV] criterion=entropy, max_depth=3.0, max_features=11, max_leaf_nodes=2 \n",
      "[CV]  criterion=entropy, max_depth=3.0, max_features=11, max_leaf_nodes=2, total=   0.0s\n",
      "[CV] criterion=entropy, max_depth=3.0, max_features=11, max_leaf_nodes=5 \n",
      "[CV]  criterion=entropy, max_depth=3.0, max_features=11, max_leaf_nodes=5, total=   0.0s\n",
      "[CV] criterion=entropy, max_depth=3.0, max_features=11, max_leaf_nodes=5 \n",
      "[CV]  criterion=entropy, max_depth=3.0, max_features=11, max_leaf_nodes=5, total=   0.0s\n",
      "[CV] criterion=entropy, max_depth=3.0, max_features=11, max_leaf_nodes=5 \n",
      "[CV]  criterion=entropy, max_depth=3.0, max_features=11, max_leaf_nodes=5, total=   0.0s\n",
      "[CV] criterion=entropy, max_depth=3.0, max_features=11, max_leaf_nodes=10 \n",
      "[CV]  criterion=entropy, max_depth=3.0, max_features=11, max_leaf_nodes=10, total=   0.0s\n",
      "[CV] criterion=entropy, max_depth=3.0, max_features=11, max_leaf_nodes=10 \n",
      "[CV]  criterion=entropy, max_depth=3.0, max_features=11, max_leaf_nodes=10, total=   0.0s\n",
      "[CV] criterion=entropy, max_depth=3.0, max_features=11, max_leaf_nodes=10 \n",
      "[CV]  criterion=entropy, max_depth=3.0, max_features=11, max_leaf_nodes=10, total=   0.0s\n",
      "[CV] criterion=entropy, max_depth=3.0, max_features=11, max_leaf_nodes=15 \n",
      "[CV]  criterion=entropy, max_depth=3.0, max_features=11, max_leaf_nodes=15, total=   0.0s\n",
      "[CV] criterion=entropy, max_depth=3.0, max_features=11, max_leaf_nodes=15 \n",
      "[CV]  criterion=entropy, max_depth=3.0, max_features=11, max_leaf_nodes=15, total=   0.0s\n",
      "[CV] criterion=entropy, max_depth=3.0, max_features=11, max_leaf_nodes=15 \n",
      "[CV]  criterion=entropy, max_depth=3.0, max_features=11, max_leaf_nodes=15, total=   0.0s\n",
      "[CV] criterion=entropy, max_depth=4.0, max_features=2, max_leaf_nodes=2 \n",
      "[CV]  criterion=entropy, max_depth=4.0, max_features=2, max_leaf_nodes=2, total=   0.0s\n",
      "[CV] criterion=entropy, max_depth=4.0, max_features=2, max_leaf_nodes=2 \n",
      "[CV]  criterion=entropy, max_depth=4.0, max_features=2, max_leaf_nodes=2, total=   0.0s\n",
      "[CV] criterion=entropy, max_depth=4.0, max_features=2, max_leaf_nodes=2 \n",
      "[CV]  criterion=entropy, max_depth=4.0, max_features=2, max_leaf_nodes=2, total=   0.0s\n",
      "[CV] criterion=entropy, max_depth=4.0, max_features=2, max_leaf_nodes=5 \n",
      "[CV]  criterion=entropy, max_depth=4.0, max_features=2, max_leaf_nodes=5, total=   0.0s\n",
      "[CV] criterion=entropy, max_depth=4.0, max_features=2, max_leaf_nodes=5 \n",
      "[CV]  criterion=entropy, max_depth=4.0, max_features=2, max_leaf_nodes=5, total=   0.0s\n",
      "[CV] criterion=entropy, max_depth=4.0, max_features=2, max_leaf_nodes=5 \n",
      "[CV]  criterion=entropy, max_depth=4.0, max_features=2, max_leaf_nodes=5, total=   0.0s\n",
      "[CV] criterion=entropy, max_depth=4.0, max_features=2, max_leaf_nodes=10 \n",
      "[CV]  criterion=entropy, max_depth=4.0, max_features=2, max_leaf_nodes=10, total=   0.0s\n",
      "[CV] criterion=entropy, max_depth=4.0, max_features=2, max_leaf_nodes=10 \n",
      "[CV]  criterion=entropy, max_depth=4.0, max_features=2, max_leaf_nodes=10, total=   0.0s\n",
      "[CV] criterion=entropy, max_depth=4.0, max_features=2, max_leaf_nodes=10 \n",
      "[CV]  criterion=entropy, max_depth=4.0, max_features=2, max_leaf_nodes=10, total=   0.0s\n",
      "[CV] criterion=entropy, max_depth=4.0, max_features=2, max_leaf_nodes=15 \n",
      "[CV]  criterion=entropy, max_depth=4.0, max_features=2, max_leaf_nodes=15, total=   0.0s\n",
      "[CV] criterion=entropy, max_depth=4.0, max_features=2, max_leaf_nodes=15 \n",
      "[CV]  criterion=entropy, max_depth=4.0, max_features=2, max_leaf_nodes=15, total=   0.0s\n",
      "[CV] criterion=entropy, max_depth=4.0, max_features=2, max_leaf_nodes=15 \n",
      "[CV]  criterion=entropy, max_depth=4.0, max_features=2, max_leaf_nodes=15, total=   0.0s\n",
      "[CV] criterion=entropy, max_depth=4.0, max_features=4, max_leaf_nodes=2 \n",
      "[CV]  criterion=entropy, max_depth=4.0, max_features=4, max_leaf_nodes=2, total=   0.0s\n",
      "[CV] criterion=entropy, max_depth=4.0, max_features=4, max_leaf_nodes=2 \n",
      "[CV]  criterion=entropy, max_depth=4.0, max_features=4, max_leaf_nodes=2, total=   0.0s\n",
      "[CV] criterion=entropy, max_depth=4.0, max_features=4, max_leaf_nodes=2 \n",
      "[CV]  criterion=entropy, max_depth=4.0, max_features=4, max_leaf_nodes=2, total=   0.0s\n",
      "[CV] criterion=entropy, max_depth=4.0, max_features=4, max_leaf_nodes=5 \n",
      "[CV]  criterion=entropy, max_depth=4.0, max_features=4, max_leaf_nodes=5, total=   0.0s\n",
      "[CV] criterion=entropy, max_depth=4.0, max_features=4, max_leaf_nodes=5 \n",
      "[CV]  criterion=entropy, max_depth=4.0, max_features=4, max_leaf_nodes=5, total=   0.0s\n",
      "[CV] criterion=entropy, max_depth=4.0, max_features=4, max_leaf_nodes=5 \n",
      "[CV]  criterion=entropy, max_depth=4.0, max_features=4, max_leaf_nodes=5, total=   0.0s\n",
      "[CV] criterion=entropy, max_depth=4.0, max_features=4, max_leaf_nodes=10 \n",
      "[CV]  criterion=entropy, max_depth=4.0, max_features=4, max_leaf_nodes=10, total=   0.0s\n",
      "[CV] criterion=entropy, max_depth=4.0, max_features=4, max_leaf_nodes=10 \n",
      "[CV]  criterion=entropy, max_depth=4.0, max_features=4, max_leaf_nodes=10, total=   0.0s\n",
      "[CV] criterion=entropy, max_depth=4.0, max_features=4, max_leaf_nodes=10 \n",
      "[CV]  criterion=entropy, max_depth=4.0, max_features=4, max_leaf_nodes=10, total=   0.0s\n",
      "[CV] criterion=entropy, max_depth=4.0, max_features=4, max_leaf_nodes=15 \n",
      "[CV]  criterion=entropy, max_depth=4.0, max_features=4, max_leaf_nodes=15, total=   0.0s\n",
      "[CV] criterion=entropy, max_depth=4.0, max_features=4, max_leaf_nodes=15 \n",
      "[CV]  criterion=entropy, max_depth=4.0, max_features=4, max_leaf_nodes=15, total=   0.0s\n",
      "[CV] criterion=entropy, max_depth=4.0, max_features=4, max_leaf_nodes=15 \n",
      "[CV]  criterion=entropy, max_depth=4.0, max_features=4, max_leaf_nodes=15, total=   0.0s\n",
      "[CV] criterion=entropy, max_depth=4.0, max_features=6, max_leaf_nodes=2 \n",
      "[CV]  criterion=entropy, max_depth=4.0, max_features=6, max_leaf_nodes=2, total=   0.0s\n",
      "[CV] criterion=entropy, max_depth=4.0, max_features=6, max_leaf_nodes=2 \n",
      "[CV]  criterion=entropy, max_depth=4.0, max_features=6, max_leaf_nodes=2, total=   0.0s\n",
      "[CV] criterion=entropy, max_depth=4.0, max_features=6, max_leaf_nodes=2 \n",
      "[CV]  criterion=entropy, max_depth=4.0, max_features=6, max_leaf_nodes=2, total=   0.0s\n",
      "[CV] criterion=entropy, max_depth=4.0, max_features=6, max_leaf_nodes=5 \n",
      "[CV]  criterion=entropy, max_depth=4.0, max_features=6, max_leaf_nodes=5, total=   0.0s\n",
      "[CV] criterion=entropy, max_depth=4.0, max_features=6, max_leaf_nodes=5 \n",
      "[CV]  criterion=entropy, max_depth=4.0, max_features=6, max_leaf_nodes=5, total=   0.0s\n",
      "[CV] criterion=entropy, max_depth=4.0, max_features=6, max_leaf_nodes=5 \n",
      "[CV]  criterion=entropy, max_depth=4.0, max_features=6, max_leaf_nodes=5, total=   0.0s\n",
      "[CV] criterion=entropy, max_depth=4.0, max_features=6, max_leaf_nodes=10 \n",
      "[CV]  criterion=entropy, max_depth=4.0, max_features=6, max_leaf_nodes=10, total=   0.0s\n",
      "[CV] criterion=entropy, max_depth=4.0, max_features=6, max_leaf_nodes=10 \n",
      "[CV]  criterion=entropy, max_depth=4.0, max_features=6, max_leaf_nodes=10, total=   0.0s\n",
      "[CV] criterion=entropy, max_depth=4.0, max_features=6, max_leaf_nodes=10 \n",
      "[CV]  criterion=entropy, max_depth=4.0, max_features=6, max_leaf_nodes=10, total=   0.0s\n",
      "[CV] criterion=entropy, max_depth=4.0, max_features=6, max_leaf_nodes=15 \n",
      "[CV]  criterion=entropy, max_depth=4.0, max_features=6, max_leaf_nodes=15, total=   0.0s\n",
      "[CV] criterion=entropy, max_depth=4.0, max_features=6, max_leaf_nodes=15 \n",
      "[CV]  criterion=entropy, max_depth=4.0, max_features=6, max_leaf_nodes=15, total=   0.0s\n",
      "[CV] criterion=entropy, max_depth=4.0, max_features=6, max_leaf_nodes=15 \n",
      "[CV]  criterion=entropy, max_depth=4.0, max_features=6, max_leaf_nodes=15, total=   0.0s\n",
      "[CV] criterion=entropy, max_depth=4.0, max_features=8, max_leaf_nodes=2 \n",
      "[CV]  criterion=entropy, max_depth=4.0, max_features=8, max_leaf_nodes=2, total=   0.0s\n",
      "[CV] criterion=entropy, max_depth=4.0, max_features=8, max_leaf_nodes=2 \n",
      "[CV]  criterion=entropy, max_depth=4.0, max_features=8, max_leaf_nodes=2, total=   0.0s\n",
      "[CV] criterion=entropy, max_depth=4.0, max_features=8, max_leaf_nodes=2 \n",
      "[CV]  criterion=entropy, max_depth=4.0, max_features=8, max_leaf_nodes=2, total=   0.0s\n",
      "[CV] criterion=entropy, max_depth=4.0, max_features=8, max_leaf_nodes=5 \n",
      "[CV]  criterion=entropy, max_depth=4.0, max_features=8, max_leaf_nodes=5, total=   0.0s\n",
      "[CV] criterion=entropy, max_depth=4.0, max_features=8, max_leaf_nodes=5 \n",
      "[CV]  criterion=entropy, max_depth=4.0, max_features=8, max_leaf_nodes=5, total=   0.0s\n",
      "[CV] criterion=entropy, max_depth=4.0, max_features=8, max_leaf_nodes=5 \n",
      "[CV]  criterion=entropy, max_depth=4.0, max_features=8, max_leaf_nodes=5, total=   0.0s\n",
      "[CV] criterion=entropy, max_depth=4.0, max_features=8, max_leaf_nodes=10 \n",
      "[CV]  criterion=entropy, max_depth=4.0, max_features=8, max_leaf_nodes=10, total=   0.0s\n",
      "[CV] criterion=entropy, max_depth=4.0, max_features=8, max_leaf_nodes=10 \n",
      "[CV]  criterion=entropy, max_depth=4.0, max_features=8, max_leaf_nodes=10, total=   0.0s\n",
      "[CV] criterion=entropy, max_depth=4.0, max_features=8, max_leaf_nodes=10 \n",
      "[CV]  criterion=entropy, max_depth=4.0, max_features=8, max_leaf_nodes=10, total=   0.0s\n",
      "[CV] criterion=entropy, max_depth=4.0, max_features=8, max_leaf_nodes=15 \n",
      "[CV]  criterion=entropy, max_depth=4.0, max_features=8, max_leaf_nodes=15, total=   0.0s\n",
      "[CV] criterion=entropy, max_depth=4.0, max_features=8, max_leaf_nodes=15 \n",
      "[CV]  criterion=entropy, max_depth=4.0, max_features=8, max_leaf_nodes=15, total=   0.0s\n",
      "[CV] criterion=entropy, max_depth=4.0, max_features=8, max_leaf_nodes=15 \n",
      "[CV]  criterion=entropy, max_depth=4.0, max_features=8, max_leaf_nodes=15, total=   0.0s\n",
      "[CV] criterion=entropy, max_depth=4.0, max_features=11, max_leaf_nodes=2 \n",
      "[CV]  criterion=entropy, max_depth=4.0, max_features=11, max_leaf_nodes=2, total=   0.0s\n",
      "[CV] criterion=entropy, max_depth=4.0, max_features=11, max_leaf_nodes=2 \n",
      "[CV]  criterion=entropy, max_depth=4.0, max_features=11, max_leaf_nodes=2, total=   0.0s\n",
      "[CV] criterion=entropy, max_depth=4.0, max_features=11, max_leaf_nodes=2 \n",
      "[CV]  criterion=entropy, max_depth=4.0, max_features=11, max_leaf_nodes=2, total=   0.0s\n",
      "[CV] criterion=entropy, max_depth=4.0, max_features=11, max_leaf_nodes=5 \n",
      "[CV]  criterion=entropy, max_depth=4.0, max_features=11, max_leaf_nodes=5, total=   0.0s\n",
      "[CV] criterion=entropy, max_depth=4.0, max_features=11, max_leaf_nodes=5 \n",
      "[CV]  criterion=entropy, max_depth=4.0, max_features=11, max_leaf_nodes=5, total=   0.0s\n",
      "[CV] criterion=entropy, max_depth=4.0, max_features=11, max_leaf_nodes=5 \n",
      "[CV]  criterion=entropy, max_depth=4.0, max_features=11, max_leaf_nodes=5, total=   0.0s\n",
      "[CV] criterion=entropy, max_depth=4.0, max_features=11, max_leaf_nodes=10 \n",
      "[CV]  criterion=entropy, max_depth=4.0, max_features=11, max_leaf_nodes=10, total=   0.0s\n",
      "[CV] criterion=entropy, max_depth=4.0, max_features=11, max_leaf_nodes=10 \n",
      "[CV]  criterion=entropy, max_depth=4.0, max_features=11, max_leaf_nodes=10, total=   0.0s\n",
      "[CV] criterion=entropy, max_depth=4.0, max_features=11, max_leaf_nodes=10 \n",
      "[CV]  criterion=entropy, max_depth=4.0, max_features=11, max_leaf_nodes=10, total=   0.0s\n",
      "[CV] criterion=entropy, max_depth=4.0, max_features=11, max_leaf_nodes=15 \n",
      "[CV]  criterion=entropy, max_depth=4.0, max_features=11, max_leaf_nodes=15, total=   0.0s\n",
      "[CV] criterion=entropy, max_depth=4.0, max_features=11, max_leaf_nodes=15 \n",
      "[CV]  criterion=entropy, max_depth=4.0, max_features=11, max_leaf_nodes=15, total=   0.0s\n",
      "[CV] criterion=entropy, max_depth=4.0, max_features=11, max_leaf_nodes=15 \n",
      "[CV]  criterion=entropy, max_depth=4.0, max_features=11, max_leaf_nodes=15, total=   0.0s\n",
      "[CV] criterion=entropy, max_depth=5.0, max_features=2, max_leaf_nodes=2 \n",
      "[CV]  criterion=entropy, max_depth=5.0, max_features=2, max_leaf_nodes=2, total=   0.0s\n",
      "[CV] criterion=entropy, max_depth=5.0, max_features=2, max_leaf_nodes=2 \n",
      "[CV]  criterion=entropy, max_depth=5.0, max_features=2, max_leaf_nodes=2, total=   0.0s\n",
      "[CV] criterion=entropy, max_depth=5.0, max_features=2, max_leaf_nodes=2 \n",
      "[CV]  criterion=entropy, max_depth=5.0, max_features=2, max_leaf_nodes=2, total=   0.0s\n",
      "[CV] criterion=entropy, max_depth=5.0, max_features=2, max_leaf_nodes=5 \n",
      "[CV]  criterion=entropy, max_depth=5.0, max_features=2, max_leaf_nodes=5, total=   0.0s\n",
      "[CV] criterion=entropy, max_depth=5.0, max_features=2, max_leaf_nodes=5 \n",
      "[CV]  criterion=entropy, max_depth=5.0, max_features=2, max_leaf_nodes=5, total=   0.0s\n",
      "[CV] criterion=entropy, max_depth=5.0, max_features=2, max_leaf_nodes=5 \n",
      "[CV]  criterion=entropy, max_depth=5.0, max_features=2, max_leaf_nodes=5, total=   0.0s\n",
      "[CV] criterion=entropy, max_depth=5.0, max_features=2, max_leaf_nodes=10 \n",
      "[CV]  criterion=entropy, max_depth=5.0, max_features=2, max_leaf_nodes=10, total=   0.0s\n",
      "[CV] criterion=entropy, max_depth=5.0, max_features=2, max_leaf_nodes=10 \n",
      "[CV]  criterion=entropy, max_depth=5.0, max_features=2, max_leaf_nodes=10, total=   0.0s\n",
      "[CV] criterion=entropy, max_depth=5.0, max_features=2, max_leaf_nodes=10 \n",
      "[CV]  criterion=entropy, max_depth=5.0, max_features=2, max_leaf_nodes=10, total=   0.0s\n",
      "[CV] criterion=entropy, max_depth=5.0, max_features=2, max_leaf_nodes=15 \n",
      "[CV]  criterion=entropy, max_depth=5.0, max_features=2, max_leaf_nodes=15, total=   0.0s\n",
      "[CV] criterion=entropy, max_depth=5.0, max_features=2, max_leaf_nodes=15 \n",
      "[CV]  criterion=entropy, max_depth=5.0, max_features=2, max_leaf_nodes=15, total=   0.0s\n",
      "[CV] criterion=entropy, max_depth=5.0, max_features=2, max_leaf_nodes=15 \n",
      "[CV]  criterion=entropy, max_depth=5.0, max_features=2, max_leaf_nodes=15, total=   0.0s\n",
      "[CV] criterion=entropy, max_depth=5.0, max_features=4, max_leaf_nodes=2 \n",
      "[CV]  criterion=entropy, max_depth=5.0, max_features=4, max_leaf_nodes=2, total=   0.0s\n",
      "[CV] criterion=entropy, max_depth=5.0, max_features=4, max_leaf_nodes=2 \n",
      "[CV]  criterion=entropy, max_depth=5.0, max_features=4, max_leaf_nodes=2, total=   0.0s\n",
      "[CV] criterion=entropy, max_depth=5.0, max_features=4, max_leaf_nodes=2 \n",
      "[CV]  criterion=entropy, max_depth=5.0, max_features=4, max_leaf_nodes=2, total=   0.0s\n",
      "[CV] criterion=entropy, max_depth=5.0, max_features=4, max_leaf_nodes=5 \n",
      "[CV]  criterion=entropy, max_depth=5.0, max_features=4, max_leaf_nodes=5, total=   0.0s\n",
      "[CV] criterion=entropy, max_depth=5.0, max_features=4, max_leaf_nodes=5 \n",
      "[CV]  criterion=entropy, max_depth=5.0, max_features=4, max_leaf_nodes=5, total=   0.0s\n",
      "[CV] criterion=entropy, max_depth=5.0, max_features=4, max_leaf_nodes=5 \n",
      "[CV]  criterion=entropy, max_depth=5.0, max_features=4, max_leaf_nodes=5, total=   0.0s\n",
      "[CV] criterion=entropy, max_depth=5.0, max_features=4, max_leaf_nodes=10 \n",
      "[CV]  criterion=entropy, max_depth=5.0, max_features=4, max_leaf_nodes=10, total=   0.0s\n",
      "[CV] criterion=entropy, max_depth=5.0, max_features=4, max_leaf_nodes=10 \n",
      "[CV]  criterion=entropy, max_depth=5.0, max_features=4, max_leaf_nodes=10, total=   0.0s\n",
      "[CV] criterion=entropy, max_depth=5.0, max_features=4, max_leaf_nodes=10 \n",
      "[CV]  criterion=entropy, max_depth=5.0, max_features=4, max_leaf_nodes=10, total=   0.0s\n",
      "[CV] criterion=entropy, max_depth=5.0, max_features=4, max_leaf_nodes=15 \n",
      "[CV]  criterion=entropy, max_depth=5.0, max_features=4, max_leaf_nodes=15, total=   0.0s\n",
      "[CV] criterion=entropy, max_depth=5.0, max_features=4, max_leaf_nodes=15 \n",
      "[CV]  criterion=entropy, max_depth=5.0, max_features=4, max_leaf_nodes=15, total=   0.0s\n",
      "[CV] criterion=entropy, max_depth=5.0, max_features=4, max_leaf_nodes=15 \n",
      "[CV]  criterion=entropy, max_depth=5.0, max_features=4, max_leaf_nodes=15, total=   0.0s\n",
      "[CV] criterion=entropy, max_depth=5.0, max_features=6, max_leaf_nodes=2 \n",
      "[CV]  criterion=entropy, max_depth=5.0, max_features=6, max_leaf_nodes=2, total=   0.0s\n",
      "[CV] criterion=entropy, max_depth=5.0, max_features=6, max_leaf_nodes=2 \n",
      "[CV]  criterion=entropy, max_depth=5.0, max_features=6, max_leaf_nodes=2, total=   0.0s\n",
      "[CV] criterion=entropy, max_depth=5.0, max_features=6, max_leaf_nodes=2 \n",
      "[CV]  criterion=entropy, max_depth=5.0, max_features=6, max_leaf_nodes=2, total=   0.0s\n",
      "[CV] criterion=entropy, max_depth=5.0, max_features=6, max_leaf_nodes=5 \n",
      "[CV]  criterion=entropy, max_depth=5.0, max_features=6, max_leaf_nodes=5, total=   0.0s\n",
      "[CV] criterion=entropy, max_depth=5.0, max_features=6, max_leaf_nodes=5 \n",
      "[CV]  criterion=entropy, max_depth=5.0, max_features=6, max_leaf_nodes=5, total=   0.0s\n",
      "[CV] criterion=entropy, max_depth=5.0, max_features=6, max_leaf_nodes=5 \n",
      "[CV]  criterion=entropy, max_depth=5.0, max_features=6, max_leaf_nodes=5, total=   0.0s\n",
      "[CV] criterion=entropy, max_depth=5.0, max_features=6, max_leaf_nodes=10 \n",
      "[CV]  criterion=entropy, max_depth=5.0, max_features=6, max_leaf_nodes=10, total=   0.0s\n",
      "[CV] criterion=entropy, max_depth=5.0, max_features=6, max_leaf_nodes=10 \n",
      "[CV]  criterion=entropy, max_depth=5.0, max_features=6, max_leaf_nodes=10, total=   0.0s\n",
      "[CV] criterion=entropy, max_depth=5.0, max_features=6, max_leaf_nodes=10 \n",
      "[CV]  criterion=entropy, max_depth=5.0, max_features=6, max_leaf_nodes=10, total=   0.0s\n",
      "[CV] criterion=entropy, max_depth=5.0, max_features=6, max_leaf_nodes=15 \n",
      "[CV]  criterion=entropy, max_depth=5.0, max_features=6, max_leaf_nodes=15, total=   0.0s\n",
      "[CV] criterion=entropy, max_depth=5.0, max_features=6, max_leaf_nodes=15 \n",
      "[CV]  criterion=entropy, max_depth=5.0, max_features=6, max_leaf_nodes=15, total=   0.0s\n",
      "[CV] criterion=entropy, max_depth=5.0, max_features=6, max_leaf_nodes=15 \n",
      "[CV]  criterion=entropy, max_depth=5.0, max_features=6, max_leaf_nodes=15, total=   0.0s\n",
      "[CV] criterion=entropy, max_depth=5.0, max_features=8, max_leaf_nodes=2 \n",
      "[CV]  criterion=entropy, max_depth=5.0, max_features=8, max_leaf_nodes=2, total=   0.0s\n",
      "[CV] criterion=entropy, max_depth=5.0, max_features=8, max_leaf_nodes=2 \n",
      "[CV]  criterion=entropy, max_depth=5.0, max_features=8, max_leaf_nodes=2, total=   0.0s\n",
      "[CV] criterion=entropy, max_depth=5.0, max_features=8, max_leaf_nodes=2 \n",
      "[CV]  criterion=entropy, max_depth=5.0, max_features=8, max_leaf_nodes=2, total=   0.0s\n",
      "[CV] criterion=entropy, max_depth=5.0, max_features=8, max_leaf_nodes=5 \n",
      "[CV]  criterion=entropy, max_depth=5.0, max_features=8, max_leaf_nodes=5, total=   0.0s\n",
      "[CV] criterion=entropy, max_depth=5.0, max_features=8, max_leaf_nodes=5 \n",
      "[CV]  criterion=entropy, max_depth=5.0, max_features=8, max_leaf_nodes=5, total=   0.0s\n",
      "[CV] criterion=entropy, max_depth=5.0, max_features=8, max_leaf_nodes=5 \n",
      "[CV]  criterion=entropy, max_depth=5.0, max_features=8, max_leaf_nodes=5, total=   0.0s\n",
      "[CV] criterion=entropy, max_depth=5.0, max_features=8, max_leaf_nodes=10 \n",
      "[CV]  criterion=entropy, max_depth=5.0, max_features=8, max_leaf_nodes=10, total=   0.0s\n",
      "[CV] criterion=entropy, max_depth=5.0, max_features=8, max_leaf_nodes=10 \n",
      "[CV]  criterion=entropy, max_depth=5.0, max_features=8, max_leaf_nodes=10, total=   0.0s\n",
      "[CV] criterion=entropy, max_depth=5.0, max_features=8, max_leaf_nodes=10 \n",
      "[CV]  criterion=entropy, max_depth=5.0, max_features=8, max_leaf_nodes=10, total=   0.0s\n",
      "[CV] criterion=entropy, max_depth=5.0, max_features=8, max_leaf_nodes=15 \n",
      "[CV]  criterion=entropy, max_depth=5.0, max_features=8, max_leaf_nodes=15, total=   0.0s\n",
      "[CV] criterion=entropy, max_depth=5.0, max_features=8, max_leaf_nodes=15 \n",
      "[CV]  criterion=entropy, max_depth=5.0, max_features=8, max_leaf_nodes=15, total=   0.0s\n",
      "[CV] criterion=entropy, max_depth=5.0, max_features=8, max_leaf_nodes=15 \n",
      "[CV]  criterion=entropy, max_depth=5.0, max_features=8, max_leaf_nodes=15, total=   0.0s\n",
      "[CV] criterion=entropy, max_depth=5.0, max_features=11, max_leaf_nodes=2 \n",
      "[CV]  criterion=entropy, max_depth=5.0, max_features=11, max_leaf_nodes=2, total=   0.0s\n",
      "[CV] criterion=entropy, max_depth=5.0, max_features=11, max_leaf_nodes=2 \n",
      "[CV]  criterion=entropy, max_depth=5.0, max_features=11, max_leaf_nodes=2, total=   0.0s\n",
      "[CV] criterion=entropy, max_depth=5.0, max_features=11, max_leaf_nodes=2 \n",
      "[CV]  criterion=entropy, max_depth=5.0, max_features=11, max_leaf_nodes=2, total=   0.0s\n",
      "[CV] criterion=entropy, max_depth=5.0, max_features=11, max_leaf_nodes=5 \n",
      "[CV]  criterion=entropy, max_depth=5.0, max_features=11, max_leaf_nodes=5, total=   0.0s\n",
      "[CV] criterion=entropy, max_depth=5.0, max_features=11, max_leaf_nodes=5 \n",
      "[CV]  criterion=entropy, max_depth=5.0, max_features=11, max_leaf_nodes=5, total=   0.0s\n",
      "[CV] criterion=entropy, max_depth=5.0, max_features=11, max_leaf_nodes=5 \n",
      "[CV]  criterion=entropy, max_depth=5.0, max_features=11, max_leaf_nodes=5, total=   0.0s\n",
      "[CV] criterion=entropy, max_depth=5.0, max_features=11, max_leaf_nodes=10 \n",
      "[CV]  criterion=entropy, max_depth=5.0, max_features=11, max_leaf_nodes=10, total=   0.0s\n",
      "[CV] criterion=entropy, max_depth=5.0, max_features=11, max_leaf_nodes=10 \n",
      "[CV]  criterion=entropy, max_depth=5.0, max_features=11, max_leaf_nodes=10, total=   0.0s\n",
      "[CV] criterion=entropy, max_depth=5.0, max_features=11, max_leaf_nodes=10 \n",
      "[CV]  criterion=entropy, max_depth=5.0, max_features=11, max_leaf_nodes=10, total=   0.0s\n",
      "[CV] criterion=entropy, max_depth=5.0, max_features=11, max_leaf_nodes=15 \n",
      "[CV]  criterion=entropy, max_depth=5.0, max_features=11, max_leaf_nodes=15, total=   0.0s\n",
      "[CV] criterion=entropy, max_depth=5.0, max_features=11, max_leaf_nodes=15 \n",
      "[CV]  criterion=entropy, max_depth=5.0, max_features=11, max_leaf_nodes=15, total=   0.0s\n",
      "[CV] criterion=entropy, max_depth=5.0, max_features=11, max_leaf_nodes=15 \n",
      "[CV]  criterion=entropy, max_depth=5.0, max_features=11, max_leaf_nodes=15, total=   0.0s\n",
      "[CV] criterion=entropy, max_depth=6.0, max_features=2, max_leaf_nodes=2 \n",
      "[CV]  criterion=entropy, max_depth=6.0, max_features=2, max_leaf_nodes=2, total=   0.0s\n",
      "[CV] criterion=entropy, max_depth=6.0, max_features=2, max_leaf_nodes=2 \n",
      "[CV]  criterion=entropy, max_depth=6.0, max_features=2, max_leaf_nodes=2, total=   0.0s\n",
      "[CV] criterion=entropy, max_depth=6.0, max_features=2, max_leaf_nodes=2 \n",
      "[CV]  criterion=entropy, max_depth=6.0, max_features=2, max_leaf_nodes=2, total=   0.0s\n",
      "[CV] criterion=entropy, max_depth=6.0, max_features=2, max_leaf_nodes=5 \n",
      "[CV]  criterion=entropy, max_depth=6.0, max_features=2, max_leaf_nodes=5, total=   0.0s\n",
      "[CV] criterion=entropy, max_depth=6.0, max_features=2, max_leaf_nodes=5 \n",
      "[CV]  criterion=entropy, max_depth=6.0, max_features=2, max_leaf_nodes=5, total=   0.0s\n",
      "[CV] criterion=entropy, max_depth=6.0, max_features=2, max_leaf_nodes=5 \n",
      "[CV]  criterion=entropy, max_depth=6.0, max_features=2, max_leaf_nodes=5, total=   0.0s\n",
      "[CV] criterion=entropy, max_depth=6.0, max_features=2, max_leaf_nodes=10 \n",
      "[CV]  criterion=entropy, max_depth=6.0, max_features=2, max_leaf_nodes=10, total=   0.0s\n",
      "[CV] criterion=entropy, max_depth=6.0, max_features=2, max_leaf_nodes=10 \n",
      "[CV]  criterion=entropy, max_depth=6.0, max_features=2, max_leaf_nodes=10, total=   0.0s\n",
      "[CV] criterion=entropy, max_depth=6.0, max_features=2, max_leaf_nodes=10 \n",
      "[CV]  criterion=entropy, max_depth=6.0, max_features=2, max_leaf_nodes=10, total=   0.0s\n",
      "[CV] criterion=entropy, max_depth=6.0, max_features=2, max_leaf_nodes=15 \n",
      "[CV]  criterion=entropy, max_depth=6.0, max_features=2, max_leaf_nodes=15, total=   0.0s\n",
      "[CV] criterion=entropy, max_depth=6.0, max_features=2, max_leaf_nodes=15 \n",
      "[CV]  criterion=entropy, max_depth=6.0, max_features=2, max_leaf_nodes=15, total=   0.0s\n",
      "[CV] criterion=entropy, max_depth=6.0, max_features=2, max_leaf_nodes=15 \n",
      "[CV]  criterion=entropy, max_depth=6.0, max_features=2, max_leaf_nodes=15, total=   0.0s\n",
      "[CV] criterion=entropy, max_depth=6.0, max_features=4, max_leaf_nodes=2 \n",
      "[CV]  criterion=entropy, max_depth=6.0, max_features=4, max_leaf_nodes=2, total=   0.0s\n",
      "[CV] criterion=entropy, max_depth=6.0, max_features=4, max_leaf_nodes=2 \n",
      "[CV]  criterion=entropy, max_depth=6.0, max_features=4, max_leaf_nodes=2, total=   0.0s\n",
      "[CV] criterion=entropy, max_depth=6.0, max_features=4, max_leaf_nodes=2 \n",
      "[CV]  criterion=entropy, max_depth=6.0, max_features=4, max_leaf_nodes=2, total=   0.0s\n",
      "[CV] criterion=entropy, max_depth=6.0, max_features=4, max_leaf_nodes=5 \n",
      "[CV]  criterion=entropy, max_depth=6.0, max_features=4, max_leaf_nodes=5, total=   0.0s\n",
      "[CV] criterion=entropy, max_depth=6.0, max_features=4, max_leaf_nodes=5 \n",
      "[CV]  criterion=entropy, max_depth=6.0, max_features=4, max_leaf_nodes=5, total=   0.0s\n",
      "[CV] criterion=entropy, max_depth=6.0, max_features=4, max_leaf_nodes=5 \n",
      "[CV]  criterion=entropy, max_depth=6.0, max_features=4, max_leaf_nodes=5, total=   0.0s\n",
      "[CV] criterion=entropy, max_depth=6.0, max_features=4, max_leaf_nodes=10 \n",
      "[CV]  criterion=entropy, max_depth=6.0, max_features=4, max_leaf_nodes=10, total=   0.0s\n",
      "[CV] criterion=entropy, max_depth=6.0, max_features=4, max_leaf_nodes=10 \n",
      "[CV]  criterion=entropy, max_depth=6.0, max_features=4, max_leaf_nodes=10, total=   0.0s\n",
      "[CV] criterion=entropy, max_depth=6.0, max_features=4, max_leaf_nodes=10 \n",
      "[CV]  criterion=entropy, max_depth=6.0, max_features=4, max_leaf_nodes=10, total=   0.0s\n",
      "[CV] criterion=entropy, max_depth=6.0, max_features=4, max_leaf_nodes=15 \n",
      "[CV]  criterion=entropy, max_depth=6.0, max_features=4, max_leaf_nodes=15, total=   0.0s\n",
      "[CV] criterion=entropy, max_depth=6.0, max_features=4, max_leaf_nodes=15 \n",
      "[CV]  criterion=entropy, max_depth=6.0, max_features=4, max_leaf_nodes=15, total=   0.0s\n",
      "[CV] criterion=entropy, max_depth=6.0, max_features=4, max_leaf_nodes=15 \n",
      "[CV]  criterion=entropy, max_depth=6.0, max_features=4, max_leaf_nodes=15, total=   0.0s\n",
      "[CV] criterion=entropy, max_depth=6.0, max_features=6, max_leaf_nodes=2 \n",
      "[CV]  criterion=entropy, max_depth=6.0, max_features=6, max_leaf_nodes=2, total=   0.0s\n",
      "[CV] criterion=entropy, max_depth=6.0, max_features=6, max_leaf_nodes=2 \n",
      "[CV]  criterion=entropy, max_depth=6.0, max_features=6, max_leaf_nodes=2, total=   0.0s\n",
      "[CV] criterion=entropy, max_depth=6.0, max_features=6, max_leaf_nodes=2 \n",
      "[CV]  criterion=entropy, max_depth=6.0, max_features=6, max_leaf_nodes=2, total=   0.0s\n",
      "[CV] criterion=entropy, max_depth=6.0, max_features=6, max_leaf_nodes=5 \n",
      "[CV]  criterion=entropy, max_depth=6.0, max_features=6, max_leaf_nodes=5, total=   0.0s\n",
      "[CV] criterion=entropy, max_depth=6.0, max_features=6, max_leaf_nodes=5 \n",
      "[CV]  criterion=entropy, max_depth=6.0, max_features=6, max_leaf_nodes=5, total=   0.0s\n",
      "[CV] criterion=entropy, max_depth=6.0, max_features=6, max_leaf_nodes=5 \n",
      "[CV]  criterion=entropy, max_depth=6.0, max_features=6, max_leaf_nodes=5, total=   0.0s\n",
      "[CV] criterion=entropy, max_depth=6.0, max_features=6, max_leaf_nodes=10 \n",
      "[CV]  criterion=entropy, max_depth=6.0, max_features=6, max_leaf_nodes=10, total=   0.0s\n",
      "[CV] criterion=entropy, max_depth=6.0, max_features=6, max_leaf_nodes=10 \n",
      "[CV]  criterion=entropy, max_depth=6.0, max_features=6, max_leaf_nodes=10, total=   0.0s\n",
      "[CV] criterion=entropy, max_depth=6.0, max_features=6, max_leaf_nodes=10 \n",
      "[CV]  criterion=entropy, max_depth=6.0, max_features=6, max_leaf_nodes=10, total=   0.0s\n",
      "[CV] criterion=entropy, max_depth=6.0, max_features=6, max_leaf_nodes=15 \n",
      "[CV]  criterion=entropy, max_depth=6.0, max_features=6, max_leaf_nodes=15, total=   0.0s\n",
      "[CV] criterion=entropy, max_depth=6.0, max_features=6, max_leaf_nodes=15 \n",
      "[CV]  criterion=entropy, max_depth=6.0, max_features=6, max_leaf_nodes=15, total=   0.0s\n",
      "[CV] criterion=entropy, max_depth=6.0, max_features=6, max_leaf_nodes=15 \n",
      "[CV]  criterion=entropy, max_depth=6.0, max_features=6, max_leaf_nodes=15, total=   0.0s\n",
      "[CV] criterion=entropy, max_depth=6.0, max_features=8, max_leaf_nodes=2 \n",
      "[CV]  criterion=entropy, max_depth=6.0, max_features=8, max_leaf_nodes=2, total=   0.0s\n",
      "[CV] criterion=entropy, max_depth=6.0, max_features=8, max_leaf_nodes=2 \n",
      "[CV]  criterion=entropy, max_depth=6.0, max_features=8, max_leaf_nodes=2, total=   0.0s\n",
      "[CV] criterion=entropy, max_depth=6.0, max_features=8, max_leaf_nodes=2 \n",
      "[CV]  criterion=entropy, max_depth=6.0, max_features=8, max_leaf_nodes=2, total=   0.0s\n",
      "[CV] criterion=entropy, max_depth=6.0, max_features=8, max_leaf_nodes=5 \n",
      "[CV]  criterion=entropy, max_depth=6.0, max_features=8, max_leaf_nodes=5, total=   0.0s\n",
      "[CV] criterion=entropy, max_depth=6.0, max_features=8, max_leaf_nodes=5 \n",
      "[CV]  criterion=entropy, max_depth=6.0, max_features=8, max_leaf_nodes=5, total=   0.0s\n",
      "[CV] criterion=entropy, max_depth=6.0, max_features=8, max_leaf_nodes=5 \n",
      "[CV]  criterion=entropy, max_depth=6.0, max_features=8, max_leaf_nodes=5, total=   0.0s\n",
      "[CV] criterion=entropy, max_depth=6.0, max_features=8, max_leaf_nodes=10 \n",
      "[CV]  criterion=entropy, max_depth=6.0, max_features=8, max_leaf_nodes=10, total=   0.0s\n",
      "[CV] criterion=entropy, max_depth=6.0, max_features=8, max_leaf_nodes=10 \n",
      "[CV]  criterion=entropy, max_depth=6.0, max_features=8, max_leaf_nodes=10, total=   0.0s\n",
      "[CV] criterion=entropy, max_depth=6.0, max_features=8, max_leaf_nodes=10 \n",
      "[CV]  criterion=entropy, max_depth=6.0, max_features=8, max_leaf_nodes=10, total=   0.0s\n",
      "[CV] criterion=entropy, max_depth=6.0, max_features=8, max_leaf_nodes=15 \n",
      "[CV]  criterion=entropy, max_depth=6.0, max_features=8, max_leaf_nodes=15, total=   0.0s\n",
      "[CV] criterion=entropy, max_depth=6.0, max_features=8, max_leaf_nodes=15 \n",
      "[CV]  criterion=entropy, max_depth=6.0, max_features=8, max_leaf_nodes=15, total=   0.0s\n",
      "[CV] criterion=entropy, max_depth=6.0, max_features=8, max_leaf_nodes=15 \n",
      "[CV]  criterion=entropy, max_depth=6.0, max_features=8, max_leaf_nodes=15, total=   0.0s\n",
      "[CV] criterion=entropy, max_depth=6.0, max_features=11, max_leaf_nodes=2 \n",
      "[CV]  criterion=entropy, max_depth=6.0, max_features=11, max_leaf_nodes=2, total=   0.0s\n",
      "[CV] criterion=entropy, max_depth=6.0, max_features=11, max_leaf_nodes=2 \n",
      "[CV]  criterion=entropy, max_depth=6.0, max_features=11, max_leaf_nodes=2, total=   0.0s\n",
      "[CV] criterion=entropy, max_depth=6.0, max_features=11, max_leaf_nodes=2 \n",
      "[CV]  criterion=entropy, max_depth=6.0, max_features=11, max_leaf_nodes=2, total=   0.0s\n",
      "[CV] criterion=entropy, max_depth=6.0, max_features=11, max_leaf_nodes=5 \n",
      "[CV]  criterion=entropy, max_depth=6.0, max_features=11, max_leaf_nodes=5, total=   0.0s\n",
      "[CV] criterion=entropy, max_depth=6.0, max_features=11, max_leaf_nodes=5 \n",
      "[CV]  criterion=entropy, max_depth=6.0, max_features=11, max_leaf_nodes=5, total=   0.0s\n",
      "[CV] criterion=entropy, max_depth=6.0, max_features=11, max_leaf_nodes=5 \n",
      "[CV]  criterion=entropy, max_depth=6.0, max_features=11, max_leaf_nodes=5, total=   0.0s\n",
      "[CV] criterion=entropy, max_depth=6.0, max_features=11, max_leaf_nodes=10 \n",
      "[CV]  criterion=entropy, max_depth=6.0, max_features=11, max_leaf_nodes=10, total=   0.0s\n",
      "[CV] criterion=entropy, max_depth=6.0, max_features=11, max_leaf_nodes=10 \n",
      "[CV]  criterion=entropy, max_depth=6.0, max_features=11, max_leaf_nodes=10, total=   0.0s\n",
      "[CV] criterion=entropy, max_depth=6.0, max_features=11, max_leaf_nodes=10 \n",
      "[CV]  criterion=entropy, max_depth=6.0, max_features=11, max_leaf_nodes=10, total=   0.0s\n",
      "[CV] criterion=entropy, max_depth=6.0, max_features=11, max_leaf_nodes=15 \n",
      "[CV]  criterion=entropy, max_depth=6.0, max_features=11, max_leaf_nodes=15, total=   0.0s\n",
      "[CV] criterion=entropy, max_depth=6.0, max_features=11, max_leaf_nodes=15 \n",
      "[CV]  criterion=entropy, max_depth=6.0, max_features=11, max_leaf_nodes=15, total=   0.0s\n",
      "[CV] criterion=entropy, max_depth=6.0, max_features=11, max_leaf_nodes=15 \n",
      "[CV]  criterion=entropy, max_depth=6.0, max_features=11, max_leaf_nodes=15, total=   0.0s\n",
      "[CV] criterion=entropy, max_depth=7.0, max_features=2, max_leaf_nodes=2 \n",
      "[CV]  criterion=entropy, max_depth=7.0, max_features=2, max_leaf_nodes=2, total=   0.0s\n",
      "[CV] criterion=entropy, max_depth=7.0, max_features=2, max_leaf_nodes=2 \n",
      "[CV]  criterion=entropy, max_depth=7.0, max_features=2, max_leaf_nodes=2, total=   0.0s\n",
      "[CV] criterion=entropy, max_depth=7.0, max_features=2, max_leaf_nodes=2 \n",
      "[CV]  criterion=entropy, max_depth=7.0, max_features=2, max_leaf_nodes=2, total=   0.0s\n",
      "[CV] criterion=entropy, max_depth=7.0, max_features=2, max_leaf_nodes=5 \n",
      "[CV]  criterion=entropy, max_depth=7.0, max_features=2, max_leaf_nodes=5, total=   0.0s\n",
      "[CV] criterion=entropy, max_depth=7.0, max_features=2, max_leaf_nodes=5 \n",
      "[CV]  criterion=entropy, max_depth=7.0, max_features=2, max_leaf_nodes=5, total=   0.0s\n",
      "[CV] criterion=entropy, max_depth=7.0, max_features=2, max_leaf_nodes=5 \n",
      "[CV]  criterion=entropy, max_depth=7.0, max_features=2, max_leaf_nodes=5, total=   0.0s\n",
      "[CV] criterion=entropy, max_depth=7.0, max_features=2, max_leaf_nodes=10 \n",
      "[CV]  criterion=entropy, max_depth=7.0, max_features=2, max_leaf_nodes=10, total=   0.0s\n",
      "[CV] criterion=entropy, max_depth=7.0, max_features=2, max_leaf_nodes=10 \n",
      "[CV]  criterion=entropy, max_depth=7.0, max_features=2, max_leaf_nodes=10, total=   0.0s\n",
      "[CV] criterion=entropy, max_depth=7.0, max_features=2, max_leaf_nodes=10 \n",
      "[CV]  criterion=entropy, max_depth=7.0, max_features=2, max_leaf_nodes=10, total=   0.0s\n",
      "[CV] criterion=entropy, max_depth=7.0, max_features=2, max_leaf_nodes=15 \n",
      "[CV]  criterion=entropy, max_depth=7.0, max_features=2, max_leaf_nodes=15, total=   0.0s\n",
      "[CV] criterion=entropy, max_depth=7.0, max_features=2, max_leaf_nodes=15 \n",
      "[CV]  criterion=entropy, max_depth=7.0, max_features=2, max_leaf_nodes=15, total=   0.0s\n",
      "[CV] criterion=entropy, max_depth=7.0, max_features=2, max_leaf_nodes=15 \n",
      "[CV]  criterion=entropy, max_depth=7.0, max_features=2, max_leaf_nodes=15, total=   0.0s\n",
      "[CV] criterion=entropy, max_depth=7.0, max_features=4, max_leaf_nodes=2 \n",
      "[CV]  criterion=entropy, max_depth=7.0, max_features=4, max_leaf_nodes=2, total=   0.0s\n",
      "[CV] criterion=entropy, max_depth=7.0, max_features=4, max_leaf_nodes=2 \n",
      "[CV]  criterion=entropy, max_depth=7.0, max_features=4, max_leaf_nodes=2, total=   0.0s\n",
      "[CV] criterion=entropy, max_depth=7.0, max_features=4, max_leaf_nodes=2 \n",
      "[CV]  criterion=entropy, max_depth=7.0, max_features=4, max_leaf_nodes=2, total=   0.0s\n",
      "[CV] criterion=entropy, max_depth=7.0, max_features=4, max_leaf_nodes=5 \n",
      "[CV]  criterion=entropy, max_depth=7.0, max_features=4, max_leaf_nodes=5, total=   0.0s\n",
      "[CV] criterion=entropy, max_depth=7.0, max_features=4, max_leaf_nodes=5 \n",
      "[CV]  criterion=entropy, max_depth=7.0, max_features=4, max_leaf_nodes=5, total=   0.0s\n",
      "[CV] criterion=entropy, max_depth=7.0, max_features=4, max_leaf_nodes=5 \n",
      "[CV]  criterion=entropy, max_depth=7.0, max_features=4, max_leaf_nodes=5, total=   0.0s\n",
      "[CV] criterion=entropy, max_depth=7.0, max_features=4, max_leaf_nodes=10 \n",
      "[CV]  criterion=entropy, max_depth=7.0, max_features=4, max_leaf_nodes=10, total=   0.0s\n",
      "[CV] criterion=entropy, max_depth=7.0, max_features=4, max_leaf_nodes=10 \n",
      "[CV]  criterion=entropy, max_depth=7.0, max_features=4, max_leaf_nodes=10, total=   0.0s\n",
      "[CV] criterion=entropy, max_depth=7.0, max_features=4, max_leaf_nodes=10 \n",
      "[CV]  criterion=entropy, max_depth=7.0, max_features=4, max_leaf_nodes=10, total=   0.0s\n",
      "[CV] criterion=entropy, max_depth=7.0, max_features=4, max_leaf_nodes=15 \n",
      "[CV]  criterion=entropy, max_depth=7.0, max_features=4, max_leaf_nodes=15, total=   0.0s\n",
      "[CV] criterion=entropy, max_depth=7.0, max_features=4, max_leaf_nodes=15 \n",
      "[CV]  criterion=entropy, max_depth=7.0, max_features=4, max_leaf_nodes=15, total=   0.0s\n",
      "[CV] criterion=entropy, max_depth=7.0, max_features=4, max_leaf_nodes=15 \n",
      "[CV]  criterion=entropy, max_depth=7.0, max_features=4, max_leaf_nodes=15, total=   0.0s\n",
      "[CV] criterion=entropy, max_depth=7.0, max_features=6, max_leaf_nodes=2 \n",
      "[CV]  criterion=entropy, max_depth=7.0, max_features=6, max_leaf_nodes=2, total=   0.0s\n",
      "[CV] criterion=entropy, max_depth=7.0, max_features=6, max_leaf_nodes=2 \n",
      "[CV]  criterion=entropy, max_depth=7.0, max_features=6, max_leaf_nodes=2, total=   0.0s\n",
      "[CV] criterion=entropy, max_depth=7.0, max_features=6, max_leaf_nodes=2 \n",
      "[CV]  criterion=entropy, max_depth=7.0, max_features=6, max_leaf_nodes=2, total=   0.0s\n",
      "[CV] criterion=entropy, max_depth=7.0, max_features=6, max_leaf_nodes=5 \n",
      "[CV]  criterion=entropy, max_depth=7.0, max_features=6, max_leaf_nodes=5, total=   0.0s\n",
      "[CV] criterion=entropy, max_depth=7.0, max_features=6, max_leaf_nodes=5 \n",
      "[CV]  criterion=entropy, max_depth=7.0, max_features=6, max_leaf_nodes=5, total=   0.0s\n",
      "[CV] criterion=entropy, max_depth=7.0, max_features=6, max_leaf_nodes=5 \n",
      "[CV]  criterion=entropy, max_depth=7.0, max_features=6, max_leaf_nodes=5, total=   0.0s\n",
      "[CV] criterion=entropy, max_depth=7.0, max_features=6, max_leaf_nodes=10 \n",
      "[CV]  criterion=entropy, max_depth=7.0, max_features=6, max_leaf_nodes=10, total=   0.0s\n",
      "[CV] criterion=entropy, max_depth=7.0, max_features=6, max_leaf_nodes=10 \n",
      "[CV]  criterion=entropy, max_depth=7.0, max_features=6, max_leaf_nodes=10, total=   0.0s\n",
      "[CV] criterion=entropy, max_depth=7.0, max_features=6, max_leaf_nodes=10 \n",
      "[CV]  criterion=entropy, max_depth=7.0, max_features=6, max_leaf_nodes=10, total=   0.0s\n",
      "[CV] criterion=entropy, max_depth=7.0, max_features=6, max_leaf_nodes=15 \n",
      "[CV]  criterion=entropy, max_depth=7.0, max_features=6, max_leaf_nodes=15, total=   0.0s\n",
      "[CV] criterion=entropy, max_depth=7.0, max_features=6, max_leaf_nodes=15 \n",
      "[CV]  criterion=entropy, max_depth=7.0, max_features=6, max_leaf_nodes=15, total=   0.0s\n",
      "[CV] criterion=entropy, max_depth=7.0, max_features=6, max_leaf_nodes=15 \n",
      "[CV]  criterion=entropy, max_depth=7.0, max_features=6, max_leaf_nodes=15, total=   0.0s\n",
      "[CV] criterion=entropy, max_depth=7.0, max_features=8, max_leaf_nodes=2 \n",
      "[CV]  criterion=entropy, max_depth=7.0, max_features=8, max_leaf_nodes=2, total=   0.0s\n",
      "[CV] criterion=entropy, max_depth=7.0, max_features=8, max_leaf_nodes=2 \n",
      "[CV]  criterion=entropy, max_depth=7.0, max_features=8, max_leaf_nodes=2, total=   0.0s\n",
      "[CV] criterion=entropy, max_depth=7.0, max_features=8, max_leaf_nodes=2 \n",
      "[CV]  criterion=entropy, max_depth=7.0, max_features=8, max_leaf_nodes=2, total=   0.0s\n",
      "[CV] criterion=entropy, max_depth=7.0, max_features=8, max_leaf_nodes=5 \n",
      "[CV]  criterion=entropy, max_depth=7.0, max_features=8, max_leaf_nodes=5, total=   0.0s\n",
      "[CV] criterion=entropy, max_depth=7.0, max_features=8, max_leaf_nodes=5 \n",
      "[CV]  criterion=entropy, max_depth=7.0, max_features=8, max_leaf_nodes=5, total=   0.0s\n",
      "[CV] criterion=entropy, max_depth=7.0, max_features=8, max_leaf_nodes=5 \n",
      "[CV]  criterion=entropy, max_depth=7.0, max_features=8, max_leaf_nodes=5, total=   0.0s\n",
      "[CV] criterion=entropy, max_depth=7.0, max_features=8, max_leaf_nodes=10 \n",
      "[CV]  criterion=entropy, max_depth=7.0, max_features=8, max_leaf_nodes=10, total=   0.0s\n",
      "[CV] criterion=entropy, max_depth=7.0, max_features=8, max_leaf_nodes=10 \n",
      "[CV]  criterion=entropy, max_depth=7.0, max_features=8, max_leaf_nodes=10, total=   0.0s\n",
      "[CV] criterion=entropy, max_depth=7.0, max_features=8, max_leaf_nodes=10 \n",
      "[CV]  criterion=entropy, max_depth=7.0, max_features=8, max_leaf_nodes=10, total=   0.0s\n",
      "[CV] criterion=entropy, max_depth=7.0, max_features=8, max_leaf_nodes=15 \n",
      "[CV]  criterion=entropy, max_depth=7.0, max_features=8, max_leaf_nodes=15, total=   0.0s\n",
      "[CV] criterion=entropy, max_depth=7.0, max_features=8, max_leaf_nodes=15 \n",
      "[CV]  criterion=entropy, max_depth=7.0, max_features=8, max_leaf_nodes=15, total=   0.0s\n",
      "[CV] criterion=entropy, max_depth=7.0, max_features=8, max_leaf_nodes=15 \n",
      "[CV]  criterion=entropy, max_depth=7.0, max_features=8, max_leaf_nodes=15, total=   0.0s\n",
      "[CV] criterion=entropy, max_depth=7.0, max_features=11, max_leaf_nodes=2 \n",
      "[CV]  criterion=entropy, max_depth=7.0, max_features=11, max_leaf_nodes=2, total=   0.0s\n",
      "[CV] criterion=entropy, max_depth=7.0, max_features=11, max_leaf_nodes=2 \n",
      "[CV]  criterion=entropy, max_depth=7.0, max_features=11, max_leaf_nodes=2, total=   0.0s\n",
      "[CV] criterion=entropy, max_depth=7.0, max_features=11, max_leaf_nodes=2 \n",
      "[CV]  criterion=entropy, max_depth=7.0, max_features=11, max_leaf_nodes=2, total=   0.0s\n",
      "[CV] criterion=entropy, max_depth=7.0, max_features=11, max_leaf_nodes=5 \n",
      "[CV]  criterion=entropy, max_depth=7.0, max_features=11, max_leaf_nodes=5, total=   0.0s\n",
      "[CV] criterion=entropy, max_depth=7.0, max_features=11, max_leaf_nodes=5 \n",
      "[CV]  criterion=entropy, max_depth=7.0, max_features=11, max_leaf_nodes=5, total=   0.0s\n",
      "[CV] criterion=entropy, max_depth=7.0, max_features=11, max_leaf_nodes=5 \n",
      "[CV]  criterion=entropy, max_depth=7.0, max_features=11, max_leaf_nodes=5, total=   0.0s\n",
      "[CV] criterion=entropy, max_depth=7.0, max_features=11, max_leaf_nodes=10 \n",
      "[CV]  criterion=entropy, max_depth=7.0, max_features=11, max_leaf_nodes=10, total=   0.0s\n",
      "[CV] criterion=entropy, max_depth=7.0, max_features=11, max_leaf_nodes=10 \n",
      "[CV]  criterion=entropy, max_depth=7.0, max_features=11, max_leaf_nodes=10, total=   0.0s\n",
      "[CV] criterion=entropy, max_depth=7.0, max_features=11, max_leaf_nodes=10 \n",
      "[CV]  criterion=entropy, max_depth=7.0, max_features=11, max_leaf_nodes=10, total=   0.0s\n",
      "[CV] criterion=entropy, max_depth=7.0, max_features=11, max_leaf_nodes=15 \n",
      "[CV]  criterion=entropy, max_depth=7.0, max_features=11, max_leaf_nodes=15, total=   0.0s\n",
      "[CV] criterion=entropy, max_depth=7.0, max_features=11, max_leaf_nodes=15 \n",
      "[CV]  criterion=entropy, max_depth=7.0, max_features=11, max_leaf_nodes=15, total=   0.0s\n",
      "[CV] criterion=entropy, max_depth=7.0, max_features=11, max_leaf_nodes=15 \n",
      "[CV]  criterion=entropy, max_depth=7.0, max_features=11, max_leaf_nodes=15, total=   0.0s\n",
      "[CV] criterion=entropy, max_depth=8.0, max_features=2, max_leaf_nodes=2 \n",
      "[CV]  criterion=entropy, max_depth=8.0, max_features=2, max_leaf_nodes=2, total=   0.0s\n",
      "[CV] criterion=entropy, max_depth=8.0, max_features=2, max_leaf_nodes=2 \n",
      "[CV]  criterion=entropy, max_depth=8.0, max_features=2, max_leaf_nodes=2, total=   0.0s\n",
      "[CV] criterion=entropy, max_depth=8.0, max_features=2, max_leaf_nodes=2 \n",
      "[CV]  criterion=entropy, max_depth=8.0, max_features=2, max_leaf_nodes=2, total=   0.0s\n",
      "[CV] criterion=entropy, max_depth=8.0, max_features=2, max_leaf_nodes=5 \n",
      "[CV]  criterion=entropy, max_depth=8.0, max_features=2, max_leaf_nodes=5, total=   0.0s\n",
      "[CV] criterion=entropy, max_depth=8.0, max_features=2, max_leaf_nodes=5 \n",
      "[CV]  criterion=entropy, max_depth=8.0, max_features=2, max_leaf_nodes=5, total=   0.0s\n",
      "[CV] criterion=entropy, max_depth=8.0, max_features=2, max_leaf_nodes=5 \n",
      "[CV]  criterion=entropy, max_depth=8.0, max_features=2, max_leaf_nodes=5, total=   0.0s\n",
      "[CV] criterion=entropy, max_depth=8.0, max_features=2, max_leaf_nodes=10 \n",
      "[CV]  criterion=entropy, max_depth=8.0, max_features=2, max_leaf_nodes=10, total=   0.0s\n",
      "[CV] criterion=entropy, max_depth=8.0, max_features=2, max_leaf_nodes=10 \n",
      "[CV]  criterion=entropy, max_depth=8.0, max_features=2, max_leaf_nodes=10, total=   0.0s\n",
      "[CV] criterion=entropy, max_depth=8.0, max_features=2, max_leaf_nodes=10 \n",
      "[CV]  criterion=entropy, max_depth=8.0, max_features=2, max_leaf_nodes=10, total=   0.0s\n",
      "[CV] criterion=entropy, max_depth=8.0, max_features=2, max_leaf_nodes=15 \n",
      "[CV]  criterion=entropy, max_depth=8.0, max_features=2, max_leaf_nodes=15, total=   0.0s\n",
      "[CV] criterion=entropy, max_depth=8.0, max_features=2, max_leaf_nodes=15 \n",
      "[CV]  criterion=entropy, max_depth=8.0, max_features=2, max_leaf_nodes=15, total=   0.0s\n",
      "[CV] criterion=entropy, max_depth=8.0, max_features=2, max_leaf_nodes=15 \n",
      "[CV]  criterion=entropy, max_depth=8.0, max_features=2, max_leaf_nodes=15, total=   0.0s\n",
      "[CV] criterion=entropy, max_depth=8.0, max_features=4, max_leaf_nodes=2 \n",
      "[CV]  criterion=entropy, max_depth=8.0, max_features=4, max_leaf_nodes=2, total=   0.0s\n",
      "[CV] criterion=entropy, max_depth=8.0, max_features=4, max_leaf_nodes=2 \n",
      "[CV]  criterion=entropy, max_depth=8.0, max_features=4, max_leaf_nodes=2, total=   0.0s\n",
      "[CV] criterion=entropy, max_depth=8.0, max_features=4, max_leaf_nodes=2 \n",
      "[CV]  criterion=entropy, max_depth=8.0, max_features=4, max_leaf_nodes=2, total=   0.0s\n",
      "[CV] criterion=entropy, max_depth=8.0, max_features=4, max_leaf_nodes=5 \n",
      "[CV]  criterion=entropy, max_depth=8.0, max_features=4, max_leaf_nodes=5, total=   0.0s\n",
      "[CV] criterion=entropy, max_depth=8.0, max_features=4, max_leaf_nodes=5 \n",
      "[CV]  criterion=entropy, max_depth=8.0, max_features=4, max_leaf_nodes=5, total=   0.0s\n",
      "[CV] criterion=entropy, max_depth=8.0, max_features=4, max_leaf_nodes=5 \n",
      "[CV]  criterion=entropy, max_depth=8.0, max_features=4, max_leaf_nodes=5, total=   0.0s\n",
      "[CV] criterion=entropy, max_depth=8.0, max_features=4, max_leaf_nodes=10 \n",
      "[CV]  criterion=entropy, max_depth=8.0, max_features=4, max_leaf_nodes=10, total=   0.0s\n",
      "[CV] criterion=entropy, max_depth=8.0, max_features=4, max_leaf_nodes=10 \n",
      "[CV]  criterion=entropy, max_depth=8.0, max_features=4, max_leaf_nodes=10, total=   0.0s\n",
      "[CV] criterion=entropy, max_depth=8.0, max_features=4, max_leaf_nodes=10 \n",
      "[CV]  criterion=entropy, max_depth=8.0, max_features=4, max_leaf_nodes=10, total=   0.0s\n",
      "[CV] criterion=entropy, max_depth=8.0, max_features=4, max_leaf_nodes=15 \n",
      "[CV]  criterion=entropy, max_depth=8.0, max_features=4, max_leaf_nodes=15, total=   0.0s\n",
      "[CV] criterion=entropy, max_depth=8.0, max_features=4, max_leaf_nodes=15 \n",
      "[CV]  criterion=entropy, max_depth=8.0, max_features=4, max_leaf_nodes=15, total=   0.0s\n",
      "[CV] criterion=entropy, max_depth=8.0, max_features=4, max_leaf_nodes=15 \n",
      "[CV]  criterion=entropy, max_depth=8.0, max_features=4, max_leaf_nodes=15, total=   0.0s\n",
      "[CV] criterion=entropy, max_depth=8.0, max_features=6, max_leaf_nodes=2 \n",
      "[CV]  criterion=entropy, max_depth=8.0, max_features=6, max_leaf_nodes=2, total=   0.0s\n",
      "[CV] criterion=entropy, max_depth=8.0, max_features=6, max_leaf_nodes=2 \n",
      "[CV]  criterion=entropy, max_depth=8.0, max_features=6, max_leaf_nodes=2, total=   0.0s\n",
      "[CV] criterion=entropy, max_depth=8.0, max_features=6, max_leaf_nodes=2 \n",
      "[CV]  criterion=entropy, max_depth=8.0, max_features=6, max_leaf_nodes=2, total=   0.0s\n",
      "[CV] criterion=entropy, max_depth=8.0, max_features=6, max_leaf_nodes=5 \n",
      "[CV]  criterion=entropy, max_depth=8.0, max_features=6, max_leaf_nodes=5, total=   0.0s\n",
      "[CV] criterion=entropy, max_depth=8.0, max_features=6, max_leaf_nodes=5 \n",
      "[CV]  criterion=entropy, max_depth=8.0, max_features=6, max_leaf_nodes=5, total=   0.0s\n",
      "[CV] criterion=entropy, max_depth=8.0, max_features=6, max_leaf_nodes=5 \n",
      "[CV]  criterion=entropy, max_depth=8.0, max_features=6, max_leaf_nodes=5, total=   0.0s\n",
      "[CV] criterion=entropy, max_depth=8.0, max_features=6, max_leaf_nodes=10 \n",
      "[CV]  criterion=entropy, max_depth=8.0, max_features=6, max_leaf_nodes=10, total=   0.0s\n",
      "[CV] criterion=entropy, max_depth=8.0, max_features=6, max_leaf_nodes=10 \n",
      "[CV]  criterion=entropy, max_depth=8.0, max_features=6, max_leaf_nodes=10, total=   0.0s\n",
      "[CV] criterion=entropy, max_depth=8.0, max_features=6, max_leaf_nodes=10 \n",
      "[CV]  criterion=entropy, max_depth=8.0, max_features=6, max_leaf_nodes=10, total=   0.0s\n",
      "[CV] criterion=entropy, max_depth=8.0, max_features=6, max_leaf_nodes=15 \n",
      "[CV]  criterion=entropy, max_depth=8.0, max_features=6, max_leaf_nodes=15, total=   0.0s\n",
      "[CV] criterion=entropy, max_depth=8.0, max_features=6, max_leaf_nodes=15 \n",
      "[CV]  criterion=entropy, max_depth=8.0, max_features=6, max_leaf_nodes=15, total=   0.0s\n",
      "[CV] criterion=entropy, max_depth=8.0, max_features=6, max_leaf_nodes=15 \n",
      "[CV]  criterion=entropy, max_depth=8.0, max_features=6, max_leaf_nodes=15, total=   0.0s\n",
      "[CV] criterion=entropy, max_depth=8.0, max_features=8, max_leaf_nodes=2 \n",
      "[CV]  criterion=entropy, max_depth=8.0, max_features=8, max_leaf_nodes=2, total=   0.0s\n",
      "[CV] criterion=entropy, max_depth=8.0, max_features=8, max_leaf_nodes=2 \n",
      "[CV]  criterion=entropy, max_depth=8.0, max_features=8, max_leaf_nodes=2, total=   0.0s\n",
      "[CV] criterion=entropy, max_depth=8.0, max_features=8, max_leaf_nodes=2 \n",
      "[CV]  criterion=entropy, max_depth=8.0, max_features=8, max_leaf_nodes=2, total=   0.0s\n",
      "[CV] criterion=entropy, max_depth=8.0, max_features=8, max_leaf_nodes=5 \n",
      "[CV]  criterion=entropy, max_depth=8.0, max_features=8, max_leaf_nodes=5, total=   0.0s\n",
      "[CV] criterion=entropy, max_depth=8.0, max_features=8, max_leaf_nodes=5 \n",
      "[CV]  criterion=entropy, max_depth=8.0, max_features=8, max_leaf_nodes=5, total=   0.0s\n",
      "[CV] criterion=entropy, max_depth=8.0, max_features=8, max_leaf_nodes=5 \n",
      "[CV]  criterion=entropy, max_depth=8.0, max_features=8, max_leaf_nodes=5, total=   0.0s\n",
      "[CV] criterion=entropy, max_depth=8.0, max_features=8, max_leaf_nodes=10 \n",
      "[CV]  criterion=entropy, max_depth=8.0, max_features=8, max_leaf_nodes=10, total=   0.0s\n",
      "[CV] criterion=entropy, max_depth=8.0, max_features=8, max_leaf_nodes=10 \n",
      "[CV]  criterion=entropy, max_depth=8.0, max_features=8, max_leaf_nodes=10, total=   0.0s\n",
      "[CV] criterion=entropy, max_depth=8.0, max_features=8, max_leaf_nodes=10 \n",
      "[CV]  criterion=entropy, max_depth=8.0, max_features=8, max_leaf_nodes=10, total=   0.0s\n",
      "[CV] criterion=entropy, max_depth=8.0, max_features=8, max_leaf_nodes=15 \n",
      "[CV]  criterion=entropy, max_depth=8.0, max_features=8, max_leaf_nodes=15, total=   0.0s\n",
      "[CV] criterion=entropy, max_depth=8.0, max_features=8, max_leaf_nodes=15 \n",
      "[CV]  criterion=entropy, max_depth=8.0, max_features=8, max_leaf_nodes=15, total=   0.0s\n",
      "[CV] criterion=entropy, max_depth=8.0, max_features=8, max_leaf_nodes=15 \n",
      "[CV]  criterion=entropy, max_depth=8.0, max_features=8, max_leaf_nodes=15, total=   0.0s\n",
      "[CV] criterion=entropy, max_depth=8.0, max_features=11, max_leaf_nodes=2 \n",
      "[CV]  criterion=entropy, max_depth=8.0, max_features=11, max_leaf_nodes=2, total=   0.0s\n",
      "[CV] criterion=entropy, max_depth=8.0, max_features=11, max_leaf_nodes=2 \n",
      "[CV]  criterion=entropy, max_depth=8.0, max_features=11, max_leaf_nodes=2, total=   0.0s\n",
      "[CV] criterion=entropy, max_depth=8.0, max_features=11, max_leaf_nodes=2 \n",
      "[CV]  criterion=entropy, max_depth=8.0, max_features=11, max_leaf_nodes=2, total=   0.0s\n",
      "[CV] criterion=entropy, max_depth=8.0, max_features=11, max_leaf_nodes=5 \n",
      "[CV]  criterion=entropy, max_depth=8.0, max_features=11, max_leaf_nodes=5, total=   0.0s\n",
      "[CV] criterion=entropy, max_depth=8.0, max_features=11, max_leaf_nodes=5 \n",
      "[CV]  criterion=entropy, max_depth=8.0, max_features=11, max_leaf_nodes=5, total=   0.0s\n",
      "[CV] criterion=entropy, max_depth=8.0, max_features=11, max_leaf_nodes=5 \n",
      "[CV]  criterion=entropy, max_depth=8.0, max_features=11, max_leaf_nodes=5, total=   0.0s\n",
      "[CV] criterion=entropy, max_depth=8.0, max_features=11, max_leaf_nodes=10 \n",
      "[CV]  criterion=entropy, max_depth=8.0, max_features=11, max_leaf_nodes=10, total=   0.0s\n",
      "[CV] criterion=entropy, max_depth=8.0, max_features=11, max_leaf_nodes=10 \n",
      "[CV]  criterion=entropy, max_depth=8.0, max_features=11, max_leaf_nodes=10, total=   0.0s\n",
      "[CV] criterion=entropy, max_depth=8.0, max_features=11, max_leaf_nodes=10 \n",
      "[CV]  criterion=entropy, max_depth=8.0, max_features=11, max_leaf_nodes=10, total=   0.0s\n",
      "[CV] criterion=entropy, max_depth=8.0, max_features=11, max_leaf_nodes=15 \n",
      "[CV]  criterion=entropy, max_depth=8.0, max_features=11, max_leaf_nodes=15, total=   0.0s\n",
      "[CV] criterion=entropy, max_depth=8.0, max_features=11, max_leaf_nodes=15 \n",
      "[CV]  criterion=entropy, max_depth=8.0, max_features=11, max_leaf_nodes=15, total=   0.0s\n",
      "[CV] criterion=entropy, max_depth=8.0, max_features=11, max_leaf_nodes=15 \n",
      "[CV]  criterion=entropy, max_depth=8.0, max_features=11, max_leaf_nodes=15, total=   0.0s\n",
      "[CV] criterion=entropy, max_depth=9.0, max_features=2, max_leaf_nodes=2 \n",
      "[CV]  criterion=entropy, max_depth=9.0, max_features=2, max_leaf_nodes=2, total=   0.0s\n",
      "[CV] criterion=entropy, max_depth=9.0, max_features=2, max_leaf_nodes=2 \n",
      "[CV]  criterion=entropy, max_depth=9.0, max_features=2, max_leaf_nodes=2, total=   0.0s\n",
      "[CV] criterion=entropy, max_depth=9.0, max_features=2, max_leaf_nodes=2 \n",
      "[CV]  criterion=entropy, max_depth=9.0, max_features=2, max_leaf_nodes=2, total=   0.0s\n",
      "[CV] criterion=entropy, max_depth=9.0, max_features=2, max_leaf_nodes=5 \n",
      "[CV]  criterion=entropy, max_depth=9.0, max_features=2, max_leaf_nodes=5, total=   0.0s\n",
      "[CV] criterion=entropy, max_depth=9.0, max_features=2, max_leaf_nodes=5 \n",
      "[CV]  criterion=entropy, max_depth=9.0, max_features=2, max_leaf_nodes=5, total=   0.0s\n",
      "[CV] criterion=entropy, max_depth=9.0, max_features=2, max_leaf_nodes=5 \n",
      "[CV]  criterion=entropy, max_depth=9.0, max_features=2, max_leaf_nodes=5, total=   0.0s\n",
      "[CV] criterion=entropy, max_depth=9.0, max_features=2, max_leaf_nodes=10 \n",
      "[CV]  criterion=entropy, max_depth=9.0, max_features=2, max_leaf_nodes=10, total=   0.0s\n",
      "[CV] criterion=entropy, max_depth=9.0, max_features=2, max_leaf_nodes=10 \n",
      "[CV]  criterion=entropy, max_depth=9.0, max_features=2, max_leaf_nodes=10, total=   0.0s\n",
      "[CV] criterion=entropy, max_depth=9.0, max_features=2, max_leaf_nodes=10 \n",
      "[CV]  criterion=entropy, max_depth=9.0, max_features=2, max_leaf_nodes=10, total=   0.0s\n",
      "[CV] criterion=entropy, max_depth=9.0, max_features=2, max_leaf_nodes=15 \n",
      "[CV]  criterion=entropy, max_depth=9.0, max_features=2, max_leaf_nodes=15, total=   0.0s\n",
      "[CV] criterion=entropy, max_depth=9.0, max_features=2, max_leaf_nodes=15 \n",
      "[CV]  criterion=entropy, max_depth=9.0, max_features=2, max_leaf_nodes=15, total=   0.0s\n",
      "[CV] criterion=entropy, max_depth=9.0, max_features=2, max_leaf_nodes=15 \n",
      "[CV]  criterion=entropy, max_depth=9.0, max_features=2, max_leaf_nodes=15, total=   0.0s\n",
      "[CV] criterion=entropy, max_depth=9.0, max_features=4, max_leaf_nodes=2 \n",
      "[CV]  criterion=entropy, max_depth=9.0, max_features=4, max_leaf_nodes=2, total=   0.0s\n",
      "[CV] criterion=entropy, max_depth=9.0, max_features=4, max_leaf_nodes=2 \n",
      "[CV]  criterion=entropy, max_depth=9.0, max_features=4, max_leaf_nodes=2, total=   0.0s\n",
      "[CV] criterion=entropy, max_depth=9.0, max_features=4, max_leaf_nodes=2 \n",
      "[CV]  criterion=entropy, max_depth=9.0, max_features=4, max_leaf_nodes=2, total=   0.0s\n",
      "[CV] criterion=entropy, max_depth=9.0, max_features=4, max_leaf_nodes=5 \n",
      "[CV]  criterion=entropy, max_depth=9.0, max_features=4, max_leaf_nodes=5, total=   0.0s\n",
      "[CV] criterion=entropy, max_depth=9.0, max_features=4, max_leaf_nodes=5 \n",
      "[CV]  criterion=entropy, max_depth=9.0, max_features=4, max_leaf_nodes=5, total=   0.0s\n",
      "[CV] criterion=entropy, max_depth=9.0, max_features=4, max_leaf_nodes=5 \n",
      "[CV]  criterion=entropy, max_depth=9.0, max_features=4, max_leaf_nodes=5, total=   0.0s\n",
      "[CV] criterion=entropy, max_depth=9.0, max_features=4, max_leaf_nodes=10 \n",
      "[CV]  criterion=entropy, max_depth=9.0, max_features=4, max_leaf_nodes=10, total=   0.0s\n",
      "[CV] criterion=entropy, max_depth=9.0, max_features=4, max_leaf_nodes=10 \n",
      "[CV]  criterion=entropy, max_depth=9.0, max_features=4, max_leaf_nodes=10, total=   0.0s\n",
      "[CV] criterion=entropy, max_depth=9.0, max_features=4, max_leaf_nodes=10 \n",
      "[CV]  criterion=entropy, max_depth=9.0, max_features=4, max_leaf_nodes=10, total=   0.0s\n",
      "[CV] criterion=entropy, max_depth=9.0, max_features=4, max_leaf_nodes=15 \n",
      "[CV]  criterion=entropy, max_depth=9.0, max_features=4, max_leaf_nodes=15, total=   0.0s\n",
      "[CV] criterion=entropy, max_depth=9.0, max_features=4, max_leaf_nodes=15 \n",
      "[CV]  criterion=entropy, max_depth=9.0, max_features=4, max_leaf_nodes=15, total=   0.0s\n",
      "[CV] criterion=entropy, max_depth=9.0, max_features=4, max_leaf_nodes=15 \n",
      "[CV]  criterion=entropy, max_depth=9.0, max_features=4, max_leaf_nodes=15, total=   0.0s\n",
      "[CV] criterion=entropy, max_depth=9.0, max_features=6, max_leaf_nodes=2 \n",
      "[CV]  criterion=entropy, max_depth=9.0, max_features=6, max_leaf_nodes=2, total=   0.0s\n",
      "[CV] criterion=entropy, max_depth=9.0, max_features=6, max_leaf_nodes=2 \n",
      "[CV]  criterion=entropy, max_depth=9.0, max_features=6, max_leaf_nodes=2, total=   0.0s\n",
      "[CV] criterion=entropy, max_depth=9.0, max_features=6, max_leaf_nodes=2 \n",
      "[CV]  criterion=entropy, max_depth=9.0, max_features=6, max_leaf_nodes=2, total=   0.0s\n",
      "[CV] criterion=entropy, max_depth=9.0, max_features=6, max_leaf_nodes=5 \n",
      "[CV]  criterion=entropy, max_depth=9.0, max_features=6, max_leaf_nodes=5, total=   0.0s\n",
      "[CV] criterion=entropy, max_depth=9.0, max_features=6, max_leaf_nodes=5 \n",
      "[CV]  criterion=entropy, max_depth=9.0, max_features=6, max_leaf_nodes=5, total=   0.0s\n",
      "[CV] criterion=entropy, max_depth=9.0, max_features=6, max_leaf_nodes=5 \n",
      "[CV]  criterion=entropy, max_depth=9.0, max_features=6, max_leaf_nodes=5, total=   0.0s\n",
      "[CV] criterion=entropy, max_depth=9.0, max_features=6, max_leaf_nodes=10 \n",
      "[CV]  criterion=entropy, max_depth=9.0, max_features=6, max_leaf_nodes=10, total=   0.0s\n",
      "[CV] criterion=entropy, max_depth=9.0, max_features=6, max_leaf_nodes=10 \n",
      "[CV]  criterion=entropy, max_depth=9.0, max_features=6, max_leaf_nodes=10, total=   0.0s\n",
      "[CV] criterion=entropy, max_depth=9.0, max_features=6, max_leaf_nodes=10 \n",
      "[CV]  criterion=entropy, max_depth=9.0, max_features=6, max_leaf_nodes=10, total=   0.0s\n",
      "[CV] criterion=entropy, max_depth=9.0, max_features=6, max_leaf_nodes=15 \n",
      "[CV]  criterion=entropy, max_depth=9.0, max_features=6, max_leaf_nodes=15, total=   0.0s\n",
      "[CV] criterion=entropy, max_depth=9.0, max_features=6, max_leaf_nodes=15 \n",
      "[CV]  criterion=entropy, max_depth=9.0, max_features=6, max_leaf_nodes=15, total=   0.0s\n",
      "[CV] criterion=entropy, max_depth=9.0, max_features=6, max_leaf_nodes=15 \n",
      "[CV]  criterion=entropy, max_depth=9.0, max_features=6, max_leaf_nodes=15, total=   0.0s\n",
      "[CV] criterion=entropy, max_depth=9.0, max_features=8, max_leaf_nodes=2 \n",
      "[CV]  criterion=entropy, max_depth=9.0, max_features=8, max_leaf_nodes=2, total=   0.0s\n",
      "[CV] criterion=entropy, max_depth=9.0, max_features=8, max_leaf_nodes=2 \n",
      "[CV]  criterion=entropy, max_depth=9.0, max_features=8, max_leaf_nodes=2, total=   0.0s\n",
      "[CV] criterion=entropy, max_depth=9.0, max_features=8, max_leaf_nodes=2 \n",
      "[CV]  criterion=entropy, max_depth=9.0, max_features=8, max_leaf_nodes=2, total=   0.0s\n",
      "[CV] criterion=entropy, max_depth=9.0, max_features=8, max_leaf_nodes=5 \n",
      "[CV]  criterion=entropy, max_depth=9.0, max_features=8, max_leaf_nodes=5, total=   0.0s\n",
      "[CV] criterion=entropy, max_depth=9.0, max_features=8, max_leaf_nodes=5 \n",
      "[CV]  criterion=entropy, max_depth=9.0, max_features=8, max_leaf_nodes=5, total=   0.0s\n",
      "[CV] criterion=entropy, max_depth=9.0, max_features=8, max_leaf_nodes=5 \n",
      "[CV]  criterion=entropy, max_depth=9.0, max_features=8, max_leaf_nodes=5, total=   0.0s\n",
      "[CV] criterion=entropy, max_depth=9.0, max_features=8, max_leaf_nodes=10 \n",
      "[CV]  criterion=entropy, max_depth=9.0, max_features=8, max_leaf_nodes=10, total=   0.0s\n",
      "[CV] criterion=entropy, max_depth=9.0, max_features=8, max_leaf_nodes=10 \n",
      "[CV]  criterion=entropy, max_depth=9.0, max_features=8, max_leaf_nodes=10, total=   0.0s\n",
      "[CV] criterion=entropy, max_depth=9.0, max_features=8, max_leaf_nodes=10 \n",
      "[CV]  criterion=entropy, max_depth=9.0, max_features=8, max_leaf_nodes=10, total=   0.0s\n",
      "[CV] criterion=entropy, max_depth=9.0, max_features=8, max_leaf_nodes=15 \n",
      "[CV]  criterion=entropy, max_depth=9.0, max_features=8, max_leaf_nodes=15, total=   0.0s\n",
      "[CV] criterion=entropy, max_depth=9.0, max_features=8, max_leaf_nodes=15 \n",
      "[CV]  criterion=entropy, max_depth=9.0, max_features=8, max_leaf_nodes=15, total=   0.0s\n",
      "[CV] criterion=entropy, max_depth=9.0, max_features=8, max_leaf_nodes=15 \n",
      "[CV]  criterion=entropy, max_depth=9.0, max_features=8, max_leaf_nodes=15, total=   0.0s\n",
      "[CV] criterion=entropy, max_depth=9.0, max_features=11, max_leaf_nodes=2 \n",
      "[CV]  criterion=entropy, max_depth=9.0, max_features=11, max_leaf_nodes=2, total=   0.0s\n",
      "[CV] criterion=entropy, max_depth=9.0, max_features=11, max_leaf_nodes=2 \n",
      "[CV]  criterion=entropy, max_depth=9.0, max_features=11, max_leaf_nodes=2, total=   0.0s\n",
      "[CV] criterion=entropy, max_depth=9.0, max_features=11, max_leaf_nodes=2 \n",
      "[CV]  criterion=entropy, max_depth=9.0, max_features=11, max_leaf_nodes=2, total=   0.0s\n",
      "[CV] criterion=entropy, max_depth=9.0, max_features=11, max_leaf_nodes=5 \n",
      "[CV]  criterion=entropy, max_depth=9.0, max_features=11, max_leaf_nodes=5, total=   0.0s\n",
      "[CV] criterion=entropy, max_depth=9.0, max_features=11, max_leaf_nodes=5 \n",
      "[CV]  criterion=entropy, max_depth=9.0, max_features=11, max_leaf_nodes=5, total=   0.0s\n",
      "[CV] criterion=entropy, max_depth=9.0, max_features=11, max_leaf_nodes=5 \n",
      "[CV]  criterion=entropy, max_depth=9.0, max_features=11, max_leaf_nodes=5, total=   0.0s\n",
      "[CV] criterion=entropy, max_depth=9.0, max_features=11, max_leaf_nodes=10 \n",
      "[CV]  criterion=entropy, max_depth=9.0, max_features=11, max_leaf_nodes=10, total=   0.0s\n",
      "[CV] criterion=entropy, max_depth=9.0, max_features=11, max_leaf_nodes=10 \n",
      "[CV]  criterion=entropy, max_depth=9.0, max_features=11, max_leaf_nodes=10, total=   0.0s\n",
      "[CV] criterion=entropy, max_depth=9.0, max_features=11, max_leaf_nodes=10 \n",
      "[CV]  criterion=entropy, max_depth=9.0, max_features=11, max_leaf_nodes=10, total=   0.0s\n",
      "[CV] criterion=entropy, max_depth=9.0, max_features=11, max_leaf_nodes=15 \n",
      "[CV]  criterion=entropy, max_depth=9.0, max_features=11, max_leaf_nodes=15, total=   0.0s\n",
      "[CV] criterion=entropy, max_depth=9.0, max_features=11, max_leaf_nodes=15 \n",
      "[CV]  criterion=entropy, max_depth=9.0, max_features=11, max_leaf_nodes=15, total=   0.0s\n",
      "[CV] criterion=entropy, max_depth=9.0, max_features=11, max_leaf_nodes=15 \n",
      "[CV]  criterion=entropy, max_depth=9.0, max_features=11, max_leaf_nodes=15, total=   0.0s\n",
      "[CV] criterion=entropy, max_depth=10.0, max_features=2, max_leaf_nodes=2 \n",
      "[CV]  criterion=entropy, max_depth=10.0, max_features=2, max_leaf_nodes=2, total=   0.0s\n",
      "[CV] criterion=entropy, max_depth=10.0, max_features=2, max_leaf_nodes=2 \n",
      "[CV]  criterion=entropy, max_depth=10.0, max_features=2, max_leaf_nodes=2, total=   0.0s\n",
      "[CV] criterion=entropy, max_depth=10.0, max_features=2, max_leaf_nodes=2 \n",
      "[CV]  criterion=entropy, max_depth=10.0, max_features=2, max_leaf_nodes=2, total=   0.0s\n",
      "[CV] criterion=entropy, max_depth=10.0, max_features=2, max_leaf_nodes=5 \n",
      "[CV]  criterion=entropy, max_depth=10.0, max_features=2, max_leaf_nodes=5, total=   0.0s\n",
      "[CV] criterion=entropy, max_depth=10.0, max_features=2, max_leaf_nodes=5 \n",
      "[CV]  criterion=entropy, max_depth=10.0, max_features=2, max_leaf_nodes=5, total=   0.0s\n",
      "[CV] criterion=entropy, max_depth=10.0, max_features=2, max_leaf_nodes=5 \n",
      "[CV]  criterion=entropy, max_depth=10.0, max_features=2, max_leaf_nodes=5, total=   0.0s\n",
      "[CV] criterion=entropy, max_depth=10.0, max_features=2, max_leaf_nodes=10 \n",
      "[CV]  criterion=entropy, max_depth=10.0, max_features=2, max_leaf_nodes=10, total=   0.0s\n",
      "[CV] criterion=entropy, max_depth=10.0, max_features=2, max_leaf_nodes=10 \n",
      "[CV]  criterion=entropy, max_depth=10.0, max_features=2, max_leaf_nodes=10, total=   0.0s\n",
      "[CV] criterion=entropy, max_depth=10.0, max_features=2, max_leaf_nodes=10 \n",
      "[CV]  criterion=entropy, max_depth=10.0, max_features=2, max_leaf_nodes=10, total=   0.0s\n",
      "[CV] criterion=entropy, max_depth=10.0, max_features=2, max_leaf_nodes=15 \n",
      "[CV]  criterion=entropy, max_depth=10.0, max_features=2, max_leaf_nodes=15, total=   0.0s\n",
      "[CV] criterion=entropy, max_depth=10.0, max_features=2, max_leaf_nodes=15 \n",
      "[CV]  criterion=entropy, max_depth=10.0, max_features=2, max_leaf_nodes=15, total=   0.0s\n",
      "[CV] criterion=entropy, max_depth=10.0, max_features=2, max_leaf_nodes=15 \n",
      "[CV]  criterion=entropy, max_depth=10.0, max_features=2, max_leaf_nodes=15, total=   0.0s\n",
      "[CV] criterion=entropy, max_depth=10.0, max_features=4, max_leaf_nodes=2 \n",
      "[CV]  criterion=entropy, max_depth=10.0, max_features=4, max_leaf_nodes=2, total=   0.0s\n",
      "[CV] criterion=entropy, max_depth=10.0, max_features=4, max_leaf_nodes=2 \n",
      "[CV]  criterion=entropy, max_depth=10.0, max_features=4, max_leaf_nodes=2, total=   0.0s\n",
      "[CV] criterion=entropy, max_depth=10.0, max_features=4, max_leaf_nodes=2 \n",
      "[CV]  criterion=entropy, max_depth=10.0, max_features=4, max_leaf_nodes=2, total=   0.0s\n",
      "[CV] criterion=entropy, max_depth=10.0, max_features=4, max_leaf_nodes=5 \n",
      "[CV]  criterion=entropy, max_depth=10.0, max_features=4, max_leaf_nodes=5, total=   0.0s\n",
      "[CV] criterion=entropy, max_depth=10.0, max_features=4, max_leaf_nodes=5 \n",
      "[CV]  criterion=entropy, max_depth=10.0, max_features=4, max_leaf_nodes=5, total=   0.0s\n",
      "[CV] criterion=entropy, max_depth=10.0, max_features=4, max_leaf_nodes=5 \n",
      "[CV]  criterion=entropy, max_depth=10.0, max_features=4, max_leaf_nodes=5, total=   0.0s\n",
      "[CV] criterion=entropy, max_depth=10.0, max_features=4, max_leaf_nodes=10 \n",
      "[CV]  criterion=entropy, max_depth=10.0, max_features=4, max_leaf_nodes=10, total=   0.0s\n",
      "[CV] criterion=entropy, max_depth=10.0, max_features=4, max_leaf_nodes=10 \n",
      "[CV]  criterion=entropy, max_depth=10.0, max_features=4, max_leaf_nodes=10, total=   0.0s\n",
      "[CV] criterion=entropy, max_depth=10.0, max_features=4, max_leaf_nodes=10 \n",
      "[CV]  criterion=entropy, max_depth=10.0, max_features=4, max_leaf_nodes=10, total=   0.0s\n",
      "[CV] criterion=entropy, max_depth=10.0, max_features=4, max_leaf_nodes=15 \n",
      "[CV]  criterion=entropy, max_depth=10.0, max_features=4, max_leaf_nodes=15, total=   0.0s\n",
      "[CV] criterion=entropy, max_depth=10.0, max_features=4, max_leaf_nodes=15 \n",
      "[CV]  criterion=entropy, max_depth=10.0, max_features=4, max_leaf_nodes=15, total=   0.0s\n",
      "[CV] criterion=entropy, max_depth=10.0, max_features=4, max_leaf_nodes=15 \n",
      "[CV]  criterion=entropy, max_depth=10.0, max_features=4, max_leaf_nodes=15, total=   0.0s\n",
      "[CV] criterion=entropy, max_depth=10.0, max_features=6, max_leaf_nodes=2 \n",
      "[CV]  criterion=entropy, max_depth=10.0, max_features=6, max_leaf_nodes=2, total=   0.0s\n",
      "[CV] criterion=entropy, max_depth=10.0, max_features=6, max_leaf_nodes=2 \n",
      "[CV]  criterion=entropy, max_depth=10.0, max_features=6, max_leaf_nodes=2, total=   0.0s\n",
      "[CV] criterion=entropy, max_depth=10.0, max_features=6, max_leaf_nodes=2 \n",
      "[CV]  criterion=entropy, max_depth=10.0, max_features=6, max_leaf_nodes=2, total=   0.0s\n",
      "[CV] criterion=entropy, max_depth=10.0, max_features=6, max_leaf_nodes=5 \n",
      "[CV]  criterion=entropy, max_depth=10.0, max_features=6, max_leaf_nodes=5, total=   0.0s\n",
      "[CV] criterion=entropy, max_depth=10.0, max_features=6, max_leaf_nodes=5 \n",
      "[CV]  criterion=entropy, max_depth=10.0, max_features=6, max_leaf_nodes=5, total=   0.0s\n",
      "[CV] criterion=entropy, max_depth=10.0, max_features=6, max_leaf_nodes=5 \n",
      "[CV]  criterion=entropy, max_depth=10.0, max_features=6, max_leaf_nodes=5, total=   0.0s\n",
      "[CV] criterion=entropy, max_depth=10.0, max_features=6, max_leaf_nodes=10 \n",
      "[CV]  criterion=entropy, max_depth=10.0, max_features=6, max_leaf_nodes=10, total=   0.0s\n",
      "[CV] criterion=entropy, max_depth=10.0, max_features=6, max_leaf_nodes=10 \n",
      "[CV]  criterion=entropy, max_depth=10.0, max_features=6, max_leaf_nodes=10, total=   0.0s\n",
      "[CV] criterion=entropy, max_depth=10.0, max_features=6, max_leaf_nodes=10 \n",
      "[CV]  criterion=entropy, max_depth=10.0, max_features=6, max_leaf_nodes=10, total=   0.0s\n",
      "[CV] criterion=entropy, max_depth=10.0, max_features=6, max_leaf_nodes=15 \n",
      "[CV]  criterion=entropy, max_depth=10.0, max_features=6, max_leaf_nodes=15, total=   0.0s\n",
      "[CV] criterion=entropy, max_depth=10.0, max_features=6, max_leaf_nodes=15 \n",
      "[CV]  criterion=entropy, max_depth=10.0, max_features=6, max_leaf_nodes=15, total=   0.0s\n",
      "[CV] criterion=entropy, max_depth=10.0, max_features=6, max_leaf_nodes=15 \n",
      "[CV]  criterion=entropy, max_depth=10.0, max_features=6, max_leaf_nodes=15, total=   0.0s\n",
      "[CV] criterion=entropy, max_depth=10.0, max_features=8, max_leaf_nodes=2 \n",
      "[CV]  criterion=entropy, max_depth=10.0, max_features=8, max_leaf_nodes=2, total=   0.0s\n",
      "[CV] criterion=entropy, max_depth=10.0, max_features=8, max_leaf_nodes=2 \n",
      "[CV]  criterion=entropy, max_depth=10.0, max_features=8, max_leaf_nodes=2, total=   0.0s\n",
      "[CV] criterion=entropy, max_depth=10.0, max_features=8, max_leaf_nodes=2 \n",
      "[CV]  criterion=entropy, max_depth=10.0, max_features=8, max_leaf_nodes=2, total=   0.0s\n",
      "[CV] criterion=entropy, max_depth=10.0, max_features=8, max_leaf_nodes=5 \n",
      "[CV]  criterion=entropy, max_depth=10.0, max_features=8, max_leaf_nodes=5, total=   0.0s\n",
      "[CV] criterion=entropy, max_depth=10.0, max_features=8, max_leaf_nodes=5 \n",
      "[CV]  criterion=entropy, max_depth=10.0, max_features=8, max_leaf_nodes=5, total=   0.0s\n",
      "[CV] criterion=entropy, max_depth=10.0, max_features=8, max_leaf_nodes=5 \n",
      "[CV]  criterion=entropy, max_depth=10.0, max_features=8, max_leaf_nodes=5, total=   0.0s\n",
      "[CV] criterion=entropy, max_depth=10.0, max_features=8, max_leaf_nodes=10 \n",
      "[CV]  criterion=entropy, max_depth=10.0, max_features=8, max_leaf_nodes=10, total=   0.0s\n",
      "[CV] criterion=entropy, max_depth=10.0, max_features=8, max_leaf_nodes=10 \n",
      "[CV]  criterion=entropy, max_depth=10.0, max_features=8, max_leaf_nodes=10, total=   0.0s\n",
      "[CV] criterion=entropy, max_depth=10.0, max_features=8, max_leaf_nodes=10 \n",
      "[CV]  criterion=entropy, max_depth=10.0, max_features=8, max_leaf_nodes=10, total=   0.0s\n",
      "[CV] criterion=entropy, max_depth=10.0, max_features=8, max_leaf_nodes=15 \n",
      "[CV]  criterion=entropy, max_depth=10.0, max_features=8, max_leaf_nodes=15, total=   0.0s\n",
      "[CV] criterion=entropy, max_depth=10.0, max_features=8, max_leaf_nodes=15 \n",
      "[CV]  criterion=entropy, max_depth=10.0, max_features=8, max_leaf_nodes=15, total=   0.0s\n",
      "[CV] criterion=entropy, max_depth=10.0, max_features=8, max_leaf_nodes=15 \n",
      "[CV]  criterion=entropy, max_depth=10.0, max_features=8, max_leaf_nodes=15, total=   0.0s\n",
      "[CV] criterion=entropy, max_depth=10.0, max_features=11, max_leaf_nodes=2 \n",
      "[CV]  criterion=entropy, max_depth=10.0, max_features=11, max_leaf_nodes=2, total=   0.0s\n",
      "[CV] criterion=entropy, max_depth=10.0, max_features=11, max_leaf_nodes=2 \n",
      "[CV]  criterion=entropy, max_depth=10.0, max_features=11, max_leaf_nodes=2, total=   0.0s\n",
      "[CV] criterion=entropy, max_depth=10.0, max_features=11, max_leaf_nodes=2 \n",
      "[CV]  criterion=entropy, max_depth=10.0, max_features=11, max_leaf_nodes=2, total=   0.0s\n",
      "[CV] criterion=entropy, max_depth=10.0, max_features=11, max_leaf_nodes=5 \n",
      "[CV]  criterion=entropy, max_depth=10.0, max_features=11, max_leaf_nodes=5, total=   0.0s\n",
      "[CV] criterion=entropy, max_depth=10.0, max_features=11, max_leaf_nodes=5 \n",
      "[CV]  criterion=entropy, max_depth=10.0, max_features=11, max_leaf_nodes=5, total=   0.0s\n",
      "[CV] criterion=entropy, max_depth=10.0, max_features=11, max_leaf_nodes=5 \n",
      "[CV]  criterion=entropy, max_depth=10.0, max_features=11, max_leaf_nodes=5, total=   0.0s\n",
      "[CV] criterion=entropy, max_depth=10.0, max_features=11, max_leaf_nodes=10 \n",
      "[CV]  criterion=entropy, max_depth=10.0, max_features=11, max_leaf_nodes=10, total=   0.0s\n",
      "[CV] criterion=entropy, max_depth=10.0, max_features=11, max_leaf_nodes=10 \n",
      "[CV]  criterion=entropy, max_depth=10.0, max_features=11, max_leaf_nodes=10, total=   0.0s\n",
      "[CV] criterion=entropy, max_depth=10.0, max_features=11, max_leaf_nodes=10 \n",
      "[CV]  criterion=entropy, max_depth=10.0, max_features=11, max_leaf_nodes=10, total=   0.0s\n",
      "[CV] criterion=entropy, max_depth=10.0, max_features=11, max_leaf_nodes=15 \n",
      "[CV]  criterion=entropy, max_depth=10.0, max_features=11, max_leaf_nodes=15, total=   0.0s\n",
      "[CV] criterion=entropy, max_depth=10.0, max_features=11, max_leaf_nodes=15 \n",
      "[CV]  criterion=entropy, max_depth=10.0, max_features=11, max_leaf_nodes=15, total=   0.0s\n",
      "[CV] criterion=entropy, max_depth=10.0, max_features=11, max_leaf_nodes=15 \n",
      "[CV]  criterion=entropy, max_depth=10.0, max_features=11, max_leaf_nodes=15, total=   0.0s\n"
     ]
    },
    {
     "name": "stderr",
     "output_type": "stream",
     "text": [
      "[Parallel(n_jobs=1)]: Done 1200 out of 1200 | elapsed:    4.0s finished\n"
     ]
    }
   ],
   "source": [
    "grid = {'criterion':['gini','entropy'], 'max_depth':np.linspace(1,10,10), 'max_features':[2,4,6,8,11],\n",
    "        'max_leaf_nodes':[2,5,10,15]}\n",
    "tree = DecisionTreeClassifier(random_state=1)\n",
    "tree_grid = GridSearchCV(estimator = tree, param_grid = grid, scoring = 'accuracy', cv = 3, verbose=2, \n",
    "                               n_jobs = 1)\n",
    "tree_fit = tree_grid.fit(X_train, y_train_hot)"
   ]
  },
  {
   "cell_type": "code",
   "execution_count": 139,
   "metadata": {},
   "outputs": [
    {
     "data": {
      "text/plain": [
       "{'criterion': 'entropy',\n",
       " 'max_depth': 4.0,\n",
       " 'max_features': 11,\n",
       " 'max_leaf_nodes': 10}"
      ]
     },
     "execution_count": 139,
     "metadata": {},
     "output_type": "execute_result"
    }
   ],
   "source": [
    "tree_grid.best_params_"
   ]
  },
  {
   "cell_type": "code",
   "execution_count": 146,
   "metadata": {},
   "outputs": [],
   "source": [
    "tree_grid.best_score_\n",
    "best_tree = tree_grid.best_estimator_"
   ]
  },
  {
   "cell_type": "code",
   "execution_count": 149,
   "metadata": {},
   "outputs": [
    {
     "name": "stdout",
     "output_type": "stream",
     "text": [
      "0.825\n"
     ]
    }
   ],
   "source": [
    "best_tree.fit(X_train, y_train_hot)\n",
    "score = best_tree.score(X_test, y_test_hot)\n",
    "print(score)"
   ]
  },
  {
   "cell_type": "code",
   "execution_count": null,
   "metadata": {},
   "outputs": [],
   "source": []
  },
  {
   "cell_type": "code",
   "execution_count": null,
   "metadata": {},
   "outputs": [],
   "source": []
  },
  {
   "cell_type": "code",
   "execution_count": null,
   "metadata": {},
   "outputs": [],
   "source": []
  },
  {
   "cell_type": "code",
   "execution_count": 145,
   "metadata": {},
   "outputs": [
    {
     "data": {
      "image/png": "[encoded data removed]",
      "text/plain": [
       "<Figure size 432x288 with 1 Axes>"
      ]
     },
     "metadata": {
      "needs_background": "light"
     },
     "output_type": "display_data"
    }
   ],
   "source": [
    "from sklearn import tree\n",
    "%matplotlib inline\n",
    "clf = tree_grid.best_estimator_\n",
    "plotstuff = clf.fit(X_train, y_train_hot)\n",
    "\n",
    "tree.plot_tree(plotstuff)\n",
    "plt.show()"
   ]
  },
  {
   "cell_type": "code",
   "execution_count": null,
   "metadata": {},
   "outputs": [],
   "source": []
  },
  {
   "cell_type": "code",
   "execution_count": null,
   "metadata": {},
   "outputs": [],
   "source": []
  },
  {
   "cell_type": "code",
   "execution_count": null,
   "metadata": {},
   "outputs": [],
   "source": []
  },
  {
   "cell_type": "code",
   "execution_count": 105,
   "metadata": {},
   "outputs": [],
   "source": [
    "for i in range(y_train_hot.shape[0]):\n",
    "    if np.sum(y_train_hot[i]) != 1:\n",
    "        print(i, 'nice')"
   ]
  },
  {
   "cell_type": "code",
   "execution_count": 45,
   "metadata": {},
   "outputs": [
    {
     "name": "stdout",
     "output_type": "stream",
     "text": [
      "320\n",
      "accuracy_score  0.8375\n",
      "sklearn_score  0.81875\n",
      "my accuracy  0.81875\n"
     ]
    },
    {
     "name": "stderr",
     "output_type": "stream",
     "text": [
      "/Library/Frameworks/Python.framework/Versions/3.7/lib/python3.7/site-packages/sklearn/neural_network/multilayer_perceptron.py:566: ConvergenceWarning: Stochastic Optimizer: Maximum iterations (1000) reached and the optimization hasn't converged yet.\n",
      "  % self.max_iter, ConvergenceWarning)\n"
     ]
    }
   ],
   "source": [
    "NN = MLPClassifier(hidden_layer_sizes=(30,10,10), activation='relu', solver='adam', batch_size = 100, \n",
    "                   max_iter=1000, alpha=0.001, learning_rate = 'constant', learning_rate_init = 0.0001, \n",
    "                   random_state = 1)\n",
    "NN.out_activation_ = 'softmax'\n",
    "NN.fit(X_train, y_train_hot)\n",
    "pred = NN.predict(X_test)\n",
    "print(pred.shape[0])\n",
    "prob = NN.predict_proba(X_test)\n",
    "sklearn_score = NN.score(X_test, y_test_hot)\n",
    "\n",
    "prediction = np.zeros_like(prob)\n",
    "idx = np.argmax(prob, axis = 1)\n",
    "for i in range(prediction.shape[0]):\n",
    "    prediction[i,idx[i]]=1\n",
    "score = accuracy_score(y_test_hot, prediction)\n",
    "print('accuracy_score ', score)\n",
    "print('sklearn_score ', sklearn_score)\n",
    "count = 0\n",
    "for i in range(pred.shape[0]):\n",
    "    if not np.array_equal(pred[i], y_test_hot[i]):\n",
    "        count += 1\n",
    "print('my accuracy ', (pred.shape[0]-count)/pred.shape[0])\n",
    "\n",
    "\n"
   ]
  },
  {
   "cell_type": "code",
   "execution_count": 140,
   "metadata": {},
   "outputs": [
    {
     "name": "stdout",
     "output_type": "stream",
     "text": [
      "[[0 0 0 0 0 0 0 0 0 0 0]\n",
      " [0 0 0 0 0 1 0 0 0 0 0]\n",
      " [0 0 0 0 0 0 0 0 0 0 0]\n",
      " [0 0 0 0 0 0 0 0 0 0 0]\n",
      " [0 0 0 0 0 0 0 0 0 0 0]\n",
      " [0 0 0 0 0 1 0 0 0 0 0]\n",
      " [0 0 0 0 0 0 0 0 0 0 0]\n",
      " [0 0 0 0 0 0 0 0 0 0 0]\n",
      " [0 0 0 0 0 0 0 0 0 0 0]\n",
      " [0 0 0 0 0 0 0 0 0 0 0]]\n",
      "[[0 0 0 0 0 1 0 0 0 0 0]\n",
      " [0 0 0 0 0 0 0 0 0 0 0]\n",
      " [0 0 0 0 0 1 0 0 0 0 0]\n",
      " [0 0 0 0 0 0 0 0 0 0 0]\n",
      " [0 0 0 0 0 0 0 0 0 0 0]\n",
      " [0 0 0 0 0 0 0 0 0 0 0]\n",
      " [0 0 0 0 0 0 0 0 0 0 0]\n",
      " [0 0 0 0 0 1 0 0 0 0 0]\n",
      " [0 0 0 0 0 0 0 0 0 0 0]\n",
      " [0 0 0 0 0 0 0 0 0 0 0]]\n",
      "[[0 0 0 0 0 0 0 0 0 0 0]\n",
      " [0 0 0 0 0 0 0 0 0 0 0]\n",
      " [0 0 0 0 0 1 0 0 0 0 0]\n",
      " [0 0 0 0 0 1 0 0 0 0 0]\n",
      " [0 0 0 0 0 1 0 0 0 0 0]\n",
      " [0 0 0 0 0 1 0 0 0 0 0]\n",
      " [0 0 0 0 0 1 0 0 0 0 0]\n",
      " [0 0 0 0 0 0 0 0 0 0 0]\n",
      " [0 0 0 0 0 1 0 0 0 0 0]\n",
      " [0 0 0 0 0 0 0 0 0 0 0]]\n",
      "[[0 0 0 0 0 1 0 0 0 0 0]\n",
      " [0 0 0 0 0 0 0 0 0 0 0]\n",
      " [0 0 0 0 0 0 0 0 0 0 0]\n",
      " [0 0 0 0 0 0 0 0 0 0 0]\n",
      " [0 0 0 0 0 0 0 0 0 0 0]\n",
      " [0 0 0 0 0 0 0 0 0 0 0]\n",
      " [0 0 0 0 0 1 0 0 0 0 0]\n",
      " [0 0 0 0 0 0 0 0 0 0 0]\n",
      " [0 0 0 0 0 0 0 0 0 0 0]\n",
      " [0 0 0 0 0 0 0 0 0 0 0]]\n",
      "[[0 0 0 0 0 0 0 0 0 0 0]\n",
      " [0 0 0 0 0 0 0 0 0 0 0]\n",
      " [0 0 0 0 0 0 0 0 0 0 0]\n",
      " [0 0 0 0 0 0 0 0 0 0 0]\n",
      " [0 0 0 0 0 1 0 0 0 0 0]\n",
      " [0 0 0 0 0 1 0 0 0 0 0]\n",
      " [0 0 0 0 0 0 0 0 0 0 0]\n",
      " [0 0 0 0 0 0 0 0 0 0 0]\n",
      " [0 0 0 0 0 0 0 0 0 0 0]\n",
      " [0 0 0 0 0 0 0 0 0 0 0]]\n",
      "0.21275122549019607\n"
     ]
    }
   ],
   "source": [
    "# just checking \n",
    "kf = KFold(n_splits = 5, shuffle = True, random_state = 1)\n",
    "accuracy = 0\n",
    "for tr_idx, val_idx in kf.split(X_train):          \n",
    "    NN = MLPClassifier(hidden_layer_sizes=(10,10,10), activation='relu', solver='lbfgs', batch_size = 100, \n",
    "                       max_iter=10, alpha=0.001, learning_rate = 'constant', random_state = 1)\n",
    "    \n",
    "    NN.fit(X_train[tr_idx], y_train[tr_idx])\n",
    "    prediction = NN.predict(X_train[val_idx])\n",
    "    print(prediction[:10])\n",
    "    score = NN.score(X_train[val_idx],y_train[val_idx])\n",
    "    accuracy += score\n",
    "    \n",
    "accuracy = accuracy/5\n",
    "print(accuracy)"
   ]
  },
  {
   "cell_type": "code",
   "execution_count": 136,
   "metadata": {},
   "outputs": [],
   "source": [
    "eta_vec = np.logspace(-5, 1, 7)\n",
    "lam_vec = np.logspace(-5, 1, 7)\n",
    "test_accuracy_NN_sklearn = np.zeros((len(eta_vec), len(lam_vec)))\n",
    "\n",
    "for i, eta in enumerate(eta_vec):\n",
    "    for j, lam in enumerate(lam_vec):\n",
    "        kf = KFold(n_splits = 5, shuffle = True, random_state = 1)\n",
    "        accuracy = 0\n",
    "        for tr_idx, val_idx in kf.split(X_train):          \n",
    "            NN = MLPClassifier(hidden_layer_sizes=(10,10), activation='relu', solver='lbfgs', batch_size = 100, \n",
    "                               max_iter=10, alpha=lam, learning_rate_init=eta, random_state = 1)\n",
    "            NN.fit(X_train[tr_idx], y_train[tr_idx,0])\n",
    "            score = NN.score(X_train[val_idx],y_train[val_idx,0])\n",
    "            accuracy += score\n",
    "        accuracy = accuracy/5\n",
    "        test_accuracy_NN_sklearn[i][j] = accuracy\n"
   ]
  },
  {
   "cell_type": "code",
   "execution_count": 128,
   "metadata": {},
   "outputs": [
    {
     "name": "stdout",
     "output_type": "stream",
     "text": [
      "[5.e-05 5.e-04 5.e-03 5.e-02 5.e-01]\n",
      "[1.e-05 1.e-04 1.e-03 1.e-02 1.e-01]\n"
     ]
    }
   ],
   "source": [
    "print(5*np.logspace(-5, -1, 5))\n",
    "print(np.logspace(-5,-1,5))\n"
   ]
  },
  {
   "cell_type": "code",
   "execution_count": null,
   "metadata": {},
   "outputs": [],
   "source": []
  }
 ],
 "metadata": {
  "kernelspec": {
   "display_name": "VPython",
   "language": "python",
   "name": "vpython"
  },
  "language_info": {
   "codemirror_mode": {
    "name": "ipython",
    "version": 3
   },
   "file_extension": ".py",
   "mimetype": "text/x-python",
   "name": "python",
   "nbconvert_exporter": "python",
   "pygments_lexer": "ipython3",
   "version": "3.7.4"
  }
 },
 "nbformat": 4,
 "nbformat_minor": 4
}
