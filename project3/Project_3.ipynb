{
 "cells": [
  {
   "cell_type": "code",
   "execution_count": 2,
   "metadata": {},
   "outputs": [],
   "source": [
    "import pandas as pd\n",
    "import os\n",
    "import numpy as np\n",
    "import matplotlib.pyplot as plt\n",
    "import seaborn as sns\n",
    "from sklearn.ensemble import RandomForestRegressor\n",
    "#Reading file\n",
    "cwd=os.getcwd()\n",
    "filename=cwd+ '/project3/train_users_2.csv'\n",
    "filename2=cwd+'/project3/test_users.csv'\n",
    "train= pd.read_csv(filename,parse_dates=['timestamp_first_active','date_account_created','date_first_booking'])\n",
    "test=pd.read_csv(filename2,parse_dates=['timestamp_first_active','date_account_created','date_first_booking'])"
   ]
  },
  {
   "cell_type": "code",
   "execution_count": 3,
   "metadata": {},
   "outputs": [
    {
     "name": "stdout",
     "output_type": "stream",
     "text": [
      "       date_account_created timestamp_first_active date_first_booking  \\\n",
      "0                2010-06-28    2009-03-19 04:32:55                NaT   \n",
      "1                2011-05-25    2009-05-23 17:48:09                NaT   \n",
      "2                2010-09-28    2009-06-09 23:12:47         2010-08-02   \n",
      "3                2011-12-05    2009-10-31 06:01:29         2012-09-08   \n",
      "4                2010-09-14    2009-12-08 06:11:05         2010-02-18   \n",
      "...                     ...                    ...                ...   \n",
      "213446           2014-06-30    2014-06-30 23:56:36                NaT   \n",
      "213447           2014-06-30    2014-06-30 23:57:19                NaT   \n",
      "213448           2014-06-30    2014-06-30 23:57:54                NaT   \n",
      "213449           2014-06-30    2014-06-30 23:58:22                NaT   \n",
      "213450           2014-06-30    2014-06-30 23:58:24                NaT   \n",
      "\n",
      "           gender   age signup_method  signup_flow language affiliate_channel  \\\n",
      "0       -unknown-   NaN      facebook            0       en            direct   \n",
      "1            MALE  38.0      facebook            0       en               seo   \n",
      "2          FEMALE  56.0         basic            3       en            direct   \n",
      "3          FEMALE  42.0      facebook            0       en            direct   \n",
      "4       -unknown-  41.0         basic            0       en            direct   \n",
      "...           ...   ...           ...          ...      ...               ...   \n",
      "213446       MALE  32.0         basic            0       en         sem-brand   \n",
      "213447  -unknown-   NaN         basic            0       en            direct   \n",
      "213448  -unknown-  32.0         basic            0       en            direct   \n",
      "213449  -unknown-   NaN         basic           25       en             other   \n",
      "213450  -unknown-   NaN         basic           25       en            direct   \n",
      "\n",
      "       affiliate_provider first_affiliate_tracked signup_app  \\\n",
      "0                  direct               untracked        Web   \n",
      "1                  google               untracked        Web   \n",
      "2                  direct               untracked        Web   \n",
      "3                  direct               untracked        Web   \n",
      "4                  direct               untracked        Web   \n",
      "...                   ...                     ...        ...   \n",
      "213446             google                     omg        Web   \n",
      "213447             direct                  linked        Web   \n",
      "213448             direct               untracked        Web   \n",
      "213449              other           tracked-other        iOS   \n",
      "213450             direct               untracked        iOS   \n",
      "\n",
      "       first_device_type  first_browser country_destination  \n",
      "0            Mac Desktop         Chrome                 NDF  \n",
      "1            Mac Desktop         Chrome                 NDF  \n",
      "2        Windows Desktop             IE                  US  \n",
      "3            Mac Desktop        Firefox               other  \n",
      "4            Mac Desktop         Chrome                  US  \n",
      "...                  ...            ...                 ...  \n",
      "213446       Mac Desktop         Safari                 NDF  \n",
      "213447   Windows Desktop         Chrome                 NDF  \n",
      "213448       Mac Desktop        Firefox                 NDF  \n",
      "213449            iPhone  Mobile Safari                 NDF  \n",
      "213450            iPhone      -unknown-                 NDF  \n",
      "\n",
      "[213451 rows x 15 columns]\n"
     ]
    }
   ],
   "source": [
    "train.drop('id',axis=1, inplace=True)\n",
    "print(train)"
   ]
  },
  {
   "cell_type": "code",
   "execution_count": 55,
   "metadata": {},
   "outputs": [
    {
     "name": "stdout",
     "output_type": "stream",
     "text": [
      "Index(['date_account_created', 'timestamp_first_active', 'date_first_booking',\n",
      "       'gender', 'age', 'signup_method', 'signup_flow', 'language',\n",
      "       'affiliate_channel', 'affiliate_provider', 'first_affiliate_tracked',\n",
      "       'signup_app', 'first_device_type', 'first_browser',\n",
      "       'country_destination'],\n",
      "      dtype='object')\n",
      "[[Timestamp('2010-06-28 00:00:00') Timestamp('2009-03-19 04:32:55') NaT\n",
      "  ... 'Web' 'Mac Desktop' 'Chrome']\n",
      " [Timestamp('2011-05-25 00:00:00') Timestamp('2009-05-23 17:48:09') NaT\n",
      "  ... 'Web' 'Mac Desktop' 'Chrome']\n",
      " [Timestamp('2010-09-28 00:00:00') Timestamp('2009-06-09 23:12:47')\n",
      "  Timestamp('2010-08-02 00:00:00') ... 'Web' 'Windows Desktop' 'IE']\n",
      " ...\n",
      " [Timestamp('2014-06-30 00:00:00') Timestamp('2014-06-30 23:57:54') NaT\n",
      "  ... 'Web' 'Mac Desktop' 'Firefox']\n",
      " [Timestamp('2014-06-30 00:00:00') Timestamp('2014-06-30 23:58:22') NaT\n",
      "  ... 'iOS' 'iPhone' 'Mobile Safari']\n",
      " [Timestamp('2014-06-30 00:00:00') Timestamp('2014-06-30 23:58:24') NaT\n",
      "  ... 'iOS' 'iPhone' '-unknown-']]\n",
      "[['NDF']\n",
      " ['NDF']\n",
      " ['US']\n",
      " ...\n",
      " ['NDF']\n",
      " ['NDF']\n",
      " ['NDF']]\n"
     ]
    }
   ],
   "source": [
    "print(train.keys())\n",
    "train.isnull().sum().sum()# mange missing values\n",
    "data= train.loc[:, train.columns != 'country_destination'].values\n",
    "target=train.loc[:, train.columns == 'country_destination'].values\n",
    "print(data)\n",
    "print(target)\n"
   ]
  },
  {
   "cell_type": "code",
   "execution_count": 62,
   "metadata": {},
   "outputs": [
    {
     "data": {
      "text/html": [
       "<div>\n",
       "<style scoped>\n",
       "    .dataframe tbody tr th:only-of-type {\n",
       "        vertical-align: middle;\n",
       "    }\n",
       "\n",
       "    .dataframe tbody tr th {\n",
       "        vertical-align: top;\n",
       "    }\n",
       "\n",
       "    .dataframe thead th {\n",
       "        text-align: right;\n",
       "    }\n",
       "</style>\n",
       "<table border=\"1\" class=\"dataframe\">\n",
       "  <thead>\n",
       "    <tr style=\"text-align: right;\">\n",
       "      <th></th>\n",
       "      <th>Total</th>\n",
       "      <th>Percent</th>\n",
       "    </tr>\n",
       "  </thead>\n",
       "  <tbody>\n",
       "    <tr>\n",
       "      <td>date_first_booking</td>\n",
       "      <td>124543</td>\n",
       "      <td>58.347349</td>\n",
       "    </tr>\n",
       "    <tr>\n",
       "      <td>age</td>\n",
       "      <td>87990</td>\n",
       "      <td>41.222576</td>\n",
       "    </tr>\n",
       "    <tr>\n",
       "      <td>first_affiliate_tracked</td>\n",
       "      <td>6065</td>\n",
       "      <td>2.841402</td>\n",
       "    </tr>\n",
       "    <tr>\n",
       "      <td>country_destination</td>\n",
       "      <td>0</td>\n",
       "      <td>0.000000</td>\n",
       "    </tr>\n",
       "    <tr>\n",
       "      <td>first_browser</td>\n",
       "      <td>0</td>\n",
       "      <td>0.000000</td>\n",
       "    </tr>\n",
       "    <tr>\n",
       "      <td>first_device_type</td>\n",
       "      <td>0</td>\n",
       "      <td>0.000000</td>\n",
       "    </tr>\n",
       "    <tr>\n",
       "      <td>signup_app</td>\n",
       "      <td>0</td>\n",
       "      <td>0.000000</td>\n",
       "    </tr>\n",
       "    <tr>\n",
       "      <td>affiliate_provider</td>\n",
       "      <td>0</td>\n",
       "      <td>0.000000</td>\n",
       "    </tr>\n",
       "    <tr>\n",
       "      <td>affiliate_channel</td>\n",
       "      <td>0</td>\n",
       "      <td>0.000000</td>\n",
       "    </tr>\n",
       "    <tr>\n",
       "      <td>language</td>\n",
       "      <td>0</td>\n",
       "      <td>0.000000</td>\n",
       "    </tr>\n",
       "    <tr>\n",
       "      <td>signup_flow</td>\n",
       "      <td>0</td>\n",
       "      <td>0.000000</td>\n",
       "    </tr>\n",
       "    <tr>\n",
       "      <td>signup_method</td>\n",
       "      <td>0</td>\n",
       "      <td>0.000000</td>\n",
       "    </tr>\n",
       "    <tr>\n",
       "      <td>gender</td>\n",
       "      <td>0</td>\n",
       "      <td>0.000000</td>\n",
       "    </tr>\n",
       "    <tr>\n",
       "      <td>timestamp_first_active</td>\n",
       "      <td>0</td>\n",
       "      <td>0.000000</td>\n",
       "    </tr>\n",
       "    <tr>\n",
       "      <td>date_account_created</td>\n",
       "      <td>0</td>\n",
       "      <td>0.000000</td>\n",
       "    </tr>\n",
       "  </tbody>\n",
       "</table>\n",
       "</div>"
      ],
      "text/plain": [
       "                          Total    Percent\n",
       "date_first_booking       124543  58.347349\n",
       "age                       87990  41.222576\n",
       "first_affiliate_tracked    6065   2.841402\n",
       "country_destination           0   0.000000\n",
       "first_browser                 0   0.000000\n",
       "first_device_type             0   0.000000\n",
       "signup_app                    0   0.000000\n",
       "affiliate_provider            0   0.000000\n",
       "affiliate_channel             0   0.000000\n",
       "language                      0   0.000000\n",
       "signup_flow                   0   0.000000\n",
       "signup_method                 0   0.000000\n",
       "gender                        0   0.000000\n",
       "timestamp_first_active        0   0.000000\n",
       "date_account_created          0   0.000000"
      ]
     },
     "execution_count": 62,
     "metadata": {},
     "output_type": "execute_result"
    }
   ],
   "source": [
    "#missing data\n",
    "total = train.isnull().sum().sort_values(ascending=False)\n",
    "percent = (train.isnull().sum()/train.isnull().count()).sort_values(ascending=False)*100\n",
    "missing_data = pd.concat([total, percent], axis=1, keys=['Total', 'Percent'])\n",
    "missing_data"
   ]
  },
  {
   "cell_type": "code",
   "execution_count": 29,
   "metadata": {},
   "outputs": [
    {
     "data": {
      "text/html": [
       "<div>\n",
       "<style scoped>\n",
       "    .dataframe tbody tr th:only-of-type {\n",
       "        vertical-align: middle;\n",
       "    }\n",
       "\n",
       "    .dataframe tbody tr th {\n",
       "        vertical-align: top;\n",
       "    }\n",
       "\n",
       "    .dataframe thead th {\n",
       "        text-align: right;\n",
       "    }\n",
       "</style>\n",
       "<table border=\"1\" class=\"dataframe\">\n",
       "  <thead>\n",
       "    <tr style=\"text-align: right;\">\n",
       "      <th></th>\n",
       "      <th>age</th>\n",
       "      <th>signup_flow</th>\n",
       "    </tr>\n",
       "  </thead>\n",
       "  <tbody>\n",
       "    <tr>\n",
       "      <td>count</td>\n",
       "      <td>125461.000000</td>\n",
       "      <td>213451.000000</td>\n",
       "    </tr>\n",
       "    <tr>\n",
       "      <td>mean</td>\n",
       "      <td>49.668335</td>\n",
       "      <td>3.267387</td>\n",
       "    </tr>\n",
       "    <tr>\n",
       "      <td>std</td>\n",
       "      <td>155.666612</td>\n",
       "      <td>7.637707</td>\n",
       "    </tr>\n",
       "    <tr>\n",
       "      <td>min</td>\n",
       "      <td>1.000000</td>\n",
       "      <td>0.000000</td>\n",
       "    </tr>\n",
       "    <tr>\n",
       "      <td>25%</td>\n",
       "      <td>28.000000</td>\n",
       "      <td>0.000000</td>\n",
       "    </tr>\n",
       "    <tr>\n",
       "      <td>50%</td>\n",
       "      <td>34.000000</td>\n",
       "      <td>0.000000</td>\n",
       "    </tr>\n",
       "    <tr>\n",
       "      <td>75%</td>\n",
       "      <td>43.000000</td>\n",
       "      <td>0.000000</td>\n",
       "    </tr>\n",
       "    <tr>\n",
       "      <td>max</td>\n",
       "      <td>2014.000000</td>\n",
       "      <td>25.000000</td>\n",
       "    </tr>\n",
       "  </tbody>\n",
       "</table>\n",
       "</div>"
      ],
      "text/plain": [
       "                 age    signup_flow\n",
       "count  125461.000000  213451.000000\n",
       "mean       49.668335       3.267387\n",
       "std       155.666612       7.637707\n",
       "min         1.000000       0.000000\n",
       "25%        28.000000       0.000000\n",
       "50%        34.000000       0.000000\n",
       "75%        43.000000       0.000000\n",
       "max      2014.000000      25.000000"
      ]
     },
     "execution_count": 29,
     "metadata": {},
     "output_type": "execute_result"
    }
   ],
   "source": [
    "train.describe()"
   ]
  },
  {
   "cell_type": "code",
   "execution_count": 65,
   "metadata": {},
   "outputs": [
    {
     "name": "stdout",
     "output_type": "stream",
     "text": [
      "781\n",
      "158\n"
     ]
    }
   ],
   "source": [
    "#det er noen rart \n",
    "print(sum(train.age > 120))\n",
    "print(sum(train.age < 18))\n",
    "##veldig rart\n",
    "train.loc[train.age > 100, 'age'] = np.nan\n",
    "train.loc[train.age < 15, 'age'] = np.nan"
   ]
  },
  {
   "cell_type": "code",
   "execution_count": 67,
   "metadata": {},
   "outputs": [
    {
     "data": {
      "text/html": [
       "<div>\n",
       "<style scoped>\n",
       "    .dataframe tbody tr th:only-of-type {\n",
       "        vertical-align: middle;\n",
       "    }\n",
       "\n",
       "    .dataframe tbody tr th {\n",
       "        vertical-align: top;\n",
       "    }\n",
       "\n",
       "    .dataframe thead th {\n",
       "        text-align: right;\n",
       "    }\n",
       "</style>\n",
       "<table border=\"1\" class=\"dataframe\">\n",
       "  <thead>\n",
       "    <tr style=\"text-align: right;\">\n",
       "      <th></th>\n",
       "      <th>age</th>\n",
       "      <th>signup_flow</th>\n",
       "    </tr>\n",
       "  </thead>\n",
       "  <tbody>\n",
       "    <tr>\n",
       "      <td>count</td>\n",
       "      <td>123059.000000</td>\n",
       "      <td>213451.000000</td>\n",
       "    </tr>\n",
       "    <tr>\n",
       "      <td>mean</td>\n",
       "      <td>36.559211</td>\n",
       "      <td>3.267387</td>\n",
       "    </tr>\n",
       "    <tr>\n",
       "      <td>std</td>\n",
       "      <td>11.690611</td>\n",
       "      <td>7.637707</td>\n",
       "    </tr>\n",
       "    <tr>\n",
       "      <td>min</td>\n",
       "      <td>15.000000</td>\n",
       "      <td>0.000000</td>\n",
       "    </tr>\n",
       "    <tr>\n",
       "      <td>25%</td>\n",
       "      <td>28.000000</td>\n",
       "      <td>0.000000</td>\n",
       "    </tr>\n",
       "    <tr>\n",
       "      <td>50%</td>\n",
       "      <td>34.000000</td>\n",
       "      <td>0.000000</td>\n",
       "    </tr>\n",
       "    <tr>\n",
       "      <td>75%</td>\n",
       "      <td>42.000000</td>\n",
       "      <td>0.000000</td>\n",
       "    </tr>\n",
       "    <tr>\n",
       "      <td>max</td>\n",
       "      <td>100.000000</td>\n",
       "      <td>25.000000</td>\n",
       "    </tr>\n",
       "  </tbody>\n",
       "</table>\n",
       "</div>"
      ],
      "text/plain": [
       "                 age    signup_flow\n",
       "count  123059.000000  213451.000000\n",
       "mean       36.559211       3.267387\n",
       "std        11.690611       7.637707\n",
       "min        15.000000       0.000000\n",
       "25%        28.000000       0.000000\n",
       "50%        34.000000       0.000000\n",
       "75%        42.000000       0.000000\n",
       "max       100.000000      25.000000"
      ]
     },
     "execution_count": 67,
     "metadata": {},
     "output_type": "execute_result"
    }
   ],
   "source": [
    "train.describe()"
   ]
  },
  {
   "cell_type": "code",
   "execution_count": 66,
   "metadata": {},
   "outputs": [
    {
     "data": {
      "text/plain": [
       "<matplotlib.axes._subplots.AxesSubplot at 0x19046d7f808>"
      ]
     },
     "execution_count": 66,
     "metadata": {},
     "output_type": "execute_result"
    },
    {
     "data": {
      "image/png": "[encoded data removed]",
      "text/plain": [
       "<Figure size 432x288 with 1 Axes>"
      ]
     },
     "metadata": {
      "needs_background": "light"
     },
     "output_type": "display_data"
    }
   ],
   "source": [
    "#dropna-->every row is ommitted, in which data are missing,\n",
    "sns.distplot(train['age'].dropna())"
   ]
  },
  {
   "cell_type": "code",
   "execution_count": 31,
   "metadata": {},
   "outputs": [
    {
     "name": "stdout",
     "output_type": "stream",
     "text": [
      "These are the observed values for gender:\n",
      "-unknown-    95688\n",
      "FEMALE       63041\n",
      "MALE         54440\n",
      "OTHER          282\n",
      "Name: gender, dtype: int64\n",
      "These are the observed values for signup_method:\n",
      "basic       152897\n",
      "facebook     60008\n",
      "google         546\n",
      "Name: signup_method, dtype: int64\n",
      "These are the observed values for language:\n",
      "en    206314\n",
      "zh      1632\n",
      "fr      1172\n",
      "es       915\n",
      "ko       747\n",
      "de       732\n",
      "it       514\n",
      "ru       389\n",
      "pt       240\n",
      "ja       225\n",
      "sv       122\n",
      "nl        97\n",
      "tr        64\n",
      "da        58\n",
      "pl        54\n",
      "cs        32\n",
      "no        30\n",
      "th        24\n",
      "el        24\n",
      "id        22\n",
      "hu        18\n",
      "fi        14\n",
      "ca         5\n",
      "is         5\n",
      "hr         2\n",
      "Name: language, dtype: int64\n",
      "These are the observed values for affiliate_channel:\n",
      "direct           137727\n",
      "sem-brand         26045\n",
      "sem-non-brand     18844\n",
      "other              8961\n",
      "seo                8663\n",
      "api                8167\n",
      "content            3948\n",
      "remarketing        1096\n",
      "Name: affiliate_channel, dtype: int64\n",
      "These are the observed values for affiliate_provider:\n",
      "direct                 137426\n",
      "google                  51693\n",
      "other                   12549\n",
      "craigslist               3471\n",
      "bing                     2328\n",
      "facebook                 2273\n",
      "vast                      829\n",
      "padmapper                 768\n",
      "facebook-open-graph       545\n",
      "yahoo                     496\n",
      "gsp                       453\n",
      "meetup                    347\n",
      "email-marketing           166\n",
      "naver                      52\n",
      "baidu                      29\n",
      "yandex                     17\n",
      "wayn                        8\n",
      "daum                        1\n",
      "Name: affiliate_provider, dtype: int64\n",
      "These are the observed values for first_affiliate_tracked:\n",
      "untracked        109232\n",
      "linked            46287\n",
      "omg               43982\n",
      "tracked-other      6156\n",
      "product            1556\n",
      "marketing           139\n",
      "local ops            34\n",
      "Name: first_affiliate_tracked, dtype: int64\n",
      "These are the observed values for signup_app:\n",
      "Web        182717\n",
      "iOS         19019\n",
      "Moweb        6261\n",
      "Android      5454\n",
      "Name: signup_app, dtype: int64\n",
      "These are the observed values for first_device_type:\n",
      "Mac Desktop           89600\n",
      "Windows Desktop       72716\n",
      "iPhone                20759\n",
      "iPad                  14339\n",
      "Other/Unknown         10667\n",
      "Android Phone          2803\n",
      "Android Tablet         1292\n",
      "Desktop (Other)        1199\n",
      "SmartPhone (Other)       76\n",
      "Name: first_device_type, dtype: int64\n",
      "These are the observed values for first_browser:\n",
      "Chrome                  63845\n",
      "Safari                  45169\n",
      "Firefox                 33655\n",
      "-unknown-               27266\n",
      "IE                      21068\n",
      "Mobile Safari           19274\n",
      "Chrome Mobile            1270\n",
      "Android Browser           851\n",
      "AOL Explorer              245\n",
      "Opera                     188\n",
      "Silk                      124\n",
      "Chromium                   73\n",
      "BlackBerry Browser         53\n",
      "Maxthon                    46\n",
      "Apple Mail                 36\n",
      "IE Mobile                  36\n",
      "Sogou Explorer             33\n",
      "Mobile Firefox             30\n",
      "SiteKiosk                  24\n",
      "RockMelt                   24\n",
      "Iron                       17\n",
      "IceWeasel                  13\n",
      "Pale Moon                  12\n",
      "Yandex.Browser             11\n",
      "SeaMonkey                  11\n",
      "CometBird                  11\n",
      "Camino                      9\n",
      "TenFourFox                  8\n",
      "wOSBrowser                  6\n",
      "CoolNovo                    6\n",
      "Avant Browser               4\n",
      "Opera Mini                  4\n",
      "Mozilla                     3\n",
      "TheWorld Browser            2\n",
      "Flock                       2\n",
      "Opera Mobile                2\n",
      "SlimBrowser                 2\n",
      "Comodo Dragon               2\n",
      "OmniWeb                     2\n",
      "Crazy Browser               2\n",
      "Stainless                   1\n",
      "Palm Pre web browser        1\n",
      "Epic                        1\n",
      "Outlook 2007                1\n",
      "IceDragon                   1\n",
      "PS Vita browser             1\n",
      "Googlebot                   1\n",
      "Arora                       1\n",
      "Conkeror                    1\n",
      "Google Earth                1\n",
      "NetNewsWire                 1\n",
      "Kindle Browser              1\n",
      "Name: first_browser, dtype: int64\n"
     ]
    }
   ],
   "source": [
    "##categorical categories\n",
    "for i in (\"gender\",\"signup_method\",\"language\",\"affiliate_channel\",\"affiliate_provider\",\"first_affiliate_tracked\",\n",
    "          \"signup_app\",\"first_device_type\",\"first_browser\"):\n",
    "    values_counts=train[i].value_counts()\n",
    "    print(\"These are the observed values for \" + str(i) + \":\")\n",
    "    print(values_counts)"
   ]
  },
  {
   "cell_type": "code",
   "execution_count": 32,
   "metadata": {},
   "outputs": [],
   "source": [
    "##unknown values with \n",
    "train.loc[train.gender == '-unknown-','gender'] = np.nan\n",
    "train.loc[train.first_affiliate_tracked=='untracked','first_affiliate_tracked']=np.nan\n",
    "train.loc[train.first_browser=='-unknown','first_browser']=np.nan"
   ]
  },
  {
   "cell_type": "code",
   "execution_count": 33,
   "metadata": {},
   "outputs": [
    {
     "data": {
      "text/plain": [
       "<matplotlib.axes._subplots.AxesSubplot at 0x1904f972ec8>"
      ]
     },
     "execution_count": 33,
     "metadata": {},
     "output_type": "execute_result"
    },
    {
     "data": {
      "image/png": "[encoded data removed]",
      "text/plain": [
       "<Figure size 432x288 with 1 Axes>"
      ]
     },
     "metadata": {
      "needs_background": "light"
     },
     "output_type": "display_data"
    }
   ],
   "source": [
    "sns.countplot(train['gender'])"
   ]
  },
  {
   "cell_type": "code",
   "execution_count": 34,
   "metadata": {},
   "outputs": [],
   "source": [
    "# Formatting data account creation variable\n",
    "train['dac_year'] = train.date_account_created.dt.year\n",
    "train['dac_month'] = train.date_account_created.dt.month\n",
    "train['dac_day'] = train.date_account_created.dt.day\n",
    "\n",
    "# Formatting time first active variable\n",
    "train['tfa_year'] = train.timestamp_first_active.dt.year\n",
    "train['tfa_month'] = train.timestamp_first_active.dt.month\n",
    "train['tfa_day'] = train.timestamp_first_active.dt.day"
   ]
  },
  {
   "cell_type": "code",
   "execution_count": 41,
   "metadata": {},
   "outputs": [
    {
     "data": {
      "text/plain": [
       "<matplotlib.axes._subplots.AxesSubplot at 0x1900732c5c8>"
      ]
     },
     "execution_count": 41,
     "metadata": {},
     "output_type": "execute_result"
    },
    {
     "data": {
      "image/png": "[encoded data removed]",
      "text/plain": [
       "<Figure size 432x288 with 1 Axes>"
      ]
     },
     "metadata": {
      "needs_background": "light"
     },
     "output_type": "display_data"
    }
   ],
   "source": [
    "plt.title('Number of User Account created in a year')\n",
    "sns.countplot(train['dac_year'])"
   ]
  },
  {
   "cell_type": "code",
   "execution_count": 42,
   "metadata": {},
   "outputs": [
    {
     "data": {
      "text/plain": [
       "<matplotlib.axes._subplots.AxesSubplot at 0x19007d74948>"
      ]
     },
     "execution_count": 42,
     "metadata": {},
     "output_type": "execute_result"
    },
    {
     "data": {
      "image/png": "[encoded data removed]",
      "text/plain": [
       "<Figure size 432x288 with 1 Axes>"
      ]
     },
     "metadata": {
      "needs_background": "light"
     },
     "output_type": "display_data"
    }
   ],
   "source": [
    "plt.title('Number of User by First Active Year')\n",
    "sns.countplot(train['tfa_year'])"
   ]
  },
  {
   "cell_type": "code",
   "execution_count": 43,
   "metadata": {},
   "outputs": [
    {
     "data": {
      "text/html": [
       "<div>\n",
       "<style scoped>\n",
       "    .dataframe tbody tr th:only-of-type {\n",
       "        vertical-align: middle;\n",
       "    }\n",
       "\n",
       "    .dataframe tbody tr th {\n",
       "        vertical-align: top;\n",
       "    }\n",
       "\n",
       "    .dataframe thead th {\n",
       "        text-align: right;\n",
       "    }\n",
       "</style>\n",
       "<table border=\"1\" class=\"dataframe\">\n",
       "  <thead>\n",
       "    <tr style=\"text-align: right;\">\n",
       "      <th></th>\n",
       "      <th>min</th>\n",
       "      <th>max</th>\n",
       "      <th>mean</th>\n",
       "      <th>count</th>\n",
       "    </tr>\n",
       "    <tr>\n",
       "      <th>gender</th>\n",
       "      <th></th>\n",
       "      <th></th>\n",
       "      <th></th>\n",
       "      <th></th>\n",
       "    </tr>\n",
       "  </thead>\n",
       "  <tbody>\n",
       "    <tr>\n",
       "      <td>FEMALE</td>\n",
       "      <td>15.0</td>\n",
       "      <td>100.0</td>\n",
       "      <td>36.236936</td>\n",
       "      <td>56741</td>\n",
       "    </tr>\n",
       "    <tr>\n",
       "      <td>MALE</td>\n",
       "      <td>15.0</td>\n",
       "      <td>100.0</td>\n",
       "      <td>36.800917</td>\n",
       "      <td>49969</td>\n",
       "    </tr>\n",
       "    <tr>\n",
       "      <td>OTHER</td>\n",
       "      <td>17.0</td>\n",
       "      <td>78.0</td>\n",
       "      <td>36.888889</td>\n",
       "      <td>225</td>\n",
       "    </tr>\n",
       "  </tbody>\n",
       "</table>\n",
       "</div>"
      ],
      "text/plain": [
       "         min    max       mean  count\n",
       "gender                               \n",
       "FEMALE  15.0  100.0  36.236936  56741\n",
       "MALE    15.0  100.0  36.800917  49969\n",
       "OTHER   17.0   78.0  36.888889    225"
      ]
     },
     "execution_count": 43,
     "metadata": {},
     "output_type": "execute_result"
    }
   ],
   "source": [
    "#train.groupby('gender').age.agg(['min','max','mean','count'])"
   ]
  },
  {
   "cell_type": "code",
   "execution_count": 44,
   "metadata": {},
   "outputs": [
    {
     "data": {
      "text/plain": [
       "<matplotlib.axes._subplots.AxesSubplot at 0x19007dda848>"
      ]
     },
     "execution_count": 44,
     "metadata": {},
     "output_type": "execute_result"
    },
    {
     "data": {
      "image/png": "[encoded data removed]",
      "text/plain": [
       "<Figure size 432x288 with 1 Axes>"
      ]
     },
     "metadata": {
      "needs_background": "light"
     },
     "output_type": "display_data"
    }
   ],
   "source": [
    "plt.title('Countries AirBNB user visted')\n",
    "train['country_destination'].value_counts().plot(kind='bar')"
   ]
  },
  {
   "cell_type": "code",
   "execution_count": 68,
   "metadata": {},
   "outputs": [],
   "source": [
    "# get dummies\n",
    "train = pd.get_dummies(train,columns=[\"gender\",\"signup_method\",\"language\",\"affiliate_channel\",\"affiliate_provider\",\"first_affiliate_tracked\",\n",
    "          \"signup_app\",\"first_device_type\",\"first_browser\"])"
   ]
  },
  {
   "cell_type": "code",
   "execution_count": 69,
   "metadata": {},
   "outputs": [
    {
     "name": "stdout",
     "output_type": "stream",
     "text": [
      "       date_account_created timestamp_first_active date_first_booking   age  \\\n",
      "0                2010-06-28    2009-03-19 04:32:55                NaT   NaN   \n",
      "1                2011-05-25    2009-05-23 17:48:09                NaT  38.0   \n",
      "2                2010-09-28    2009-06-09 23:12:47         2010-08-02  56.0   \n",
      "3                2011-12-05    2009-10-31 06:01:29         2012-09-08  42.0   \n",
      "4                2010-09-14    2009-12-08 06:11:05         2010-02-18  41.0   \n",
      "...                     ...                    ...                ...   ...   \n",
      "213446           2014-06-30    2014-06-30 23:56:36                NaT  32.0   \n",
      "213447           2014-06-30    2014-06-30 23:57:19                NaT   NaN   \n",
      "213448           2014-06-30    2014-06-30 23:57:54                NaT  32.0   \n",
      "213449           2014-06-30    2014-06-30 23:58:22                NaT   NaN   \n",
      "213450           2014-06-30    2014-06-30 23:58:24                NaT   NaN   \n",
      "\n",
      "        signup_flow country_destination  gender_-unknown-  gender_FEMALE  \\\n",
      "0                 0                 NDF                 1              0   \n",
      "1                 0                 NDF                 0              0   \n",
      "2                 3                  US                 0              1   \n",
      "3                 0               other                 0              1   \n",
      "4                 0                  US                 1              0   \n",
      "...             ...                 ...               ...            ...   \n",
      "213446            0                 NDF                 0              0   \n",
      "213447            0                 NDF                 1              0   \n",
      "213448            0                 NDF                 1              0   \n",
      "213449           25                 NDF                 1              0   \n",
      "213450           25                 NDF                 1              0   \n",
      "\n",
      "        gender_MALE  gender_OTHER  ...  first_browser_SeaMonkey  \\\n",
      "0                 0             0  ...                        0   \n",
      "1                 1             0  ...                        0   \n",
      "2                 0             0  ...                        0   \n",
      "3                 0             0  ...                        0   \n",
      "4                 0             0  ...                        0   \n",
      "...             ...           ...  ...                      ...   \n",
      "213446            1             0  ...                        0   \n",
      "213447            0             0  ...                        0   \n",
      "213448            0             0  ...                        0   \n",
      "213449            0             0  ...                        0   \n",
      "213450            0             0  ...                        0   \n",
      "\n",
      "        first_browser_Silk  first_browser_SiteKiosk  \\\n",
      "0                        0                        0   \n",
      "1                        0                        0   \n",
      "2                        0                        0   \n",
      "3                        0                        0   \n",
      "4                        0                        0   \n",
      "...                    ...                      ...   \n",
      "213446                   0                        0   \n",
      "213447                   0                        0   \n",
      "213448                   0                        0   \n",
      "213449                   0                        0   \n",
      "213450                   0                        0   \n",
      "\n",
      "        first_browser_SlimBrowser  first_browser_Sogou Explorer  \\\n",
      "0                               0                             0   \n",
      "1                               0                             0   \n",
      "2                               0                             0   \n",
      "3                               0                             0   \n",
      "4                               0                             0   \n",
      "...                           ...                           ...   \n",
      "213446                          0                             0   \n",
      "213447                          0                             0   \n",
      "213448                          0                             0   \n",
      "213449                          0                             0   \n",
      "213450                          0                             0   \n",
      "\n",
      "        first_browser_Stainless  first_browser_TenFourFox  \\\n",
      "0                             0                         0   \n",
      "1                             0                         0   \n",
      "2                             0                         0   \n",
      "3                             0                         0   \n",
      "4                             0                         0   \n",
      "...                         ...                       ...   \n",
      "213446                        0                         0   \n",
      "213447                        0                         0   \n",
      "213448                        0                         0   \n",
      "213449                        0                         0   \n",
      "213450                        0                         0   \n",
      "\n",
      "        first_browser_TheWorld Browser  first_browser_Yandex.Browser  \\\n",
      "0                                    0                             0   \n",
      "1                                    0                             0   \n",
      "2                                    0                             0   \n",
      "3                                    0                             0   \n",
      "4                                    0                             0   \n",
      "...                                ...                           ...   \n",
      "213446                               0                             0   \n",
      "213447                               0                             0   \n",
      "213448                               0                             0   \n",
      "213449                               0                             0   \n",
      "213450                               0                             0   \n",
      "\n",
      "        first_browser_wOSBrowser  \n",
      "0                              0  \n",
      "1                              0  \n",
      "2                              0  \n",
      "3                              0  \n",
      "4                              0  \n",
      "...                          ...  \n",
      "213446                         0  \n",
      "213447                         0  \n",
      "213448                         0  \n",
      "213449                         0  \n",
      "213450                         0  \n",
      "\n",
      "[213451 rows x 136 columns]\n"
     ]
    }
   ],
   "source": [
    "print(train)"
   ]
  }
 ],
 "metadata": {
  "kernelspec": {
   "display_name": "Python 3",
   "language": "python",
   "name": "python3"
  },
  "language_info": {
   "codemirror_mode": {
    "name": "ipython",
    "version": 3
   },
   "file_extension": ".py",
   "mimetype": "text/x-python",
   "name": "python",
   "nbconvert_exporter": "python",
   "pygments_lexer": "ipython3",
   "version": "3.7.4"
  }
 },
 "nbformat": 4,
 "nbformat_minor": 4
}
