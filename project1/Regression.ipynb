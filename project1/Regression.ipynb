{
 "cells": [
  {
   "cell_type": "markdown",
   "metadata": {},
   "source": [
    "<!-- dom:TITLE: Data Analysis and Machine Learning: Linear Regression and more Advanced Regression Analysis -->\n",
    "# Data Analysis and Machine Learning: Linear Regression and more Advanced Regression Analysis\n",
    "<!-- dom:AUTHOR: Morten Hjorth-Jensen at Department of Physics, University of Oslo & Department of Physics and Astronomy and National Superconducting Cyclotron Laboratory, Michigan State University -->\n",
    "<!-- Author: -->  \n",
    "**Morten Hjorth-Jensen**, Department of Physics, University of Oslo and Department of Physics and Astronomy and National Superconducting Cyclotron Laboratory, Michigan State University\n",
    "\n",
    "Date: **Sep 2, 2019**\n",
    "\n",
    "Copyright 1999-2019, Morten Hjorth-Jensen. Released under CC Attribution-NonCommercial 4.0 license\n",
    "\n",
    "\n",
    "\n",
    "\n",
    "## Why Linear Regression (aka Ordinary Least Squares and family)\n",
    "\n",
    "Fitting a continuous function with linear parameterization in terms of the parameters  $\\boldsymbol{\\beta}$.\n",
    "* Method of choice for fitting a continuous function!\n",
    "\n",
    "* Gives an excellent introduction to central Machine Learning features with **understandable pedagogical** links to other methods like **Neural Networks**, **Support Vector Machines** etc\n",
    "\n",
    "* Analytical expression for the fitting parameters $\\boldsymbol{\\beta}$\n",
    "\n",
    "* Analytical expressions for statistical propertiers like mean values, variances, confidence intervals and more\n",
    "\n",
    "* Analytical relation with probabilistic interpretations \n",
    "\n",
    "* Easy to introduce basic concepts like bias-variance tradeoff, cross-validation, resampling and regularization techniques and many other ML topics\n",
    "\n",
    "* Easy to code! And links well with classification problems and logistic regression and neural networks\n",
    "\n",
    "* Allows for **easy** hands-on understanding of gradient descent methods\n",
    "\n",
    "* and many more features\n",
    "\n",
    "For more discussions of Ridge and Lasso regression, [Wessel van Wieringen's](https://arxiv.org/abs/1509.09169) article is highly recommended.\n",
    "Similarly, [Mehta et al's article](https://arxiv.org/abs/1803.08823) is also recommended.\n",
    "\n",
    "\n",
    "## Regression analysis, overarching aims\n",
    "\n",
    "Regression modeling deals with the description of  the sampling distribution of a given random variable $y$ and how it varies as function of another variable or a set of such variables $\\boldsymbol{x} =[x_0, x_1,\\dots, x_{n-1}]^T$. \n",
    "The first variable is called the **dependent**, the **outcome** or the **response** variable while the set of variables $\\boldsymbol{x}$ is called the independent variable, or the predictor variable or the explanatory variable. \n",
    "\n",
    "A regression model aims at finding a likelihood function $p(\\boldsymbol{y}\\vert \\boldsymbol{x})$, that is the conditional distribution for $\\boldsymbol{y}$ with a given $\\boldsymbol{x}$. The estimation of  $p(\\boldsymbol{y}\\vert \\boldsymbol{x})$ is made using a data set with \n",
    "* $n$ cases $i = 0, 1, 2, \\dots, n-1$ \n",
    "\n",
    "* Response (target, dependent or outcome) variable $y_i$ with $i = 0, 1, 2, \\dots, n-1$ \n",
    "\n",
    "* $p$ so-called explanatory (independent or predictor) variables $\\boldsymbol{x}_i=[x_{i0}, x_{i1}, \\dots, x_{ip-1}]$ with $i = 0, 1, 2, \\dots, n-1$ and explanatory variables running from $0$ to $p-1$. See below for more explicit examples.   \n",
    "\n",
    " The goal of the regression analysis is to extract/exploit relationship between $\\boldsymbol{y}$ and $\\boldsymbol{x}$ in or to infer causal dependencies, approximations to the likelihood functions, functional relationships and to make predictions, making fits and many other things.\n",
    "\n",
    "\n",
    "\n",
    "## Regression analysis, overarching aims II\n",
    "\n",
    "\n",
    "Consider an experiment in which $p$ characteristics of $n$ samples are\n",
    "measured. The data from this experiment, for various explanatory variables $p$ are normally represented by a matrix  \n",
    "$\\mathbf{X}$.\n",
    "\n",
    "The matrix $\\mathbf{X}$ is called the *design\n",
    "matrix*. Additional information of the samples is available in the\n",
    "form of $\\boldsymbol{y}$ (also as above). The variable $\\boldsymbol{y}$ is\n",
    "generally referred to as the *response variable*. The aim of\n",
    "regression analysis is to explain $\\boldsymbol{y}$ in terms of\n",
    "$\\boldsymbol{X}$ through a functional relationship like $y_i =\n",
    "f(\\mathbf{X}_{i,\\ast})$. When no prior knowledge on the form of\n",
    "$f(\\cdot)$ is available, it is common to assume a linear relationship\n",
    "between $\\boldsymbol{X}$ and $\\boldsymbol{y}$. This assumption gives rise to\n",
    "the *linear regression model* where $\\boldsymbol{\\beta} = [\\beta_0, \\ldots,\n",
    "\\beta_{p-1}]^{T}$ are the *regression parameters*. \n",
    "\n",
    "Linear regression gives us a set of analytical equations for the parameters $\\beta_j$.\n",
    "\n",
    "\n",
    "\n",
    "\n",
    "\n",
    "## Examples\n",
    "In order to understand the relation among the predictors $p$, the set of data $n$ and the target (outcome, output etc) $\\boldsymbol{y}$,\n",
    "consider the model we discussed for describing nuclear binding energies. \n",
    "\n",
    "There we assumed that we could parametrize the data using a polynomial approximation based on the liquid drop model.\n",
    "Assuming"
   ]
  },
  {
   "cell_type": "markdown",
   "metadata": {},
   "source": [
    "$$\n",
    "BE(A) = a_0+a_1A+a_2A^{2/3}+a_3A^{-1/3}+a_4A^{-1},\n",
    "$$"
   ]
  },
  {
   "cell_type": "markdown",
   "metadata": {},
   "source": [
    "we have five predictors, that is the intercept, the $A$ dependent term, the $A^{2/3}$ term and the $A^{-1/3}$ and $A^{-1}$ terms.\n",
    "This gives $p=0,1,2,3,4$. Furthermore we have $n$ entries for each predictor. It means that our design matrix is a \n",
    "$p\\times n$ matrix $\\boldsymbol{X}$.\n",
    "\n",
    "Here the predictors are based on a model we have made. A popular data set which is widely encountered in ML applications is the\n",
    "so-called [credit card default data from Taiwan](https://www.sciencedirect.com/science/article/pii/S0957417407006719?via%3Dihub). The data set contains data on $n=30000$ credit card holders with predictors like gender, marital status, age, profession, education, etc. In total there are $24$ such predictors or attributes leading to a design matrix of dimensionality $24 \\times 30000$. This is however a classification problem and we will come back to it when we discuss Logistic Regression.\n",
    "\n",
    "\n",
    "\n",
    "\n",
    "\n",
    "\n",
    "\n",
    "## General linear models\n",
    "Before we proceed let us study a case from linear algebra where we aim at fitting a set of data $\\boldsymbol{y}=[y_0,y_1,\\dots,y_{n-1}]$. We could think of these data as a result of an experiment or a complicated numerical experiment. These data are functions of a series of variables $\\boldsymbol{x}=[x_0,x_1,\\dots,x_{n-1}]$, that is $y_i = y(x_i)$ with $i=0,1,2,\\dots,n-1$. The variables $x_i$ could represent physical quantities like time, temperature, position etc. We assume that $y(x)$ is a smooth function. \n",
    "\n",
    "Since obtaining these data points may not be trivial, we want to use these data to fit a function which can allow us to make predictions for values of $y$ which are not in the present set. The perhaps simplest approach is to assume we can parametrize our function in terms of a polynomial of degree $n-1$ with $n$ points, that is"
   ]
  },
  {
   "cell_type": "markdown",
   "metadata": {},
   "source": [
    "$$\n",
    "y=y(x) \\rightarrow y(x_i)=\\tilde{y}_i+\\epsilon_i=\\sum_{j=0}^{n-1} \\beta_j x_i^j+\\epsilon_i,\n",
    "$$"
   ]
  },
  {
   "cell_type": "markdown",
   "metadata": {},
   "source": [
    "where $\\epsilon_i$ is the error in our approximation.\n",
    "\n",
    "\n",
    "\n",
    "\n",
    "## Rewriting the fitting procedure as a linear algebra problem\n",
    "For every set of values $y_i,x_i$ we have thus the corresponding set of equations"
   ]
  },
  {
   "cell_type": "markdown",
   "metadata": {},
   "source": [
    "$$\n",
    "\\begin{align*}\n",
    "y_0&=\\beta_0+\\beta_1x_0^1+\\beta_2x_0^2+\\dots+\\beta_{n-1}x_0^{n-1}+\\epsilon_0\\\\\n",
    "y_1&=\\beta_0+\\beta_1x_1^1+\\beta_2x_1^2+\\dots+\\beta_{n-1}x_1^{n-1}+\\epsilon_1\\\\\n",
    "y_2&=\\beta_0+\\beta_1x_2^1+\\beta_2x_2^2+\\dots+\\beta_{n-1}x_2^{n-1}+\\epsilon_2\\\\\n",
    "\\dots & \\dots \\\\\n",
    "y_{n-1}&=\\beta_0+\\beta_1x_{n-1}^1+\\beta_2x_{n-1}^2+\\dots+\\beta_{n-1}x_{n-1}^{n-1}+\\epsilon_{n-1}.\\\\\n",
    "\\end{align*}\n",
    "$$"
   ]
  },
  {
   "cell_type": "markdown",
   "metadata": {},
   "source": [
    "## Rewriting the fitting procedure as a linear algebra problem, more details\n",
    "Defining the vectors"
   ]
  },
  {
   "cell_type": "markdown",
   "metadata": {},
   "source": [
    "$$\n",
    "\\boldsymbol{y} = [y_0,y_1, y_2,\\dots, y_{n-1}]^T,\n",
    "$$"
   ]
  },
  {
   "cell_type": "markdown",
   "metadata": {},
   "source": [
    "and"
   ]
  },
  {
   "cell_type": "markdown",
   "metadata": {},
   "source": [
    "$$\n",
    "\\boldsymbol{\\beta} = [\\beta_0,\\beta_1, \\beta_2,\\dots, \\beta_{n-1}]^T,\n",
    "$$"
   ]
  },
  {
   "cell_type": "markdown",
   "metadata": {},
   "source": [
    "and"
   ]
  },
  {
   "cell_type": "markdown",
   "metadata": {},
   "source": [
    "$$\n",
    "\\boldsymbol{\\epsilon} = [\\epsilon_0,\\epsilon_1, \\epsilon_2,\\dots, \\epsilon_{n-1}]^T,\n",
    "$$"
   ]
  },
  {
   "cell_type": "markdown",
   "metadata": {},
   "source": [
    "and the design matrix"
   ]
  },
  {
   "cell_type": "markdown",
   "metadata": {},
   "source": [
    "$$\n",
    "\\boldsymbol{X}=\n",
    "\\begin{bmatrix} \n",
    "1& x_{0}^1 &x_{0}^2& \\dots & \\dots &x_{0}^{n-1}\\\\\n",
    "1& x_{1}^1 &x_{1}^2& \\dots & \\dots &x_{1}^{n-1}\\\\\n",
    "1& x_{2}^1 &x_{2}^2& \\dots & \\dots &x_{2}^{n-1}\\\\                      \n",
    "\\dots& \\dots &\\dots& \\dots & \\dots &\\dots\\\\\n",
    "1& x_{n-1}^1 &x_{n-1}^2& \\dots & \\dots &x_{n-1}^{n-1}\\\\\n",
    "\\end{bmatrix}\n",
    "$$"
   ]
  },
  {
   "cell_type": "markdown",
   "metadata": {},
   "source": [
    "we can rewrite our equations as"
   ]
  },
  {
   "cell_type": "markdown",
   "metadata": {},
   "source": [
    "$$\n",
    "\\boldsymbol{y} = \\boldsymbol{X}\\boldsymbol{\\beta}+\\boldsymbol{\\epsilon}.\n",
    "$$"
   ]
  },
  {
   "cell_type": "markdown",
   "metadata": {},
   "source": [
    "The above design matrix is called a [Vandermonde matrix](https://en.wikipedia.org/wiki/Vandermonde_matrix).\n",
    "\n",
    "\n",
    "\n",
    "\n",
    "## Generalizing the fitting procedure as a linear algebra problem\n",
    "\n",
    "We are obviously not limited to the above polynomial expansions.  We\n",
    "could replace the various powers of $x$ with elements of Fourier\n",
    "series or instead of $x_i^j$ we could have $\\cos{(j x_i)}$ or $\\sin{(j\n",
    "x_i)}$, or time series or other orthogonal functions.  For every set\n",
    "of values $y_i,x_i$ we can then generalize the equations to"
   ]
  },
  {
   "cell_type": "markdown",
   "metadata": {},
   "source": [
    "$$\n",
    "\\begin{align*}\n",
    "y_0&=\\beta_0x_{00}+\\beta_1x_{01}+\\beta_2x_{02}+\\dots+\\beta_{n-1}x_{0n-1}+\\epsilon_0\\\\\n",
    "y_1&=\\beta_0x_{10}+\\beta_1x_{11}+\\beta_2x_{12}+\\dots+\\beta_{n-1}x_{1n-1}+\\epsilon_1\\\\\n",
    "y_2&=\\beta_0x_{20}+\\beta_1x_{21}+\\beta_2x_{22}+\\dots+\\beta_{n-1}x_{2n-1}+\\epsilon_2\\\\\n",
    "\\dots & \\dots \\\\\n",
    "y_{i}&=\\beta_0x_{i0}+\\beta_1x_{i1}+\\beta_2x_{i2}+\\dots+\\beta_{n-1}x_{in-1}+\\epsilon_i\\\\\n",
    "\\dots & \\dots \\\\\n",
    "y_{n-1}&=\\beta_0x_{n-1,0}+\\beta_1x_{n-1,2}+\\beta_2x_{n-1,2}+\\dots+\\beta_{n-1}x_{n-1,n-1}+\\epsilon_{n-1}.\\\\\n",
    "\\end{align*}\n",
    "$$"
   ]
  },
  {
   "cell_type": "markdown",
   "metadata": {},
   "source": [
    "**Note that we have $p=n$ here. The matrix is symmetric. This is generally not the case!**\n",
    "\n",
    "\n",
    "\n",
    "\n",
    "## Generalizing the fitting procedure as a linear algebra problem\n",
    "We redefine in turn the matrix $\\boldsymbol{X}$ as"
   ]
  },
  {
   "cell_type": "markdown",
   "metadata": {},
   "source": [
    "$$\n",
    "\\boldsymbol{X}=\n",
    "\\begin{bmatrix} \n",
    "x_{00}& x_{01} &x_{02}& \\dots & \\dots &x_{0,n-1}\\\\\n",
    "x_{10}& x_{11} &x_{12}& \\dots & \\dots &x_{1,n-1}\\\\\n",
    "x_{20}& x_{21} &x_{22}& \\dots & \\dots &x_{2,n-1}\\\\                      \n",
    "\\dots& \\dots &\\dots& \\dots & \\dots &\\dots\\\\\n",
    "x_{n-1,0}& x_{n-1,1} &x_{n-1,2}& \\dots & \\dots &x_{n-1,n-1}\\\\\n",
    "\\end{bmatrix}\n",
    "$$"
   ]
  },
  {
   "cell_type": "markdown",
   "metadata": {},
   "source": [
    "and without loss of generality we rewrite again  our equations as"
   ]
  },
  {
   "cell_type": "markdown",
   "metadata": {},
   "source": [
    "$$\n",
    "\\boldsymbol{y} = \\boldsymbol{X}\\boldsymbol{\\beta}+\\boldsymbol{\\epsilon}.\n",
    "$$"
   ]
  },
  {
   "cell_type": "markdown",
   "metadata": {},
   "source": [
    "The left-hand side of this equation is kwown. Our error vector $\\boldsymbol{\\epsilon}$ and the parameter vector $\\boldsymbol{\\beta}$ are our unknow quantities. How can we obtain the optimal set of $\\beta_i$ values?\n",
    "\n",
    "\n",
    "\n",
    "\n",
    "## Optimizing our parameters\n",
    "We have defined the matrix $\\boldsymbol{X}$ via the equations"
   ]
  },
  {
   "cell_type": "markdown",
   "metadata": {},
   "source": [
    "$$\n",
    "\\begin{align*}\n",
    "y_0&=\\beta_0x_{00}+\\beta_1x_{01}+\\beta_2x_{02}+\\dots+\\beta_{n-1}x_{0n-1}+\\epsilon_0\\\\\n",
    "y_1&=\\beta_0x_{10}+\\beta_1x_{11}+\\beta_2x_{12}+\\dots+\\beta_{n-1}x_{1n-1}+\\epsilon_1\\\\\n",
    "y_2&=\\beta_0x_{20}+\\beta_1x_{21}+\\beta_2x_{22}+\\dots+\\beta_{n-1}x_{2n-1}+\\epsilon_1\\\\\n",
    "\\dots & \\dots \\\\\n",
    "y_{i}&=\\beta_0x_{i0}+\\beta_1x_{i1}+\\beta_2x_{i2}+\\dots+\\beta_{n-1}x_{in-1}+\\epsilon_1\\\\\n",
    "\\dots & \\dots \\\\\n",
    "y_{n-1}&=\\beta_0x_{n-1,0}+\\beta_1x_{n-1,2}+\\beta_2x_{n-1,2}+\\dots+\\beta_{n-1}x_{n-1,n-1}+\\epsilon_{n-1}.\\\\\n",
    "\\end{align*}\n",
    "$$"
   ]
  },
  {
   "cell_type": "markdown",
   "metadata": {},
   "source": [
    "As we noted above, we stayed with a system with the design matrix \n",
    " $\\boldsymbol{X}\\in {\\mathbb{R}}^{n\\times n}$, that is we have $p=n$. For reasons to come later (algorithmic arguments) we will hereafter define \n",
    "our matrix as $\\boldsymbol{X}\\in {\\mathbb{R}}^{n\\times p}$, with the predictors refering to the column numbers and the entries $n$ being the row elements.\n",
    "\n",
    "\n",
    "\n",
    "\n",
    "## Our model for the nuclear binding energies\n",
    "\n",
    "In our [introductory notes](https://compphysics.github.io/MachineLearning/doc/pub/How2ReadData/html/How2ReadData.html) we looked at the so-called [liquid drop model](https://en.wikipedia.org/wiki/Semi-empirical_mass_formula). Let us remind ourselves about what we did by looking at the code.\n",
    "\n",
    "We restate the parts of the code we are most interested in."
   ]
  },
  {
   "cell_type": "code",
   "execution_count": 1,
   "metadata": {},
   "outputs": [],
   "source": [
    "%matplotlib inline\n",
    "\n",
    "# Common imports\n",
    "import numpy as np\n",
    "import pandas as pd\n",
    "import matplotlib.pyplot as plt\n",
    "from IPython.display import display\n",
    "import os\n",
    "\n",
    "# Where to save the figures and data files\n",
    "PROJECT_ROOT_DIR = \"Results\"\n",
    "FIGURE_ID = \"Results/FigureFiles\"\n",
    "DATA_ID = \"DataFiles/\"\n",
    "\n",
    "if not os.path.exists(PROJECT_ROOT_DIR):\n",
    "    os.mkdir(PROJECT_ROOT_DIR)\n",
    "\n",
    "if not os.path.exists(FIGURE_ID):\n",
    "    os.makedirs(FIGURE_ID)\n",
    "\n",
    "if not os.path.exists(DATA_ID):\n",
    "    os.makedirs(DATA_ID)\n",
    "\n",
    "def image_path(fig_id):\n",
    "    return os.path.join(FIGURE_ID, fig_id)\n",
    "\n",
    "def data_path(dat_id):\n",
    "    return os.path.join(DATA_ID, dat_id)\n",
    "\n",
    "def save_fig(fig_id):\n",
    "    plt.savefig(image_path(fig_id) + \".png\", format='png')\n",
    "\n",
    "infile = open(data_path(\"MassEval2016.dat\"),'r')\n",
    "\n",
    "\n",
    "# Read the experimental data with Pandas\n",
    "Masses = pd.read_fwf(infile, usecols=(2,3,4,6,11),\n",
    "              names=('N', 'Z', 'A', 'Element', 'Ebinding'),\n",
    "              widths=(1,3,5,5,5,1,3,4,1,13,11,11,9,1,2,11,9,1,3,1,12,11,1),\n",
    "              header=39,\n",
    "              index_col=False)\n",
    "\n",
    "# Extrapolated values are indicated by '#' in place of the decimal place, so\n",
    "# the Ebinding column won't be numeric. Coerce to float and drop these entries.\n",
    "Masses['Ebinding'] = pd.to_numeric(Masses['Ebinding'], errors='coerce')\n",
    "Masses = Masses.dropna()\n",
    "# Convert from keV to MeV.\n",
    "Masses['Ebinding'] /= 1000\n",
    "\n",
    "# Group the DataFrame by nucleon number, A.\n",
    "Masses = Masses.groupby('A')\n",
    "# Find the rows of the grouped DataFrame with the maximum binding energy.\n",
    "Masses = Masses.apply(lambda t: t[t.Ebinding==t.Ebinding.max()])\n",
    "A = Masses['A']\n",
    "Z = Masses['Z']\n",
    "N = Masses['N']\n",
    "Element = Masses['Element']\n",
    "Energies = Masses['Ebinding']\n",
    "\n",
    "# Now we set up the design matrix X\n",
    "X = np.zeros((len(A),5))\n",
    "X[:,0] = 1\n",
    "X[:,1] = A\n",
    "X[:,2] = A**(2.0/3.0)\n",
    "X[:,3] = A**(-1.0/3.0)\n",
    "X[:,4] = A**(-1.0)\n",
    "# Then nice printout using pandas\n",
    "DesignMatrix = pd.DataFrame(X)\n",
    "DesignMatrix.index = A\n",
    "DesignMatrix.columns = ['1', 'A', 'A^(2/3)', 'A^(-1/3)', '1/A']\n",
    "display(DesignMatrix)"
   ]
  },
  {
   "cell_type": "markdown",
   "metadata": {},
   "source": [
    "With $\\boldsymbol{\\beta}\\in {\\mathbb{R}}^{p\\times 1}$, it means that we will hereafter write our equations for the approximation as"
   ]
  },
  {
   "cell_type": "markdown",
   "metadata": {},
   "source": [
    "$$\n",
    "\\boldsymbol{\\tilde{y}}= \\boldsymbol{X}\\boldsymbol{\\beta},\n",
    "$$"
   ]
  },
  {
   "cell_type": "markdown",
   "metadata": {},
   "source": [
    "throughout these lectures. \n",
    "\n",
    "\n",
    "## Optimizing our parameters, more details\n",
    "With the above we use the design matrix to define the approximation $\\boldsymbol{\\tilde{y}}$ via the unknown quantity $\\boldsymbol{\\beta}$ as"
   ]
  },
  {
   "cell_type": "markdown",
   "metadata": {},
   "source": [
    "$$\n",
    "\\boldsymbol{\\tilde{y}}= \\boldsymbol{X}\\boldsymbol{\\beta},\n",
    "$$"
   ]
  },
  {
   "cell_type": "markdown",
   "metadata": {},
   "source": [
    "and in order to find the optimal parameters $\\beta_i$ instead of solving the above linear algebra problem, we define a function which gives a measure of the spread between the values $y_i$ (which represent hopefully the exact values) and the parameterized values $\\tilde{y}_i$, namely"
   ]
  },
  {
   "cell_type": "markdown",
   "metadata": {},
   "source": [
    "$$\n",
    "C(\\boldsymbol{\\beta})=\\frac{1}{n}\\sum_{i=0}^{n-1}\\left(y_i-\\tilde{y}_i\\right)^2=\\frac{1}{n}\\left\\{\\left(\\boldsymbol{y}-\\boldsymbol{\\tilde{y}}\\right)^T\\left(\\boldsymbol{y}-\\boldsymbol{\\tilde{y}}\\right)\\right\\},\n",
    "$$"
   ]
  },
  {
   "cell_type": "markdown",
   "metadata": {},
   "source": [
    "or using the matrix $\\boldsymbol{X}$ and in a more compact matrix-vector notation as"
   ]
  },
  {
   "cell_type": "markdown",
   "metadata": {},
   "source": [
    "$$\n",
    "C(\\boldsymbol{\\beta})=\\frac{1}{n}\\left\\{\\left(\\boldsymbol{y}-\\boldsymbol{X}^T\\boldsymbol{\\beta}\\right)^T\\left(\\boldsymbol{y}-\\boldsymbol{X}^T\\boldsymbol{\\beta}\\right)\\right\\}.\n",
    "$$"
   ]
  },
  {
   "cell_type": "markdown",
   "metadata": {},
   "source": [
    "This function is one possible way to define the so-called cost function.\n",
    "\n",
    "\n",
    "\n",
    "It is also common to define\n",
    "the function $Q$ as"
   ]
  },
  {
   "cell_type": "markdown",
   "metadata": {},
   "source": [
    "$$\n",
    "C(\\boldsymbol{\\beta})=\\frac{1}{2n}\\sum_{i=0}^{n-1}\\left(y_i-\\tilde{y}_i\\right)^2,\n",
    "$$"
   ]
  },
  {
   "cell_type": "markdown",
   "metadata": {},
   "source": [
    "since when taking the first derivative with respect to the unknown parameters $\\beta$, the factor of $2$ cancels out.\n",
    "\n",
    "\n",
    "\n",
    "\n",
    "## Interpretations and optimizing our parameters\n",
    "\n",
    "The function"
   ]
  },
  {
   "cell_type": "markdown",
   "metadata": {},
   "source": [
    "$$\n",
    "C(\\boldsymbol{\\beta})=\\frac{1}{n}\\left\\{\\left(\\boldsymbol{y}-\\boldsymbol{X}\\boldsymbol{\\beta}\\right)^T\\left(\\boldsymbol{y}-\\boldsymbol{X}\\boldsymbol{\\beta}\\right)\\right\\},\n",
    "$$"
   ]
  },
  {
   "cell_type": "markdown",
   "metadata": {},
   "source": [
    "can be linked to the variance of the quantity $y_i$ if we interpret the latter as the mean value. \n",
    "When linking (see the discussion below) with the maximum likelihood approach below, we will indeed interpret $y_i$ as a mean value"
   ]
  },
  {
   "cell_type": "markdown",
   "metadata": {},
   "source": [
    "$$\n",
    "y_{i}=\\langle y_i \\rangle = \\beta_0x_{i,0}+\\beta_1x_{i,1}+\\beta_2x_{i,2}+\\dots+\\beta_{n-1}x_{i,n-1}+\\epsilon_i,\n",
    "$$"
   ]
  },
  {
   "cell_type": "markdown",
   "metadata": {},
   "source": [
    "where $\\langle y_i \\rangle$ is the mean value. Keep in mind also that\n",
    "till now we have treated $y_i$ as the exact value. Normally, the\n",
    "response (dependent or outcome) variable $y_i$ the outcome of a\n",
    "numerical experiment or another type of experiment and is thus only an\n",
    "approximation to the true value. It is then always accompanied by an\n",
    "error estimate, often limited to a statistical error estimate given by\n",
    "the standard deviation discussed earlier. In the discussion here we\n",
    "will treat $y_i$ as our exact value for the response variable.\n",
    "\n",
    "In order to find the parameters $\\beta_i$ we will then minimize the spread of $C(\\boldsymbol{\\beta})$, that is we are going to solve the problem"
   ]
  },
  {
   "cell_type": "markdown",
   "metadata": {},
   "source": [
    "$$\n",
    "{\\displaystyle \\min_{\\boldsymbol{\\beta}\\in\n",
    "{\\mathbb{R}}^{p}}}\\frac{1}{n}\\left\\{\\left(\\boldsymbol{y}-\\boldsymbol{X}\\boldsymbol{\\beta}\\right)^T\\left(\\boldsymbol{y}-\\boldsymbol{X}\\boldsymbol{\\beta}\\right)\\right\\}.\n",
    "$$"
   ]
  },
  {
   "cell_type": "markdown",
   "metadata": {},
   "source": [
    "In practical terms it means we will require"
   ]
  },
  {
   "cell_type": "markdown",
   "metadata": {},
   "source": [
    "$$\n",
    "\\frac{\\partial C(\\boldsymbol{\\beta})}{\\partial \\beta_j} = \\frac{\\partial }{\\partial \\beta_j}\\left[ \\frac{1}{n}\\sum_{i=0}^{n-1}\\left(y_i-\\beta_0x_{i,0}-\\beta_1x_{i,1}-\\beta_2x_{i,2}-\\dots-\\beta_{n-1}x_{i,n-1}\\right)^2\\right]=0,\n",
    "$$"
   ]
  },
  {
   "cell_type": "markdown",
   "metadata": {},
   "source": [
    "which results in"
   ]
  },
  {
   "cell_type": "markdown",
   "metadata": {},
   "source": [
    "$$\n",
    "\\frac{\\partial C(\\boldsymbol{\\beta})}{\\partial \\beta_j} = -\\frac{2}{n}\\left[ \\sum_{i=0}^{n-1}x_{ij}\\left(y_i-\\beta_0x_{i,0}-\\beta_1x_{i,1}-\\beta_2x_{i,2}-\\dots-\\beta_{n-1}x_{i,n-1}\\right)\\right]=0,\n",
    "$$"
   ]
  },
  {
   "cell_type": "markdown",
   "metadata": {},
   "source": [
    "or in a matrix-vector form as"
   ]
  },
  {
   "cell_type": "markdown",
   "metadata": {},
   "source": [
    "$$\n",
    "\\frac{\\partial C(\\boldsymbol{\\beta})}{\\partial \\boldsymbol{\\beta}} = 0 = \\boldsymbol{X}^T\\left( \\boldsymbol{y}-\\boldsymbol{X}\\boldsymbol{\\beta}\\right).\n",
    "$$"
   ]
  },
  {
   "cell_type": "markdown",
   "metadata": {},
   "source": [
    "## Interpretations and optimizing our parameters\n",
    "We can rewrite"
   ]
  },
  {
   "cell_type": "markdown",
   "metadata": {},
   "source": [
    "$$\n",
    "\\frac{\\partial C(\\boldsymbol{\\beta})}{\\partial \\boldsymbol{\\beta}} = 0 = \\boldsymbol{X}^T\\left( \\boldsymbol{y}-\\boldsymbol{X}\\boldsymbol{\\beta}\\right),\n",
    "$$"
   ]
  },
  {
   "cell_type": "markdown",
   "metadata": {},
   "source": [
    "as"
   ]
  },
  {
   "cell_type": "markdown",
   "metadata": {},
   "source": [
    "$$\n",
    "\\boldsymbol{X}^T\\boldsymbol{y} = \\boldsymbol{X}^T\\boldsymbol{X}\\boldsymbol{\\beta},\n",
    "$$"
   ]
  },
  {
   "cell_type": "markdown",
   "metadata": {},
   "source": [
    "and if the matrix $\\boldsymbol{X}^T\\boldsymbol{X}$ is invertible we have the solution"
   ]
  },
  {
   "cell_type": "markdown",
   "metadata": {},
   "source": [
    "$$\n",
    "\\boldsymbol{\\beta} =\\left(\\boldsymbol{X}^T\\boldsymbol{X}\\right)^{-1}\\boldsymbol{X}^T\\boldsymbol{y}.\n",
    "$$"
   ]
  },
  {
   "cell_type": "markdown",
   "metadata": {},
   "source": [
    "We note also that since our design matrix is defined as $\\boldsymbol{X}\\in\n",
    "{\\mathbb{R}}^{n\\times p}$, the product $\\boldsymbol{X}^T\\boldsymbol{X} \\in\n",
    "{\\mathbb{R}}^{p\\times p}$.  In the above case we have that $p \\ll n$,\n",
    "in our case $p=5$ meaning that we end up with inverting a small\n",
    "$5\\times 5$ matrix. This is a rather common situation, in many cases we end up with low-dimensional\n",
    "matrices to invert. The methods discussed here and for many other\n",
    "supervised learning algorithms like classification with logistic\n",
    "regression or support vector machines, exhibit dimensionalities which\n",
    "allow for the usage of direct linear algebra methods such as **LU** decomposition or **Singular Value Decomposition** (SVD) for finding the inverse of the matrix\n",
    "$\\boldsymbol{X}^T\\boldsymbol{X}$.\n",
    "\n",
    "\n",
    "\n",
    "**Small question**: Do you think the example we have at hand here (the nuclear binding energies) can lead to problems in inverting the matrix  $\\boldsymbol{X}^T\\boldsymbol{X}$? What kind of problems can we expect?\n",
    "\n",
    "\n",
    "\n",
    "## Some useful matrix and vector expressions\n",
    "\n",
    "The following matrix and vector relation will be useful here and for the rest of the course. Vectors are always written as boldfaced lower case letters and \n",
    "matrices as upper case boldfaced letters."
   ]
  },
  {
   "cell_type": "markdown",
   "metadata": {},
   "source": [
    "2\n",
    "6\n",
    " \n",
    "<\n",
    "<\n",
    "<\n",
    "!\n",
    "!\n",
    "M\n",
    "A\n",
    "T\n",
    "H\n",
    "_\n",
    "B\n",
    "L\n",
    "O\n",
    "C\n",
    "K"
   ]
  },
  {
   "cell_type": "markdown",
   "metadata": {},
   "source": [
    "2\n",
    "7\n",
    " \n",
    "<\n",
    "<\n",
    "<\n",
    "!\n",
    "!\n",
    "M\n",
    "A\n",
    "T\n",
    "H\n",
    "_\n",
    "B\n",
    "L\n",
    "O\n",
    "C\n",
    "K"
   ]
  },
  {
   "cell_type": "markdown",
   "metadata": {},
   "source": [
    "2\n",
    "8\n",
    " \n",
    "<\n",
    "<\n",
    "<\n",
    "!\n",
    "!\n",
    "M\n",
    "A\n",
    "T\n",
    "H\n",
    "_\n",
    "B\n",
    "L\n",
    "O\n",
    "C\n",
    "K"
   ]
  },
  {
   "cell_type": "markdown",
   "metadata": {},
   "source": [
    "$$\n",
    "\\frac{\\partial \\log{\\vert\\boldsymbol{A}\\vert}}{\\partial \\boldsymbol{A}} = (\\boldsymbol{A}^{-1})^T.\n",
    "$$"
   ]
  },
  {
   "cell_type": "markdown",
   "metadata": {},
   "source": [
    "## Interpretations and optimizing our parameters\n",
    "The residuals $\\boldsymbol{\\epsilon}$ are in turn given by"
   ]
  },
  {
   "cell_type": "markdown",
   "metadata": {},
   "source": [
    "$$\n",
    "\\boldsymbol{\\epsilon} = \\boldsymbol{y}-\\boldsymbol{\\tilde{y}} = \\boldsymbol{y}-\\boldsymbol{X}\\boldsymbol{\\beta},\n",
    "$$"
   ]
  },
  {
   "cell_type": "markdown",
   "metadata": {},
   "source": [
    "and with"
   ]
  },
  {
   "cell_type": "markdown",
   "metadata": {},
   "source": [
    "$$\n",
    "\\boldsymbol{X}^T\\left( \\boldsymbol{y}-\\boldsymbol{X}\\boldsymbol{\\beta}\\right)= 0,\n",
    "$$"
   ]
  },
  {
   "cell_type": "markdown",
   "metadata": {},
   "source": [
    "we have"
   ]
  },
  {
   "cell_type": "markdown",
   "metadata": {},
   "source": [
    "$$\n",
    "\\boldsymbol{X}^T\\boldsymbol{\\epsilon}=\\boldsymbol{X}^T\\left( \\boldsymbol{y}-\\boldsymbol{X}\\boldsymbol{\\beta}\\right)= 0,\n",
    "$$"
   ]
  },
  {
   "cell_type": "markdown",
   "metadata": {},
   "source": [
    "meaning that the solution for $\\boldsymbol{\\beta}$ is the one which minimizes the residuals.  Later we will link this with the maximum likelihood approach.\n",
    "\n",
    "\n",
    "\n",
    "\n",
    "Let us now return to our nuclear binding energies and simply code the above equations. \n",
    "\n",
    "## Own code for Ordinary Least Squares\n",
    "\n",
    "It is rather straightforward to implement the matrix inversion and obtain the parameters $\\boldsymbol{\\beta}$. After having defined the matrix $\\boldsymbol{X}$ we simply need to \n",
    "write"
   ]
  },
  {
   "cell_type": "code",
   "execution_count": 2,
   "metadata": {},
   "outputs": [],
   "source": [
    "# matrix inversion to find beta\n",
    "beta = np.linalg.inv(X.T.dot(X)).dot(X.T).dot(Energies)\n",
    "# and then make the prediction\n",
    "ytilde = X @ beta"
   ]
  },
  {
   "cell_type": "markdown",
   "metadata": {},
   "source": [
    "Alternatively, you can use the least squares functionality in **Numpy** as"
   ]
  },
  {
   "cell_type": "code",
   "execution_count": 3,
   "metadata": {},
   "outputs": [],
   "source": [
    "fit = np.linalg.lstsq(X, Energies, rcond =None)[0]\n",
    "ytildenp = np.dot(fit,X.T)"
   ]
  },
  {
   "cell_type": "markdown",
   "metadata": {},
   "source": [
    "And finally we plot our fit with and compare with data"
   ]
  },
  {
   "cell_type": "code",
   "execution_count": 4,
   "metadata": {},
   "outputs": [],
   "source": [
    "Masses['Eapprox']  = ytilde\n",
    "# Generate a plot comparing the experimental with the fitted values values.\n",
    "fig, ax = plt.subplots()\n",
    "ax.set_xlabel(r'$A = N + Z$')\n",
    "ax.set_ylabel(r'$E_\\mathrm{bind}\\,/\\mathrm{MeV}$')\n",
    "ax.plot(Masses['A'], Masses['Ebinding'], alpha=0.7, lw=2,\n",
    "            label='Ame2016')\n",
    "ax.plot(Masses['A'], Masses['Eapprox'], alpha=0.7, lw=2, c='m',\n",
    "            label='Fit')\n",
    "ax.legend()\n",
    "save_fig(\"Masses2016OLS\")\n",
    "plt.show()"
   ]
  },
  {
   "cell_type": "markdown",
   "metadata": {},
   "source": [
    "## Adding error analysis and training set up\n",
    "\n",
    "We can easily test our fit by computing the $R2$ score that we discussed in connection with the functionality of _Scikit_Learn_ in the introductory slides.\n",
    "Since we are not using _Scikit-Learn here we can define our own $R2$ function as"
   ]
  },
  {
   "cell_type": "code",
   "execution_count": 5,
   "metadata": {},
   "outputs": [],
   "source": [
    "def R2(y_data, y_model):\n",
    "    return 1 - np.sum((y_data - y_model) ** 2) / np.sum((y_data - np.mean(y_data)) ** 2)"
   ]
  },
  {
   "cell_type": "markdown",
   "metadata": {},
   "source": [
    "and we would be using it as"
   ]
  },
  {
   "cell_type": "code",
   "execution_count": 6,
   "metadata": {},
   "outputs": [],
   "source": [
    "print(R2(Energies,ytilde))"
   ]
  },
  {
   "cell_type": "markdown",
   "metadata": {},
   "source": [
    "We can easily add our **MSE** score as"
   ]
  },
  {
   "cell_type": "code",
   "execution_count": 7,
   "metadata": {},
   "outputs": [],
   "source": [
    "def MSE(y_data,y_model):\n",
    "    n = np.size(y_model)\n",
    "    return np.sum((y_data-y_model)**2)/n\n",
    "\n",
    "print(MSE(Energies,ytilde))"
   ]
  },
  {
   "cell_type": "markdown",
   "metadata": {},
   "source": [
    "and finally the relative error as"
   ]
  },
  {
   "cell_type": "code",
   "execution_count": 8,
   "metadata": {},
   "outputs": [],
   "source": [
    "def RelativeError(y_data,y_model):\n",
    "    return abs((y_data-y_model)/y_data)\n",
    "print(RelativeError(Energies, ytilde))"
   ]
  },
  {
   "cell_type": "markdown",
   "metadata": {},
   "source": [
    "## The $\\chi^2$ function\n",
    "\n",
    "Normally, the response (dependent or outcome) variable $y_i$ is the\n",
    "outcome of a numerical experiment or another type of experiment and is\n",
    "thus only an approximation to the true value. It is then always\n",
    "accompanied by an error estimate, often limited to a statistical error\n",
    "estimate given by the standard deviation discussed earlier. In the\n",
    "discussion here we will treat $y_i$ as our exact value for the\n",
    "response variable.\n",
    "\n",
    "Introducing the standard deviation $\\sigma_i$ for each measurement\n",
    "$y_i$, we define now the $\\chi^2$ function (omitting the $1/n$ term)\n",
    "as"
   ]
  },
  {
   "cell_type": "markdown",
   "metadata": {},
   "source": [
    "$$\n",
    "\\chi^2(\\boldsymbol{\\beta})=\\frac{1}{n}\\sum_{i=0}^{n-1}\\frac{\\left(y_i-\\tilde{y}_i\\right)^2}{\\sigma_i^2}=\\frac{1}{n}\\left\\{\\left(\\boldsymbol{y}-\\boldsymbol{\\tilde{y}}\\right)^T\\frac{1}{\\boldsymbol{\\Sigma^2}}\\left(\\boldsymbol{y}-\\boldsymbol{\\tilde{y}}\\right)\\right\\},\n",
    "$$"
   ]
  },
  {
   "cell_type": "markdown",
   "metadata": {},
   "source": [
    "where the matrix $\\boldsymbol{\\Sigma}$ is a diagonal matrix with $\\sigma_i$ as matrix elements.\n",
    "\n",
    "\n",
    "\n",
    "## The $\\chi^2$ function\n",
    "\n",
    "In order to find the parameters $\\beta_i$ we will then minimize the spread of $\\chi^2(\\boldsymbol{\\beta})$ by requiring"
   ]
  },
  {
   "cell_type": "markdown",
   "metadata": {},
   "source": [
    "$$\n",
    "\\frac{\\partial \\chi^2(\\boldsymbol{\\beta})}{\\partial \\beta_j} = \\frac{\\partial }{\\partial \\beta_j}\\left[ \\frac{1}{n}\\sum_{i=0}^{n-1}\\left(\\frac{y_i-\\beta_0x_{i,0}-\\beta_1x_{i,1}-\\beta_2x_{i,2}-\\dots-\\beta_{n-1}x_{i,n-1}}{\\sigma_i}\\right)^2\\right]=0,\n",
    "$$"
   ]
  },
  {
   "cell_type": "markdown",
   "metadata": {},
   "source": [
    "which results in"
   ]
  },
  {
   "cell_type": "markdown",
   "metadata": {},
   "source": [
    "$$\n",
    "\\frac{\\partial \\chi^2(\\boldsymbol{\\beta})}{\\partial \\beta_j} = -\\frac{2}{n}\\left[ \\sum_{i=0}^{n-1}\\frac{x_{ij}}{\\sigma_i}\\left(\\frac{y_i-\\beta_0x_{i,0}-\\beta_1x_{i,1}-\\beta_2x_{i,2}-\\dots-\\beta_{n-1}x_{i,n-1}}{\\sigma_i}\\right)\\right]=0,\n",
    "$$"
   ]
  },
  {
   "cell_type": "markdown",
   "metadata": {},
   "source": [
    "or in a matrix-vector form as"
   ]
  },
  {
   "cell_type": "markdown",
   "metadata": {},
   "source": [
    "$$\n",
    "\\frac{\\partial \\chi^2(\\boldsymbol{\\beta})}{\\partial \\boldsymbol{\\beta}} = 0 = \\boldsymbol{A}^T\\left( \\boldsymbol{b}-\\boldsymbol{A}\\boldsymbol{\\beta}\\right).\n",
    "$$"
   ]
  },
  {
   "cell_type": "markdown",
   "metadata": {},
   "source": [
    "where we have defined the matrix $\\boldsymbol{A} =\\boldsymbol{X}/\\boldsymbol{\\Sigma}$ with matrix elements $a_{ij} = x_{ij}/\\sigma_i$ and the vector $\\boldsymbol{b}$ with elements $b_i = y_i/\\sigma_i$.\n",
    "\n",
    "\n",
    "\n",
    "## The $\\chi^2$ function\n",
    "\n",
    "We can rewrite"
   ]
  },
  {
   "cell_type": "markdown",
   "metadata": {},
   "source": [
    "$$\n",
    "\\frac{\\partial \\chi^2(\\boldsymbol{\\beta})}{\\partial \\boldsymbol{\\beta}} = 0 = \\boldsymbol{A}^T\\left( \\boldsymbol{b}-\\boldsymbol{A}\\boldsymbol{\\beta}\\right),\n",
    "$$"
   ]
  },
  {
   "cell_type": "markdown",
   "metadata": {},
   "source": [
    "as"
   ]
  },
  {
   "cell_type": "markdown",
   "metadata": {},
   "source": [
    "$$\n",
    "\\boldsymbol{A}^T\\boldsymbol{b} = \\boldsymbol{A}^T\\boldsymbol{A}\\boldsymbol{\\beta},\n",
    "$$"
   ]
  },
  {
   "cell_type": "markdown",
   "metadata": {},
   "source": [
    "and if the matrix $\\boldsymbol{A}^T\\boldsymbol{A}$ is invertible we have the solution"
   ]
  },
  {
   "cell_type": "markdown",
   "metadata": {},
   "source": [
    "$$\n",
    "\\boldsymbol{\\beta} =\\left(\\boldsymbol{A}^T\\boldsymbol{A}\\right)^{-1}\\boldsymbol{A}^T\\boldsymbol{b}.\n",
    "$$"
   ]
  },
  {
   "cell_type": "markdown",
   "metadata": {},
   "source": [
    "## The $\\chi^2$ function\n",
    "\n",
    "If we then introduce the matrix"
   ]
  },
  {
   "cell_type": "markdown",
   "metadata": {},
   "source": [
    "$$\n",
    "\\boldsymbol{H} =  \\left(\\boldsymbol{A}^T\\boldsymbol{A}\\right)^{-1},\n",
    "$$"
   ]
  },
  {
   "cell_type": "markdown",
   "metadata": {},
   "source": [
    "we have then the following expression for the parameters $\\beta_j$ (the matrix elements of $\\boldsymbol{H}$ are $h_{ij}$)"
   ]
  },
  {
   "cell_type": "markdown",
   "metadata": {},
   "source": [
    "$$\n",
    "\\beta_j = \\sum_{k=0}^{p-1}h_{jk}\\sum_{i=0}^{n-1}\\frac{y_i}{\\sigma_i}\\frac{x_{ik}}{\\sigma_i} = \\sum_{k=0}^{p-1}h_{jk}\\sum_{i=0}^{n-1}b_ia_{ik}\n",
    "$$"
   ]
  },
  {
   "cell_type": "markdown",
   "metadata": {},
   "source": [
    "We state without proof the expression for the uncertainty  in the parameters $\\beta_j$ as (we leave this as an exercise)"
   ]
  },
  {
   "cell_type": "markdown",
   "metadata": {},
   "source": [
    "$$\n",
    "\\sigma^2(\\beta_j) = \\sum_{i=0}^{n-1}\\sigma_i^2\\left( \\frac{\\partial \\beta_j}{\\partial y_i}\\right)^2,\n",
    "$$"
   ]
  },
  {
   "cell_type": "markdown",
   "metadata": {},
   "source": [
    "resulting in"
   ]
  },
  {
   "cell_type": "markdown",
   "metadata": {},
   "source": [
    "$$\n",
    "\\sigma^2(\\beta_j) = \\left(\\sum_{k=0}^{p-1}h_{jk}\\sum_{i=0}^{n-1}a_{ik}\\right)\\left(\\sum_{l=0}^{p-1}h_{jl}\\sum_{m=0}^{n-1}a_{ml}\\right) = h_{jj}!\n",
    "$$"
   ]
  },
  {
   "cell_type": "markdown",
   "metadata": {},
   "source": [
    "## The $\\chi^2$ function\n",
    "The first step here is to approximate the function $y$ with a first-order polynomial, that is we write"
   ]
  },
  {
   "cell_type": "markdown",
   "metadata": {},
   "source": [
    "$$\n",
    "y=y(x) \\rightarrow y(x_i) \\approx \\beta_0+\\beta_1 x_i.\n",
    "$$"
   ]
  },
  {
   "cell_type": "markdown",
   "metadata": {},
   "source": [
    "By computing the derivatives of $\\chi^2$ with respect to $\\beta_0$ and $\\beta_1$ show that these are given by"
   ]
  },
  {
   "cell_type": "markdown",
   "metadata": {},
   "source": [
    "$$\n",
    "\\frac{\\partial \\chi^2(\\boldsymbol{\\beta})}{\\partial \\beta_0} = -2\\left[ \\frac{1}{n}\\sum_{i=0}^{n-1}\\left(\\frac{y_i-\\beta_0-\\beta_1x_{i}}{\\sigma_i^2}\\right)\\right]=0,\n",
    "$$"
   ]
  },
  {
   "cell_type": "markdown",
   "metadata": {},
   "source": [
    "and"
   ]
  },
  {
   "cell_type": "markdown",
   "metadata": {},
   "source": [
    "$$\n",
    "\\frac{\\partial \\chi^2(\\boldsymbol{\\beta})}{\\partial \\beta_1} = -\\frac{2}{n}\\left[ \\sum_{i=0}^{n-1}x_i\\left(\\frac{y_i-\\beta_0-\\beta_1x_{i}}{\\sigma_i^2}\\right)\\right]=0.\n",
    "$$"
   ]
  },
  {
   "cell_type": "markdown",
   "metadata": {},
   "source": [
    "## The $\\chi^2$ function\n",
    "\n",
    "For a linear fit (a first-order polynomial) we don't need to invert a matrix!!  \n",
    "Defining"
   ]
  },
  {
   "cell_type": "markdown",
   "metadata": {},
   "source": [
    "$$\n",
    "\\gamma =  \\sum_{i=0}^{n-1}\\frac{1}{\\sigma_i^2},\n",
    "$$"
   ]
  },
  {
   "cell_type": "markdown",
   "metadata": {},
   "source": [
    "$$\n",
    "\\gamma_x =  \\sum_{i=0}^{n-1}\\frac{x_{i}}{\\sigma_i^2},\n",
    "$$"
   ]
  },
  {
   "cell_type": "markdown",
   "metadata": {},
   "source": [
    "$$\n",
    "\\gamma_y = \\sum_{i=0}^{n-1}\\left(\\frac{y_i}{\\sigma_i^2}\\right),\n",
    "$$"
   ]
  },
  {
   "cell_type": "markdown",
   "metadata": {},
   "source": [
    "$$\n",
    "\\gamma_{xx} =  \\sum_{i=0}^{n-1}\\frac{x_ix_{i}}{\\sigma_i^2},\n",
    "$$"
   ]
  },
  {
   "cell_type": "markdown",
   "metadata": {},
   "source": [
    "$$\n",
    "\\gamma_{xy} = \\sum_{i=0}^{n-1}\\frac{y_ix_{i}}{\\sigma_i^2},\n",
    "$$"
   ]
  },
  {
   "cell_type": "markdown",
   "metadata": {},
   "source": [
    "we obtain"
   ]
  },
  {
   "cell_type": "markdown",
   "metadata": {},
   "source": [
    "$$\n",
    "\\beta_0 = \\frac{\\gamma_{xx}\\gamma_y-\\gamma_x\\gamma_y}{\\gamma\\gamma_{xx}-\\gamma_x^2},\n",
    "$$"
   ]
  },
  {
   "cell_type": "markdown",
   "metadata": {},
   "source": [
    "$$\n",
    "\\beta_1 = \\frac{\\gamma_{xy}\\gamma-\\gamma_x\\gamma_y}{\\gamma\\gamma_{xx}-\\gamma_x^2}.\n",
    "$$"
   ]
  },
  {
   "cell_type": "markdown",
   "metadata": {},
   "source": [
    "This approach (different linear and non-linear regression) suffers\n",
    "often from both being underdetermined and overdetermined in the\n",
    "unknown coefficients $\\beta_i$.  A better approach is to use the\n",
    "Singular Value Decomposition (SVD) method discussed below. Or using\n",
    "Lasso and Ridge regression. See below.\n",
    "\n",
    "\n",
    "\n",
    "\n",
    "## Fitting an Equation of State for Dense Nuclear Matter\n",
    "\n",
    "Before we continue, let us introduce yet another example. We are going to fit the\n",
    "nuclear equation of state using results from many-body calculations.\n",
    "The equation of state we have made available here, as function of\n",
    "density, has been derived using modern nucleon-nucleon potentials with\n",
    "[the addition of three-body\n",
    "forces](https://www.sciencedirect.com/science/article/pii/S0370157399001106). This\n",
    "time the file is presented as a standard **csv** file.\n",
    "\n",
    "The beginning of the Python code here is similar to what you have seen\n",
    "before, with the same initializations and declarations. We use also\n",
    "**pandas** again, rather extensively in order to organize our data.\n",
    "\n",
    "The difference now is that we use **Scikit-Learn's** regression tools\n",
    "instead of our own matrix inversion implementation. Furthermore, we\n",
    "sneak in **Ridge** regression (to be discussed below) which includes a\n",
    "hyperparameter $\\lambda$, also to be explained below.\n",
    "\n",
    "## The code"
   ]
  },
  {
   "cell_type": "code",
   "execution_count": 9,
   "metadata": {},
   "outputs": [],
   "source": [
    "# Common imports\n",
    "import os\n",
    "import numpy as np\n",
    "import pandas as pd\n",
    "import matplotlib.pyplot as plt\n",
    "import matplotlib.pyplot as plt\n",
    "import sklearn.linear_model as skl\n",
    "from sklearn.metrics import mean_squared_error, r2_score, mean_absolute_error\n",
    "\n",
    "# Where to save the figures and data files\n",
    "PROJECT_ROOT_DIR = \"Results\"\n",
    "FIGURE_ID = \"Results/FigureFiles\"\n",
    "DATA_ID = \"DataFiles/\"\n",
    "\n",
    "if not os.path.exists(PROJECT_ROOT_DIR):\n",
    "    os.mkdir(PROJECT_ROOT_DIR)\n",
    "\n",
    "if not os.path.exists(FIGURE_ID):\n",
    "    os.makedirs(FIGURE_ID)\n",
    "\n",
    "if not os.path.exists(DATA_ID):\n",
    "    os.makedirs(DATA_ID)\n",
    "\n",
    "def image_path(fig_id):\n",
    "    return os.path.join(FIGURE_ID, fig_id)\n",
    "\n",
    "def data_path(dat_id):\n",
    "    return os.path.join(DATA_ID, dat_id)\n",
    "\n",
    "def save_fig(fig_id):\n",
    "    plt.savefig(image_path(fig_id) + \".png\", format='png')\n",
    "\n",
    "infile = open(data_path(\"EoS.csv\"),'r')\n",
    "\n",
    "# Read the EoS data as  csv file and organize the data into two arrays with density and energies\n",
    "EoS = pd.read_csv(infile, names=('Density', 'Energy'))\n",
    "EoS['Energy'] = pd.to_numeric(EoS['Energy'], errors='coerce')\n",
    "EoS = EoS.dropna()\n",
    "Energies = EoS['Energy']\n",
    "Density = EoS['Density']\n",
    "#  The design matrix now as function of various polytrops\n",
    "X = np.zeros((len(Density),4))\n",
    "X[:,3] = Density**(4.0/3.0)\n",
    "X[:,2] = Density\n",
    "X[:,1] = Density**(2.0/3.0)\n",
    "X[:,0] = 1\n",
    "\n",
    "# We use now Scikit-Learn's linear regressor and ridge regressor\n",
    "# OLS part\n",
    "clf = skl.LinearRegression().fit(X, Energies)\n",
    "ytilde = clf.predict(X)\n",
    "EoS['Eols']  = ytilde\n",
    "# The mean squared error                               \n",
    "print(\"Mean squared error: %.2f\" % mean_squared_error(Energies, ytilde))\n",
    "# Explained variance score: 1 is perfect prediction                                 \n",
    "print('Variance score: %.2f' % r2_score(Energies, ytilde))\n",
    "# Mean absolute error                                                           \n",
    "print('Mean absolute error: %.2f' % mean_absolute_error(Energies, ytilde))\n",
    "print(clf.coef_, clf.intercept_)\n",
    "\n",
    "# The Ridge regression with a hyperparameter lambda = 0.1\n",
    "_lambda = 0.1\n",
    "clf_ridge = skl.Ridge(alpha=_lambda).fit(X, Energies)\n",
    "yridge = clf_ridge.predict(X)\n",
    "EoS['Eridge']  = yridge\n",
    "# The mean squared error                               \n",
    "print(\"Mean squared error: %.2f\" % mean_squared_error(Energies, yridge))\n",
    "# Explained variance score: 1 is perfect prediction                                 \n",
    "print('Variance score: %.2f' % r2_score(Energies, yridge))\n",
    "# Mean absolute error                                                           \n",
    "print('Mean absolute error: %.2f' % mean_absolute_error(Energies, yridge))\n",
    "print(clf_ridge.coef_, clf_ridge.intercept_)\n",
    "\n",
    "fig, ax = plt.subplots()\n",
    "ax.set_xlabel(r'$\\rho[\\mathrm{fm}^{-3}]$')\n",
    "ax.set_ylabel(r'Energy per particle')\n",
    "ax.plot(EoS['Density'], EoS['Energy'], alpha=0.7, lw=2,\n",
    "            label='Theoretical data')\n",
    "ax.plot(EoS['Density'], EoS['Eols'], alpha=0.7, lw=2, c='m',\n",
    "            label='OLS')\n",
    "ax.plot(EoS['Density'], EoS['Eridge'], alpha=0.7, lw=2, c='g',\n",
    "            label='Ridge $\\lambda = 0.1$')\n",
    "ax.legend()\n",
    "save_fig(\"EoSfitting\")\n",
    "plt.show()"
   ]
  },
  {
   "cell_type": "markdown",
   "metadata": {},
   "source": [
    "The above simple polynomial in density $\\rho$ gives an excellent fit\n",
    "to the data. \n",
    "\n",
    "We note also that there is a small deviation between the\n",
    "standard OLS and the Ridge regression at higher densities. We discuss this in more detail\n",
    "below.\n",
    "\n",
    "\n",
    "## Splitting our Data in Training and Test data\n",
    "\n",
    "It is normal in essentially all Machine Learning studies to split the\n",
    "data in a training set and a test set (sometimes also an additional\n",
    "validation set).  **Scikit-Learn** has an own function for this. There\n",
    "is no explicit recipe for how much data should be included as training\n",
    "data and say test data.  An accepted rule of thumb is to use\n",
    "approximately $2/3$ to $4/5$ of the data as training data. We will\n",
    "postpone a discussion of this splitting to the end of these notes and\n",
    "our discussion of the so-called **bias-variance** tradeoff. Here we\n",
    "limit ourselves to repeat the above equation of state fitting example\n",
    "but now splitting the data into a training set and a test set."
   ]
  },
  {
   "cell_type": "code",
   "execution_count": 10,
   "metadata": {},
   "outputs": [],
   "source": [
    "import os\n",
    "import numpy as np\n",
    "import pandas as pd\n",
    "import matplotlib.pyplot as plt\n",
    "from sklearn.model_selection import train_test_split\n",
    "# Where to save the figures and data files\n",
    "PROJECT_ROOT_DIR = \"Results\"\n",
    "FIGURE_ID = \"Results/FigureFiles\"\n",
    "DATA_ID = \"DataFiles/\"\n",
    "\n",
    "if not os.path.exists(PROJECT_ROOT_DIR):\n",
    "    os.mkdir(PROJECT_ROOT_DIR)\n",
    "\n",
    "if not os.path.exists(FIGURE_ID):\n",
    "    os.makedirs(FIGURE_ID)\n",
    "\n",
    "if not os.path.exists(DATA_ID):\n",
    "    os.makedirs(DATA_ID)\n",
    "\n",
    "def image_path(fig_id):\n",
    "    return os.path.join(FIGURE_ID, fig_id)\n",
    "\n",
    "def data_path(dat_id):\n",
    "    return os.path.join(DATA_ID, dat_id)\n",
    "\n",
    "def save_fig(fig_id):\n",
    "    plt.savefig(image_path(fig_id) + \".png\", format='png')\n",
    "\n",
    "def R2(y_data, y_model):\n",
    "    return 1 - np.sum((y_data - y_model) ** 2) / np.sum((y_data - np.mean(y_data)) ** 2)\n",
    "def MSE(y_data,y_model):\n",
    "    n = np.size(y_model)\n",
    "    return np.sum((y_data-y_model)**2)/n\n",
    "\n",
    "infile = open(data_path(\"EoS.csv\"),'r')\n",
    "\n",
    "# Read the EoS data as  csv file and organized into two arrays with density and energies\n",
    "EoS = pd.read_csv(infile, names=('Density', 'Energy'))\n",
    "EoS['Energy'] = pd.to_numeric(EoS['Energy'], errors='coerce')\n",
    "EoS = EoS.dropna()\n",
    "Energies = EoS['Energy']\n",
    "Density = EoS['Density']\n",
    "#  The design matrix now as function of various polytrops\n",
    "X = np.zeros((len(Density),5))\n",
    "X[:,0] = 1\n",
    "X[:,1] = Density**(2.0/3.0)\n",
    "X[:,2] = Density\n",
    "X[:,3] = Density**(4.0/3.0)\n",
    "X[:,4] = Density**(5.0/3.0)\n",
    "# We split the data in test and training data\n",
    "X_train, X_test, y_train, y_test = train_test_split(X, Energies, test_size=0.2)\n",
    "# matrix inversion to find beta\n",
    "beta = np.linalg.inv(X_train.T.dot(X_train)).dot(X_train.T).dot(y_train)\n",
    "# and then make the prediction\n",
    "ytilde = X_train @ beta\n",
    "print(\"Training R2\")\n",
    "print(R2(y_train,ytilde))\n",
    "print(\"Training MSE\")\n",
    "print(MSE(y_train,ytilde))\n",
    "ypredict = X_test @ beta\n",
    "print(\"Test R2\")\n",
    "print(R2(y_test,ypredict))\n",
    "print(\"Test MSE\")\n",
    "print(MSE(y_test,ypredict))"
   ]
  },
  {
   "cell_type": "markdown",
   "metadata": {},
   "source": [
    "<!-- !split  -->\n",
    "## The Boston housing data example\n",
    "\n",
    "The Boston housing  \n",
    "data set was originally a part of UCI Machine Learning Repository\n",
    "and has been removed now. The data set is now included in **Scikit-Learn**'s \n",
    "library.  There are 506 samples and 13 feature (predictor) variables\n",
    "in this data set. The objective is to predict the value of prices of\n",
    "the house using the features (predictors) listed here.\n",
    "\n",
    "The features/predictors are\n",
    "1. CRIM: Per capita crime rate by town\n",
    "\n",
    "2. ZN: Proportion of residential land zoned for lots over 25000 square feet\n",
    "\n",
    "3. INDUS: Proportion of non-retail business acres per town\n",
    "\n",
    "4. CHAS: Charles River dummy variable (= 1 if tract bounds river; 0 otherwise)\n",
    "\n",
    "5. NOX: Nitric oxide concentration (parts per 10 million)\n",
    "\n",
    "6. RM: Average number of rooms per dwelling\n",
    "\n",
    "7. AGE: Proportion of owner-occupied units built prior to 1940\n",
    "\n",
    "8. DIS: Weighted distances to five Boston employment centers\n",
    "\n",
    "9. RAD: Index of accessibility to radial highways\n",
    "\n",
    "10. TAX: Full-value property tax rate per USD10000\n",
    "\n",
    "11. B: $1000(Bk - 0.63)^2$, where $Bk$ is the proportion of [people of African American descent] by town\n",
    "\n",
    "12. LSTAT: Percentage of lower status of the population\n",
    "\n",
    "13. MEDV: Median value of owner-occupied homes in USD 1000s\n",
    "\n",
    "## Housing data, the code\n",
    "We start by importing the libraries"
   ]
  },
  {
   "cell_type": "code",
   "execution_count": 11,
   "metadata": {},
   "outputs": [],
   "source": [
    "import numpy as np\n",
    "import matplotlib.pyplot as plt \n",
    "\n",
    "import pandas as pd  \n",
    "import seaborn as sns"
   ]
  },
  {
   "cell_type": "markdown",
   "metadata": {},
   "source": [
    "and load the Boston Housing DataSet from **Scikit-Learn**"
   ]
  },
  {
   "cell_type": "code",
   "execution_count": 12,
   "metadata": {},
   "outputs": [],
   "source": [
    "from sklearn.datasets import load_boston\n",
    "\n",
    "boston_dataset = load_boston()\n",
    "\n",
    "# boston_dataset is a dictionary\n",
    "# let's check what it contains\n",
    "boston_dataset.keys()"
   ]
  },
  {
   "cell_type": "markdown",
   "metadata": {},
   "source": [
    "Then we invoke Pandas"
   ]
  },
  {
   "cell_type": "code",
   "execution_count": 13,
   "metadata": {},
   "outputs": [],
   "source": [
    "boston = pd.DataFrame(boston_dataset.data, columns=boston_dataset.feature_names)\n",
    "boston.head()\n",
    "boston['MEDV'] = boston_dataset.target"
   ]
  },
  {
   "cell_type": "markdown",
   "metadata": {},
   "source": [
    "and preprocess the data"
   ]
  },
  {
   "cell_type": "code",
   "execution_count": 14,
   "metadata": {},
   "outputs": [],
   "source": [
    "# check for missing values in all the columns\n",
    "boston.isnull().sum()"
   ]
  },
  {
   "cell_type": "markdown",
   "metadata": {},
   "source": [
    "We can then visualize the data"
   ]
  },
  {
   "cell_type": "code",
   "execution_count": 15,
   "metadata": {},
   "outputs": [],
   "source": [
    "# set the size of the figure\n",
    "sns.set(rc={'figure.figsize':(11.7,8.27)})\n",
    "\n",
    "# plot a histogram showing the distribution of the target values\n",
    "sns.distplot(boston['MEDV'], bins=30)\n",
    "plt.show()"
   ]
  },
  {
   "cell_type": "markdown",
   "metadata": {},
   "source": [
    "It is now useful to look at the correlation matrix"
   ]
  },
  {
   "cell_type": "code",
   "execution_count": 16,
   "metadata": {},
   "outputs": [],
   "source": [
    "# compute the pair wise correlation for all columns  \n",
    "correlation_matrix = boston.corr().round(2)\n",
    "# use the heatmap function from seaborn to plot the correlation matrix\n",
    "# annot = True to print the values inside the square\n",
    "sns.heatmap(data=correlation_matrix, annot=True)"
   ]
  },
  {
   "cell_type": "markdown",
   "metadata": {},
   "source": [
    "From the above coorelation plot we can see that **MEDV** is strongly correlated to **LSTAT** and  **RM**. We see also that **RAD** and **TAX** are stronly correlated, but we don't include this in our features together to avoid multi-colinearity"
   ]
  },
  {
   "cell_type": "code",
   "execution_count": 17,
   "metadata": {},
   "outputs": [],
   "source": [
    "plt.figure(figsize=(20, 5))\n",
    "\n",
    "features = ['LSTAT', 'RM']\n",
    "target = boston['MEDV']\n",
    "\n",
    "for i, col in enumerate(features):\n",
    "    plt.subplot(1, len(features) , i+1)\n",
    "    x = boston[col]\n",
    "    y = target\n",
    "    plt.scatter(x, y, marker='o')\n",
    "    plt.title(col)\n",
    "    plt.xlabel(col)\n",
    "    plt.ylabel('MEDV')"
   ]
  },
  {
   "cell_type": "markdown",
   "metadata": {},
   "source": [
    "Now we start training our model"
   ]
  },
  {
   "cell_type": "code",
   "execution_count": 18,
   "metadata": {},
   "outputs": [],
   "source": [
    "X = pd.DataFrame(np.c_[boston['LSTAT'], boston['RM']], columns = ['LSTAT','RM'])\n",
    "Y = boston['MEDV']"
   ]
  },
  {
   "cell_type": "markdown",
   "metadata": {},
   "source": [
    "We split the data into training and test sets"
   ]
  },
  {
   "cell_type": "code",
   "execution_count": 19,
   "metadata": {},
   "outputs": [],
   "source": [
    "from sklearn.model_selection import train_test_split\n",
    "\n",
    "# splits the training and test data set in 80% : 20%\n",
    "# assign random_state to any value.This ensures consistency.\n",
    "X_train, X_test, Y_train, Y_test = train_test_split(X, Y, test_size = 0.2, random_state=5)\n",
    "print(X_train.shape)\n",
    "print(X_test.shape)\n",
    "print(Y_train.shape)\n",
    "print(Y_test.shape)"
   ]
  },
  {
   "cell_type": "markdown",
   "metadata": {},
   "source": [
    "Then we use the linear regression functionality from **Scikit-Learn**"
   ]
  },
  {
   "cell_type": "code",
   "execution_count": 20,
   "metadata": {},
   "outputs": [],
   "source": [
    "from sklearn.linear_model import LinearRegression\n",
    "from sklearn.metrics import mean_squared_error, r2_score\n",
    "\n",
    "lin_model = LinearRegression()\n",
    "lin_model.fit(X_train, Y_train)\n",
    "\n",
    "# model evaluation for training set\n",
    "\n",
    "y_train_predict = lin_model.predict(X_train)\n",
    "rmse = (np.sqrt(mean_squared_error(Y_train, y_train_predict)))\n",
    "r2 = r2_score(Y_train, y_train_predict)\n",
    "\n",
    "print(\"The model performance for training set\")\n",
    "print(\"--------------------------------------\")\n",
    "print('RMSE is {}'.format(rmse))\n",
    "print('R2 score is {}'.format(r2))\n",
    "print(\"\\n\")\n",
    "\n",
    "# model evaluation for testing set\n",
    "\n",
    "y_test_predict = lin_model.predict(X_test)\n",
    "# root mean square error of the model\n",
    "rmse = (np.sqrt(mean_squared_error(Y_test, y_test_predict)))\n",
    "\n",
    "# r-squared score of the model\n",
    "r2 = r2_score(Y_test, y_test_predict)\n",
    "\n",
    "print(\"The model performance for testing set\")\n",
    "print(\"--------------------------------------\")\n",
    "print('RMSE is {}'.format(rmse))\n",
    "print('R2 score is {}'.format(r2))"
   ]
  },
  {
   "cell_type": "code",
   "execution_count": 21,
   "metadata": {},
   "outputs": [],
   "source": [
    "# plotting the y_test vs y_pred\n",
    "# ideally should have been a straight line\n",
    "plt.scatter(Y_test, y_test_predict)\n",
    "plt.show()"
   ]
  },
  {
   "cell_type": "markdown",
   "metadata": {},
   "source": [
    "## The singular value decomposition\n",
    "\n",
    "\n",
    "The examples we have looked at so far are cases where we normally can\n",
    "invert the matrix $\\boldsymbol{X}^T\\boldsymbol{X}$. Using a polynomial expansion as we\n",
    "did both for the masses and the fitting of the equation of state,\n",
    "leads to row vectors of the design matrix which are essentially\n",
    "orthogonal due to the polynomial character of our model. Obtaining the inverse of the design matrix is then often done via a so-called LU, QR or Cholesky decomposition. \n",
    "\n",
    "\n",
    "\n",
    "This may\n",
    "however not the be case in general and a standard matrix inversion\n",
    "algorithm based on say LU, QR or Cholesky decomposition may lead to singularities. We will see examples of this below.\n",
    "\n",
    "There is however a way to partially circumvent this problem and also gain some insight about the ordinary least squares approach. \n",
    "\n",
    "This is given by the **Singular Value Decomposition** algorithm, perhaps\n",
    "the most powerful linear algebra algorithm.  Let us look at a\n",
    "different example where we may have problems with the standard matrix\n",
    "inversion algorithm. Thereafter we dive into the math of the SVD.\n",
    "\n",
    "\n",
    "\n",
    "\n",
    "\n",
    "## Linear Regression Problems\n",
    "\n",
    "One of the typical problems we encounter with linear regression, in particular \n",
    "when the matrix $\\boldsymbol{X}$ (our so-called design matrix) is high-dimensional, \n",
    "are problems with near singular or singular matrices. The column vectors of $\\boldsymbol{X}$ \n",
    "may be linearly dependent, normally referred to as super-collinearity.  \n",
    "This means that the matrix may be rank deficient and it is basically impossible to \n",
    "to model the data using linear regression. As an example, consider the matrix"
   ]
  },
  {
   "cell_type": "markdown",
   "metadata": {},
   "source": [
    "$$\n",
    "\\begin{align*}\n",
    "\\mathbf{X} & =  \\left[\n",
    "\\begin{array}{rrr}\n",
    "1 & -1 & 2\n",
    "\\\\\n",
    "1 & 0 & 1\n",
    "\\\\\n",
    "1 & 2  & -1\n",
    "\\\\\n",
    "1 & 1  & 0\n",
    "\\end{array} \\right]\n",
    "\\end{align*}\n",
    "$$"
   ]
  },
  {
   "cell_type": "markdown",
   "metadata": {},
   "source": [
    "The columns of $\\boldsymbol{X}$ are linearly dependent. We see this easily since the \n",
    "the first column is the row-wise sum of the other two columns. The rank (more correct,\n",
    "the column rank) of a matrix is the dimension of the space spanned by the\n",
    "column vectors. Hence, the rank of $\\mathbf{X}$ is equal to the number\n",
    "of linearly independent columns. In this particular case the matrix has rank 2.\n",
    "\n",
    "Super-collinearity of an $(n \\times p)$-dimensional design matrix $\\mathbf{X}$ implies\n",
    "that the inverse of the matrix $\\boldsymbol{X}^T\\boldsymbol{X}$ (the matrix we need to invert to solve the linear regression equations) is non-invertible. If we have a square matrix that does not have an inverse, we say this matrix singular. The example here demonstrates this"
   ]
  },
  {
   "cell_type": "markdown",
   "metadata": {},
   "source": [
    "$$\n",
    "\\begin{align*}\n",
    "\\boldsymbol{X} & =  \\left[\n",
    "\\begin{array}{rr}\n",
    "1 & -1\n",
    "\\\\\n",
    "1 & -1\n",
    "\\end{array} \\right].\n",
    "\\end{align*}\n",
    "$$"
   ]
  },
  {
   "cell_type": "markdown",
   "metadata": {},
   "source": [
    "We see easily that  $\\mbox{det}(\\boldsymbol{X}) = x_{11} x_{22} - x_{12} x_{21} = 1 \\times (-1) - 1 \\times (-1) = 0$. Hence, $\\mathbf{X}$ is singular and its inverse is undefined.\n",
    "This is equivalent to saying that the matrix $\\boldsymbol{X}$ has at least an eigenvalue which is zero.\n",
    "\n",
    "\n",
    "## Fixing the singularity\n",
    "\n",
    "If our design matrix $\\boldsymbol{X}$ which enters the linear regression problem"
   ]
  },
  {
   "cell_type": "markdown",
   "metadata": {},
   "source": [
    "<!-- Equation labels as ordinary links -->\n",
    "<div id=\"_auto1\"></div>\n",
    "\n",
    "$$\n",
    "\\begin{equation}\n",
    "\\boldsymbol{\\beta}  =  (\\boldsymbol{X}^{T} \\boldsymbol{X})^{-1} \\boldsymbol{X}^{T} \\boldsymbol{y},\n",
    "\\label{_auto1} \\tag{1}\n",
    "\\end{equation}\n",
    "$$"
   ]
  },
  {
   "cell_type": "markdown",
   "metadata": {},
   "source": [
    "has linearly dependent column vectors, we will not be able to compute the inverse\n",
    "of $\\boldsymbol{X}^T\\boldsymbol{X}$ and we cannot find the parameters (estimators) $\\beta_i$. \n",
    "The estimators are only well-defined if $(\\boldsymbol{X}^{T}\\boldsymbol{X})^{-1}$ exits. \n",
    "This is more likely to happen when the matrix $\\boldsymbol{X}$ is high-dimensional. In this case it is likely to encounter a situation where \n",
    "the regression parameters $\\beta_i$ cannot be estimated.\n",
    "\n",
    "A cheap  *ad hoc* approach is  simply to add a small diagonal component to the matrix to invert, that is we change"
   ]
  },
  {
   "cell_type": "markdown",
   "metadata": {},
   "source": [
    "$$\n",
    "\\boldsymbol{X}^{T} \\boldsymbol{X} \\rightarrow \\boldsymbol{X}^{T} \\boldsymbol{X}+\\lambda \\boldsymbol{I},\n",
    "$$"
   ]
  },
  {
   "cell_type": "markdown",
   "metadata": {},
   "source": [
    "where $\\boldsymbol{I}$ is the identity matrix.  When we discuss **Ridge** regression this is actually what we end up evaluating. The parameter $\\lambda$ is called a hyperparameter. More about this later. \n",
    "\n",
    "\n",
    "\n",
    "## Basic math of the SVD\n",
    "\n",
    "\n",
    "From standard linear algebra we know that a square matrix $\\boldsymbol{X}$ can be diagonalized if and only it is \n",
    "a so-called [normal matrix](https://en.wikipedia.org/wiki/Normal_matrix), that is if $\\boldsymbol{X}\\in {\\mathbb{R}}^{n\\times n}$\n",
    "we have $\\boldsymbol{X}\\boldsymbol{X}^T=\\boldsymbol{X}^T\\boldsymbol{X}$ or if $\\boldsymbol{X}\\in {\\mathbb{C}}^{n\\times n}$ we have $\\boldsymbol{X}\\boldsymbol{X}^{\\dagger}=\\boldsymbol{X}^{\\dagger}\\boldsymbol{X}$.\n",
    "The matrix has then a set of eigenpairs"
   ]
  },
  {
   "cell_type": "markdown",
   "metadata": {},
   "source": [
    "$$\n",
    "(\\lambda_1,\\boldsymbol{u}_1),\\dots, (\\lambda_n,\\boldsymbol{u}_n),\n",
    "$$"
   ]
  },
  {
   "cell_type": "markdown",
   "metadata": {},
   "source": [
    "and the eigenvalues are given by the diagonal matrix"
   ]
  },
  {
   "cell_type": "markdown",
   "metadata": {},
   "source": [
    "$$\n",
    "\\boldsymbol{\\Sigma}=\\mathrm{Diag}(\\lambda_1, \\dots,\\lambda_n).\n",
    "$$"
   ]
  },
  {
   "cell_type": "markdown",
   "metadata": {},
   "source": [
    "The matrix $\\boldsymbol{X}$ can be written in terms of an orthogonal/unitary transformation $\\boldsymbol{U}$"
   ]
  },
  {
   "cell_type": "markdown",
   "metadata": {},
   "source": [
    "$$\n",
    "\\boldsymbol{X} = \\boldsymbol{U}\\boldsymbol{\\Sigma}\\boldsymbol{V}^T,\n",
    "$$"
   ]
  },
  {
   "cell_type": "markdown",
   "metadata": {},
   "source": [
    "with $\\boldsymbol{U}\\boldsymbol{U}^T=\\boldsymbol{I}$ or $\\boldsymbol{U}\\boldsymbol{U}^{\\dagger}=\\boldsymbol{I}$.\n",
    "\n",
    "Not all square matrices are diagonalizable. A matrix like the one discussed above"
   ]
  },
  {
   "cell_type": "markdown",
   "metadata": {},
   "source": [
    "$$\n",
    "\\boldsymbol{X} = \\begin{bmatrix} \n",
    "1&  -1 \\\\\n",
    "1& -1\\\\\n",
    "\\end{bmatrix}\n",
    "$$"
   ]
  },
  {
   "cell_type": "markdown",
   "metadata": {},
   "source": [
    "is not diagonalizable, it is a so-called [defective matrix](https://en.wikipedia.org/wiki/Defective_matrix). It is easy to see that the condition\n",
    "$\\boldsymbol{X}\\boldsymbol{X}^T=\\boldsymbol{X}^T\\boldsymbol{X}$ is not fulfilled. \n",
    "\n",
    "\n",
    "## The SVD, a Fantastic Algorithm\n",
    "\n",
    "\n",
    "However, and this is the strength of the SVD algorithm, any general\n",
    "matrix $\\boldsymbol{X}$ can be decomposed in terms of a diagonal matrix and\n",
    "two orthogonal/unitary matrices.  The [Singular Value Decompostion\n",
    "(SVD) theorem](https://en.wikipedia.org/wiki/Singular_value_decomposition)\n",
    "states that a general $m\\times n$ matrix $\\boldsymbol{X}$ can be written in\n",
    "terms of a diagonal matrix $\\boldsymbol{\\Sigma}$ of dimensionality $n\\times n$\n",
    "and two orthognal matrices $\\boldsymbol{U}$ and $\\boldsymbol{V}$, where the first has\n",
    "dimensionality $m \\times m$ and the last dimensionality $n\\times n$.\n",
    "We have then"
   ]
  },
  {
   "cell_type": "markdown",
   "metadata": {},
   "source": [
    "$$\n",
    "\\boldsymbol{X} = \\boldsymbol{U}\\boldsymbol{\\Sigma}\\boldsymbol{V}^T\n",
    "$$"
   ]
  },
  {
   "cell_type": "markdown",
   "metadata": {},
   "source": [
    "As an example, the above defective matrix can be decomposed as"
   ]
  },
  {
   "cell_type": "markdown",
   "metadata": {},
   "source": [
    "$$\n",
    "\\boldsymbol{X} = \\frac{1}{\\sqrt{2}}\\begin{bmatrix}  1&  1 \\\\ 1& -1\\\\ \\end{bmatrix} \\begin{bmatrix}  2&  0 \\\\ 0& 0\\\\ \\end{bmatrix}    \\frac{1}{\\sqrt{2}}\\begin{bmatrix}  1&  -1 \\\\ 1& 1\\\\ \\end{bmatrix}=\\boldsymbol{U}\\boldsymbol{\\Sigma}\\boldsymbol{V}^T,\n",
    "$$"
   ]
  },
  {
   "cell_type": "markdown",
   "metadata": {},
   "source": [
    "with eigenvalues $\\sigma_1=2$ and $\\sigma_2=0$. \n",
    "The SVD exits always! \n",
    "\n",
    "\n",
    "## Another Example\n",
    "\n",
    "Consider the following matrix which can be SVD decomposed as"
   ]
  },
  {
   "cell_type": "markdown",
   "metadata": {},
   "source": [
    "$$\n",
    "\\boldsymbol{X} = \\frac{1}{15}\\begin{bmatrix} 14 & 2\\\\ 4 & 22\\\\ 16 & 13\\end{bmatrix}=\\frac{1}{3}\\begin{bmatrix}  1&  2 & 2 \\\\ 2& -1 & 1\\\\ 2 & 1& -2\\end{bmatrix} \\begin{bmatrix}  2&  0 \\\\ 0& 1\\\\ 0 & 0\\end{bmatrix}\\frac{1}{5}\\begin{bmatrix}  3&  4 \\\\ 4& -3\\end{bmatrix}=\\boldsymbol{U}\\boldsymbol{\\Sigma}\\boldsymbol{V}^T.\n",
    "$$"
   ]
  },
  {
   "cell_type": "markdown",
   "metadata": {},
   "source": [
    "This is a $3\\times 2$ matrix which is decomposed in terms of a\n",
    "$3\\times 3$ matrix $\\boldsymbol{U}$, and a $2\\times 2$ matrix $\\boldsymbol{V}$. It is easy to see\n",
    "that $\\boldsymbol{U}$ and $\\boldsymbol{V}$ are orthogonal (how?). \n",
    "\n",
    "And the SVD\n",
    "decomposition (singular values) gives eigenvalues \n",
    "$\\sigma_i\\geq\\sigma_{i+1}$ for all $i$ and for dimensions larger than $i=2$, the\n",
    "eigenvalues (singular values) are zero.\n",
    "\n",
    "In the general case, where our design matrix $\\boldsymbol{X}$ has dimension\n",
    "$n\\times p$, the matrix is thus decomposed into an $n\\times n$\n",
    "orthogonal matrix $\\boldsymbol{U}$, a $p\\times p$ orthogonal matrix $\\boldsymbol{V}$\n",
    "and a diagonal matrix $\\boldsymbol{\\Sigma}$ with $r=\\mathrm{min}(n,p)$\n",
    "singular values $\\sigma_i\\geq 0$ on the main diagonal and zeros filling\n",
    "the rest of the matrix.  There are at most $p$ singular values\n",
    "assuming that $n > p$. In our regression examples for the nuclear\n",
    "masses and the equation of state this is indeed the case, while for\n",
    "the Ising model we have $p > n$. These are often cases that lead to\n",
    "near singular or singular matrices.\n",
    "\n",
    "The columns of $\\boldsymbol{U}$ are called the left singular vectors while the columns of $\\boldsymbol{V}$ are the right singular vectors.\n",
    "\n",
    "## Economy-size SVD\n",
    "\n",
    "If we assume that $n > p$, then our matrix $\\boldsymbol{U}$ has dimension $n\n",
    "\\times n$. The last $n-p$ columns of $\\boldsymbol{U}$ become however\n",
    "irrelevant in our calculations since they are multiplied with the\n",
    "zeros in $\\boldsymbol{\\Sigma}$.\n",
    "\n",
    "The economy-size decomposition removes extra rows or columns of zeros\n",
    "from the diagonal matrix of singular values, $\\boldsymbol{\\Sigma}$, along with the columns\n",
    "in either $\\boldsymbol{U}$ or $\\boldsymbol{V}$ that multiply those zeros in the expression. \n",
    "Removing these zeros and columns can improve execution time\n",
    "and reduce storage requirements without compromising the accuracy of\n",
    "the decomposition.\n",
    "\n",
    "If $n > p$, we keep only the first $p$ columns of $\\boldsymbol{U}$ and $\\boldsymbol{\\Sigma}$ has dimension $p\\times p$. \n",
    "If $p > n$, then only the first $n$ columns of $\\boldsymbol{V}$ are computed and $\\boldsymbol{\\Sigma}$ has dimension $n\\times n$.\n",
    "The $n=p$ case is obvious, we retain the full SVD. \n",
    "In general the economy-size SVD leads to less FLOPS and still conserving the desired accuracy.\n",
    "\n",
    "## Mathematical Properties\n",
    "\n",
    "There are several interesting mathematical properties which will be\n",
    "relevant when we are going to discuss the differences between say\n",
    "ordinary least squares (OLS) and **Ridge** regression.\n",
    "\n",
    "We have from OLS that the parameters of the linear approximation are given by"
   ]
  },
  {
   "cell_type": "markdown",
   "metadata": {},
   "source": [
    "$$\n",
    "\\boldsymbol{\\tilde{y}} = \\boldsymbol{X}\\boldsymbol{\\beta} = \\boldsymbol{X}\\left(\\boldsymbol{X}^T\\boldsymbol{X}\\right)^{-1}\\boldsymbol{X}^T\\boldsymbol{y}.\n",
    "$$"
   ]
  },
  {
   "cell_type": "markdown",
   "metadata": {},
   "source": [
    "The matrix to invert can be rewritten in terms of our SVD decomposition as"
   ]
  },
  {
   "cell_type": "markdown",
   "metadata": {},
   "source": [
    "$$\n",
    "\\boldsymbol{X}^T\\boldsymbol{X} = \\boldsymbol{V}\\boldsymbol{\\Sigma}^T\\boldsymbol{U}^T\\boldsymbol{U}\\boldsymbol{\\Sigma}\\boldsymbol{V}^T.\n",
    "$$"
   ]
  },
  {
   "cell_type": "markdown",
   "metadata": {},
   "source": [
    "Using the orthogonality properties of $\\boldsymbol{U}$ we have"
   ]
  },
  {
   "cell_type": "markdown",
   "metadata": {},
   "source": [
    "$$\n",
    "\\boldsymbol{X}^T\\boldsymbol{X} = \\boldsymbol{V}\\boldsymbol{\\Sigma}^T\\boldsymbol{\\Sigma}\\boldsymbol{V}^T =  \\boldsymbol{V}\\boldsymbol{D}\\boldsymbol{V}^T,\n",
    "$$"
   ]
  },
  {
   "cell_type": "markdown",
   "metadata": {},
   "source": [
    "with $\\boldsymbol{D}$ being a diagonal matrix with values along the diagonal given by the singular values squared. \n",
    "\n",
    "This means that"
   ]
  },
  {
   "cell_type": "markdown",
   "metadata": {},
   "source": [
    "$$\n",
    "(\\boldsymbol{X}^T\\boldsymbol{X})\\boldsymbol{V} = \\boldsymbol{V}\\boldsymbol{D},\n",
    "$$"
   ]
  },
  {
   "cell_type": "markdown",
   "metadata": {},
   "source": [
    "that is the eigenvectors of $(\\boldsymbol{X}^T\\boldsymbol{X})$ are given by the columns of the right singular matrix of $\\boldsymbol{X}$ and the eigenvalues are the squared singular values.  It is easy to show (show this) that"
   ]
  },
  {
   "cell_type": "markdown",
   "metadata": {},
   "source": [
    "$$\n",
    "(\\boldsymbol{X}\\boldsymbol{X}^T)\\boldsymbol{U} = \\boldsymbol{U}\\boldsymbol{D},\n",
    "$$"
   ]
  },
  {
   "cell_type": "markdown",
   "metadata": {},
   "source": [
    "that is, the eigenvectors of $(\\boldsymbol{X}\\boldsymbol{X})^T$ are the columns of the left singular matrix and the eigenvalues are the same. \n",
    "\n",
    "Going back to our OLS equation we have"
   ]
  },
  {
   "cell_type": "markdown",
   "metadata": {},
   "source": [
    "$$\n",
    "\\boldsymbol{X}\\boldsymbol{\\beta} = \\boldsymbol{X}\\left(\\boldsymbol{V}\\boldsymbol{D}\\boldsymbol{V}^T \\right)^{-1}\\boldsymbol{X}^T\\boldsymbol{y}=\\boldsymbol{U\\Sigma V^T}\\left(\\boldsymbol{V}\\boldsymbol{D}\\boldsymbol{V}^T \\right)^{-1}(\\boldsymbol{U\\Sigma V^T})^T\\boldsymbol{y}=\\boldsymbol{U}\\boldsymbol{U}^T\\boldsymbol{y}.\n",
    "$$"
   ]
  },
  {
   "cell_type": "markdown",
   "metadata": {},
   "source": [
    "We will come back to this expression when we discuss Ridge regression. \n",
    "\n",
    "\n",
    "## Ridge and LASSO Regression\n",
    "\n",
    "Let us remind ourselves about the expression for the standard Mean Squared Error (MSE) which we used to define our cost function and the equations for the ordinary least squares (OLS) method, that is \n",
    "our optimization problem is"
   ]
  },
  {
   "cell_type": "markdown",
   "metadata": {},
   "source": [
    "$$\n",
    "{\\displaystyle \\min_{\\boldsymbol{\\beta}\\in {\\mathbb{R}}^{p}}}\\frac{1}{n}\\left\\{\\left(\\boldsymbol{y}-\\boldsymbol{X}\\boldsymbol{\\beta}\\right)^T\\left(\\boldsymbol{y}-\\boldsymbol{X}\\boldsymbol{\\beta}\\right)\\right\\}.\n",
    "$$"
   ]
  },
  {
   "cell_type": "markdown",
   "metadata": {},
   "source": [
    "or we can state it as"
   ]
  },
  {
   "cell_type": "markdown",
   "metadata": {},
   "source": [
    "$$\n",
    "{\\displaystyle \\min_{\\boldsymbol{\\beta}\\in\n",
    "{\\mathbb{R}}^{p}}}\\frac{1}{n}\\sum_{i=0}^{n-1}\\left(y_i-\\tilde{y}_i\\right)^2=\\frac{1}{n}\\vert\\vert \\boldsymbol{y}-\\boldsymbol{X}\\boldsymbol{\\beta}\\vert\\vert_2^2,\n",
    "$$"
   ]
  },
  {
   "cell_type": "markdown",
   "metadata": {},
   "source": [
    "where we have used the definition of  a norm-2 vector, that is"
   ]
  },
  {
   "cell_type": "markdown",
   "metadata": {},
   "source": [
    "$$\n",
    "\\vert\\vert \\boldsymbol{x}\\vert\\vert_2 = \\sqrt{\\sum_i x_i^2}.\n",
    "$$"
   ]
  },
  {
   "cell_type": "markdown",
   "metadata": {},
   "source": [
    "By minimizing the above equation with respect to the parameters\n",
    "$\\boldsymbol{\\beta}$ we could then obtain an analytical expression for the\n",
    "parameters $\\boldsymbol{\\beta}$.  We can add a regularization parameter $\\lambda$ by\n",
    "defining a new cost function to be optimized, that is"
   ]
  },
  {
   "cell_type": "markdown",
   "metadata": {},
   "source": [
    "$$\n",
    "{\\displaystyle \\min_{\\boldsymbol{\\beta}\\in\n",
    "{\\mathbb{R}}^{p}}}\\frac{1}{n}\\vert\\vert \\boldsymbol{y}-\\boldsymbol{X}\\boldsymbol{\\beta}\\vert\\vert_2^2+\\lambda\\vert\\vert \\boldsymbol{\\beta}\\vert\\vert_2^2\n",
    "$$"
   ]
  },
  {
   "cell_type": "markdown",
   "metadata": {},
   "source": [
    "which leads to the Ridge regression minimization problem where we\n",
    "require that $\\vert\\vert \\boldsymbol{\\beta}\\vert\\vert_2^2\\le t$, where $t$ is\n",
    "a finite number larger than zero. By defining"
   ]
  },
  {
   "cell_type": "markdown",
   "metadata": {},
   "source": [
    "$$\n",
    "C(\\boldsymbol{X},\\boldsymbol{\\beta})=\\frac{1}{n}\\vert\\vert \\boldsymbol{y}-\\boldsymbol{X}\\boldsymbol{\\beta}\\vert\\vert_2^2+\\lambda\\vert\\vert \\boldsymbol{\\beta}\\vert\\vert_1,\n",
    "$$"
   ]
  },
  {
   "cell_type": "markdown",
   "metadata": {},
   "source": [
    "we have a new optimization equation"
   ]
  },
  {
   "cell_type": "markdown",
   "metadata": {},
   "source": [
    "$$\n",
    "{\\displaystyle \\min_{\\boldsymbol{\\beta}\\in\n",
    "{\\mathbb{R}}^{p}}}\\frac{1}{n}\\vert\\vert \\boldsymbol{y}-\\boldsymbol{X}\\boldsymbol{\\beta}\\vert\\vert_2^2+\\lambda\\vert\\vert \\boldsymbol{\\beta}\\vert\\vert_1\n",
    "$$"
   ]
  },
  {
   "cell_type": "markdown",
   "metadata": {},
   "source": [
    "which leads to Lasso regression. Lasso stands for least absolute shrinkage and selection operator. \n",
    "\n",
    "Here we have defined the norm-1 as"
   ]
  },
  {
   "cell_type": "markdown",
   "metadata": {},
   "source": [
    "$$\n",
    "\\vert\\vert \\boldsymbol{x}\\vert\\vert_1 = \\sum_i \\vert x_i\\vert.\n",
    "$$"
   ]
  },
  {
   "cell_type": "markdown",
   "metadata": {},
   "source": [
    "## More on Ridge Regression\n",
    "\n",
    "Using the matrix-vector expression for Ridge regression,"
   ]
  },
  {
   "cell_type": "markdown",
   "metadata": {},
   "source": [
    "$$\n",
    "C(\\boldsymbol{X},\\boldsymbol{\\beta})=\\frac{1}{n}\\left\\{(\\boldsymbol{y}-\\boldsymbol{X}\\boldsymbol{\\beta})^T(\\boldsymbol{y}-\\boldsymbol{X}\\boldsymbol{\\beta})\\right\\}+\\lambda\\boldsymbol{\\beta}^T\\boldsymbol{\\beta},\n",
    "$$"
   ]
  },
  {
   "cell_type": "markdown",
   "metadata": {},
   "source": [
    "by taking the derivatives with respect to $\\boldsymbol{\\beta}$ we obtain then\n",
    "a slightly modified matrix inversion problem which for finite values\n",
    "of $\\lambda$ does not suffer from singularity problems. We obtain"
   ]
  },
  {
   "cell_type": "markdown",
   "metadata": {},
   "source": [
    "$$\n",
    "\\boldsymbol{\\beta}^{\\mathrm{Ridge}} = \\left(\\boldsymbol{X}^T\\boldsymbol{X}+\\lambda\\boldsymbol{I}\\right)^{-1}\\boldsymbol{X}^T\\boldsymbol{y},\n",
    "$$"
   ]
  },
  {
   "cell_type": "markdown",
   "metadata": {},
   "source": [
    "with $\\boldsymbol{I}$ being a $p\\times p$ identity matrix with the constraint that"
   ]
  },
  {
   "cell_type": "markdown",
   "metadata": {},
   "source": [
    "$$\n",
    "\\sum_{i=0}^{p-1} \\beta_i^2 \\leq t,\n",
    "$$"
   ]
  },
  {
   "cell_type": "markdown",
   "metadata": {},
   "source": [
    "with $t$ a finite positive number. \n",
    "\n",
    "We see that Ridge regression is nothing but the standard\n",
    "OLS with a modified diagonal term added to $\\boldsymbol{X}^T\\boldsymbol{X}$. The\n",
    "consequences, in particular for our discussion of the bias-variance\n",
    "are rather interesting.\n",
    "\n",
    "Furthermore, if we use the result above in terms of the SVD decomposition (our analysis was done for the OLS method), we had"
   ]
  },
  {
   "cell_type": "markdown",
   "metadata": {},
   "source": [
    "$$\n",
    "(\\boldsymbol{X}\\boldsymbol{X}^T)\\boldsymbol{U} = \\boldsymbol{U}\\boldsymbol{D}.\n",
    "$$"
   ]
  },
  {
   "cell_type": "markdown",
   "metadata": {},
   "source": [
    "We can  analyse the OLS solutions in terms of the eigenvectors (the columns) of the right singular value matrix $\\boldsymbol{U}$ as"
   ]
  },
  {
   "cell_type": "markdown",
   "metadata": {},
   "source": [
    "$$\n",
    "\\boldsymbol{X}\\boldsymbol{\\beta} = \\boldsymbol{X}\\left(\\boldsymbol{V}\\boldsymbol{D}\\boldsymbol{V}^T \\right)^{-1}\\boldsymbol{X}^T\\boldsymbol{y}=\\boldsymbol{U\\Sigma V^T}\\left(\\boldsymbol{V}\\boldsymbol{D}\\boldsymbol{V}^T \\right)^{-1}(\\boldsymbol{U\\Sigma V^T})^T\\boldsymbol{y}=\\boldsymbol{U}\\boldsymbol{U}^T\\boldsymbol{y}\n",
    "$$"
   ]
  },
  {
   "cell_type": "markdown",
   "metadata": {},
   "source": [
    "For Ridge regression this becomes"
   ]
  },
  {
   "cell_type": "markdown",
   "metadata": {},
   "source": [
    "$$\n",
    "\\boldsymbol{X}\\boldsymbol{\\beta}^{\\mathrm{Ridge}} = \\boldsymbol{U\\Sigma V^T}\\left(\\boldsymbol{V}\\boldsymbol{D}\\boldsymbol{V}^T+\\lambda\\boldsymbol{I} \\right)^{-1}(\\boldsymbol{U\\Sigma V^T})^T\\boldsymbol{y}=\\sum_{j=0}^{p-1}\\boldsymbol{u}_j\\boldsymbol{u}_j^T\\frac{\\sigma_j^2}{\\sigma_j^2+\\lambda}\\boldsymbol{y},\n",
    "$$"
   ]
  },
  {
   "cell_type": "markdown",
   "metadata": {},
   "source": [
    "with the vectors $\\boldsymbol{u}_j$ being the columns of $\\boldsymbol{U}$. \n",
    "\n",
    "## Interpreting the Ridge results\n",
    "\n",
    "Since $\\lambda \\geq 0$, it means that compared to OLS, we have"
   ]
  },
  {
   "cell_type": "markdown",
   "metadata": {},
   "source": [
    "$$\n",
    "\\frac{\\sigma_j^2}{\\sigma_j^2+\\lambda} \\leq 1.\n",
    "$$"
   ]
  },
  {
   "cell_type": "markdown",
   "metadata": {},
   "source": [
    "Ridge regression finds the coordinates of $\\boldsymbol{y}$ with respect to the\n",
    "orthonormal basis $\\boldsymbol{U}$, it then shrinks the coordinates by\n",
    "$\\frac{\\sigma_j^2}{\\sigma_j^2+\\lambda}$. Recall that the SVD has\n",
    "eigenvalues ordered in a descending way, that is $\\sigma_i \\geq\n",
    "\\sigma_{i+1}$.\n",
    "\n",
    "For small eigenvalues $\\sigma_i$ it means that their contributions become less important, a fact which can be used to reduce the number of degrees of freedom.\n",
    "Actually, calculating the variance of $\\boldsymbol{X}\\boldsymbol{v}_j$ shows that this quantity is equal to $\\sigma_j^2/n$.\n",
    "With a parameter $\\lambda$ we can thus shrink the role of specific parameters.  \n",
    "\n",
    "\n",
    "## More interpretations\n",
    "\n",
    "For the sake of simplicity, let us assume that the design matrix is orthonormal, that is"
   ]
  },
  {
   "cell_type": "markdown",
   "metadata": {},
   "source": [
    "$$\n",
    "\\boldsymbol{X}^T\\boldsymbol{X}=(\\boldsymbol{X}^T\\boldsymbol{X})^{-1} =\\boldsymbol{I}.\n",
    "$$"
   ]
  },
  {
   "cell_type": "markdown",
   "metadata": {},
   "source": [
    "In this case the standard OLS results in"
   ]
  },
  {
   "cell_type": "markdown",
   "metadata": {},
   "source": [
    "$$\n",
    "\\boldsymbol{\\beta}^{\\mathrm{OLS}} = \\boldsymbol{X}^T\\boldsymbol{y}=\\sum_{i=0}^{p-1}\\boldsymbol{u}_j\\boldsymbol{u}_j^T\\boldsymbol{y},\n",
    "$$"
   ]
  },
  {
   "cell_type": "markdown",
   "metadata": {},
   "source": [
    "and"
   ]
  },
  {
   "cell_type": "markdown",
   "metadata": {},
   "source": [
    "$$\n",
    "\\boldsymbol{\\beta}^{\\mathrm{Ridge}} = \\left(\\boldsymbol{I}+\\lambda\\boldsymbol{I}\\right)^{-1}\\boldsymbol{X}^T\\boldsymbol{y}=\\left(1+\\lambda\\right)^{-1}\\boldsymbol{\\beta}^{\\mathrm{OLS}},\n",
    "$$"
   ]
  },
  {
   "cell_type": "markdown",
   "metadata": {},
   "source": [
    "that is the Ridge estimator scales the OLS estimator by the inverse of a factor $1+\\lambda$, and\n",
    "the Ridge estimator converges to zero when the hyperparameter goes to\n",
    "infinity.\n",
    "\n",
    "We will come back to more interpreations after we have gone through some of the statistical analysis part. \n",
    "\n",
    "For more discussions of Ridge and Lasso regression, [Wessel van Wieringen's](https://arxiv.org/abs/1509.09169) article is highly recommended.\n",
    "Similarly, [Mehta et al's article](https://arxiv.org/abs/1803.08823) is also recommended.\n",
    "\n",
    "## Where are we going?\n",
    "\n",
    "Before we proceed, we need to rethink what we have been doing. In our\n",
    "eager to fit the data, we have omitted several important elements in\n",
    "our regression analysis. In what follows we will\n",
    "1. look at statistical properties, including a discussion of mean values, variance and the so-called bias-variance tradeoff\n",
    "\n",
    "2. introduce resampling techniques like cross-validation, bootstrapping and jackknife and more\n",
    "\n",
    "This will allow us to link the standard linear algebra methods we have discussed above to a statistical interpretation of the methods. \n",
    "\n",
    "\n",
    "\n",
    "\n",
    "\n",
    "## Resampling methods\n",
    "Resampling methods are an indispensable tool in modern\n",
    "statistics. They involve repeatedly drawing samples from a training\n",
    "set and refitting a model of interest on each sample in order to\n",
    "obtain additional information about the fitted model. For example, in\n",
    "order to estimate the variability of a linear regression fit, we can\n",
    "repeatedly draw different samples from the training data, fit a linear\n",
    "regression to each new sample, and then examine the extent to which\n",
    "the resulting fits differ. Such an approach may allow us to obtain\n",
    "information that would not be available from fitting the model only\n",
    "once using the original training sample.\n",
    "\n",
    "\n",
    "\n",
    "## Resampling approaches can be computationally expensive\n",
    "\n",
    "Resampling approaches can be computationally expensive, because they\n",
    "involve fitting the same statistical method multiple times using\n",
    "different subsets of the training data. However, due to recent\n",
    "advances in computing power, the computational requirements of\n",
    "resampling methods generally are not prohibitive. In this chapter, we\n",
    "discuss two of the most commonly used resampling methods,\n",
    "cross-validation and the bootstrap. Both methods are important tools\n",
    "in the practical application of many statistical learning\n",
    "procedures. For example, cross-validation can be used to estimate the\n",
    "test error associated with a given statistical learning method in\n",
    "order to evaluate its performance, or to select the appropriate level\n",
    "of flexibility. The process of evaluating a model’s performance is\n",
    "known as model assessment, whereas the process of selecting the proper\n",
    "level of flexibility for a model is known as model selection. The\n",
    "bootstrap is widely used.\n",
    "\n",
    "\n",
    "\n",
    "## Why resampling methods ?\n",
    "**Statistical analysis.**\n",
    "\n",
    "\n",
    "* Our simulations can be treated as *computer experiments*. This is particularly the case for Monte Carlo methods\n",
    "\n",
    "* The results can be analysed with the same statistical tools as we would use analysing experimental data.\n",
    "\n",
    "* As in all experiments, we are looking for expectation values and an estimate of how accurate they are, i.e., possible sources for errors.\n",
    "\n",
    "    \n",
    "\n",
    "## Statistical analysis\n",
    "\n",
    "* As in other experiments, many numerical  experiments have two classes of errors:\n",
    "\n",
    "  * Statistical errors\n",
    "\n",
    "  * Systematical errors\n",
    "\n",
    "\n",
    "* Statistical errors can be estimated using standard tools from statistics\n",
    "\n",
    "* Systematical errors are method specific and must be treated differently from case to case.\n",
    "\n",
    "    \n",
    "\n",
    "## Statistics\n",
    "The *probability distribution function (PDF)* is a function\n",
    "$p(x)$ on the domain which, in the discrete case, gives us the\n",
    "probability or relative frequency with which these values of $X$ occur:"
   ]
  },
  {
   "cell_type": "markdown",
   "metadata": {},
   "source": [
    "$$\n",
    "p(x) = \\mathrm{prob}(X=x)\n",
    "$$"
   ]
  },
  {
   "cell_type": "markdown",
   "metadata": {},
   "source": [
    "In the continuous case, the PDF does not directly depict the\n",
    "actual probability. Instead we define the probability for the\n",
    "stochastic variable to assume any value on an infinitesimal interval\n",
    "around $x$ to be $p(x)dx$. The continuous function $p(x)$ then gives us\n",
    "the *density* of the probability rather than the probability\n",
    "itself. The probability for a stochastic variable to assume any value\n",
    "on a non-infinitesimal interval $[a,\\,b]$ is then just the integral:"
   ]
  },
  {
   "cell_type": "markdown",
   "metadata": {},
   "source": [
    "$$\n",
    "\\mathrm{prob}(a\\leq X\\leq b) = \\int_a^b p(x)dx\n",
    "$$"
   ]
  },
  {
   "cell_type": "markdown",
   "metadata": {},
   "source": [
    "Qualitatively speaking, a stochastic variable represents the values of\n",
    "numbers chosen as if by chance from some specified PDF so that the\n",
    "selection of a large set of these numbers reproduces this PDF.\n",
    "\n",
    "\n",
    "\n",
    "\n",
    "## Statistics, moments\n",
    "A particularly useful class of special expectation values are the\n",
    "*moments*. The $n$-th moment of the PDF $p$ is defined as\n",
    "follows:"
   ]
  },
  {
   "cell_type": "markdown",
   "metadata": {},
   "source": [
    "$$\n",
    "\\langle x^n\\rangle \\equiv \\int\\! x^n p(x)\\,dx\n",
    "$$"
   ]
  },
  {
   "cell_type": "markdown",
   "metadata": {},
   "source": [
    "The zero-th moment $\\langle 1\\rangle$ is just the normalization condition of\n",
    "$p$. The first moment, $\\langle x\\rangle$, is called the *mean* of $p$\n",
    "and often denoted by the letter $\\mu$:"
   ]
  },
  {
   "cell_type": "markdown",
   "metadata": {},
   "source": [
    "$$\n",
    "\\langle x\\rangle = \\mu \\equiv \\int\\! x p(x)\\,dx\n",
    "$$"
   ]
  },
  {
   "cell_type": "markdown",
   "metadata": {},
   "source": [
    "## Statistics, central moments\n",
    "A special version of the moments is the set of *central moments*,\n",
    "the n-th central moment defined as:"
   ]
  },
  {
   "cell_type": "markdown",
   "metadata": {},
   "source": [
    "$$\n",
    "\\langle (x-\\langle x \\rangle )^n\\rangle \\equiv \\int\\! (x-\\langle x\\rangle)^n p(x)\\,dx\n",
    "$$"
   ]
  },
  {
   "cell_type": "markdown",
   "metadata": {},
   "source": [
    "The zero-th and first central moments are both trivial, equal $1$ and\n",
    "$0$, respectively. But the second central moment, known as the\n",
    "*variance* of $p$, is of particular interest. For the stochastic\n",
    "variable $X$, the variance is denoted as $\\sigma^2_X$ or $\\mathrm{var}(X)$:"
   ]
  },
  {
   "cell_type": "markdown",
   "metadata": {},
   "source": [
    "<!-- Equation labels as ordinary links -->\n",
    "<div id=\"_auto2\"></div>\n",
    "\n",
    "$$\n",
    "\\begin{equation}\n",
    "\\sigma^2_X\\ \\ =\\ \\ \\mathrm{var}(X)  =  \\langle (x-\\langle x\\rangle)^2\\rangle =\n",
    "\\int\\! (x-\\langle x\\rangle)^2 p(x)\\,dx\n",
    "\\label{_auto2} \\tag{2}\n",
    "\\end{equation}\n",
    "$$"
   ]
  },
  {
   "cell_type": "markdown",
   "metadata": {},
   "source": [
    "<!-- Equation labels as ordinary links -->\n",
    "<div id=\"_auto3\"></div>\n",
    "\n",
    "$$\n",
    "\\begin{equation} \n",
    " =  \\int\\! \\left(x^2 - 2 x \\langle x\\rangle^{2} +\n",
    "  \\langle x\\rangle^2\\right)p(x)\\,dx\n",
    "\\label{_auto3} \\tag{3}\n",
    "\\end{equation}\n",
    "$$"
   ]
  },
  {
   "cell_type": "markdown",
   "metadata": {},
   "source": [
    "<!-- Equation labels as ordinary links -->\n",
    "<div id=\"_auto4\"></div>\n",
    "\n",
    "$$\n",
    "\\begin{equation} \n",
    " =  \\langle x^2\\rangle - 2 \\langle x\\rangle\\langle x\\rangle + \\langle x\\rangle^2\n",
    "\\label{_auto4} \\tag{4}\n",
    "\\end{equation}\n",
    "$$"
   ]
  },
  {
   "cell_type": "markdown",
   "metadata": {},
   "source": [
    "<!-- Equation labels as ordinary links -->\n",
    "<div id=\"_auto5\"></div>\n",
    "\n",
    "$$\n",
    "\\begin{equation} \n",
    " =  \\langle x^2\\rangle - \\langle x\\rangle^2\n",
    "\\label{_auto5} \\tag{5}\n",
    "\\end{equation}\n",
    "$$"
   ]
  },
  {
   "cell_type": "markdown",
   "metadata": {},
   "source": [
    "The square root of the variance, $\\sigma =\\sqrt{\\langle (x-\\langle x\\rangle)^2\\rangle}$ is called the *standard deviation* of $p$. It is clearly just the RMS (root-mean-square)\n",
    "value of the deviation of the PDF from its mean value, interpreted\n",
    "qualitatively as the *spread* of $p$ around its mean.\n",
    "\n",
    "\n",
    "\n",
    "## Statistics, covariance\n",
    "Another important quantity is the so called covariance, a variant of\n",
    "the above defined variance. Consider again the set $\\{X_i\\}$ of $n$\n",
    "stochastic variables (not necessarily uncorrelated) with the\n",
    "multivariate PDF $P(x_1,\\dots,x_n)$. The *covariance* of two\n",
    "of the stochastic variables, $X_i$ and $X_j$, is defined as follows:"
   ]
  },
  {
   "cell_type": "markdown",
   "metadata": {},
   "source": [
    "$$\n",
    "\\mathrm{cov}(X_i,\\,X_j) \\equiv \\langle (x_i-\\langle x_i\\rangle)(x_j-\\langle x_j\\rangle)\\rangle\n",
    "\\nonumber\n",
    "$$"
   ]
  },
  {
   "cell_type": "markdown",
   "metadata": {},
   "source": [
    "<!-- Equation labels as ordinary links -->\n",
    "<div id=\"eq:def_covariance\"></div>\n",
    "\n",
    "$$\n",
    "\\begin{equation} \n",
    "=\n",
    "\\int\\!\\cdots\\!\\int\\!(x_i-\\langle x_i \\rangle)(x_j-\\langle x_j \\rangle)\\,\n",
    "P(x_1,\\dots,x_n)\\,dx_1\\dots dx_n\n",
    "\\label{eq:def_covariance} \\tag{6}\n",
    "\\end{equation}\n",
    "$$"
   ]
  },
  {
   "cell_type": "markdown",
   "metadata": {},
   "source": [
    "with"
   ]
  },
  {
   "cell_type": "markdown",
   "metadata": {},
   "source": [
    "$$\n",
    "\\langle x_i\\rangle =\n",
    "\\int\\!\\cdots\\!\\int\\!x_i\\,P(x_1,\\dots,x_n)\\,dx_1\\dots dx_n\n",
    "$$"
   ]
  },
  {
   "cell_type": "markdown",
   "metadata": {},
   "source": [
    "## Statistics, more covariance\n",
    "If we consider the above covariance as a matrix $C_{ij}=\\mathrm{cov}(X_i,\\,X_j)$, then the diagonal elements are just the familiar\n",
    "variances, $C_{ii} = \\mathrm{cov}(X_i,\\,X_i) = \\mathrm{var}(X_i)$. It turns out that\n",
    "all the off-diagonal elements are zero if the stochastic variables are\n",
    "uncorrelated. This is easy to show, keeping in mind the linearity of\n",
    "the expectation value. Consider the stochastic variables $X_i$ and\n",
    "$X_j$, ($i\\neq j$):"
   ]
  },
  {
   "cell_type": "markdown",
   "metadata": {},
   "source": [
    "<!-- Equation labels as ordinary links -->\n",
    "<div id=\"_auto6\"></div>\n",
    "\n",
    "$$\n",
    "\\begin{equation}\n",
    "\\mathrm{cov}(X_i,\\,X_j) = \\langle(x_i-\\langle x_i\\rangle)(x_j-\\langle x_j\\rangle)\\rangle\n",
    "\\label{_auto6} \\tag{7}\n",
    "\\end{equation}\n",
    "$$"
   ]
  },
  {
   "cell_type": "markdown",
   "metadata": {},
   "source": [
    "<!-- Equation labels as ordinary links -->\n",
    "<div id=\"_auto7\"></div>\n",
    "\n",
    "$$\n",
    "\\begin{equation} \n",
    "=\\langle x_i x_j - x_i\\langle x_j\\rangle - \\langle x_i\\rangle x_j + \\langle x_i\\rangle\\langle x_j\\rangle\\rangle \n",
    "\\label{_auto7} \\tag{8}\n",
    "\\end{equation}\n",
    "$$"
   ]
  },
  {
   "cell_type": "markdown",
   "metadata": {},
   "source": [
    "<!-- Equation labels as ordinary links -->\n",
    "<div id=\"_auto8\"></div>\n",
    "\n",
    "$$\n",
    "\\begin{equation} \n",
    "=\\langle x_i x_j\\rangle - \\langle x_i\\langle x_j\\rangle\\rangle - \\langle \\langle x_i\\rangle x_j\\rangle +\n",
    "\\langle \\langle x_i\\rangle\\langle x_j\\rangle\\rangle\n",
    "\\label{_auto8} \\tag{9}\n",
    "\\end{equation}\n",
    "$$"
   ]
  },
  {
   "cell_type": "markdown",
   "metadata": {},
   "source": [
    "<!-- Equation labels as ordinary links -->\n",
    "<div id=\"_auto9\"></div>\n",
    "\n",
    "$$\n",
    "\\begin{equation} \n",
    "=\\langle x_i x_j\\rangle - \\langle x_i\\rangle\\langle x_j\\rangle - \\langle x_i\\rangle\\langle x_j\\rangle +\n",
    "\\langle x_i\\rangle\\langle x_j\\rangle\n",
    "\\label{_auto9} \\tag{10}\n",
    "\\end{equation}\n",
    "$$"
   ]
  },
  {
   "cell_type": "markdown",
   "metadata": {},
   "source": [
    "<!-- Equation labels as ordinary links -->\n",
    "<div id=\"_auto10\"></div>\n",
    "\n",
    "$$\n",
    "\\begin{equation} \n",
    "=\\langle x_i x_j\\rangle - \\langle x_i\\rangle\\langle x_j\\rangle\n",
    "\\label{_auto10} \\tag{11}\n",
    "\\end{equation}\n",
    "$$"
   ]
  },
  {
   "cell_type": "markdown",
   "metadata": {},
   "source": [
    "## Covariance example\n",
    "\n",
    "Suppose we have defined three vectors $\\hat{x}, \\hat{y}, \\hat{z}$ with\n",
    "$n$ elements each. The covariance matrix is defined as"
   ]
  },
  {
   "cell_type": "markdown",
   "metadata": {},
   "source": [
    "$$\n",
    "\\hat{\\Sigma} = \\begin{bmatrix} \\sigma_{xx} & \\sigma_{xy} & \\sigma_{xz} \\\\\n",
    "                              \\sigma_{yx} & \\sigma_{yy} & \\sigma_{yz} \\\\\n",
    "                              \\sigma_{zx} & \\sigma_{zy} & \\sigma_{zz}\n",
    "             \\end{bmatrix},\n",
    "$$"
   ]
  },
  {
   "cell_type": "markdown",
   "metadata": {},
   "source": [
    "where for example"
   ]
  },
  {
   "cell_type": "markdown",
   "metadata": {},
   "source": [
    "$$\n",
    "\\sigma_{xy} =\\frac{1}{n} \\sum_{i=0}^{n-1}(x_i- \\overline{x})(y_i- \\overline{y}).\n",
    "$$"
   ]
  },
  {
   "cell_type": "markdown",
   "metadata": {},
   "source": [
    "The Numpy function **np.cov** calculates the covariance elements using\n",
    "the factor $1/(n-1)$ instead of $1/n$ since it assumes we do not have\n",
    "the exact mean valu\\ es.\n",
    "\n",
    "The following simple function uses the **np.vstack** function which\n",
    "takes each vector of dimension $1\\times n$ and produces a $3\\times n$\n",
    "matrix $\\hat{W}$"
   ]
  },
  {
   "cell_type": "markdown",
   "metadata": {},
   "source": [
    "$$\n",
    "\\hat{W} = \\begin{bmatrix} x_0 & y_0 & z_0 \\\\\n",
    "                          x_1 & y_1 & z_1 \\\\\n",
    "                          x_2 & y_2 & z_2 \\\\\n",
    "                          \\dots & \\dots & \\dots \\\\\n",
    "                          x_{n-2} & y_{n-2} & z_{n-2} \\\\\n",
    "                          x_{n-1} & y_{n-1} & z_{n-1}\n",
    "             \\end{bmatrix},\n",
    "$$"
   ]
  },
  {
   "cell_type": "markdown",
   "metadata": {},
   "source": [
    "which in turn is converted into into the $3\\times 3$ covariance matrix\n",
    "$\\hat{\\Sigma}$ via the Numpy function **np.cov()**. We note that we can\n",
    "also calculate the mean value of each set of samples $\\hat{x}$ etc\n",
    "using the Numpy function **np.mean(x)**. We can also extract the\n",
    "eigenvalues of the covariance matrix through the **np.linalg.eig()**\n",
    "function.\n",
    "\n",
    "\n",
    "## Covariance in numpy"
   ]
  },
  {
   "cell_type": "code",
   "execution_count": 22,
   "metadata": {},
   "outputs": [],
   "source": [
    "# Importing various packages\n",
    "import numpy as np\n",
    "\n",
    "n = 100\n",
    "x = np.random.normal(size=n)\n",
    "print(np.mean(x))\n",
    "y = 4+3*x+np.random.normal(size=n)\n",
    "print(np.mean(y))\n",
    "z = x**3+np.random.normal(size=n)\n",
    "print(np.mean(z))\n",
    "W = np.vstack((x, y, z))\n",
    "Sigma = np.cov(W)\n",
    "print(Sigma)\n",
    "Eigvals, Eigvecs = np.linalg.eig(Sigma)\n",
    "print(Eigvals)"
   ]
  },
  {
   "cell_type": "code",
   "execution_count": 23,
   "metadata": {},
   "outputs": [],
   "source": [
    "import numpy as np\n",
    "import matplotlib.pyplot as plt\n",
    "from scipy import sparse\n",
    "eye = np.eye(4)\n",
    "print(eye)\n",
    "sparse_mtx = sparse.csr_matrix(eye)\n",
    "print(sparse_mtx)\n",
    "x = np.linspace(-10,10,100)\n",
    "y = np.sin(x)\n",
    "plt.plot(x,y,marker='x')\n",
    "plt.show()"
   ]
  },
  {
   "cell_type": "markdown",
   "metadata": {},
   "source": [
    "## Statistics, independent variables\n",
    "If $X_i$ and $X_j$ are independent, we get \n",
    "$\\langle x_i x_j\\rangle =\\langle x_i\\rangle\\langle x_j\\rangle$, resulting in $\\mathrm{cov}(X_i, X_j) = 0\\ \\ (i\\neq j)$.\n",
    "\n",
    "Also useful for us is the covariance of linear combinations of\n",
    "stochastic variables. Let $\\{X_i\\}$ and $\\{Y_i\\}$ be two sets of\n",
    "stochastic variables. Let also $\\{a_i\\}$ and $\\{b_i\\}$ be two sets of\n",
    "scalars. Consider the linear combination:"
   ]
  },
  {
   "cell_type": "markdown",
   "metadata": {},
   "source": [
    "$$\n",
    "U = \\sum_i a_i X_i \\qquad V = \\sum_j b_j Y_j\n",
    "$$"
   ]
  },
  {
   "cell_type": "markdown",
   "metadata": {},
   "source": [
    "By the linearity of the expectation value"
   ]
  },
  {
   "cell_type": "markdown",
   "metadata": {},
   "source": [
    "$$\n",
    "\\mathrm{cov}(U, V) = \\sum_{i,j}a_i b_j \\mathrm{cov}(X_i, Y_j)\n",
    "$$"
   ]
  },
  {
   "cell_type": "markdown",
   "metadata": {},
   "source": [
    "## Statistics, more variance\n",
    "Now, since the variance is just $\\mathrm{var}(X_i) = \\mathrm{cov}(X_i, X_i)$, we get\n",
    "the variance of the linear combination $U = \\sum_i a_i X_i$:"
   ]
  },
  {
   "cell_type": "markdown",
   "metadata": {},
   "source": [
    "<!-- Equation labels as ordinary links -->\n",
    "<div id=\"eq:variance_linear_combination\"></div>\n",
    "\n",
    "$$\n",
    "\\begin{equation}\n",
    "\\mathrm{var}(U) = \\sum_{i,j}a_i a_j \\mathrm{cov}(X_i, X_j)\n",
    "\\label{eq:variance_linear_combination} \\tag{12}\n",
    "\\end{equation}\n",
    "$$"
   ]
  },
  {
   "cell_type": "markdown",
   "metadata": {},
   "source": [
    "And in the special case when the stochastic variables are\n",
    "uncorrelated, the off-diagonal elements of the covariance are as we\n",
    "know zero, resulting in:"
   ]
  },
  {
   "cell_type": "markdown",
   "metadata": {},
   "source": [
    "1\n",
    "1\n",
    "1\n",
    " \n",
    "<\n",
    "<\n",
    "<\n",
    "!\n",
    "!\n",
    "M\n",
    "A\n",
    "T\n",
    "H\n",
    "_\n",
    "B\n",
    "L\n",
    "O\n",
    "C\n",
    "K"
   ]
  },
  {
   "cell_type": "markdown",
   "metadata": {},
   "source": [
    "$$\n",
    "\\mathrm{var}(\\sum_i a_i X_i) = \\sum_i a_i^2 \\mathrm{var}(X_i)\n",
    "$$"
   ]
  },
  {
   "cell_type": "markdown",
   "metadata": {},
   "source": [
    "which will become very useful in our study of the error in the mean\n",
    "value of a set of measurements.\n",
    "\n",
    "\n",
    "\n",
    "## Statistics and stochastic processes\n",
    "A *stochastic process* is a process that produces sequentially a\n",
    "chain of values:"
   ]
  },
  {
   "cell_type": "markdown",
   "metadata": {},
   "source": [
    "$$\n",
    "\\{x_1, x_2,\\dots\\,x_k,\\dots\\}.\n",
    "$$"
   ]
  },
  {
   "cell_type": "markdown",
   "metadata": {},
   "source": [
    "We will call these\n",
    "values our *measurements* and the entire set as our measured\n",
    "*sample*.  The action of measuring all the elements of a sample\n",
    "we will call a stochastic *experiment* since, operationally,\n",
    "they are often associated with results of empirical observation of\n",
    "some physical or mathematical phenomena; precisely an experiment. We\n",
    "assume that these values are distributed according to some \n",
    "PDF $p_X^{\\phantom X}(x)$, where $X$ is just the formal symbol for the\n",
    "stochastic variable whose PDF is $p_X^{\\phantom X}(x)$. Instead of\n",
    "trying to determine the full distribution $p$ we are often only\n",
    "interested in finding the few lowest moments, like the mean\n",
    "$\\mu_X^{\\phantom X}$ and the variance $\\sigma_X^{\\phantom X}$.\n",
    "\n",
    "\n",
    "\n",
    "\n",
    "<!-- !split  -->\n",
    "## Statistics and sample variables\n",
    "In practical situations a sample is always of finite size. Let that\n",
    "size be $n$. The expectation value of a sample, the *sample mean*, is then defined as follows:"
   ]
  },
  {
   "cell_type": "markdown",
   "metadata": {},
   "source": [
    "$$\n",
    "\\bar{x}_n \\equiv \\frac{1}{n}\\sum_{k=1}^n x_k\n",
    "$$"
   ]
  },
  {
   "cell_type": "markdown",
   "metadata": {},
   "source": [
    "The *sample variance* is:"
   ]
  },
  {
   "cell_type": "markdown",
   "metadata": {},
   "source": [
    "$$\n",
    "\\mathrm{var}(x) \\equiv \\frac{1}{n}\\sum_{k=1}^n (x_k - \\bar{x}_n)^2\n",
    "$$"
   ]
  },
  {
   "cell_type": "markdown",
   "metadata": {},
   "source": [
    "its square root being the *standard deviation of the sample*. The\n",
    "*sample covariance* is:"
   ]
  },
  {
   "cell_type": "markdown",
   "metadata": {},
   "source": [
    "$$\n",
    "\\mathrm{cov}(x)\\equiv\\frac{1}{n}\\sum_{kl}(x_k - \\bar{x}_n)(x_l - \\bar{x}_n)\n",
    "$$"
   ]
  },
  {
   "cell_type": "markdown",
   "metadata": {},
   "source": [
    "## Statistics, sample variance and covariance\n",
    "Note that the sample variance is the sample covariance without the\n",
    "cross terms. In a similar manner as the covariance in Eq. ([6](#eq:def_covariance)) is a measure of the correlation between\n",
    "two stochastic variables, the above defined sample covariance is a\n",
    "measure of the sequential correlation between succeeding measurements\n",
    "of a sample.\n",
    "\n",
    "These quantities, being known experimental values, differ\n",
    "significantly from and must not be confused with the similarly named\n",
    "quantities for stochastic variables, mean $\\mu_X$, variance $\\mathrm{var}(X)$\n",
    "and covariance $\\mathrm{cov}(X,Y)$.\n",
    "\n",
    "\n",
    "\n",
    "## Statistics, law of large numbers\n",
    "The law of large numbers\n",
    "states that as the size of our sample grows to infinity, the sample\n",
    "mean approaches the true mean $\\mu_X^{\\phantom X}$ of the chosen PDF:"
   ]
  },
  {
   "cell_type": "markdown",
   "metadata": {},
   "source": [
    "$$\n",
    "\\lim_{n\\to\\infty}\\bar{x}_n = \\mu_X^{\\phantom X}\n",
    "$$"
   ]
  },
  {
   "cell_type": "markdown",
   "metadata": {},
   "source": [
    "The sample mean $\\bar{x}_n$ works therefore as an estimate of the true\n",
    "mean $\\mu_X^{\\phantom X}$.\n",
    "\n",
    "What we need to find out is how good an approximation $\\bar{x}_n$ is to\n",
    "$\\mu_X^{\\phantom X}$. In any stochastic measurement, an estimated\n",
    "mean is of no use to us without a measure of its error. A quantity\n",
    "that tells us how well we can reproduce it in another experiment. We\n",
    "are therefore interested in the PDF of the sample mean itself. Its\n",
    "standard deviation will be a measure of the spread of sample means,\n",
    "and we will simply call it the *error* of the sample mean, or\n",
    "just sample error, and denote it by $\\mathrm{err}_X^{\\phantom X}$. In\n",
    "practice, we will only be able to produce an *estimate* of the\n",
    "sample error since the exact value would require the knowledge of the\n",
    "true PDFs behind, which we usually do not have.\n",
    "\n",
    "\n",
    "\n",
    "\n",
    "## Statistics, more on sample error\n",
    "Let us first take a look at what happens to the sample error as the\n",
    "size of the sample grows. In a sample, each of the measurements $x_i$\n",
    "can be associated with its own stochastic variable $X_i$. The\n",
    "stochastic variable $\\overline X_n$ for the sample mean $\\bar{x}_n$ is\n",
    "then just a linear combination, already familiar to us:"
   ]
  },
  {
   "cell_type": "markdown",
   "metadata": {},
   "source": [
    "$$\n",
    "\\overline X_n = \\frac{1}{n}\\sum_{i=1}^n X_i\n",
    "$$"
   ]
  },
  {
   "cell_type": "markdown",
   "metadata": {},
   "source": [
    "All the coefficients are just equal $1/n$. The PDF of $\\overline X_n$,\n",
    "denoted by $p_{\\overline X_n}(x)$ is the desired PDF of the sample\n",
    "means.\n",
    "\n",
    "\n",
    "\n",
    "## Statistics\n",
    "The probability density of obtaining a sample mean $\\bar x_n$\n",
    "is the product of probabilities of obtaining arbitrary values $x_1,\n",
    "x_2,\\dots,x_n$ with the constraint that the mean of the set $\\{x_i\\}$\n",
    "is $\\bar x_n$:"
   ]
  },
  {
   "cell_type": "markdown",
   "metadata": {},
   "source": [
    "$$\n",
    "p_{\\overline X_n}(x) = \\int p_X^{\\phantom X}(x_1)\\cdots\n",
    "\\int p_X^{\\phantom X}(x_n)\\ \n",
    "\\delta\\!\\left(x - \\frac{x_1+x_2+\\dots+x_n}{n}\\right)dx_n \\cdots dx_1\n",
    "$$"
   ]
  },
  {
   "cell_type": "markdown",
   "metadata": {},
   "source": [
    "And in particular we are interested in its variance $\\mathrm{var}(\\overline X_n)$.\n",
    "\n",
    "\n",
    "\n",
    "\n",
    "\n",
    "## Statistics, central limit theorem\n",
    "It is generally not possible to express $p_{\\overline X_n}(x)$ in a\n",
    "closed form given an arbitrary PDF $p_X^{\\phantom X}$ and a number\n",
    "$n$. But for the limit $n\\to\\infty$ it is possible to make an\n",
    "approximation. The very important result is called *the central limit theorem*. It tells us that as $n$ goes to infinity,\n",
    "$p_{\\overline X_n}(x)$ approaches a Gaussian distribution whose mean\n",
    "and variance equal the true mean and variance, $\\mu_{X}^{\\phantom X}$\n",
    "and $\\sigma_{X}^{2}$, respectively:"
   ]
  },
  {
   "cell_type": "markdown",
   "metadata": {},
   "source": [
    "<!-- Equation labels as ordinary links -->\n",
    "<div id=\"eq:central_limit_gaussian\"></div>\n",
    "\n",
    "$$\n",
    "\\begin{equation}\n",
    "\\lim_{n\\to\\infty} p_{\\overline X_n}(x) =\n",
    "\\left(\\frac{n}{2\\pi\\mathrm{var}(X)}\\right)^{1/2}\n",
    "e^{-\\frac{n(x-\\bar x_n)^2}{2\\mathrm{var}(X)}}\n",
    "\\label{eq:central_limit_gaussian} \\tag{13}\n",
    "\\end{equation}\n",
    "$$"
   ]
  },
  {
   "cell_type": "markdown",
   "metadata": {},
   "source": [
    "## Statistics, more technicalities\n",
    "The desired variance\n",
    "$\\mathrm{var}(\\overline X_n)$, i.e. the sample error squared\n",
    "$\\mathrm{err}_X^2$, is given by:"
   ]
  },
  {
   "cell_type": "markdown",
   "metadata": {},
   "source": [
    "<!-- Equation labels as ordinary links -->\n",
    "<div id=\"eq:error_exact\"></div>\n",
    "\n",
    "$$\n",
    "\\begin{equation}\n",
    "\\mathrm{err}_X^2 = \\mathrm{var}(\\overline X_n) = \\frac{1}{n^2}\n",
    "\\sum_{ij} \\mathrm{cov}(X_i, X_j)\n",
    "\\label{eq:error_exact} \\tag{14}\n",
    "\\end{equation}\n",
    "$$"
   ]
  },
  {
   "cell_type": "markdown",
   "metadata": {},
   "source": [
    "We see now that in order to calculate the exact error of the sample\n",
    "with the above expression, we would need the true means\n",
    "$\\mu_{X_i}^{\\phantom X}$ of the stochastic variables $X_i$. To\n",
    "calculate these requires that we know the true multivariate PDF of all\n",
    "the $X_i$. But this PDF is unknown to us, we have only got the measurements of\n",
    "one sample. The best we can do is to let the sample itself be an\n",
    "estimate of the PDF of each of the $X_i$, estimating all properties of\n",
    "$X_i$ through the measurements of the sample.\n",
    "\n",
    "\n",
    "\n",
    "\n",
    "## Statistics\n",
    "Our estimate of $\\mu_{X_i}^{\\phantom X}$ is then the sample mean $\\bar x$\n",
    "itself, in accordance with the the central limit theorem:"
   ]
  },
  {
   "cell_type": "markdown",
   "metadata": {},
   "source": [
    "$$\n",
    "\\mu_{X_i}^{\\phantom X} = \\langle x_i\\rangle \\approx \\frac{1}{n}\\sum_{k=1}^n x_k = \\bar x\n",
    "$$"
   ]
  },
  {
   "cell_type": "markdown",
   "metadata": {},
   "source": [
    "Using $\\bar x$ in place of $\\mu_{X_i}^{\\phantom X}$ we can give an\n",
    "*estimate* of the covariance in Eq. ([14](#eq:error_exact))"
   ]
  },
  {
   "cell_type": "markdown",
   "metadata": {},
   "source": [
    "$$\n",
    "\\mathrm{cov}(X_i, X_j) = \\langle (x_i-\\langle x_i\\rangle)(x_j-\\langle x_j\\rangle)\\rangle\n",
    "\\approx\\langle (x_i - \\bar x)(x_j - \\bar{x})\\rangle,\n",
    "$$"
   ]
  },
  {
   "cell_type": "markdown",
   "metadata": {},
   "source": [
    "resulting in"
   ]
  },
  {
   "cell_type": "markdown",
   "metadata": {},
   "source": [
    "$$\n",
    "\\frac{1}{n} \\sum_{l}^n \\left(\\frac{1}{n}\\sum_{k}^n (x_k -\\bar x_n)(x_l - \\bar x_n)\\right)=\\frac{1}{n}\\frac{1}{n} \\sum_{kl} (x_k -\\bar x_n)(x_l - \\bar x_n)=\\frac{1}{n}\\mathrm{cov}(x)\n",
    "$$"
   ]
  },
  {
   "cell_type": "markdown",
   "metadata": {},
   "source": [
    "## Statistics and sample variance\n",
    "By the same procedure we can use the sample variance as an\n",
    "estimate of the variance of any of the stochastic variables $X_i$"
   ]
  },
  {
   "cell_type": "markdown",
   "metadata": {},
   "source": [
    "$$\n",
    "\\mathrm{var}(X_i)=\\langle x_i - \\langle x_i\\rangle\\rangle \\approx \\langle x_i - \\bar x_n\\rangle\\nonumber,\n",
    "$$"
   ]
  },
  {
   "cell_type": "markdown",
   "metadata": {},
   "source": [
    "which is approximated as"
   ]
  },
  {
   "cell_type": "markdown",
   "metadata": {},
   "source": [
    "<!-- Equation labels as ordinary links -->\n",
    "<div id=\"eq:var_estimate_i_think\"></div>\n",
    "\n",
    "$$\n",
    "\\begin{equation}\n",
    "\\mathrm{var}(X_i)\\approx \\frac{1}{n}\\sum_{k=1}^n (x_k - \\bar x_n)=\\mathrm{var}(x)\n",
    "\\label{eq:var_estimate_i_think} \\tag{15}\n",
    "\\end{equation}\n",
    "$$"
   ]
  },
  {
   "cell_type": "markdown",
   "metadata": {},
   "source": [
    "Now we can calculate an estimate of the error\n",
    "$\\mathrm{err}_X^{\\phantom X}$ of the sample mean $\\bar x_n$:"
   ]
  },
  {
   "cell_type": "markdown",
   "metadata": {},
   "source": [
    "$$\n",
    "\\mathrm{err}_X^2\n",
    "=\\frac{1}{n^2}\\sum_{ij} \\mathrm{cov}(X_i, X_j) \\nonumber\n",
    "$$"
   ]
  },
  {
   "cell_type": "markdown",
   "metadata": {},
   "source": [
    "$$\n",
    "\\approx\\frac{1}{n^2}\\sum_{ij}\\frac{1}{n}\\mathrm{cov}(x) =\\frac{1}{n^2}n^2\\frac{1}{n}\\mathrm{cov}(x)\\nonumber\n",
    "$$"
   ]
  },
  {
   "cell_type": "markdown",
   "metadata": {},
   "source": [
    "<!-- Equation labels as ordinary links -->\n",
    "<div id=\"eq:error_estimate\"></div>\n",
    "\n",
    "$$\n",
    "\\begin{equation} \n",
    "=\\frac{1}{n}\\mathrm{cov}(x)\n",
    "\\label{eq:error_estimate} \\tag{16}\n",
    "\\end{equation}\n",
    "$$"
   ]
  },
  {
   "cell_type": "markdown",
   "metadata": {},
   "source": [
    "which is nothing but the sample covariance divided by the number of\n",
    "measurements in the sample.\n",
    "\n",
    "\n",
    "\n",
    "## Statistics, uncorrelated results\n",
    "\n",
    "In the special case that the measurements of the sample are\n",
    "uncorrelated (equivalently the stochastic variables $X_i$ are\n",
    "uncorrelated) we have that the off-diagonal elements of the covariance\n",
    "are zero. This gives the following estimate of the sample error:"
   ]
  },
  {
   "cell_type": "markdown",
   "metadata": {},
   "source": [
    "$$\n",
    "\\mathrm{err}_X^2=\\frac{1}{n^2}\\sum_{ij} \\mathrm{cov}(X_i, X_j) =\n",
    "\\frac{1}{n^2} \\sum_i \\mathrm{var}(X_i),\n",
    "$$"
   ]
  },
  {
   "cell_type": "markdown",
   "metadata": {},
   "source": [
    "resulting in"
   ]
  },
  {
   "cell_type": "markdown",
   "metadata": {},
   "source": [
    "<!-- Equation labels as ordinary links -->\n",
    "<div id=\"eq:error_estimate_uncorrel\"></div>\n",
    "\n",
    "$$\n",
    "\\begin{equation}\n",
    "\\mathrm{err}_X^2\\approx \\frac{1}{n^2} \\sum_i \\mathrm{var}(x)= \\frac{1}{n}\\mathrm{var}(x)\n",
    "\\label{eq:error_estimate_uncorrel} \\tag{17}\n",
    "\\end{equation}\n",
    "$$"
   ]
  },
  {
   "cell_type": "markdown",
   "metadata": {},
   "source": [
    "where in the second step we have used Eq. ([15](#eq:var_estimate_i_think)).\n",
    "The error of the sample is then just its standard deviation divided by\n",
    "the square root of the number of measurements the sample contains.\n",
    "This is a very useful formula which is easy to compute. It acts as a\n",
    "first approximation to the error, but in numerical experiments, we\n",
    "cannot overlook the always present correlations.\n",
    "\n",
    "\n",
    "\n",
    "## Statistics, computations\n",
    "For computational purposes one usually splits up the estimate of\n",
    "$\\mathrm{err}_X^2$, given by Eq. ([16](#eq:error_estimate)), into two\n",
    "parts"
   ]
  },
  {
   "cell_type": "markdown",
   "metadata": {},
   "source": [
    "$$\n",
    "\\mathrm{err}_X^2 = \\frac{1}{n}\\mathrm{var}(x) + \\frac{1}{n}(\\mathrm{cov}(x)-\\mathrm{var}(x)),\n",
    "$$"
   ]
  },
  {
   "cell_type": "markdown",
   "metadata": {},
   "source": [
    "which equals"
   ]
  },
  {
   "cell_type": "markdown",
   "metadata": {},
   "source": [
    "<!-- Equation labels as ordinary links -->\n",
    "<div id=\"eq:error_estimate_split_up\"></div>\n",
    "\n",
    "$$\n",
    "\\begin{equation}\n",
    "\\frac{1}{n^2}\\sum_{k=1}^n (x_k - \\bar x_n)^2 +\\frac{2}{n^2}\\sum_{k<l} (x_k - \\bar x_n)(x_l - \\bar x_n)\n",
    "\\label{eq:error_estimate_split_up} \\tag{18}\n",
    "\\end{equation}\n",
    "$$"
   ]
  },
  {
   "cell_type": "markdown",
   "metadata": {},
   "source": [
    "The first term is the same as the error in the uncorrelated case,\n",
    "Eq. ([17](#eq:error_estimate_uncorrel)). This means that the second\n",
    "term accounts for the error correction due to correlation between the\n",
    "measurements. For uncorrelated measurements this second term is zero.\n",
    "\n",
    "\n",
    "\n",
    "## Statistics, more on computations of errors\n",
    "Computationally the uncorrelated first term is much easier to treat\n",
    "efficiently than the second."
   ]
  },
  {
   "cell_type": "markdown",
   "metadata": {},
   "source": [
    "$$\n",
    "\\mathrm{var}(x) = \\frac{1}{n}\\sum_{k=1}^n (x_k - \\bar x_n)^2 =\n",
    "\\left(\\frac{1}{n}\\sum_{k=1}^n x_k^2\\right) - \\bar x_n^2\n",
    "$$"
   ]
  },
  {
   "cell_type": "markdown",
   "metadata": {},
   "source": [
    "We just accumulate separately the values $x^2$ and $x$ for every\n",
    "measurement $x$ we receive. The correlation term, though, has to be\n",
    "calculated at the end of the experiment since we need all the\n",
    "measurements to calculate the cross terms. Therefore, all measurements\n",
    "have to be stored throughout the experiment.\n",
    "\n",
    "\n",
    "\n",
    "\n",
    "\n",
    "\n",
    "## Statistics, wrapping up 1\n",
    "Let us analyze the problem by splitting up the correlation term into\n",
    "partial sums of the form:"
   ]
  },
  {
   "cell_type": "markdown",
   "metadata": {},
   "source": [
    "$$\n",
    "f_d = \\frac{1}{n-d}\\sum_{k=1}^{n-d}(x_k - \\bar x_n)(x_{k+d} - \\bar x_n)\n",
    "$$"
   ]
  },
  {
   "cell_type": "markdown",
   "metadata": {},
   "source": [
    "The correlation term of the error can now be rewritten in terms of\n",
    "$f_d$"
   ]
  },
  {
   "cell_type": "markdown",
   "metadata": {},
   "source": [
    "$$\n",
    "\\frac{2}{n}\\sum_{k<l} (x_k - \\bar x_n)(x_l - \\bar x_n) =\n",
    "2\\sum_{d=1}^{n-1} f_d\n",
    "$$"
   ]
  },
  {
   "cell_type": "markdown",
   "metadata": {},
   "source": [
    "The value of $f_d$ reflects the correlation between measurements\n",
    "separated by the distance $d$ in the sample samples.  Notice that for\n",
    "$d=0$, $f$ is just the sample variance, $\\mathrm{var}(x)$. If we divide $f_d$\n",
    "by $\\mathrm{var}(x)$, we arrive at the so called *autocorrelation function*"
   ]
  },
  {
   "cell_type": "markdown",
   "metadata": {},
   "source": [
    "$$\n",
    "\\kappa_d = \\frac{f_d}{\\mathrm{var}(x)}\n",
    "$$"
   ]
  },
  {
   "cell_type": "markdown",
   "metadata": {},
   "source": [
    "which gives us a useful measure of pairwise correlations\n",
    "starting always at $1$ for $d=0$.\n",
    "\n",
    "\n",
    "\n",
    "\n",
    "## Statistics, final expression\n",
    "The sample error (see eq. ([18](#eq:error_estimate_split_up))) can now be\n",
    "written in terms of the autocorrelation function:"
   ]
  },
  {
   "cell_type": "markdown",
   "metadata": {},
   "source": [
    "$$\n",
    "\\mathrm{err}_X^2 =\n",
    "\\frac{1}{n}\\mathrm{var}(x)+\\frac{2}{n}\\cdot\\mathrm{var}(x)\\sum_{d=1}^{n-1}\n",
    "\\frac{f_d}{\\mathrm{var}(x)}\\nonumber\n",
    "$$"
   ]
  },
  {
   "cell_type": "markdown",
   "metadata": {},
   "source": [
    "$$\n",
    "=\n",
    "\\left(1+2\\sum_{d=1}^{n-1}\\kappa_d\\right)\\frac{1}{n}\\mathrm{var}(x)\\nonumber\n",
    "$$"
   ]
  },
  {
   "cell_type": "markdown",
   "metadata": {},
   "source": [
    "<!-- Equation labels as ordinary links -->\n",
    "<div id=\"eq:error_estimate_corr_time\"></div>\n",
    "\n",
    "$$\n",
    "\\begin{equation} \n",
    "=\\frac{\\tau}{n}\\cdot\\mathrm{var}(x)\n",
    "\\label{eq:error_estimate_corr_time} \\tag{19}\n",
    "\\end{equation}\n",
    "$$"
   ]
  },
  {
   "cell_type": "markdown",
   "metadata": {},
   "source": [
    "and we see that $\\mathrm{err}_X$ can be expressed in terms the\n",
    "uncorrelated sample variance times a correction factor $\\tau$ which\n",
    "accounts for the correlation between measurements. We call this\n",
    "correction factor the *autocorrelation time*:"
   ]
  },
  {
   "cell_type": "markdown",
   "metadata": {},
   "source": [
    "<!-- Equation labels as ordinary links -->\n",
    "<div id=\"eq:autocorrelation_time\"></div>\n",
    "\n",
    "$$\n",
    "\\begin{equation}\n",
    "\\tau = 1+2\\sum_{d=1}^{n-1}\\kappa_d\n",
    "\\label{eq:autocorrelation_time} \\tag{20}\n",
    "\\end{equation}\n",
    "$$"
   ]
  },
  {
   "cell_type": "markdown",
   "metadata": {},
   "source": [
    "## Statistics, effective number of correlations\n",
    "For a correlation free experiment, $\\tau$\n",
    "equals 1. From the point of view of\n",
    "eq. ([19](#eq:error_estimate_corr_time)) we can interpret a sequential\n",
    "correlation as an effective reduction of the number of measurements by\n",
    "a factor $\\tau$. The effective number of measurements becomes:"
   ]
  },
  {
   "cell_type": "markdown",
   "metadata": {},
   "source": [
    "$$\n",
    "n_\\mathrm{eff} = \\frac{n}{\\tau}\n",
    "$$"
   ]
  },
  {
   "cell_type": "markdown",
   "metadata": {},
   "source": [
    "To neglect the autocorrelation time $\\tau$ will always cause our\n",
    "simple uncorrelated estimate of $\\mathrm{err}_X^2\\approx \\mathrm{var}(x)/n$ to\n",
    "be less than the true sample error. The estimate of the error will be\n",
    "too *good*. On the other hand, the calculation of the full\n",
    "autocorrelation time poses an efficiency problem if the set of\n",
    "measurements is very large.\n",
    "\n",
    "\n",
    "\n",
    "\n",
    "\n",
    "<!-- !split  -->\n",
    "## Linking the regression analysis with a statistical interpretation\n",
    "\n",
    "Finally, we are going to discuss several statistical properties which can be obtained in terms of analytical expressions. \n",
    "The\n",
    "advantage of doing linear regression is that we actually end up with\n",
    "analytical expressions for several statistical quantities.  \n",
    "Standard least squares and Ridge regression  allow us to\n",
    "derive quantities like the variance and other expectation values in a\n",
    "rather straightforward way.\n",
    "\n",
    "\n",
    "It is assumed that $\\varepsilon_i\n",
    "\\sim \\mathcal{N}(0, \\sigma^2)$ and the $\\varepsilon_{i}$ are\n",
    "independent, i.e.:"
   ]
  },
  {
   "cell_type": "markdown",
   "metadata": {},
   "source": [
    "$$\n",
    "\\begin{align*} \n",
    "\\mbox{Cov}(\\varepsilon_{i_1},\n",
    "\\varepsilon_{i_2}) & = \\left\\{ \\begin{array}{lcc} \\sigma^2 & \\mbox{if}\n",
    "& i_1 = i_2, \\\\ 0 & \\mbox{if} & i_1 \\not= i_2.  \\end{array} \\right.\n",
    "\\end{align*}\n",
    "$$"
   ]
  },
  {
   "cell_type": "markdown",
   "metadata": {},
   "source": [
    "The randomness of $\\varepsilon_i$ implies that\n",
    "$\\mathbf{y}_i$ is also a random variable. In particular,\n",
    "$\\mathbf{y}_i$ is normally distributed, because $\\varepsilon_i \\sim\n",
    "\\mathcal{N}(0, \\sigma^2)$ and $\\mathbf{X}_{i,\\ast} \\, \\boldsymbol{\\beta}$ is a\n",
    "non-random scalar. To specify the parameters of the distribution of\n",
    "$\\mathbf{y}_i$ we need to calculate its first two moments. \n",
    "\n",
    "Recall that $\\boldsymbol{X}$ is a matrix of dimensionality $n\\times p$. The\n",
    "notation above $\\mathbf{X}_{i,\\ast}$ means that we are looking at the\n",
    "row number $i$ and perform a sum over all values $p$.\n",
    "\n",
    "\n",
    "## Assumptions made\n",
    "\n",
    "The assumption we have made here can be summarized as (and this is going to useful when we discuss the bias-variance trade off)\n",
    "that there exists a function $f(\\boldsymbol{x})$ and  a normal distributed error $\\boldsymbol{\\varepsilon}\\sim \\mathcal{N}(0, \\sigma^2)$\n",
    "which describes our data"
   ]
  },
  {
   "cell_type": "markdown",
   "metadata": {},
   "source": [
    "$$\n",
    "\\boldsymbol{y} = f(\\boldsymbol{x})+\\boldsymbol{\\varepsilon}\n",
    "$$"
   ]
  },
  {
   "cell_type": "markdown",
   "metadata": {},
   "source": [
    "We approximate this function with our model from the solution of the linear regression equations, that is our\n",
    "function $f$ is approximated by $\\boldsymbol{\\tilde{y}}$ where we want to minimize $(\\boldsymbol{y}-\\boldsymbol{\\tilde{y}})^2$, our MSE, with"
   ]
  },
  {
   "cell_type": "markdown",
   "metadata": {},
   "source": [
    "$$\n",
    "\\boldsymbol{\\tilde{y}} = \\boldsymbol{X}\\boldsymbol{\\beta}.\n",
    "$$"
   ]
  },
  {
   "cell_type": "markdown",
   "metadata": {},
   "source": [
    "## Expectation value and variance\n",
    "\n",
    "We can calculate the expectation value of $\\boldsymbol{y}$ for a given element $i$"
   ]
  },
  {
   "cell_type": "markdown",
   "metadata": {},
   "source": [
    "$$\n",
    "\\begin{align*} \n",
    "\\mathbb{E}(y_i) & =\n",
    "\\mathbb{E}(\\mathbf{X}_{i, \\ast} \\, \\boldsymbol{\\beta}) + \\mathbb{E}(\\varepsilon_i)\n",
    "\\, \\, \\, = \\, \\, \\, \\mathbf{X}_{i, \\ast} \\, \\beta, \n",
    "\\end{align*}\n",
    "$$"
   ]
  },
  {
   "cell_type": "markdown",
   "metadata": {},
   "source": [
    "while\n",
    "its variance is"
   ]
  },
  {
   "cell_type": "markdown",
   "metadata": {},
   "source": [
    "$$\n",
    "\\begin{align*} \\mbox{Var}(y_i) & = \\mathbb{E} \\{ [y_i\n",
    "- \\mathbb{E}(y_i)]^2 \\} \\, \\, \\, = \\, \\, \\, \\mathbb{E} ( y_i^2 ) -\n",
    "[\\mathbb{E}(y_i)]^2  \\\\  & = \\mathbb{E} [ ( \\mathbf{X}_{i, \\ast} \\,\n",
    "\\beta + \\varepsilon_i )^2] - ( \\mathbf{X}_{i, \\ast} \\, \\boldsymbol{\\beta})^2 \\\\ &\n",
    "= \\mathbb{E} [ ( \\mathbf{X}_{i, \\ast} \\, \\boldsymbol{\\beta})^2 + 2 \\varepsilon_i\n",
    "\\mathbf{X}_{i, \\ast} \\, \\boldsymbol{\\beta} + \\varepsilon_i^2 ] - ( \\mathbf{X}_{i,\n",
    "\\ast} \\, \\beta)^2 \\\\  & = ( \\mathbf{X}_{i, \\ast} \\, \\boldsymbol{\\beta})^2 + 2\n",
    "\\mathbb{E}(\\varepsilon_i) \\mathbf{X}_{i, \\ast} \\, \\boldsymbol{\\beta} +\n",
    "\\mathbb{E}(\\varepsilon_i^2 ) - ( \\mathbf{X}_{i, \\ast} \\, \\boldsymbol{\\beta})^2 \n",
    "\\\\ & = \\mathbb{E}(\\varepsilon_i^2 ) \\, \\, \\, = \\, \\, \\,\n",
    "\\mbox{Var}(\\varepsilon_i) \\, \\, \\, = \\, \\, \\, \\sigma^2.  \n",
    "\\end{align*}\n",
    "$$"
   ]
  },
  {
   "cell_type": "markdown",
   "metadata": {},
   "source": [
    "Hence, $y_i \\sim \\mathcal{N}( \\mathbf{X}_{i, \\ast} \\, \\boldsymbol{\\beta}, \\sigma^2)$, that is $\\boldsymbol{y}$ follows a normal distribution with \n",
    "mean value $\\boldsymbol{X}\\boldsymbol{\\beta}$ and variance $\\sigma^2$ (not be confused with the singular values of the SVD). \n",
    "\n",
    "## Expectation value and variance for $\\boldsymbol{\\beta}$\n",
    "\n",
    "With the OLS expressions for the parameters $\\boldsymbol{\\beta}$ we can evaluate the expectation value"
   ]
  },
  {
   "cell_type": "markdown",
   "metadata": {},
   "source": [
    "$$\n",
    "\\mathbb{E}(\\boldsymbol{\\beta}) = \\mathbb{E}[ (\\mathbf{X}^{\\top} \\mathbf{X})^{-1}\\mathbf{X}^{T} \\mathbf{Y}]=(\\mathbf{X}^{T} \\mathbf{X})^{-1}\\mathbf{X}^{T} \\mathbb{E}[ \\mathbf{Y}]=(\\mathbf{X}^{T} \\mathbf{X})^{-1} \\mathbf{X}^{T}\\mathbf{X}\\boldsymbol{\\beta}=\\boldsymbol{\\beta}.\n",
    "$$"
   ]
  },
  {
   "cell_type": "markdown",
   "metadata": {},
   "source": [
    "This means that the estimator of the regression parameters is unbiased.\n",
    "\n",
    "We can also calculate the variance\n",
    "\n",
    "The variance of $\\boldsymbol{\\beta}$ is"
   ]
  },
  {
   "cell_type": "markdown",
   "metadata": {},
   "source": [
    "$$\n",
    "\\begin{eqnarray*}\n",
    "\\mbox{Var}(\\boldsymbol{\\beta}) & = & \\mathbb{E} \\{ [\\boldsymbol{\\beta} - \\mathbb{E}(\\boldsymbol{\\beta})] [\\boldsymbol{\\beta} - \\mathbb{E}(\\boldsymbol{\\beta})]^{T} \\}\n",
    "\\\\\n",
    "& = & \\mathbb{E} \\{ [(\\mathbf{X}^{T} \\mathbf{X})^{-1} \\, \\mathbf{X}^{T} \\mathbf{Y} - \\boldsymbol{\\beta}] \\, [(\\mathbf{X}^{T} \\mathbf{X})^{-1} \\, \\mathbf{X}^{T} \\mathbf{Y} - \\boldsymbol{\\beta}]^{T} \\}\n",
    "\\\\\n",
    "% & = & \\mathbb{E} \\{ [(\\mathbf{X}^{T} \\mathbf{X})^{-1} \\, \\mathbf{X}^{T} \\mathbf{Y}] \\, [(\\mathbf{X}^{T} \\mathbf{X})^{-1} \\, \\mathbf{X}^{T} \\mathbf{Y}]^{T} \\} - \\boldsymbol{\\beta} \\, \\boldsymbol{\\beta}^{T}\n",
    "% \\\\\n",
    "% & = & \\mathbb{E} \\{ (\\mathbf{X}^{T} \\mathbf{X})^{-1} \\, \\mathbf{X}^{T} \\mathbf{Y} \\, \\mathbf{Y}^{T} \\, \\mathbf{X} \\, (\\mathbf{X}^{T} \\mathbf{X})^{-1}  \\} - \\boldsymbol{\\beta} \\, \\boldsymbol{\\beta}^{T}\n",
    "% \\\\\n",
    "& = & (\\mathbf{X}^{T} \\mathbf{X})^{-1} \\, \\mathbf{X}^{T} \\, \\mathbb{E} \\{ \\mathbf{Y} \\, \\mathbf{Y}^{T} \\} \\, \\mathbf{X} \\, (\\mathbf{X}^{T} \\mathbf{X})^{-1} - \\boldsymbol{\\beta} \\, \\boldsymbol{\\beta}^{T}\n",
    "\\\\\n",
    "& = & (\\mathbf{X}^{T} \\mathbf{X})^{-1} \\, \\mathbf{X}^{T} \\, \\{ \\mathbf{X} \\, \\boldsymbol{\\beta} \\, \\boldsymbol{\\beta}^{T} \\,  \\mathbf{X}^{T} + \\sigma^2 \\} \\, \\mathbf{X} \\, (\\mathbf{X}^{T} \\mathbf{X})^{-1} - \\boldsymbol{\\beta} \\, \\boldsymbol{\\beta}^{T}\n",
    "% \\\\\n",
    "% & = & (\\mathbf{X}^T \\mathbf{X})^{-1} \\, \\mathbf{X}^T \\, \\mathbf{X} \\, \\boldsymbol{\\beta} \\, \\boldsymbol{\\beta}^T \\,  \\mathbf{X}^T \\, \\mathbf{X} \\, (\\mathbf{X}^T % \\mathbf{X})^{-1}\n",
    "% \\\\\n",
    "% & & + \\, \\, \\sigma^2 \\, (\\mathbf{X}^T \\mathbf{X})^{-1} \\, \\mathbf{X}^T  \\, \\mathbf{X} \\, (\\mathbf{X}^T \\mathbf{X})^{-1} - \\boldsymbol{\\beta} \\boldsymbol{\\beta}^T\n",
    "\\\\\n",
    "& = & \\boldsymbol{\\beta} \\, \\boldsymbol{\\beta}^{T}  + \\sigma^2 \\, (\\mathbf{X}^{T} \\mathbf{X})^{-1} - \\boldsymbol{\\beta} \\, \\boldsymbol{\\beta}^{T}\n",
    "\\, \\, \\, = \\, \\, \\, \\sigma^2 \\, (\\mathbf{X}^{T} \\mathbf{X})^{-1},\n",
    "\\end{eqnarray*}\n",
    "$$"
   ]
  },
  {
   "cell_type": "markdown",
   "metadata": {},
   "source": [
    "where we have used  that $\\mathbb{E} (\\mathbf{Y} \\mathbf{Y}^{T}) =\n",
    "\\mathbf{X} \\, \\boldsymbol{\\beta} \\, \\boldsymbol{\\beta}^{T} \\, \\mathbf{X}^{T} +\n",
    "\\sigma^2 \\, \\mathbf{I}_{nn}$. From $\\mbox{Var}(\\boldsymbol{\\beta}) = \\sigma^2\n",
    "\\, (\\mathbf{X}^{T} \\mathbf{X})^{-1}$, one obtains an estimate of the\n",
    "variance of the estimate of the $j$-th regression coefficient:\n",
    "$\\hat{\\sigma}^2 (\\hat{\\beta}_j ) = \\hat{\\sigma}^2 \\sqrt{\n",
    "[(\\mathbf{X}^{T} \\mathbf{X})^{-1}]_{jj} }$. This may be used to\n",
    "construct a confidence interval for the estimates.\n",
    "\n",
    "\n",
    "In a similar way, we cna obtain analytical expressions for say the\n",
    "expectation values of the parameters $\\boldsymbol{\\beta}$ and their variance\n",
    "when we employ Ridge regression, and thereby a confidence interval. \n",
    "\n",
    "It is rather straightforward to show that"
   ]
  },
  {
   "cell_type": "markdown",
   "metadata": {},
   "source": [
    "$$\n",
    "\\mathbb{E} \\big[ \\boldsymbol{\\beta}^{\\mathrm{Ridge}} \\big]=(\\mathbf{X}^{T} \\mathbf{X} + \\lambda \\mathbf{I}_{pp})^{-1} (\\mathbf{X}^{\\top} \\mathbf{X})\\boldsymbol{\\beta}^{\\mathrm{OLS}}.\n",
    "$$"
   ]
  },
  {
   "cell_type": "markdown",
   "metadata": {},
   "source": [
    "We see clearly that \n",
    "$\\mathbb{E} \\big[ \\boldsymbol{\\beta}^{\\mathrm{Ridge}} \\big] \\not= \\boldsymbol{\\beta}^{\\mathrm{OLS}}$ for any $\\lambda > 0$. We say then that the ridge estimator is biased.\n",
    "\n",
    "We can also compute the variance as"
   ]
  },
  {
   "cell_type": "markdown",
   "metadata": {},
   "source": [
    "$$\n",
    "\\mbox{Var}[\\boldsymbol{\\beta}^{\\mathrm{Ridge}}]=\\sigma^2[  \\mathbf{X}^{T} \\mathbf{X} + \\lambda \\mathbf{I} ]^{-1}  \\mathbf{X}^{T} \\mathbf{X} \\{ [  \\mathbf{X}^{\\top} \\mathbf{X} + \\lambda \\mathbf{I} ]^{-1}\\}^{T},\n",
    "$$"
   ]
  },
  {
   "cell_type": "markdown",
   "metadata": {},
   "source": [
    "and it is easy to see that if the parameter $\\lambda$ goes to infinity then the variance of Ridge parameters $\\boldsymbol{\\beta}$ goes to zero. \n",
    "\n",
    "With this, we can compute the difference"
   ]
  },
  {
   "cell_type": "markdown",
   "metadata": {},
   "source": [
    "$$\n",
    "\\mbox{Var}[\\boldsymbol{\\beta}^{\\mathrm{OLS}}]-\\mbox{Var}(\\boldsymbol{\\beta}^{\\mathrm{Ridge}})=\\sigma^2 [  \\mathbf{X}^{T} \\mathbf{X} + \\lambda \\mathbf{I} ]^{-1}[ 2\\lambda\\mathbf{I} + \\lambda^2 (\\mathbf{X}^{T} \\mathbf{X})^{-1} ] \\{ [  \\mathbf{X}^{T} \\mathbf{X} + \\lambda \\mathbf{I} ]^{-1}\\}^{T}.\n",
    "$$"
   ]
  },
  {
   "cell_type": "markdown",
   "metadata": {},
   "source": [
    "The difference is non-negative definite since each component of the\n",
    "matrix product is non-negative definite. \n",
    "This means the variance we obtain with the standard OLS will always for $\\lambda > 0$ be larger than the variance of $\\boldsymbol{\\beta}$ obtained with the Ridge estimator. This has interesting consequences when we discuss the so-called bias-variance trade-off below. \n",
    "\n",
    "<!-- !split  -->\n",
    "## Cross-validation\n",
    "\n",
    "Instead of choosing the penalty parameter to balance model fit with\n",
    "model complexity, cross-validation requires it (i.e. the penalty\n",
    "parameter) to yield a model with good prediction\n",
    "performance. Commonly, this performance is evaluated on novel\n",
    "data. Novel data need not be easy to come by and one has to make do\n",
    "with the data at hand.\n",
    "\n",
    "The setting of **original** and novel data is\n",
    "then mimicked by sample splitting: the data set is divided into two\n",
    "(groups of samples). One of these two data sets, called the \n",
    "*training set*, plays the role of **original** data on which the model is\n",
    "built. The second of these data sets, called the *test set*, plays the\n",
    "role of the **novel** data and is used to evaluate the prediction\n",
    "performance (often operationalized as the log-likelihood or the\n",
    "prediction error or its square or the R2 score) of the model built on the training data set. This\n",
    "procedure (model building and prediction evaluation on training and\n",
    "test set, respectively) is done for a collection of possible penalty\n",
    "parameter choices. The penalty parameter that yields the model with\n",
    "the best prediction performance is to be preferred. The thus obtained\n",
    "performance evaluation depends on the actual split of the data set. To\n",
    "remove this dependence the data set is split many times into a\n",
    "training and test set. For each split the model parameters are\n",
    "estimated for all choices of $\\lambda$ using the training data and\n",
    "estimated parameters are evaluated on the corresponding test set. The\n",
    "penalty parameter that on average over the test sets performs best (in\n",
    "some sense) is then selected.\n",
    "\n",
    "\n",
    "## Computationally expensive\n",
    "\n",
    "The validation set approach is conceptually simple and is easy to implement. But it has two potential drawbacks:\n",
    "\n",
    "* The validation estimate of the test error rate can be highly variable, depending on precisely which observations are included in the training set and which observations are included in the validation set.\n",
    "\n",
    "* In the validation approach, only a subset of the observations, those that are included in the training set rather than in the validation set are used to fit the model. Since statistical methods tend to perform worse when trained on fewer observations, this suggests that the validation set error rate may tend to overestimate the test error rate for the model fit on the entire data set.\n",
    "\n",
    "<!-- !split  -->\n",
    "## Various steps in cross-validation\n",
    "\n",
    "When the repetitive splitting of the data set is done randomly,\n",
    "samples may accidently end up in a fast majority of the splits in\n",
    "either training or test set. Such samples may have an unbalanced\n",
    "influence on either model building or prediction evaluation. To avoid\n",
    "this $k$-fold cross-validation structures the data splitting. The\n",
    "samples are divided into $k$ more or less equally sized exhaustive and\n",
    "mutually exclusive subsets. In turn (at each split) one of these\n",
    "subsets plays the role of the test set while the union of the\n",
    "remaining subsets constitutes the training set. Such a splitting\n",
    "warrants a balanced representation of each sample in both training and\n",
    "test set over the splits. Still the division into the $k$ subsets\n",
    "involves a degree of randomness. This may be fully excluded when\n",
    "choosing $k=n$. This particular case is referred to as leave-one-out\n",
    "cross-validation (LOOCV). \n",
    "\n",
    "<!-- !split  -->\n",
    "## How to set up the cross-validation for Ridge and/or Lasso\n",
    "\n",
    "* Define a range of interest for the penalty parameter.\n",
    "\n",
    "* Divide the data set into training and test set comprising samples $\\{1, \\ldots, n\\} \\setminus i$ and $\\{ i \\}$, respectively.\n",
    "\n",
    "* Fit the linear regression model by means of ridge estimation  for each $\\lambda$ in the grid using the training set, and the corresponding estimate of the error variance $\\boldsymbol{\\sigma}_{-i}^2(\\lambda)$, as"
   ]
  },
  {
   "cell_type": "markdown",
   "metadata": {},
   "source": [
    "$$\n",
    "\\begin{align*}\n",
    "\\boldsymbol{\\beta}_{-i}(\\lambda) & =  ( \\boldsymbol{X}_{-i, \\ast}^{T}\n",
    "\\boldsymbol{X}_{-i, \\ast} + \\lambda \\boldsymbol{I}_{pp})^{-1}\n",
    "\\boldsymbol{X}_{-i, \\ast}^{T} \\boldsymbol{y}_{-i}\n",
    "\\end{align*}\n",
    "$$"
   ]
  },
  {
   "cell_type": "markdown",
   "metadata": {},
   "source": [
    "* Evaluate the prediction performance of these models on the test set by $\\log\\{L[y_i, \\boldsymbol{X}_{i, \\ast}; \\boldsymbol{\\beta}_{-i}(\\lambda), \\boldsymbol{\\sigma}_{-i}^2(\\lambda)]\\}$. Or, by the prediction error $|y_i - \\boldsymbol{X}_{i, \\ast} \\boldsymbol{\\beta}_{-i}(\\lambda)|$, the relative error, the error squared or the R2 score function.\n",
    "\n",
    "* Repeat the first three steps  such that each sample plays the role of the test set once.\n",
    "\n",
    "* Average the prediction performances of the test sets at each grid point of the penalty bias/parameter by computing the *cross-validated log-likelihood*. It is an estimate of the prediction performance of the model corresponding to this value of the penalty parameter on novel data. It is defined as"
   ]
  },
  {
   "cell_type": "markdown",
   "metadata": {},
   "source": [
    "$$\n",
    "\\begin{align*}\n",
    "\\frac{1}{n} \\sum_{i = 1}^n \\log\\{L[y_i, \\mathbf{X}_{i, \\ast}; \\boldsymbol{\\beta}_{-i}(\\lambda), \\boldsymbol{\\sigma}_{-i}^2(\\lambda)]\\}.\n",
    "\\end{align*}\n",
    "$$"
   ]
  },
  {
   "cell_type": "markdown",
   "metadata": {},
   "source": [
    "* The value of the penalty parameter that maximizes the cross-validated log-likelihood is the value of choice. Or we can use the MSE or the R2 score functions.\n",
    "\n",
    "## Resampling methods: Jackknife and Bootstrap\n",
    "\n",
    "Two famous\n",
    "resampling methods are the **independent bootstrap** and **the jackknife**. \n",
    "\n",
    "The jackknife is a special case of the independent bootstrap. Still, the jackknife was made\n",
    "popular prior to the independent bootstrap. And as the popularity of\n",
    "the independent bootstrap soared, new variants, such as **the dependent bootstrap**.\n",
    "\n",
    "The Jackknife and independent bootstrap work for\n",
    "independent, identically distributed random variables.\n",
    "If these conditions are not\n",
    "satisfied, the methods will fail.  Yet, it should be said that if the data are\n",
    "independent, identically distributed, and we only want to estimate the\n",
    "variance of $\\overline{X}$ (which often is the case), then there is no\n",
    "need for bootstrapping. \n",
    "\n",
    "## Resampling methods: Jackknife\n",
    "\n",
    "The Jackknife works by making many replicas of the estimator $\\widehat{\\theta}$. \n",
    "The jackknife is a resampling method where we systematically leave out one observation from the vector of observed values $\\boldsymbol{x} = (x_1,x_2,\\cdots,X_n)$. \n",
    "Let $\\boldsymbol{x}_i$ denote the vector"
   ]
  },
  {
   "cell_type": "markdown",
   "metadata": {},
   "source": [
    "$$\n",
    "\\boldsymbol{x}_i = (x_1,x_2,\\cdots,x_{i-1},x_{i+1},\\cdots,x_n),\n",
    "$$"
   ]
  },
  {
   "cell_type": "markdown",
   "metadata": {},
   "source": [
    "which equals the vector $\\boldsymbol{x}$ with the exception that observation\n",
    "number $i$ is left out. Using this notation, define\n",
    "$\\widehat{\\theta}_i$ to be the estimator\n",
    "$\\widehat{\\theta}$ computed using $\\vec{X}_i$. \n",
    "\n",
    "\n",
    "## Jackknife code example"
   ]
  },
  {
   "cell_type": "code",
   "execution_count": 24,
   "metadata": {},
   "outputs": [],
   "source": [
    "from numpy import *\n",
    "from numpy.random import randint, randn\n",
    "from time import time\n",
    "\n",
    "def jackknife(data, stat):\n",
    "    n = len(data);t = zeros(n); inds = arange(n); t0 = time()\n",
    "    ## 'jackknifing' by leaving out an observation for each i                                                                                                                      \n",
    "    for i in range(n):\n",
    "        t[i] = stat(delete(data,i) )\n",
    "\n",
    "    # analysis                                                                                                                                                                     \n",
    "    print(\"Runtime: %g sec\" % (time()-t0)); print(\"Jackknife Statistics :\")\n",
    "    print(\"original           bias      std. error\")\n",
    "    print(\"%8g %14g %15g\" % (stat(data),(n-1)*mean(t)/n, (n*var(t))**.5))\n",
    "\n",
    "    return t\n",
    "\n",
    "\n",
    "# Returns mean of data samples                                                                                                                                                     \n",
    "def stat(data):\n",
    "    return mean(data)\n",
    "\n",
    "\n",
    "mu, sigma = 100, 15\n",
    "datapoints = 10000\n",
    "x = mu + sigma*random.randn(datapoints)\n",
    "# jackknife returns the data sample                                                                                                                                                \n",
    "t = jackknife(x, stat)"
   ]
  },
  {
   "cell_type": "markdown",
   "metadata": {},
   "source": [
    "## Resampling methods: Bootstrap\n",
    "Bootstrapping is a nonparametric approach to statistical inference\n",
    "that substitutes computation for more traditional distributional\n",
    "assumptions and asymptotic results. Bootstrapping offers a number of\n",
    "advantages: \n",
    "1. The bootstrap is quite general, although there are some cases in which it fails.  \n",
    "\n",
    "2. Because it does not require distributional assumptions (such as normally distributed errors), the bootstrap can provide more accurate inferences when the data are not well behaved or when the sample size is small.  \n",
    "\n",
    "3. It is possible to apply the bootstrap to statistics with sampling distributions that are difficult to derive, even asymptotically. \n",
    "\n",
    "4. It is relatively simple to apply the bootstrap to complex data-collection plans (such as stratified and clustered samples).\n",
    "\n",
    "\n",
    "\n",
    "\n",
    "## Resampling methods: Bootstrap background\n",
    "\n",
    "Since $\\widehat{\\theta} = \\widehat{\\theta}(\\boldsymbol{X})$ is a function of random variables,\n",
    "$\\widehat{\\theta}$ itself must be a random variable. Thus it has\n",
    "a pdf, call this function $p(\\boldsymbol{t})$. The aim of the bootstrap is to\n",
    "estimate $p(\\boldsymbol{t})$ by the relative frequency of\n",
    "$\\widehat{\\theta}$. You can think of this as using a histogram\n",
    "in the place of $p(\\boldsymbol{t})$. If the relative frequency closely\n",
    "resembles $p(\\vec{t})$, then using numerics, it is straight forward to\n",
    "estimate all the interesting parameters of $p(\\boldsymbol{t})$ using point\n",
    "estimators.  \n",
    "\n",
    "\n",
    "## Resampling methods: More Bootstrap background\n",
    "\n",
    "In the case that $\\widehat{\\theta}$ has\n",
    "more than one component, and the components are independent, we use the\n",
    "same estimator on each component separately.  If the probability\n",
    "density function of $X_i$, $p(x)$, had been known, then it would have\n",
    "been straight forward to do this by: \n",
    "1. Drawing lots of numbers from $p(x)$, suppose we call one such set of numbers $(X_1^*, X_2^*, \\cdots, X_n^*)$. \n",
    "\n",
    "2. Then using these numbers, we could compute a replica of $\\widehat{\\theta}$ called $\\widehat{\\theta}^*$. \n",
    "\n",
    "By repeated use of (1) and (2), many\n",
    "estimates of $\\widehat{\\theta}$ could have been obtained. The\n",
    "idea is to use the relative frequency of $\\widehat{\\theta}^*$\n",
    "(think of a histogram) as an estimate of $p(\\boldsymbol{t})$.\n",
    "\n",
    "## Resampling methods: Bootstrap approach\n",
    "\n",
    "But\n",
    "unless there is enough information available about the process that\n",
    "generated $X_1,X_2,\\cdots,X_n$, $p(x)$ is in general\n",
    "unknown. Therefore, [Efron in 1979](https://projecteuclid.org/euclid.aos/1176344552)  asked the\n",
    "question: What if we replace $p(x)$ by the relative frequency\n",
    "of the observation $X_i$; if we draw observations in accordance with\n",
    "the relative frequency of the observations, will we obtain the same\n",
    "result in some asymptotic sense? The answer is yes.\n",
    "\n",
    "\n",
    "Instead of generating the histogram for the relative\n",
    "frequency of the observation $X_i$, just draw the values\n",
    "$(X_1^*,X_2^*,\\cdots,X_n^*)$ with replacement from the vector\n",
    "$\\boldsymbol{X}$. \n",
    "\n",
    "## Resampling methods: Bootstrap steps\n",
    "\n",
    "The independent bootstrap works like this: \n",
    "\n",
    "1. Draw with replacement $n$ numbers for the observed variables $\\boldsymbol{x} = (x_1,x_2,\\cdots,x_n)$. \n",
    "\n",
    "2. Define a vector $\\boldsymbol{x}^*$ containing the values which were drawn from $\\boldsymbol{x}$. \n",
    "\n",
    "3. Using the vector $\\boldsymbol{x}^*$ compute $\\widehat{\\theta}^*$ by evaluating $\\widehat \\theta$ under the observations $\\boldsymbol{x}^*$. \n",
    "\n",
    "4. Repeat this process $k$ times. \n",
    "\n",
    "When you are done, you can draw a histogram of the relative frequency\n",
    "of $\\widehat \\theta^*$. This is your estimate of the probability\n",
    "distribution $p(t)$. Using this probability distribution you can\n",
    "estimate any statistics thereof. In principle you never draw the\n",
    "histogram of the relative frequency of $\\widehat{\\theta}^*$. Instead\n",
    "you use the estimators corresponding to the statistic of interest. For\n",
    "example, if you are interested in estimating the variance of $\\widehat\n",
    "\\theta$, apply the etsimator $\\widehat \\sigma^2$ to the values\n",
    "$\\widehat \\theta ^*$.\n",
    "\n",
    "\n",
    "## Code example for the Bootstrap method\n",
    "\n",
    "The following code starts with a Gaussian distribution with mean value\n",
    "$\\mu =100$ and variance $\\sigma=15$. We use this to generate the data\n",
    "used in the bootstrap analysis. The bootstrap analysis returns a data\n",
    "set after a given number of bootstrap operations (as many as we have\n",
    "data points). This data set consists of estimated mean values for each\n",
    "bootstrap operation. The histogram generated by the bootstrap method\n",
    "shows that the distribution for these mean values is also a Gaussian,\n",
    "centered around the mean value $\\mu=100$ but with standard deviation\n",
    "$\\sigma/\\sqrt{n}$, where $n$ is the number of bootstrap samples (in\n",
    "this case the same as the number of original data points). The value\n",
    "of the standard deviation is what we expect from the central limit\n",
    "theorem."
   ]
  },
  {
   "cell_type": "code",
   "execution_count": 9,
   "metadata": {},
   "outputs": [
    {
     "name": "stdout",
     "output_type": "stream",
     "text": [
      "Runtime: 1.81767 sec\n",
      "Bootstrap Statistics :\n",
      "original           bias      std. error\n",
      " 99.6733  15.0211        99.6752        0.150716\n"
     ]
    },
    {
     "data": {
      "application/javascript": [
       "/* Put everything inside the global mpl namespace */\n",
       "window.mpl = {};\n",
       "\n",
       "\n",
       "mpl.get_websocket_type = function() {\n",
       "    if (typeof(WebSocket) !== 'undefined') {\n",
       "        return WebSocket;\n",
       "    } else if (typeof(MozWebSocket) !== 'undefined') {\n",
       "        return MozWebSocket;\n",
       "    } else {\n",
       "        alert('Your browser does not have WebSocket support. ' +\n",
       "              'Please try Chrome, Safari or Firefox ≥ 6. ' +\n",
       "              'Firefox 4 and 5 are also supported but you ' +\n",
       "              'have to enable WebSockets in about:config.');\n",
       "    };\n",
       "}\n",
       "\n",
       "mpl.figure = function(figure_id, websocket, ondownload, parent_element) {\n",
       "    this.id = figure_id;\n",
       "\n",
       "    this.ws = websocket;\n",
       "\n",
       "    this.supports_binary = (this.ws.binaryType != undefined);\n",
       "\n",
       "    if (!this.supports_binary) {\n",
       "        var warnings = document.getElementById(\"mpl-warnings\");\n",
       "        if (warnings) {\n",
       "            warnings.style.display = 'block';\n",
       "            warnings.textContent = (\n",
       "                \"This browser does not support binary websocket messages. \" +\n",
       "                    \"Performance may be slow.\");\n",
       "        }\n",
       "    }\n",
       "\n",
       "    this.imageObj = new Image();\n",
       "\n",
       "    this.context = undefined;\n",
       "    this.message = undefined;\n",
       "    this.canvas = undefined;\n",
       "    this.rubberband_canvas = undefined;\n",
       "    this.rubberband_context = undefined;\n",
       "    this.format_dropdown = undefined;\n",
       "\n",
       "    this.image_mode = 'full';\n",
       "\n",
       "    this.root = $('<div/>');\n",
       "    this._root_extra_style(this.root)\n",
       "    this.root.attr('style', 'display: inline-block');\n",
       "\n",
       "    $(parent_element).append(this.root);\n",
       "\n",
       "    this._init_header(this);\n",
       "    this._init_canvas(this);\n",
       "    this._init_toolbar(this);\n",
       "\n",
       "    var fig = this;\n",
       "\n",
       "    this.waiting = false;\n",
       "\n",
       "    this.ws.onopen =  function () {\n",
       "            fig.send_message(\"supports_binary\", {value: fig.supports_binary});\n",
       "            fig.send_message(\"send_image_mode\", {});\n",
       "            if (mpl.ratio != 1) {\n",
       "                fig.send_message(\"set_dpi_ratio\", {'dpi_ratio': mpl.ratio});\n",
       "            }\n",
       "            fig.send_message(\"refresh\", {});\n",
       "        }\n",
       "\n",
       "    this.imageObj.onload = function() {\n",
       "            if (fig.image_mode == 'full') {\n",
       "                // Full images could contain transparency (where diff images\n",
       "                // almost always do), so we need to clear the canvas so that\n",
       "                // there is no ghosting.\n",
       "                fig.context.clearRect(0, 0, fig.canvas.width, fig.canvas.height);\n",
       "            }\n",
       "            fig.context.drawImage(fig.imageObj, 0, 0);\n",
       "        };\n",
       "\n",
       "    this.imageObj.onunload = function() {\n",
       "        fig.ws.close();\n",
       "    }\n",
       "\n",
       "    this.ws.onmessage = this._make_on_message_function(this);\n",
       "\n",
       "    this.ondownload = ondownload;\n",
       "}\n",
       "\n",
       "mpl.figure.prototype._init_header = function() {\n",
       "    var titlebar = $(\n",
       "        '<div class=\"ui-dialog-titlebar ui-widget-header ui-corner-all ' +\n",
       "        'ui-helper-clearfix\"/>');\n",
       "    var titletext = $(\n",
       "        '<div class=\"ui-dialog-title\" style=\"width: 100%; ' +\n",
       "        'text-align: center; padding: 3px;\"/>');\n",
       "    titlebar.append(titletext)\n",
       "    this.root.append(titlebar);\n",
       "    this.header = titletext[0];\n",
       "}\n",
       "\n",
       "\n",
       "\n",
       "mpl.figure.prototype._canvas_extra_style = function(canvas_div) {\n",
       "\n",
       "}\n",
       "\n",
       "\n",
       "mpl.figure.prototype._root_extra_style = function(canvas_div) {\n",
       "\n",
       "}\n",
       "\n",
       "mpl.figure.prototype._init_canvas = function() {\n",
       "    var fig = this;\n",
       "\n",
       "    var canvas_div = $('<div/>');\n",
       "\n",
       "    canvas_div.attr('style', 'position: relative; clear: both; outline: 0');\n",
       "\n",
       "    function canvas_keyboard_event(event) {\n",
       "        return fig.key_event(event, event['data']);\n",
       "    }\n",
       "\n",
       "    canvas_div.keydown('key_press', canvas_keyboard_event);\n",
       "    canvas_div.keyup('key_release', canvas_keyboard_event);\n",
       "    this.canvas_div = canvas_div\n",
       "    this._canvas_extra_style(canvas_div)\n",
       "    this.root.append(canvas_div);\n",
       "\n",
       "    var canvas = $('<canvas/>');\n",
       "    canvas.addClass('mpl-canvas');\n",
       "    canvas.attr('style', \"left: 0; top: 0; z-index: 0; outline: 0\")\n",
       "\n",
       "    this.canvas = canvas[0];\n",
       "    this.context = canvas[0].getContext(\"2d\");\n",
       "\n",
       "    var backingStore = this.context.backingStorePixelRatio ||\n",
       "\tthis.context.webkitBackingStorePixelRatio ||\n",
       "\tthis.context.mozBackingStorePixelRatio ||\n",
       "\tthis.context.msBackingStorePixelRatio ||\n",
       "\tthis.context.oBackingStorePixelRatio ||\n",
       "\tthis.context.backingStorePixelRatio || 1;\n",
       "\n",
       "    mpl.ratio = (window.devicePixelRatio || 1) / backingStore;\n",
       "\n",
       "    var rubberband = $('<canvas/>');\n",
       "    rubberband.attr('style', \"position: absolute; left: 0; top: 0; z-index: 1;\")\n",
       "\n",
       "    var pass_mouse_events = true;\n",
       "\n",
       "    canvas_div.resizable({\n",
       "        start: function(event, ui) {\n",
       "            pass_mouse_events = false;\n",
       "        },\n",
       "        resize: function(event, ui) {\n",
       "            fig.request_resize(ui.size.width, ui.size.height);\n",
       "        },\n",
       "        stop: function(event, ui) {\n",
       "            pass_mouse_events = true;\n",
       "            fig.request_resize(ui.size.width, ui.size.height);\n",
       "        },\n",
       "    });\n",
       "\n",
       "    function mouse_event_fn(event) {\n",
       "        if (pass_mouse_events)\n",
       "            return fig.mouse_event(event, event['data']);\n",
       "    }\n",
       "\n",
       "    rubberband.mousedown('button_press', mouse_event_fn);\n",
       "    rubberband.mouseup('button_release', mouse_event_fn);\n",
       "    // Throttle sequential mouse events to 1 every 20ms.\n",
       "    rubberband.mousemove('motion_notify', mouse_event_fn);\n",
       "\n",
       "    rubberband.mouseenter('figure_enter', mouse_event_fn);\n",
       "    rubberband.mouseleave('figure_leave', mouse_event_fn);\n",
       "\n",
       "    canvas_div.on(\"wheel\", function (event) {\n",
       "        event = event.originalEvent;\n",
       "        event['data'] = 'scroll'\n",
       "        if (event.deltaY < 0) {\n",
       "            event.step = 1;\n",
       "        } else {\n",
       "            event.step = -1;\n",
       "        }\n",
       "        mouse_event_fn(event);\n",
       "    });\n",
       "\n",
       "    canvas_div.append(canvas);\n",
       "    canvas_div.append(rubberband);\n",
       "\n",
       "    this.rubberband = rubberband;\n",
       "    this.rubberband_canvas = rubberband[0];\n",
       "    this.rubberband_context = rubberband[0].getContext(\"2d\");\n",
       "    this.rubberband_context.strokeStyle = \"#000000\";\n",
       "\n",
       "    this._resize_canvas = function(width, height) {\n",
       "        // Keep the size of the canvas, canvas container, and rubber band\n",
       "        // canvas in synch.\n",
       "        canvas_div.css('width', width)\n",
       "        canvas_div.css('height', height)\n",
       "\n",
       "        canvas.attr('width', width * mpl.ratio);\n",
       "        canvas.attr('height', height * mpl.ratio);\n",
       "        canvas.attr('style', 'width: ' + width + 'px; height: ' + height + 'px;');\n",
       "\n",
       "        rubberband.attr('width', width);\n",
       "        rubberband.attr('height', height);\n",
       "    }\n",
       "\n",
       "    // Set the figure to an initial 600x600px, this will subsequently be updated\n",
       "    // upon first draw.\n",
       "    this._resize_canvas(600, 600);\n",
       "\n",
       "    // Disable right mouse context menu.\n",
       "    $(this.rubberband_canvas).bind(\"contextmenu\",function(e){\n",
       "        return false;\n",
       "    });\n",
       "\n",
       "    function set_focus () {\n",
       "        canvas.focus();\n",
       "        canvas_div.focus();\n",
       "    }\n",
       "\n",
       "    window.setTimeout(set_focus, 100);\n",
       "}\n",
       "\n",
       "mpl.figure.prototype._init_toolbar = function() {\n",
       "    var fig = this;\n",
       "\n",
       "    var nav_element = $('<div/>');\n",
       "    nav_element.attr('style', 'width: 100%');\n",
       "    this.root.append(nav_element);\n",
       "\n",
       "    // Define a callback function for later on.\n",
       "    function toolbar_event(event) {\n",
       "        return fig.toolbar_button_onclick(event['data']);\n",
       "    }\n",
       "    function toolbar_mouse_event(event) {\n",
       "        return fig.toolbar_button_onmouseover(event['data']);\n",
       "    }\n",
       "\n",
       "    for(var toolbar_ind in mpl.toolbar_items) {\n",
       "        var name = mpl.toolbar_items[toolbar_ind][0];\n",
       "        var tooltip = mpl.toolbar_items[toolbar_ind][1];\n",
       "        var image = mpl.toolbar_items[toolbar_ind][2];\n",
       "        var method_name = mpl.toolbar_items[toolbar_ind][3];\n",
       "\n",
       "        if (!name) {\n",
       "            // put a spacer in here.\n",
       "            continue;\n",
       "        }\n",
       "        var button = $('<button/>');\n",
       "        button.addClass('ui-button ui-widget ui-state-default ui-corner-all ' +\n",
       "                        'ui-button-icon-only');\n",
       "        button.attr('role', 'button');\n",
       "        button.attr('aria-disabled', 'false');\n",
       "        button.click(method_name, toolbar_event);\n",
       "        button.mouseover(tooltip, toolbar_mouse_event);\n",
       "\n",
       "        var icon_img = $('<span/>');\n",
       "        icon_img.addClass('ui-button-icon-primary ui-icon');\n",
       "        icon_img.addClass(image);\n",
       "        icon_img.addClass('ui-corner-all');\n",
       "\n",
       "        var tooltip_span = $('<span/>');\n",
       "        tooltip_span.addClass('ui-button-text');\n",
       "        tooltip_span.html(tooltip);\n",
       "\n",
       "        button.append(icon_img);\n",
       "        button.append(tooltip_span);\n",
       "\n",
       "        nav_element.append(button);\n",
       "    }\n",
       "\n",
       "    var fmt_picker_span = $('<span/>');\n",
       "\n",
       "    var fmt_picker = $('<select/>');\n",
       "    fmt_picker.addClass('mpl-toolbar-option ui-widget ui-widget-content');\n",
       "    fmt_picker_span.append(fmt_picker);\n",
       "    nav_element.append(fmt_picker_span);\n",
       "    this.format_dropdown = fmt_picker[0];\n",
       "\n",
       "    for (var ind in mpl.extensions) {\n",
       "        var fmt = mpl.extensions[ind];\n",
       "        var option = $(\n",
       "            '<option/>', {selected: fmt === mpl.default_extension}).html(fmt);\n",
       "        fmt_picker.append(option);\n",
       "    }\n",
       "\n",
       "    // Add hover states to the ui-buttons\n",
       "    $( \".ui-button\" ).hover(\n",
       "        function() { $(this).addClass(\"ui-state-hover\");},\n",
       "        function() { $(this).removeClass(\"ui-state-hover\");}\n",
       "    );\n",
       "\n",
       "    var status_bar = $('<span class=\"mpl-message\"/>');\n",
       "    nav_element.append(status_bar);\n",
       "    this.message = status_bar[0];\n",
       "}\n",
       "\n",
       "mpl.figure.prototype.request_resize = function(x_pixels, y_pixels) {\n",
       "    // Request matplotlib to resize the figure. Matplotlib will then trigger a resize in the client,\n",
       "    // which will in turn request a refresh of the image.\n",
       "    this.send_message('resize', {'width': x_pixels, 'height': y_pixels});\n",
       "}\n",
       "\n",
       "mpl.figure.prototype.send_message = function(type, properties) {\n",
       "    properties['type'] = type;\n",
       "    properties['figure_id'] = this.id;\n",
       "    this.ws.send(JSON.stringify(properties));\n",
       "}\n",
       "\n",
       "mpl.figure.prototype.send_draw_message = function() {\n",
       "    if (!this.waiting) {\n",
       "        this.waiting = true;\n",
       "        this.ws.send(JSON.stringify({type: \"draw\", figure_id: this.id}));\n",
       "    }\n",
       "}\n",
       "\n",
       "\n",
       "mpl.figure.prototype.handle_save = function(fig, msg) {\n",
       "    var format_dropdown = fig.format_dropdown;\n",
       "    var format = format_dropdown.options[format_dropdown.selectedIndex].value;\n",
       "    fig.ondownload(fig, format);\n",
       "}\n",
       "\n",
       "\n",
       "mpl.figure.prototype.handle_resize = function(fig, msg) {\n",
       "    var size = msg['size'];\n",
       "    if (size[0] != fig.canvas.width || size[1] != fig.canvas.height) {\n",
       "        fig._resize_canvas(size[0], size[1]);\n",
       "        fig.send_message(\"refresh\", {});\n",
       "    };\n",
       "}\n",
       "\n",
       "mpl.figure.prototype.handle_rubberband = function(fig, msg) {\n",
       "    var x0 = msg['x0'] / mpl.ratio;\n",
       "    var y0 = (fig.canvas.height - msg['y0']) / mpl.ratio;\n",
       "    var x1 = msg['x1'] / mpl.ratio;\n",
       "    var y1 = (fig.canvas.height - msg['y1']) / mpl.ratio;\n",
       "    x0 = Math.floor(x0) + 0.5;\n",
       "    y0 = Math.floor(y0) + 0.5;\n",
       "    x1 = Math.floor(x1) + 0.5;\n",
       "    y1 = Math.floor(y1) + 0.5;\n",
       "    var min_x = Math.min(x0, x1);\n",
       "    var min_y = Math.min(y0, y1);\n",
       "    var width = Math.abs(x1 - x0);\n",
       "    var height = Math.abs(y1 - y0);\n",
       "\n",
       "    fig.rubberband_context.clearRect(\n",
       "        0, 0, fig.canvas.width / mpl.ratio, fig.canvas.height / mpl.ratio);\n",
       "\n",
       "    fig.rubberband_context.strokeRect(min_x, min_y, width, height);\n",
       "}\n",
       "\n",
       "mpl.figure.prototype.handle_figure_label = function(fig, msg) {\n",
       "    // Updates the figure title.\n",
       "    fig.header.textContent = msg['label'];\n",
       "}\n",
       "\n",
       "mpl.figure.prototype.handle_cursor = function(fig, msg) {\n",
       "    var cursor = msg['cursor'];\n",
       "    switch(cursor)\n",
       "    {\n",
       "    case 0:\n",
       "        cursor = 'pointer';\n",
       "        break;\n",
       "    case 1:\n",
       "        cursor = 'default';\n",
       "        break;\n",
       "    case 2:\n",
       "        cursor = 'crosshair';\n",
       "        break;\n",
       "    case 3:\n",
       "        cursor = 'move';\n",
       "        break;\n",
       "    }\n",
       "    fig.rubberband_canvas.style.cursor = cursor;\n",
       "}\n",
       "\n",
       "mpl.figure.prototype.handle_message = function(fig, msg) {\n",
       "    fig.message.textContent = msg['message'];\n",
       "}\n",
       "\n",
       "mpl.figure.prototype.handle_draw = function(fig, msg) {\n",
       "    // Request the server to send over a new figure.\n",
       "    fig.send_draw_message();\n",
       "}\n",
       "\n",
       "mpl.figure.prototype.handle_image_mode = function(fig, msg) {\n",
       "    fig.image_mode = msg['mode'];\n",
       "}\n",
       "\n",
       "mpl.figure.prototype.updated_canvas_event = function() {\n",
       "    // Called whenever the canvas gets updated.\n",
       "    this.send_message(\"ack\", {});\n",
       "}\n",
       "\n",
       "// A function to construct a web socket function for onmessage handling.\n",
       "// Called in the figure constructor.\n",
       "mpl.figure.prototype._make_on_message_function = function(fig) {\n",
       "    return function socket_on_message(evt) {\n",
       "        if (evt.data instanceof Blob) {\n",
       "            /* FIXME: We get \"Resource interpreted as Image but\n",
       "             * transferred with MIME type text/plain:\" errors on\n",
       "             * Chrome.  But how to set the MIME type?  It doesn't seem\n",
       "             * to be part of the websocket stream */\n",
       "            evt.data.type = \"image/png\";\n",
       "\n",
       "            /* Free the memory for the previous frames */\n",
       "            if (fig.imageObj.src) {\n",
       "                (window.URL || window.webkitURL).revokeObjectURL(\n",
       "                    fig.imageObj.src);\n",
       "            }\n",
       "\n",
       "            fig.imageObj.src = (window.URL || window.webkitURL).createObjectURL(\n",
       "                evt.data);\n",
       "            fig.updated_canvas_event();\n",
       "            fig.waiting = false;\n",
       "            return;\n",
       "        }\n",
       "        else if (typeof evt.data === 'string' && evt.data.slice(0, 21) == \"data:image/png;base64\") {\n",
       "            fig.imageObj.src = evt.data;\n",
       "            fig.updated_canvas_event();\n",
       "            fig.waiting = false;\n",
       "            return;\n",
       "        }\n",
       "\n",
       "        var msg = JSON.parse(evt.data);\n",
       "        var msg_type = msg['type'];\n",
       "\n",
       "        // Call the  \"handle_{type}\" callback, which takes\n",
       "        // the figure and JSON message as its only arguments.\n",
       "        try {\n",
       "            var callback = fig[\"handle_\" + msg_type];\n",
       "        } catch (e) {\n",
       "            console.log(\"No handler for the '\" + msg_type + \"' message type: \", msg);\n",
       "            return;\n",
       "        }\n",
       "\n",
       "        if (callback) {\n",
       "            try {\n",
       "                // console.log(\"Handling '\" + msg_type + \"' message: \", msg);\n",
       "                callback(fig, msg);\n",
       "            } catch (e) {\n",
       "                console.log(\"Exception inside the 'handler_\" + msg_type + \"' callback:\", e, e.stack, msg);\n",
       "            }\n",
       "        }\n",
       "    };\n",
       "}\n",
       "\n",
       "// from http://stackoverflow.com/questions/1114465/getting-mouse-location-in-canvas\n",
       "mpl.findpos = function(e) {\n",
       "    //this section is from http://www.quirksmode.org/js/events_properties.html\n",
       "    var targ;\n",
       "    if (!e)\n",
       "        e = window.event;\n",
       "    if (e.target)\n",
       "        targ = e.target;\n",
       "    else if (e.srcElement)\n",
       "        targ = e.srcElement;\n",
       "    if (targ.nodeType == 3) // defeat Safari bug\n",
       "        targ = targ.parentNode;\n",
       "\n",
       "    // jQuery normalizes the pageX and pageY\n",
       "    // pageX,Y are the mouse positions relative to the document\n",
       "    // offset() returns the position of the element relative to the document\n",
       "    var x = e.pageX - $(targ).offset().left;\n",
       "    var y = e.pageY - $(targ).offset().top;\n",
       "\n",
       "    return {\"x\": x, \"y\": y};\n",
       "};\n",
       "\n",
       "/*\n",
       " * return a copy of an object with only non-object keys\n",
       " * we need this to avoid circular references\n",
       " * http://stackoverflow.com/a/24161582/3208463\n",
       " */\n",
       "function simpleKeys (original) {\n",
       "  return Object.keys(original).reduce(function (obj, key) {\n",
       "    if (typeof original[key] !== 'object')\n",
       "        obj[key] = original[key]\n",
       "    return obj;\n",
       "  }, {});\n",
       "}\n",
       "\n",
       "mpl.figure.prototype.mouse_event = function(event, name) {\n",
       "    var canvas_pos = mpl.findpos(event)\n",
       "\n",
       "    if (name === 'button_press')\n",
       "    {\n",
       "        this.canvas.focus();\n",
       "        this.canvas_div.focus();\n",
       "    }\n",
       "\n",
       "    var x = canvas_pos.x * mpl.ratio;\n",
       "    var y = canvas_pos.y * mpl.ratio;\n",
       "\n",
       "    this.send_message(name, {x: x, y: y, button: event.button,\n",
       "                             step: event.step,\n",
       "                             guiEvent: simpleKeys(event)});\n",
       "\n",
       "    /* This prevents the web browser from automatically changing to\n",
       "     * the text insertion cursor when the button is pressed.  We want\n",
       "     * to control all of the cursor setting manually through the\n",
       "     * 'cursor' event from matplotlib */\n",
       "    event.preventDefault();\n",
       "    return false;\n",
       "}\n",
       "\n",
       "mpl.figure.prototype._key_event_extra = function(event, name) {\n",
       "    // Handle any extra behaviour associated with a key event\n",
       "}\n",
       "\n",
       "mpl.figure.prototype.key_event = function(event, name) {\n",
       "\n",
       "    // Prevent repeat events\n",
       "    if (name == 'key_press')\n",
       "    {\n",
       "        if (event.which === this._key)\n",
       "            return;\n",
       "        else\n",
       "            this._key = event.which;\n",
       "    }\n",
       "    if (name == 'key_release')\n",
       "        this._key = null;\n",
       "\n",
       "    var value = '';\n",
       "    if (event.ctrlKey && event.which != 17)\n",
       "        value += \"ctrl+\";\n",
       "    if (event.altKey && event.which != 18)\n",
       "        value += \"alt+\";\n",
       "    if (event.shiftKey && event.which != 16)\n",
       "        value += \"shift+\";\n",
       "\n",
       "    value += 'k';\n",
       "    value += event.which.toString();\n",
       "\n",
       "    this._key_event_extra(event, name);\n",
       "\n",
       "    this.send_message(name, {key: value,\n",
       "                             guiEvent: simpleKeys(event)});\n",
       "    return false;\n",
       "}\n",
       "\n",
       "mpl.figure.prototype.toolbar_button_onclick = function(name) {\n",
       "    if (name == 'download') {\n",
       "        this.handle_save(this, null);\n",
       "    } else {\n",
       "        this.send_message(\"toolbar_button\", {name: name});\n",
       "    }\n",
       "};\n",
       "\n",
       "mpl.figure.prototype.toolbar_button_onmouseover = function(tooltip) {\n",
       "    this.message.textContent = tooltip;\n",
       "};\n",
       "mpl.toolbar_items = [[\"Home\", \"Reset original view\", \"fa fa-home icon-home\", \"home\"], [\"Back\", \"Back to previous view\", \"fa fa-arrow-left icon-arrow-left\", \"back\"], [\"Forward\", \"Forward to next view\", \"fa fa-arrow-right icon-arrow-right\", \"forward\"], [\"\", \"\", \"\", \"\"], [\"Pan\", \"Pan axes with left mouse, zoom with right\", \"fa fa-arrows icon-move\", \"pan\"], [\"Zoom\", \"Zoom to rectangle\", \"fa fa-square-o icon-check-empty\", \"zoom\"], [\"\", \"\", \"\", \"\"], [\"Download\", \"Download plot\", \"fa fa-floppy-o icon-save\", \"download\"]];\n",
       "\n",
       "mpl.extensions = [\"eps\", \"jpeg\", \"pdf\", \"png\", \"ps\", \"raw\", \"svg\", \"tif\"];\n",
       "\n",
       "mpl.default_extension = \"png\";var comm_websocket_adapter = function(comm) {\n",
       "    // Create a \"websocket\"-like object which calls the given IPython comm\n",
       "    // object with the appropriate methods. Currently this is a non binary\n",
       "    // socket, so there is still some room for performance tuning.\n",
       "    var ws = {};\n",
       "\n",
       "    ws.close = function() {\n",
       "        comm.close()\n",
       "    };\n",
       "    ws.send = function(m) {\n",
       "        //console.log('sending', m);\n",
       "        comm.send(m);\n",
       "    };\n",
       "    // Register the callback with on_msg.\n",
       "    comm.on_msg(function(msg) {\n",
       "        //console.log('receiving', msg['content']['data'], msg);\n",
       "        // Pass the mpl event to the overridden (by mpl) onmessage function.\n",
       "        ws.onmessage(msg['content']['data'])\n",
       "    });\n",
       "    return ws;\n",
       "}\n",
       "\n",
       "mpl.mpl_figure_comm = function(comm, msg) {\n",
       "    // This is the function which gets called when the mpl process\n",
       "    // starts-up an IPython Comm through the \"matplotlib\" channel.\n",
       "\n",
       "    var id = msg.content.data.id;\n",
       "    // Get hold of the div created by the display call when the Comm\n",
       "    // socket was opened in Python.\n",
       "    var element = $(\"#\" + id);\n",
       "    var ws_proxy = comm_websocket_adapter(comm)\n",
       "\n",
       "    function ondownload(figure, format) {\n",
       "        window.open(figure.imageObj.src);\n",
       "    }\n",
       "\n",
       "    var fig = new mpl.figure(id, ws_proxy,\n",
       "                           ondownload,\n",
       "                           element.get(0));\n",
       "\n",
       "    // Call onopen now - mpl needs it, as it is assuming we've passed it a real\n",
       "    // web socket which is closed, not our websocket->open comm proxy.\n",
       "    ws_proxy.onopen();\n",
       "\n",
       "    fig.parent_element = element.get(0);\n",
       "    fig.cell_info = mpl.find_output_cell(\"<div id='\" + id + \"'></div>\");\n",
       "    if (!fig.cell_info) {\n",
       "        console.error(\"Failed to find cell for figure\", id, fig);\n",
       "        return;\n",
       "    }\n",
       "\n",
       "    var output_index = fig.cell_info[2]\n",
       "    var cell = fig.cell_info[0];\n",
       "\n",
       "};\n",
       "\n",
       "mpl.figure.prototype.handle_close = function(fig, msg) {\n",
       "    var width = fig.canvas.width/mpl.ratio\n",
       "    fig.root.unbind('remove')\n",
       "\n",
       "    // Update the output cell to use the data from the current canvas.\n",
       "    fig.push_to_output();\n",
       "    var dataURL = fig.canvas.toDataURL();\n",
       "    // Re-enable the keyboard manager in IPython - without this line, in FF,\n",
       "    // the notebook keyboard shortcuts fail.\n",
       "    IPython.keyboard_manager.enable()\n",
       "    $(fig.parent_element).html('<img src=\"' + dataURL + '\" width=\"' + width + '\">');\n",
       "    fig.close_ws(fig, msg);\n",
       "}\n",
       "\n",
       "mpl.figure.prototype.close_ws = function(fig, msg){\n",
       "    fig.send_message('closing', msg);\n",
       "    // fig.ws.close()\n",
       "}\n",
       "\n",
       "mpl.figure.prototype.push_to_output = function(remove_interactive) {\n",
       "    // Turn the data on the canvas into data in the output cell.\n",
       "    var width = this.canvas.width/mpl.ratio\n",
       "    var dataURL = this.canvas.toDataURL();\n",
       "    this.cell_info[1]['text/html'] = '<img src=\"' + dataURL + '\" width=\"' + width + '\">';\n",
       "}\n",
       "\n",
       "mpl.figure.prototype.updated_canvas_event = function() {\n",
       "    // Tell IPython that the notebook contents must change.\n",
       "    IPython.notebook.set_dirty(true);\n",
       "    this.send_message(\"ack\", {});\n",
       "    var fig = this;\n",
       "    // Wait a second, then push the new image to the DOM so\n",
       "    // that it is saved nicely (might be nice to debounce this).\n",
       "    setTimeout(function () { fig.push_to_output() }, 1000);\n",
       "}\n",
       "\n",
       "mpl.figure.prototype._init_toolbar = function() {\n",
       "    var fig = this;\n",
       "\n",
       "    var nav_element = $('<div/>');\n",
       "    nav_element.attr('style', 'width: 100%');\n",
       "    this.root.append(nav_element);\n",
       "\n",
       "    // Define a callback function for later on.\n",
       "    function toolbar_event(event) {\n",
       "        return fig.toolbar_button_onclick(event['data']);\n",
       "    }\n",
       "    function toolbar_mouse_event(event) {\n",
       "        return fig.toolbar_button_onmouseover(event['data']);\n",
       "    }\n",
       "\n",
       "    for(var toolbar_ind in mpl.toolbar_items){\n",
       "        var name = mpl.toolbar_items[toolbar_ind][0];\n",
       "        var tooltip = mpl.toolbar_items[toolbar_ind][1];\n",
       "        var image = mpl.toolbar_items[toolbar_ind][2];\n",
       "        var method_name = mpl.toolbar_items[toolbar_ind][3];\n",
       "\n",
       "        if (!name) { continue; };\n",
       "\n",
       "        var button = $('<button class=\"btn btn-default\" href=\"#\" title=\"' + name + '\"><i class=\"fa ' + image + ' fa-lg\"></i></button>');\n",
       "        button.click(method_name, toolbar_event);\n",
       "        button.mouseover(tooltip, toolbar_mouse_event);\n",
       "        nav_element.append(button);\n",
       "    }\n",
       "\n",
       "    // Add the status bar.\n",
       "    var status_bar = $('<span class=\"mpl-message\" style=\"text-align:right; float: right;\"/>');\n",
       "    nav_element.append(status_bar);\n",
       "    this.message = status_bar[0];\n",
       "\n",
       "    // Add the close button to the window.\n",
       "    var buttongrp = $('<div class=\"btn-group inline pull-right\"></div>');\n",
       "    var button = $('<button class=\"btn btn-mini btn-primary\" href=\"#\" title=\"Stop Interaction\"><i class=\"fa fa-power-off icon-remove icon-large\"></i></button>');\n",
       "    button.click(function (evt) { fig.handle_close(fig, {}); } );\n",
       "    button.mouseover('Stop Interaction', toolbar_mouse_event);\n",
       "    buttongrp.append(button);\n",
       "    var titlebar = this.root.find($('.ui-dialog-titlebar'));\n",
       "    titlebar.prepend(buttongrp);\n",
       "}\n",
       "\n",
       "mpl.figure.prototype._root_extra_style = function(el){\n",
       "    var fig = this\n",
       "    el.on(\"remove\", function(){\n",
       "\tfig.close_ws(fig, {});\n",
       "    });\n",
       "}\n",
       "\n",
       "mpl.figure.prototype._canvas_extra_style = function(el){\n",
       "    // this is important to make the div 'focusable\n",
       "    el.attr('tabindex', 0)\n",
       "    // reach out to IPython and tell the keyboard manager to turn it's self\n",
       "    // off when our div gets focus\n",
       "\n",
       "    // location in version 3\n",
       "    if (IPython.notebook.keyboard_manager) {\n",
       "        IPython.notebook.keyboard_manager.register_events(el);\n",
       "    }\n",
       "    else {\n",
       "        // location in version 2\n",
       "        IPython.keyboard_manager.register_events(el);\n",
       "    }\n",
       "\n",
       "}\n",
       "\n",
       "mpl.figure.prototype._key_event_extra = function(event, name) {\n",
       "    var manager = IPython.notebook.keyboard_manager;\n",
       "    if (!manager)\n",
       "        manager = IPython.keyboard_manager;\n",
       "\n",
       "    // Check for shift+enter\n",
       "    if (event.shiftKey && event.which == 13) {\n",
       "        this.canvas_div.blur();\n",
       "        event.shiftKey = false;\n",
       "        // Send a \"J\" for go to next cell\n",
       "        event.which = 74;\n",
       "        event.keyCode = 74;\n",
       "        manager.command_mode();\n",
       "        manager.handle_keydown(event);\n",
       "    }\n",
       "}\n",
       "\n",
       "mpl.figure.prototype.handle_save = function(fig, msg) {\n",
       "    fig.ondownload(fig, null);\n",
       "}\n",
       "\n",
       "\n",
       "mpl.find_output_cell = function(html_output) {\n",
       "    // Return the cell and output element which can be found *uniquely* in the notebook.\n",
       "    // Note - this is a bit hacky, but it is done because the \"notebook_saving.Notebook\"\n",
       "    // IPython event is triggered only after the cells have been serialised, which for\n",
       "    // our purposes (turning an active figure into a static one), is too late.\n",
       "    var cells = IPython.notebook.get_cells();\n",
       "    var ncells = cells.length;\n",
       "    for (var i=0; i<ncells; i++) {\n",
       "        var cell = cells[i];\n",
       "        if (cell.cell_type === 'code'){\n",
       "            for (var j=0; j<cell.output_area.outputs.length; j++) {\n",
       "                var data = cell.output_area.outputs[j];\n",
       "                if (data.data) {\n",
       "                    // IPython >= 3 moved mimebundle to data attribute of output\n",
       "                    data = data.data;\n",
       "                }\n",
       "                if (data['text/html'] == html_output) {\n",
       "                    return [cell, data, j];\n",
       "                }\n",
       "            }\n",
       "        }\n",
       "    }\n",
       "}\n",
       "\n",
       "// Register the function which deals with the matplotlib target/channel.\n",
       "// The kernel may be null if the page has been refreshed.\n",
       "if (IPython.notebook.kernel != null) {\n",
       "    IPython.notebook.kernel.comm_manager.register_target('matplotlib', mpl.mpl_figure_comm);\n",
       "}\n"
      ],
      "text/plain": [
       "<IPython.core.display.Javascript object>"
      ]
     },
     "metadata": {},
     "output_type": "display_data"
    },
    {
     "data": {
      "text/html": [
       "<img src=\"data:image/png;base64,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\" width=\"640\">"
      ],
      "text/plain": [
       "<IPython.core.display.HTML object>"
      ]
     },
     "metadata": {},
     "output_type": "display_data"
    },
    {
     "name": "stderr",
     "output_type": "stream",
     "text": [
      "/Library/Frameworks/Python.framework/Versions/3.7/lib/python3.7/site-packages/ipykernel_launcher.py:32: MatplotlibDeprecationWarning: \n",
      "The 'normed' kwarg was deprecated in Matplotlib 2.1 and will be removed in 3.1. Use 'density' instead.\n"
     ]
    },
    {
     "ename": "AttributeError",
     "evalue": "module 'matplotlib.mlab' has no attribute 'normpdf'",
     "output_type": "error",
     "traceback": [
      "\u001b[0;31m---------------------------------------------------------------------------\u001b[0m",
      "\u001b[0;31mAttributeError\u001b[0m                            Traceback (most recent call last)",
      "\u001b[0;32m<ipython-input-9-fa1c29e27eb5>\u001b[0m in \u001b[0;36m<module>\u001b[0;34m\u001b[0m\n\u001b[1;32m     33\u001b[0m \u001b[0;34m\u001b[0m\u001b[0m\n\u001b[1;32m     34\u001b[0m \u001b[0;31m# add a 'best fit' line\u001b[0m\u001b[0;34m\u001b[0m\u001b[0;34m\u001b[0m\u001b[0;34m\u001b[0m\u001b[0m\n\u001b[0;32m---> 35\u001b[0;31m \u001b[0my\u001b[0m \u001b[0;34m=\u001b[0m \u001b[0mmlab\u001b[0m\u001b[0;34m.\u001b[0m\u001b[0mnormpdf\u001b[0m\u001b[0;34m(\u001b[0m \u001b[0mbinsboot\u001b[0m\u001b[0;34m,\u001b[0m \u001b[0mmean\u001b[0m\u001b[0;34m(\u001b[0m\u001b[0mt\u001b[0m\u001b[0;34m)\u001b[0m\u001b[0;34m,\u001b[0m \u001b[0mstd\u001b[0m\u001b[0;34m(\u001b[0m\u001b[0mt\u001b[0m\u001b[0;34m)\u001b[0m\u001b[0;34m)\u001b[0m\u001b[0;34m\u001b[0m\u001b[0;34m\u001b[0m\u001b[0m\n\u001b[0m\u001b[1;32m     36\u001b[0m \u001b[0mlt\u001b[0m \u001b[0;34m=\u001b[0m \u001b[0mplt\u001b[0m\u001b[0;34m.\u001b[0m\u001b[0mplot\u001b[0m\u001b[0;34m(\u001b[0m\u001b[0mbinsboot\u001b[0m\u001b[0;34m,\u001b[0m \u001b[0my\u001b[0m\u001b[0;34m,\u001b[0m \u001b[0;34m'r--'\u001b[0m\u001b[0;34m,\u001b[0m \u001b[0mlinewidth\u001b[0m\u001b[0;34m=\u001b[0m\u001b[0;36m1\u001b[0m\u001b[0;34m)\u001b[0m\u001b[0;34m\u001b[0m\u001b[0;34m\u001b[0m\u001b[0m\n\u001b[1;32m     37\u001b[0m \u001b[0mplt\u001b[0m\u001b[0;34m.\u001b[0m\u001b[0mxlabel\u001b[0m\u001b[0;34m(\u001b[0m\u001b[0;34m'Smarts'\u001b[0m\u001b[0;34m)\u001b[0m\u001b[0;34m\u001b[0m\u001b[0;34m\u001b[0m\u001b[0m\n",
      "\u001b[0;31mAttributeError\u001b[0m: module 'matplotlib.mlab' has no attribute 'normpdf'"
     ]
    }
   ],
   "source": [
    "from numpy import *\n",
    "from numpy.random import randint, randn\n",
    "from time import time\n",
    "import matplotlib.mlab as mlab\n",
    "import matplotlib.pyplot as plt\n",
    "%matplotlib notebook\n",
    "\n",
    "# Returns mean of bootstrap samples                                                                                                                                                \n",
    "def stat(data):\n",
    "    return mean(data)\n",
    "\n",
    "# Bootstrap algorithm\n",
    "def bootstrap(data, statistic, R):\n",
    "    t = zeros(R); n = len(data); inds = arange(n); t0 = time()\n",
    "    # non-parametric bootstrap         \n",
    "    for i in range(R):\n",
    "        t[i] = statistic(data[randint(0,n,n)])\n",
    "\n",
    "    # analysis    \n",
    "    print(\"Runtime: %g sec\" % (time()-t0)); print(\"Bootstrap Statistics :\")\n",
    "    print(\"original           bias      std. error\")\n",
    "    print(\"%8g %8g %14g %15g\" % (statistic(data), std(data),mean(t),std(t)))\n",
    "    return t\n",
    "\n",
    "\n",
    "mu, sigma = 100, 15\n",
    "datapoints = 10000\n",
    "x = mu + sigma*random.randn(datapoints)\n",
    "# bootstrap returns the data sample                                    \n",
    "t = bootstrap(x, stat, datapoints)\n",
    "# the histogram of the bootstrapped  data                                                                                                    \n",
    "n, binsboot, patches = plt.hist(t, 50, normed=1, facecolor='red', alpha=0.75)\n",
    "\n",
    "# add a 'best fit' line  \n",
    "y = mlab.normpdf( binsboot, mean(t), std(t))\n",
    "lt = plt.plot(binsboot, y, 'r--', linewidth=1)\n",
    "plt.xlabel('Smarts')\n",
    "plt.ylabel('Probability')\n",
    "plt.axis([99.5, 100.6, 0, 3.0])\n",
    "plt.grid(True)\n",
    "\n",
    "plt.show()"
   ]
  },
  {
   "cell_type": "markdown",
   "metadata": {},
   "source": [
    "## Code Example for Cross-validation and $k$-fold Cross-validation\n",
    "\n",
    "The code here uses Ridge regression with cross-validation (CV)  resampling and $k$-fold CV in order to fit a specific polynomial."
   ]
  },
  {
   "cell_type": "code",
   "execution_count": 26,
   "metadata": {},
   "outputs": [],
   "source": [
    "import numpy as np\n",
    "import matplotlib.pyplot as plt\n",
    "from sklearn.model_selection import KFold\n",
    "from sklearn.linear_model import Ridge\n",
    "from sklearn.model_selection import cross_val_score\n",
    "from sklearn.preprocessing import PolynomialFeatures\n",
    "\n",
    "# A seed just to ensure that the random numbers are the same for every run.\n",
    "# Useful for eventual debugging.\n",
    "np.random.seed(3155)\n",
    "\n",
    "# Generate the data.\n",
    "nsamples = 100\n",
    "x = np.random.randn(nsamples)\n",
    "y = 3*x**2 + np.random.randn(nsamples)\n",
    "\n",
    "## Cross-validation on Ridge regression using KFold only\n",
    "\n",
    "# Decide degree on polynomial to fit\n",
    "poly = PolynomialFeatures(degree = 6)\n",
    "\n",
    "# Decide which values of lambda to use\n",
    "nlambdas = 500\n",
    "lambdas = np.logspace(-3, 5, nlambdas)\n",
    "\n",
    "# Initialize a KFold instance\n",
    "k = 5\n",
    "kfold = KFold(n_splits = k)\n",
    "\n",
    "# Perform the cross-validation to estimate MSE\n",
    "scores_KFold = np.zeros((nlambdas, k))\n",
    "\n",
    "i = 0\n",
    "for lmb in lambdas:\n",
    "    ridge = Ridge(alpha = lmb)\n",
    "    j = 0\n",
    "    for train_inds, test_inds in kfold.split(x):\n",
    "        xtrain = x[train_inds]\n",
    "        ytrain = y[train_inds]\n",
    "\n",
    "        xtest = x[test_inds]\n",
    "        ytest = y[test_inds]\n",
    "\n",
    "        Xtrain = poly.fit_transform(xtrain[:, np.newaxis])\n",
    "        ridge.fit(Xtrain, ytrain[:, np.newaxis])\n",
    "\n",
    "        Xtest = poly.fit_transform(xtest[:, np.newaxis])\n",
    "        ypred = ridge.predict(Xtest)\n",
    "\n",
    "        scores_KFold[i,j] = np.sum((ypred - ytest[:, np.newaxis])**2)/np.size(ypred)\n",
    "\n",
    "        j += 1\n",
    "    i += 1\n",
    "\n",
    "\n",
    "estimated_mse_KFold = np.mean(scores_KFold, axis = 1)\n",
    "\n",
    "## Cross-validation using cross_val_score from sklearn along with KFold\n",
    "\n",
    "# kfold is an instance initialized above as:\n",
    "# kfold = KFold(n_splits = k)\n",
    "\n",
    "estimated_mse_sklearn = np.zeros(nlambdas)\n",
    "i = 0\n",
    "for lmb in lambdas:\n",
    "    ridge = Ridge(alpha = lmb)\n",
    "\n",
    "    X = poly.fit_transform(x[:, np.newaxis])\n",
    "    estimated_mse_folds = cross_val_score(ridge, X, y[:, np.newaxis], scoring='neg_mean_squared_error', cv=kfold)\n",
    "\n",
    "    # cross_val_score return an array containing the estimated negative mse for every fold.\n",
    "    # we have to the the mean of every array in order to get an estimate of the mse of the model\n",
    "    estimated_mse_sklearn[i] = np.mean(-estimated_mse_folds)\n",
    "\n",
    "    i += 1\n",
    "\n",
    "## Plot and compare the slightly different ways to perform cross-validation\n",
    "\n",
    "plt.figure()\n",
    "\n",
    "plt.plot(np.log10(lambdas), estimated_mse_sklearn, label = 'cross_val_score')\n",
    "plt.plot(np.log10(lambdas), estimated_mse_KFold, 'r--', label = 'KFold')\n",
    "\n",
    "plt.xlabel('log10(lambda)')\n",
    "plt.ylabel('mse')\n",
    "\n",
    "plt.legend()\n",
    "\n",
    "plt.show()"
   ]
  },
  {
   "cell_type": "markdown",
   "metadata": {},
   "source": [
    "## The bias-variance tradeoff\n",
    "\n",
    "\n",
    "We will discuss the bias-variance tradeoff in the context of\n",
    "continuous predictions such as regression. However, many of the\n",
    "intuitions and ideas discussed here also carry over to classification\n",
    "tasks. Consider a dataset $\\mathcal{L}$ consisting of the data\n",
    "$\\mathbf{X}_\\mathcal{L}=\\{(y_j, \\boldsymbol{x}_j), j=0\\ldots n-1\\}$. \n",
    "\n",
    "Let us assume that the true data is generated from a noisy model"
   ]
  },
  {
   "cell_type": "markdown",
   "metadata": {},
   "source": [
    "$$\n",
    "\\boldsymbol{y}=f(\\boldsymbol{x}) + \\boldsymbol{\\epsilon}\n",
    "$$"
   ]
  },
  {
   "cell_type": "markdown",
   "metadata": {},
   "source": [
    "where $\\epsilon$ is normally distributed with mean zero and standard deviation $\\sigma^2$.\n",
    "\n",
    "In our derivation of the ordinary least squares method we defined then\n",
    "an approximation to the function $f$ in terms of the parameters\n",
    "$\\boldsymbol{\\beta}$ and the design matrix $\\boldsymbol{X}$ which embody our model,\n",
    "that is $\\boldsymbol{\\tilde{y}}=\\boldsymbol{X}\\boldsymbol{\\beta}$. \n",
    "\n",
    "Thereafter we found the parameters $\\boldsymbol{\\beta}$ by optimizing the means squared error via the so-called cost function"
   ]
  },
  {
   "cell_type": "markdown",
   "metadata": {},
   "source": [
    "$$\n",
    "C(\\boldsymbol{X},\\boldsymbol{\\beta}) =\\frac{1}{n}\\sum_{i=0}^{n-1}(y_i-\\tilde{y}_i)^2=\\mathbb{E}\\left[(\\boldsymbol{y}-\\boldsymbol{\\tilde{y}})^2\\right].\n",
    "$$"
   ]
  },
  {
   "cell_type": "markdown",
   "metadata": {},
   "source": [
    "We can rewrite this as"
   ]
  },
  {
   "cell_type": "markdown",
   "metadata": {},
   "source": [
    "$$\n",
    "\\mathbb{E}\\left[(\\boldsymbol{y}-\\boldsymbol{\\tilde{y}})^2\\right]=\\frac{1}{n}\\sum_i(f_i-\\mathbb{E}\\left[\\boldsymbol{\\tilde{y}}\\right])^2+\\frac{1}{n}\\sum_i(\\tilde{y}_i-\\mathbb{E}\\left[\\boldsymbol{\\tilde{y}}\\right])^2+\\sigma^2.\n",
    "$$"
   ]
  },
  {
   "cell_type": "markdown",
   "metadata": {},
   "source": [
    "The three terms represent the square of the bias of the learning\n",
    "method, which can be thought of as the error caused by the simplifying\n",
    "assumptions built into the method. The second term represents the\n",
    "variance of the chosen model and finally the last terms is variance of\n",
    "the error $\\boldsymbol{\\epsilon}$.\n",
    "\n",
    "To derive this equation, we need to recall that the variance of $\\boldsymbol{y}$ and $\\boldsymbol{\\epsilon}$ are both equal to $\\sigma^2$. The mean value of $\\boldsymbol{\\epsilon}$ is by definition equal to zero. Furthermore, the function $f$ is not a stochastics variable, idem for $\\boldsymbol{\\tilde{y}}$.\n",
    "We use a more compact notation in terms of the expectation value"
   ]
  },
  {
   "cell_type": "markdown",
   "metadata": {},
   "source": [
    "$$\n",
    "\\mathbb{E}\\left[(\\boldsymbol{y}-\\boldsymbol{\\tilde{y}})^2\\right]=\\mathbb{E}\\left[(\\boldsymbol{f}+\\boldsymbol{\\epsilon}-\\boldsymbol{\\tilde{y}})^2\\right],\n",
    "$$"
   ]
  },
  {
   "cell_type": "markdown",
   "metadata": {},
   "source": [
    "and adding and subtracting $\\mathbb{E}\\left[\\boldsymbol{\\tilde{y}}\\right]$ we get"
   ]
  },
  {
   "cell_type": "markdown",
   "metadata": {},
   "source": [
    "$$\n",
    "\\mathbb{E}\\left[(\\boldsymbol{y}-\\boldsymbol{\\tilde{y}})^2\\right]=\\mathbb{E}\\left[(\\boldsymbol{f}+\\boldsymbol{\\epsilon}-\\boldsymbol{\\tilde{y}}+\\mathbb{E}\\left[\\boldsymbol{\\tilde{y}}\\right]-\\mathbb{E}\\left[\\boldsymbol{\\tilde{y}}\\right])^2\\right],\n",
    "$$"
   ]
  },
  {
   "cell_type": "markdown",
   "metadata": {},
   "source": [
    "which, using the abovementioned expectation values can be rewritten as"
   ]
  },
  {
   "cell_type": "markdown",
   "metadata": {},
   "source": [
    "$$\n",
    "\\mathbb{E}\\left[(\\boldsymbol{y}-\\boldsymbol{\\tilde{y}})^2\\right]=\\mathbb{E}\\left[(\\boldsymbol{y}-\\mathbb{E}\\left[\\boldsymbol{\\tilde{y}}\\right])^2\\right]+\\mathrm{Var}\\left[\\boldsymbol{\\tilde{y}}\\right]+\\sigma^2,\n",
    "$$"
   ]
  },
  {
   "cell_type": "markdown",
   "metadata": {},
   "source": [
    "that is the rewriting in terms of the so-called bias, the variance of the model $\\boldsymbol{\\tilde{y}}$ and the variance of $\\boldsymbol{\\epsilon}$.\n",
    "\n",
    "\n",
    "\n",
    "\n",
    "\n",
    "## Example code for Bias-Variance tradeoff"
   ]
  },
  {
   "cell_type": "code",
   "execution_count": 8,
   "metadata": {},
   "outputs": [
    {
     "name": "stdout",
     "output_type": "stream",
     "text": [
      "Error: 0.013121574145794759\n",
      "Bias^2: 0.012073649463110929\n",
      "Var: 0.0010479246826838272\n",
      "0.013121574145794759 >= 0.012073649463110929 + 0.0010479246826838272 = 0.013121574145794755\n"
     ]
    },
    {
     "data": {
      "application/javascript": [
       "/* Put everything inside the global mpl namespace */\n",
       "window.mpl = {};\n",
       "\n",
       "\n",
       "mpl.get_websocket_type = function() {\n",
       "    if (typeof(WebSocket) !== 'undefined') {\n",
       "        return WebSocket;\n",
       "    } else if (typeof(MozWebSocket) !== 'undefined') {\n",
       "        return MozWebSocket;\n",
       "    } else {\n",
       "        alert('Your browser does not have WebSocket support. ' +\n",
       "              'Please try Chrome, Safari or Firefox ≥ 6. ' +\n",
       "              'Firefox 4 and 5 are also supported but you ' +\n",
       "              'have to enable WebSockets in about:config.');\n",
       "    };\n",
       "}\n",
       "\n",
       "mpl.figure = function(figure_id, websocket, ondownload, parent_element) {\n",
       "    this.id = figure_id;\n",
       "\n",
       "    this.ws = websocket;\n",
       "\n",
       "    this.supports_binary = (this.ws.binaryType != undefined);\n",
       "\n",
       "    if (!this.supports_binary) {\n",
       "        var warnings = document.getElementById(\"mpl-warnings\");\n",
       "        if (warnings) {\n",
       "            warnings.style.display = 'block';\n",
       "            warnings.textContent = (\n",
       "                \"This browser does not support binary websocket messages. \" +\n",
       "                    \"Performance may be slow.\");\n",
       "        }\n",
       "    }\n",
       "\n",
       "    this.imageObj = new Image();\n",
       "\n",
       "    this.context = undefined;\n",
       "    this.message = undefined;\n",
       "    this.canvas = undefined;\n",
       "    this.rubberband_canvas = undefined;\n",
       "    this.rubberband_context = undefined;\n",
       "    this.format_dropdown = undefined;\n",
       "\n",
       "    this.image_mode = 'full';\n",
       "\n",
       "    this.root = $('<div/>');\n",
       "    this._root_extra_style(this.root)\n",
       "    this.root.attr('style', 'display: inline-block');\n",
       "\n",
       "    $(parent_element).append(this.root);\n",
       "\n",
       "    this._init_header(this);\n",
       "    this._init_canvas(this);\n",
       "    this._init_toolbar(this);\n",
       "\n",
       "    var fig = this;\n",
       "\n",
       "    this.waiting = false;\n",
       "\n",
       "    this.ws.onopen =  function () {\n",
       "            fig.send_message(\"supports_binary\", {value: fig.supports_binary});\n",
       "            fig.send_message(\"send_image_mode\", {});\n",
       "            if (mpl.ratio != 1) {\n",
       "                fig.send_message(\"set_dpi_ratio\", {'dpi_ratio': mpl.ratio});\n",
       "            }\n",
       "            fig.send_message(\"refresh\", {});\n",
       "        }\n",
       "\n",
       "    this.imageObj.onload = function() {\n",
       "            if (fig.image_mode == 'full') {\n",
       "                // Full images could contain transparency (where diff images\n",
       "                // almost always do), so we need to clear the canvas so that\n",
       "                // there is no ghosting.\n",
       "                fig.context.clearRect(0, 0, fig.canvas.width, fig.canvas.height);\n",
       "            }\n",
       "            fig.context.drawImage(fig.imageObj, 0, 0);\n",
       "        };\n",
       "\n",
       "    this.imageObj.onunload = function() {\n",
       "        fig.ws.close();\n",
       "    }\n",
       "\n",
       "    this.ws.onmessage = this._make_on_message_function(this);\n",
       "\n",
       "    this.ondownload = ondownload;\n",
       "}\n",
       "\n",
       "mpl.figure.prototype._init_header = function() {\n",
       "    var titlebar = $(\n",
       "        '<div class=\"ui-dialog-titlebar ui-widget-header ui-corner-all ' +\n",
       "        'ui-helper-clearfix\"/>');\n",
       "    var titletext = $(\n",
       "        '<div class=\"ui-dialog-title\" style=\"width: 100%; ' +\n",
       "        'text-align: center; padding: 3px;\"/>');\n",
       "    titlebar.append(titletext)\n",
       "    this.root.append(titlebar);\n",
       "    this.header = titletext[0];\n",
       "}\n",
       "\n",
       "\n",
       "\n",
       "mpl.figure.prototype._canvas_extra_style = function(canvas_div) {\n",
       "\n",
       "}\n",
       "\n",
       "\n",
       "mpl.figure.prototype._root_extra_style = function(canvas_div) {\n",
       "\n",
       "}\n",
       "\n",
       "mpl.figure.prototype._init_canvas = function() {\n",
       "    var fig = this;\n",
       "\n",
       "    var canvas_div = $('<div/>');\n",
       "\n",
       "    canvas_div.attr('style', 'position: relative; clear: both; outline: 0');\n",
       "\n",
       "    function canvas_keyboard_event(event) {\n",
       "        return fig.key_event(event, event['data']);\n",
       "    }\n",
       "\n",
       "    canvas_div.keydown('key_press', canvas_keyboard_event);\n",
       "    canvas_div.keyup('key_release', canvas_keyboard_event);\n",
       "    this.canvas_div = canvas_div\n",
       "    this._canvas_extra_style(canvas_div)\n",
       "    this.root.append(canvas_div);\n",
       "\n",
       "    var canvas = $('<canvas/>');\n",
       "    canvas.addClass('mpl-canvas');\n",
       "    canvas.attr('style', \"left: 0; top: 0; z-index: 0; outline: 0\")\n",
       "\n",
       "    this.canvas = canvas[0];\n",
       "    this.context = canvas[0].getContext(\"2d\");\n",
       "\n",
       "    var backingStore = this.context.backingStorePixelRatio ||\n",
       "\tthis.context.webkitBackingStorePixelRatio ||\n",
       "\tthis.context.mozBackingStorePixelRatio ||\n",
       "\tthis.context.msBackingStorePixelRatio ||\n",
       "\tthis.context.oBackingStorePixelRatio ||\n",
       "\tthis.context.backingStorePixelRatio || 1;\n",
       "\n",
       "    mpl.ratio = (window.devicePixelRatio || 1) / backingStore;\n",
       "\n",
       "    var rubberband = $('<canvas/>');\n",
       "    rubberband.attr('style', \"position: absolute; left: 0; top: 0; z-index: 1;\")\n",
       "\n",
       "    var pass_mouse_events = true;\n",
       "\n",
       "    canvas_div.resizable({\n",
       "        start: function(event, ui) {\n",
       "            pass_mouse_events = false;\n",
       "        },\n",
       "        resize: function(event, ui) {\n",
       "            fig.request_resize(ui.size.width, ui.size.height);\n",
       "        },\n",
       "        stop: function(event, ui) {\n",
       "            pass_mouse_events = true;\n",
       "            fig.request_resize(ui.size.width, ui.size.height);\n",
       "        },\n",
       "    });\n",
       "\n",
       "    function mouse_event_fn(event) {\n",
       "        if (pass_mouse_events)\n",
       "            return fig.mouse_event(event, event['data']);\n",
       "    }\n",
       "\n",
       "    rubberband.mousedown('button_press', mouse_event_fn);\n",
       "    rubberband.mouseup('button_release', mouse_event_fn);\n",
       "    // Throttle sequential mouse events to 1 every 20ms.\n",
       "    rubberband.mousemove('motion_notify', mouse_event_fn);\n",
       "\n",
       "    rubberband.mouseenter('figure_enter', mouse_event_fn);\n",
       "    rubberband.mouseleave('figure_leave', mouse_event_fn);\n",
       "\n",
       "    canvas_div.on(\"wheel\", function (event) {\n",
       "        event = event.originalEvent;\n",
       "        event['data'] = 'scroll'\n",
       "        if (event.deltaY < 0) {\n",
       "            event.step = 1;\n",
       "        } else {\n",
       "            event.step = -1;\n",
       "        }\n",
       "        mouse_event_fn(event);\n",
       "    });\n",
       "\n",
       "    canvas_div.append(canvas);\n",
       "    canvas_div.append(rubberband);\n",
       "\n",
       "    this.rubberband = rubberband;\n",
       "    this.rubberband_canvas = rubberband[0];\n",
       "    this.rubberband_context = rubberband[0].getContext(\"2d\");\n",
       "    this.rubberband_context.strokeStyle = \"#000000\";\n",
       "\n",
       "    this._resize_canvas = function(width, height) {\n",
       "        // Keep the size of the canvas, canvas container, and rubber band\n",
       "        // canvas in synch.\n",
       "        canvas_div.css('width', width)\n",
       "        canvas_div.css('height', height)\n",
       "\n",
       "        canvas.attr('width', width * mpl.ratio);\n",
       "        canvas.attr('height', height * mpl.ratio);\n",
       "        canvas.attr('style', 'width: ' + width + 'px; height: ' + height + 'px;');\n",
       "\n",
       "        rubberband.attr('width', width);\n",
       "        rubberband.attr('height', height);\n",
       "    }\n",
       "\n",
       "    // Set the figure to an initial 600x600px, this will subsequently be updated\n",
       "    // upon first draw.\n",
       "    this._resize_canvas(600, 600);\n",
       "\n",
       "    // Disable right mouse context menu.\n",
       "    $(this.rubberband_canvas).bind(\"contextmenu\",function(e){\n",
       "        return false;\n",
       "    });\n",
       "\n",
       "    function set_focus () {\n",
       "        canvas.focus();\n",
       "        canvas_div.focus();\n",
       "    }\n",
       "\n",
       "    window.setTimeout(set_focus, 100);\n",
       "}\n",
       "\n",
       "mpl.figure.prototype._init_toolbar = function() {\n",
       "    var fig = this;\n",
       "\n",
       "    var nav_element = $('<div/>');\n",
       "    nav_element.attr('style', 'width: 100%');\n",
       "    this.root.append(nav_element);\n",
       "\n",
       "    // Define a callback function for later on.\n",
       "    function toolbar_event(event) {\n",
       "        return fig.toolbar_button_onclick(event['data']);\n",
       "    }\n",
       "    function toolbar_mouse_event(event) {\n",
       "        return fig.toolbar_button_onmouseover(event['data']);\n",
       "    }\n",
       "\n",
       "    for(var toolbar_ind in mpl.toolbar_items) {\n",
       "        var name = mpl.toolbar_items[toolbar_ind][0];\n",
       "        var tooltip = mpl.toolbar_items[toolbar_ind][1];\n",
       "        var image = mpl.toolbar_items[toolbar_ind][2];\n",
       "        var method_name = mpl.toolbar_items[toolbar_ind][3];\n",
       "\n",
       "        if (!name) {\n",
       "            // put a spacer in here.\n",
       "            continue;\n",
       "        }\n",
       "        var button = $('<button/>');\n",
       "        button.addClass('ui-button ui-widget ui-state-default ui-corner-all ' +\n",
       "                        'ui-button-icon-only');\n",
       "        button.attr('role', 'button');\n",
       "        button.attr('aria-disabled', 'false');\n",
       "        button.click(method_name, toolbar_event);\n",
       "        button.mouseover(tooltip, toolbar_mouse_event);\n",
       "\n",
       "        var icon_img = $('<span/>');\n",
       "        icon_img.addClass('ui-button-icon-primary ui-icon');\n",
       "        icon_img.addClass(image);\n",
       "        icon_img.addClass('ui-corner-all');\n",
       "\n",
       "        var tooltip_span = $('<span/>');\n",
       "        tooltip_span.addClass('ui-button-text');\n",
       "        tooltip_span.html(tooltip);\n",
       "\n",
       "        button.append(icon_img);\n",
       "        button.append(tooltip_span);\n",
       "\n",
       "        nav_element.append(button);\n",
       "    }\n",
       "\n",
       "    var fmt_picker_span = $('<span/>');\n",
       "\n",
       "    var fmt_picker = $('<select/>');\n",
       "    fmt_picker.addClass('mpl-toolbar-option ui-widget ui-widget-content');\n",
       "    fmt_picker_span.append(fmt_picker);\n",
       "    nav_element.append(fmt_picker_span);\n",
       "    this.format_dropdown = fmt_picker[0];\n",
       "\n",
       "    for (var ind in mpl.extensions) {\n",
       "        var fmt = mpl.extensions[ind];\n",
       "        var option = $(\n",
       "            '<option/>', {selected: fmt === mpl.default_extension}).html(fmt);\n",
       "        fmt_picker.append(option);\n",
       "    }\n",
       "\n",
       "    // Add hover states to the ui-buttons\n",
       "    $( \".ui-button\" ).hover(\n",
       "        function() { $(this).addClass(\"ui-state-hover\");},\n",
       "        function() { $(this).removeClass(\"ui-state-hover\");}\n",
       "    );\n",
       "\n",
       "    var status_bar = $('<span class=\"mpl-message\"/>');\n",
       "    nav_element.append(status_bar);\n",
       "    this.message = status_bar[0];\n",
       "}\n",
       "\n",
       "mpl.figure.prototype.request_resize = function(x_pixels, y_pixels) {\n",
       "    // Request matplotlib to resize the figure. Matplotlib will then trigger a resize in the client,\n",
       "    // which will in turn request a refresh of the image.\n",
       "    this.send_message('resize', {'width': x_pixels, 'height': y_pixels});\n",
       "}\n",
       "\n",
       "mpl.figure.prototype.send_message = function(type, properties) {\n",
       "    properties['type'] = type;\n",
       "    properties['figure_id'] = this.id;\n",
       "    this.ws.send(JSON.stringify(properties));\n",
       "}\n",
       "\n",
       "mpl.figure.prototype.send_draw_message = function() {\n",
       "    if (!this.waiting) {\n",
       "        this.waiting = true;\n",
       "        this.ws.send(JSON.stringify({type: \"draw\", figure_id: this.id}));\n",
       "    }\n",
       "}\n",
       "\n",
       "\n",
       "mpl.figure.prototype.handle_save = function(fig, msg) {\n",
       "    var format_dropdown = fig.format_dropdown;\n",
       "    var format = format_dropdown.options[format_dropdown.selectedIndex].value;\n",
       "    fig.ondownload(fig, format);\n",
       "}\n",
       "\n",
       "\n",
       "mpl.figure.prototype.handle_resize = function(fig, msg) {\n",
       "    var size = msg['size'];\n",
       "    if (size[0] != fig.canvas.width || size[1] != fig.canvas.height) {\n",
       "        fig._resize_canvas(size[0], size[1]);\n",
       "        fig.send_message(\"refresh\", {});\n",
       "    };\n",
       "}\n",
       "\n",
       "mpl.figure.prototype.handle_rubberband = function(fig, msg) {\n",
       "    var x0 = msg['x0'] / mpl.ratio;\n",
       "    var y0 = (fig.canvas.height - msg['y0']) / mpl.ratio;\n",
       "    var x1 = msg['x1'] / mpl.ratio;\n",
       "    var y1 = (fig.canvas.height - msg['y1']) / mpl.ratio;\n",
       "    x0 = Math.floor(x0) + 0.5;\n",
       "    y0 = Math.floor(y0) + 0.5;\n",
       "    x1 = Math.floor(x1) + 0.5;\n",
       "    y1 = Math.floor(y1) + 0.5;\n",
       "    var min_x = Math.min(x0, x1);\n",
       "    var min_y = Math.min(y0, y1);\n",
       "    var width = Math.abs(x1 - x0);\n",
       "    var height = Math.abs(y1 - y0);\n",
       "\n",
       "    fig.rubberband_context.clearRect(\n",
       "        0, 0, fig.canvas.width / mpl.ratio, fig.canvas.height / mpl.ratio);\n",
       "\n",
       "    fig.rubberband_context.strokeRect(min_x, min_y, width, height);\n",
       "}\n",
       "\n",
       "mpl.figure.prototype.handle_figure_label = function(fig, msg) {\n",
       "    // Updates the figure title.\n",
       "    fig.header.textContent = msg['label'];\n",
       "}\n",
       "\n",
       "mpl.figure.prototype.handle_cursor = function(fig, msg) {\n",
       "    var cursor = msg['cursor'];\n",
       "    switch(cursor)\n",
       "    {\n",
       "    case 0:\n",
       "        cursor = 'pointer';\n",
       "        break;\n",
       "    case 1:\n",
       "        cursor = 'default';\n",
       "        break;\n",
       "    case 2:\n",
       "        cursor = 'crosshair';\n",
       "        break;\n",
       "    case 3:\n",
       "        cursor = 'move';\n",
       "        break;\n",
       "    }\n",
       "    fig.rubberband_canvas.style.cursor = cursor;\n",
       "}\n",
       "\n",
       "mpl.figure.prototype.handle_message = function(fig, msg) {\n",
       "    fig.message.textContent = msg['message'];\n",
       "}\n",
       "\n",
       "mpl.figure.prototype.handle_draw = function(fig, msg) {\n",
       "    // Request the server to send over a new figure.\n",
       "    fig.send_draw_message();\n",
       "}\n",
       "\n",
       "mpl.figure.prototype.handle_image_mode = function(fig, msg) {\n",
       "    fig.image_mode = msg['mode'];\n",
       "}\n",
       "\n",
       "mpl.figure.prototype.updated_canvas_event = function() {\n",
       "    // Called whenever the canvas gets updated.\n",
       "    this.send_message(\"ack\", {});\n",
       "}\n",
       "\n",
       "// A function to construct a web socket function for onmessage handling.\n",
       "// Called in the figure constructor.\n",
       "mpl.figure.prototype._make_on_message_function = function(fig) {\n",
       "    return function socket_on_message(evt) {\n",
       "        if (evt.data instanceof Blob) {\n",
       "            /* FIXME: We get \"Resource interpreted as Image but\n",
       "             * transferred with MIME type text/plain:\" errors on\n",
       "             * Chrome.  But how to set the MIME type?  It doesn't seem\n",
       "             * to be part of the websocket stream */\n",
       "            evt.data.type = \"image/png\";\n",
       "\n",
       "            /* Free the memory for the previous frames */\n",
       "            if (fig.imageObj.src) {\n",
       "                (window.URL || window.webkitURL).revokeObjectURL(\n",
       "                    fig.imageObj.src);\n",
       "            }\n",
       "\n",
       "            fig.imageObj.src = (window.URL || window.webkitURL).createObjectURL(\n",
       "                evt.data);\n",
       "            fig.updated_canvas_event();\n",
       "            fig.waiting = false;\n",
       "            return;\n",
       "        }\n",
       "        else if (typeof evt.data === 'string' && evt.data.slice(0, 21) == \"data:image/png;base64\") {\n",
       "            fig.imageObj.src = evt.data;\n",
       "            fig.updated_canvas_event();\n",
       "            fig.waiting = false;\n",
       "            return;\n",
       "        }\n",
       "\n",
       "        var msg = JSON.parse(evt.data);\n",
       "        var msg_type = msg['type'];\n",
       "\n",
       "        // Call the  \"handle_{type}\" callback, which takes\n",
       "        // the figure and JSON message as its only arguments.\n",
       "        try {\n",
       "            var callback = fig[\"handle_\" + msg_type];\n",
       "        } catch (e) {\n",
       "            console.log(\"No handler for the '\" + msg_type + \"' message type: \", msg);\n",
       "            return;\n",
       "        }\n",
       "\n",
       "        if (callback) {\n",
       "            try {\n",
       "                // console.log(\"Handling '\" + msg_type + \"' message: \", msg);\n",
       "                callback(fig, msg);\n",
       "            } catch (e) {\n",
       "                console.log(\"Exception inside the 'handler_\" + msg_type + \"' callback:\", e, e.stack, msg);\n",
       "            }\n",
       "        }\n",
       "    };\n",
       "}\n",
       "\n",
       "// from http://stackoverflow.com/questions/1114465/getting-mouse-location-in-canvas\n",
       "mpl.findpos = function(e) {\n",
       "    //this section is from http://www.quirksmode.org/js/events_properties.html\n",
       "    var targ;\n",
       "    if (!e)\n",
       "        e = window.event;\n",
       "    if (e.target)\n",
       "        targ = e.target;\n",
       "    else if (e.srcElement)\n",
       "        targ = e.srcElement;\n",
       "    if (targ.nodeType == 3) // defeat Safari bug\n",
       "        targ = targ.parentNode;\n",
       "\n",
       "    // jQuery normalizes the pageX and pageY\n",
       "    // pageX,Y are the mouse positions relative to the document\n",
       "    // offset() returns the position of the element relative to the document\n",
       "    var x = e.pageX - $(targ).offset().left;\n",
       "    var y = e.pageY - $(targ).offset().top;\n",
       "\n",
       "    return {\"x\": x, \"y\": y};\n",
       "};\n",
       "\n",
       "/*\n",
       " * return a copy of an object with only non-object keys\n",
       " * we need this to avoid circular references\n",
       " * http://stackoverflow.com/a/24161582/3208463\n",
       " */\n",
       "function simpleKeys (original) {\n",
       "  return Object.keys(original).reduce(function (obj, key) {\n",
       "    if (typeof original[key] !== 'object')\n",
       "        obj[key] = original[key]\n",
       "    return obj;\n",
       "  }, {});\n",
       "}\n",
       "\n",
       "mpl.figure.prototype.mouse_event = function(event, name) {\n",
       "    var canvas_pos = mpl.findpos(event)\n",
       "\n",
       "    if (name === 'button_press')\n",
       "    {\n",
       "        this.canvas.focus();\n",
       "        this.canvas_div.focus();\n",
       "    }\n",
       "\n",
       "    var x = canvas_pos.x * mpl.ratio;\n",
       "    var y = canvas_pos.y * mpl.ratio;\n",
       "\n",
       "    this.send_message(name, {x: x, y: y, button: event.button,\n",
       "                             step: event.step,\n",
       "                             guiEvent: simpleKeys(event)});\n",
       "\n",
       "    /* This prevents the web browser from automatically changing to\n",
       "     * the text insertion cursor when the button is pressed.  We want\n",
       "     * to control all of the cursor setting manually through the\n",
       "     * 'cursor' event from matplotlib */\n",
       "    event.preventDefault();\n",
       "    return false;\n",
       "}\n",
       "\n",
       "mpl.figure.prototype._key_event_extra = function(event, name) {\n",
       "    // Handle any extra behaviour associated with a key event\n",
       "}\n",
       "\n",
       "mpl.figure.prototype.key_event = function(event, name) {\n",
       "\n",
       "    // Prevent repeat events\n",
       "    if (name == 'key_press')\n",
       "    {\n",
       "        if (event.which === this._key)\n",
       "            return;\n",
       "        else\n",
       "            this._key = event.which;\n",
       "    }\n",
       "    if (name == 'key_release')\n",
       "        this._key = null;\n",
       "\n",
       "    var value = '';\n",
       "    if (event.ctrlKey && event.which != 17)\n",
       "        value += \"ctrl+\";\n",
       "    if (event.altKey && event.which != 18)\n",
       "        value += \"alt+\";\n",
       "    if (event.shiftKey && event.which != 16)\n",
       "        value += \"shift+\";\n",
       "\n",
       "    value += 'k';\n",
       "    value += event.which.toString();\n",
       "\n",
       "    this._key_event_extra(event, name);\n",
       "\n",
       "    this.send_message(name, {key: value,\n",
       "                             guiEvent: simpleKeys(event)});\n",
       "    return false;\n",
       "}\n",
       "\n",
       "mpl.figure.prototype.toolbar_button_onclick = function(name) {\n",
       "    if (name == 'download') {\n",
       "        this.handle_save(this, null);\n",
       "    } else {\n",
       "        this.send_message(\"toolbar_button\", {name: name});\n",
       "    }\n",
       "};\n",
       "\n",
       "mpl.figure.prototype.toolbar_button_onmouseover = function(tooltip) {\n",
       "    this.message.textContent = tooltip;\n",
       "};\n",
       "mpl.toolbar_items = [[\"Home\", \"Reset original view\", \"fa fa-home icon-home\", \"home\"], [\"Back\", \"Back to previous view\", \"fa fa-arrow-left icon-arrow-left\", \"back\"], [\"Forward\", \"Forward to next view\", \"fa fa-arrow-right icon-arrow-right\", \"forward\"], [\"\", \"\", \"\", \"\"], [\"Pan\", \"Pan axes with left mouse, zoom with right\", \"fa fa-arrows icon-move\", \"pan\"], [\"Zoom\", \"Zoom to rectangle\", \"fa fa-square-o icon-check-empty\", \"zoom\"], [\"\", \"\", \"\", \"\"], [\"Download\", \"Download plot\", \"fa fa-floppy-o icon-save\", \"download\"]];\n",
       "\n",
       "mpl.extensions = [\"eps\", \"jpeg\", \"pdf\", \"png\", \"ps\", \"raw\", \"svg\", \"tif\"];\n",
       "\n",
       "mpl.default_extension = \"png\";var comm_websocket_adapter = function(comm) {\n",
       "    // Create a \"websocket\"-like object which calls the given IPython comm\n",
       "    // object with the appropriate methods. Currently this is a non binary\n",
       "    // socket, so there is still some room for performance tuning.\n",
       "    var ws = {};\n",
       "\n",
       "    ws.close = function() {\n",
       "        comm.close()\n",
       "    };\n",
       "    ws.send = function(m) {\n",
       "        //console.log('sending', m);\n",
       "        comm.send(m);\n",
       "    };\n",
       "    // Register the callback with on_msg.\n",
       "    comm.on_msg(function(msg) {\n",
       "        //console.log('receiving', msg['content']['data'], msg);\n",
       "        // Pass the mpl event to the overridden (by mpl) onmessage function.\n",
       "        ws.onmessage(msg['content']['data'])\n",
       "    });\n",
       "    return ws;\n",
       "}\n",
       "\n",
       "mpl.mpl_figure_comm = function(comm, msg) {\n",
       "    // This is the function which gets called when the mpl process\n",
       "    // starts-up an IPython Comm through the \"matplotlib\" channel.\n",
       "\n",
       "    var id = msg.content.data.id;\n",
       "    // Get hold of the div created by the display call when the Comm\n",
       "    // socket was opened in Python.\n",
       "    var element = $(\"#\" + id);\n",
       "    var ws_proxy = comm_websocket_adapter(comm)\n",
       "\n",
       "    function ondownload(figure, format) {\n",
       "        window.open(figure.imageObj.src);\n",
       "    }\n",
       "\n",
       "    var fig = new mpl.figure(id, ws_proxy,\n",
       "                           ondownload,\n",
       "                           element.get(0));\n",
       "\n",
       "    // Call onopen now - mpl needs it, as it is assuming we've passed it a real\n",
       "    // web socket which is closed, not our websocket->open comm proxy.\n",
       "    ws_proxy.onopen();\n",
       "\n",
       "    fig.parent_element = element.get(0);\n",
       "    fig.cell_info = mpl.find_output_cell(\"<div id='\" + id + \"'></div>\");\n",
       "    if (!fig.cell_info) {\n",
       "        console.error(\"Failed to find cell for figure\", id, fig);\n",
       "        return;\n",
       "    }\n",
       "\n",
       "    var output_index = fig.cell_info[2]\n",
       "    var cell = fig.cell_info[0];\n",
       "\n",
       "};\n",
       "\n",
       "mpl.figure.prototype.handle_close = function(fig, msg) {\n",
       "    var width = fig.canvas.width/mpl.ratio\n",
       "    fig.root.unbind('remove')\n",
       "\n",
       "    // Update the output cell to use the data from the current canvas.\n",
       "    fig.push_to_output();\n",
       "    var dataURL = fig.canvas.toDataURL();\n",
       "    // Re-enable the keyboard manager in IPython - without this line, in FF,\n",
       "    // the notebook keyboard shortcuts fail.\n",
       "    IPython.keyboard_manager.enable()\n",
       "    $(fig.parent_element).html('<img src=\"' + dataURL + '\" width=\"' + width + '\">');\n",
       "    fig.close_ws(fig, msg);\n",
       "}\n",
       "\n",
       "mpl.figure.prototype.close_ws = function(fig, msg){\n",
       "    fig.send_message('closing', msg);\n",
       "    // fig.ws.close()\n",
       "}\n",
       "\n",
       "mpl.figure.prototype.push_to_output = function(remove_interactive) {\n",
       "    // Turn the data on the canvas into data in the output cell.\n",
       "    var width = this.canvas.width/mpl.ratio\n",
       "    var dataURL = this.canvas.toDataURL();\n",
       "    this.cell_info[1]['text/html'] = '<img src=\"' + dataURL + '\" width=\"' + width + '\">';\n",
       "}\n",
       "\n",
       "mpl.figure.prototype.updated_canvas_event = function() {\n",
       "    // Tell IPython that the notebook contents must change.\n",
       "    IPython.notebook.set_dirty(true);\n",
       "    this.send_message(\"ack\", {});\n",
       "    var fig = this;\n",
       "    // Wait a second, then push the new image to the DOM so\n",
       "    // that it is saved nicely (might be nice to debounce this).\n",
       "    setTimeout(function () { fig.push_to_output() }, 1000);\n",
       "}\n",
       "\n",
       "mpl.figure.prototype._init_toolbar = function() {\n",
       "    var fig = this;\n",
       "\n",
       "    var nav_element = $('<div/>');\n",
       "    nav_element.attr('style', 'width: 100%');\n",
       "    this.root.append(nav_element);\n",
       "\n",
       "    // Define a callback function for later on.\n",
       "    function toolbar_event(event) {\n",
       "        return fig.toolbar_button_onclick(event['data']);\n",
       "    }\n",
       "    function toolbar_mouse_event(event) {\n",
       "        return fig.toolbar_button_onmouseover(event['data']);\n",
       "    }\n",
       "\n",
       "    for(var toolbar_ind in mpl.toolbar_items){\n",
       "        var name = mpl.toolbar_items[toolbar_ind][0];\n",
       "        var tooltip = mpl.toolbar_items[toolbar_ind][1];\n",
       "        var image = mpl.toolbar_items[toolbar_ind][2];\n",
       "        var method_name = mpl.toolbar_items[toolbar_ind][3];\n",
       "\n",
       "        if (!name) { continue; };\n",
       "\n",
       "        var button = $('<button class=\"btn btn-default\" href=\"#\" title=\"' + name + '\"><i class=\"fa ' + image + ' fa-lg\"></i></button>');\n",
       "        button.click(method_name, toolbar_event);\n",
       "        button.mouseover(tooltip, toolbar_mouse_event);\n",
       "        nav_element.append(button);\n",
       "    }\n",
       "\n",
       "    // Add the status bar.\n",
       "    var status_bar = $('<span class=\"mpl-message\" style=\"text-align:right; float: right;\"/>');\n",
       "    nav_element.append(status_bar);\n",
       "    this.message = status_bar[0];\n",
       "\n",
       "    // Add the close button to the window.\n",
       "    var buttongrp = $('<div class=\"btn-group inline pull-right\"></div>');\n",
       "    var button = $('<button class=\"btn btn-mini btn-primary\" href=\"#\" title=\"Stop Interaction\"><i class=\"fa fa-power-off icon-remove icon-large\"></i></button>');\n",
       "    button.click(function (evt) { fig.handle_close(fig, {}); } );\n",
       "    button.mouseover('Stop Interaction', toolbar_mouse_event);\n",
       "    buttongrp.append(button);\n",
       "    var titlebar = this.root.find($('.ui-dialog-titlebar'));\n",
       "    titlebar.prepend(buttongrp);\n",
       "}\n",
       "\n",
       "mpl.figure.prototype._root_extra_style = function(el){\n",
       "    var fig = this\n",
       "    el.on(\"remove\", function(){\n",
       "\tfig.close_ws(fig, {});\n",
       "    });\n",
       "}\n",
       "\n",
       "mpl.figure.prototype._canvas_extra_style = function(el){\n",
       "    // this is important to make the div 'focusable\n",
       "    el.attr('tabindex', 0)\n",
       "    // reach out to IPython and tell the keyboard manager to turn it's self\n",
       "    // off when our div gets focus\n",
       "\n",
       "    // location in version 3\n",
       "    if (IPython.notebook.keyboard_manager) {\n",
       "        IPython.notebook.keyboard_manager.register_events(el);\n",
       "    }\n",
       "    else {\n",
       "        // location in version 2\n",
       "        IPython.keyboard_manager.register_events(el);\n",
       "    }\n",
       "\n",
       "}\n",
       "\n",
       "mpl.figure.prototype._key_event_extra = function(event, name) {\n",
       "    var manager = IPython.notebook.keyboard_manager;\n",
       "    if (!manager)\n",
       "        manager = IPython.keyboard_manager;\n",
       "\n",
       "    // Check for shift+enter\n",
       "    if (event.shiftKey && event.which == 13) {\n",
       "        this.canvas_div.blur();\n",
       "        event.shiftKey = false;\n",
       "        // Send a \"J\" for go to next cell\n",
       "        event.which = 74;\n",
       "        event.keyCode = 74;\n",
       "        manager.command_mode();\n",
       "        manager.handle_keydown(event);\n",
       "    }\n",
       "}\n",
       "\n",
       "mpl.figure.prototype.handle_save = function(fig, msg) {\n",
       "    fig.ondownload(fig, null);\n",
       "}\n",
       "\n",
       "\n",
       "mpl.find_output_cell = function(html_output) {\n",
       "    // Return the cell and output element which can be found *uniquely* in the notebook.\n",
       "    // Note - this is a bit hacky, but it is done because the \"notebook_saving.Notebook\"\n",
       "    // IPython event is triggered only after the cells have been serialised, which for\n",
       "    // our purposes (turning an active figure into a static one), is too late.\n",
       "    var cells = IPython.notebook.get_cells();\n",
       "    var ncells = cells.length;\n",
       "    for (var i=0; i<ncells; i++) {\n",
       "        var cell = cells[i];\n",
       "        if (cell.cell_type === 'code'){\n",
       "            for (var j=0; j<cell.output_area.outputs.length; j++) {\n",
       "                var data = cell.output_area.outputs[j];\n",
       "                if (data.data) {\n",
       "                    // IPython >= 3 moved mimebundle to data attribute of output\n",
       "                    data = data.data;\n",
       "                }\n",
       "                if (data['text/html'] == html_output) {\n",
       "                    return [cell, data, j];\n",
       "                }\n",
       "            }\n",
       "        }\n",
       "    }\n",
       "}\n",
       "\n",
       "// Register the function which deals with the matplotlib target/channel.\n",
       "// The kernel may be null if the page has been refreshed.\n",
       "if (IPython.notebook.kernel != null) {\n",
       "    IPython.notebook.kernel.comm_manager.register_target('matplotlib', mpl.mpl_figure_comm);\n",
       "}\n"
      ],
      "text/plain": [
       "<IPython.core.display.Javascript object>"
      ]
     },
     "metadata": {},
     "output_type": "display_data"
    },
    {
     "data": {
      "text/html": [
       "<img src=\"data:image/png;base64,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\" width=\"640\">"
      ],
      "text/plain": [
       "<IPython.core.display.HTML object>"
      ]
     },
     "metadata": {},
     "output_type": "display_data"
    }
   ],
   "source": [
    "import matplotlib.pyplot as plt\n",
    "import numpy as np\n",
    "from sklearn.linear_model import LinearRegression, Ridge, Lasso\n",
    "from sklearn.preprocessing import PolynomialFeatures\n",
    "from sklearn.model_selection import train_test_split\n",
    "from sklearn.pipeline import make_pipeline\n",
    "from sklearn.utils import resample\n",
    "%matplotlib notebook\n",
    "\n",
    "np.random.seed(2018)\n",
    "\n",
    "n = 500\n",
    "n_boostraps = 100\n",
    "degree = 18  # A quite high value, just to show.\n",
    "noise = 0.1\n",
    "\n",
    "# Make data set.\n",
    "x = np.linspace(-1, 3, n).reshape(-1, 1)\n",
    "y = np.exp(-x**2) + 1.5 * np.exp(-(x-2)**2) + np.random.normal(0, 0.1, x.shape)\n",
    "\n",
    "# Hold out some test data that is never used in training.\n",
    "x_train, x_test, y_train, y_test = train_test_split(x, y, test_size=0.2)\n",
    "\n",
    "# Combine x transformation and model into one operation.\n",
    "# Not neccesary, but convenient.\n",
    "model = make_pipeline(PolynomialFeatures(degree=degree), LinearRegression(fit_intercept=False))\n",
    "\n",
    "# The following (m x n_bootstraps) matrix holds the column vectors y_pred\n",
    "# for each bootstrap iteration.\n",
    "y_pred = np.empty((y_test.shape[0], n_boostraps))\n",
    "for i in range(n_boostraps):\n",
    "    x_, y_ = resample(x_train, y_train)\n",
    "\n",
    "    # Evaluate the new model on the same test data each time.\n",
    "    y_pred[:, i] = model.fit(x_, y_).predict(x_test).ravel()\n",
    "\n",
    "# Note: Expectations and variances taken w.r.t. different training\n",
    "# data sets, hence the axis=1. Subsequent means are taken across the test data\n",
    "# set in order to obtain a total value, but before this we have error/bias/variance\n",
    "# calculated per data point in the test set.\n",
    "# Note 2: The use of keepdims=True is important in the calculation of bias as this \n",
    "# maintains the column vector form. Dropping this yields very unexpected results.\n",
    "error = np.mean( np.mean((y_test - y_pred)**2, axis=1, keepdims=True) )\n",
    "bias = np.mean( (y_test - np.mean(y_pred, axis=1, keepdims=True))**2 )\n",
    "variance = np.mean( np.var(y_pred, axis=1, keepdims=True) )\n",
    "print('Error:', error)\n",
    "print('Bias^2:', bias)\n",
    "print('Var:', variance)\n",
    "print('{} >= {} + {} = {}'.format(error, bias, variance, bias+variance))\n",
    "\n",
    "plt.plot(x[::5, :], y[::5, :], label='f(x)')\n",
    "plt.scatter(x_test, y_test, label='Data points')\n",
    "plt.scatter(x_test, np.mean(y_pred, axis=1), label='Pred')\n",
    "plt.legend()\n",
    "plt.show()"
   ]
  },
  {
   "cell_type": "markdown",
   "metadata": {},
   "source": [
    "## Understanding what happens"
   ]
  },
  {
   "cell_type": "code",
   "execution_count": 3,
   "metadata": {},
   "outputs": [
    {
     "name": "stdout",
     "output_type": "stream",
     "text": [
      "Polynomial degree: 0\n",
      "Error: 0.3214960170351912\n",
      "Bias^2: 0.3123314713548606\n",
      "Var: 0.009164545680330616\n",
      "0.3214960170351912 >= 0.3123314713548606 + 0.009164545680330616 = 0.3214960170351912\n",
      "Polynomial degree: 1\n",
      "Error: 0.08426840630693411\n",
      "Bias^2: 0.07968918676726028\n",
      "Var: 0.004579219539673834\n",
      "0.08426840630693411 >= 0.07968918676726028 + 0.004579219539673834 = 0.08426840630693411\n",
      "Polynomial degree: 2\n",
      "Error: 0.10398646080125035\n",
      "Bias^2: 0.10077114273548984\n",
      "Var: 0.00321531806576051\n",
      "0.10398646080125035 >= 0.10077114273548984 + 0.00321531806576051 = 0.10398646080125035\n",
      "Polynomial degree: 3\n",
      "Error: 0.06547790180152357\n",
      "Bias^2: 0.06208238634231949\n",
      "Var: 0.0033955154592041075\n",
      "0.06547790180152357 >= 0.06208238634231949 + 0.0033955154592041075 = 0.0654779018015236\n",
      "Polynomial degree: 4\n",
      "Error: 0.06844519414009444\n",
      "Bias^2: 0.06453579006728319\n",
      "Var: 0.003909404072811218\n",
      "0.06844519414009444 >= 0.06453579006728319 + 0.003909404072811218 = 0.06844519414009441\n",
      "Polynomial degree: 5\n",
      "Error: 0.05227921801205694\n",
      "Bias^2: 0.048187277304302965\n",
      "Var: 0.004091940707753968\n",
      "0.05227921801205694 >= 0.048187277304302965 + 0.004091940707753968 = 0.052279218012056934\n",
      "Polynomial degree: 6\n",
      "Error: 0.0378136714173888\n",
      "Bias^2: 0.03365768507152746\n",
      "Var: 0.004155986345861349\n",
      "0.0378136714173888 >= 0.03365768507152746 + 0.004155986345861349 = 0.037813671417388804\n",
      "Polynomial degree: 7\n",
      "Error: 0.02760977349102195\n",
      "Bias^2: 0.02299949826036581\n",
      "Var: 0.0046102752306561605\n",
      "0.02760977349102195 >= 0.02299949826036581 + 0.0046102752306561605 = 0.02760977349102197\n",
      "Polynomial degree: 8\n",
      "Error: 0.017355848195592997\n",
      "Bias^2: 0.010331721306655418\n",
      "Var: 0.007024126888937562\n",
      "0.017355848195592997 >= 0.010331721306655418 + 0.007024126888937562 = 0.01735584819559298\n",
      "Polynomial degree: 9\n",
      "Error: 0.02660572763717987\n",
      "Bias^2: 0.01001831264413831\n",
      "Var: 0.016587414993041557\n",
      "0.02660572763717987 >= 0.01001831264413831 + 0.016587414993041557 = 0.026605727637179867\n",
      "Polynomial degree: 10\n",
      "Error: 0.021592704588063324\n",
      "Bias^2: 0.010516485576662016\n",
      "Var: 0.011076219011401298\n",
      "0.021592704588063324 >= 0.010516485576662016 + 0.011076219011401298 = 0.021592704588063314\n",
      "Polynomial degree: 11\n",
      "Error: 0.07160048164252583\n",
      "Bias^2: 0.014436800088947106\n",
      "Var: 0.05716368155357874\n",
      "0.07160048164252583 >= 0.014436800088947106 + 0.05716368155357874 = 0.07160048164252585\n",
      "Polynomial degree: 12\n",
      "Error: 0.11547777218899141\n",
      "Bias^2: 0.016285782695930232\n",
      "Var: 0.09919198949306121\n",
      "0.11547777218899141 >= 0.016285782695930232 + 0.09919198949306121 = 0.11547777218899144\n",
      "Polynomial degree: 13\n",
      "Error: 0.22842468702450652\n",
      "Bias^2: 0.019754165271897654\n",
      "Var: 0.20867052175260886\n",
      "0.22842468702450652 >= 0.019754165271897654 + 0.20867052175260886 = 0.22842468702450652\n"
     ]
    },
    {
     "data": {
      "application/javascript": [
       "/* Put everything inside the global mpl namespace */\n",
       "window.mpl = {};\n",
       "\n",
       "\n",
       "mpl.get_websocket_type = function() {\n",
       "    if (typeof(WebSocket) !== 'undefined') {\n",
       "        return WebSocket;\n",
       "    } else if (typeof(MozWebSocket) !== 'undefined') {\n",
       "        return MozWebSocket;\n",
       "    } else {\n",
       "        alert('Your browser does not have WebSocket support. ' +\n",
       "              'Please try Chrome, Safari or Firefox ≥ 6. ' +\n",
       "              'Firefox 4 and 5 are also supported but you ' +\n",
       "              'have to enable WebSockets in about:config.');\n",
       "    };\n",
       "}\n",
       "\n",
       "mpl.figure = function(figure_id, websocket, ondownload, parent_element) {\n",
       "    this.id = figure_id;\n",
       "\n",
       "    this.ws = websocket;\n",
       "\n",
       "    this.supports_binary = (this.ws.binaryType != undefined);\n",
       "\n",
       "    if (!this.supports_binary) {\n",
       "        var warnings = document.getElementById(\"mpl-warnings\");\n",
       "        if (warnings) {\n",
       "            warnings.style.display = 'block';\n",
       "            warnings.textContent = (\n",
       "                \"This browser does not support binary websocket messages. \" +\n",
       "                    \"Performance may be slow.\");\n",
       "        }\n",
       "    }\n",
       "\n",
       "    this.imageObj = new Image();\n",
       "\n",
       "    this.context = undefined;\n",
       "    this.message = undefined;\n",
       "    this.canvas = undefined;\n",
       "    this.rubberband_canvas = undefined;\n",
       "    this.rubberband_context = undefined;\n",
       "    this.format_dropdown = undefined;\n",
       "\n",
       "    this.image_mode = 'full';\n",
       "\n",
       "    this.root = $('<div/>');\n",
       "    this._root_extra_style(this.root)\n",
       "    this.root.attr('style', 'display: inline-block');\n",
       "\n",
       "    $(parent_element).append(this.root);\n",
       "\n",
       "    this._init_header(this);\n",
       "    this._init_canvas(this);\n",
       "    this._init_toolbar(this);\n",
       "\n",
       "    var fig = this;\n",
       "\n",
       "    this.waiting = false;\n",
       "\n",
       "    this.ws.onopen =  function () {\n",
       "            fig.send_message(\"supports_binary\", {value: fig.supports_binary});\n",
       "            fig.send_message(\"send_image_mode\", {});\n",
       "            if (mpl.ratio != 1) {\n",
       "                fig.send_message(\"set_dpi_ratio\", {'dpi_ratio': mpl.ratio});\n",
       "            }\n",
       "            fig.send_message(\"refresh\", {});\n",
       "        }\n",
       "\n",
       "    this.imageObj.onload = function() {\n",
       "            if (fig.image_mode == 'full') {\n",
       "                // Full images could contain transparency (where diff images\n",
       "                // almost always do), so we need to clear the canvas so that\n",
       "                // there is no ghosting.\n",
       "                fig.context.clearRect(0, 0, fig.canvas.width, fig.canvas.height);\n",
       "            }\n",
       "            fig.context.drawImage(fig.imageObj, 0, 0);\n",
       "        };\n",
       "\n",
       "    this.imageObj.onunload = function() {\n",
       "        fig.ws.close();\n",
       "    }\n",
       "\n",
       "    this.ws.onmessage = this._make_on_message_function(this);\n",
       "\n",
       "    this.ondownload = ondownload;\n",
       "}\n",
       "\n",
       "mpl.figure.prototype._init_header = function() {\n",
       "    var titlebar = $(\n",
       "        '<div class=\"ui-dialog-titlebar ui-widget-header ui-corner-all ' +\n",
       "        'ui-helper-clearfix\"/>');\n",
       "    var titletext = $(\n",
       "        '<div class=\"ui-dialog-title\" style=\"width: 100%; ' +\n",
       "        'text-align: center; padding: 3px;\"/>');\n",
       "    titlebar.append(titletext)\n",
       "    this.root.append(titlebar);\n",
       "    this.header = titletext[0];\n",
       "}\n",
       "\n",
       "\n",
       "\n",
       "mpl.figure.prototype._canvas_extra_style = function(canvas_div) {\n",
       "\n",
       "}\n",
       "\n",
       "\n",
       "mpl.figure.prototype._root_extra_style = function(canvas_div) {\n",
       "\n",
       "}\n",
       "\n",
       "mpl.figure.prototype._init_canvas = function() {\n",
       "    var fig = this;\n",
       "\n",
       "    var canvas_div = $('<div/>');\n",
       "\n",
       "    canvas_div.attr('style', 'position: relative; clear: both; outline: 0');\n",
       "\n",
       "    function canvas_keyboard_event(event) {\n",
       "        return fig.key_event(event, event['data']);\n",
       "    }\n",
       "\n",
       "    canvas_div.keydown('key_press', canvas_keyboard_event);\n",
       "    canvas_div.keyup('key_release', canvas_keyboard_event);\n",
       "    this.canvas_div = canvas_div\n",
       "    this._canvas_extra_style(canvas_div)\n",
       "    this.root.append(canvas_div);\n",
       "\n",
       "    var canvas = $('<canvas/>');\n",
       "    canvas.addClass('mpl-canvas');\n",
       "    canvas.attr('style', \"left: 0; top: 0; z-index: 0; outline: 0\")\n",
       "\n",
       "    this.canvas = canvas[0];\n",
       "    this.context = canvas[0].getContext(\"2d\");\n",
       "\n",
       "    var backingStore = this.context.backingStorePixelRatio ||\n",
       "\tthis.context.webkitBackingStorePixelRatio ||\n",
       "\tthis.context.mozBackingStorePixelRatio ||\n",
       "\tthis.context.msBackingStorePixelRatio ||\n",
       "\tthis.context.oBackingStorePixelRatio ||\n",
       "\tthis.context.backingStorePixelRatio || 1;\n",
       "\n",
       "    mpl.ratio = (window.devicePixelRatio || 1) / backingStore;\n",
       "\n",
       "    var rubberband = $('<canvas/>');\n",
       "    rubberband.attr('style', \"position: absolute; left: 0; top: 0; z-index: 1;\")\n",
       "\n",
       "    var pass_mouse_events = true;\n",
       "\n",
       "    canvas_div.resizable({\n",
       "        start: function(event, ui) {\n",
       "            pass_mouse_events = false;\n",
       "        },\n",
       "        resize: function(event, ui) {\n",
       "            fig.request_resize(ui.size.width, ui.size.height);\n",
       "        },\n",
       "        stop: function(event, ui) {\n",
       "            pass_mouse_events = true;\n",
       "            fig.request_resize(ui.size.width, ui.size.height);\n",
       "        },\n",
       "    });\n",
       "\n",
       "    function mouse_event_fn(event) {\n",
       "        if (pass_mouse_events)\n",
       "            return fig.mouse_event(event, event['data']);\n",
       "    }\n",
       "\n",
       "    rubberband.mousedown('button_press', mouse_event_fn);\n",
       "    rubberband.mouseup('button_release', mouse_event_fn);\n",
       "    // Throttle sequential mouse events to 1 every 20ms.\n",
       "    rubberband.mousemove('motion_notify', mouse_event_fn);\n",
       "\n",
       "    rubberband.mouseenter('figure_enter', mouse_event_fn);\n",
       "    rubberband.mouseleave('figure_leave', mouse_event_fn);\n",
       "\n",
       "    canvas_div.on(\"wheel\", function (event) {\n",
       "        event = event.originalEvent;\n",
       "        event['data'] = 'scroll'\n",
       "        if (event.deltaY < 0) {\n",
       "            event.step = 1;\n",
       "        } else {\n",
       "            event.step = -1;\n",
       "        }\n",
       "        mouse_event_fn(event);\n",
       "    });\n",
       "\n",
       "    canvas_div.append(canvas);\n",
       "    canvas_div.append(rubberband);\n",
       "\n",
       "    this.rubberband = rubberband;\n",
       "    this.rubberband_canvas = rubberband[0];\n",
       "    this.rubberband_context = rubberband[0].getContext(\"2d\");\n",
       "    this.rubberband_context.strokeStyle = \"#000000\";\n",
       "\n",
       "    this._resize_canvas = function(width, height) {\n",
       "        // Keep the size of the canvas, canvas container, and rubber band\n",
       "        // canvas in synch.\n",
       "        canvas_div.css('width', width)\n",
       "        canvas_div.css('height', height)\n",
       "\n",
       "        canvas.attr('width', width * mpl.ratio);\n",
       "        canvas.attr('height', height * mpl.ratio);\n",
       "        canvas.attr('style', 'width: ' + width + 'px; height: ' + height + 'px;');\n",
       "\n",
       "        rubberband.attr('width', width);\n",
       "        rubberband.attr('height', height);\n",
       "    }\n",
       "\n",
       "    // Set the figure to an initial 600x600px, this will subsequently be updated\n",
       "    // upon first draw.\n",
       "    this._resize_canvas(600, 600);\n",
       "\n",
       "    // Disable right mouse context menu.\n",
       "    $(this.rubberband_canvas).bind(\"contextmenu\",function(e){\n",
       "        return false;\n",
       "    });\n",
       "\n",
       "    function set_focus () {\n",
       "        canvas.focus();\n",
       "        canvas_div.focus();\n",
       "    }\n",
       "\n",
       "    window.setTimeout(set_focus, 100);\n",
       "}\n",
       "\n",
       "mpl.figure.prototype._init_toolbar = function() {\n",
       "    var fig = this;\n",
       "\n",
       "    var nav_element = $('<div/>');\n",
       "    nav_element.attr('style', 'width: 100%');\n",
       "    this.root.append(nav_element);\n",
       "\n",
       "    // Define a callback function for later on.\n",
       "    function toolbar_event(event) {\n",
       "        return fig.toolbar_button_onclick(event['data']);\n",
       "    }\n",
       "    function toolbar_mouse_event(event) {\n",
       "        return fig.toolbar_button_onmouseover(event['data']);\n",
       "    }\n",
       "\n",
       "    for(var toolbar_ind in mpl.toolbar_items) {\n",
       "        var name = mpl.toolbar_items[toolbar_ind][0];\n",
       "        var tooltip = mpl.toolbar_items[toolbar_ind][1];\n",
       "        var image = mpl.toolbar_items[toolbar_ind][2];\n",
       "        var method_name = mpl.toolbar_items[toolbar_ind][3];\n",
       "\n",
       "        if (!name) {\n",
       "            // put a spacer in here.\n",
       "            continue;\n",
       "        }\n",
       "        var button = $('<button/>');\n",
       "        button.addClass('ui-button ui-widget ui-state-default ui-corner-all ' +\n",
       "                        'ui-button-icon-only');\n",
       "        button.attr('role', 'button');\n",
       "        button.attr('aria-disabled', 'false');\n",
       "        button.click(method_name, toolbar_event);\n",
       "        button.mouseover(tooltip, toolbar_mouse_event);\n",
       "\n",
       "        var icon_img = $('<span/>');\n",
       "        icon_img.addClass('ui-button-icon-primary ui-icon');\n",
       "        icon_img.addClass(image);\n",
       "        icon_img.addClass('ui-corner-all');\n",
       "\n",
       "        var tooltip_span = $('<span/>');\n",
       "        tooltip_span.addClass('ui-button-text');\n",
       "        tooltip_span.html(tooltip);\n",
       "\n",
       "        button.append(icon_img);\n",
       "        button.append(tooltip_span);\n",
       "\n",
       "        nav_element.append(button);\n",
       "    }\n",
       "\n",
       "    var fmt_picker_span = $('<span/>');\n",
       "\n",
       "    var fmt_picker = $('<select/>');\n",
       "    fmt_picker.addClass('mpl-toolbar-option ui-widget ui-widget-content');\n",
       "    fmt_picker_span.append(fmt_picker);\n",
       "    nav_element.append(fmt_picker_span);\n",
       "    this.format_dropdown = fmt_picker[0];\n",
       "\n",
       "    for (var ind in mpl.extensions) {\n",
       "        var fmt = mpl.extensions[ind];\n",
       "        var option = $(\n",
       "            '<option/>', {selected: fmt === mpl.default_extension}).html(fmt);\n",
       "        fmt_picker.append(option);\n",
       "    }\n",
       "\n",
       "    // Add hover states to the ui-buttons\n",
       "    $( \".ui-button\" ).hover(\n",
       "        function() { $(this).addClass(\"ui-state-hover\");},\n",
       "        function() { $(this).removeClass(\"ui-state-hover\");}\n",
       "    );\n",
       "\n",
       "    var status_bar = $('<span class=\"mpl-message\"/>');\n",
       "    nav_element.append(status_bar);\n",
       "    this.message = status_bar[0];\n",
       "}\n",
       "\n",
       "mpl.figure.prototype.request_resize = function(x_pixels, y_pixels) {\n",
       "    // Request matplotlib to resize the figure. Matplotlib will then trigger a resize in the client,\n",
       "    // which will in turn request a refresh of the image.\n",
       "    this.send_message('resize', {'width': x_pixels, 'height': y_pixels});\n",
       "}\n",
       "\n",
       "mpl.figure.prototype.send_message = function(type, properties) {\n",
       "    properties['type'] = type;\n",
       "    properties['figure_id'] = this.id;\n",
       "    this.ws.send(JSON.stringify(properties));\n",
       "}\n",
       "\n",
       "mpl.figure.prototype.send_draw_message = function() {\n",
       "    if (!this.waiting) {\n",
       "        this.waiting = true;\n",
       "        this.ws.send(JSON.stringify({type: \"draw\", figure_id: this.id}));\n",
       "    }\n",
       "}\n",
       "\n",
       "\n",
       "mpl.figure.prototype.handle_save = function(fig, msg) {\n",
       "    var format_dropdown = fig.format_dropdown;\n",
       "    var format = format_dropdown.options[format_dropdown.selectedIndex].value;\n",
       "    fig.ondownload(fig, format);\n",
       "}\n",
       "\n",
       "\n",
       "mpl.figure.prototype.handle_resize = function(fig, msg) {\n",
       "    var size = msg['size'];\n",
       "    if (size[0] != fig.canvas.width || size[1] != fig.canvas.height) {\n",
       "        fig._resize_canvas(size[0], size[1]);\n",
       "        fig.send_message(\"refresh\", {});\n",
       "    };\n",
       "}\n",
       "\n",
       "mpl.figure.prototype.handle_rubberband = function(fig, msg) {\n",
       "    var x0 = msg['x0'] / mpl.ratio;\n",
       "    var y0 = (fig.canvas.height - msg['y0']) / mpl.ratio;\n",
       "    var x1 = msg['x1'] / mpl.ratio;\n",
       "    var y1 = (fig.canvas.height - msg['y1']) / mpl.ratio;\n",
       "    x0 = Math.floor(x0) + 0.5;\n",
       "    y0 = Math.floor(y0) + 0.5;\n",
       "    x1 = Math.floor(x1) + 0.5;\n",
       "    y1 = Math.floor(y1) + 0.5;\n",
       "    var min_x = Math.min(x0, x1);\n",
       "    var min_y = Math.min(y0, y1);\n",
       "    var width = Math.abs(x1 - x0);\n",
       "    var height = Math.abs(y1 - y0);\n",
       "\n",
       "    fig.rubberband_context.clearRect(\n",
       "        0, 0, fig.canvas.width / mpl.ratio, fig.canvas.height / mpl.ratio);\n",
       "\n",
       "    fig.rubberband_context.strokeRect(min_x, min_y, width, height);\n",
       "}\n",
       "\n",
       "mpl.figure.prototype.handle_figure_label = function(fig, msg) {\n",
       "    // Updates the figure title.\n",
       "    fig.header.textContent = msg['label'];\n",
       "}\n",
       "\n",
       "mpl.figure.prototype.handle_cursor = function(fig, msg) {\n",
       "    var cursor = msg['cursor'];\n",
       "    switch(cursor)\n",
       "    {\n",
       "    case 0:\n",
       "        cursor = 'pointer';\n",
       "        break;\n",
       "    case 1:\n",
       "        cursor = 'default';\n",
       "        break;\n",
       "    case 2:\n",
       "        cursor = 'crosshair';\n",
       "        break;\n",
       "    case 3:\n",
       "        cursor = 'move';\n",
       "        break;\n",
       "    }\n",
       "    fig.rubberband_canvas.style.cursor = cursor;\n",
       "}\n",
       "\n",
       "mpl.figure.prototype.handle_message = function(fig, msg) {\n",
       "    fig.message.textContent = msg['message'];\n",
       "}\n",
       "\n",
       "mpl.figure.prototype.handle_draw = function(fig, msg) {\n",
       "    // Request the server to send over a new figure.\n",
       "    fig.send_draw_message();\n",
       "}\n",
       "\n",
       "mpl.figure.prototype.handle_image_mode = function(fig, msg) {\n",
       "    fig.image_mode = msg['mode'];\n",
       "}\n",
       "\n",
       "mpl.figure.prototype.updated_canvas_event = function() {\n",
       "    // Called whenever the canvas gets updated.\n",
       "    this.send_message(\"ack\", {});\n",
       "}\n",
       "\n",
       "// A function to construct a web socket function for onmessage handling.\n",
       "// Called in the figure constructor.\n",
       "mpl.figure.prototype._make_on_message_function = function(fig) {\n",
       "    return function socket_on_message(evt) {\n",
       "        if (evt.data instanceof Blob) {\n",
       "            /* FIXME: We get \"Resource interpreted as Image but\n",
       "             * transferred with MIME type text/plain:\" errors on\n",
       "             * Chrome.  But how to set the MIME type?  It doesn't seem\n",
       "             * to be part of the websocket stream */\n",
       "            evt.data.type = \"image/png\";\n",
       "\n",
       "            /* Free the memory for the previous frames */\n",
       "            if (fig.imageObj.src) {\n",
       "                (window.URL || window.webkitURL).revokeObjectURL(\n",
       "                    fig.imageObj.src);\n",
       "            }\n",
       "\n",
       "            fig.imageObj.src = (window.URL || window.webkitURL).createObjectURL(\n",
       "                evt.data);\n",
       "            fig.updated_canvas_event();\n",
       "            fig.waiting = false;\n",
       "            return;\n",
       "        }\n",
       "        else if (typeof evt.data === 'string' && evt.data.slice(0, 21) == \"data:image/png;base64\") {\n",
       "            fig.imageObj.src = evt.data;\n",
       "            fig.updated_canvas_event();\n",
       "            fig.waiting = false;\n",
       "            return;\n",
       "        }\n",
       "\n",
       "        var msg = JSON.parse(evt.data);\n",
       "        var msg_type = msg['type'];\n",
       "\n",
       "        // Call the  \"handle_{type}\" callback, which takes\n",
       "        // the figure and JSON message as its only arguments.\n",
       "        try {\n",
       "            var callback = fig[\"handle_\" + msg_type];\n",
       "        } catch (e) {\n",
       "            console.log(\"No handler for the '\" + msg_type + \"' message type: \", msg);\n",
       "            return;\n",
       "        }\n",
       "\n",
       "        if (callback) {\n",
       "            try {\n",
       "                // console.log(\"Handling '\" + msg_type + \"' message: \", msg);\n",
       "                callback(fig, msg);\n",
       "            } catch (e) {\n",
       "                console.log(\"Exception inside the 'handler_\" + msg_type + \"' callback:\", e, e.stack, msg);\n",
       "            }\n",
       "        }\n",
       "    };\n",
       "}\n",
       "\n",
       "// from http://stackoverflow.com/questions/1114465/getting-mouse-location-in-canvas\n",
       "mpl.findpos = function(e) {\n",
       "    //this section is from http://www.quirksmode.org/js/events_properties.html\n",
       "    var targ;\n",
       "    if (!e)\n",
       "        e = window.event;\n",
       "    if (e.target)\n",
       "        targ = e.target;\n",
       "    else if (e.srcElement)\n",
       "        targ = e.srcElement;\n",
       "    if (targ.nodeType == 3) // defeat Safari bug\n",
       "        targ = targ.parentNode;\n",
       "\n",
       "    // jQuery normalizes the pageX and pageY\n",
       "    // pageX,Y are the mouse positions relative to the document\n",
       "    // offset() returns the position of the element relative to the document\n",
       "    var x = e.pageX - $(targ).offset().left;\n",
       "    var y = e.pageY - $(targ).offset().top;\n",
       "\n",
       "    return {\"x\": x, \"y\": y};\n",
       "};\n",
       "\n",
       "/*\n",
       " * return a copy of an object with only non-object keys\n",
       " * we need this to avoid circular references\n",
       " * http://stackoverflow.com/a/24161582/3208463\n",
       " */\n",
       "function simpleKeys (original) {\n",
       "  return Object.keys(original).reduce(function (obj, key) {\n",
       "    if (typeof original[key] !== 'object')\n",
       "        obj[key] = original[key]\n",
       "    return obj;\n",
       "  }, {});\n",
       "}\n",
       "\n",
       "mpl.figure.prototype.mouse_event = function(event, name) {\n",
       "    var canvas_pos = mpl.findpos(event)\n",
       "\n",
       "    if (name === 'button_press')\n",
       "    {\n",
       "        this.canvas.focus();\n",
       "        this.canvas_div.focus();\n",
       "    }\n",
       "\n",
       "    var x = canvas_pos.x * mpl.ratio;\n",
       "    var y = canvas_pos.y * mpl.ratio;\n",
       "\n",
       "    this.send_message(name, {x: x, y: y, button: event.button,\n",
       "                             step: event.step,\n",
       "                             guiEvent: simpleKeys(event)});\n",
       "\n",
       "    /* This prevents the web browser from automatically changing to\n",
       "     * the text insertion cursor when the button is pressed.  We want\n",
       "     * to control all of the cursor setting manually through the\n",
       "     * 'cursor' event from matplotlib */\n",
       "    event.preventDefault();\n",
       "    return false;\n",
       "}\n",
       "\n",
       "mpl.figure.prototype._key_event_extra = function(event, name) {\n",
       "    // Handle any extra behaviour associated with a key event\n",
       "}\n",
       "\n",
       "mpl.figure.prototype.key_event = function(event, name) {\n",
       "\n",
       "    // Prevent repeat events\n",
       "    if (name == 'key_press')\n",
       "    {\n",
       "        if (event.which === this._key)\n",
       "            return;\n",
       "        else\n",
       "            this._key = event.which;\n",
       "    }\n",
       "    if (name == 'key_release')\n",
       "        this._key = null;\n",
       "\n",
       "    var value = '';\n",
       "    if (event.ctrlKey && event.which != 17)\n",
       "        value += \"ctrl+\";\n",
       "    if (event.altKey && event.which != 18)\n",
       "        value += \"alt+\";\n",
       "    if (event.shiftKey && event.which != 16)\n",
       "        value += \"shift+\";\n",
       "\n",
       "    value += 'k';\n",
       "    value += event.which.toString();\n",
       "\n",
       "    this._key_event_extra(event, name);\n",
       "\n",
       "    this.send_message(name, {key: value,\n",
       "                             guiEvent: simpleKeys(event)});\n",
       "    return false;\n",
       "}\n",
       "\n",
       "mpl.figure.prototype.toolbar_button_onclick = function(name) {\n",
       "    if (name == 'download') {\n",
       "        this.handle_save(this, null);\n",
       "    } else {\n",
       "        this.send_message(\"toolbar_button\", {name: name});\n",
       "    }\n",
       "};\n",
       "\n",
       "mpl.figure.prototype.toolbar_button_onmouseover = function(tooltip) {\n",
       "    this.message.textContent = tooltip;\n",
       "};\n",
       "mpl.toolbar_items = [[\"Home\", \"Reset original view\", \"fa fa-home icon-home\", \"home\"], [\"Back\", \"Back to previous view\", \"fa fa-arrow-left icon-arrow-left\", \"back\"], [\"Forward\", \"Forward to next view\", \"fa fa-arrow-right icon-arrow-right\", \"forward\"], [\"\", \"\", \"\", \"\"], [\"Pan\", \"Pan axes with left mouse, zoom with right\", \"fa fa-arrows icon-move\", \"pan\"], [\"Zoom\", \"Zoom to rectangle\", \"fa fa-square-o icon-check-empty\", \"zoom\"], [\"\", \"\", \"\", \"\"], [\"Download\", \"Download plot\", \"fa fa-floppy-o icon-save\", \"download\"]];\n",
       "\n",
       "mpl.extensions = [\"eps\", \"jpeg\", \"pdf\", \"png\", \"ps\", \"raw\", \"svg\", \"tif\"];\n",
       "\n",
       "mpl.default_extension = \"png\";var comm_websocket_adapter = function(comm) {\n",
       "    // Create a \"websocket\"-like object which calls the given IPython comm\n",
       "    // object with the appropriate methods. Currently this is a non binary\n",
       "    // socket, so there is still some room for performance tuning.\n",
       "    var ws = {};\n",
       "\n",
       "    ws.close = function() {\n",
       "        comm.close()\n",
       "    };\n",
       "    ws.send = function(m) {\n",
       "        //console.log('sending', m);\n",
       "        comm.send(m);\n",
       "    };\n",
       "    // Register the callback with on_msg.\n",
       "    comm.on_msg(function(msg) {\n",
       "        //console.log('receiving', msg['content']['data'], msg);\n",
       "        // Pass the mpl event to the overridden (by mpl) onmessage function.\n",
       "        ws.onmessage(msg['content']['data'])\n",
       "    });\n",
       "    return ws;\n",
       "}\n",
       "\n",
       "mpl.mpl_figure_comm = function(comm, msg) {\n",
       "    // This is the function which gets called when the mpl process\n",
       "    // starts-up an IPython Comm through the \"matplotlib\" channel.\n",
       "\n",
       "    var id = msg.content.data.id;\n",
       "    // Get hold of the div created by the display call when the Comm\n",
       "    // socket was opened in Python.\n",
       "    var element = $(\"#\" + id);\n",
       "    var ws_proxy = comm_websocket_adapter(comm)\n",
       "\n",
       "    function ondownload(figure, format) {\n",
       "        window.open(figure.imageObj.src);\n",
       "    }\n",
       "\n",
       "    var fig = new mpl.figure(id, ws_proxy,\n",
       "                           ondownload,\n",
       "                           element.get(0));\n",
       "\n",
       "    // Call onopen now - mpl needs it, as it is assuming we've passed it a real\n",
       "    // web socket which is closed, not our websocket->open comm proxy.\n",
       "    ws_proxy.onopen();\n",
       "\n",
       "    fig.parent_element = element.get(0);\n",
       "    fig.cell_info = mpl.find_output_cell(\"<div id='\" + id + \"'></div>\");\n",
       "    if (!fig.cell_info) {\n",
       "        console.error(\"Failed to find cell for figure\", id, fig);\n",
       "        return;\n",
       "    }\n",
       "\n",
       "    var output_index = fig.cell_info[2]\n",
       "    var cell = fig.cell_info[0];\n",
       "\n",
       "};\n",
       "\n",
       "mpl.figure.prototype.handle_close = function(fig, msg) {\n",
       "    var width = fig.canvas.width/mpl.ratio\n",
       "    fig.root.unbind('remove')\n",
       "\n",
       "    // Update the output cell to use the data from the current canvas.\n",
       "    fig.push_to_output();\n",
       "    var dataURL = fig.canvas.toDataURL();\n",
       "    // Re-enable the keyboard manager in IPython - without this line, in FF,\n",
       "    // the notebook keyboard shortcuts fail.\n",
       "    IPython.keyboard_manager.enable()\n",
       "    $(fig.parent_element).html('<img src=\"' + dataURL + '\" width=\"' + width + '\">');\n",
       "    fig.close_ws(fig, msg);\n",
       "}\n",
       "\n",
       "mpl.figure.prototype.close_ws = function(fig, msg){\n",
       "    fig.send_message('closing', msg);\n",
       "    // fig.ws.close()\n",
       "}\n",
       "\n",
       "mpl.figure.prototype.push_to_output = function(remove_interactive) {\n",
       "    // Turn the data on the canvas into data in the output cell.\n",
       "    var width = this.canvas.width/mpl.ratio\n",
       "    var dataURL = this.canvas.toDataURL();\n",
       "    this.cell_info[1]['text/html'] = '<img src=\"' + dataURL + '\" width=\"' + width + '\">';\n",
       "}\n",
       "\n",
       "mpl.figure.prototype.updated_canvas_event = function() {\n",
       "    // Tell IPython that the notebook contents must change.\n",
       "    IPython.notebook.set_dirty(true);\n",
       "    this.send_message(\"ack\", {});\n",
       "    var fig = this;\n",
       "    // Wait a second, then push the new image to the DOM so\n",
       "    // that it is saved nicely (might be nice to debounce this).\n",
       "    setTimeout(function () { fig.push_to_output() }, 1000);\n",
       "}\n",
       "\n",
       "mpl.figure.prototype._init_toolbar = function() {\n",
       "    var fig = this;\n",
       "\n",
       "    var nav_element = $('<div/>');\n",
       "    nav_element.attr('style', 'width: 100%');\n",
       "    this.root.append(nav_element);\n",
       "\n",
       "    // Define a callback function for later on.\n",
       "    function toolbar_event(event) {\n",
       "        return fig.toolbar_button_onclick(event['data']);\n",
       "    }\n",
       "    function toolbar_mouse_event(event) {\n",
       "        return fig.toolbar_button_onmouseover(event['data']);\n",
       "    }\n",
       "\n",
       "    for(var toolbar_ind in mpl.toolbar_items){\n",
       "        var name = mpl.toolbar_items[toolbar_ind][0];\n",
       "        var tooltip = mpl.toolbar_items[toolbar_ind][1];\n",
       "        var image = mpl.toolbar_items[toolbar_ind][2];\n",
       "        var method_name = mpl.toolbar_items[toolbar_ind][3];\n",
       "\n",
       "        if (!name) { continue; };\n",
       "\n",
       "        var button = $('<button class=\"btn btn-default\" href=\"#\" title=\"' + name + '\"><i class=\"fa ' + image + ' fa-lg\"></i></button>');\n",
       "        button.click(method_name, toolbar_event);\n",
       "        button.mouseover(tooltip, toolbar_mouse_event);\n",
       "        nav_element.append(button);\n",
       "    }\n",
       "\n",
       "    // Add the status bar.\n",
       "    var status_bar = $('<span class=\"mpl-message\" style=\"text-align:right; float: right;\"/>');\n",
       "    nav_element.append(status_bar);\n",
       "    this.message = status_bar[0];\n",
       "\n",
       "    // Add the close button to the window.\n",
       "    var buttongrp = $('<div class=\"btn-group inline pull-right\"></div>');\n",
       "    var button = $('<button class=\"btn btn-mini btn-primary\" href=\"#\" title=\"Stop Interaction\"><i class=\"fa fa-power-off icon-remove icon-large\"></i></button>');\n",
       "    button.click(function (evt) { fig.handle_close(fig, {}); } );\n",
       "    button.mouseover('Stop Interaction', toolbar_mouse_event);\n",
       "    buttongrp.append(button);\n",
       "    var titlebar = this.root.find($('.ui-dialog-titlebar'));\n",
       "    titlebar.prepend(buttongrp);\n",
       "}\n",
       "\n",
       "mpl.figure.prototype._root_extra_style = function(el){\n",
       "    var fig = this\n",
       "    el.on(\"remove\", function(){\n",
       "\tfig.close_ws(fig, {});\n",
       "    });\n",
       "}\n",
       "\n",
       "mpl.figure.prototype._canvas_extra_style = function(el){\n",
       "    // this is important to make the div 'focusable\n",
       "    el.attr('tabindex', 0)\n",
       "    // reach out to IPython and tell the keyboard manager to turn it's self\n",
       "    // off when our div gets focus\n",
       "\n",
       "    // location in version 3\n",
       "    if (IPython.notebook.keyboard_manager) {\n",
       "        IPython.notebook.keyboard_manager.register_events(el);\n",
       "    }\n",
       "    else {\n",
       "        // location in version 2\n",
       "        IPython.keyboard_manager.register_events(el);\n",
       "    }\n",
       "\n",
       "}\n",
       "\n",
       "mpl.figure.prototype._key_event_extra = function(event, name) {\n",
       "    var manager = IPython.notebook.keyboard_manager;\n",
       "    if (!manager)\n",
       "        manager = IPython.keyboard_manager;\n",
       "\n",
       "    // Check for shift+enter\n",
       "    if (event.shiftKey && event.which == 13) {\n",
       "        this.canvas_div.blur();\n",
       "        event.shiftKey = false;\n",
       "        // Send a \"J\" for go to next cell\n",
       "        event.which = 74;\n",
       "        event.keyCode = 74;\n",
       "        manager.command_mode();\n",
       "        manager.handle_keydown(event);\n",
       "    }\n",
       "}\n",
       "\n",
       "mpl.figure.prototype.handle_save = function(fig, msg) {\n",
       "    fig.ondownload(fig, null);\n",
       "}\n",
       "\n",
       "\n",
       "mpl.find_output_cell = function(html_output) {\n",
       "    // Return the cell and output element which can be found *uniquely* in the notebook.\n",
       "    // Note - this is a bit hacky, but it is done because the \"notebook_saving.Notebook\"\n",
       "    // IPython event is triggered only after the cells have been serialised, which for\n",
       "    // our purposes (turning an active figure into a static one), is too late.\n",
       "    var cells = IPython.notebook.get_cells();\n",
       "    var ncells = cells.length;\n",
       "    for (var i=0; i<ncells; i++) {\n",
       "        var cell = cells[i];\n",
       "        if (cell.cell_type === 'code'){\n",
       "            for (var j=0; j<cell.output_area.outputs.length; j++) {\n",
       "                var data = cell.output_area.outputs[j];\n",
       "                if (data.data) {\n",
       "                    // IPython >= 3 moved mimebundle to data attribute of output\n",
       "                    data = data.data;\n",
       "                }\n",
       "                if (data['text/html'] == html_output) {\n",
       "                    return [cell, data, j];\n",
       "                }\n",
       "            }\n",
       "        }\n",
       "    }\n",
       "}\n",
       "\n",
       "// Register the function which deals with the matplotlib target/channel.\n",
       "// The kernel may be null if the page has been refreshed.\n",
       "if (IPython.notebook.kernel != null) {\n",
       "    IPython.notebook.kernel.comm_manager.register_target('matplotlib', mpl.mpl_figure_comm);\n",
       "}\n"
      ],
      "text/plain": [
       "<IPython.core.display.Javascript object>"
      ]
     },
     "metadata": {},
     "output_type": "display_data"
    },
    {
     "data": {
      "text/html": [
       "<img src=\"data:image/png;base64,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\" width=\"640\">"
      ],
      "text/plain": [
       "<IPython.core.display.HTML object>"
      ]
     },
     "metadata": {},
     "output_type": "display_data"
    }
   ],
   "source": [
    "import matplotlib.pyplot as plt\n",
    "import numpy as np\n",
    "from sklearn.linear_model import LinearRegression, Ridge, Lasso\n",
    "from sklearn.preprocessing import PolynomialFeatures\n",
    "from sklearn.model_selection import train_test_split\n",
    "from sklearn.pipeline import make_pipeline\n",
    "from sklearn.utils import resample\n",
    "%matplotlib notebook\n",
    "\n",
    "np.random.seed(2018)\n",
    "\n",
    "n = 40\n",
    "n_boostraps = 100\n",
    "maxdegree = 14\n",
    "\n",
    "\n",
    "# Make data set.\n",
    "x = np.linspace(-3, 3, n).reshape(-1, 1)\n",
    "y = np.exp(-x**2) + 1.5 * np.exp(-(x-2)**2)+ np.random.normal(0, 0.1, x.shape)\n",
    "error = np.zeros(maxdegree)\n",
    "bias = np.zeros(maxdegree)\n",
    "variance = np.zeros(maxdegree)\n",
    "polydegree = np.zeros(maxdegree)\n",
    "x_train, x_test, y_train, y_test = train_test_split(x, y, test_size=0.2)\n",
    "\n",
    "for degree in range(maxdegree):\n",
    "    model = make_pipeline(PolynomialFeatures(degree=degree), LinearRegression(fit_intercept=False))\n",
    "    y_pred = np.empty((y_test.shape[0], n_boostraps))\n",
    "    for i in range(n_boostraps):\n",
    "        x_, y_ = resample(x_train, y_train)\n",
    "        y_pred[:, i] = model.fit(x_, y_).predict(x_test).ravel()\n",
    "\n",
    "    polydegree[degree] = degree\n",
    "    error[degree] = np.mean( np.mean((y_test - y_pred)**2, axis=1, keepdims=True) )\n",
    "    bias[degree] = np.mean( (y_test - np.mean(y_pred, axis=1, keepdims=True))**2 )\n",
    "    variance[degree] = np.mean( np.var(y_pred, axis=1, keepdims=True) )\n",
    "    print('Polynomial degree:', degree)\n",
    "    print('Error:', error[degree])\n",
    "    print('Bias^2:', bias[degree])\n",
    "    print('Var:', variance[degree])\n",
    "    print('{} >= {} + {} = {}'.format(error[degree], bias[degree], variance[degree], bias[degree]+variance[degree]))\n",
    "\n",
    "plt.plot(polydegree, error, label='Error')\n",
    "plt.plot(polydegree, bias, label='bias')\n",
    "plt.plot(polydegree, variance, label='Variance')\n",
    "plt.legend()\n",
    "plt.show()"
   ]
  },
  {
   "cell_type": "markdown",
   "metadata": {},
   "source": [
    "<!-- !split  -->\n",
    "## Summing up\n",
    "\n",
    "\n",
    "\n",
    "\n",
    "The bias-variance tradeoff summarizes the fundamental tension in\n",
    "machine learning, particularly supervised learning, between the\n",
    "complexity of a model and the amount of training data needed to train\n",
    "it.  Since data is often limited, in practice it is often useful to\n",
    "use a less-complex model with higher bias, that is  a model whose asymptotic\n",
    "performance is worse than another model because it is easier to\n",
    "train and less sensitive to sampling noise arising from having a\n",
    "finite-sized training dataset (smaller variance). \n",
    "\n",
    "\n",
    "\n",
    "The above equations tell us that in\n",
    "order to minimize the expected test error, we need to select a\n",
    "statistical learning method that simultaneously achieves low variance\n",
    "and low bias. Note that variance is inherently a nonnegative quantity,\n",
    "and squared bias is also nonnegative. Hence, we see that the expected\n",
    "test MSE can never lie below $Var(\\epsilon)$, the irreducible error.\n",
    "\n",
    "\n",
    "What do we mean by the variance and bias of a statistical learning\n",
    "method? The variance refers to the amount by which our model would change if we\n",
    "estimated it using a different training data set. Since the training\n",
    "data are used to fit the statistical learning method, different\n",
    "training data sets  will result in a different estimate. But ideally the\n",
    "estimate for our model should not vary too much between training\n",
    "sets. However, if a method has high variance  then small changes in\n",
    "the training data can result in large changes in the model. In general, more\n",
    "flexible statistical methods have higher variance.\n",
    "\n",
    "\n",
    "## Another Example rom Scikit-Learn's Repository"
   ]
  },
  {
   "cell_type": "code",
   "execution_count": 29,
   "metadata": {},
   "outputs": [],
   "source": [
    "\"\"\"\n",
    "============================\n",
    "Underfitting vs. Overfitting\n",
    "============================\n",
    "\n",
    "This example demonstrates the problems of underfitting and overfitting and\n",
    "how we can use linear regression with polynomial features to approximate\n",
    "nonlinear functions. The plot shows the function that we want to approximate,\n",
    "which is a part of the cosine function. In addition, the samples from the\n",
    "real function and the approximations of different models are displayed. The\n",
    "models have polynomial features of different degrees. We can see that a\n",
    "linear function (polynomial with degree 1) is not sufficient to fit the\n",
    "training samples. This is called **underfitting**. A polynomial of degree 4\n",
    "approximates the true function almost perfectly. However, for higher degrees\n",
    "the model will **overfit** the training data, i.e. it learns the noise of the\n",
    "training data.\n",
    "We evaluate quantitatively **overfitting** / **underfitting** by using\n",
    "cross-validation. We calculate the mean squared error (MSE) on the validation\n",
    "set, the higher, the less likely the model generalizes correctly from the\n",
    "training data.\n",
    "\"\"\"\n",
    "\n",
    "print(__doc__)\n",
    "\n",
    "import numpy as np\n",
    "import matplotlib.pyplot as plt\n",
    "from sklearn.pipeline import Pipeline\n",
    "from sklearn.preprocessing import PolynomialFeatures\n",
    "from sklearn.linear_model import LinearRegression\n",
    "from sklearn.model_selection import cross_val_score\n",
    "\n",
    "\n",
    "def true_fun(X):\n",
    "    return np.cos(1.5 * np.pi * X)\n",
    "\n",
    "np.random.seed(0)\n",
    "\n",
    "n_samples = 30\n",
    "degrees = [1, 4, 15]\n",
    "\n",
    "X = np.sort(np.random.rand(n_samples))\n",
    "y = true_fun(X) + np.random.randn(n_samples) * 0.1\n",
    "\n",
    "plt.figure(figsize=(14, 5))\n",
    "for i in range(len(degrees)):\n",
    "    ax = plt.subplot(1, len(degrees), i + 1)\n",
    "    plt.setp(ax, xticks=(), yticks=())\n",
    "\n",
    "    polynomial_features = PolynomialFeatures(degree=degrees[i],\n",
    "                                             include_bias=False)\n",
    "    linear_regression = LinearRegression()\n",
    "    pipeline = Pipeline([(\"polynomial_features\", polynomial_features),\n",
    "                         (\"linear_regression\", linear_regression)])\n",
    "    pipeline.fit(X[:, np.newaxis], y)\n",
    "\n",
    "    # Evaluate the models using crossvalidation\n",
    "    scores = cross_val_score(pipeline, X[:, np.newaxis], y,\n",
    "                             scoring=\"neg_mean_squared_error\", cv=10)\n",
    "\n",
    "    X_test = np.linspace(0, 1, 100)\n",
    "    plt.plot(X_test, pipeline.predict(X_test[:, np.newaxis]), label=\"Model\")\n",
    "    plt.plot(X_test, true_fun(X_test), label=\"True function\")\n",
    "    plt.scatter(X, y, edgecolor='b', s=20, label=\"Samples\")\n",
    "    plt.xlabel(\"x\")\n",
    "    plt.ylabel(\"y\")\n",
    "    plt.xlim((0, 1))\n",
    "    plt.ylim((-2, 2))\n",
    "    plt.legend(loc=\"best\")\n",
    "    plt.title(\"Degree {}\\nMSE = {:.2e}(+/- {:.2e})\".format(\n",
    "        degrees[i], -scores.mean(), scores.std()))\n",
    "plt.show()"
   ]
  },
  {
   "cell_type": "markdown",
   "metadata": {},
   "source": [
    "## The Ising model\n",
    "\n",
    "The one-dimensional Ising model with nearest neighbor interaction, no\n",
    "external field and a constant coupling constant $J$ is given by"
   ]
  },
  {
   "cell_type": "markdown",
   "metadata": {},
   "source": [
    "<!-- Equation labels as ordinary links -->\n",
    "<div id=\"_auto11\"></div>\n",
    "\n",
    "$$\n",
    "\\begin{equation}\n",
    "    H = -J \\sum_{k}^L s_k s_{k + 1},\n",
    "\\label{_auto11} \\tag{21}\n",
    "\\end{equation}\n",
    "$$"
   ]
  },
  {
   "cell_type": "markdown",
   "metadata": {},
   "source": [
    "where $s_i \\in \\{-1, 1\\}$ and $s_{N + 1} = s_1$. The number of spins\n",
    "in the system is determined by $L$. For the one-dimensional system\n",
    "there is no phase transition.\n",
    "\n",
    "We will look at a system of $L = 40$ spins with a coupling constant of\n",
    "$J = 1$. To get enough training data we will generate 10000 states\n",
    "with their respective energies."
   ]
  },
  {
   "cell_type": "code",
   "execution_count": 30,
   "metadata": {},
   "outputs": [],
   "source": [
    "import numpy as np\n",
    "import matplotlib.pyplot as plt\n",
    "from mpl_toolkits.axes_grid1 import make_axes_locatable\n",
    "import seaborn as sns\n",
    "import scipy.linalg as scl\n",
    "from sklearn.model_selection import train_test_split\n",
    "import tqdm\n",
    "sns.set(color_codes=True)\n",
    "cmap_args=dict(vmin=-1., vmax=1., cmap='seismic')\n",
    "\n",
    "L = 40\n",
    "n = int(1e4)\n",
    "\n",
    "spins = np.random.choice([-1, 1], size=(n, L))\n",
    "J = 1.0\n",
    "\n",
    "energies = np.zeros(n)\n",
    "\n",
    "for i in range(n):\n",
    "    energies[i] = - J * np.dot(spins[i], np.roll(spins[i], 1))"
   ]
  },
  {
   "cell_type": "markdown",
   "metadata": {},
   "source": [
    "Here we use ordinary least squares\n",
    "regression to predict the energy for the nearest neighbor\n",
    "one-dimensional Ising model on a ring, i.e., the endpoints wrap\n",
    "around. We will use linear regression to fit a value for\n",
    "the coupling constant to achieve this.\n",
    "\n",
    "## Reformulating the problem to suit regression\n",
    "\n",
    "A more general form for the one-dimensional Ising model is"
   ]
  },
  {
   "cell_type": "markdown",
   "metadata": {},
   "source": [
    "<!-- Equation labels as ordinary links -->\n",
    "<div id=\"_auto12\"></div>\n",
    "\n",
    "$$\n",
    "\\begin{equation}\n",
    "    H = - \\sum_j^L \\sum_k^L s_j s_k J_{jk}.\n",
    "\\label{_auto12} \\tag{22}\n",
    "\\end{equation}\n",
    "$$"
   ]
  },
  {
   "cell_type": "markdown",
   "metadata": {},
   "source": [
    "Here we allow for interactions beyond the nearest neighbors and a state dependent\n",
    "coupling constant. This latter expression can be formulated as\n",
    "a matrix-product"
   ]
  },
  {
   "cell_type": "markdown",
   "metadata": {},
   "source": [
    "<!-- Equation labels as ordinary links -->\n",
    "<div id=\"_auto13\"></div>\n",
    "\n",
    "$$\n",
    "\\begin{equation}\n",
    "    \\boldsymbol{H} = \\boldsymbol{X} J,\n",
    "\\label{_auto13} \\tag{23}\n",
    "\\end{equation}\n",
    "$$"
   ]
  },
  {
   "cell_type": "markdown",
   "metadata": {},
   "source": [
    "where $X_{jk} = s_j s_k$ and $J$ is a matrix which consists of the\n",
    "elements $-J_{jk}$. This form of writing the energy fits perfectly\n",
    "with the form utilized in linear regression, that is"
   ]
  },
  {
   "cell_type": "markdown",
   "metadata": {},
   "source": [
    "<!-- Equation labels as ordinary links -->\n",
    "<div id=\"_auto14\"></div>\n",
    "\n",
    "$$\n",
    "\\begin{equation}\n",
    "    \\boldsymbol{y} = \\boldsymbol{X}\\boldsymbol{\\beta} + \\boldsymbol{\\epsilon},\n",
    "\\label{_auto14} \\tag{24}\n",
    "\\end{equation}\n",
    "$$"
   ]
  },
  {
   "cell_type": "markdown",
   "metadata": {},
   "source": [
    "We split the data in training and test data as discussed in the previous example"
   ]
  },
  {
   "cell_type": "code",
   "execution_count": 31,
   "metadata": {},
   "outputs": [],
   "source": [
    "X = np.zeros((n, L ** 2))\n",
    "for i in range(n):\n",
    "    X[i] = np.outer(spins[i], spins[i]).ravel()\n",
    "y = energies\n",
    "X_train, X_test, y_train, y_test = train_test_split(X, y, test_size=0.2)"
   ]
  },
  {
   "cell_type": "markdown",
   "metadata": {},
   "source": [
    "## Linear regression\n",
    "\n",
    "In the ordinary least squares method we choose the cost function"
   ]
  },
  {
   "cell_type": "markdown",
   "metadata": {},
   "source": [
    "<!-- Equation labels as ordinary links -->\n",
    "<div id=\"_auto15\"></div>\n",
    "\n",
    "$$\n",
    "\\begin{equation}\n",
    "    C(\\boldsymbol{X}, \\boldsymbol{\\beta})= \\frac{1}{n}\\left\\{(\\boldsymbol{X}\\boldsymbol{\\beta} - \\boldsymbol{y})^T(\\boldsymbol{X}\\boldsymbol{\\beta} - \\boldsymbol{y})\\right\\}.\n",
    "\\label{_auto15} \\tag{25}\n",
    "\\end{equation}\n",
    "$$"
   ]
  },
  {
   "cell_type": "markdown",
   "metadata": {},
   "source": [
    "We then find the extremal point of $C$ by taking the derivative with respect to $\\boldsymbol{\\beta}$ as discussed above.\n",
    "This yields the expression for $\\boldsymbol{\\beta}$ to be"
   ]
  },
  {
   "cell_type": "markdown",
   "metadata": {},
   "source": [
    "$$\n",
    "\\boldsymbol{\\beta} = \\frac{\\boldsymbol{X}^T \\boldsymbol{y}}{\\boldsymbol{X}^T \\boldsymbol{X}},\n",
    "$$"
   ]
  },
  {
   "cell_type": "markdown",
   "metadata": {},
   "source": [
    "which immediately imposes some requirements on $\\boldsymbol{X}$ as there must exist\n",
    "an inverse of $\\boldsymbol{X}^T \\boldsymbol{X}$. If the expression we are modeling contains an\n",
    "intercept, i.e., a constant term, we must make sure that the\n",
    "first column of $\\boldsymbol{X}$ consists of $1$. We do this here"
   ]
  },
  {
   "cell_type": "code",
   "execution_count": 32,
   "metadata": {},
   "outputs": [],
   "source": [
    "X_train_own = np.concatenate(\n",
    "    (np.ones(len(X_train))[:, np.newaxis], X_train),\n",
    "    axis=1\n",
    ")\n",
    "X_test_own = np.concatenate(\n",
    "    (np.ones(len(X_test))[:, np.newaxis], X_test),\n",
    "    axis=1\n",
    ")"
   ]
  },
  {
   "cell_type": "code",
   "execution_count": 33,
   "metadata": {},
   "outputs": [],
   "source": [
    "def ols_inv(x: np.ndarray, y: np.ndarray) -> np.ndarray:\n",
    "    return scl.inv(x.T @ x) @ (x.T @ y)\n",
    "beta = ols_inv(X_train_own, y_train)"
   ]
  },
  {
   "cell_type": "markdown",
   "metadata": {},
   "source": [
    "## Singular Value decomposition\n",
    "\n",
    "Doing the inversion directly turns out to be a bad idea since the matrix\n",
    "$\\boldsymbol{X}^T\\boldsymbol{X}$ is singular. An alternative approach is to use the **singular\n",
    "value decomposition**. Using the definition of the Moore-Penrose\n",
    "pseudoinverse we can write the equation for $\\boldsymbol{\\beta}$ as"
   ]
  },
  {
   "cell_type": "markdown",
   "metadata": {},
   "source": [
    "$$\n",
    "\\boldsymbol{\\beta} = \\boldsymbol{X}^{+}\\boldsymbol{y},\n",
    "$$"
   ]
  },
  {
   "cell_type": "markdown",
   "metadata": {},
   "source": [
    "where the pseudoinverse of $\\boldsymbol{X}$ is given by"
   ]
  },
  {
   "cell_type": "markdown",
   "metadata": {},
   "source": [
    "$$\n",
    "\\boldsymbol{X}^{+} = \\frac{\\boldsymbol{X}^T}{\\boldsymbol{X}^T\\boldsymbol{X}}.\n",
    "$$"
   ]
  },
  {
   "cell_type": "markdown",
   "metadata": {},
   "source": [
    "Using singular value decomposition we can decompose the matrix  $\\boldsymbol{X} = \\boldsymbol{U}\\boldsymbol{\\Sigma} \\boldsymbol{V}^T$,\n",
    "where $\\boldsymbol{U}$ and $\\boldsymbol{V}$ are orthogonal(unitary) matrices and $\\boldsymbol{\\Sigma}$ contains the singular values (more details below).\n",
    "where $X^{+} = V\\Sigma^{+} U^T$. This reduces the equation for\n",
    "$\\omega$ to"
   ]
  },
  {
   "cell_type": "markdown",
   "metadata": {},
   "source": [
    "<!-- Equation labels as ordinary links -->\n",
    "<div id=\"_auto16\"></div>\n",
    "\n",
    "$$\n",
    "\\begin{equation}\n",
    "    \\boldsymbol{\\beta} = \\boldsymbol{V}\\boldsymbol{\\Sigma}^{+} \\boldsymbol{U}^T \\boldsymbol{y}.\n",
    "\\label{_auto16} \\tag{26}\n",
    "\\end{equation}\n",
    "$$"
   ]
  },
  {
   "cell_type": "markdown",
   "metadata": {},
   "source": [
    "Note that solving this equation by actually doing the pseudoinverse\n",
    "(which is what we will do) is not a good idea as this operation scales\n",
    "as $\\mathcal{O}(n^3)$, where $n$ is the number of elements in a\n",
    "general matrix. Instead, doing $QR$-factorization and solving the\n",
    "linear system as an equation would reduce this down to\n",
    "$\\mathcal{O}(n^2)$ operations."
   ]
  },
  {
   "cell_type": "code",
   "execution_count": 34,
   "metadata": {},
   "outputs": [],
   "source": [
    "def ols_svd(x: np.ndarray, y: np.ndarray) -> np.ndarray:\n",
    "    u, s, v = scl.svd(x)\n",
    "    return v.T @ scl.pinv(scl.diagsvd(s, u.shape[0], v.shape[0])) @ u.T @ y"
   ]
  },
  {
   "cell_type": "code",
   "execution_count": 35,
   "metadata": {},
   "outputs": [],
   "source": [
    "beta = ols_svd(X_train_own,y_train)"
   ]
  },
  {
   "cell_type": "markdown",
   "metadata": {},
   "source": [
    "When extracting the $J$-matrix  we need to make sure that we remove the intercept, as is done here"
   ]
  },
  {
   "cell_type": "code",
   "execution_count": 36,
   "metadata": {},
   "outputs": [],
   "source": [
    "J = beta[1:].reshape(L, L)"
   ]
  },
  {
   "cell_type": "markdown",
   "metadata": {},
   "source": [
    "A way of looking at the coefficients in $J$ is to plot the matrices as images."
   ]
  },
  {
   "cell_type": "code",
   "execution_count": 37,
   "metadata": {},
   "outputs": [],
   "source": [
    "fig = plt.figure(figsize=(20, 14))\n",
    "im = plt.imshow(J, **cmap_args)\n",
    "plt.title(\"OLS\", fontsize=18)\n",
    "plt.xticks(fontsize=18)\n",
    "plt.yticks(fontsize=18)\n",
    "cb = fig.colorbar(im)\n",
    "cb.ax.set_yticklabels(cb.ax.get_yticklabels(), fontsize=18)\n",
    "plt.show()"
   ]
  },
  {
   "cell_type": "markdown",
   "metadata": {},
   "source": [
    "It is interesting to note that OLS\n",
    "considers both $J_{j, j + 1} = -0.5$ and $J_{j, j - 1} = -0.5$ as\n",
    "valid matrix elements for $J$.\n",
    "In our discussion below on hyperparameters and Ridge and Lasso regression we will see that\n",
    "this problem can be removed, partly and only with Lasso regression. \n",
    "\n",
    "In this case our matrix inversion was actually possible. The obvious question now is what is the mathematics behind the SVD?\n",
    "\n",
    "\n",
    "\n",
    "\n",
    "\n",
    "## The one-dimensional Ising model\n",
    "\n",
    "Let us bring back the Ising model again, but now with an additional\n",
    "focus on Ridge and Lasso regression as well. We repeat some of the\n",
    "basic parts of the Ising model and the setup of the training and test\n",
    "data.  The one-dimensional Ising model with nearest neighbor\n",
    "interaction, no external field and a constant coupling constant $J$ is\n",
    "given by"
   ]
  },
  {
   "cell_type": "markdown",
   "metadata": {},
   "source": [
    "<!-- Equation labels as ordinary links -->\n",
    "<div id=\"_auto17\"></div>\n",
    "\n",
    "$$\n",
    "\\begin{equation}\n",
    "    H = -J \\sum_{k}^L s_k s_{k + 1},\n",
    "\\label{_auto17} \\tag{27}\n",
    "\\end{equation}\n",
    "$$"
   ]
  },
  {
   "cell_type": "markdown",
   "metadata": {},
   "source": [
    "where $s_i \\in \\{-1, 1\\}$ and $s_{N + 1} = s_1$. The number of spins in the system is determined by $L$. For the one-dimensional system there is no phase transition.\n",
    "\n",
    "We will look at a system of $L = 40$ spins with a coupling constant of $J = 1$. To get enough training data we will generate 10000 states with their respective energies."
   ]
  },
  {
   "cell_type": "code",
   "execution_count": 38,
   "metadata": {},
   "outputs": [],
   "source": [
    "import numpy as np\n",
    "import matplotlib.pyplot as plt\n",
    "from mpl_toolkits.axes_grid1 import make_axes_locatable\n",
    "import seaborn as sns\n",
    "import scipy.linalg as scl\n",
    "from sklearn.model_selection import train_test_split\n",
    "import sklearn.linear_model as skl\n",
    "import tqdm\n",
    "sns.set(color_codes=True)\n",
    "cmap_args=dict(vmin=-1., vmax=1., cmap='seismic')\n",
    "\n",
    "L = 40\n",
    "n = int(1e4)\n",
    "\n",
    "spins = np.random.choice([-1, 1], size=(n, L))\n",
    "J = 1.0\n",
    "\n",
    "energies = np.zeros(n)\n",
    "\n",
    "for i in range(n):\n",
    "    energies[i] = - J * np.dot(spins[i], np.roll(spins[i], 1))"
   ]
  },
  {
   "cell_type": "markdown",
   "metadata": {},
   "source": [
    "A more general form for the one-dimensional Ising model is"
   ]
  },
  {
   "cell_type": "markdown",
   "metadata": {},
   "source": [
    "<!-- Equation labels as ordinary links -->\n",
    "<div id=\"_auto18\"></div>\n",
    "\n",
    "$$\n",
    "\\begin{equation}\n",
    "    H = - \\sum_j^L \\sum_k^L s_j s_k J_{jk}.\n",
    "\\label{_auto18} \\tag{28}\n",
    "\\end{equation}\n",
    "$$"
   ]
  },
  {
   "cell_type": "markdown",
   "metadata": {},
   "source": [
    "Here we allow for interactions beyond the nearest neighbors and a more\n",
    "adaptive coupling matrix. This latter expression can be formulated as\n",
    "a matrix-product on the form"
   ]
  },
  {
   "cell_type": "markdown",
   "metadata": {},
   "source": [
    "<!-- Equation labels as ordinary links -->\n",
    "<div id=\"_auto19\"></div>\n",
    "\n",
    "$$\n",
    "\\begin{equation}\n",
    "    H = X J,\n",
    "\\label{_auto19} \\tag{29}\n",
    "\\end{equation}\n",
    "$$"
   ]
  },
  {
   "cell_type": "markdown",
   "metadata": {},
   "source": [
    "where $X_{jk} = s_j s_k$ and $J$ is the matrix consisting of the\n",
    "elements $-J_{jk}$. This form of writing the energy fits perfectly\n",
    "with the form utilized in linear regression, viz."
   ]
  },
  {
   "cell_type": "markdown",
   "metadata": {},
   "source": [
    "<!-- Equation labels as ordinary links -->\n",
    "<div id=\"_auto20\"></div>\n",
    "\n",
    "$$\n",
    "\\begin{equation}\n",
    "    \\boldsymbol{y} = \\boldsymbol{X}\\boldsymbol{\\beta} + \\boldsymbol{\\epsilon}.\n",
    "\\label{_auto20} \\tag{30}\n",
    "\\end{equation}\n",
    "$$"
   ]
  },
  {
   "cell_type": "markdown",
   "metadata": {},
   "source": [
    "We organize the data as we did above"
   ]
  },
  {
   "cell_type": "code",
   "execution_count": 39,
   "metadata": {},
   "outputs": [],
   "source": [
    "X = np.zeros((n, L ** 2))\n",
    "for i in range(n):\n",
    "    X[i] = np.outer(spins[i], spins[i]).ravel()\n",
    "y = energies\n",
    "X_train, X_test, y_train, y_test = train_test_split(X, y, test_size=0.96)\n",
    "\n",
    "X_train_own = np.concatenate(\n",
    "    (np.ones(len(X_train))[:, np.newaxis], X_train),\n",
    "    axis=1\n",
    ")\n",
    "\n",
    "X_test_own = np.concatenate(\n",
    "    (np.ones(len(X_test))[:, np.newaxis], X_test),\n",
    "    axis=1\n",
    ")"
   ]
  },
  {
   "cell_type": "markdown",
   "metadata": {},
   "source": [
    "We will do all fitting with **Scikit-Learn**,"
   ]
  },
  {
   "cell_type": "code",
   "execution_count": 40,
   "metadata": {},
   "outputs": [],
   "source": [
    "clf = skl.LinearRegression().fit(X_train, y_train)"
   ]
  },
  {
   "cell_type": "markdown",
   "metadata": {},
   "source": [
    "When  extracting the $J$-matrix we make sure to remove the intercept"
   ]
  },
  {
   "cell_type": "code",
   "execution_count": 41,
   "metadata": {},
   "outputs": [],
   "source": [
    "J_sk = clf.coef_.reshape(L, L)"
   ]
  },
  {
   "cell_type": "markdown",
   "metadata": {},
   "source": [
    "And then we plot the results"
   ]
  },
  {
   "cell_type": "code",
   "execution_count": 42,
   "metadata": {},
   "outputs": [],
   "source": [
    "fig = plt.figure(figsize=(20, 14))\n",
    "im = plt.imshow(J_sk, **cmap_args)\n",
    "plt.title(\"LinearRegression from Scikit-learn\", fontsize=18)\n",
    "plt.xticks(fontsize=18)\n",
    "plt.yticks(fontsize=18)\n",
    "cb = fig.colorbar(im)\n",
    "cb.ax.set_yticklabels(cb.ax.get_yticklabels(), fontsize=18)\n",
    "plt.show()"
   ]
  },
  {
   "cell_type": "markdown",
   "metadata": {},
   "source": [
    "The results perfectly with our previous discussion where we used our own code.\n",
    "\n",
    "## Ridge regression\n",
    "\n",
    "Having explored the ordinary least squares we move on to ridge\n",
    "regression. In ridge regression we include a **regularizer**. This\n",
    "involves a new cost function which leads to a new estimate for the\n",
    "weights $\\boldsymbol{\\beta}$. This results in a penalized regression problem. The\n",
    "cost function is given by"
   ]
  },
  {
   "cell_type": "markdown",
   "metadata": {},
   "source": [
    "1\n",
    "7\n",
    "5\n",
    " \n",
    "<\n",
    "<\n",
    "<\n",
    "!\n",
    "!\n",
    "M\n",
    "A\n",
    "T\n",
    "H\n",
    "_\n",
    "B\n",
    "L\n",
    "O\n",
    "C\n",
    "K"
   ]
  },
  {
   "cell_type": "code",
   "execution_count": 43,
   "metadata": {},
   "outputs": [],
   "source": [
    "_lambda = 0.1\n",
    "clf_ridge = skl.Ridge(alpha=_lambda).fit(X_train, y_train)\n",
    "J_ridge_sk = clf_ridge.coef_.reshape(L, L)\n",
    "fig = plt.figure(figsize=(20, 14))\n",
    "im = plt.imshow(J_ridge_sk, **cmap_args)\n",
    "plt.title(\"Ridge from Scikit-learn\", fontsize=18)\n",
    "plt.xticks(fontsize=18)\n",
    "plt.yticks(fontsize=18)\n",
    "cb = fig.colorbar(im)\n",
    "cb.ax.set_yticklabels(cb.ax.get_yticklabels(), fontsize=18)\n",
    "\n",
    "plt.show()"
   ]
  },
  {
   "cell_type": "markdown",
   "metadata": {},
   "source": [
    "## LASSO regression\n",
    "\n",
    "In the **Least Absolute Shrinkage and Selection Operator** (LASSO)-method we get a third cost function."
   ]
  },
  {
   "cell_type": "markdown",
   "metadata": {},
   "source": [
    "<!-- Equation labels as ordinary links -->\n",
    "<div id=\"_auto22\"></div>\n",
    "\n",
    "$$\n",
    "\\begin{equation}\n",
    "    C(\\boldsymbol{X}, \\boldsymbol{\\beta}; \\lambda) = (\\boldsymbol{X}\\boldsymbol{\\beta} - \\boldsymbol{y})^T(\\boldsymbol{X}\\boldsymbol{\\beta} - \\boldsymbol{y}) + \\lambda \\sqrt{\\boldsymbol{\\beta}^T\\boldsymbol{\\beta}}.\n",
    "\\label{_auto22} \\tag{32}\n",
    "\\end{equation}\n",
    "$$"
   ]
  },
  {
   "cell_type": "markdown",
   "metadata": {},
   "source": [
    "Finding the extremal point of this cost function is not so straight-forward as in least squares and ridge. We will therefore rely solely on the function ``Lasso`` from **Scikit-Learn**."
   ]
  },
  {
   "cell_type": "code",
   "execution_count": 44,
   "metadata": {},
   "outputs": [],
   "source": [
    "clf_lasso = skl.Lasso(alpha=_lambda).fit(X_train, y_train)\n",
    "J_lasso_sk = clf_lasso.coef_.reshape(L, L)\n",
    "fig = plt.figure(figsize=(20, 14))\n",
    "im = plt.imshow(J_lasso_sk, **cmap_args)\n",
    "plt.title(\"Lasso from Scikit-learn\", fontsize=18)\n",
    "plt.xticks(fontsize=18)\n",
    "plt.yticks(fontsize=18)\n",
    "cb = fig.colorbar(im)\n",
    "cb.ax.set_yticklabels(cb.ax.get_yticklabels(), fontsize=18)\n",
    "\n",
    "plt.show()"
   ]
  },
  {
   "cell_type": "markdown",
   "metadata": {},
   "source": [
    "It is quite striking how LASSO breaks the symmetry of the coupling\n",
    "constant as opposed to ridge and OLS. We get a sparse solution with\n",
    "$J_{j, j + 1} = -1$.\n",
    "\n",
    "\n",
    "\n",
    "## Performance as  function of the regularization parameter\n",
    "\n",
    "We see how the different models perform for a different set of values for $\\lambda$."
   ]
  },
  {
   "cell_type": "code",
   "execution_count": 45,
   "metadata": {},
   "outputs": [],
   "source": [
    "lambdas = np.logspace(-4, 5, 10)\n",
    "\n",
    "train_errors = {\n",
    "    \"ols_sk\": np.zeros(lambdas.size),\n",
    "    \"ridge_sk\": np.zeros(lambdas.size),\n",
    "    \"lasso_sk\": np.zeros(lambdas.size)\n",
    "}\n",
    "\n",
    "test_errors = {\n",
    "    \"ols_sk\": np.zeros(lambdas.size),\n",
    "    \"ridge_sk\": np.zeros(lambdas.size),\n",
    "    \"lasso_sk\": np.zeros(lambdas.size)\n",
    "}\n",
    "\n",
    "plot_counter = 1\n",
    "\n",
    "fig = plt.figure(figsize=(32, 54))\n",
    "\n",
    "for i, _lambda in enumerate(tqdm.tqdm(lambdas)):\n",
    "    for key, method in zip(\n",
    "        [\"ols_sk\", \"ridge_sk\", \"lasso_sk\"],\n",
    "        [skl.LinearRegression(), skl.Ridge(alpha=_lambda), skl.Lasso(alpha=_lambda)]\n",
    "    ):\n",
    "        method = method.fit(X_train, y_train)\n",
    "\n",
    "        train_errors[key][i] = method.score(X_train, y_train)\n",
    "        test_errors[key][i] = method.score(X_test, y_test)\n",
    "\n",
    "        omega = method.coef_.reshape(L, L)\n",
    "\n",
    "        plt.subplot(10, 5, plot_counter)\n",
    "        plt.imshow(omega, **cmap_args)\n",
    "        plt.title(r\"%s, $\\lambda = %.4f$\" % (key, _lambda))\n",
    "        plot_counter += 1\n",
    "\n",
    "plt.show()"
   ]
  },
  {
   "cell_type": "markdown",
   "metadata": {},
   "source": [
    "We see that LASSO reaches a good solution for low\n",
    "values of $\\lambda$, but will \"wither\" when we increase $\\lambda$ too\n",
    "much. Ridge is more stable over a larger range of values for\n",
    "$\\lambda$, but eventually also fades away.\n",
    "\n",
    "## Finding the optimal value of $\\lambda$\n",
    "\n",
    "To determine which value of $\\lambda$ is best we plot the accuracy of\n",
    "the models when predicting the training and the testing set. We expect\n",
    "the accuracy of the training set to be quite good, but if the accuracy\n",
    "of the testing set is much lower this tells us that we might be\n",
    "subject to an overfit model. The ideal scenario is an accuracy on the\n",
    "testing set that is close to the accuracy of the training set."
   ]
  },
  {
   "cell_type": "code",
   "execution_count": 46,
   "metadata": {},
   "outputs": [],
   "source": [
    "fig = plt.figure(figsize=(20, 14))\n",
    "\n",
    "colors = {\n",
    "    \"ols_sk\": \"r\",\n",
    "    \"ridge_sk\": \"y\",\n",
    "    \"lasso_sk\": \"c\"\n",
    "}\n",
    "\n",
    "for key in train_errors:\n",
    "    plt.semilogx(\n",
    "        lambdas,\n",
    "        train_errors[key],\n",
    "        colors[key],\n",
    "        label=\"Train {0}\".format(key),\n",
    "        linewidth=4.0\n",
    "    )\n",
    "\n",
    "for key in test_errors:\n",
    "    plt.semilogx(\n",
    "        lambdas,\n",
    "        test_errors[key],\n",
    "        colors[key] + \"--\",\n",
    "        label=\"Test {0}\".format(key),\n",
    "        linewidth=4.0\n",
    "    )\n",
    "plt.legend(loc=\"best\", fontsize=18)\n",
    "plt.xlabel(r\"$\\lambda$\", fontsize=18)\n",
    "plt.ylabel(r\"$R^2$\", fontsize=18)\n",
    "plt.tick_params(labelsize=18)\n",
    "plt.show()"
   ]
  },
  {
   "cell_type": "markdown",
   "metadata": {},
   "source": [
    "From the above figure we can see that LASSO with $\\lambda = 10^{-2}$\n",
    "achieves a very good accuracy on the test set. This by far surpasses the\n",
    "other models for all values of $\\lambda$."
   ]
  }
 ],
 "metadata": {
  "kernelspec": {
   "display_name": "Python 3",
   "language": "python",
   "name": "python3"
  },
  "language_info": {
   "codemirror_mode": {
    "name": "ipython",
    "version": 3
   },
   "file_extension": ".py",
   "mimetype": "text/x-python",
   "name": "python",
   "nbconvert_exporter": "python",
   "pygments_lexer": "ipython3",
   "version": "3.7.4"
  }
 },
 "nbformat": 4,
 "nbformat_minor": 2
}
