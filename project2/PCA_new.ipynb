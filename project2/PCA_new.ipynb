{
 "cells": [
  {
   "cell_type": "code",
   "execution_count": 1,
   "metadata": {},
   "outputs": [],
   "source": [
    "import pandas as pd\n",
    "import os\n",
    "import numpy as np\n",
    "#import random as rd\n",
    "from sklearn.decomposition import PCA\n",
    "from sklearn import preprocessing #scaling\n",
    "import matplotlib.pyplot as plt\n",
    "from sklearn.preprocessing import StandardScaler"
   ]
  },
  {
   "cell_type": "code",
   "execution_count": 3,
   "metadata": {},
   "outputs": [
    {
     "name": "stdout",
     "output_type": "stream",
     "text": [
      "Index(['LIMIT_BAL', 'SEX', 'EDUCATION', 'MARRIAGE', 'AGE', 'PAY_1', 'PAY_2',\n",
      "       'PAY_3', 'PAY_4', 'PAY_5', 'PAY_6', 'BILL_AMT1', 'BILL_AMT2',\n",
      "       'BILL_AMT3', 'BILL_AMT4', 'BILL_AMT5', 'BILL_AMT6', 'PAY_AMT1',\n",
      "       'PAY_AMT2', 'PAY_AMT3', 'PAY_AMT4', 'PAY_AMT5', 'PAY_AMT6',\n",
      "       'defPayNextMonth'],\n",
      "      dtype='object')\n",
      "These are the new observed values for PAY_1:\n",
      " 0    17207\n",
      "-1     5633\n",
      " 1     3662\n",
      " 2     2640\n",
      " 3      320\n",
      " 4       76\n",
      " 5       24\n",
      " 8       19\n",
      " 6       11\n",
      " 7        9\n",
      "Name: PAY_1, dtype: int64\n",
      "These are the new observed values for PAY_2:\n",
      " 0    19198\n",
      "-1     5990\n",
      " 2     3904\n",
      " 3      326\n",
      " 4       97\n",
      " 1       28\n",
      " 5       25\n",
      " 7       20\n",
      " 6       12\n",
      " 8        1\n",
      "Name: PAY_2, dtype: int64\n",
      "These are the new observed values for PAY_3:\n",
      " 0    19545\n",
      "-1     5863\n",
      " 2     3802\n",
      " 3      237\n",
      " 4       76\n",
      " 7       27\n",
      " 6       23\n",
      " 5       21\n",
      " 1        4\n",
      " 8        3\n",
      "Name: PAY_3, dtype: int64\n",
      "These are the new observed values for PAY_4:\n",
      " 0    20491\n",
      "-1     5617\n",
      " 2     3142\n",
      " 3      180\n",
      " 4       69\n",
      " 7       58\n",
      " 5       35\n",
      " 6        5\n",
      " 8        2\n",
      " 1        2\n",
      "Name: PAY_4, dtype: int64\n",
      "These are the new observed values for PAY_5:\n",
      " 0    21163\n",
      "-1     5480\n",
      " 2     2617\n",
      " 3      177\n",
      " 4       84\n",
      " 7       58\n",
      " 5       17\n",
      " 6        4\n",
      " 8        1\n",
      "Name: PAY_5, dtype: int64\n",
      "These are the new observed values for PAY_6:\n",
      " 0    20859\n",
      "-1     5674\n",
      " 2     2756\n",
      " 3      183\n",
      " 4       49\n",
      " 7       46\n",
      " 6       19\n",
      " 5       13\n",
      " 8        2\n",
      "Name: PAY_6, dtype: int64\n"
     ]
    }
   ],
   "source": [
    "#Reading file\n",
    "cwd=os.getcwd()\n",
    "filename=cwd+ '\\default of credit card clients.xls'\n",
    "df = pd.read_excel(filename, header=1, skiprows=0, index_col=0)\n",
    "df.rename(index=str, columns={\"default payment next month\": \"defPayNextMonth\",\"PAY_0\":\"PAY_1\"}, inplace=True)\n",
    "print(df.keys())\n",
    "sex = [1,2]\n",
    "education = [1,2,3,4]\n",
    "marriage = [1,2,3]\n",
    "df = df[df[\"SEX\"].isin(sex)]\n",
    "df = df[df['EDUCATION'].isin(education)]\n",
    "df = df[df['MARRIAGE'].isin(marriage)]\n",
    "#We observe undocumented values for repayment status variables: -2 and 0.\n",
    "#PAY-->4030 remaining observations-->too many 0 and -2\n",
    "len(df) #29601 remaining observation\n",
    "# when pay=-2-->0\n",
    "def adjust_pay(pay_vars):\n",
    "    for i in pay_vars:\n",
    "        fil = (df[i] == -2) | (df[i] == 0)\n",
    "        df.loc[fil,i] = 0\n",
    "        print(\"These are the new observed values for \" + str(i) + \":\")\n",
    "        print(df[i].value_counts())\n",
    "pay_variables= df[['PAY_1','PAY_2', 'PAY_3', 'PAY_4', 'PAY_5', 'PAY_6']]\n",
    "new_pay_variables=adjust_pay(pay_variables)\n",
    "#EDA\n",
    "data=df.loc[:, df.columns != 'defPayNextMonth'].values\n",
    "target=df.loc[:, df.columns == 'defPayNextMonth'].values"
   ]
  },
  {
   "cell_type": "code",
   "execution_count": 6,
   "metadata": {},
   "outputs": [
    {
     "data": {
      "image/png": "[encoded data removed]",
      "text/plain": [
       "<Figure size 432x288 with 1 Axes>"
      ]
     },
     "metadata": {
      "needs_background": "light"
     },
     "output_type": "display_data"
    },
    {
     "data": {
      "image/png": "[encoded data removed]",
      "text/plain": [
       "<Figure size 432x288 with 1 Axes>"
      ]
     },
     "metadata": {
      "needs_background": "light"
     },
     "output_type": "display_data"
    },
    {
     "data": {
      "image/png": "[encoded data removed]",
      "text/plain": [
       "<Figure size 432x288 with 1 Axes>"
      ]
     },
     "metadata": {
      "needs_background": "light"
     },
     "output_type": "display_data"
    },
    {
     "name": "stdout",
     "output_type": "stream",
     "text": [
      "loading scores for the top 10 of PC1\n",
      "14    0.386815\n",
      "15    0.384591\n",
      "13    0.382889\n",
      "12    0.378040\n",
      "16    0.377150\n",
      "11    0.366780\n",
      "0     0.132415\n",
      "17    0.119418\n",
      "19    0.111756\n",
      "18    0.102361\n",
      "dtype: float64\n",
      "loading scores for the top 10 of PC2\n",
      "8    -0.394638\n",
      "7    -0.385622\n",
      "9    -0.384195\n",
      "6    -0.373565\n",
      "10   -0.356937\n",
      "5    -0.342493\n",
      "0     0.237555\n",
      "19    0.128698\n",
      "17    0.125000\n",
      "20    0.119190\n",
      "dtype: float64\n"
     ]
    }
   ],
   "source": [
    "scaled_data=pd.DataFrame(StandardScaler().fit_transform(data))\n",
    "pca=PCA()\n",
    "pca1=PCA(0.95)\n",
    "pca2=PCA((0.95)**(25)) #Percentage of Cumulative Variance(with \"Zani\" consideration)-->threshold**p(n. of variables)\n",
    "pcas=[pca,pca1,pca2]\n",
    "for i in pcas:\n",
    "    i.fit(scaled_data)\n",
    "    i_data=i.transform(scaled_data)\n",
    "    per_var=np.round(i.explained_variance_ratio_*100, decimals=1)\n",
    "    labels=[\"PC\"+str(x) for x in range (1,len(per_var)+1)]\n",
    "\n",
    "    plt.bar(x=range(1,len(per_var)+1),height=per_var, tick_label=labels)\n",
    "    plt.ylabel(\"Percentage of Explained Variance\")\n",
    "    plt.xlabel(\"Principal Component\")\n",
    "    plt.title(\"Scree plot\")\n",
    "    plt.show()\n",
    "loading_scores_1=pd.Series(pca.components_[0])\n",
    "sorted_loading_scores_1=loading_scores_1.abs().sort_values(ascending=False)\n",
    "top_10_var_PC1=sorted_loading_scores_1[0:10].index.values\n",
    "print(\"loading scores for the top 10 of PC1\")\n",
    "print(loading_scores_1[top_10_var_PC1])\n",
    "loading_scores_2=pd.Series(pca.components_[1])\n",
    "sorted_loading_scores_2=loading_scores_2.abs().sort_values(ascending=False)\n",
    "top_10_var_PC2=sorted_loading_scores_2[0:10].index.values\n",
    "print(\"loading scores for the top 10 of PC2\")\n",
    "print(loading_scores_2[top_10_var_PC2])"
   ]
  }
 ],
 "metadata": {
  "kernelspec": {
   "display_name": "Python 3",
   "language": "python",
   "name": "python3"
  },
  "language_info": {
   "codemirror_mode": {
    "name": "ipython",
    "version": 3
   },
   "file_extension": ".py",
   "mimetype": "text/x-python",
   "name": "python",
   "nbconvert_exporter": "python",
   "pygments_lexer": "ipython3",
   "version": "3.7.4"
  }
 },
 "nbformat": 4,
 "nbformat_minor": 2
}
